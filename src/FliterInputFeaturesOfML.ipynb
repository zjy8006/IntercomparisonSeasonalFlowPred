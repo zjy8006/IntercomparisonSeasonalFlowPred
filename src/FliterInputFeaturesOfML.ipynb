{
 "cells": [
  {
   "cell_type": "code",
   "execution_count": 12,
   "metadata": {},
   "outputs": [],
   "source": [
    "import pandas as pd\n",
    "from VIF_test import compute_VIF,recursive_compute_VIF\n",
    "hydro_stations = ['Tangnaihai','Guide','Xunhua']\n",
    "hydrostation_abbrs = {'Tangnaihai':'TNH','Guide':'GD','Xunhua':'XH'}"
   ]
  },
  {
   "cell_type": "code",
   "execution_count": 20,
   "metadata": {},
   "outputs": [
    {
     "name": "stdout",
     "output_type": "stream",
     "text": [
      "-----remove SLR(MJ/m^2)-----\n",
      "-----remove AVG-RHU(%)-----\n",
      "-----remove AVG-WV(m/s)-----\n",
      "['MAX-TEM(C)', 'P2020(mm)', 'MIN-TEM(C)']\n",
      "-----remove SLR(MJ/m^2)-----\n",
      "-----remove AVG-RHU(%)-----\n",
      "-----remove AVG-WV(m/s)-----\n",
      "['P2020(mm)', 'MAX-TEM(C)', 'MIN-TEM(C)']\n",
      "-----remove SLR(MJ/m^2)-----\n",
      "-----remove AVG-RHU(%)-----\n",
      "-----remove AVG-WV(m/s)-----\n",
      "['P2020(mm)', 'MAX-TEM(C)', 'MIN-TEM(C)']\n",
      "========================================\n",
      "-----remove latq_cha(mm)-----\n",
      "-----remove surq_cha(mm)-----\n",
      "-----remove et(mm)-----\n"
     ]
    },
    {
     "name": "stderr",
     "output_type": "stream",
     "text": [
      "c:\\Users\\ZJY\\miniconda3\\envs\\pyTorch\\Lib\\site-packages\\statsmodels\\stats\\outliers_influence.py:197: RuntimeWarning: divide by zero encountered in scalar divide\n",
      "  vif = 1. / (1. - r_squared_i)\n",
      "c:\\Users\\ZJY\\miniconda3\\envs\\pyTorch\\Lib\\site-packages\\statsmodels\\stats\\outliers_influence.py:197: RuntimeWarning: divide by zero encountered in scalar divide\n",
      "  vif = 1. / (1. - r_squared_i)\n"
     ]
    },
    {
     "name": "stdout",
     "output_type": "stream",
     "text": [
      "-----remove sw_init(mm)-----\n",
      "-----remove wateryld(mm)-----\n",
      "-----remove sw_ave(mm)-----\n",
      "-----remove sno_final(mm)-----\n",
      "-----remove lagsurf(mm)-----\n",
      "-----remove precip(mm)-----\n",
      "-----remove latq(mm)-----\n",
      "-----remove sw_final(mm)-----\n",
      "-----remove laglatq(mm)-----\n",
      "-----remove sno_init(mm)-----\n",
      "-----remove ecanopy(mm)-----\n",
      "-----remove esoil(mm)-----\n",
      "-----remove cn-----\n",
      "-----remove sw_300(mm)-----\n",
      "-----remove pet(mm)-----\n",
      "-----remove wet_stor(mm)-----\n",
      "['perc(mm)', 'surq_cont(mm)', 'snomlt(mm)', 'eplant(mm)', 'wet_evap(mm)', 'wet_oflo(mm)', 'snofall(mm)', 'surq_gen(mm)', 'snopack(mm)', 'sw_change(mm)']\n",
      "-----remove surq_cha(mm)-----\n",
      "-----remove latq(mm)-----\n",
      "-----remove et(mm)-----\n"
     ]
    },
    {
     "name": "stderr",
     "output_type": "stream",
     "text": [
      "c:\\Users\\ZJY\\miniconda3\\envs\\pyTorch\\Lib\\site-packages\\statsmodels\\stats\\outliers_influence.py:197: RuntimeWarning: divide by zero encountered in scalar divide\n",
      "  vif = 1. / (1. - r_squared_i)\n",
      "c:\\Users\\ZJY\\miniconda3\\envs\\pyTorch\\Lib\\site-packages\\statsmodels\\stats\\outliers_influence.py:197: RuntimeWarning: divide by zero encountered in scalar divide\n",
      "  vif = 1. / (1. - r_squared_i)\n"
     ]
    },
    {
     "name": "stdout",
     "output_type": "stream",
     "text": [
      "-----remove sw_init(mm)-----\n",
      "-----remove wateryld(mm)-----\n",
      "-----remove sw_ave(mm)-----\n",
      "-----remove sno_final(mm)-----\n",
      "-----remove laglatq(mm)-----\n",
      "-----remove precip(mm)-----\n",
      "-----remove lagsurf(mm)-----\n",
      "-----remove sw_300(mm)-----\n",
      "-----remove latq_cha(mm)-----\n",
      "-----remove sno_init(mm)-----\n",
      "-----remove esoil(mm)-----\n",
      "-----remove ecanopy(mm)-----\n",
      "-----remove cn-----\n",
      "-----remove pet(mm)-----\n",
      "-----remove sw_final(mm)-----\n",
      "-----remove wet_stor(mm)-----\n",
      "-----remove eplant(mm)-----\n",
      "['perc(mm)', 'surq_cont(mm)', 'snomlt(mm)', 'wet_evap(mm)', 'wet_oflo(mm)', 'surq_gen(mm)', 'snofall(mm)', 'snopack(mm)', 'sw_change(mm)']\n",
      "-----remove latq_cha(mm)-----\n",
      "-----remove surq_cont(mm)-----\n",
      "-----remove et(mm)-----\n",
      "-----remove sw_init(mm)-----\n"
     ]
    },
    {
     "name": "stderr",
     "output_type": "stream",
     "text": [
      "c:\\Users\\ZJY\\miniconda3\\envs\\pyTorch\\Lib\\site-packages\\statsmodels\\stats\\outliers_influence.py:197: RuntimeWarning: divide by zero encountered in scalar divide\n",
      "  vif = 1. / (1. - r_squared_i)\n",
      "c:\\Users\\ZJY\\miniconda3\\envs\\pyTorch\\Lib\\site-packages\\statsmodels\\stats\\outliers_influence.py:197: RuntimeWarning: divide by zero encountered in scalar divide\n",
      "  vif = 1. / (1. - r_squared_i)\n"
     ]
    },
    {
     "name": "stdout",
     "output_type": "stream",
     "text": [
      "-----remove wateryld(mm)-----\n",
      "-----remove sw_ave(mm)-----\n",
      "-----remove laglatq(mm)-----\n",
      "-----remove sno_final(mm)-----\n",
      "-----remove lagsurf(mm)-----\n",
      "-----remove precip(mm)-----\n",
      "-----remove perc(mm)-----\n",
      "-----remove sw_300(mm)-----\n",
      "-----remove sno_init(mm)-----\n",
      "-----remove ecanopy(mm)-----\n",
      "-----remove esoil(mm)-----\n",
      "-----remove cn-----\n",
      "-----remove sw_final(mm)-----\n",
      "-----remove pet(mm)-----\n",
      "-----remove wet_stor(mm)-----\n",
      "['latq(mm)', 'eplant(mm)', 'wet_evap(mm)', 'surq_cha(mm)', 'wet_oflo(mm)', 'surq_gen(mm)', 'snomlt(mm)', 'snofall(mm)', 'sw_change(mm)', 'snopack(mm)']\n"
     ]
    }
   ],
   "source": [
    "# df = pd.read_csv('../result/CandidateFullFeatureData/CalvalFeatureDataForML_TNH.csv',index_col=['date'], parse_dates=['date'])\n",
    "# # drop the flow(m^3/s) column\n",
    "# df = df.drop(columns=['flow(m^3/s)'])\n",
    "for hydro_station in hydro_stations:\n",
    "    df = pd.read_csv(f'../samples/InputOutputSamples_hydrosimyr_swatpsim/MeteAVGCalvalFeatureDataForML_CALVAL_{hydro_station}.csv',index_col=['date'], parse_dates=['date'])\n",
    "    df = df[['P2020(mm)','MAX-TEM(C)','MIN-TEM(C)','SLR(MJ/m^2)','AVG-RHU(%)','AVG-WV(m/s)']]\n",
    "    recursive_compute_VIF(df,threshold=10) # \n",
    "\n",
    "print(\"=\"*40)\n",
    "\n",
    "for hydro_station in hydro_stations:\n",
    "    df = pd.read_csv(f'../result/SWATPlusCalValSimData/YellowRiver{hydrostation_abbrs[hydro_station]}_BasinWaterBalance_1972_2019.csv',index_col=['date'],parse_dates=['date'])\n",
    "    df = df.drop(['mon','day','yr','name'],axis=1)\n",
    "    # drop columns where all values equal to 0\n",
    "    df = df.loc[:, (df != 0).any(axis=0)]\n",
    "    # Convert all columns to numeric type\n",
    "    recursive_compute_VIF(df,threshold=10)\n",
    "\n"
   ]
  }
 ],
 "metadata": {
  "kernelspec": {
   "display_name": "pyTorch",
   "language": "python",
   "name": "python3"
  },
  "language_info": {
   "codemirror_mode": {
    "name": "ipython",
    "version": 3
   },
   "file_extension": ".py",
   "mimetype": "text/x-python",
   "name": "python",
   "nbconvert_exporter": "python",
   "pygments_lexer": "ipython3",
   "version": "3.12.7"
  }
 },
 "nbformat": 4,
 "nbformat_minor": 2
}
