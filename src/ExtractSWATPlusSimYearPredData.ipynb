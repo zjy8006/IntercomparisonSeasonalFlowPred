{
 "cells": [
  {
   "cell_type": "code",
   "execution_count": 1,
   "metadata": {},
   "outputs": [],
   "source": [
    "import pandas as pd\n",
    "import numpy as np\n",
    "from metrics import TCS\n",
    "from sklearn.metrics import r2_score,mean_absolute_error,mean_squared_error\n",
    "import plotly.express as px\n",
    "import plotly.graph_objects as go\n",
    "import plotly.io as pio\n",
    "pio.templates.default = 'plotly_white'\n",
    "plot_template = dict(\n",
    "    layout=go.Layout({\n",
    "        'font_size': 8,\n",
    "        'xaxis_title_font_size': 8,\n",
    "        'yaxis_title_font_size': 8,\n",
    "        }   \n",
    "))\n",
    "hydro_stations = ['Tangnaihai','Guide','Xunhua']\n",
    "hydrostation_abbrs = {'Tangnaihai':'TNH','Guide':'GD','Xunhua':'XH'}\n",
    "hydrostation_channel = {'Tangnaihai':'3','Guide':'14','Xunhua':'9'}\n"
   ]
  },
  {
   "cell_type": "code",
   "execution_count": 2,
   "metadata": {},
   "outputs": [],
   "source": [
    "pred_years = np.arange(2015,2020)\n",
    "index = pd.date_range(start=f'{pred_years[0]}-01-01',end=f'{pred_years[-1]}-12-31',freq='MS')\n",
    "for hydro_station in hydro_stations:\n",
    "    hydro_station_abbr = hydrostation_abbrs[hydro_station]\n",
    "    hydro_station_channel = hydrostation_channel[hydro_station]\n",
    "    pred_df_swatp_mete_simyr = pd.DataFrame(index=index,columns=['obs','pred'])\n",
    "    pred_df_swatp_mete_simyr.index.name='date'\n",
    "    pred_df_swatp_hydro_simyr = pd.DataFrame(index=index,columns=['obs','pred'])\n",
    "    pred_df_swatp_hydro_simyr.index.name='date'\n",
    "    \n",
    "    obs_df = pd.read_csv(f'../data/{hydro_station.lower()}_natural_monthly_flow.csv',index_col=['date'],parse_dates=['date'])\n",
    "    obs_his = obs_df.copy().loc[:f'{pred_years[0]-1}-12-31']\n",
    "    obs_his_monthly_mean = obs_his.groupby(obs_his.index.month)['flow(m^3/s)'].mean()\n",
    "    # Create a new DataFrame with monthly average flow for 2015\n",
    "    df_monthly_avg = pd.DataFrame(index=index)\n",
    "    # Replicate the monthly average flow for years 2015-2019\n",
    "    for year in range(pred_years[0],pred_years[-1]+1):\n",
    "        for month in range(1,13):   \n",
    "            df_monthly_avg.loc[f'{year}-{month}-01','flow(m^3/s)'] = obs_his_monthly_mean[month]\n",
    "\n",
    "    \n",
    "    for pred_year in pred_years:\n",
    "        date_range = pd.date_range(start=f'{pred_year}-01-01',end=f'{pred_year}-12-31',freq='MS')\n",
    "        set_index = pd.DatetimeIndex(date_range)\n",
    "        pred_data_swatp_mete_simyr = pd.read_csv(f'../result/SWATPlusPredUsingMeteSimYearData/Channel_{hydro_station_channel}_Monthly_River-Flow_{hydro_station_abbr}_pred{pred_year}.csv',index_col=['Date'],parse_dates=['Date'])\n",
    "        pred_data_swatp_hydro_simyr = pd.read_csv(f'../result/SWATPlusPredUsingHydroSimYearData/Channel_{hydro_station_channel}_Monthly_River-Flow_{hydro_station_abbr}_pred{pred_year}.csv',index_col=['Date'],parse_dates=['Date'])\n",
    "        \n",
    "        pred_df_swatp_mete_simyr.loc[f'{pred_year}-01-01':f'{pred_year}-12-31','pred'] = pred_data_swatp_mete_simyr.loc[f'{pred_year}-01-01':f'{pred_year}-12-31','Value'].values\n",
    "        pred_df_swatp_mete_simyr.loc[f'{pred_year}-01-01':f'{pred_year}-12-31','obs'] = obs_df.loc[f'{pred_year}-01-01':f'{pred_year}-12-31','flow(m^3/s)'].values\n",
    "        pred_df_swatp_hydro_simyr.loc[f'{pred_year}-01-01':f'{pred_year}-12-31','pred'] = pred_data_swatp_hydro_simyr.loc[f'{pred_year}-01-01':f'{pred_year}-12-31','Value'].values\n",
    "        pred_df_swatp_hydro_simyr.loc[f'{pred_year}-01-01':f'{pred_year}-12-31','obs'] = obs_df.loc[f'{pred_year}-01-01':f'{pred_year}-12-31','flow(m^3/s)'].values\n",
    "       \n",
    "        \n",
    "    pred_df_swatp_mete_simyr.to_csv(f'../result/SWATPlusPredUsingMeteSimYearData/{hydro_station}_SWATPlus_pred_obs_{pred_years[0]}_{pred_years[-1]}.csv')\n",
    "    pred_df_swatp_hydro_simyr.to_csv(f'../result/SWATPlusPredUsingHydroSimYearData/{hydro_station}_SWATPlus_pred_obs_{pred_years[0]}_{pred_years[-1]}.csv')"
   ]
  }
 ],
 "metadata": {
  "kernelspec": {
   "display_name": "pyTorch",
   "language": "python",
   "name": "python3"
  },
  "language_info": {
   "codemirror_mode": {
    "name": "ipython",
    "version": 3
   },
   "file_extension": ".py",
   "mimetype": "text/x-python",
   "name": "python",
   "nbconvert_exporter": "python",
   "pygments_lexer": "ipython3",
   "version": "3.12.7"
  }
 },
 "nbformat": 4,
 "nbformat_minor": 2
}
