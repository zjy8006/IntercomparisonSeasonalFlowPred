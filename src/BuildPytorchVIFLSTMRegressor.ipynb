{
 "cells": [
  {
   "cell_type": "code",
   "execution_count": 27,
   "metadata": {},
   "outputs": [],
   "source": [
    "import pandas as pd\n",
    "import numpy as np\n",
    "import os\n",
    "import calendar\n",
    "from sklearn.preprocessing import MinMaxScaler\n",
    "import matplotlib.pyplot as plt\n",
    "from matplotlib.colors import LinearSegmentedColormap\n",
    "import optuna\n",
    "import torch\n",
    "from optuna.trial import TrialState\n",
    "from torch.utils.data import Dataset, DataLoader, TensorDataset,Subset\n",
    "from captum.attr import IntegratedGradients\n",
    "from captum.attr import visualization as viz\n",
    "import plotly.express as px\n",
    "import plotly.graph_objects as go\n",
    "import plotly.io as pio\n",
    "pio.templates.default = \"plotly_white\"\n",
    "from sklearn.linear_model import LinearRegression\n",
    "import seaborn as sns\n",
    "plot_template = dict(\n",
    "    layout=go.Layout({\n",
    "        \"font_size\": 18,\n",
    "        \"xaxis_title_font_size\": 24,\n",
    "        \"yaxis_title_font_size\": 24})\n",
    ")\n",
    "\n",
    "from Dataset import SimulatedSequenceDataset\n",
    "from LSTMRegressor import LSTMRegressor,save_model,load_model\n",
    "from LSTMRegressor import DEVICE\n",
    "from LSTMRegressor import train_model\n",
    "from LSTMRegressor import test_model\n",
    "from LSTMRegressor import predict\n",
    "from LSTMRegressor import plot_train_val_loss_cv\n",
    "from LSTMRegressor import save_best_trial\n",
    "from LSTMRegressor import load_best_trial\n",
    "from LSTMRegressor import Objective_CV,Objective\n",
    "from metrics import NSE,NNSE,RMSE,NRMSE,ZNRMSE,MAE,PPTS,LPTS,MAPE,R2\n",
    "from sklearn.metrics import r2_score\n",
    "\n",
    "hydro_stations = [\n",
    "    'Tangnaihai',\n",
    "    'Guide',\n",
    "    'Xunhua'\n",
    "]\n",
    "\n",
    "hydrostation_abbrs = {'Tangnaihai':'TNH','Guide':'GD','Xunhua':'XH'}\n",
    "hydrostation_channel = {'Tangnaihai':'3','Guide':'14','Xunhua':'9'}\n",
    "# read observed climate data\n",
    "hydrostation_metestations = {\n",
    "    'Tangnaihai': [\n",
    "        '玛多', '达日', '久治', '红原', '若尔盖', '玛曲', '玛沁', '河南', '兴海',\n",
    "    ],\n",
    "    'Guide': [\n",
    "        '玛多', '达日', '久治', '红原', '若尔盖', '玛曲', '玛沁', '河南', '兴海',\n",
    "        '贵南', '共和', '贵德',\n",
    "    ],\n",
    "    'Xunhua': [\n",
    "        '玛多', '达日', '久治', '红原', '若尔盖', '玛曲', '玛沁', '河南', '兴海',\n",
    "        '贵南', '共和', '贵德', '同仁',\n",
    "    ]\n",
    "}"
   ]
  },
  {
   "cell_type": "code",
   "execution_count": 28,
   "metadata": {},
   "outputs": [
    {
     "name": "stdout",
     "output_type": "stream",
     "text": [
      "Warning: ARIMASimFlow column not found in data for Tangnaihai station, year 2015\n",
      "R2 for sim at Tangnaihai(1972-2014) 0.9742207343031564\n",
      "model already exists in ../model/12MonthlyFlowProcessForecast_Tangnaihai/LSTMRegressorModel/InputOutputSamples_hydrosimyr_swatpsim/pred2015/\n",
      "Warning: ARIMASimFlow column not found in data for Tangnaihai station, year 2016\n",
      "R2 for sim at Tangnaihai(1972-2015) 0.8422679737404372\n",
      "model already exists in ../model/12MonthlyFlowProcessForecast_Tangnaihai/LSTMRegressorModel/InputOutputSamples_hydrosimyr_swatpsim/pred2016/\n",
      "Warning: ARIMASimFlow column not found in data for Tangnaihai station, year 2017\n",
      "R2 for sim at Tangnaihai(1972-2016) 0.905596291249159\n",
      "model already exists in ../model/12MonthlyFlowProcessForecast_Tangnaihai/LSTMRegressorModel/InputOutputSamples_hydrosimyr_swatpsim/pred2017/\n",
      "Warning: ARIMASimFlow column not found in data for Tangnaihai station, year 2018\n",
      "R2 for sim at Tangnaihai(1972-2017) 0.8815012237392648\n",
      "model already exists in ../model/12MonthlyFlowProcessForecast_Tangnaihai/LSTMRegressorModel/InputOutputSamples_hydrosimyr_swatpsim/pred2018/\n",
      "Warning: ARIMASimFlow column not found in data for Tangnaihai station, year 2019\n",
      "R2 for sim at Tangnaihai(1972-2018) 0.7722030022279798\n",
      "model already exists in ../model/12MonthlyFlowProcessForecast_Tangnaihai/LSTMRegressorModel/InputOutputSamples_hydrosimyr_swatpsim/pred2019/\n",
      "R2 for pred at Tangnaihai(2015-2019) 0.22649960076542852\n"
     ]
    },
    {
     "data": {
      "application/vnd.plotly.v1+json": {
       "config": {
        "plotlyServerURL": "https://plot.ly"
       },
       "data": [
        {
         "mode": "lines",
         "name": "obs",
         "type": "scatter",
         "x": [
          "2015-01-01T00:00:00",
          "2015-02-01T00:00:00",
          "2015-03-01T00:00:00",
          "2015-04-01T00:00:00",
          "2015-05-01T00:00:00",
          "2015-06-01T00:00:00",
          "2015-07-01T00:00:00",
          "2015-08-01T00:00:00",
          "2015-09-01T00:00:00",
          "2015-10-01T00:00:00",
          "2015-11-01T00:00:00",
          "2015-12-01T00:00:00",
          "2016-01-01T00:00:00",
          "2016-02-01T00:00:00",
          "2016-03-01T00:00:00",
          "2016-04-01T00:00:00",
          "2016-05-01T00:00:00",
          "2016-06-01T00:00:00",
          "2016-07-01T00:00:00",
          "2016-08-01T00:00:00",
          "2016-09-01T00:00:00",
          "2016-10-01T00:00:00",
          "2016-11-01T00:00:00",
          "2016-12-01T00:00:00",
          "2017-01-01T00:00:00",
          "2017-02-01T00:00:00",
          "2017-03-01T00:00:00",
          "2017-04-01T00:00:00",
          "2017-05-01T00:00:00",
          "2017-06-01T00:00:00",
          "2017-07-01T00:00:00",
          "2017-08-01T00:00:00",
          "2017-09-01T00:00:00",
          "2017-10-01T00:00:00",
          "2017-11-01T00:00:00",
          "2017-12-01T00:00:00",
          "2018-01-01T00:00:00",
          "2018-02-01T00:00:00",
          "2018-03-01T00:00:00",
          "2018-04-01T00:00:00",
          "2018-05-01T00:00:00",
          "2018-06-01T00:00:00",
          "2018-07-01T00:00:00",
          "2018-08-01T00:00:00",
          "2018-09-01T00:00:00",
          "2018-10-01T00:00:00",
          "2018-11-01T00:00:00",
          "2018-12-01T00:00:00",
          "2019-01-01T00:00:00",
          "2019-02-01T00:00:00",
          "2019-03-01T00:00:00",
          "2019-04-01T00:00:00",
          "2019-05-01T00:00:00",
          "2019-06-01T00:00:00",
          "2019-07-01T00:00:00",
          "2019-08-01T00:00:00",
          "2019-09-01T00:00:00",
          "2019-10-01T00:00:00",
          "2019-11-01T00:00:00",
          "2019-12-01T00:00:00"
         ],
         "y": [
          224.5806451612902,
          210.24999999999986,
          253.90322580645127,
          286.19999999999993,
          336.4838709999998,
          764.8333333333333,
          1273.4193549999998,
          479.1290322580644,
          663.3666666666664,
          700.3225806451612,
          349.99999999999983,
          205.70967741935465,
          137.9032258064513,
          140.1379310344827,
          197.8387096774193,
          308.59999999999997,
          477.4193548387097,
          620.5666666666665,
          707.5161289999999,
          548.322580645161,
          641.3999999999997,
          768.6774193548384,
          395.1,
          223.1612903225804,
          150.70967741935473,
          163.10714285714272,
          198.1612903225805,
          306.8333333333332,
          397.2258064516129,
          932.7999999999996,
          604.516129,
          583.3225806451611,
          1195.6666666666667,
          1538.7096774193549,
          680.3333333333334,
          313.0967741935484,
          187.99999999999994,
          177.10714285714283,
          221.54838709677415,
          413.3333333333331,
          831.0967741935483,
          1062.833333333333,
          2295.483870967742,
          1298.387096774194,
          2098.333333333333,
          1399.193548387097,
          692.7666666666663,
          345.80645161290295,
          264.1290322580645,
          270.1785714285712,
          298.12903225806446,
          564.5333333333331,
          825,
          1689.1333333333332,
          2184.8387096774195,
          1497.096774193548,
          1759.6666666666663,
          1367.3870967741934,
          721.1666666666665,
          324.5483870967741
         ]
        },
        {
         "mode": "lines",
         "name": "pred",
         "type": "scatter",
         "x": [
          "2015-01-01T00:00:00",
          "2015-02-01T00:00:00",
          "2015-03-01T00:00:00",
          "2015-04-01T00:00:00",
          "2015-05-01T00:00:00",
          "2015-06-01T00:00:00",
          "2015-07-01T00:00:00",
          "2015-08-01T00:00:00",
          "2015-09-01T00:00:00",
          "2015-10-01T00:00:00",
          "2015-11-01T00:00:00",
          "2015-12-01T00:00:00",
          "2016-01-01T00:00:00",
          "2016-02-01T00:00:00",
          "2016-03-01T00:00:00",
          "2016-04-01T00:00:00",
          "2016-05-01T00:00:00",
          "2016-06-01T00:00:00",
          "2016-07-01T00:00:00",
          "2016-08-01T00:00:00",
          "2016-09-01T00:00:00",
          "2016-10-01T00:00:00",
          "2016-11-01T00:00:00",
          "2016-12-01T00:00:00",
          "2017-01-01T00:00:00",
          "2017-02-01T00:00:00",
          "2017-03-01T00:00:00",
          "2017-04-01T00:00:00",
          "2017-05-01T00:00:00",
          "2017-06-01T00:00:00",
          "2017-07-01T00:00:00",
          "2017-08-01T00:00:00",
          "2017-09-01T00:00:00",
          "2017-10-01T00:00:00",
          "2017-11-01T00:00:00",
          "2017-12-01T00:00:00",
          "2018-01-01T00:00:00",
          "2018-02-01T00:00:00",
          "2018-03-01T00:00:00",
          "2018-04-01T00:00:00",
          "2018-05-01T00:00:00",
          "2018-06-01T00:00:00",
          "2018-07-01T00:00:00",
          "2018-08-01T00:00:00",
          "2018-09-01T00:00:00",
          "2018-10-01T00:00:00",
          "2018-11-01T00:00:00",
          "2018-12-01T00:00:00",
          "2019-01-01T00:00:00",
          "2019-02-01T00:00:00",
          "2019-03-01T00:00:00",
          "2019-04-01T00:00:00",
          "2019-05-01T00:00:00",
          "2019-06-01T00:00:00",
          "2019-07-01T00:00:00",
          "2019-08-01T00:00:00",
          "2019-09-01T00:00:00",
          "2019-10-01T00:00:00",
          "2019-11-01T00:00:00",
          "2019-12-01T00:00:00"
         ],
         "y": [
          130.27822875976562,
          107.83210754394531,
          268.0581970214844,
          328.6243896484375,
          514.1220092773438,
          1036.1517333984375,
          1496.364501953125,
          1128.733154296875,
          1667.4136962890625,
          1371.2099609375,
          653.3328857421875,
          298.902099609375,
          136.7589111328125,
          118.70803833007812,
          181.96849060058594,
          346.09112548828125,
          398.0406799316406,
          428.78546142578125,
          629.5777587890625,
          833.1529541015625,
          782.389404296875,
          772.6555786132812,
          370.8600158691406,
          146.18128967285156,
          69.61680603027344,
          55.0393180847168,
          105.66020202636719,
          173.3706817626953,
          230.75048828125,
          619.6798095703125,
          684.9464111328125,
          515.5639038085938,
          265.2613220214844,
          684.6470336914062,
          187.3809814453125,
          121.80040740966797,
          231.05697631835938,
          191.2996368408203,
          234.88897705078125,
          350.968017578125,
          552.4189453125,
          794.5391845703125,
          815.0960083007812,
          667.9901733398438,
          695.581298828125,
          653.8610229492188,
          313.05792236328125,
          169.7594757080078,
          163.2808074951172,
          142.30421447753906,
          182.86058044433594,
          236.92437744140625,
          302.72052001953125,
          689.6195678710938,
          796.3920288085938,
          1300.0716552734375,
          1266.302001953125,
          817.3195190429688,
          360.22113037109375,
          182.56663513183594
         ]
        }
       ],
       "layout": {
        "template": {
         "data": {
          "bar": [
           {
            "error_x": {
             "color": "#2a3f5f"
            },
            "error_y": {
             "color": "#2a3f5f"
            },
            "marker": {
             "line": {
              "color": "white",
              "width": 0.5
             },
             "pattern": {
              "fillmode": "overlay",
              "size": 10,
              "solidity": 0.2
             }
            },
            "type": "bar"
           }
          ],
          "barpolar": [
           {
            "marker": {
             "line": {
              "color": "white",
              "width": 0.5
             },
             "pattern": {
              "fillmode": "overlay",
              "size": 10,
              "solidity": 0.2
             }
            },
            "type": "barpolar"
           }
          ],
          "carpet": [
           {
            "aaxis": {
             "endlinecolor": "#2a3f5f",
             "gridcolor": "#C8D4E3",
             "linecolor": "#C8D4E3",
             "minorgridcolor": "#C8D4E3",
             "startlinecolor": "#2a3f5f"
            },
            "baxis": {
             "endlinecolor": "#2a3f5f",
             "gridcolor": "#C8D4E3",
             "linecolor": "#C8D4E3",
             "minorgridcolor": "#C8D4E3",
             "startlinecolor": "#2a3f5f"
            },
            "type": "carpet"
           }
          ],
          "choropleth": [
           {
            "colorbar": {
             "outlinewidth": 0,
             "ticks": ""
            },
            "type": "choropleth"
           }
          ],
          "contour": [
           {
            "colorbar": {
             "outlinewidth": 0,
             "ticks": ""
            },
            "colorscale": [
             [
              0,
              "#0d0887"
             ],
             [
              0.1111111111111111,
              "#46039f"
             ],
             [
              0.2222222222222222,
              "#7201a8"
             ],
             [
              0.3333333333333333,
              "#9c179e"
             ],
             [
              0.4444444444444444,
              "#bd3786"
             ],
             [
              0.5555555555555556,
              "#d8576b"
             ],
             [
              0.6666666666666666,
              "#ed7953"
             ],
             [
              0.7777777777777778,
              "#fb9f3a"
             ],
             [
              0.8888888888888888,
              "#fdca26"
             ],
             [
              1,
              "#f0f921"
             ]
            ],
            "type": "contour"
           }
          ],
          "contourcarpet": [
           {
            "colorbar": {
             "outlinewidth": 0,
             "ticks": ""
            },
            "type": "contourcarpet"
           }
          ],
          "heatmap": [
           {
            "colorbar": {
             "outlinewidth": 0,
             "ticks": ""
            },
            "colorscale": [
             [
              0,
              "#0d0887"
             ],
             [
              0.1111111111111111,
              "#46039f"
             ],
             [
              0.2222222222222222,
              "#7201a8"
             ],
             [
              0.3333333333333333,
              "#9c179e"
             ],
             [
              0.4444444444444444,
              "#bd3786"
             ],
             [
              0.5555555555555556,
              "#d8576b"
             ],
             [
              0.6666666666666666,
              "#ed7953"
             ],
             [
              0.7777777777777778,
              "#fb9f3a"
             ],
             [
              0.8888888888888888,
              "#fdca26"
             ],
             [
              1,
              "#f0f921"
             ]
            ],
            "type": "heatmap"
           }
          ],
          "heatmapgl": [
           {
            "colorbar": {
             "outlinewidth": 0,
             "ticks": ""
            },
            "colorscale": [
             [
              0,
              "#0d0887"
             ],
             [
              0.1111111111111111,
              "#46039f"
             ],
             [
              0.2222222222222222,
              "#7201a8"
             ],
             [
              0.3333333333333333,
              "#9c179e"
             ],
             [
              0.4444444444444444,
              "#bd3786"
             ],
             [
              0.5555555555555556,
              "#d8576b"
             ],
             [
              0.6666666666666666,
              "#ed7953"
             ],
             [
              0.7777777777777778,
              "#fb9f3a"
             ],
             [
              0.8888888888888888,
              "#fdca26"
             ],
             [
              1,
              "#f0f921"
             ]
            ],
            "type": "heatmapgl"
           }
          ],
          "histogram": [
           {
            "marker": {
             "pattern": {
              "fillmode": "overlay",
              "size": 10,
              "solidity": 0.2
             }
            },
            "type": "histogram"
           }
          ],
          "histogram2d": [
           {
            "colorbar": {
             "outlinewidth": 0,
             "ticks": ""
            },
            "colorscale": [
             [
              0,
              "#0d0887"
             ],
             [
              0.1111111111111111,
              "#46039f"
             ],
             [
              0.2222222222222222,
              "#7201a8"
             ],
             [
              0.3333333333333333,
              "#9c179e"
             ],
             [
              0.4444444444444444,
              "#bd3786"
             ],
             [
              0.5555555555555556,
              "#d8576b"
             ],
             [
              0.6666666666666666,
              "#ed7953"
             ],
             [
              0.7777777777777778,
              "#fb9f3a"
             ],
             [
              0.8888888888888888,
              "#fdca26"
             ],
             [
              1,
              "#f0f921"
             ]
            ],
            "type": "histogram2d"
           }
          ],
          "histogram2dcontour": [
           {
            "colorbar": {
             "outlinewidth": 0,
             "ticks": ""
            },
            "colorscale": [
             [
              0,
              "#0d0887"
             ],
             [
              0.1111111111111111,
              "#46039f"
             ],
             [
              0.2222222222222222,
              "#7201a8"
             ],
             [
              0.3333333333333333,
              "#9c179e"
             ],
             [
              0.4444444444444444,
              "#bd3786"
             ],
             [
              0.5555555555555556,
              "#d8576b"
             ],
             [
              0.6666666666666666,
              "#ed7953"
             ],
             [
              0.7777777777777778,
              "#fb9f3a"
             ],
             [
              0.8888888888888888,
              "#fdca26"
             ],
             [
              1,
              "#f0f921"
             ]
            ],
            "type": "histogram2dcontour"
           }
          ],
          "mesh3d": [
           {
            "colorbar": {
             "outlinewidth": 0,
             "ticks": ""
            },
            "type": "mesh3d"
           }
          ],
          "parcoords": [
           {
            "line": {
             "colorbar": {
              "outlinewidth": 0,
              "ticks": ""
             }
            },
            "type": "parcoords"
           }
          ],
          "pie": [
           {
            "automargin": true,
            "type": "pie"
           }
          ],
          "scatter": [
           {
            "fillpattern": {
             "fillmode": "overlay",
             "size": 10,
             "solidity": 0.2
            },
            "type": "scatter"
           }
          ],
          "scatter3d": [
           {
            "line": {
             "colorbar": {
              "outlinewidth": 0,
              "ticks": ""
             }
            },
            "marker": {
             "colorbar": {
              "outlinewidth": 0,
              "ticks": ""
             }
            },
            "type": "scatter3d"
           }
          ],
          "scattercarpet": [
           {
            "marker": {
             "colorbar": {
              "outlinewidth": 0,
              "ticks": ""
             }
            },
            "type": "scattercarpet"
           }
          ],
          "scattergeo": [
           {
            "marker": {
             "colorbar": {
              "outlinewidth": 0,
              "ticks": ""
             }
            },
            "type": "scattergeo"
           }
          ],
          "scattergl": [
           {
            "marker": {
             "colorbar": {
              "outlinewidth": 0,
              "ticks": ""
             }
            },
            "type": "scattergl"
           }
          ],
          "scattermapbox": [
           {
            "marker": {
             "colorbar": {
              "outlinewidth": 0,
              "ticks": ""
             }
            },
            "type": "scattermapbox"
           }
          ],
          "scatterpolar": [
           {
            "marker": {
             "colorbar": {
              "outlinewidth": 0,
              "ticks": ""
             }
            },
            "type": "scatterpolar"
           }
          ],
          "scatterpolargl": [
           {
            "marker": {
             "colorbar": {
              "outlinewidth": 0,
              "ticks": ""
             }
            },
            "type": "scatterpolargl"
           }
          ],
          "scatterternary": [
           {
            "marker": {
             "colorbar": {
              "outlinewidth": 0,
              "ticks": ""
             }
            },
            "type": "scatterternary"
           }
          ],
          "surface": [
           {
            "colorbar": {
             "outlinewidth": 0,
             "ticks": ""
            },
            "colorscale": [
             [
              0,
              "#0d0887"
             ],
             [
              0.1111111111111111,
              "#46039f"
             ],
             [
              0.2222222222222222,
              "#7201a8"
             ],
             [
              0.3333333333333333,
              "#9c179e"
             ],
             [
              0.4444444444444444,
              "#bd3786"
             ],
             [
              0.5555555555555556,
              "#d8576b"
             ],
             [
              0.6666666666666666,
              "#ed7953"
             ],
             [
              0.7777777777777778,
              "#fb9f3a"
             ],
             [
              0.8888888888888888,
              "#fdca26"
             ],
             [
              1,
              "#f0f921"
             ]
            ],
            "type": "surface"
           }
          ],
          "table": [
           {
            "cells": {
             "fill": {
              "color": "#EBF0F8"
             },
             "line": {
              "color": "white"
             }
            },
            "header": {
             "fill": {
              "color": "#C8D4E3"
             },
             "line": {
              "color": "white"
             }
            },
            "type": "table"
           }
          ]
         },
         "layout": {
          "annotationdefaults": {
           "arrowcolor": "#2a3f5f",
           "arrowhead": 0,
           "arrowwidth": 1
          },
          "autotypenumbers": "strict",
          "coloraxis": {
           "colorbar": {
            "outlinewidth": 0,
            "ticks": ""
           }
          },
          "colorscale": {
           "diverging": [
            [
             0,
             "#8e0152"
            ],
            [
             0.1,
             "#c51b7d"
            ],
            [
             0.2,
             "#de77ae"
            ],
            [
             0.3,
             "#f1b6da"
            ],
            [
             0.4,
             "#fde0ef"
            ],
            [
             0.5,
             "#f7f7f7"
            ],
            [
             0.6,
             "#e6f5d0"
            ],
            [
             0.7,
             "#b8e186"
            ],
            [
             0.8,
             "#7fbc41"
            ],
            [
             0.9,
             "#4d9221"
            ],
            [
             1,
             "#276419"
            ]
           ],
           "sequential": [
            [
             0,
             "#0d0887"
            ],
            [
             0.1111111111111111,
             "#46039f"
            ],
            [
             0.2222222222222222,
             "#7201a8"
            ],
            [
             0.3333333333333333,
             "#9c179e"
            ],
            [
             0.4444444444444444,
             "#bd3786"
            ],
            [
             0.5555555555555556,
             "#d8576b"
            ],
            [
             0.6666666666666666,
             "#ed7953"
            ],
            [
             0.7777777777777778,
             "#fb9f3a"
            ],
            [
             0.8888888888888888,
             "#fdca26"
            ],
            [
             1,
             "#f0f921"
            ]
           ],
           "sequentialminus": [
            [
             0,
             "#0d0887"
            ],
            [
             0.1111111111111111,
             "#46039f"
            ],
            [
             0.2222222222222222,
             "#7201a8"
            ],
            [
             0.3333333333333333,
             "#9c179e"
            ],
            [
             0.4444444444444444,
             "#bd3786"
            ],
            [
             0.5555555555555556,
             "#d8576b"
            ],
            [
             0.6666666666666666,
             "#ed7953"
            ],
            [
             0.7777777777777778,
             "#fb9f3a"
            ],
            [
             0.8888888888888888,
             "#fdca26"
            ],
            [
             1,
             "#f0f921"
            ]
           ]
          },
          "colorway": [
           "#636efa",
           "#EF553B",
           "#00cc96",
           "#ab63fa",
           "#FFA15A",
           "#19d3f3",
           "#FF6692",
           "#B6E880",
           "#FF97FF",
           "#FECB52"
          ],
          "font": {
           "color": "#2a3f5f"
          },
          "geo": {
           "bgcolor": "white",
           "lakecolor": "white",
           "landcolor": "white",
           "showlakes": true,
           "showland": true,
           "subunitcolor": "#C8D4E3"
          },
          "hoverlabel": {
           "align": "left"
          },
          "hovermode": "closest",
          "mapbox": {
           "style": "light"
          },
          "paper_bgcolor": "white",
          "plot_bgcolor": "white",
          "polar": {
           "angularaxis": {
            "gridcolor": "#EBF0F8",
            "linecolor": "#EBF0F8",
            "ticks": ""
           },
           "bgcolor": "white",
           "radialaxis": {
            "gridcolor": "#EBF0F8",
            "linecolor": "#EBF0F8",
            "ticks": ""
           }
          },
          "scene": {
           "xaxis": {
            "backgroundcolor": "white",
            "gridcolor": "#DFE8F3",
            "gridwidth": 2,
            "linecolor": "#EBF0F8",
            "showbackground": true,
            "ticks": "",
            "zerolinecolor": "#EBF0F8"
           },
           "yaxis": {
            "backgroundcolor": "white",
            "gridcolor": "#DFE8F3",
            "gridwidth": 2,
            "linecolor": "#EBF0F8",
            "showbackground": true,
            "ticks": "",
            "zerolinecolor": "#EBF0F8"
           },
           "zaxis": {
            "backgroundcolor": "white",
            "gridcolor": "#DFE8F3",
            "gridwidth": 2,
            "linecolor": "#EBF0F8",
            "showbackground": true,
            "ticks": "",
            "zerolinecolor": "#EBF0F8"
           }
          },
          "shapedefaults": {
           "line": {
            "color": "#2a3f5f"
           }
          },
          "ternary": {
           "aaxis": {
            "gridcolor": "#DFE8F3",
            "linecolor": "#A2B1C6",
            "ticks": ""
           },
           "baxis": {
            "gridcolor": "#DFE8F3",
            "linecolor": "#A2B1C6",
            "ticks": ""
           },
           "bgcolor": "white",
           "caxis": {
            "gridcolor": "#DFE8F3",
            "linecolor": "#A2B1C6",
            "ticks": ""
           }
          },
          "title": {
           "x": 0.05
          },
          "xaxis": {
           "automargin": true,
           "gridcolor": "#EBF0F8",
           "linecolor": "#EBF0F8",
           "ticks": "",
           "title": {
            "standoff": 15
           },
           "zerolinecolor": "#EBF0F8",
           "zerolinewidth": 2
          },
          "yaxis": {
           "automargin": true,
           "gridcolor": "#EBF0F8",
           "linecolor": "#EBF0F8",
           "ticks": "",
           "title": {
            "standoff": 15
           },
           "zerolinecolor": "#EBF0F8",
           "zerolinewidth": 2
          }
         }
        }
       }
      }
     },
     "metadata": {},
     "output_type": "display_data"
    },
    {
     "name": "stdout",
     "output_type": "stream",
     "text": [
      "Warning: ARIMASimFlow column not found in data for Guide station, year 2015\n",
      "R2 for sim at Guide(1972-2014) 0.9698826027677683\n",
      "model already exists in ../model/12MonthlyFlowProcessForecast_Guide/LSTMRegressorModel/InputOutputSamples_hydrosimyr_swatpsim/pred2015/\n",
      "Warning: ARIMASimFlow column not found in data for Guide station, year 2016\n",
      "R2 for sim at Guide(1972-2015) 0.9615940315245716\n",
      "model already exists in ../model/12MonthlyFlowProcessForecast_Guide/LSTMRegressorModel/InputOutputSamples_hydrosimyr_swatpsim/pred2016/\n",
      "Warning: ARIMASimFlow column not found in data for Guide station, year 2017\n",
      "R2 for sim at Guide(1972-2016) 0.9727552161495243\n",
      "model already exists in ../model/12MonthlyFlowProcessForecast_Guide/LSTMRegressorModel/InputOutputSamples_hydrosimyr_swatpsim/pred2017/\n",
      "Warning: ARIMASimFlow column not found in data for Guide station, year 2018\n",
      "R2 for sim at Guide(1972-2017) 0.920570431053021\n",
      "model already exists in ../model/12MonthlyFlowProcessForecast_Guide/LSTMRegressorModel/InputOutputSamples_hydrosimyr_swatpsim/pred2018/\n",
      "Warning: ARIMASimFlow column not found in data for Guide station, year 2019\n",
      "R2 for sim at Guide(1972-2018) 0.9503388434880898\n",
      "model already exists in ../model/12MonthlyFlowProcessForecast_Guide/LSTMRegressorModel/InputOutputSamples_hydrosimyr_swatpsim/pred2019/\n",
      "R2 for pred at Guide(2015-2019) 0.2774600346584769\n"
     ]
    },
    {
     "data": {
      "application/vnd.plotly.v1+json": {
       "config": {
        "plotlyServerURL": "https://plot.ly"
       },
       "data": [
        {
         "mode": "lines",
         "name": "obs",
         "type": "scatter",
         "x": [
          "2015-01-01T00:00:00",
          "2015-02-01T00:00:00",
          "2015-03-01T00:00:00",
          "2015-04-01T00:00:00",
          "2015-05-01T00:00:00",
          "2015-06-01T00:00:00",
          "2015-07-01T00:00:00",
          "2015-08-01T00:00:00",
          "2015-09-01T00:00:00",
          "2015-10-01T00:00:00",
          "2015-11-01T00:00:00",
          "2015-12-01T00:00:00",
          "2016-01-01T00:00:00",
          "2016-02-01T00:00:00",
          "2016-03-01T00:00:00",
          "2016-04-01T00:00:00",
          "2016-05-01T00:00:00",
          "2016-06-01T00:00:00",
          "2016-07-01T00:00:00",
          "2016-08-01T00:00:00",
          "2016-09-01T00:00:00",
          "2016-10-01T00:00:00",
          "2016-11-01T00:00:00",
          "2016-12-01T00:00:00",
          "2017-01-01T00:00:00",
          "2017-02-01T00:00:00",
          "2017-03-01T00:00:00",
          "2017-04-01T00:00:00",
          "2017-05-01T00:00:00",
          "2017-06-01T00:00:00",
          "2017-07-01T00:00:00",
          "2017-08-01T00:00:00",
          "2017-09-01T00:00:00",
          "2017-10-01T00:00:00",
          "2017-11-01T00:00:00",
          "2017-12-01T00:00:00",
          "2018-01-01T00:00:00",
          "2018-02-01T00:00:00",
          "2018-03-01T00:00:00",
          "2018-04-01T00:00:00",
          "2018-05-01T00:00:00",
          "2018-06-01T00:00:00",
          "2018-07-01T00:00:00",
          "2018-08-01T00:00:00",
          "2018-09-01T00:00:00",
          "2018-10-01T00:00:00",
          "2018-11-01T00:00:00",
          "2018-12-01T00:00:00",
          "2019-01-01T00:00:00",
          "2019-02-01T00:00:00",
          "2019-03-01T00:00:00",
          "2019-04-01T00:00:00",
          "2019-05-01T00:00:00",
          "2019-06-01T00:00:00",
          "2019-07-01T00:00:00",
          "2019-08-01T00:00:00",
          "2019-09-01T00:00:00",
          "2019-10-01T00:00:00",
          "2019-11-01T00:00:00",
          "2019-12-01T00:00:00"
         ],
         "y": [
          243.48309326171872,
          232.82295227050773,
          273.6432189941405,
          301.36611938476557,
          360.4305419921872,
          777.5018920898436,
          1303.968017578125,
          535.898498535156,
          662.4635009765623,
          756.5108642578122,
          391.32369995117165,
          220.48034667968741,
          159.47569274902332,
          162.2063446044919,
          214.3218841552731,
          326.17202758789034,
          479.6283264160156,
          647.2022705078125,
          739.5563354492188,
          577.678039550781,
          614.5225830078125,
          808.2318115234373,
          483.1481933593746,
          244.7296905517576,
          180.5069885253905,
          192.54066467285153,
          238.6091156005858,
          325.05047607421847,
          413.6062927246092,
          938.3693237304683,
          642.8070678710935,
          556.596923828125,
          1208.25830078125,
          1619.1264648437498,
          778.8029174804685,
          336.6287536621092,
          215.38494873046847,
          205.1662902832031,
          251.9255218505857,
          425.4500427246093,
          829.5314331054686,
          1075.711669921875,
          2208.386962890625,
          1333.7509765625,
          2024.4403076171875,
          1466.2239990234375,
          735.5309448242186,
          386.19433593749983,
          284.8704223632811,
          287.86560058593744,
          313.66641235351557,
          541.2837524414062,
          805.4638671874999,
          1636.3900146484373,
          2112.18505859375,
          1504.3486328125,
          1711.178466796875,
          1408.97802734375,
          751.5130004882812,
          357.55200195312483
         ]
        },
        {
         "mode": "lines",
         "name": "pred",
         "type": "scatter",
         "x": [
          "2015-01-01T00:00:00",
          "2015-02-01T00:00:00",
          "2015-03-01T00:00:00",
          "2015-04-01T00:00:00",
          "2015-05-01T00:00:00",
          "2015-06-01T00:00:00",
          "2015-07-01T00:00:00",
          "2015-08-01T00:00:00",
          "2015-09-01T00:00:00",
          "2015-10-01T00:00:00",
          "2015-11-01T00:00:00",
          "2015-12-01T00:00:00",
          "2016-01-01T00:00:00",
          "2016-02-01T00:00:00",
          "2016-03-01T00:00:00",
          "2016-04-01T00:00:00",
          "2016-05-01T00:00:00",
          "2016-06-01T00:00:00",
          "2016-07-01T00:00:00",
          "2016-08-01T00:00:00",
          "2016-09-01T00:00:00",
          "2016-10-01T00:00:00",
          "2016-11-01T00:00:00",
          "2016-12-01T00:00:00",
          "2017-01-01T00:00:00",
          "2017-02-01T00:00:00",
          "2017-03-01T00:00:00",
          "2017-04-01T00:00:00",
          "2017-05-01T00:00:00",
          "2017-06-01T00:00:00",
          "2017-07-01T00:00:00",
          "2017-08-01T00:00:00",
          "2017-09-01T00:00:00",
          "2017-10-01T00:00:00",
          "2017-11-01T00:00:00",
          "2017-12-01T00:00:00",
          "2018-01-01T00:00:00",
          "2018-02-01T00:00:00",
          "2018-03-01T00:00:00",
          "2018-04-01T00:00:00",
          "2018-05-01T00:00:00",
          "2018-06-01T00:00:00",
          "2018-07-01T00:00:00",
          "2018-08-01T00:00:00",
          "2018-09-01T00:00:00",
          "2018-10-01T00:00:00",
          "2018-11-01T00:00:00",
          "2018-12-01T00:00:00",
          "2019-01-01T00:00:00",
          "2019-02-01T00:00:00",
          "2019-03-01T00:00:00",
          "2019-04-01T00:00:00",
          "2019-05-01T00:00:00",
          "2019-06-01T00:00:00",
          "2019-07-01T00:00:00",
          "2019-08-01T00:00:00",
          "2019-09-01T00:00:00",
          "2019-10-01T00:00:00",
          "2019-11-01T00:00:00",
          "2019-12-01T00:00:00"
         ],
         "y": [
          172.12135314941406,
          161.21209716796875,
          236.8837890625,
          315.5210266113281,
          414.4155578613281,
          912.2314453125,
          1864.8138427734375,
          1640.73046875,
          1952.02587890625,
          1531.58740234375,
          516.7715454101562,
          314.97430419921875,
          210.5420379638672,
          205.7408447265625,
          231.1206817626953,
          267.9906005859375,
          542.0199584960938,
          622.6655883789062,
          999.7171630859375,
          1436.6600341796875,
          1262.223876953125,
          1016.7357177734375,
          453.8438415527344,
          199.87802124023438,
          202.79156494140625,
          202.21542358398438,
          226.30722045898438,
          294.087158203125,
          431.5848083496094,
          974.6976318359375,
          857.7067260742188,
          628.58984375,
          813.5255737304688,
          711.9083862304688,
          407.4998474121094,
          260.3650207519531,
          244.41433715820312,
          234.2305450439453,
          296.7998046875,
          372.38720703125,
          531.649658203125,
          684.699462890625,
          953.5213623046875,
          782.6547241210938,
          823.4217529296875,
          724.0007934570312,
          435.85504150390625,
          274.338623046875,
          241.8281707763672,
          232.59585571289062,
          231.71923828125,
          263.7949523925781,
          480.96319580078125,
          955.9320678710938,
          1700.2236328125,
          1080.331787109375,
          1166.2684326171875,
          870.1923828125,
          468.2852783203125,
          267.143310546875
         ]
        }
       ],
       "layout": {
        "template": {
         "data": {
          "bar": [
           {
            "error_x": {
             "color": "#2a3f5f"
            },
            "error_y": {
             "color": "#2a3f5f"
            },
            "marker": {
             "line": {
              "color": "white",
              "width": 0.5
             },
             "pattern": {
              "fillmode": "overlay",
              "size": 10,
              "solidity": 0.2
             }
            },
            "type": "bar"
           }
          ],
          "barpolar": [
           {
            "marker": {
             "line": {
              "color": "white",
              "width": 0.5
             },
             "pattern": {
              "fillmode": "overlay",
              "size": 10,
              "solidity": 0.2
             }
            },
            "type": "barpolar"
           }
          ],
          "carpet": [
           {
            "aaxis": {
             "endlinecolor": "#2a3f5f",
             "gridcolor": "#C8D4E3",
             "linecolor": "#C8D4E3",
             "minorgridcolor": "#C8D4E3",
             "startlinecolor": "#2a3f5f"
            },
            "baxis": {
             "endlinecolor": "#2a3f5f",
             "gridcolor": "#C8D4E3",
             "linecolor": "#C8D4E3",
             "minorgridcolor": "#C8D4E3",
             "startlinecolor": "#2a3f5f"
            },
            "type": "carpet"
           }
          ],
          "choropleth": [
           {
            "colorbar": {
             "outlinewidth": 0,
             "ticks": ""
            },
            "type": "choropleth"
           }
          ],
          "contour": [
           {
            "colorbar": {
             "outlinewidth": 0,
             "ticks": ""
            },
            "colorscale": [
             [
              0,
              "#0d0887"
             ],
             [
              0.1111111111111111,
              "#46039f"
             ],
             [
              0.2222222222222222,
              "#7201a8"
             ],
             [
              0.3333333333333333,
              "#9c179e"
             ],
             [
              0.4444444444444444,
              "#bd3786"
             ],
             [
              0.5555555555555556,
              "#d8576b"
             ],
             [
              0.6666666666666666,
              "#ed7953"
             ],
             [
              0.7777777777777778,
              "#fb9f3a"
             ],
             [
              0.8888888888888888,
              "#fdca26"
             ],
             [
              1,
              "#f0f921"
             ]
            ],
            "type": "contour"
           }
          ],
          "contourcarpet": [
           {
            "colorbar": {
             "outlinewidth": 0,
             "ticks": ""
            },
            "type": "contourcarpet"
           }
          ],
          "heatmap": [
           {
            "colorbar": {
             "outlinewidth": 0,
             "ticks": ""
            },
            "colorscale": [
             [
              0,
              "#0d0887"
             ],
             [
              0.1111111111111111,
              "#46039f"
             ],
             [
              0.2222222222222222,
              "#7201a8"
             ],
             [
              0.3333333333333333,
              "#9c179e"
             ],
             [
              0.4444444444444444,
              "#bd3786"
             ],
             [
              0.5555555555555556,
              "#d8576b"
             ],
             [
              0.6666666666666666,
              "#ed7953"
             ],
             [
              0.7777777777777778,
              "#fb9f3a"
             ],
             [
              0.8888888888888888,
              "#fdca26"
             ],
             [
              1,
              "#f0f921"
             ]
            ],
            "type": "heatmap"
           }
          ],
          "heatmapgl": [
           {
            "colorbar": {
             "outlinewidth": 0,
             "ticks": ""
            },
            "colorscale": [
             [
              0,
              "#0d0887"
             ],
             [
              0.1111111111111111,
              "#46039f"
             ],
             [
              0.2222222222222222,
              "#7201a8"
             ],
             [
              0.3333333333333333,
              "#9c179e"
             ],
             [
              0.4444444444444444,
              "#bd3786"
             ],
             [
              0.5555555555555556,
              "#d8576b"
             ],
             [
              0.6666666666666666,
              "#ed7953"
             ],
             [
              0.7777777777777778,
              "#fb9f3a"
             ],
             [
              0.8888888888888888,
              "#fdca26"
             ],
             [
              1,
              "#f0f921"
             ]
            ],
            "type": "heatmapgl"
           }
          ],
          "histogram": [
           {
            "marker": {
             "pattern": {
              "fillmode": "overlay",
              "size": 10,
              "solidity": 0.2
             }
            },
            "type": "histogram"
           }
          ],
          "histogram2d": [
           {
            "colorbar": {
             "outlinewidth": 0,
             "ticks": ""
            },
            "colorscale": [
             [
              0,
              "#0d0887"
             ],
             [
              0.1111111111111111,
              "#46039f"
             ],
             [
              0.2222222222222222,
              "#7201a8"
             ],
             [
              0.3333333333333333,
              "#9c179e"
             ],
             [
              0.4444444444444444,
              "#bd3786"
             ],
             [
              0.5555555555555556,
              "#d8576b"
             ],
             [
              0.6666666666666666,
              "#ed7953"
             ],
             [
              0.7777777777777778,
              "#fb9f3a"
             ],
             [
              0.8888888888888888,
              "#fdca26"
             ],
             [
              1,
              "#f0f921"
             ]
            ],
            "type": "histogram2d"
           }
          ],
          "histogram2dcontour": [
           {
            "colorbar": {
             "outlinewidth": 0,
             "ticks": ""
            },
            "colorscale": [
             [
              0,
              "#0d0887"
             ],
             [
              0.1111111111111111,
              "#46039f"
             ],
             [
              0.2222222222222222,
              "#7201a8"
             ],
             [
              0.3333333333333333,
              "#9c179e"
             ],
             [
              0.4444444444444444,
              "#bd3786"
             ],
             [
              0.5555555555555556,
              "#d8576b"
             ],
             [
              0.6666666666666666,
              "#ed7953"
             ],
             [
              0.7777777777777778,
              "#fb9f3a"
             ],
             [
              0.8888888888888888,
              "#fdca26"
             ],
             [
              1,
              "#f0f921"
             ]
            ],
            "type": "histogram2dcontour"
           }
          ],
          "mesh3d": [
           {
            "colorbar": {
             "outlinewidth": 0,
             "ticks": ""
            },
            "type": "mesh3d"
           }
          ],
          "parcoords": [
           {
            "line": {
             "colorbar": {
              "outlinewidth": 0,
              "ticks": ""
             }
            },
            "type": "parcoords"
           }
          ],
          "pie": [
           {
            "automargin": true,
            "type": "pie"
           }
          ],
          "scatter": [
           {
            "fillpattern": {
             "fillmode": "overlay",
             "size": 10,
             "solidity": 0.2
            },
            "type": "scatter"
           }
          ],
          "scatter3d": [
           {
            "line": {
             "colorbar": {
              "outlinewidth": 0,
              "ticks": ""
             }
            },
            "marker": {
             "colorbar": {
              "outlinewidth": 0,
              "ticks": ""
             }
            },
            "type": "scatter3d"
           }
          ],
          "scattercarpet": [
           {
            "marker": {
             "colorbar": {
              "outlinewidth": 0,
              "ticks": ""
             }
            },
            "type": "scattercarpet"
           }
          ],
          "scattergeo": [
           {
            "marker": {
             "colorbar": {
              "outlinewidth": 0,
              "ticks": ""
             }
            },
            "type": "scattergeo"
           }
          ],
          "scattergl": [
           {
            "marker": {
             "colorbar": {
              "outlinewidth": 0,
              "ticks": ""
             }
            },
            "type": "scattergl"
           }
          ],
          "scattermapbox": [
           {
            "marker": {
             "colorbar": {
              "outlinewidth": 0,
              "ticks": ""
             }
            },
            "type": "scattermapbox"
           }
          ],
          "scatterpolar": [
           {
            "marker": {
             "colorbar": {
              "outlinewidth": 0,
              "ticks": ""
             }
            },
            "type": "scatterpolar"
           }
          ],
          "scatterpolargl": [
           {
            "marker": {
             "colorbar": {
              "outlinewidth": 0,
              "ticks": ""
             }
            },
            "type": "scatterpolargl"
           }
          ],
          "scatterternary": [
           {
            "marker": {
             "colorbar": {
              "outlinewidth": 0,
              "ticks": ""
             }
            },
            "type": "scatterternary"
           }
          ],
          "surface": [
           {
            "colorbar": {
             "outlinewidth": 0,
             "ticks": ""
            },
            "colorscale": [
             [
              0,
              "#0d0887"
             ],
             [
              0.1111111111111111,
              "#46039f"
             ],
             [
              0.2222222222222222,
              "#7201a8"
             ],
             [
              0.3333333333333333,
              "#9c179e"
             ],
             [
              0.4444444444444444,
              "#bd3786"
             ],
             [
              0.5555555555555556,
              "#d8576b"
             ],
             [
              0.6666666666666666,
              "#ed7953"
             ],
             [
              0.7777777777777778,
              "#fb9f3a"
             ],
             [
              0.8888888888888888,
              "#fdca26"
             ],
             [
              1,
              "#f0f921"
             ]
            ],
            "type": "surface"
           }
          ],
          "table": [
           {
            "cells": {
             "fill": {
              "color": "#EBF0F8"
             },
             "line": {
              "color": "white"
             }
            },
            "header": {
             "fill": {
              "color": "#C8D4E3"
             },
             "line": {
              "color": "white"
             }
            },
            "type": "table"
           }
          ]
         },
         "layout": {
          "annotationdefaults": {
           "arrowcolor": "#2a3f5f",
           "arrowhead": 0,
           "arrowwidth": 1
          },
          "autotypenumbers": "strict",
          "coloraxis": {
           "colorbar": {
            "outlinewidth": 0,
            "ticks": ""
           }
          },
          "colorscale": {
           "diverging": [
            [
             0,
             "#8e0152"
            ],
            [
             0.1,
             "#c51b7d"
            ],
            [
             0.2,
             "#de77ae"
            ],
            [
             0.3,
             "#f1b6da"
            ],
            [
             0.4,
             "#fde0ef"
            ],
            [
             0.5,
             "#f7f7f7"
            ],
            [
             0.6,
             "#e6f5d0"
            ],
            [
             0.7,
             "#b8e186"
            ],
            [
             0.8,
             "#7fbc41"
            ],
            [
             0.9,
             "#4d9221"
            ],
            [
             1,
             "#276419"
            ]
           ],
           "sequential": [
            [
             0,
             "#0d0887"
            ],
            [
             0.1111111111111111,
             "#46039f"
            ],
            [
             0.2222222222222222,
             "#7201a8"
            ],
            [
             0.3333333333333333,
             "#9c179e"
            ],
            [
             0.4444444444444444,
             "#bd3786"
            ],
            [
             0.5555555555555556,
             "#d8576b"
            ],
            [
             0.6666666666666666,
             "#ed7953"
            ],
            [
             0.7777777777777778,
             "#fb9f3a"
            ],
            [
             0.8888888888888888,
             "#fdca26"
            ],
            [
             1,
             "#f0f921"
            ]
           ],
           "sequentialminus": [
            [
             0,
             "#0d0887"
            ],
            [
             0.1111111111111111,
             "#46039f"
            ],
            [
             0.2222222222222222,
             "#7201a8"
            ],
            [
             0.3333333333333333,
             "#9c179e"
            ],
            [
             0.4444444444444444,
             "#bd3786"
            ],
            [
             0.5555555555555556,
             "#d8576b"
            ],
            [
             0.6666666666666666,
             "#ed7953"
            ],
            [
             0.7777777777777778,
             "#fb9f3a"
            ],
            [
             0.8888888888888888,
             "#fdca26"
            ],
            [
             1,
             "#f0f921"
            ]
           ]
          },
          "colorway": [
           "#636efa",
           "#EF553B",
           "#00cc96",
           "#ab63fa",
           "#FFA15A",
           "#19d3f3",
           "#FF6692",
           "#B6E880",
           "#FF97FF",
           "#FECB52"
          ],
          "font": {
           "color": "#2a3f5f"
          },
          "geo": {
           "bgcolor": "white",
           "lakecolor": "white",
           "landcolor": "white",
           "showlakes": true,
           "showland": true,
           "subunitcolor": "#C8D4E3"
          },
          "hoverlabel": {
           "align": "left"
          },
          "hovermode": "closest",
          "mapbox": {
           "style": "light"
          },
          "paper_bgcolor": "white",
          "plot_bgcolor": "white",
          "polar": {
           "angularaxis": {
            "gridcolor": "#EBF0F8",
            "linecolor": "#EBF0F8",
            "ticks": ""
           },
           "bgcolor": "white",
           "radialaxis": {
            "gridcolor": "#EBF0F8",
            "linecolor": "#EBF0F8",
            "ticks": ""
           }
          },
          "scene": {
           "xaxis": {
            "backgroundcolor": "white",
            "gridcolor": "#DFE8F3",
            "gridwidth": 2,
            "linecolor": "#EBF0F8",
            "showbackground": true,
            "ticks": "",
            "zerolinecolor": "#EBF0F8"
           },
           "yaxis": {
            "backgroundcolor": "white",
            "gridcolor": "#DFE8F3",
            "gridwidth": 2,
            "linecolor": "#EBF0F8",
            "showbackground": true,
            "ticks": "",
            "zerolinecolor": "#EBF0F8"
           },
           "zaxis": {
            "backgroundcolor": "white",
            "gridcolor": "#DFE8F3",
            "gridwidth": 2,
            "linecolor": "#EBF0F8",
            "showbackground": true,
            "ticks": "",
            "zerolinecolor": "#EBF0F8"
           }
          },
          "shapedefaults": {
           "line": {
            "color": "#2a3f5f"
           }
          },
          "ternary": {
           "aaxis": {
            "gridcolor": "#DFE8F3",
            "linecolor": "#A2B1C6",
            "ticks": ""
           },
           "baxis": {
            "gridcolor": "#DFE8F3",
            "linecolor": "#A2B1C6",
            "ticks": ""
           },
           "bgcolor": "white",
           "caxis": {
            "gridcolor": "#DFE8F3",
            "linecolor": "#A2B1C6",
            "ticks": ""
           }
          },
          "title": {
           "x": 0.05
          },
          "xaxis": {
           "automargin": true,
           "gridcolor": "#EBF0F8",
           "linecolor": "#EBF0F8",
           "ticks": "",
           "title": {
            "standoff": 15
           },
           "zerolinecolor": "#EBF0F8",
           "zerolinewidth": 2
          },
          "yaxis": {
           "automargin": true,
           "gridcolor": "#EBF0F8",
           "linecolor": "#EBF0F8",
           "ticks": "",
           "title": {
            "standoff": 15
           },
           "zerolinecolor": "#EBF0F8",
           "zerolinewidth": 2
          }
         }
        }
       }
      }
     },
     "metadata": {},
     "output_type": "display_data"
    },
    {
     "name": "stdout",
     "output_type": "stream",
     "text": [
      "Warning: ARIMASimFlow column not found in data for Xunhua station, year 2015\n",
      "R2 for sim at Xunhua(1972-2014) 0.8624612712345638\n",
      "model already exists in ../model/12MonthlyFlowProcessForecast_Xunhua/LSTMRegressorModel/InputOutputSamples_hydrosimyr_swatpsim/pred2015/\n",
      "Warning: ARIMASimFlow column not found in data for Xunhua station, year 2016\n",
      "R2 for sim at Xunhua(1972-2015) 0.9744088740046443\n",
      "model already exists in ../model/12MonthlyFlowProcessForecast_Xunhua/LSTMRegressorModel/InputOutputSamples_hydrosimyr_swatpsim/pred2016/\n",
      "Warning: ARIMASimFlow column not found in data for Xunhua station, year 2017\n",
      "R2 for sim at Xunhua(1972-2016) 0.949707611282172\n",
      "model already exists in ../model/12MonthlyFlowProcessForecast_Xunhua/LSTMRegressorModel/InputOutputSamples_hydrosimyr_swatpsim/pred2017/\n",
      "Warning: ARIMASimFlow column not found in data for Xunhua station, year 2018\n",
      "R2 for sim at Xunhua(1972-2017) 0.7581770111156885\n",
      "model already exists in ../model/12MonthlyFlowProcessForecast_Xunhua/LSTMRegressorModel/InputOutputSamples_hydrosimyr_swatpsim/pred2018/\n",
      "Warning: ARIMASimFlow column not found in data for Xunhua station, year 2019\n",
      "R2 for sim at Xunhua(1972-2018) 0.940988273148866\n",
      "model already exists in ../model/12MonthlyFlowProcessForecast_Xunhua/LSTMRegressorModel/InputOutputSamples_hydrosimyr_swatpsim/pred2019/\n",
      "R2 for pred at Xunhua(2015-2019) 0.1673283651923776\n"
     ]
    },
    {
     "data": {
      "application/vnd.plotly.v1+json": {
       "config": {
        "plotlyServerURL": "https://plot.ly"
       },
       "data": [
        {
         "mode": "lines",
         "name": "obs",
         "type": "scatter",
         "x": [
          "2015-01-01T00:00:00",
          "2015-02-01T00:00:00",
          "2015-03-01T00:00:00",
          "2015-04-01T00:00:00",
          "2015-05-01T00:00:00",
          "2015-06-01T00:00:00",
          "2015-07-01T00:00:00",
          "2015-08-01T00:00:00",
          "2015-09-01T00:00:00",
          "2015-10-01T00:00:00",
          "2015-11-01T00:00:00",
          "2015-12-01T00:00:00",
          "2016-01-01T00:00:00",
          "2016-02-01T00:00:00",
          "2016-03-01T00:00:00",
          "2016-04-01T00:00:00",
          "2016-05-01T00:00:00",
          "2016-06-01T00:00:00",
          "2016-07-01T00:00:00",
          "2016-08-01T00:00:00",
          "2016-09-01T00:00:00",
          "2016-10-01T00:00:00",
          "2016-11-01T00:00:00",
          "2016-12-01T00:00:00",
          "2017-01-01T00:00:00",
          "2017-02-01T00:00:00",
          "2017-03-01T00:00:00",
          "2017-04-01T00:00:00",
          "2017-05-01T00:00:00",
          "2017-06-01T00:00:00",
          "2017-07-01T00:00:00",
          "2017-08-01T00:00:00",
          "2017-09-01T00:00:00",
          "2017-10-01T00:00:00",
          "2017-11-01T00:00:00",
          "2017-12-01T00:00:00",
          "2018-01-01T00:00:00",
          "2018-02-01T00:00:00",
          "2018-03-01T00:00:00",
          "2018-04-01T00:00:00",
          "2018-05-01T00:00:00",
          "2018-06-01T00:00:00",
          "2018-07-01T00:00:00",
          "2018-08-01T00:00:00",
          "2018-09-01T00:00:00",
          "2018-10-01T00:00:00",
          "2018-11-01T00:00:00",
          "2018-12-01T00:00:00",
          "2019-01-01T00:00:00",
          "2019-02-01T00:00:00",
          "2019-03-01T00:00:00",
          "2019-04-01T00:00:00",
          "2019-05-01T00:00:00",
          "2019-06-01T00:00:00",
          "2019-07-01T00:00:00",
          "2019-08-01T00:00:00",
          "2019-09-01T00:00:00",
          "2019-10-01T00:00:00",
          "2019-11-01T00:00:00",
          "2019-12-01T00:00:00"
         ],
         "y": [
          233.72097778320315,
          210.4733886718748,
          237.33145141601537,
          260.23986816406244,
          300.58926391601545,
          746.3971557617185,
          1308.9274902343748,
          585.9125366210935,
          622.9486083984374,
          750.492248535156,
          409.0270690917968,
          239.57038879394517,
          159.8075561523434,
          151.5609436035156,
          201.71928405761716,
          298.9651794433592,
          473.18597412109364,
          672.2758178710936,
          734.846923828125,
          610.1930541992185,
          669.5579223632809,
          812.0487060546874,
          456.99038696289057,
          254.48411560058594,
          175.43865966796847,
          184.34480285644517,
          212.40403747558588,
          288.9980468749998,
          421.52920532226545,
          955.1680908203125,
          660.1066284179688,
          610.977355957031,
          1250.3574218749998,
          1628.143310546875,
          740.6163940429685,
          322.51168823242176,
          208.9342193603513,
          200.48898315429676,
          240.0946502685547,
          390.9962463378904,
          799.9525146484374,
          1042.3602294921873,
          2250.375,
          1345.0872802734373,
          2248.215576171875,
          1469.0262451171875,
          769.2869873046875,
          379.00366210937483,
          280.30691528320284,
          271.4028625488281,
          274.57778930664057,
          505.0815124511716,
          761.5518798828124,
          1674.694091796875,
          2222.146484375,
          1581.6751708984375,
          1800.034423828125,
          1441.9842529296875,
          784.3594360351561,
          359.44024658203114
         ]
        },
        {
         "mode": "lines",
         "name": "pred",
         "type": "scatter",
         "x": [
          "2015-01-01T00:00:00",
          "2015-02-01T00:00:00",
          "2015-03-01T00:00:00",
          "2015-04-01T00:00:00",
          "2015-05-01T00:00:00",
          "2015-06-01T00:00:00",
          "2015-07-01T00:00:00",
          "2015-08-01T00:00:00",
          "2015-09-01T00:00:00",
          "2015-10-01T00:00:00",
          "2015-11-01T00:00:00",
          "2015-12-01T00:00:00",
          "2016-01-01T00:00:00",
          "2016-02-01T00:00:00",
          "2016-03-01T00:00:00",
          "2016-04-01T00:00:00",
          "2016-05-01T00:00:00",
          "2016-06-01T00:00:00",
          "2016-07-01T00:00:00",
          "2016-08-01T00:00:00",
          "2016-09-01T00:00:00",
          "2016-10-01T00:00:00",
          "2016-11-01T00:00:00",
          "2016-12-01T00:00:00",
          "2017-01-01T00:00:00",
          "2017-02-01T00:00:00",
          "2017-03-01T00:00:00",
          "2017-04-01T00:00:00",
          "2017-05-01T00:00:00",
          "2017-06-01T00:00:00",
          "2017-07-01T00:00:00",
          "2017-08-01T00:00:00",
          "2017-09-01T00:00:00",
          "2017-10-01T00:00:00",
          "2017-11-01T00:00:00",
          "2017-12-01T00:00:00",
          "2018-01-01T00:00:00",
          "2018-02-01T00:00:00",
          "2018-03-01T00:00:00",
          "2018-04-01T00:00:00",
          "2018-05-01T00:00:00",
          "2018-06-01T00:00:00",
          "2018-07-01T00:00:00",
          "2018-08-01T00:00:00",
          "2018-09-01T00:00:00",
          "2018-10-01T00:00:00",
          "2018-11-01T00:00:00",
          "2018-12-01T00:00:00",
          "2019-01-01T00:00:00",
          "2019-02-01T00:00:00",
          "2019-03-01T00:00:00",
          "2019-04-01T00:00:00",
          "2019-05-01T00:00:00",
          "2019-06-01T00:00:00",
          "2019-07-01T00:00:00",
          "2019-08-01T00:00:00",
          "2019-09-01T00:00:00",
          "2019-10-01T00:00:00",
          "2019-11-01T00:00:00",
          "2019-12-01T00:00:00"
         ],
         "y": [
          193.34974670410156,
          182.44932556152344,
          239.35015869140625,
          307.7564392089844,
          627.302001953125,
          1343.0364990234375,
          2090.02294921875,
          1707.2127685546875,
          1678.405029296875,
          1442.8111572265625,
          689.677490234375,
          349.9836730957031,
          163.6272430419922,
          156.07801818847656,
          173.3295440673828,
          231.43006896972656,
          314.68341064453125,
          831.2708740234375,
          1805.8907470703125,
          1174.0054931640625,
          1258.6456298828125,
          1165.4281005859375,
          588.9468383789062,
          270.86798095703125,
          180.01821899414062,
          171.5731201171875,
          129.03211975097656,
          210.44338989257812,
          489.50079345703125,
          934.2875366210938,
          1184.524658203125,
          683.7379760742188,
          628.1111450195312,
          644.9963989257812,
          241.8444366455078,
          135.90380859375,
          170.8904266357422,
          245.0443878173828,
          256.8700866699219,
          287.72662353515625,
          556.4170532226562,
          1120.28564453125,
          1478.0311279296875,
          738.8792724609375,
          923.9244384765625,
          809.5422973632812,
          349.0850524902344,
          263.1274719238281,
          267.4695739746094,
          254.59332275390625,
          279.818115234375,
          276.27044677734375,
          396.23583984375,
          821.5235595703125,
          1674.0089111328125,
          682.24951171875,
          567.5825805664062,
          685.8855590820312,
          416.213134765625,
          204.8153533935547
         ]
        }
       ],
       "layout": {
        "template": {
         "data": {
          "bar": [
           {
            "error_x": {
             "color": "#2a3f5f"
            },
            "error_y": {
             "color": "#2a3f5f"
            },
            "marker": {
             "line": {
              "color": "white",
              "width": 0.5
             },
             "pattern": {
              "fillmode": "overlay",
              "size": 10,
              "solidity": 0.2
             }
            },
            "type": "bar"
           }
          ],
          "barpolar": [
           {
            "marker": {
             "line": {
              "color": "white",
              "width": 0.5
             },
             "pattern": {
              "fillmode": "overlay",
              "size": 10,
              "solidity": 0.2
             }
            },
            "type": "barpolar"
           }
          ],
          "carpet": [
           {
            "aaxis": {
             "endlinecolor": "#2a3f5f",
             "gridcolor": "#C8D4E3",
             "linecolor": "#C8D4E3",
             "minorgridcolor": "#C8D4E3",
             "startlinecolor": "#2a3f5f"
            },
            "baxis": {
             "endlinecolor": "#2a3f5f",
             "gridcolor": "#C8D4E3",
             "linecolor": "#C8D4E3",
             "minorgridcolor": "#C8D4E3",
             "startlinecolor": "#2a3f5f"
            },
            "type": "carpet"
           }
          ],
          "choropleth": [
           {
            "colorbar": {
             "outlinewidth": 0,
             "ticks": ""
            },
            "type": "choropleth"
           }
          ],
          "contour": [
           {
            "colorbar": {
             "outlinewidth": 0,
             "ticks": ""
            },
            "colorscale": [
             [
              0,
              "#0d0887"
             ],
             [
              0.1111111111111111,
              "#46039f"
             ],
             [
              0.2222222222222222,
              "#7201a8"
             ],
             [
              0.3333333333333333,
              "#9c179e"
             ],
             [
              0.4444444444444444,
              "#bd3786"
             ],
             [
              0.5555555555555556,
              "#d8576b"
             ],
             [
              0.6666666666666666,
              "#ed7953"
             ],
             [
              0.7777777777777778,
              "#fb9f3a"
             ],
             [
              0.8888888888888888,
              "#fdca26"
             ],
             [
              1,
              "#f0f921"
             ]
            ],
            "type": "contour"
           }
          ],
          "contourcarpet": [
           {
            "colorbar": {
             "outlinewidth": 0,
             "ticks": ""
            },
            "type": "contourcarpet"
           }
          ],
          "heatmap": [
           {
            "colorbar": {
             "outlinewidth": 0,
             "ticks": ""
            },
            "colorscale": [
             [
              0,
              "#0d0887"
             ],
             [
              0.1111111111111111,
              "#46039f"
             ],
             [
              0.2222222222222222,
              "#7201a8"
             ],
             [
              0.3333333333333333,
              "#9c179e"
             ],
             [
              0.4444444444444444,
              "#bd3786"
             ],
             [
              0.5555555555555556,
              "#d8576b"
             ],
             [
              0.6666666666666666,
              "#ed7953"
             ],
             [
              0.7777777777777778,
              "#fb9f3a"
             ],
             [
              0.8888888888888888,
              "#fdca26"
             ],
             [
              1,
              "#f0f921"
             ]
            ],
            "type": "heatmap"
           }
          ],
          "heatmapgl": [
           {
            "colorbar": {
             "outlinewidth": 0,
             "ticks": ""
            },
            "colorscale": [
             [
              0,
              "#0d0887"
             ],
             [
              0.1111111111111111,
              "#46039f"
             ],
             [
              0.2222222222222222,
              "#7201a8"
             ],
             [
              0.3333333333333333,
              "#9c179e"
             ],
             [
              0.4444444444444444,
              "#bd3786"
             ],
             [
              0.5555555555555556,
              "#d8576b"
             ],
             [
              0.6666666666666666,
              "#ed7953"
             ],
             [
              0.7777777777777778,
              "#fb9f3a"
             ],
             [
              0.8888888888888888,
              "#fdca26"
             ],
             [
              1,
              "#f0f921"
             ]
            ],
            "type": "heatmapgl"
           }
          ],
          "histogram": [
           {
            "marker": {
             "pattern": {
              "fillmode": "overlay",
              "size": 10,
              "solidity": 0.2
             }
            },
            "type": "histogram"
           }
          ],
          "histogram2d": [
           {
            "colorbar": {
             "outlinewidth": 0,
             "ticks": ""
            },
            "colorscale": [
             [
              0,
              "#0d0887"
             ],
             [
              0.1111111111111111,
              "#46039f"
             ],
             [
              0.2222222222222222,
              "#7201a8"
             ],
             [
              0.3333333333333333,
              "#9c179e"
             ],
             [
              0.4444444444444444,
              "#bd3786"
             ],
             [
              0.5555555555555556,
              "#d8576b"
             ],
             [
              0.6666666666666666,
              "#ed7953"
             ],
             [
              0.7777777777777778,
              "#fb9f3a"
             ],
             [
              0.8888888888888888,
              "#fdca26"
             ],
             [
              1,
              "#f0f921"
             ]
            ],
            "type": "histogram2d"
           }
          ],
          "histogram2dcontour": [
           {
            "colorbar": {
             "outlinewidth": 0,
             "ticks": ""
            },
            "colorscale": [
             [
              0,
              "#0d0887"
             ],
             [
              0.1111111111111111,
              "#46039f"
             ],
             [
              0.2222222222222222,
              "#7201a8"
             ],
             [
              0.3333333333333333,
              "#9c179e"
             ],
             [
              0.4444444444444444,
              "#bd3786"
             ],
             [
              0.5555555555555556,
              "#d8576b"
             ],
             [
              0.6666666666666666,
              "#ed7953"
             ],
             [
              0.7777777777777778,
              "#fb9f3a"
             ],
             [
              0.8888888888888888,
              "#fdca26"
             ],
             [
              1,
              "#f0f921"
             ]
            ],
            "type": "histogram2dcontour"
           }
          ],
          "mesh3d": [
           {
            "colorbar": {
             "outlinewidth": 0,
             "ticks": ""
            },
            "type": "mesh3d"
           }
          ],
          "parcoords": [
           {
            "line": {
             "colorbar": {
              "outlinewidth": 0,
              "ticks": ""
             }
            },
            "type": "parcoords"
           }
          ],
          "pie": [
           {
            "automargin": true,
            "type": "pie"
           }
          ],
          "scatter": [
           {
            "fillpattern": {
             "fillmode": "overlay",
             "size": 10,
             "solidity": 0.2
            },
            "type": "scatter"
           }
          ],
          "scatter3d": [
           {
            "line": {
             "colorbar": {
              "outlinewidth": 0,
              "ticks": ""
             }
            },
            "marker": {
             "colorbar": {
              "outlinewidth": 0,
              "ticks": ""
             }
            },
            "type": "scatter3d"
           }
          ],
          "scattercarpet": [
           {
            "marker": {
             "colorbar": {
              "outlinewidth": 0,
              "ticks": ""
             }
            },
            "type": "scattercarpet"
           }
          ],
          "scattergeo": [
           {
            "marker": {
             "colorbar": {
              "outlinewidth": 0,
              "ticks": ""
             }
            },
            "type": "scattergeo"
           }
          ],
          "scattergl": [
           {
            "marker": {
             "colorbar": {
              "outlinewidth": 0,
              "ticks": ""
             }
            },
            "type": "scattergl"
           }
          ],
          "scattermapbox": [
           {
            "marker": {
             "colorbar": {
              "outlinewidth": 0,
              "ticks": ""
             }
            },
            "type": "scattermapbox"
           }
          ],
          "scatterpolar": [
           {
            "marker": {
             "colorbar": {
              "outlinewidth": 0,
              "ticks": ""
             }
            },
            "type": "scatterpolar"
           }
          ],
          "scatterpolargl": [
           {
            "marker": {
             "colorbar": {
              "outlinewidth": 0,
              "ticks": ""
             }
            },
            "type": "scatterpolargl"
           }
          ],
          "scatterternary": [
           {
            "marker": {
             "colorbar": {
              "outlinewidth": 0,
              "ticks": ""
             }
            },
            "type": "scatterternary"
           }
          ],
          "surface": [
           {
            "colorbar": {
             "outlinewidth": 0,
             "ticks": ""
            },
            "colorscale": [
             [
              0,
              "#0d0887"
             ],
             [
              0.1111111111111111,
              "#46039f"
             ],
             [
              0.2222222222222222,
              "#7201a8"
             ],
             [
              0.3333333333333333,
              "#9c179e"
             ],
             [
              0.4444444444444444,
              "#bd3786"
             ],
             [
              0.5555555555555556,
              "#d8576b"
             ],
             [
              0.6666666666666666,
              "#ed7953"
             ],
             [
              0.7777777777777778,
              "#fb9f3a"
             ],
             [
              0.8888888888888888,
              "#fdca26"
             ],
             [
              1,
              "#f0f921"
             ]
            ],
            "type": "surface"
           }
          ],
          "table": [
           {
            "cells": {
             "fill": {
              "color": "#EBF0F8"
             },
             "line": {
              "color": "white"
             }
            },
            "header": {
             "fill": {
              "color": "#C8D4E3"
             },
             "line": {
              "color": "white"
             }
            },
            "type": "table"
           }
          ]
         },
         "layout": {
          "annotationdefaults": {
           "arrowcolor": "#2a3f5f",
           "arrowhead": 0,
           "arrowwidth": 1
          },
          "autotypenumbers": "strict",
          "coloraxis": {
           "colorbar": {
            "outlinewidth": 0,
            "ticks": ""
           }
          },
          "colorscale": {
           "diverging": [
            [
             0,
             "#8e0152"
            ],
            [
             0.1,
             "#c51b7d"
            ],
            [
             0.2,
             "#de77ae"
            ],
            [
             0.3,
             "#f1b6da"
            ],
            [
             0.4,
             "#fde0ef"
            ],
            [
             0.5,
             "#f7f7f7"
            ],
            [
             0.6,
             "#e6f5d0"
            ],
            [
             0.7,
             "#b8e186"
            ],
            [
             0.8,
             "#7fbc41"
            ],
            [
             0.9,
             "#4d9221"
            ],
            [
             1,
             "#276419"
            ]
           ],
           "sequential": [
            [
             0,
             "#0d0887"
            ],
            [
             0.1111111111111111,
             "#46039f"
            ],
            [
             0.2222222222222222,
             "#7201a8"
            ],
            [
             0.3333333333333333,
             "#9c179e"
            ],
            [
             0.4444444444444444,
             "#bd3786"
            ],
            [
             0.5555555555555556,
             "#d8576b"
            ],
            [
             0.6666666666666666,
             "#ed7953"
            ],
            [
             0.7777777777777778,
             "#fb9f3a"
            ],
            [
             0.8888888888888888,
             "#fdca26"
            ],
            [
             1,
             "#f0f921"
            ]
           ],
           "sequentialminus": [
            [
             0,
             "#0d0887"
            ],
            [
             0.1111111111111111,
             "#46039f"
            ],
            [
             0.2222222222222222,
             "#7201a8"
            ],
            [
             0.3333333333333333,
             "#9c179e"
            ],
            [
             0.4444444444444444,
             "#bd3786"
            ],
            [
             0.5555555555555556,
             "#d8576b"
            ],
            [
             0.6666666666666666,
             "#ed7953"
            ],
            [
             0.7777777777777778,
             "#fb9f3a"
            ],
            [
             0.8888888888888888,
             "#fdca26"
            ],
            [
             1,
             "#f0f921"
            ]
           ]
          },
          "colorway": [
           "#636efa",
           "#EF553B",
           "#00cc96",
           "#ab63fa",
           "#FFA15A",
           "#19d3f3",
           "#FF6692",
           "#B6E880",
           "#FF97FF",
           "#FECB52"
          ],
          "font": {
           "color": "#2a3f5f"
          },
          "geo": {
           "bgcolor": "white",
           "lakecolor": "white",
           "landcolor": "white",
           "showlakes": true,
           "showland": true,
           "subunitcolor": "#C8D4E3"
          },
          "hoverlabel": {
           "align": "left"
          },
          "hovermode": "closest",
          "mapbox": {
           "style": "light"
          },
          "paper_bgcolor": "white",
          "plot_bgcolor": "white",
          "polar": {
           "angularaxis": {
            "gridcolor": "#EBF0F8",
            "linecolor": "#EBF0F8",
            "ticks": ""
           },
           "bgcolor": "white",
           "radialaxis": {
            "gridcolor": "#EBF0F8",
            "linecolor": "#EBF0F8",
            "ticks": ""
           }
          },
          "scene": {
           "xaxis": {
            "backgroundcolor": "white",
            "gridcolor": "#DFE8F3",
            "gridwidth": 2,
            "linecolor": "#EBF0F8",
            "showbackground": true,
            "ticks": "",
            "zerolinecolor": "#EBF0F8"
           },
           "yaxis": {
            "backgroundcolor": "white",
            "gridcolor": "#DFE8F3",
            "gridwidth": 2,
            "linecolor": "#EBF0F8",
            "showbackground": true,
            "ticks": "",
            "zerolinecolor": "#EBF0F8"
           },
           "zaxis": {
            "backgroundcolor": "white",
            "gridcolor": "#DFE8F3",
            "gridwidth": 2,
            "linecolor": "#EBF0F8",
            "showbackground": true,
            "ticks": "",
            "zerolinecolor": "#EBF0F8"
           }
          },
          "shapedefaults": {
           "line": {
            "color": "#2a3f5f"
           }
          },
          "ternary": {
           "aaxis": {
            "gridcolor": "#DFE8F3",
            "linecolor": "#A2B1C6",
            "ticks": ""
           },
           "baxis": {
            "gridcolor": "#DFE8F3",
            "linecolor": "#A2B1C6",
            "ticks": ""
           },
           "bgcolor": "white",
           "caxis": {
            "gridcolor": "#DFE8F3",
            "linecolor": "#A2B1C6",
            "ticks": ""
           }
          },
          "title": {
           "x": 0.05
          },
          "xaxis": {
           "automargin": true,
           "gridcolor": "#EBF0F8",
           "linecolor": "#EBF0F8",
           "ticks": "",
           "title": {
            "standoff": 15
           },
           "zerolinecolor": "#EBF0F8",
           "zerolinewidth": 2
          },
          "yaxis": {
           "automargin": true,
           "gridcolor": "#EBF0F8",
           "linecolor": "#EBF0F8",
           "ticks": "",
           "title": {
            "standoff": 15
           },
           "zerolinecolor": "#EBF0F8",
           "zerolinewidth": 2
          }
         }
        }
       }
      }
     },
     "metadata": {},
     "output_type": "display_data"
    }
   ],
   "source": [
    "selected_features = ['snomlt(mm)', 'eplant(mm)', 'surq_cha(mm)', \n",
    "                         'snofall(mm)', 'wet_oflo(mm)', 'wet_evap(mm)', \n",
    "                         'snopack(mm)', 'sw_change(mm)', 'MIN-TEM(C)','SWATPlusSimFlow','flow(m^3/s)']\n",
    "start_year = 1972\n",
    "pred_years = np.arange(2015,2020)\n",
    "RETRAIN = True\n",
    "name = 'InputOutputSamples_hydrosimyr_swatpsim'\n",
    "batch_size = 32\n",
    "ystar_col = \"pred\"\n",
    "if not os.path.exists(sample_path):\n",
    "    os.makedirs(sample_path)\n",
    "for hydro_station in hydro_stations:\n",
    "    sample_path = f'../samples/SequenceSamples/{hydro_station}/{name}/'\n",
    "    if not os.path.exists(sample_path):\n",
    "        os.makedirs(sample_path)\n",
    "    result_path = f'../result/LSTMRegressorData/{hydro_station}/{name}/'\n",
    "    if not os.path.exists(result_path):\n",
    "        os.makedirs(result_path)\n",
    "    pred_df = pd.DataFrame()\n",
    "    for pred_year in pred_years:\n",
    "        model_path = f'../model/12MonthlyFlowProcessForecast_{hydro_station}/LSTMRegressorModel/{name}/pred{pred_year}/'\n",
    "        if not os.path.exists(model_path):\n",
    "            os.makedirs(model_path)\n",
    "        df = pd.read_csv(\n",
    "            f'../samples/{name}/{hydro_station}_MeteAVGCalvalFeatureDataForML_PRED{pred_year}.csv',\n",
    "            index_col=['date'], parse_dates=['date']\n",
    "        )\n",
    "\n",
    "        df = df[selected_features]\n",
    "\n",
    "        # Check if 'ARIMASimFlow' exists in df columns\n",
    "        if 'ARIMASimFlow' not in df.columns:\n",
    "            print(f\"Warning: ARIMASimFlow column not found in data for {hydro_station} station, year {pred_year}\")\n",
    "        \n",
    "        target = 'flow(m^3/s)'\n",
    "        features = list(df.columns.difference([target]))\n",
    "        features = list(df.columns.copy())\n",
    "        features.remove(target)\n",
    "        cal = df.loc[:f'{pred_year-6}-12-31',:]\n",
    "        test = df.loc[f'{pred_year-6}-01-01':f'{pred_year-1}-12-31',:]\n",
    "        pre = df.loc[f'{pred_year-1}-01-01':f'{pred_year}-12-31',:]\n",
    "        X_scaler = MinMaxScaler(feature_range=(0,1))\n",
    "        Y_scaler = MinMaxScaler(feature_range=(0,1))\n",
    "        X_scaler.fit(cal[features])\n",
    "        Y_scaler.fit(cal[[target]])\n",
    "        cal_X = X_scaler.transform(cal[features])\n",
    "        test_X = X_scaler.transform(test[features])\n",
    "        pre_X = X_scaler.transform(pre[features])\n",
    "        cal_y = Y_scaler.transform(cal[[target]])\n",
    "        test_y = Y_scaler.transform(test[[target]])\n",
    "        pre_y = Y_scaler.transform(pre[[target]])\n",
    "        cal = pd.concat([pd.DataFrame(cal_X,columns=features,index=cal.index),pd.DataFrame(cal_y,columns=[target],index=cal.index)],axis=1)\n",
    "        test = pd.concat([pd.DataFrame(test_X,columns=features,index=test.index),pd.DataFrame(test_y,columns=[target],index=test.index)],axis=1)\n",
    "        pre = pd.concat([pd.DataFrame(pre_X,columns=features,index=pre.index),pd.DataFrame(pre_y,columns=[target],index=pre.index)],axis=1)\n",
    "        cal.to_csv(sample_path+f'cal_{start_year}_{pred_year-6}.csv')\n",
    "        test.to_csv(sample_path+f'test_{pred_year-5}_{pred_year-1}.csv')\n",
    "        pre.to_csv(sample_path+f'pre_{pred_year}.csv')\n",
    "\n",
    "        sequence_length =12\n",
    "        cal_dataset = SimulatedSequenceDataset(\n",
    "            dataframe=cal.copy(),\n",
    "            target=target,\n",
    "            features=features,\n",
    "            sequence_length=sequence_length\n",
    "        )\n",
    "        test_dataset = SimulatedSequenceDataset(\n",
    "            dataframe=test.copy(),\n",
    "            target=target,\n",
    "            features=features,\n",
    "            sequence_length=sequence_length\n",
    "        )\n",
    "\n",
    "        i=0\n",
    "        X, y = cal_dataset[i]\n",
    "        # print(X)\n",
    "        # print(y)\n",
    "\n",
    "        # print(cal_dataset.X.shape, cal_dataset.y.shape)\n",
    "        # print(test_dataset.X.shape, test_dataset.y.shape)\n",
    "\n",
    "        cal_index = cal.index[sequence_length:]\n",
    "        test_index = test.index[sequence_length:]\n",
    "\n",
    "        # print(len(cal_index)==cal_dataset.__len__())\n",
    "        # print(len(test_index)==test_dataset.__len__())\n",
    "\n",
    "       \n",
    "        \n",
    "        if not os.path.exists(model_path+'model.pickle'):\n",
    "            objective = Objective(\n",
    "                    train_dataset=cal_dataset,\n",
    "                    val_dataset=test_dataset,\n",
    "                    num_epoch=1000,# 1000\n",
    "                    batch_size=batch_size,\n",
    "                    shuffle=True,\n",
    "                    model_path='./scheme/LSTMRegressor/',\n",
    "            )\n",
    "            study = optuna.create_study(\n",
    "                    study_name='example-study',\n",
    "                    direction='minimize',\n",
    "                )\n",
    "            study.optimize(objective, n_trials=100) #100\n",
    "\n",
    "            pruned_trials = study.get_trials(deepcopy=False, states=[TrialState.PRUNED])\n",
    "            complete_trials = study.get_trials(deepcopy=False, states=[TrialState.COMPLETE])\n",
    "\n",
    "\n",
    "            print(\"Study statistics: \")\n",
    "            print(\"  Number of finished trials: \", len(study.trials))\n",
    "            print(\"  Number of pruned trials: \", len(pruned_trials))\n",
    "            print(\"  Number of complete trials: \", len(complete_trials))\n",
    "\n",
    "            print(\"Best trial:\")\n",
    "            trial = study.best_trial\n",
    "\n",
    "            save_best_trial(trial, model_path=model_path)\n",
    "\n",
    "            save_model(trial, model_path=model_path)\n",
    "\n",
    "            best_model_state = trial.user_attrs[\"best_model_state\"]\n",
    "            print(\"  Value: \", trial.value)\n",
    "            print(\"  Params: \")\n",
    "            for key, value in trial.params.items():\n",
    "                print(\"    {}: {}\".format(key, value))\n",
    "\n",
    "            best_trial = load_best_trial(model_file=model_path+'best_trial.pickle')\n",
    "            model = load_model(model_file=model_path+'model.pickle').to(DEVICE)\n",
    "            cal_loader = DataLoader(cal_dataset, batch_size=64, shuffle=False)\n",
    "            test_loader = DataLoader(test_dataset, batch_size=64, shuffle=False)\n",
    "\n",
    "            cal_ = cal.loc[cal_index,[target]].copy()\n",
    "            test_ = test.loc[test_index,[target]].copy()\n",
    "\n",
    "            cal_[ystar_col] = predict(cal_loader, model).cpu().numpy()\n",
    "            test_[ystar_col] = predict(test_loader, model).cpu().numpy()\n",
    "\n",
    "            df_out = pd.concat((cal_, test_))[[target, ystar_col]]\n",
    "            for c in df_out.columns:\n",
    "                # df_out[c] = df_out[c] * target_std + target_mean\n",
    "                df_out[c] = Y_scaler.inverse_transform(df_out[[c]])\n",
    "            # print(df_out)\n",
    "            df_out = df_out.rename(columns={target: 'obs'})\n",
    "            print(f'R2 for sim at {hydro_station}({start_year}-{pred_year-1})',r2_score(df_out['obs'],df_out[ystar_col]))\n",
    "            df_out.to_csv(result_path+f'cal_test_sim_{start_year}_{pred_year-1}.csv')\n",
    "        else:\n",
    "            df_out = pd.read_csv(result_path+f'cal_test_sim_{start_year}_{pred_year-1}.csv',index_col=['date'], parse_dates=['date'])\n",
    "            print(f'R2 for sim at {hydro_station}({start_year}-{pred_year-1})',r2_score(df_out['obs'],df_out[ystar_col]))\n",
    "            print(f'model already exists in {model_path}')\n",
    "\n",
    "        # !Perform prediction\n",
    "        pre = pd.read_csv(sample_path+f'pre_{pred_year}.csv',index_col=['date'], parse_dates=['date'])\n",
    "        pre_dataset = SimulatedSequenceDataset(\n",
    "            dataframe=pre.copy(),\n",
    "            target=target,\n",
    "            features=features,\n",
    "            sequence_length=sequence_length\n",
    "        )\n",
    "        pre_loader = DataLoader(pre_dataset, batch_size=batch_size, shuffle=False)\n",
    "        pre_index = pre.index[sequence_length:]\n",
    "        pre_ = pre.loc[pre_index,[target]].copy()\n",
    "        model = load_model(model_file=model_path+'model.pickle').to(DEVICE)\n",
    "        pre_[ystar_col] = predict(pre_loader, model).cpu().numpy()\n",
    "        for c in pre_.columns:\n",
    "            # df_out[c] = df_out[c] * target_std + target_mean\n",
    "            pre_[c] = Y_scaler.inverse_transform(pre_[[c]])\n",
    "        pred_df = pd.concat((pred_df, pre_), axis=0)\n",
    "    pred_df = pred_df.rename(columns={'flow(m^3/s)': 'obs'})\n",
    "    print(f'R2 for pred at {hydro_station}({pred_years[0]}-{pred_years[-1]})',r2_score(pred_df['obs'],pred_df['pred']))\n",
    "    pred_df.to_csv(result_path+f'vif_lstm_pred_{pred_years[0]}_{pred_years[-1]}.csv')\n",
    "    # Visualization of the flow(m^3/s) and VIF_LSTM of pred_df\n",
    "    fig = go.Figure()\n",
    "    fig.add_trace(go.Scatter(x=pred_df.index, y=pred_df['obs'], mode='lines', name='obs'))\n",
    "    fig.add_trace(go.Scatter(x=pred_df.index, y=pred_df['pred'], mode='lines', name='pred'))\n",
    "    fig.show()\n"
   ]
  },
  {
   "cell_type": "code",
   "execution_count": 29,
   "metadata": {},
   "outputs": [
    {
     "name": "stderr",
     "output_type": "stream",
     "text": [
      "[I 2024-10-29 12:14:41,249] A new study created in memory with name: example-study\n"
     ]
    },
    {
     "name": "stdout",
     "output_type": "stream",
     "text": [
      "Warning: ARIMASimFlow column not found in data for Tangnaihai station, year 2015\n"
     ]
    },
    {
     "name": "stderr",
     "output_type": "stream",
     "text": [
      "[I 2024-10-29 12:15:35,343] Trial 0 finished with value: 0.002868501760531217 and parameters: {'num_layers': 3, 'hidden_size': 104, 'lstm_dropout': 0.24686982687638526, 'dense_dropout': 0.09843667407880913, 'learning_rate': 0.0010948524590535516}. Best is trial 0 with value: 0.002868501760531217.\n",
      "[I 2024-10-29 12:16:24,158] Trial 1 finished with value: 0.007857411168515682 and parameters: {'num_layers': 2, 'hidden_size': 64, 'lstm_dropout': 0.14712357590201003, 'dense_dropout': 0.3181419695115645, 'learning_rate': 9.269539776984173e-05}. Best is trial 0 with value: 0.002868501760531217.\n",
      "[I 2024-10-29 12:17:17,536] Trial 2 finished with value: 0.008487807121127844 and parameters: {'num_layers': 3, 'hidden_size': 88, 'lstm_dropout': 0.11508695043578998, 'dense_dropout': 0.29250456799692076, 'learning_rate': 1.607126384945447e-05}. Best is trial 0 with value: 0.002868501760531217.\n",
      "[I 2024-10-29 12:18:09,844] Trial 3 finished with value: 0.0062603752594441175 and parameters: {'num_layers': 3, 'hidden_size': 48, 'lstm_dropout': 0.36346594724206044, 'dense_dropout': 0.22595183000139973, 'learning_rate': 0.0008809461346764099}. Best is trial 0 with value: 0.002868501760531217.\n",
      "[I 2024-10-29 12:19:00,207] Trial 4 finished with value: 0.011450571473687887 and parameters: {'num_layers': 2, 'hidden_size': 128, 'lstm_dropout': 0.3186155282232292, 'dense_dropout': 0.381576008586574, 'learning_rate': 7.639090242176697e-05}. Best is trial 0 with value: 0.002868501760531217.\n",
      "[I 2024-10-29 12:19:50,519] Trial 5 finished with value: 0.0029734207782894373 and parameters: {'num_layers': 2, 'hidden_size': 64, 'lstm_dropout': 0.26680822726699005, 'dense_dropout': 0.11660556811638556, 'learning_rate': 7.455017852766579e-05}. Best is trial 0 with value: 0.002868501760531217.\n",
      "[I 2024-10-29 12:20:48,093] Trial 6 finished with value: 0.002847020048648119 and parameters: {'num_layers': 3, 'hidden_size': 72, 'lstm_dropout': 0.0405210622180226, 'dense_dropout': 0.12323919114748266, 'learning_rate': 0.022360757671219804}. Best is trial 6 with value: 0.002847020048648119.\n",
      "[I 2024-10-29 12:21:45,993] Trial 7 finished with value: 0.0054156105034053326 and parameters: {'num_layers': 3, 'hidden_size': 80, 'lstm_dropout': 0.1749605137053975, 'dense_dropout': 0.24971288904194494, 'learning_rate': 0.020455412670393674}. Best is trial 6 with value: 0.002847020048648119.\n",
      "[I 2024-10-29 12:21:46,057] Trial 8 pruned. \n",
      "[I 2024-10-29 12:22:41,728] Trial 9 finished with value: 0.0031490230467170477 and parameters: {'num_layers': 3, 'hidden_size': 80, 'lstm_dropout': 0.22457894157773273, 'dense_dropout': 0.11861940147111649, 'learning_rate': 0.002268165987463415}. Best is trial 6 with value: 0.002847020048648119.\n",
      "[I 2024-10-29 12:23:27,253] Trial 10 finished with value: 0.0031108109978958964 and parameters: {'num_layers': 1, 'hidden_size': 8, 'lstm_dropout': 0.0009015092915507644, 'dense_dropout': 0.029870841310679908, 'learning_rate': 0.06696923940717404}. Best is trial 6 with value: 0.002847020048648119.\n",
      "[I 2024-10-29 12:24:23,172] Trial 11 finished with value: 0.004283120157197118 and parameters: {'num_layers': 3, 'hidden_size': 104, 'lstm_dropout': 0.4981891938046843, 'dense_dropout': 0.12520578257385656, 'learning_rate': 0.004538432551803397}. Best is trial 6 with value: 0.002847020048648119.\n",
      "[I 2024-10-29 12:24:23,292] Trial 12 pruned. \n",
      "[I 2024-10-29 12:24:23,366] Trial 13 pruned. \n",
      "[I 2024-10-29 12:24:23,443] Trial 14 pruned. \n",
      "[I 2024-10-29 12:24:23,506] Trial 15 pruned. \n",
      "[I 2024-10-29 12:24:23,585] Trial 16 pruned. \n",
      "[I 2024-10-29 12:25:09,575] Trial 17 finished with value: 0.0019146503182128072 and parameters: {'num_layers': 1, 'hidden_size': 96, 'lstm_dropout': 0.2732826925918158, 'dense_dropout': 0.014204972915976388, 'learning_rate': 0.02899491258569333}. Best is trial 17 with value: 0.0019146503182128072.\n",
      "[I 2024-10-29 12:25:11,052] Trial 18 pruned. \n",
      "[I 2024-10-29 12:25:12,525] Trial 19 pruned. \n",
      "[I 2024-10-29 12:25:12,591] Trial 20 pruned. \n",
      "[I 2024-10-29 12:26:05,921] Trial 21 finished with value: 0.003631949075497687 and parameters: {'num_layers': 2, 'hidden_size': 112, 'lstm_dropout': 0.2995063017019533, 'dense_dropout': 0.08645543722042454, 'learning_rate': 0.0023848481179336175}. Best is trial 17 with value: 0.0019146503182128072.\n",
      "[I 2024-10-29 12:26:06,143] Trial 22 pruned. \n",
      "[I 2024-10-29 12:26:06,340] Trial 23 pruned. \n",
      "[I 2024-10-29 12:26:06,531] Trial 24 pruned. \n",
      "[I 2024-10-29 12:26:06,593] Trial 25 pruned. \n",
      "[I 2024-10-29 12:26:06,674] Trial 26 pruned. \n",
      "[I 2024-10-29 12:26:08,005] Trial 27 pruned. \n",
      "[I 2024-10-29 12:26:08,083] Trial 28 pruned. \n",
      "[I 2024-10-29 12:26:08,148] Trial 29 pruned. \n",
      "[I 2024-10-29 12:26:08,353] Trial 30 pruned. \n",
      "[I 2024-10-29 12:26:08,430] Trial 31 pruned. \n",
      "[I 2024-10-29 12:26:08,509] Trial 32 pruned. \n",
      "[I 2024-10-29 12:26:08,590] Trial 33 pruned. \n",
      "[I 2024-10-29 12:26:08,678] Trial 34 pruned. \n",
      "[I 2024-10-29 12:26:08,744] Trial 35 pruned. \n",
      "[I 2024-10-29 12:26:08,818] Trial 36 pruned. \n",
      "[I 2024-10-29 12:26:08,881] Trial 37 pruned. \n",
      "[I 2024-10-29 12:26:08,995] Trial 38 pruned. \n",
      "[I 2024-10-29 12:26:09,660] Trial 39 pruned. \n",
      "[I 2024-10-29 12:26:09,749] Trial 40 pruned. \n",
      "[I 2024-10-29 12:26:55,830] Trial 41 finished with value: 0.005626344936899841 and parameters: {'num_layers': 1, 'hidden_size': 8, 'lstm_dropout': 0.007393860779550954, 'dense_dropout': 0.03175291856480891, 'learning_rate': 0.050872113770515766}. Best is trial 17 with value: 0.0019146503182128072.\n",
      "[I 2024-10-29 12:27:40,367] Trial 42 finished with value: 0.0041236248798668385 and parameters: {'num_layers': 1, 'hidden_size': 16, 'lstm_dropout': 0.03657140272486575, 'dense_dropout': 0.024557763297957398, 'learning_rate': 0.014409184778491823}. Best is trial 17 with value: 0.0019146503182128072.\n",
      "[I 2024-10-29 12:27:40,432] Trial 43 pruned. \n",
      "[I 2024-10-29 12:27:40,495] Trial 44 pruned. \n",
      "[I 2024-10-29 12:28:29,502] Trial 45 finished with value: 0.003564551821909845 and parameters: {'num_layers': 2, 'hidden_size': 32, 'lstm_dropout': 0.09472391117114728, 'dense_dropout': 0.11531085359807842, 'learning_rate': 0.013914934805249014}. Best is trial 17 with value: 0.0019146503182128072.\n",
      "[I 2024-10-29 12:28:30,569] Trial 46 pruned. \n",
      "[I 2024-10-29 12:28:30,649] Trial 47 pruned. \n",
      "[I 2024-10-29 12:28:30,805] Trial 48 pruned. \n",
      "[I 2024-10-29 12:28:30,968] Trial 49 pruned. \n",
      "[I 2024-10-29 12:28:31,056] Trial 50 pruned. \n",
      "[I 2024-10-29 12:28:31,126] Trial 51 pruned. \n",
      "[I 2024-10-29 12:28:31,197] Trial 52 pruned. \n",
      "[I 2024-10-29 12:28:31,272] Trial 53 pruned. \n",
      "[I 2024-10-29 12:29:26,148] Trial 54 finished with value: 0.003956759232096374 and parameters: {'num_layers': 3, 'hidden_size': 112, 'lstm_dropout': 0.25794570553210777, 'dense_dropout': 0.17808352511016579, 'learning_rate': 0.005737497168238632}. Best is trial 17 with value: 0.0019146503182128072.\n",
      "[I 2024-10-29 12:29:26,218] Trial 55 pruned. \n",
      "[I 2024-10-29 12:29:26,290] Trial 56 pruned. \n",
      "[I 2024-10-29 12:29:26,368] Trial 57 pruned. \n",
      "[I 2024-10-29 12:29:26,437] Trial 58 pruned. \n",
      "[I 2024-10-29 12:29:26,510] Trial 59 pruned. \n",
      "[I 2024-10-29 12:29:26,579] Trial 60 pruned. \n",
      "[I 2024-10-29 12:29:26,745] Trial 61 pruned. \n",
      "[I 2024-10-29 12:29:26,905] Trial 62 pruned. \n",
      "[I 2024-10-29 12:30:15,577] Trial 63 finished with value: 0.003756109275855124 and parameters: {'num_layers': 2, 'hidden_size': 32, 'lstm_dropout': 0.23792019128870343, 'dense_dropout': 0.16687110904726435, 'learning_rate': 0.018535152640490663}. Best is trial 17 with value: 0.0019146503182128072.\n",
      "[I 2024-10-29 12:31:03,938] Trial 64 finished with value: 0.0022536544129252434 and parameters: {'num_layers': 2, 'hidden_size': 16, 'lstm_dropout': 0.07673683231558612, 'dense_dropout': 0.135721790265802, 'learning_rate': 0.07730066806306175}. Best is trial 17 with value: 0.0019146503182128072.\n",
      "[I 2024-10-29 12:31:53,103] Trial 65 finished with value: 0.003581857541576028 and parameters: {'num_layers': 2, 'hidden_size': 16, 'lstm_dropout': 0.07861962219302403, 'dense_dropout': 0.08096482686708176, 'learning_rate': 0.056109440088835456}. Best is trial 17 with value: 0.0019146503182128072.\n",
      "[I 2024-10-29 12:31:53,165] Trial 66 pruned. \n",
      "[I 2024-10-29 12:31:53,242] Trial 67 pruned. \n",
      "[I 2024-10-29 12:31:53,316] Trial 68 pruned. \n",
      "[I 2024-10-29 12:31:53,392] Trial 69 pruned. \n",
      "[I 2024-10-29 12:31:53,497] Trial 70 pruned. \n",
      "[I 2024-10-29 12:31:53,608] Trial 71 pruned. \n",
      "[I 2024-10-29 12:31:53,676] Trial 72 pruned. \n",
      "[I 2024-10-29 12:31:53,749] Trial 73 pruned. \n",
      "[I 2024-10-29 12:31:53,821] Trial 74 pruned. \n",
      "[I 2024-10-29 12:32:43,594] Trial 75 finished with value: 0.004163008299656212 and parameters: {'num_layers': 2, 'hidden_size': 32, 'lstm_dropout': 0.22506302330467295, 'dense_dropout': 0.08179939743417809, 'learning_rate': 0.033467957221148086}. Best is trial 17 with value: 0.0019146503182128072.\n",
      "[I 2024-10-29 12:32:43,712] Trial 76 pruned. \n",
      "[I 2024-10-29 12:32:43,789] Trial 77 pruned. \n",
      "[I 2024-10-29 12:32:43,876] Trial 78 pruned. \n",
      "[I 2024-10-29 12:32:43,940] Trial 79 pruned. \n",
      "[I 2024-10-29 12:32:44,056] Trial 80 pruned. \n",
      "[I 2024-10-29 12:32:44,189] Trial 81 pruned. \n",
      "[I 2024-10-29 12:32:44,264] Trial 82 pruned. \n",
      "[I 2024-10-29 12:32:44,332] Trial 83 pruned. \n",
      "[I 2024-10-29 12:32:44,398] Trial 84 pruned. \n",
      "[I 2024-10-29 12:32:44,474] Trial 85 pruned. \n",
      "[I 2024-10-29 12:32:44,534] Trial 86 pruned. \n",
      "[I 2024-10-29 12:33:30,303] Trial 87 finished with value: 0.001781786122592166 and parameters: {'num_layers': 1, 'hidden_size': 96, 'lstm_dropout': 0.034200067707317046, 'dense_dropout': 0.06060369010853425, 'learning_rate': 0.01610251074565405}. Best is trial 87 with value: 0.001781786122592166.\n",
      "[I 2024-10-29 12:34:14,597] Trial 88 finished with value: 0.002255322993732989 and parameters: {'num_layers': 1, 'hidden_size': 96, 'lstm_dropout': 0.016168836420598756, 'dense_dropout': 0.059680120491635597, 'learning_rate': 0.003729554078056688}. Best is trial 87 with value: 0.001781786122592166.\n",
      "[I 2024-10-29 12:34:59,103] Trial 89 finished with value: 0.002630855655297637 and parameters: {'num_layers': 1, 'hidden_size': 96, 'lstm_dropout': 0.03458613680064085, 'dense_dropout': 0.05839276300170671, 'learning_rate': 0.003241472433925074}. Best is trial 87 with value: 0.001781786122592166.\n",
      "[I 2024-10-29 12:35:44,195] Trial 90 finished with value: 0.0031873327679932117 and parameters: {'num_layers': 1, 'hidden_size': 96, 'lstm_dropout': 0.03865858767847859, 'dense_dropout': 0.05700810457542089, 'learning_rate': 0.003676094331506574}. Best is trial 87 with value: 0.001781786122592166.\n",
      "[I 2024-10-29 12:36:27,820] Trial 91 finished with value: 0.0041176482336595654 and parameters: {'num_layers': 1, 'hidden_size': 96, 'lstm_dropout': 0.009597920765108462, 'dense_dropout': 0.006840059011326498, 'learning_rate': 0.0020918364325513213}. Best is trial 87 with value: 0.001781786122592166.\n",
      "[I 2024-10-29 12:37:12,523] Trial 92 finished with value: 0.003616634930949658 and parameters: {'num_layers': 1, 'hidden_size': 88, 'lstm_dropout': 0.021212905706798124, 'dense_dropout': 0.03964098960685676, 'learning_rate': 0.0033947463902840778}. Best is trial 87 with value: 0.001781786122592166.\n",
      "[I 2024-10-29 12:37:12,584] Trial 93 pruned. \n",
      "[I 2024-10-29 12:37:58,087] Trial 94 finished with value: 0.0024077947018668056 and parameters: {'num_layers': 1, 'hidden_size': 104, 'lstm_dropout': 0.016959762005496343, 'dense_dropout': 0.06568318019906597, 'learning_rate': 0.005426831332066954}. Best is trial 87 with value: 0.001781786122592166.\n",
      "[I 2024-10-29 12:38:43,733] Trial 95 finished with value: 0.0018740989034995437 and parameters: {'num_layers': 1, 'hidden_size': 104, 'lstm_dropout': 0.4553538776479162, 'dense_dropout': 0.0705361824228749, 'learning_rate': 0.005961921380301258}. Best is trial 87 with value: 0.001781786122592166.\n",
      "[I 2024-10-29 12:39:29,745] Trial 96 finished with value: 0.0024064305471256375 and parameters: {'num_layers': 1, 'hidden_size': 104, 'lstm_dropout': 0.4192367030207216, 'dense_dropout': 0.06656604483485695, 'learning_rate': 0.005401522180873689}. Best is trial 87 with value: 0.001781786122592166.\n",
      "[I 2024-10-29 12:40:16,744] Trial 97 finished with value: 0.0019375794799998403 and parameters: {'num_layers': 1, 'hidden_size': 104, 'lstm_dropout': 0.4575768407772275, 'dense_dropout': 0.06886181457239464, 'learning_rate': 0.008063803063762198}. Best is trial 87 with value: 0.001781786122592166.\n",
      "[I 2024-10-29 12:41:00,973] Trial 98 finished with value: 0.0022646107245236635 and parameters: {'num_layers': 1, 'hidden_size': 104, 'lstm_dropout': 0.45778842457597174, 'dense_dropout': 0.059064715128758515, 'learning_rate': 0.006293699302138793}. Best is trial 87 with value: 0.001781786122592166.\n",
      "[I 2024-10-29 12:41:46,967] Trial 99 finished with value: 0.0045129244681447744 and parameters: {'num_layers': 1, 'hidden_size': 104, 'lstm_dropout': 0.4533297739967851, 'dense_dropout': 0.0606823787347333, 'learning_rate': 0.0067357510475659875}. Best is trial 87 with value: 0.001781786122592166.\n",
      "[I 2024-10-29 12:41:47,133] A new study created in memory with name: example-study\n"
     ]
    },
    {
     "name": "stdout",
     "output_type": "stream",
     "text": [
      "Study statistics: \n",
      "  Number of finished trials:  100\n",
      "  Number of pruned trials:  67\n",
      "  Number of complete trials:  33\n",
      "Best trial:\n",
      "  Value:  0.001781786122592166\n",
      "  Params: \n",
      "    num_layers: 1\n",
      "    hidden_size: 96\n",
      "    lstm_dropout: 0.034200067707317046\n",
      "    dense_dropout: 0.06060369010853425\n",
      "    learning_rate: 0.01610251074565405\n",
      "R2 for sim at Tangnaihai(1972-2014) 0.9765327917124771\n",
      "Warning: ARIMASimFlow column not found in data for Tangnaihai station, year 2016\n"
     ]
    },
    {
     "name": "stderr",
     "output_type": "stream",
     "text": [
      "[I 2024-10-29 12:42:35,563] Trial 0 finished with value: 0.005818087141960859 and parameters: {'num_layers': 1, 'hidden_size': 104, 'lstm_dropout': 0.3929800216188265, 'dense_dropout': 0.2251619400195643, 'learning_rate': 1.4352688140048598e-05}. Best is trial 0 with value: 0.005818087141960859.\n",
      "[I 2024-10-29 12:43:29,960] Trial 1 finished with value: 0.009717746637761593 and parameters: {'num_layers': 3, 'hidden_size': 56, 'lstm_dropout': 0.07227708039040975, 'dense_dropout': 0.4036788718346034, 'learning_rate': 0.029721163083579628}. Best is trial 0 with value: 0.005818087141960859.\n",
      "[I 2024-10-29 12:44:16,631] Trial 2 finished with value: 0.010389550821855664 and parameters: {'num_layers': 1, 'hidden_size': 104, 'lstm_dropout': 0.1751789667861962, 'dense_dropout': 0.3677628987151054, 'learning_rate': 0.021420983611543182}. Best is trial 0 with value: 0.005818087141960859.\n",
      "[I 2024-10-29 12:45:01,883] Trial 3 finished with value: 0.0017340044723823667 and parameters: {'num_layers': 1, 'hidden_size': 32, 'lstm_dropout': 0.28820696246301436, 'dense_dropout': 0.00022792104469060437, 'learning_rate': 0.023872896359232475}. Best is trial 3 with value: 0.0017340044723823667.\n",
      "[I 2024-10-29 12:45:52,758] Trial 4 finished with value: 0.0043385319877415895 and parameters: {'num_layers': 2, 'hidden_size': 32, 'lstm_dropout': 0.22219675011341067, 'dense_dropout': 0.22324206479950703, 'learning_rate': 0.00034623506837702455}. Best is trial 3 with value: 0.0017340044723823667.\n",
      "[I 2024-10-29 12:45:52,818] Trial 5 pruned. \n",
      "[I 2024-10-29 12:46:47,262] Trial 6 finished with value: 0.0018935336265712976 and parameters: {'num_layers': 3, 'hidden_size': 32, 'lstm_dropout': 0.16501453752671436, 'dense_dropout': 0.1614855819780449, 'learning_rate': 0.004933910590245134}. Best is trial 3 with value: 0.0017340044723823667.\n",
      "[I 2024-10-29 12:46:47,313] Trial 7 pruned. \n",
      "[I 2024-10-29 12:46:47,430] Trial 8 pruned. \n",
      "[I 2024-10-29 12:47:41,280] Trial 9 finished with value: 0.003564954618923366 and parameters: {'num_layers': 2, 'hidden_size': 112, 'lstm_dropout': 0.09686754945990395, 'dense_dropout': 0.018856106230376035, 'learning_rate': 0.00040816281573476733}. Best is trial 3 with value: 0.0017340044723823667.\n",
      "[I 2024-10-29 12:47:42,517] Trial 10 pruned. \n",
      "[I 2024-10-29 12:48:37,945] Trial 11 finished with value: 0.0031339849811047316 and parameters: {'num_layers': 3, 'hidden_size': 48, 'lstm_dropout': 0.30320205593198185, 'dense_dropout': 0.14957946941392633, 'learning_rate': 0.0032083967143186837}. Best is trial 3 with value: 0.0017340044723823667.\n",
      "[I 2024-10-29 12:48:38,078] Trial 12 pruned. \n",
      "[I 2024-10-29 12:49:29,391] Trial 13 finished with value: 0.0022487364476546645 and parameters: {'num_layers': 2, 'hidden_size': 8, 'lstm_dropout': 0.2603914323454627, 'dense_dropout': 0.01199852693526754, 'learning_rate': 0.004212904573372594}. Best is trial 3 with value: 0.0017340044723823667.\n",
      "[I 2024-10-29 12:49:30,161] Trial 14 pruned. \n",
      "[I 2024-10-29 12:49:30,243] Trial 15 pruned. \n",
      "[I 2024-10-29 12:50:17,306] Trial 16 finished with value: 0.0031598990317434072 and parameters: {'num_layers': 1, 'hidden_size': 64, 'lstm_dropout': 0.2677017479891355, 'dense_dropout': 0.07742807553128833, 'learning_rate': 0.010040413651545814}. Best is trial 3 with value: 0.0017340044723823667.\n",
      "[I 2024-10-29 12:50:17,804] Trial 17 pruned. \n",
      "[I 2024-10-29 12:50:17,935] Trial 18 pruned. \n",
      "[I 2024-10-29 12:51:04,213] Trial 19 finished with value: 0.002787781530059874 and parameters: {'num_layers': 1, 'hidden_size': 48, 'lstm_dropout': 0.38280903341262806, 'dense_dropout': 0.05332221960564365, 'learning_rate': 0.029206744609025437}. Best is trial 3 with value: 0.0017340044723823667.\n",
      "[I 2024-10-29 12:51:04,324] Trial 20 pruned. \n",
      "[I 2024-10-29 12:51:55,087] Trial 21 finished with value: 0.0042405363637954 and parameters: {'num_layers': 2, 'hidden_size': 8, 'lstm_dropout': 0.2559246895708217, 'dense_dropout': 0.019278995155904644, 'learning_rate': 0.004871540769939576}. Best is trial 3 with value: 0.0017340044723823667.\n",
      "[I 2024-10-29 12:51:55,209] Trial 22 pruned. \n",
      "[I 2024-10-29 12:51:55,282] Trial 23 pruned. \n",
      "[I 2024-10-29 12:51:56,348] Trial 24 pruned. \n",
      "[I 2024-10-29 12:52:47,917] Trial 25 finished with value: 0.002661024103872478 and parameters: {'num_layers': 2, 'hidden_size': 16, 'lstm_dropout': 0.1105263949165276, 'dense_dropout': 0.0825182235169632, 'learning_rate': 0.02141100707789273}. Best is trial 3 with value: 0.0017340044723823667.\n",
      "[I 2024-10-29 12:52:47,993] Trial 26 pruned. \n",
      "[I 2024-10-29 12:52:48,059] Trial 27 pruned. \n",
      "[I 2024-10-29 12:52:48,239] Trial 28 pruned. \n",
      "[I 2024-10-29 12:52:48,303] Trial 29 pruned. \n",
      "[I 2024-10-29 12:52:48,489] Trial 30 pruned. \n",
      "[I 2024-10-29 12:52:48,650] Trial 31 pruned. \n",
      "[I 2024-10-29 12:53:39,253] Trial 32 finished with value: 0.0028435061685740948 and parameters: {'num_layers': 2, 'hidden_size': 16, 'lstm_dropout': 0.05968838958307038, 'dense_dropout': 0.0836016749749029, 'learning_rate': 0.011756044025949807}. Best is trial 3 with value: 0.0017340044723823667.\n",
      "[I 2024-10-29 12:54:29,703] Trial 33 finished with value: 0.002785336982924491 and parameters: {'num_layers': 2, 'hidden_size': 24, 'lstm_dropout': 0.18636980836305944, 'dense_dropout': 0.14853122867221735, 'learning_rate': 0.03576206892424079}. Best is trial 3 with value: 0.0017340044723823667.\n",
      "[I 2024-10-29 12:55:19,261] Trial 34 finished with value: 0.002646113163791597 and parameters: {'num_layers': 2, 'hidden_size': 8, 'lstm_dropout': 0.09108832873246066, 'dense_dropout': 0.04429798087195217, 'learning_rate': 0.01935743907370715}. Best is trial 3 with value: 0.0017340044723823667.\n",
      "[I 2024-10-29 12:55:19,318] Trial 35 pruned. \n",
      "[I 2024-10-29 12:55:19,383] Trial 36 pruned. \n",
      "[I 2024-10-29 12:56:10,257] Trial 37 finished with value: 0.002202768577262759 and parameters: {'num_layers': 2, 'hidden_size': 48, 'lstm_dropout': 0.22208306231220548, 'dense_dropout': 0.055115707428059546, 'learning_rate': 0.0069254596558011835}. Best is trial 3 with value: 0.0017340044723823667.\n",
      "[I 2024-10-29 12:56:10,334] Trial 38 pruned. \n",
      "[I 2024-10-29 12:56:10,402] Trial 39 pruned. \n",
      "[I 2024-10-29 12:56:11,468] Trial 40 pruned. \n",
      "[I 2024-10-29 12:57:03,603] Trial 41 finished with value: 0.0016066249227151275 and parameters: {'num_layers': 2, 'hidden_size': 40, 'lstm_dropout': 0.18241695471910999, 'dense_dropout': 0.03242656775708519, 'learning_rate': 0.01856914014825764}. Best is trial 41 with value: 0.0016066249227151275.\n",
      "[I 2024-10-29 12:57:03,670] Trial 42 pruned. \n",
      "[I 2024-10-29 12:57:03,740] Trial 43 pruned. \n",
      "[I 2024-10-29 12:58:00,044] Trial 44 finished with value: 0.002752974396571517 and parameters: {'num_layers': 2, 'hidden_size': 128, 'lstm_dropout': 0.32671556766882126, 'dense_dropout': 0.05902590111860336, 'learning_rate': 0.012555487325808976}. Best is trial 41 with value: 0.0016066249227151275.\n",
      "[I 2024-10-29 12:58:00,171] Trial 45 pruned. \n",
      "[I 2024-10-29 12:58:00,249] Trial 46 pruned. \n",
      "[I 2024-10-29 12:58:00,412] Trial 47 pruned. \n",
      "[I 2024-10-29 12:58:55,434] Trial 48 finished with value: 0.0027032254729419947 and parameters: {'num_layers': 3, 'hidden_size': 72, 'lstm_dropout': 0.1930070159963197, 'dense_dropout': 0.06440991077257957, 'learning_rate': 0.003805598514972294}. Best is trial 41 with value: 0.0016066249227151275.\n",
      "[I 2024-10-29 12:58:55,501] Trial 49 pruned. \n",
      "[I 2024-10-29 12:59:46,118] Trial 50 finished with value: 0.0020205058972351253 and parameters: {'num_layers': 2, 'hidden_size': 48, 'lstm_dropout': 0.15145674449679672, 'dense_dropout': 0.11917778112515386, 'learning_rate': 0.015356507826253243}. Best is trial 41 with value: 0.0016066249227151275.\n",
      "[I 2024-10-29 13:00:37,967] Trial 51 finished with value: 0.0031159049831330776 and parameters: {'num_layers': 2, 'hidden_size': 48, 'lstm_dropout': 0.15946478407322737, 'dense_dropout': 0.10019511517453453, 'learning_rate': 0.015186196961423306}. Best is trial 41 with value: 0.0016066249227151275.\n",
      "[I 2024-10-29 13:00:38,039] Trial 52 pruned. \n",
      "[I 2024-10-29 13:01:30,429] Trial 53 finished with value: 0.002598905353806913 and parameters: {'num_layers': 2, 'hidden_size': 40, 'lstm_dropout': 0.13195414332596, 'dense_dropout': 0.017582968068987195, 'learning_rate': 0.02447249709990112}. Best is trial 41 with value: 0.0016066249227151275.\n",
      "[I 2024-10-29 13:01:30,501] Trial 54 pruned. \n",
      "[I 2024-10-29 13:01:30,573] Trial 55 pruned. \n",
      "[I 2024-10-29 13:02:23,391] Trial 56 finished with value: 0.0015509831137023866 and parameters: {'num_layers': 2, 'hidden_size': 64, 'lstm_dropout': 0.2637510235281985, 'dense_dropout': 0.039797036820399076, 'learning_rate': 0.005842236882270005}. Best is trial 56 with value: 0.0015509831137023866.\n",
      "[I 2024-10-29 13:02:23,518] Trial 57 pruned. \n",
      "[I 2024-10-29 13:02:23,584] Trial 58 pruned. \n",
      "[I 2024-10-29 13:02:23,658] Trial 59 pruned. \n",
      "[I 2024-10-29 13:02:23,794] Trial 60 pruned. \n",
      "[I 2024-10-29 13:03:15,687] Trial 61 finished with value: 0.002234827319625765 and parameters: {'num_layers': 2, 'hidden_size': 56, 'lstm_dropout': 0.26225630602519173, 'dense_dropout': 0.04794494846761163, 'learning_rate': 0.005982220246879178}. Best is trial 56 with value: 0.0015509831137023866.\n",
      "[I 2024-10-29 13:04:08,831] Trial 62 finished with value: 0.0016242899000644684 and parameters: {'num_layers': 2, 'hidden_size': 64, 'lstm_dropout': 0.291668040677517, 'dense_dropout': 0.045730791943912955, 'learning_rate': 0.008346893282587448}. Best is trial 56 with value: 0.0015509831137023866.\n",
      "[I 2024-10-29 13:04:08,898] Trial 63 pruned. \n",
      "[I 2024-10-29 13:04:08,965] Trial 64 pruned. \n",
      "[I 2024-10-29 13:04:09,087] Trial 65 pruned. \n",
      "[I 2024-10-29 13:04:09,206] Trial 66 pruned. \n",
      "[I 2024-10-29 13:05:01,511] Trial 67 finished with value: 0.0019934693118557334 and parameters: {'num_layers': 2, 'hidden_size': 72, 'lstm_dropout': 0.2433500816034767, 'dense_dropout': 0.11762809580485267, 'learning_rate': 0.01736068337508307}. Best is trial 56 with value: 0.0015509831137023866.\n",
      "[I 2024-10-29 13:05:01,587] Trial 68 pruned. \n",
      "[I 2024-10-29 13:05:01,653] Trial 69 pruned. \n",
      "[I 2024-10-29 13:05:01,778] Trial 70 pruned. \n",
      "[I 2024-10-29 13:05:01,909] Trial 71 pruned. \n",
      "[I 2024-10-29 13:05:02,089] Trial 72 pruned. \n",
      "[I 2024-10-29 13:05:02,265] Trial 73 pruned. \n",
      "[I 2024-10-29 13:05:02,335] Trial 74 pruned. \n",
      "[I 2024-10-29 13:05:02,410] Trial 75 pruned. \n",
      "[I 2024-10-29 13:05:02,485] Trial 76 pruned. \n",
      "[I 2024-10-29 13:05:02,638] Trial 77 pruned. \n",
      "[I 2024-10-29 13:05:02,722] Trial 78 pruned. \n",
      "[I 2024-10-29 13:05:02,788] Trial 79 pruned. \n",
      "[I 2024-10-29 13:05:02,863] Trial 80 pruned. \n",
      "[I 2024-10-29 13:05:03,015] Trial 81 pruned. \n",
      "[I 2024-10-29 13:05:56,278] Trial 82 finished with value: 0.0023052006727084517 and parameters: {'num_layers': 2, 'hidden_size': 56, 'lstm_dropout': 0.25296360276399793, 'dense_dropout': 0.04814833731343139, 'learning_rate': 0.012430667054302173}. Best is trial 56 with value: 0.0015509831137023866.\n",
      "[I 2024-10-29 13:06:47,360] Trial 83 finished with value: 0.0019822396570816636 and parameters: {'num_layers': 2, 'hidden_size': 48, 'lstm_dropout': 0.2221150269053479, 'dense_dropout': 0.030447230495708043, 'learning_rate': 0.00913651428345915}. Best is trial 56 with value: 0.0015509831137023866.\n",
      "[I 2024-10-29 13:06:47,432] Trial 84 pruned. \n",
      "[I 2024-10-29 13:07:37,479] Trial 85 finished with value: 0.002204852586146444 and parameters: {'num_layers': 2, 'hidden_size': 24, 'lstm_dropout': 0.19611329509129122, 'dense_dropout': 0.02781901949104177, 'learning_rate': 0.01799413306239726}. Best is trial 56 with value: 0.0015509831137023866.\n",
      "[I 2024-10-29 13:07:37,547] Trial 86 pruned. \n",
      "[I 2024-10-29 13:07:37,779] Trial 87 pruned. \n",
      "[I 2024-10-29 13:08:29,635] Trial 88 finished with value: 0.0024340400705114007 and parameters: {'num_layers': 2, 'hidden_size': 32, 'lstm_dropout': 0.17539772074658247, 'dense_dropout': 0.010417220581338083, 'learning_rate': 0.0076687585009620925}. Best is trial 56 with value: 0.0015509831137023866.\n",
      "[I 2024-10-29 13:08:29,753] Trial 89 pruned. \n",
      "[I 2024-10-29 13:08:29,824] Trial 90 pruned. \n",
      "[I 2024-10-29 13:08:29,911] Trial 91 pruned. \n",
      "[I 2024-10-29 13:08:29,983] Trial 92 pruned. \n",
      "[I 2024-10-29 13:08:30,058] Trial 93 pruned. \n",
      "[I 2024-10-29 13:08:30,191] Trial 94 pruned. \n",
      "[I 2024-10-29 13:08:30,259] Trial 95 pruned. \n",
      "[I 2024-10-29 13:08:30,331] Trial 96 pruned. \n",
      "[I 2024-10-29 13:08:30,409] Trial 97 pruned. \n",
      "[I 2024-10-29 13:08:30,540] Trial 98 pruned. \n",
      "[I 2024-10-29 13:08:30,609] Trial 99 pruned. \n",
      "[I 2024-10-29 13:08:30,735] A new study created in memory with name: example-study\n"
     ]
    },
    {
     "name": "stdout",
     "output_type": "stream",
     "text": [
      "Study statistics: \n",
      "  Number of finished trials:  100\n",
      "  Number of pruned trials:  69\n",
      "  Number of complete trials:  31\n",
      "Best trial:\n",
      "  Value:  0.0015509831137023866\n",
      "  Params: \n",
      "    num_layers: 2\n",
      "    hidden_size: 64\n",
      "    lstm_dropout: 0.2637510235281985\n",
      "    dense_dropout: 0.039797036820399076\n",
      "    learning_rate: 0.005842236882270005\n",
      "R2 for sim at Tangnaihai(1972-2015) 0.9499199982410991\n",
      "Warning: ARIMASimFlow column not found in data for Tangnaihai station, year 2017\n"
     ]
    },
    {
     "name": "stderr",
     "output_type": "stream",
     "text": [
      "[I 2024-10-29 13:09:27,290] Trial 0 finished with value: 0.003276884206570685 and parameters: {'num_layers': 3, 'hidden_size': 48, 'lstm_dropout': 0.38954605853527186, 'dense_dropout': 0.21395604533701423, 'learning_rate': 0.0003598017087604249}. Best is trial 0 with value: 0.003276884206570685.\n",
      "[I 2024-10-29 13:10:23,358] Trial 1 finished with value: 0.007523299194872379 and parameters: {'num_layers': 3, 'hidden_size': 32, 'lstm_dropout': 0.13358120723624933, 'dense_dropout': 0.292073502951336, 'learning_rate': 0.004655187222634587}. Best is trial 0 with value: 0.003276884206570685.\n",
      "[I 2024-10-29 13:11:10,626] Trial 2 finished with value: 0.007377174217253923 and parameters: {'num_layers': 1, 'hidden_size': 24, 'lstm_dropout': 0.32701540057603945, 'dense_dropout': 0.42697555142808347, 'learning_rate': 0.036262863531733275}. Best is trial 0 with value: 0.003276884206570685.\n",
      "[I 2024-10-29 13:12:06,045] Trial 3 finished with value: 0.0065423434134572744 and parameters: {'num_layers': 3, 'hidden_size': 16, 'lstm_dropout': 0.24075503784404395, 'dense_dropout': 0.3184941551913782, 'learning_rate': 0.0036413530769483456}. Best is trial 0 with value: 0.003276884206570685.\n",
      "[I 2024-10-29 13:12:55,351] Trial 4 finished with value: 0.0025845010532066226 and parameters: {'num_layers': 1, 'hidden_size': 120, 'lstm_dropout': 0.16527493517654607, 'dense_dropout': 0.06647311570697723, 'learning_rate': 0.00036987195095896985}. Best is trial 4 with value: 0.0025845010532066226.\n",
      "[I 2024-10-29 13:12:55,413] Trial 5 pruned. \n",
      "[I 2024-10-29 13:12:55,469] Trial 6 pruned. \n",
      "[I 2024-10-29 13:12:55,581] Trial 7 pruned. \n",
      "[I 2024-10-29 13:13:55,080] Trial 8 finished with value: 0.005140192806720734 and parameters: {'num_layers': 3, 'hidden_size': 112, 'lstm_dropout': 0.3195868610383695, 'dense_dropout': 0.22126919714379645, 'learning_rate': 0.006607669180682438}. Best is trial 4 with value: 0.0025845010532066226.\n",
      "[I 2024-10-29 13:13:55,131] Trial 9 pruned. \n",
      "[I 2024-10-29 13:13:55,202] Trial 10 pruned. \n",
      "[I 2024-10-29 13:13:55,277] Trial 11 pruned. \n",
      "[I 2024-10-29 13:14:42,315] Trial 12 finished with value: 0.001960186054930091 and parameters: {'num_layers': 1, 'hidden_size': 56, 'lstm_dropout': 0.38445872042379775, 'dense_dropout': 0.0034122841683422722, 'learning_rate': 0.0008353773076921347}. Best is trial 12 with value: 0.001960186054930091.\n",
      "[I 2024-10-29 13:15:30,200] Trial 13 finished with value: 0.003930259379558265 and parameters: {'num_layers': 1, 'hidden_size': 96, 'lstm_dropout': 0.13793649455566465, 'dense_dropout': 0.002165362343496202, 'learning_rate': 0.0013536991546772574}. Best is trial 12 with value: 0.001960186054930091.\n",
      "[I 2024-10-29 13:15:30,264] Trial 14 pruned. \n",
      "[I 2024-10-29 13:15:30,327] Trial 15 pruned. \n",
      "[I 2024-10-29 13:15:30,394] Trial 16 pruned. \n",
      "[I 2024-10-29 13:15:30,462] Trial 17 pruned. \n",
      "[I 2024-10-29 13:15:30,555] Trial 18 pruned. \n",
      "[I 2024-10-29 13:16:16,558] Trial 19 finished with value: 0.00475903251208365 and parameters: {'num_layers': 1, 'hidden_size': 80, 'lstm_dropout': 0.3943446026686199, 'dense_dropout': 0.18128744757479576, 'learning_rate': 0.0021703668119394176}. Best is trial 12 with value: 0.001960186054930091.\n",
      "[I 2024-10-29 13:16:16,630] Trial 20 pruned. \n",
      "[I 2024-10-29 13:16:16,710] Trial 21 pruned. \n",
      "[I 2024-10-29 13:16:16,794] Trial 22 pruned. \n",
      "[I 2024-10-29 13:16:16,910] Trial 23 pruned. \n",
      "[I 2024-10-29 13:16:16,979] Trial 24 pruned. \n",
      "[I 2024-10-29 13:16:17,043] Trial 25 pruned. \n",
      "[I 2024-10-29 13:16:17,145] Trial 26 pruned. \n",
      "[I 2024-10-29 13:16:17,242] Trial 27 pruned. \n",
      "[I 2024-10-29 13:17:06,515] Trial 28 finished with value: 0.005863466765731573 and parameters: {'num_layers': 1, 'hidden_size': 120, 'lstm_dropout': 0.2758121733453572, 'dense_dropout': 0.19719732555588915, 'learning_rate': 0.007645754622918709}. Best is trial 12 with value: 0.001960186054930091.\n",
      "[I 2024-10-29 13:17:06,586] Trial 29 pruned. \n",
      "[I 2024-10-29 13:17:06,662] Trial 30 pruned. \n",
      "[I 2024-10-29 13:17:06,734] Trial 31 pruned. \n",
      "[I 2024-10-29 13:17:55,995] Trial 32 finished with value: 0.002956835553050041 and parameters: {'num_layers': 1, 'hidden_size': 112, 'lstm_dropout': 0.1507784453127082, 'dense_dropout': 0.007217583510378806, 'learning_rate': 0.0013612373455356617}. Best is trial 12 with value: 0.001960186054930091.\n",
      "[I 2024-10-29 13:17:56,059] Trial 33 pruned. \n",
      "[I 2024-10-29 13:18:44,497] Trial 34 finished with value: 0.002961005491670221 and parameters: {'num_layers': 1, 'hidden_size': 112, 'lstm_dropout': 0.21574709900627742, 'dense_dropout': 0.03548336687055793, 'learning_rate': 0.004184496733191065}. Best is trial 12 with value: 0.001960186054930091.\n",
      "[I 2024-10-29 13:18:44,571] Trial 35 pruned. \n",
      "[I 2024-10-29 13:19:33,379] Trial 36 finished with value: 0.0028185093542560935 and parameters: {'num_layers': 1, 'hidden_size': 120, 'lstm_dropout': 0.17538878934212815, 'dense_dropout': 0.07683190789300125, 'learning_rate': 0.005580358061017222}. Best is trial 12 with value: 0.001960186054930091.\n",
      "[I 2024-10-29 13:20:21,925] Trial 37 finished with value: 0.003193990560248494 and parameters: {'num_layers': 1, 'hidden_size': 120, 'lstm_dropout': 0.16321608755170325, 'dense_dropout': 0.07390365300396373, 'learning_rate': 0.007238068572167469}. Best is trial 12 with value: 0.001960186054930091.\n",
      "[I 2024-10-29 13:20:21,993] Trial 38 pruned. \n",
      "[I 2024-10-29 13:21:11,090] Trial 39 finished with value: 0.0028882924234494567 and parameters: {'num_layers': 1, 'hidden_size': 104, 'lstm_dropout': 0.12134849603453432, 'dense_dropout': 0.029988307905012345, 'learning_rate': 0.003149027303026694}. Best is trial 12 with value: 0.001960186054930091.\n",
      "[I 2024-10-29 13:21:11,148] Trial 40 pruned. \n",
      "[I 2024-10-29 13:21:11,276] Trial 41 pruned. \n",
      "[I 2024-10-29 13:21:59,541] Trial 42 finished with value: 0.002188405836932361 and parameters: {'num_layers': 1, 'hidden_size': 120, 'lstm_dropout': 0.17035015042428964, 'dense_dropout': 0.05559601702895371, 'learning_rate': 0.009936932581402783}. Best is trial 12 with value: 0.001960186054930091.\n",
      "[I 2024-10-29 13:22:48,044] Trial 43 finished with value: 0.0024458490079268813 and parameters: {'num_layers': 1, 'hidden_size': 120, 'lstm_dropout': 0.17966443506082183, 'dense_dropout': 0.05979825817139644, 'learning_rate': 0.01040284585189064}. Best is trial 12 with value: 0.001960186054930091.\n",
      "[I 2024-10-29 13:22:48,157] Trial 44 pruned. \n",
      "[I 2024-10-29 13:23:37,392] Trial 45 finished with value: 0.0022065614466555417 and parameters: {'num_layers': 1, 'hidden_size': 120, 'lstm_dropout': 0.21927867097701287, 'dense_dropout': 0.062455475802521955, 'learning_rate': 0.010799868998330213}. Best is trial 12 with value: 0.001960186054930091.\n",
      "[I 2024-10-29 13:24:26,801] Trial 46 finished with value: 0.002534945320803672 and parameters: {'num_layers': 1, 'hidden_size': 120, 'lstm_dropout': 0.2321106153351443, 'dense_dropout': 0.14867354661599044, 'learning_rate': 0.013553730287385959}. Best is trial 12 with value: 0.001960186054930091.\n",
      "[I 2024-10-29 13:24:26,865] Trial 47 pruned. \n",
      "[I 2024-10-29 13:24:26,932] Trial 48 pruned. \n",
      "[I 2024-10-29 13:25:15,660] Trial 49 finished with value: 0.003915512817911804 and parameters: {'num_layers': 1, 'hidden_size': 112, 'lstm_dropout': 0.24812619569809455, 'dense_dropout': 0.051395806505956015, 'learning_rate': 0.011855892931374545}. Best is trial 12 with value: 0.001960186054930091.\n",
      "[I 2024-10-29 13:25:15,724] Trial 50 pruned. \n",
      "[I 2024-10-29 13:25:15,792] Trial 51 pruned. \n",
      "[I 2024-10-29 13:26:05,123] Trial 52 finished with value: 0.002627461333759129 and parameters: {'num_layers': 1, 'hidden_size': 120, 'lstm_dropout': 0.2993110710968855, 'dense_dropout': 0.062154281843928905, 'learning_rate': 0.009295667622433272}. Best is trial 12 with value: 0.001960186054930091.\n",
      "[I 2024-10-29 13:26:54,739] Trial 53 finished with value: 0.004750414285808802 and parameters: {'num_layers': 1, 'hidden_size': 112, 'lstm_dropout': 0.22459107970432632, 'dense_dropout': 0.15097495764250374, 'learning_rate': 0.014252824659575874}. Best is trial 12 with value: 0.001960186054930091.\n",
      "[I 2024-10-29 13:26:54,805] Trial 54 pruned. \n",
      "[I 2024-10-29 13:26:54,877] Trial 55 pruned. \n",
      "[I 2024-10-29 13:26:54,958] Trial 56 pruned. \n",
      "[I 2024-10-29 13:26:55,025] Trial 57 pruned. \n",
      "[I 2024-10-29 13:26:56,268] Trial 58 pruned. \n",
      "[I 2024-10-29 13:26:56,338] Trial 59 pruned. \n",
      "[I 2024-10-29 13:27:45,341] Trial 60 finished with value: 0.0036649873945862055 and parameters: {'num_layers': 1, 'hidden_size': 112, 'lstm_dropout': 0.2927882172188585, 'dense_dropout': 0.19553218815629206, 'learning_rate': 0.01659995510990597}. Best is trial 12 with value: 0.001960186054930091.\n",
      "[I 2024-10-29 13:28:33,193] Trial 61 finished with value: 0.0037029943196102977 and parameters: {'num_layers': 1, 'hidden_size': 120, 'lstm_dropout': 0.36878285408584155, 'dense_dropout': 0.05516607735131169, 'learning_rate': 0.008673222293730876}. Best is trial 12 with value: 0.001960186054930091.\n",
      "[I 2024-10-29 13:29:22,042] Trial 62 finished with value: 0.0027413135394454002 and parameters: {'num_layers': 1, 'hidden_size': 120, 'lstm_dropout': 0.3300194450324901, 'dense_dropout': 0.0010660402938666783, 'learning_rate': 0.011295073293783021}. Best is trial 12 with value: 0.001960186054930091.\n",
      "[I 2024-10-29 13:30:11,387] Trial 63 finished with value: 0.0027795981150120497 and parameters: {'num_layers': 1, 'hidden_size': 104, 'lstm_dropout': 0.3024192410255654, 'dense_dropout': 0.06745049063391244, 'learning_rate': 0.005466227110710176}. Best is trial 12 with value: 0.001960186054930091.\n",
      "[I 2024-10-29 13:30:11,451] Trial 64 pruned. \n",
      "[I 2024-10-29 13:30:11,516] Trial 65 pruned. \n",
      "[I 2024-10-29 13:30:11,581] Trial 66 pruned. \n",
      "[I 2024-10-29 13:30:58,898] Trial 67 finished with value: 0.0030861932318657637 and parameters: {'num_layers': 1, 'hidden_size': 64, 'lstm_dropout': 0.1966149700008686, 'dense_dropout': 0.08379760121340724, 'learning_rate': 0.006189978097304811}. Best is trial 12 with value: 0.001960186054930091.\n",
      "[I 2024-10-29 13:30:58,962] Trial 68 pruned. \n",
      "[I 2024-10-29 13:30:59,031] Trial 69 pruned. \n",
      "[I 2024-10-29 13:30:59,134] Trial 70 pruned. \n",
      "[I 2024-10-29 13:31:47,540] Trial 71 finished with value: 0.0021963840117678046 and parameters: {'num_layers': 1, 'hidden_size': 120, 'lstm_dropout': 0.32618525462398773, 'dense_dropout': 0.023328466577889367, 'learning_rate': 0.01068104949349866}. Best is trial 12 with value: 0.001960186054930091.\n",
      "[I 2024-10-29 13:32:36,820] Trial 72 finished with value: 0.003223928506486118 and parameters: {'num_layers': 1, 'hidden_size': 120, 'lstm_dropout': 0.31969289077155655, 'dense_dropout': 0.01948153594856373, 'learning_rate': 0.009805595836119646}. Best is trial 12 with value: 0.001960186054930091.\n",
      "[I 2024-10-29 13:32:36,894] Trial 73 pruned. \n",
      "[I 2024-10-29 13:32:36,961] Trial 74 pruned. \n",
      "[I 2024-10-29 13:32:37,040] Trial 75 pruned. \n",
      "[I 2024-10-29 13:32:37,104] Trial 76 pruned. \n",
      "[I 2024-10-29 13:32:37,167] Trial 77 pruned. \n",
      "[I 2024-10-29 13:32:37,238] Trial 78 pruned. \n",
      "[I 2024-10-29 13:32:37,307] Trial 79 pruned. \n",
      "[I 2024-10-29 13:32:37,384] Trial 80 pruned. \n",
      "[I 2024-10-29 13:32:37,449] Trial 81 pruned. \n",
      "[I 2024-10-29 13:32:37,516] Trial 82 pruned. \n",
      "[I 2024-10-29 13:32:37,586] Trial 83 pruned. \n",
      "[I 2024-10-29 13:32:37,649] Trial 84 pruned. \n",
      "[I 2024-10-29 13:32:37,722] Trial 85 pruned. \n",
      "[I 2024-10-29 13:32:37,787] Trial 86 pruned. \n",
      "[I 2024-10-29 13:32:37,858] Trial 87 pruned. \n",
      "[I 2024-10-29 13:32:37,925] Trial 88 pruned. \n",
      "[I 2024-10-29 13:32:38,017] Trial 89 pruned. \n",
      "[I 2024-10-29 13:32:38,331] Trial 90 pruned. \n",
      "[I 2024-10-29 13:33:27,496] Trial 91 finished with value: 0.0037078005261719227 and parameters: {'num_layers': 1, 'hidden_size': 104, 'lstm_dropout': 0.2831741042482937, 'dense_dropout': 0.06747913448605838, 'learning_rate': 0.008802886202159627}. Best is trial 12 with value: 0.001960186054930091.\n",
      "[I 2024-10-29 13:34:17,908] Trial 92 finished with value: 0.002282020286656916 and parameters: {'num_layers': 1, 'hidden_size': 128, 'lstm_dropout': 0.3032158149274824, 'dense_dropout': 0.03566124736328889, 'learning_rate': 0.005754845469121422}. Best is trial 12 with value: 0.001960186054930091.\n",
      "[I 2024-10-29 13:34:17,979] Trial 93 pruned. \n",
      "[I 2024-10-29 13:34:18,051] Trial 94 pruned. \n",
      "[I 2024-10-29 13:34:18,139] Trial 95 pruned. \n",
      "[I 2024-10-29 13:34:18,212] Trial 96 pruned. \n",
      "[I 2024-10-29 13:34:18,363] Trial 97 pruned. \n",
      "[I 2024-10-29 13:34:19,834] Trial 98 pruned. \n",
      "[I 2024-10-29 13:34:19,901] Trial 99 pruned. \n",
      "[I 2024-10-29 13:34:20,011] A new study created in memory with name: example-study\n"
     ]
    },
    {
     "name": "stdout",
     "output_type": "stream",
     "text": [
      "Study statistics: \n",
      "  Number of finished trials:  100\n",
      "  Number of pruned trials:  69\n",
      "  Number of complete trials:  31\n",
      "Best trial:\n",
      "  Value:  0.001960186054930091\n",
      "  Params: \n",
      "    num_layers: 1\n",
      "    hidden_size: 56\n",
      "    lstm_dropout: 0.38445872042379775\n",
      "    dense_dropout: 0.0034122841683422722\n",
      "    learning_rate: 0.0008353773076921347\n",
      "R2 for sim at Tangnaihai(1972-2016) 0.9567461810482403\n",
      "Warning: ARIMASimFlow column not found in data for Tangnaihai station, year 2018\n"
     ]
    },
    {
     "name": "stderr",
     "output_type": "stream",
     "text": [
      "[I 2024-10-29 13:35:10,474] Trial 0 finished with value: 0.0029147498426027596 and parameters: {'num_layers': 2, 'hidden_size': 72, 'lstm_dropout': 0.3939070285596958, 'dense_dropout': 0.26450444484284574, 'learning_rate': 0.0001640261457534649}. Best is trial 0 with value: 0.0029147498426027596.\n",
      "[I 2024-10-29 13:36:05,091] Trial 1 finished with value: 0.0021809545578435063 and parameters: {'num_layers': 3, 'hidden_size': 48, 'lstm_dropout': 0.41353692225554767, 'dense_dropout': 0.10594023868340618, 'learning_rate': 0.0011998152421985292}. Best is trial 1 with value: 0.0021809545578435063.\n",
      "[I 2024-10-29 13:37:02,342] Trial 2 finished with value: 0.0017673852271400392 and parameters: {'num_layers': 3, 'hidden_size': 96, 'lstm_dropout': 0.19574717367512112, 'dense_dropout': 0.08330026478866026, 'learning_rate': 7.300381281249551e-05}. Best is trial 2 with value: 0.0017673852271400392.\n",
      "[I 2024-10-29 13:37:51,477] Trial 3 finished with value: 0.004749504732899368 and parameters: {'num_layers': 1, 'hidden_size': 128, 'lstm_dropout': 0.17897584342616957, 'dense_dropout': 0.35443781622100357, 'learning_rate': 0.0035160452465159146}. Best is trial 2 with value: 0.0017673852271400392.\n",
      "[I 2024-10-29 13:38:47,632] Trial 4 finished with value: 0.004997873678803444 and parameters: {'num_layers': 3, 'hidden_size': 8, 'lstm_dropout': 0.121193735516335, 'dense_dropout': 0.338682721961121, 'learning_rate': 0.00254684308170542}. Best is trial 2 with value: 0.0017673852271400392.\n",
      "[I 2024-10-29 13:38:47,705] Trial 5 pruned. \n",
      "[I 2024-10-29 13:38:47,777] Trial 6 pruned. \n",
      "[I 2024-10-29 13:38:48,056] Trial 7 pruned. \n",
      "[I 2024-10-29 13:38:48,108] Trial 8 pruned. \n",
      "[I 2024-10-29 13:38:48,171] Trial 9 pruned. \n",
      "[I 2024-10-29 13:38:48,236] Trial 10 pruned. \n",
      "[I 2024-10-29 13:38:48,310] Trial 11 pruned. \n",
      "[I 2024-10-29 13:38:48,388] Trial 12 pruned. \n",
      "[I 2024-10-29 13:38:48,461] Trial 13 pruned. \n",
      "[I 2024-10-29 13:38:48,532] Trial 14 pruned. \n",
      "[I 2024-10-29 13:38:48,604] Trial 15 pruned. \n",
      "[I 2024-10-29 13:38:48,673] Trial 16 pruned. \n",
      "[I 2024-10-29 13:38:48,757] Trial 17 pruned. \n",
      "[I 2024-10-29 13:38:48,828] Trial 18 pruned. \n",
      "[I 2024-10-29 13:39:43,166] Trial 19 finished with value: 0.0020601644064299762 and parameters: {'num_layers': 2, 'hidden_size': 104, 'lstm_dropout': 0.4437208272820116, 'dense_dropout': 0.1285943433449896, 'learning_rate': 0.0025035197895654096}. Best is trial 2 with value: 0.0017673852271400392.\n",
      "[I 2024-10-29 13:39:43,242] Trial 20 pruned. \n",
      "[I 2024-10-29 13:40:37,590] Trial 21 finished with value: 0.00164504605345428 and parameters: {'num_layers': 2, 'hidden_size': 112, 'lstm_dropout': 0.4403751030396061, 'dense_dropout': 0.08929269705617929, 'learning_rate': 0.001799299429586443}. Best is trial 21 with value: 0.00164504605345428.\n",
      "[I 2024-10-29 13:40:37,672] Trial 22 pruned. \n",
      "[I 2024-10-29 13:40:37,755] Trial 23 pruned. \n",
      "[I 2024-10-29 13:40:37,820] Trial 24 pruned. \n",
      "[I 2024-10-29 13:41:30,922] Trial 25 finished with value: 0.002699087606742978 and parameters: {'num_layers': 2, 'hidden_size': 88, 'lstm_dropout': 0.3399371881837508, 'dense_dropout': 0.07804974494124445, 'learning_rate': 0.004229261952675843}. Best is trial 21 with value: 0.00164504605345428.\n",
      "[I 2024-10-29 13:41:31,000] Trial 26 pruned. \n",
      "[I 2024-10-29 13:41:31,072] Trial 27 pruned. \n",
      "[I 2024-10-29 13:41:31,902] Trial 28 pruned. \n",
      "[I 2024-10-29 13:41:32,014] Trial 29 pruned. \n",
      "[I 2024-10-29 13:42:20,611] Trial 30 finished with value: 0.0027511201915331185 and parameters: {'num_layers': 1, 'hidden_size': 104, 'lstm_dropout': 0.38246459093524415, 'dense_dropout': 0.14181012141650426, 'learning_rate': 0.014029551373767062}. Best is trial 21 with value: 0.00164504605345428.\n",
      "[I 2024-10-29 13:42:20,705] Trial 31 pruned. \n",
      "[I 2024-10-29 13:42:20,809] Trial 32 pruned. \n",
      "[I 2024-10-29 13:43:20,823] Trial 33 finished with value: 0.00149074150249362 and parameters: {'num_layers': 3, 'hidden_size': 128, 'lstm_dropout': 0.19713154681244296, 'dense_dropout': 0.10493194470159768, 'learning_rate': 0.005105661824414191}. Best is trial 33 with value: 0.00149074150249362.\n",
      "[I 2024-10-29 13:43:20,947] Trial 34 pruned. \n",
      "[I 2024-10-29 13:44:20,778] Trial 35 finished with value: 0.0024192502023652196 and parameters: {'num_layers': 3, 'hidden_size': 120, 'lstm_dropout': 0.271059289662937, 'dense_dropout': 0.09487130486261139, 'learning_rate': 0.005533930767253708}. Best is trial 33 with value: 0.00149074150249362.\n",
      "[I 2024-10-29 13:44:20,852] Trial 36 pruned. \n",
      "[I 2024-10-29 13:44:20,944] Trial 37 pruned. \n",
      "[I 2024-10-29 13:44:21,017] Trial 38 pruned. \n",
      "[I 2024-10-29 13:44:21,211] Trial 39 pruned. \n",
      "[I 2024-10-29 13:44:21,324] Trial 40 pruned. \n",
      "[I 2024-10-29 13:44:21,435] Trial 41 pruned. \n",
      "[I 2024-10-29 13:44:21,542] Trial 42 pruned. \n",
      "[I 2024-10-29 13:44:21,654] Trial 43 pruned. \n",
      "[I 2024-10-29 13:44:21,788] Trial 44 pruned. \n",
      "[I 2024-10-29 13:44:21,891] Trial 45 pruned. \n",
      "[I 2024-10-29 13:44:22,002] Trial 46 pruned. \n",
      "[I 2024-10-29 13:44:22,103] Trial 47 pruned. \n",
      "[I 2024-10-29 13:44:22,193] Trial 48 pruned. \n",
      "[I 2024-10-29 13:44:22,272] Trial 49 pruned. \n",
      "[I 2024-10-29 13:44:22,342] Trial 50 pruned. \n",
      "[I 2024-10-29 13:44:22,479] Trial 51 pruned. \n",
      "[I 2024-10-29 13:44:22,552] Trial 52 pruned. \n",
      "[I 2024-10-29 13:44:22,747] Trial 53 pruned. \n",
      "[I 2024-10-29 13:44:22,823] Trial 54 pruned. \n",
      "[I 2024-10-29 13:44:22,901] Trial 55 pruned. \n",
      "[I 2024-10-29 13:44:22,980] Trial 56 pruned. \n",
      "[I 2024-10-29 13:44:23,053] Trial 57 pruned. \n",
      "[I 2024-10-29 13:44:23,123] Trial 58 pruned. \n",
      "[I 2024-10-29 13:45:14,367] Trial 59 finished with value: 0.0027112584793940187 and parameters: {'num_layers': 2, 'hidden_size': 16, 'lstm_dropout': 0.22479285032313945, 'dense_dropout': 0.06928968450483365, 'learning_rate': 0.039247078465944996}. Best is trial 33 with value: 0.00149074150249362.\n",
      "[I 2024-10-29 13:45:14,449] Trial 60 pruned. \n",
      "[I 2024-10-29 13:46:07,028] Trial 61 finished with value: 0.001809699577279389 and parameters: {'num_layers': 2, 'hidden_size': 88, 'lstm_dropout': 0.29244339042779177, 'dense_dropout': 0.09038221672466518, 'learning_rate': 0.0037379465693531356}. Best is trial 33 with value: 0.00149074150249362.\n",
      "[I 2024-10-29 13:46:07,102] Trial 62 pruned. \n",
      "[I 2024-10-29 13:46:07,225] Trial 63 pruned. \n",
      "[I 2024-10-29 13:46:07,300] Trial 64 pruned. \n",
      "[I 2024-10-29 13:46:07,370] Trial 65 pruned. \n",
      "[I 2024-10-29 13:46:07,671] Trial 66 pruned. \n",
      "[I 2024-10-29 13:46:07,775] Trial 67 pruned. \n",
      "[I 2024-10-29 13:46:07,901] Trial 68 pruned. \n",
      "[I 2024-10-29 13:46:08,010] Trial 69 pruned. \n",
      "[I 2024-10-29 13:46:08,119] Trial 70 pruned. \n",
      "[I 2024-10-29 13:46:08,220] Trial 71 pruned. \n",
      "[I 2024-10-29 13:47:00,336] Trial 72 finished with value: 0.0017959451652131975 and parameters: {'num_layers': 2, 'hidden_size': 88, 'lstm_dropout': 0.27620627938563685, 'dense_dropout': 0.043250408224746725, 'learning_rate': 0.005351719470571946}. Best is trial 33 with value: 0.00149074150249362.\n",
      "[I 2024-10-29 13:47:00,422] Trial 73 pruned. \n",
      "[I 2024-10-29 13:47:00,554] Trial 74 pruned. \n",
      "[I 2024-10-29 13:47:54,059] Trial 75 finished with value: 0.0021885239984840155 and parameters: {'num_layers': 2, 'hidden_size': 96, 'lstm_dropout': 0.20533958127438273, 'dense_dropout': 0.05259084243499537, 'learning_rate': 0.0035062169369400892}. Best is trial 33 with value: 0.00149074150249362.\n",
      "[I 2024-10-29 13:47:54,127] Trial 76 pruned. \n",
      "[I 2024-10-29 13:47:54,197] Trial 77 pruned. \n",
      "[I 2024-10-29 13:47:54,264] Trial 78 pruned. \n",
      "[I 2024-10-29 13:47:54,349] Trial 79 pruned. \n",
      "[I 2024-10-29 13:47:54,421] Trial 80 pruned. \n",
      "[I 2024-10-29 13:47:54,495] Trial 81 pruned. \n",
      "[I 2024-10-29 13:47:54,561] Trial 82 pruned. \n",
      "[I 2024-10-29 13:47:54,639] Trial 83 pruned. \n",
      "[I 2024-10-29 13:47:54,710] Trial 84 pruned. \n",
      "[I 2024-10-29 13:47:54,785] Trial 85 pruned. \n",
      "[I 2024-10-29 13:47:54,860] Trial 86 pruned. \n",
      "[I 2024-10-29 13:47:54,926] Trial 87 pruned. \n",
      "[I 2024-10-29 13:47:55,065] Trial 88 pruned. \n",
      "[I 2024-10-29 13:47:55,142] Trial 89 pruned. \n",
      "[I 2024-10-29 13:47:55,222] Trial 90 pruned. \n",
      "[I 2024-10-29 13:47:55,323] Trial 91 pruned. \n",
      "[I 2024-10-29 13:47:55,427] Trial 92 pruned. \n",
      "[I 2024-10-29 13:47:55,525] Trial 93 pruned. \n",
      "[I 2024-10-29 13:47:55,638] Trial 94 pruned. \n",
      "[I 2024-10-29 13:47:55,743] Trial 95 pruned. \n",
      "[I 2024-10-29 13:47:56,007] Trial 96 pruned. \n",
      "[I 2024-10-29 13:47:56,117] Trial 97 pruned. \n",
      "[I 2024-10-29 13:47:56,234] Trial 98 pruned. \n",
      "[I 2024-10-29 13:47:56,322] Trial 99 pruned. \n",
      "[I 2024-10-29 13:47:56,473] A new study created in memory with name: example-study\n"
     ]
    },
    {
     "name": "stdout",
     "output_type": "stream",
     "text": [
      "Study statistics: \n",
      "  Number of finished trials:  100\n",
      "  Number of pruned trials:  85\n",
      "  Number of complete trials:  15\n",
      "Best trial:\n",
      "  Value:  0.00149074150249362\n",
      "  Params: \n",
      "    num_layers: 3\n",
      "    hidden_size: 128\n",
      "    lstm_dropout: 0.19713154681244296\n",
      "    dense_dropout: 0.10493194470159768\n",
      "    learning_rate: 0.005105661824414191\n",
      "R2 for sim at Tangnaihai(1972-2017) 0.8862909260943161\n",
      "Warning: ARIMASimFlow column not found in data for Tangnaihai station, year 2019\n"
     ]
    },
    {
     "name": "stderr",
     "output_type": "stream",
     "text": [
      "[I 2024-10-29 13:48:55,552] Trial 0 finished with value: 0.007357157301157713 and parameters: {'num_layers': 3, 'hidden_size': 48, 'lstm_dropout': 0.22430783207980853, 'dense_dropout': 0.4352767663287427, 'learning_rate': 0.0001559935045379112}. Best is trial 0 with value: 0.007357157301157713.\n",
      "[I 2024-10-29 13:49:53,603] Trial 1 finished with value: 0.01229653088375926 and parameters: {'num_layers': 2, 'hidden_size': 128, 'lstm_dropout': 0.07101872295470402, 'dense_dropout': 0.0784611072069506, 'learning_rate': 0.02685127235614315}. Best is trial 0 with value: 0.007357157301157713.\n",
      "[I 2024-10-29 13:50:42,994] Trial 2 finished with value: 0.004967261338606477 and parameters: {'num_layers': 1, 'hidden_size': 64, 'lstm_dropout': 0.11568472212051345, 'dense_dropout': 0.1725563891416902, 'learning_rate': 0.06988905237433796}. Best is trial 2 with value: 0.004967261338606477.\n",
      "[I 2024-10-29 13:51:39,071] Trial 3 finished with value: 0.002910076407715678 and parameters: {'num_layers': 2, 'hidden_size': 96, 'lstm_dropout': 0.18727781863819232, 'dense_dropout': 0.0478649293321346, 'learning_rate': 0.005450399728194611}. Best is trial 3 with value: 0.002910076407715678.\n",
      "[I 2024-10-29 13:52:34,874] Trial 4 finished with value: 0.003015515278093517 and parameters: {'num_layers': 2, 'hidden_size': 88, 'lstm_dropout': 0.407603754256878, 'dense_dropout': 0.25448871727165223, 'learning_rate': 0.0009906904927775616}. Best is trial 3 with value: 0.002910076407715678.\n",
      "[I 2024-10-29 13:52:34,942] Trial 5 pruned. \n",
      "[I 2024-10-29 13:52:34,998] Trial 6 pruned. \n",
      "[I 2024-10-29 13:52:35,048] Trial 7 pruned. \n",
      "[I 2024-10-29 13:52:35,107] Trial 8 pruned. \n",
      "[I 2024-10-29 13:52:35,160] Trial 9 pruned. \n",
      "[I 2024-10-29 13:52:35,223] Trial 10 pruned. \n",
      "[I 2024-10-29 13:52:35,565] Trial 11 pruned. \n",
      "[I 2024-10-29 13:52:35,637] Trial 12 pruned. \n",
      "[I 2024-10-29 13:52:35,707] Trial 13 pruned. \n",
      "[I 2024-10-29 13:53:26,388] Trial 14 finished with value: 0.0030767942080274224 and parameters: {'num_layers': 1, 'hidden_size': 80, 'lstm_dropout': 0.2719338195927692, 'dense_dropout': 0.2414096105808835, 'learning_rate': 0.006429633367969719}. Best is trial 3 with value: 0.002910076407715678.\n",
      "[I 2024-10-29 13:53:26,470] Trial 15 pruned. \n",
      "[I 2024-10-29 13:53:26,537] Trial 16 pruned. \n",
      "[I 2024-10-29 13:53:26,869] Trial 17 pruned. \n",
      "[I 2024-10-29 13:53:26,950] Trial 18 pruned. \n",
      "[I 2024-10-29 13:53:27,079] Trial 19 pruned. \n",
      "[I 2024-10-29 13:53:27,197] Trial 20 pruned. \n",
      "[I 2024-10-29 13:53:28,364] Trial 21 pruned. \n",
      "[I 2024-10-29 13:53:28,440] Trial 22 pruned. \n",
      "[I 2024-10-29 13:53:39,918] Trial 23 pruned. \n",
      "[I 2024-10-29 13:53:40,061] Trial 24 pruned. \n",
      "[I 2024-10-29 13:53:40,173] Trial 25 pruned. \n",
      "[I 2024-10-29 13:54:34,641] Trial 26 finished with value: 0.0032252658857032657 and parameters: {'num_layers': 2, 'hidden_size': 56, 'lstm_dropout': 0.18147547491698562, 'dense_dropout': 0.20965163231973058, 'learning_rate': 0.005410422729511253}. Best is trial 3 with value: 0.002910076407715678.\n",
      "[I 2024-10-29 13:54:34,713] Trial 27 pruned. \n",
      "[I 2024-10-29 13:54:34,794] Trial 28 pruned. \n",
      "[I 2024-10-29 13:54:34,872] Trial 29 pruned. \n",
      "[I 2024-10-29 13:54:34,947] Trial 30 pruned. \n",
      "[I 2024-10-29 13:54:35,594] Trial 31 pruned. \n",
      "[I 2024-10-29 13:54:35,872] Trial 32 pruned. \n",
      "[I 2024-10-29 13:54:36,145] Trial 33 pruned. \n",
      "[I 2024-10-29 13:54:36,214] Trial 34 pruned. \n",
      "[I 2024-10-29 13:54:36,659] Trial 35 pruned. \n",
      "[I 2024-10-29 13:54:37,043] Trial 36 pruned. \n",
      "[I 2024-10-29 13:54:37,117] Trial 37 pruned. \n",
      "[I 2024-10-29 13:54:37,191] Trial 38 pruned. \n",
      "[I 2024-10-29 13:54:37,266] Trial 39 pruned. \n",
      "[I 2024-10-29 13:54:37,359] Trial 40 pruned. \n",
      "[I 2024-10-29 13:54:37,423] Trial 41 pruned. \n",
      "[I 2024-10-29 13:55:28,184] Trial 42 finished with value: 0.0030420374823734164 and parameters: {'num_layers': 1, 'hidden_size': 88, 'lstm_dropout': 0.09445429208320805, 'dense_dropout': 0.17193064528171242, 'learning_rate': 0.017269288326595036}. Best is trial 3 with value: 0.002910076407715678.\n",
      "[I 2024-10-29 13:56:17,959] Trial 43 finished with value: 0.0018893461092375219 and parameters: {'num_layers': 1, 'hidden_size': 88, 'lstm_dropout': 0.04885289984663164, 'dense_dropout': 0.04303928193938521, 'learning_rate': 0.006887056648661242}. Best is trial 43 with value: 0.0018893461092375219.\n",
      "[I 2024-10-29 13:56:18,032] Trial 44 pruned. \n",
      "[I 2024-10-29 13:56:18,379] Trial 45 pruned. \n",
      "[I 2024-10-29 13:56:18,800] Trial 46 pruned. \n",
      "[I 2024-10-29 13:56:18,960] Trial 47 pruned. \n",
      "[I 2024-10-29 13:57:09,622] Trial 48 finished with value: 0.0023724560742266476 and parameters: {'num_layers': 1, 'hidden_size': 96, 'lstm_dropout': 0.04721434976175757, 'dense_dropout': 0.0980230523884949, 'learning_rate': 0.009580469221655268}. Best is trial 43 with value: 0.0018893461092375219.\n",
      "[I 2024-10-29 13:58:00,038] Trial 49 finished with value: 0.00268919940572232 and parameters: {'num_layers': 1, 'hidden_size': 96, 'lstm_dropout': 0.1288179980437538, 'dense_dropout': 0.10195577636635769, 'learning_rate': 0.008419430373718766}. Best is trial 43 with value: 0.0018893461092375219.\n",
      "[I 2024-10-29 13:58:00,395] Trial 50 pruned. \n",
      "[I 2024-10-29 13:58:00,752] Trial 51 pruned. \n",
      "[I 2024-10-29 13:58:00,821] Trial 52 pruned. \n",
      "[I 2024-10-29 13:58:00,942] Trial 53 pruned. \n",
      "[I 2024-10-29 13:58:01,501] Trial 54 pruned. \n",
      "[I 2024-10-29 13:58:01,567] Trial 55 pruned. \n",
      "[I 2024-10-29 13:58:01,932] Trial 56 pruned. \n",
      "[I 2024-10-29 13:58:02,186] Trial 57 pruned. \n",
      "[I 2024-10-29 13:58:53,949] Trial 58 finished with value: 0.0024469851632602513 and parameters: {'num_layers': 1, 'hidden_size': 112, 'lstm_dropout': 0.15308393932907824, 'dense_dropout': 0.12829362520033727, 'learning_rate': 0.007576221004573432}. Best is trial 43 with value: 0.0018893461092375219.\n",
      "[I 2024-10-29 13:58:54,188] Trial 59 pruned. \n",
      "[I 2024-10-29 13:59:46,665] Trial 60 finished with value: 0.002452711225487292 and parameters: {'num_layers': 1, 'hidden_size': 128, 'lstm_dropout': 0.14415735426999482, 'dense_dropout': 0.1275191360164739, 'learning_rate': 0.007760739210611108}. Best is trial 43 with value: 0.0018893461092375219.\n",
      "[I 2024-10-29 14:00:38,005] Trial 61 finished with value: 0.001991078897845 and parameters: {'num_layers': 1, 'hidden_size': 128, 'lstm_dropout': 0.14360472415927808, 'dense_dropout': 0.12662352439769564, 'learning_rate': 0.007774341184133151}. Best is trial 43 with value: 0.0018893461092375219.\n",
      "[I 2024-10-29 14:00:38,405] Trial 62 pruned. \n",
      "[I 2024-10-29 14:00:38,681] Trial 63 pruned. \n",
      "[I 2024-10-29 14:00:38,815] Trial 64 pruned. \n",
      "[I 2024-10-29 14:00:39,084] Trial 65 pruned. \n",
      "[I 2024-10-29 14:00:39,211] Trial 66 pruned. \n",
      "[I 2024-10-29 14:00:39,590] Trial 67 pruned. \n",
      "[I 2024-10-29 14:00:39,713] Trial 68 pruned. \n",
      "[I 2024-10-29 14:00:39,802] Trial 69 pruned. \n",
      "[I 2024-10-29 14:00:40,075] Trial 70 pruned. \n",
      "[I 2024-10-29 14:00:40,149] Trial 71 pruned. \n",
      "[I 2024-10-29 14:00:40,278] Trial 72 pruned. \n",
      "[I 2024-10-29 14:00:40,353] Trial 73 pruned. \n",
      "[I 2024-10-29 14:00:40,526] Trial 74 pruned. \n",
      "[I 2024-10-29 14:00:40,635] Trial 75 pruned. \n",
      "[I 2024-10-29 14:00:40,771] Trial 76 pruned. \n",
      "[I 2024-10-29 14:00:40,874] Trial 77 pruned. \n",
      "[I 2024-10-29 14:00:41,117] Trial 78 pruned. \n",
      "[I 2024-10-29 14:00:41,241] Trial 79 pruned. \n",
      "[I 2024-10-29 14:00:41,553] Trial 80 pruned. \n",
      "[I 2024-10-29 14:00:41,910] Trial 81 pruned. \n",
      "[I 2024-10-29 14:00:41,990] Trial 82 pruned. \n",
      "[I 2024-10-29 14:00:42,358] Trial 83 pruned. \n",
      "[I 2024-10-29 14:00:42,490] Trial 84 pruned. \n",
      "[I 2024-10-29 14:00:42,573] Trial 85 pruned. \n",
      "[I 2024-10-29 14:00:42,711] Trial 86 pruned. \n",
      "[I 2024-10-29 14:00:43,027] Trial 87 pruned. \n",
      "[I 2024-10-29 14:00:43,481] Trial 88 pruned. \n",
      "[I 2024-10-29 14:00:43,554] Trial 89 pruned. \n",
      "[I 2024-10-29 14:00:43,621] Trial 90 pruned. \n",
      "[I 2024-10-29 14:00:43,984] Trial 91 pruned. \n",
      "[I 2024-10-29 14:00:44,052] Trial 92 pruned. \n",
      "[I 2024-10-29 14:00:44,425] Trial 93 pruned. \n",
      "[I 2024-10-29 14:01:35,712] Trial 94 finished with value: 0.0028636666829697788 and parameters: {'num_layers': 1, 'hidden_size': 96, 'lstm_dropout': 0.3800175209737142, 'dense_dropout': 0.09379994825661607, 'learning_rate': 0.01022366331722842}. Best is trial 43 with value: 0.0018893461092375219.\n",
      "[I 2024-10-29 14:01:35,841] Trial 95 pruned. \n",
      "[I 2024-10-29 14:01:35,914] Trial 96 pruned. \n",
      "[I 2024-10-29 14:01:35,980] Trial 97 pruned. \n",
      "[I 2024-10-29 14:01:36,054] Trial 98 pruned. \n",
      "[I 2024-10-29 14:01:36,150] Trial 99 pruned. \n"
     ]
    },
    {
     "name": "stdout",
     "output_type": "stream",
     "text": [
      "Study statistics: \n",
      "  Number of finished trials:  100\n",
      "  Number of pruned trials:  85\n",
      "  Number of complete trials:  15\n",
      "Best trial:\n",
      "  Value:  0.0018893461092375219\n",
      "  Params: \n",
      "    num_layers: 1\n",
      "    hidden_size: 88\n",
      "    lstm_dropout: 0.04885289984663164\n",
      "    dense_dropout: 0.04303928193938521\n",
      "    learning_rate: 0.006887056648661242\n",
      "R2 for sim at Tangnaihai(1972-2018) 0.9715981619988173\n",
      "R2 for pred at Tangnaihai(2015-2019) 0.1703737718239443\n"
     ]
    },
    {
     "data": {
      "application/vnd.plotly.v1+json": {
       "config": {
        "plotlyServerURL": "https://plot.ly"
       },
       "data": [
        {
         "mode": "lines",
         "name": "obs",
         "type": "scatter",
         "x": [
          "2015-01-01T00:00:00",
          "2015-02-01T00:00:00",
          "2015-03-01T00:00:00",
          "2015-04-01T00:00:00",
          "2015-05-01T00:00:00",
          "2015-06-01T00:00:00",
          "2015-07-01T00:00:00",
          "2015-08-01T00:00:00",
          "2015-09-01T00:00:00",
          "2015-10-01T00:00:00",
          "2015-11-01T00:00:00",
          "2015-12-01T00:00:00",
          "2016-01-01T00:00:00",
          "2016-02-01T00:00:00",
          "2016-03-01T00:00:00",
          "2016-04-01T00:00:00",
          "2016-05-01T00:00:00",
          "2016-06-01T00:00:00",
          "2016-07-01T00:00:00",
          "2016-08-01T00:00:00",
          "2016-09-01T00:00:00",
          "2016-10-01T00:00:00",
          "2016-11-01T00:00:00",
          "2016-12-01T00:00:00",
          "2017-01-01T00:00:00",
          "2017-02-01T00:00:00",
          "2017-03-01T00:00:00",
          "2017-04-01T00:00:00",
          "2017-05-01T00:00:00",
          "2017-06-01T00:00:00",
          "2017-07-01T00:00:00",
          "2017-08-01T00:00:00",
          "2017-09-01T00:00:00",
          "2017-10-01T00:00:00",
          "2017-11-01T00:00:00",
          "2017-12-01T00:00:00",
          "2018-01-01T00:00:00",
          "2018-02-01T00:00:00",
          "2018-03-01T00:00:00",
          "2018-04-01T00:00:00",
          "2018-05-01T00:00:00",
          "2018-06-01T00:00:00",
          "2018-07-01T00:00:00",
          "2018-08-01T00:00:00",
          "2018-09-01T00:00:00",
          "2018-10-01T00:00:00",
          "2018-11-01T00:00:00",
          "2018-12-01T00:00:00",
          "2019-01-01T00:00:00",
          "2019-02-01T00:00:00",
          "2019-03-01T00:00:00",
          "2019-04-01T00:00:00",
          "2019-05-01T00:00:00",
          "2019-06-01T00:00:00",
          "2019-07-01T00:00:00",
          "2019-08-01T00:00:00",
          "2019-09-01T00:00:00",
          "2019-10-01T00:00:00",
          "2019-11-01T00:00:00",
          "2019-12-01T00:00:00"
         ],
         "y": [
          224.5806451612902,
          210.24999999999986,
          253.90322580645127,
          286.19999999999993,
          336.4838709999998,
          764.8333333333333,
          1273.4193549999998,
          479.1290322580644,
          663.3666666666664,
          700.3225806451612,
          349.99999999999983,
          205.70967741935465,
          137.9032258064513,
          140.1379310344827,
          197.8387096774193,
          308.59999999999997,
          477.4193548387097,
          620.5666666666665,
          707.5161289999999,
          548.322580645161,
          641.3999999999997,
          768.6774193548384,
          395.1,
          223.1612903225804,
          150.70967741935473,
          163.10714285714272,
          198.1612903225805,
          306.8333333333332,
          397.2258064516129,
          932.7999999999996,
          604.516129,
          583.3225806451611,
          1195.6666666666667,
          1538.7096774193549,
          680.3333333333334,
          313.0967741935484,
          187.99999999999994,
          177.10714285714283,
          221.54838709677415,
          413.3333333333331,
          831.0967741935483,
          1062.833333333333,
          2295.483870967742,
          1298.387096774194,
          2098.333333333333,
          1399.193548387097,
          692.7666666666663,
          345.80645161290295,
          264.1290322580645,
          270.1785714285712,
          298.12903225806446,
          564.5333333333331,
          825,
          1689.1333333333332,
          2184.8387096774195,
          1497.096774193548,
          1759.6666666666663,
          1367.3870967741934,
          721.1666666666665,
          324.5483870967741
         ]
        },
        {
         "mode": "lines",
         "name": "pred",
         "type": "scatter",
         "x": [
          "2015-01-01T00:00:00",
          "2015-02-01T00:00:00",
          "2015-03-01T00:00:00",
          "2015-04-01T00:00:00",
          "2015-05-01T00:00:00",
          "2015-06-01T00:00:00",
          "2015-07-01T00:00:00",
          "2015-08-01T00:00:00",
          "2015-09-01T00:00:00",
          "2015-10-01T00:00:00",
          "2015-11-01T00:00:00",
          "2015-12-01T00:00:00",
          "2016-01-01T00:00:00",
          "2016-02-01T00:00:00",
          "2016-03-01T00:00:00",
          "2016-04-01T00:00:00",
          "2016-05-01T00:00:00",
          "2016-06-01T00:00:00",
          "2016-07-01T00:00:00",
          "2016-08-01T00:00:00",
          "2016-09-01T00:00:00",
          "2016-10-01T00:00:00",
          "2016-11-01T00:00:00",
          "2016-12-01T00:00:00",
          "2017-01-01T00:00:00",
          "2017-02-01T00:00:00",
          "2017-03-01T00:00:00",
          "2017-04-01T00:00:00",
          "2017-05-01T00:00:00",
          "2017-06-01T00:00:00",
          "2017-07-01T00:00:00",
          "2017-08-01T00:00:00",
          "2017-09-01T00:00:00",
          "2017-10-01T00:00:00",
          "2017-11-01T00:00:00",
          "2017-12-01T00:00:00",
          "2018-01-01T00:00:00",
          "2018-02-01T00:00:00",
          "2018-03-01T00:00:00",
          "2018-04-01T00:00:00",
          "2018-05-01T00:00:00",
          "2018-06-01T00:00:00",
          "2018-07-01T00:00:00",
          "2018-08-01T00:00:00",
          "2018-09-01T00:00:00",
          "2018-10-01T00:00:00",
          "2018-11-01T00:00:00",
          "2018-12-01T00:00:00",
          "2019-01-01T00:00:00",
          "2019-02-01T00:00:00",
          "2019-03-01T00:00:00",
          "2019-04-01T00:00:00",
          "2019-05-01T00:00:00",
          "2019-06-01T00:00:00",
          "2019-07-01T00:00:00",
          "2019-08-01T00:00:00",
          "2019-09-01T00:00:00",
          "2019-10-01T00:00:00",
          "2019-11-01T00:00:00",
          "2019-12-01T00:00:00"
         ],
         "y": [
          110.74632263183594,
          175.98231506347656,
          166.98428344726562,
          352.1064453125,
          399.2039794921875,
          821.8902587890625,
          2336.180908203125,
          1834.8377685546875,
          1673.8033447265625,
          1973.19482421875,
          842.4661865234375,
          381.304931640625,
          152.95701599121094,
          158.53016662597656,
          173.78778076171875,
          311.8089904785156,
          479.88433837890625,
          644.3414306640625,
          737.7243041992188,
          647.9998168945312,
          625.9994506835938,
          468.2845458984375,
          274.09234619140625,
          173.6845703125,
          129.89154052734375,
          169.3087158203125,
          194.67498779296875,
          262.8958740234375,
          407.7452087402344,
          807.4482421875,
          1076.6279296875,
          615.3568115234375,
          560.2174072265625,
          516.18310546875,
          301.93804931640625,
          148.7491912841797,
          202.22410583496094,
          155.06011962890625,
          210.84088134765625,
          277.57855224609375,
          380.0652770996094,
          571.7186279296875,
          1431.777587890625,
          817.6814575195312,
          626.8009643554688,
          611.1944580078125,
          346.94476318359375,
          196.95298767089844,
          169.90525817871094,
          227.46804809570312,
          254.27566528320312,
          400.97314453125,
          511.3785400390625,
          745.1216430664062,
          1102.4141845703125,
          1994.0992431640625,
          1811.9298095703125,
          987.9376220703125,
          509.96136474609375,
          299.3697814941406
         ]
        }
       ],
       "layout": {
        "template": {
         "data": {
          "bar": [
           {
            "error_x": {
             "color": "#2a3f5f"
            },
            "error_y": {
             "color": "#2a3f5f"
            },
            "marker": {
             "line": {
              "color": "white",
              "width": 0.5
             },
             "pattern": {
              "fillmode": "overlay",
              "size": 10,
              "solidity": 0.2
             }
            },
            "type": "bar"
           }
          ],
          "barpolar": [
           {
            "marker": {
             "line": {
              "color": "white",
              "width": 0.5
             },
             "pattern": {
              "fillmode": "overlay",
              "size": 10,
              "solidity": 0.2
             }
            },
            "type": "barpolar"
           }
          ],
          "carpet": [
           {
            "aaxis": {
             "endlinecolor": "#2a3f5f",
             "gridcolor": "#C8D4E3",
             "linecolor": "#C8D4E3",
             "minorgridcolor": "#C8D4E3",
             "startlinecolor": "#2a3f5f"
            },
            "baxis": {
             "endlinecolor": "#2a3f5f",
             "gridcolor": "#C8D4E3",
             "linecolor": "#C8D4E3",
             "minorgridcolor": "#C8D4E3",
             "startlinecolor": "#2a3f5f"
            },
            "type": "carpet"
           }
          ],
          "choropleth": [
           {
            "colorbar": {
             "outlinewidth": 0,
             "ticks": ""
            },
            "type": "choropleth"
           }
          ],
          "contour": [
           {
            "colorbar": {
             "outlinewidth": 0,
             "ticks": ""
            },
            "colorscale": [
             [
              0,
              "#0d0887"
             ],
             [
              0.1111111111111111,
              "#46039f"
             ],
             [
              0.2222222222222222,
              "#7201a8"
             ],
             [
              0.3333333333333333,
              "#9c179e"
             ],
             [
              0.4444444444444444,
              "#bd3786"
             ],
             [
              0.5555555555555556,
              "#d8576b"
             ],
             [
              0.6666666666666666,
              "#ed7953"
             ],
             [
              0.7777777777777778,
              "#fb9f3a"
             ],
             [
              0.8888888888888888,
              "#fdca26"
             ],
             [
              1,
              "#f0f921"
             ]
            ],
            "type": "contour"
           }
          ],
          "contourcarpet": [
           {
            "colorbar": {
             "outlinewidth": 0,
             "ticks": ""
            },
            "type": "contourcarpet"
           }
          ],
          "heatmap": [
           {
            "colorbar": {
             "outlinewidth": 0,
             "ticks": ""
            },
            "colorscale": [
             [
              0,
              "#0d0887"
             ],
             [
              0.1111111111111111,
              "#46039f"
             ],
             [
              0.2222222222222222,
              "#7201a8"
             ],
             [
              0.3333333333333333,
              "#9c179e"
             ],
             [
              0.4444444444444444,
              "#bd3786"
             ],
             [
              0.5555555555555556,
              "#d8576b"
             ],
             [
              0.6666666666666666,
              "#ed7953"
             ],
             [
              0.7777777777777778,
              "#fb9f3a"
             ],
             [
              0.8888888888888888,
              "#fdca26"
             ],
             [
              1,
              "#f0f921"
             ]
            ],
            "type": "heatmap"
           }
          ],
          "heatmapgl": [
           {
            "colorbar": {
             "outlinewidth": 0,
             "ticks": ""
            },
            "colorscale": [
             [
              0,
              "#0d0887"
             ],
             [
              0.1111111111111111,
              "#46039f"
             ],
             [
              0.2222222222222222,
              "#7201a8"
             ],
             [
              0.3333333333333333,
              "#9c179e"
             ],
             [
              0.4444444444444444,
              "#bd3786"
             ],
             [
              0.5555555555555556,
              "#d8576b"
             ],
             [
              0.6666666666666666,
              "#ed7953"
             ],
             [
              0.7777777777777778,
              "#fb9f3a"
             ],
             [
              0.8888888888888888,
              "#fdca26"
             ],
             [
              1,
              "#f0f921"
             ]
            ],
            "type": "heatmapgl"
           }
          ],
          "histogram": [
           {
            "marker": {
             "pattern": {
              "fillmode": "overlay",
              "size": 10,
              "solidity": 0.2
             }
            },
            "type": "histogram"
           }
          ],
          "histogram2d": [
           {
            "colorbar": {
             "outlinewidth": 0,
             "ticks": ""
            },
            "colorscale": [
             [
              0,
              "#0d0887"
             ],
             [
              0.1111111111111111,
              "#46039f"
             ],
             [
              0.2222222222222222,
              "#7201a8"
             ],
             [
              0.3333333333333333,
              "#9c179e"
             ],
             [
              0.4444444444444444,
              "#bd3786"
             ],
             [
              0.5555555555555556,
              "#d8576b"
             ],
             [
              0.6666666666666666,
              "#ed7953"
             ],
             [
              0.7777777777777778,
              "#fb9f3a"
             ],
             [
              0.8888888888888888,
              "#fdca26"
             ],
             [
              1,
              "#f0f921"
             ]
            ],
            "type": "histogram2d"
           }
          ],
          "histogram2dcontour": [
           {
            "colorbar": {
             "outlinewidth": 0,
             "ticks": ""
            },
            "colorscale": [
             [
              0,
              "#0d0887"
             ],
             [
              0.1111111111111111,
              "#46039f"
             ],
             [
              0.2222222222222222,
              "#7201a8"
             ],
             [
              0.3333333333333333,
              "#9c179e"
             ],
             [
              0.4444444444444444,
              "#bd3786"
             ],
             [
              0.5555555555555556,
              "#d8576b"
             ],
             [
              0.6666666666666666,
              "#ed7953"
             ],
             [
              0.7777777777777778,
              "#fb9f3a"
             ],
             [
              0.8888888888888888,
              "#fdca26"
             ],
             [
              1,
              "#f0f921"
             ]
            ],
            "type": "histogram2dcontour"
           }
          ],
          "mesh3d": [
           {
            "colorbar": {
             "outlinewidth": 0,
             "ticks": ""
            },
            "type": "mesh3d"
           }
          ],
          "parcoords": [
           {
            "line": {
             "colorbar": {
              "outlinewidth": 0,
              "ticks": ""
             }
            },
            "type": "parcoords"
           }
          ],
          "pie": [
           {
            "automargin": true,
            "type": "pie"
           }
          ],
          "scatter": [
           {
            "fillpattern": {
             "fillmode": "overlay",
             "size": 10,
             "solidity": 0.2
            },
            "type": "scatter"
           }
          ],
          "scatter3d": [
           {
            "line": {
             "colorbar": {
              "outlinewidth": 0,
              "ticks": ""
             }
            },
            "marker": {
             "colorbar": {
              "outlinewidth": 0,
              "ticks": ""
             }
            },
            "type": "scatter3d"
           }
          ],
          "scattercarpet": [
           {
            "marker": {
             "colorbar": {
              "outlinewidth": 0,
              "ticks": ""
             }
            },
            "type": "scattercarpet"
           }
          ],
          "scattergeo": [
           {
            "marker": {
             "colorbar": {
              "outlinewidth": 0,
              "ticks": ""
             }
            },
            "type": "scattergeo"
           }
          ],
          "scattergl": [
           {
            "marker": {
             "colorbar": {
              "outlinewidth": 0,
              "ticks": ""
             }
            },
            "type": "scattergl"
           }
          ],
          "scattermapbox": [
           {
            "marker": {
             "colorbar": {
              "outlinewidth": 0,
              "ticks": ""
             }
            },
            "type": "scattermapbox"
           }
          ],
          "scatterpolar": [
           {
            "marker": {
             "colorbar": {
              "outlinewidth": 0,
              "ticks": ""
             }
            },
            "type": "scatterpolar"
           }
          ],
          "scatterpolargl": [
           {
            "marker": {
             "colorbar": {
              "outlinewidth": 0,
              "ticks": ""
             }
            },
            "type": "scatterpolargl"
           }
          ],
          "scatterternary": [
           {
            "marker": {
             "colorbar": {
              "outlinewidth": 0,
              "ticks": ""
             }
            },
            "type": "scatterternary"
           }
          ],
          "surface": [
           {
            "colorbar": {
             "outlinewidth": 0,
             "ticks": ""
            },
            "colorscale": [
             [
              0,
              "#0d0887"
             ],
             [
              0.1111111111111111,
              "#46039f"
             ],
             [
              0.2222222222222222,
              "#7201a8"
             ],
             [
              0.3333333333333333,
              "#9c179e"
             ],
             [
              0.4444444444444444,
              "#bd3786"
             ],
             [
              0.5555555555555556,
              "#d8576b"
             ],
             [
              0.6666666666666666,
              "#ed7953"
             ],
             [
              0.7777777777777778,
              "#fb9f3a"
             ],
             [
              0.8888888888888888,
              "#fdca26"
             ],
             [
              1,
              "#f0f921"
             ]
            ],
            "type": "surface"
           }
          ],
          "table": [
           {
            "cells": {
             "fill": {
              "color": "#EBF0F8"
             },
             "line": {
              "color": "white"
             }
            },
            "header": {
             "fill": {
              "color": "#C8D4E3"
             },
             "line": {
              "color": "white"
             }
            },
            "type": "table"
           }
          ]
         },
         "layout": {
          "annotationdefaults": {
           "arrowcolor": "#2a3f5f",
           "arrowhead": 0,
           "arrowwidth": 1
          },
          "autotypenumbers": "strict",
          "coloraxis": {
           "colorbar": {
            "outlinewidth": 0,
            "ticks": ""
           }
          },
          "colorscale": {
           "diverging": [
            [
             0,
             "#8e0152"
            ],
            [
             0.1,
             "#c51b7d"
            ],
            [
             0.2,
             "#de77ae"
            ],
            [
             0.3,
             "#f1b6da"
            ],
            [
             0.4,
             "#fde0ef"
            ],
            [
             0.5,
             "#f7f7f7"
            ],
            [
             0.6,
             "#e6f5d0"
            ],
            [
             0.7,
             "#b8e186"
            ],
            [
             0.8,
             "#7fbc41"
            ],
            [
             0.9,
             "#4d9221"
            ],
            [
             1,
             "#276419"
            ]
           ],
           "sequential": [
            [
             0,
             "#0d0887"
            ],
            [
             0.1111111111111111,
             "#46039f"
            ],
            [
             0.2222222222222222,
             "#7201a8"
            ],
            [
             0.3333333333333333,
             "#9c179e"
            ],
            [
             0.4444444444444444,
             "#bd3786"
            ],
            [
             0.5555555555555556,
             "#d8576b"
            ],
            [
             0.6666666666666666,
             "#ed7953"
            ],
            [
             0.7777777777777778,
             "#fb9f3a"
            ],
            [
             0.8888888888888888,
             "#fdca26"
            ],
            [
             1,
             "#f0f921"
            ]
           ],
           "sequentialminus": [
            [
             0,
             "#0d0887"
            ],
            [
             0.1111111111111111,
             "#46039f"
            ],
            [
             0.2222222222222222,
             "#7201a8"
            ],
            [
             0.3333333333333333,
             "#9c179e"
            ],
            [
             0.4444444444444444,
             "#bd3786"
            ],
            [
             0.5555555555555556,
             "#d8576b"
            ],
            [
             0.6666666666666666,
             "#ed7953"
            ],
            [
             0.7777777777777778,
             "#fb9f3a"
            ],
            [
             0.8888888888888888,
             "#fdca26"
            ],
            [
             1,
             "#f0f921"
            ]
           ]
          },
          "colorway": [
           "#636efa",
           "#EF553B",
           "#00cc96",
           "#ab63fa",
           "#FFA15A",
           "#19d3f3",
           "#FF6692",
           "#B6E880",
           "#FF97FF",
           "#FECB52"
          ],
          "font": {
           "color": "#2a3f5f"
          },
          "geo": {
           "bgcolor": "white",
           "lakecolor": "white",
           "landcolor": "white",
           "showlakes": true,
           "showland": true,
           "subunitcolor": "#C8D4E3"
          },
          "hoverlabel": {
           "align": "left"
          },
          "hovermode": "closest",
          "mapbox": {
           "style": "light"
          },
          "paper_bgcolor": "white",
          "plot_bgcolor": "white",
          "polar": {
           "angularaxis": {
            "gridcolor": "#EBF0F8",
            "linecolor": "#EBF0F8",
            "ticks": ""
           },
           "bgcolor": "white",
           "radialaxis": {
            "gridcolor": "#EBF0F8",
            "linecolor": "#EBF0F8",
            "ticks": ""
           }
          },
          "scene": {
           "xaxis": {
            "backgroundcolor": "white",
            "gridcolor": "#DFE8F3",
            "gridwidth": 2,
            "linecolor": "#EBF0F8",
            "showbackground": true,
            "ticks": "",
            "zerolinecolor": "#EBF0F8"
           },
           "yaxis": {
            "backgroundcolor": "white",
            "gridcolor": "#DFE8F3",
            "gridwidth": 2,
            "linecolor": "#EBF0F8",
            "showbackground": true,
            "ticks": "",
            "zerolinecolor": "#EBF0F8"
           },
           "zaxis": {
            "backgroundcolor": "white",
            "gridcolor": "#DFE8F3",
            "gridwidth": 2,
            "linecolor": "#EBF0F8",
            "showbackground": true,
            "ticks": "",
            "zerolinecolor": "#EBF0F8"
           }
          },
          "shapedefaults": {
           "line": {
            "color": "#2a3f5f"
           }
          },
          "ternary": {
           "aaxis": {
            "gridcolor": "#DFE8F3",
            "linecolor": "#A2B1C6",
            "ticks": ""
           },
           "baxis": {
            "gridcolor": "#DFE8F3",
            "linecolor": "#A2B1C6",
            "ticks": ""
           },
           "bgcolor": "white",
           "caxis": {
            "gridcolor": "#DFE8F3",
            "linecolor": "#A2B1C6",
            "ticks": ""
           }
          },
          "title": {
           "x": 0.05
          },
          "xaxis": {
           "automargin": true,
           "gridcolor": "#EBF0F8",
           "linecolor": "#EBF0F8",
           "ticks": "",
           "title": {
            "standoff": 15
           },
           "zerolinecolor": "#EBF0F8",
           "zerolinewidth": 2
          },
          "yaxis": {
           "automargin": true,
           "gridcolor": "#EBF0F8",
           "linecolor": "#EBF0F8",
           "ticks": "",
           "title": {
            "standoff": 15
           },
           "zerolinecolor": "#EBF0F8",
           "zerolinewidth": 2
          }
         }
        }
       }
      }
     },
     "metadata": {},
     "output_type": "display_data"
    },
    {
     "name": "stderr",
     "output_type": "stream",
     "text": [
      "[I 2024-10-29 14:01:36,816] A new study created in memory with name: example-study\n"
     ]
    },
    {
     "name": "stdout",
     "output_type": "stream",
     "text": [
      "Warning: ARIMASimFlow column not found in data for Guide station, year 2015\n"
     ]
    },
    {
     "name": "stderr",
     "output_type": "stream",
     "text": [
      "[I 2024-10-29 14:02:20,692] Trial 0 finished with value: 0.005266785155981779 and parameters: {'num_layers': 1, 'hidden_size': 8, 'lstm_dropout': 0.36396321490913225, 'dense_dropout': 0.20093743637995404, 'learning_rate': 7.020866094976458e-05}. Best is trial 0 with value: 0.005266785155981779.\n",
      "[I 2024-10-29 14:03:10,035] Trial 1 finished with value: 0.007949394173920155 and parameters: {'num_layers': 1, 'hidden_size': 80, 'lstm_dropout': 0.3815861444187482, 'dense_dropout': 0.26429244672340707, 'learning_rate': 0.04665051692586674}. Best is trial 0 with value: 0.005266785155981779.\n",
      "[I 2024-10-29 14:04:04,839] Trial 2 finished with value: 0.03890648111701012 and parameters: {'num_layers': 3, 'hidden_size': 96, 'lstm_dropout': 0.13754060607262264, 'dense_dropout': 0.44380321866236744, 'learning_rate': 0.0772615891338594}. Best is trial 0 with value: 0.005266785155981779.\n",
      "[I 2024-10-29 14:04:52,828] Trial 3 finished with value: 0.012931969482451677 and parameters: {'num_layers': 2, 'hidden_size': 32, 'lstm_dropout': 0.3590115112566775, 'dense_dropout': 0.3308990339846598, 'learning_rate': 1.6315533267902017e-05}. Best is trial 0 with value: 0.005266785155981779.\n",
      "[I 2024-10-29 14:05:37,704] Trial 4 finished with value: 0.00713139888830483 and parameters: {'num_layers': 1, 'hidden_size': 72, 'lstm_dropout': 0.08192118060876086, 'dense_dropout': 0.34515473832362253, 'learning_rate': 0.0009943633198246215}. Best is trial 0 with value: 0.005266785155981779.\n",
      "[I 2024-10-29 14:06:29,556] Trial 5 finished with value: 0.005750561598688364 and parameters: {'num_layers': 2, 'hidden_size': 128, 'lstm_dropout': 0.1065030443429798, 'dense_dropout': 0.2958884620948186, 'learning_rate': 0.0036853174170489622}. Best is trial 0 with value: 0.005266785155981779.\n",
      "[I 2024-10-29 14:06:29,611] Trial 6 pruned. \n",
      "[I 2024-10-29 14:06:29,719] Trial 7 pruned. \n",
      "[I 2024-10-29 14:07:21,083] Trial 8 finished with value: 0.0023307427763938904 and parameters: {'num_layers': 3, 'hidden_size': 32, 'lstm_dropout': 0.02891267383585583, 'dense_dropout': 0.08381307508594188, 'learning_rate': 0.009497974869270447}. Best is trial 8 with value: 0.0023307427763938904.\n",
      "[I 2024-10-29 14:07:21,145] Trial 9 pruned. \n",
      "[I 2024-10-29 14:07:21,290] Trial 10 pruned. \n",
      "[I 2024-10-29 14:07:21,359] Trial 11 pruned. \n",
      "[I 2024-10-29 14:08:04,933] Trial 12 finished with value: 0.0035624075680971146 and parameters: {'num_layers': 1, 'hidden_size': 24, 'lstm_dropout': 0.24140914219457785, 'dense_dropout': 0.16212510117935386, 'learning_rate': 0.005039856193865924}. Best is trial 8 with value: 0.0023307427763938904.\n",
      "[I 2024-10-29 14:08:54,150] Trial 13 finished with value: 0.0026446491829119623 and parameters: {'num_layers': 2, 'hidden_size': 56, 'lstm_dropout': 0.0005680289643366157, 'dense_dropout': 0.07574898114110806, 'learning_rate': 0.006689079917356801}. Best is trial 8 with value: 0.0023307427763938904.\n",
      "[I 2024-10-29 14:09:43,177] Trial 14 finished with value: 0.0024465611204504967 and parameters: {'num_layers': 2, 'hidden_size': 56, 'lstm_dropout': 0.003341732446602231, 'dense_dropout': 0.010219429054410714, 'learning_rate': 0.007624565881388707}. Best is trial 8 with value: 0.0023307427763938904.\n",
      "[I 2024-10-29 14:09:43,278] Trial 15 pruned. \n",
      "[I 2024-10-29 14:09:43,390] Trial 16 pruned. \n",
      "[I 2024-10-29 14:10:32,763] Trial 17 finished with value: 0.00291420123539865 and parameters: {'num_layers': 2, 'hidden_size': 64, 'lstm_dropout': 0.06160882410904881, 'dense_dropout': 0.06700542423358646, 'learning_rate': 0.01689512058073933}. Best is trial 8 with value: 0.0023307427763938904.\n",
      "[I 2024-10-29 14:10:32,841] Trial 18 pruned. \n",
      "[I 2024-10-29 14:10:32,927] Trial 19 pruned. \n",
      "[I 2024-10-29 14:11:21,331] Trial 20 finished with value: 0.0032989634200930595 and parameters: {'num_layers': 2, 'hidden_size': 56, 'lstm_dropout': 0.2998348308030689, 'dense_dropout': 0.035962671196252134, 'learning_rate': 0.011027318884984157}. Best is trial 8 with value: 0.0023307427763938904.\n",
      "[I 2024-10-29 14:12:10,169] Trial 21 finished with value: 0.0029355399310588837 and parameters: {'num_layers': 2, 'hidden_size': 56, 'lstm_dropout': 0.011420649903514492, 'dense_dropout': 0.10318066900971053, 'learning_rate': 0.0074232576495705666}. Best is trial 8 with value: 0.0023307427763938904.\n",
      "[I 2024-10-29 14:12:59,713] Trial 22 finished with value: 0.003727635950781405 and parameters: {'num_layers': 2, 'hidden_size': 64, 'lstm_dropout': 0.005543060757286233, 'dense_dropout': 0.03711481860375248, 'learning_rate': 0.001881541095168757}. Best is trial 8 with value: 0.0023307427763938904.\n",
      "[I 2024-10-29 14:12:59,785] Trial 23 pruned. \n",
      "[I 2024-10-29 14:12:59,853] Trial 24 pruned. \n",
      "[I 2024-10-29 14:12:59,927] Trial 25 pruned. \n",
      "[I 2024-10-29 14:13:00,014] Trial 26 pruned. \n",
      "[I 2024-10-29 14:13:00,085] Trial 27 pruned. \n",
      "[I 2024-10-29 14:13:50,850] Trial 28 finished with value: 0.0036481100833043456 and parameters: {'num_layers': 3, 'hidden_size': 80, 'lstm_dropout': 0.002861300958496281, 'dense_dropout': 0.0031577409715565687, 'learning_rate': 0.008877395406170961}. Best is trial 8 with value: 0.0023307427763938904.\n",
      "[I 2024-10-29 14:13:50,910] Trial 29 pruned. \n",
      "[I 2024-10-29 14:13:51,022] Trial 30 pruned. \n",
      "[I 2024-10-29 14:13:51,194] Trial 31 pruned. \n",
      "[I 2024-10-29 14:13:51,257] Trial 32 pruned. \n",
      "[I 2024-10-29 14:13:51,330] Trial 33 pruned. \n",
      "[I 2024-10-29 14:13:51,425] Trial 34 pruned. \n",
      "[I 2024-10-29 14:13:51,520] Trial 35 pruned. \n",
      "[I 2024-10-29 14:13:51,762] Trial 36 pruned. \n",
      "[I 2024-10-29 14:13:51,860] Trial 37 pruned. \n",
      "[I 2024-10-29 14:13:51,963] Trial 38 pruned. \n",
      "[I 2024-10-29 14:14:40,270] Trial 39 finished with value: 0.0036079168785363436 and parameters: {'num_layers': 2, 'hidden_size': 56, 'lstm_dropout': 0.06112396931318926, 'dense_dropout': 0.022910008896343106, 'learning_rate': 0.021128152071957944}. Best is trial 8 with value: 0.0023307427763938904.\n",
      "[I 2024-10-29 14:14:40,342] Trial 40 pruned. \n",
      "[I 2024-10-29 14:14:40,520] Trial 41 pruned. \n",
      "[I 2024-10-29 14:14:40,602] Trial 42 pruned. \n",
      "[I 2024-10-29 14:14:40,677] Trial 43 pruned. \n",
      "[I 2024-10-29 14:15:29,731] Trial 44 finished with value: 0.0035732153919525445 and parameters: {'num_layers': 2, 'hidden_size': 72, 'lstm_dropout': 0.02122751327193322, 'dense_dropout': 0.13198136472582594, 'learning_rate': 0.007849027629038493}. Best is trial 8 with value: 0.0023307427763938904.\n",
      "[I 2024-10-29 14:15:29,795] Trial 45 pruned. \n",
      "[I 2024-10-29 14:15:29,858] Trial 46 pruned. \n",
      "[I 2024-10-29 14:15:29,926] Trial 47 pruned. \n",
      "[I 2024-10-29 14:15:29,998] Trial 48 pruned. \n",
      "[I 2024-10-29 14:15:30,070] Trial 49 pruned. \n",
      "[I 2024-10-29 14:15:30,128] Trial 50 pruned. \n",
      "[I 2024-10-29 14:15:30,193] Trial 51 pruned. \n",
      "[I 2024-10-29 14:16:19,185] Trial 52 finished with value: 0.004282781854271889 and parameters: {'num_layers': 2, 'hidden_size': 64, 'lstm_dropout': 0.3148572841408408, 'dense_dropout': 0.08773838517046992, 'learning_rate': 0.009819979655436229}. Best is trial 8 with value: 0.0023307427763938904.\n",
      "[I 2024-10-29 14:16:19,246] Trial 53 pruned. \n",
      "[I 2024-10-29 14:17:05,843] Trial 54 finished with value: 0.0036190649261698127 and parameters: {'num_layers': 2, 'hidden_size': 16, 'lstm_dropout': 0.2837387637852075, 'dense_dropout': 0.0011031157809472114, 'learning_rate': 0.014125278550099221}. Best is trial 8 with value: 0.0023307427763938904.\n",
      "[I 2024-10-29 14:17:05,908] Trial 55 pruned. \n",
      "[I 2024-10-29 14:17:06,025] Trial 56 pruned. \n",
      "[I 2024-10-29 14:17:06,095] Trial 57 pruned. \n",
      "[I 2024-10-29 14:17:06,158] Trial 58 pruned. \n",
      "[I 2024-10-29 14:17:06,225] Trial 59 pruned. \n",
      "[I 2024-10-29 14:17:06,295] Trial 60 pruned. \n",
      "[I 2024-10-29 14:17:06,354] Trial 61 pruned. \n",
      "[I 2024-10-29 14:17:06,501] Trial 62 pruned. \n",
      "[I 2024-10-29 14:17:06,581] Trial 63 pruned. \n",
      "[I 2024-10-29 14:17:06,685] Trial 64 pruned. \n",
      "[I 2024-10-29 14:17:49,976] Trial 65 finished with value: 0.002419318538159132 and parameters: {'num_layers': 1, 'hidden_size': 56, 'lstm_dropout': 0.2649597857609141, 'dense_dropout': 0.09053001866187799, 'learning_rate': 0.005604291155781671}. Best is trial 8 with value: 0.0023307427763938904.\n",
      "[I 2024-10-29 14:17:50,129] Trial 66 pruned. \n",
      "[I 2024-10-29 14:17:50,208] Trial 67 pruned. \n",
      "[I 2024-10-29 14:17:50,268] Trial 68 pruned. \n",
      "[I 2024-10-29 14:17:50,333] Trial 69 pruned. \n",
      "[I 2024-10-29 14:17:50,411] Trial 70 pruned. \n",
      "[I 2024-10-29 14:17:50,544] Trial 71 pruned. \n",
      "[I 2024-10-29 14:17:51,302] Trial 72 pruned. \n",
      "[I 2024-10-29 14:17:51,374] Trial 73 pruned. \n",
      "[I 2024-10-29 14:17:52,244] Trial 74 pruned. \n",
      "[I 2024-10-29 14:17:52,320] Trial 75 pruned. \n",
      "[I 2024-10-29 14:17:53,623] Trial 76 pruned. \n",
      "[I 2024-10-29 14:17:53,698] Trial 77 pruned. \n",
      "[I 2024-10-29 14:17:53,774] Trial 78 pruned. \n",
      "[I 2024-10-29 14:17:53,844] Trial 79 pruned. \n",
      "[I 2024-10-29 14:17:53,925] Trial 80 pruned. \n",
      "[I 2024-10-29 14:18:41,939] Trial 81 finished with value: 0.0036633176496252418 and parameters: {'num_layers': 2, 'hidden_size': 72, 'lstm_dropout': 0.0186160417775938, 'dense_dropout': 0.13921346565986814, 'learning_rate': 0.007720483634160636}. Best is trial 8 with value: 0.0023307427763938904.\n",
      "[I 2024-10-29 14:18:42,110] Trial 82 pruned. \n",
      "[I 2024-10-29 14:18:42,183] Trial 83 pruned. \n",
      "[I 2024-10-29 14:18:42,294] Trial 84 pruned. \n",
      "[I 2024-10-29 14:18:42,383] Trial 85 pruned. \n",
      "[I 2024-10-29 14:18:42,477] Trial 86 pruned. \n",
      "[I 2024-10-29 14:18:42,570] Trial 87 pruned. \n",
      "[I 2024-10-29 14:18:42,660] Trial 88 pruned. \n",
      "[I 2024-10-29 14:18:42,769] Trial 89 pruned. \n",
      "[I 2024-10-29 14:19:26,555] Trial 90 finished with value: 0.0023231460654642433 and parameters: {'num_layers': 1, 'hidden_size': 88, 'lstm_dropout': 0.026614376697747383, 'dense_dropout': 0.010250682758979626, 'learning_rate': 0.006685959767502989}. Best is trial 90 with value: 0.0023231460654642433.\n",
      "[I 2024-10-29 14:19:27,230] Trial 91 pruned. \n",
      "[I 2024-10-29 14:19:27,298] Trial 92 pruned. \n",
      "[I 2024-10-29 14:20:12,232] Trial 93 finished with value: 0.003418748383410275 and parameters: {'num_layers': 1, 'hidden_size': 88, 'lstm_dropout': 0.027342880234835873, 'dense_dropout': 0.0017186204941266846, 'learning_rate': 0.005868777157092761}. Best is trial 90 with value: 0.0023231460654642433.\n",
      "[I 2024-10-29 14:20:13,498] Trial 94 pruned. \n",
      "[I 2024-10-29 14:20:57,576] Trial 95 finished with value: 0.0027102743042632937 and parameters: {'num_layers': 1, 'hidden_size': 88, 'lstm_dropout': 0.06908696709343068, 'dense_dropout': 0.0034476280754488103, 'learning_rate': 0.011671340086622867}. Best is trial 90 with value: 0.0023231460654642433.\n",
      "[I 2024-10-29 14:21:41,550] Trial 96 finished with value: 0.002150496526155621 and parameters: {'num_layers': 1, 'hidden_size': 96, 'lstm_dropout': 0.0714837968455423, 'dense_dropout': 0.007222531587844109, 'learning_rate': 0.011785608779093168}. Best is trial 96 with value: 0.002150496526155621.\n",
      "[I 2024-10-29 14:21:41,652] Trial 97 pruned. \n",
      "[I 2024-10-29 14:22:26,227] Trial 98 finished with value: 0.0024631493724882603 and parameters: {'num_layers': 1, 'hidden_size': 96, 'lstm_dropout': 0.06156540647422595, 'dense_dropout': 0.02033935795210625, 'learning_rate': 0.01221538055572913}. Best is trial 96 with value: 0.002150496526155621.\n",
      "[I 2024-10-29 14:23:11,618] Trial 99 finished with value: 0.0027439576806500554 and parameters: {'num_layers': 1, 'hidden_size': 104, 'lstm_dropout': 0.06865870407826591, 'dense_dropout': 0.010219014945072945, 'learning_rate': 0.012946318784755861}. Best is trial 96 with value: 0.002150496526155621.\n",
      "[I 2024-10-29 14:23:11,737] A new study created in memory with name: example-study\n"
     ]
    },
    {
     "name": "stdout",
     "output_type": "stream",
     "text": [
      "Study statistics: \n",
      "  Number of finished trials:  100\n",
      "  Number of pruned trials:  73\n",
      "  Number of complete trials:  27\n",
      "Best trial:\n",
      "  Value:  0.002150496526155621\n",
      "  Params: \n",
      "    num_layers: 1\n",
      "    hidden_size: 96\n",
      "    lstm_dropout: 0.0714837968455423\n",
      "    dense_dropout: 0.007222531587844109\n",
      "    learning_rate: 0.011785608779093168\n",
      "R2 for sim at Guide(1972-2014) 0.9540315749756086\n",
      "Warning: ARIMASimFlow column not found in data for Guide station, year 2016\n"
     ]
    },
    {
     "name": "stderr",
     "output_type": "stream",
     "text": [
      "[I 2024-10-29 14:24:05,555] Trial 0 finished with value: 0.013597266748547554 and parameters: {'num_layers': 2, 'hidden_size': 120, 'lstm_dropout': 0.2015837450114895, 'dense_dropout': 0.4778017486978153, 'learning_rate': 0.00011293681125849496}. Best is trial 0 with value: 0.013597266748547554.\n",
      "[I 2024-10-29 14:24:55,695] Trial 1 finished with value: 0.0033507838379591703 and parameters: {'num_layers': 2, 'hidden_size': 80, 'lstm_dropout': 0.3424186619560133, 'dense_dropout': 0.13416660613913417, 'learning_rate': 0.00013258470681462968}. Best is trial 1 with value: 0.0033507838379591703.\n",
      "[I 2024-10-29 14:25:51,379] Trial 2 finished with value: 0.012529273284599185 and parameters: {'num_layers': 3, 'hidden_size': 96, 'lstm_dropout': 0.3111269962303139, 'dense_dropout': 0.4594638632335935, 'learning_rate': 3.211381909989367e-05}. Best is trial 1 with value: 0.0033507838379591703.\n",
      "[I 2024-10-29 14:26:41,888] Trial 3 finished with value: 0.006029557669535279 and parameters: {'num_layers': 2, 'hidden_size': 16, 'lstm_dropout': 0.09428471302595587, 'dense_dropout': 0.018984979982647754, 'learning_rate': 1.863554278698101e-05}. Best is trial 1 with value: 0.0033507838379591703.\n",
      "[I 2024-10-29 14:27:39,654] Trial 4 finished with value: 0.006685513304546475 and parameters: {'num_layers': 3, 'hidden_size': 120, 'lstm_dropout': 0.06078208853862882, 'dense_dropout': 0.2740494683176754, 'learning_rate': 0.00031351800502341125}. Best is trial 1 with value: 0.0033507838379591703.\n",
      "[I 2024-10-29 14:28:27,045] Trial 5 finished with value: 0.0026851844741031528 and parameters: {'num_layers': 1, 'hidden_size': 88, 'lstm_dropout': 0.2811940832028167, 'dense_dropout': 0.09967038780298987, 'learning_rate': 0.00229672709036452}. Best is trial 5 with value: 0.0026851844741031528.\n",
      "[I 2024-10-29 14:28:48,098] Trial 6 pruned. \n",
      "[I 2024-10-29 14:29:43,065] Trial 7 finished with value: 0.002867497969418764 and parameters: {'num_layers': 3, 'hidden_size': 64, 'lstm_dropout': 0.18960659592203616, 'dense_dropout': 0.045806343108588, 'learning_rate': 0.00023248922950590365}. Best is trial 5 with value: 0.0026851844741031528.\n",
      "[I 2024-10-29 14:29:43,429] Trial 8 pruned. \n",
      "[I 2024-10-29 14:29:43,483] Trial 9 pruned. \n",
      "[I 2024-10-29 14:29:43,547] Trial 10 pruned. \n",
      "[I 2024-10-29 14:30:29,960] Trial 11 finished with value: 0.003419279819354415 and parameters: {'num_layers': 1, 'hidden_size': 80, 'lstm_dropout': 0.21693438860967523, 'dense_dropout': 0.11659400936470227, 'learning_rate': 0.0016842682404217412}. Best is trial 5 with value: 0.0026851844741031528.\n",
      "[I 2024-10-29 14:31:15,927] Trial 12 finished with value: 0.004160786746069789 and parameters: {'num_layers': 1, 'hidden_size': 48, 'lstm_dropout': 0.30900375334535535, 'dense_dropout': 0.1022556282683138, 'learning_rate': 0.0013717374013893424}. Best is trial 5 with value: 0.0026851844741031528.\n",
      "[I 2024-10-29 14:31:15,994] Trial 13 pruned. \n",
      "[I 2024-10-29 14:32:10,099] Trial 14 finished with value: 0.0036405202699825168 and parameters: {'num_layers': 3, 'hidden_size': 72, 'lstm_dropout': 0.16907270164685018, 'dense_dropout': 0.18508924541739485, 'learning_rate': 0.0053239731111787425}. Best is trial 5 with value: 0.0026851844741031528.\n",
      "[I 2024-10-29 14:32:56,505] Trial 15 finished with value: 0.001828180713346228 and parameters: {'num_layers': 1, 'hidden_size': 96, 'lstm_dropout': 0.27301821012317473, 'dense_dropout': 0.062310406547489955, 'learning_rate': 0.0375108656471956}. Best is trial 15 with value: 0.001828180713346228.\n",
      "[I 2024-10-29 14:32:56,569] Trial 16 pruned. \n",
      "[I 2024-10-29 14:32:56,632] Trial 17 pruned. \n",
      "[I 2024-10-29 14:33:43,747] Trial 18 finished with value: 0.0025506416568532586 and parameters: {'num_layers': 1, 'hidden_size': 128, 'lstm_dropout': 0.259053792682483, 'dense_dropout': 0.17323010230698055, 'learning_rate': 0.020365486554487177}. Best is trial 15 with value: 0.001828180713346228.\n",
      "[I 2024-10-29 14:33:43,834] Trial 19 pruned. \n",
      "[I 2024-10-29 14:33:43,899] Trial 20 pruned. \n",
      "[I 2024-10-29 14:34:30,542] Trial 21 finished with value: 0.0030686388490721583 and parameters: {'num_layers': 1, 'hidden_size': 88, 'lstm_dropout': 0.2629913442062772, 'dense_dropout': 0.07349641506138518, 'learning_rate': 0.002876686349304317}. Best is trial 15 with value: 0.001828180713346228.\n",
      "[I 2024-10-29 14:35:18,243] Trial 22 finished with value: 0.002518339781090617 and parameters: {'num_layers': 1, 'hidden_size': 112, 'lstm_dropout': 0.36315340027033094, 'dense_dropout': 0.14796615332684865, 'learning_rate': 0.01317343532124163}. Best is trial 15 with value: 0.001828180713346228.\n",
      "[I 2024-10-29 14:36:06,383] Trial 23 finished with value: 0.001787884975783527 and parameters: {'num_layers': 1, 'hidden_size': 128, 'lstm_dropout': 0.3735196943786393, 'dense_dropout': 0.1533333942452407, 'learning_rate': 0.017368369346400563}. Best is trial 23 with value: 0.001787884975783527.\n",
      "[I 2024-10-29 14:36:06,495] Trial 24 pruned. \n",
      "[I 2024-10-29 14:36:55,159] Trial 25 finished with value: 0.002047971123829484 and parameters: {'num_layers': 1, 'hidden_size': 112, 'lstm_dropout': 0.43699255501166173, 'dense_dropout': 0.1480137803424057, 'learning_rate': 0.01223086225441737}. Best is trial 23 with value: 0.001787884975783527.\n",
      "[I 2024-10-29 14:37:43,952] Trial 26 finished with value: 0.0026274006231687963 and parameters: {'num_layers': 1, 'hidden_size': 128, 'lstm_dropout': 0.4508085847607297, 'dense_dropout': 0.06346930863581632, 'learning_rate': 0.004711762366642849}. Best is trial 23 with value: 0.001787884975783527.\n",
      "[I 2024-10-29 14:37:44,025] Trial 27 pruned. \n",
      "[I 2024-10-29 14:37:44,087] Trial 28 pruned. \n",
      "[I 2024-10-29 14:37:44,259] Trial 29 pruned. \n",
      "[I 2024-10-29 14:37:44,321] Trial 30 pruned. \n",
      "[I 2024-10-29 14:38:32,995] Trial 31 finished with value: 0.004170125117525458 and parameters: {'num_layers': 1, 'hidden_size': 112, 'lstm_dropout': 0.3600494194964554, 'dense_dropout': 0.15058562377324483, 'learning_rate': 0.015426540964490058}. Best is trial 23 with value: 0.001787884975783527.\n",
      "[I 2024-10-29 14:38:33,721] Trial 32 pruned. \n",
      "[I 2024-10-29 14:38:33,787] Trial 33 pruned. \n",
      "[I 2024-10-29 14:39:20,545] Trial 34 finished with value: 0.0023348938557319343 and parameters: {'num_layers': 1, 'hidden_size': 88, 'lstm_dropout': 0.4550142781690184, 'dense_dropout': 0.06377152815570178, 'learning_rate': 0.015019165802239021}. Best is trial 23 with value: 0.001787884975783527.\n",
      "[I 2024-10-29 14:39:20,617] Trial 35 pruned. \n",
      "[I 2024-10-29 14:40:07,791] Trial 36 finished with value: 0.002358265279326588 and parameters: {'num_layers': 1, 'hidden_size': 88, 'lstm_dropout': 0.42315650463294574, 'dense_dropout': 0.08111326110264672, 'learning_rate': 0.007435543137178601}. Best is trial 23 with value: 0.001787884975783527.\n",
      "[I 2024-10-29 14:41:00,265] Trial 37 finished with value: 0.003061647294089198 and parameters: {'num_layers': 2, 'hidden_size': 72, 'lstm_dropout': 0.46224447559796966, 'dense_dropout': 0.012624981118148415, 'learning_rate': 0.018095255757244626}. Best is trial 23 with value: 0.001787884975783527.\n",
      "[I 2024-10-29 14:41:00,374] Trial 38 pruned. \n",
      "[I 2024-10-29 14:41:00,434] Trial 39 pruned. \n",
      "[I 2024-10-29 14:41:00,503] Trial 40 pruned. \n",
      "[I 2024-10-29 14:41:48,978] Trial 41 finished with value: 0.0021269366261549294 and parameters: {'num_layers': 1, 'hidden_size': 80, 'lstm_dropout': 0.41570996038033076, 'dense_dropout': 0.07724452989277564, 'learning_rate': 0.007488721617854101}. Best is trial 23 with value: 0.001787884975783527.\n",
      "[I 2024-10-29 14:41:49,034] Trial 42 pruned. \n",
      "[I 2024-10-29 14:42:35,675] Trial 43 finished with value: 0.002013641642406583 and parameters: {'num_layers': 1, 'hidden_size': 64, 'lstm_dropout': 0.42058170951100093, 'dense_dropout': 0.05743007515127781, 'learning_rate': 0.006562865507568675}. Best is trial 23 with value: 0.001787884975783527.\n",
      "[I 2024-10-29 14:42:35,820] Trial 44 pruned. \n",
      "[I 2024-10-29 14:42:35,918] Trial 45 pruned. \n",
      "[I 2024-10-29 14:43:22,990] Trial 46 finished with value: 0.002207704819738865 and parameters: {'num_layers': 1, 'hidden_size': 56, 'lstm_dropout': 0.29480639759630267, 'dense_dropout': 0.020103535407580468, 'learning_rate': 0.009077073422212556}. Best is trial 23 with value: 0.001787884975783527.\n",
      "[I 2024-10-29 14:43:23,108] Trial 47 pruned. \n",
      "[I 2024-10-29 14:43:23,170] Trial 48 pruned. \n",
      "[I 2024-10-29 14:44:10,677] Trial 49 finished with value: 0.0016481979982927442 and parameters: {'num_layers': 1, 'hidden_size': 56, 'lstm_dropout': 0.47924163422658234, 'dense_dropout': 0.13151245528345662, 'learning_rate': 0.02246853222279354}. Best is trial 49 with value: 0.0016481979982927442.\n",
      "[I 2024-10-29 14:44:10,758] Trial 50 pruned. \n",
      "[I 2024-10-29 14:44:10,822] Trial 51 pruned. \n",
      "[I 2024-10-29 14:44:11,215] Trial 52 pruned. \n",
      "[I 2024-10-29 14:44:11,294] Trial 53 pruned. \n",
      "[I 2024-10-29 14:44:11,361] Trial 54 pruned. \n",
      "[I 2024-10-29 14:44:57,785] Trial 55 finished with value: 0.0012747833388857543 and parameters: {'num_layers': 1, 'hidden_size': 64, 'lstm_dropout': 0.4323931922253557, 'dense_dropout': 0.08996484402668149, 'learning_rate': 0.007273997994916858}. Best is trial 55 with value: 0.0012747833388857543.\n",
      "[I 2024-10-29 14:44:57,849] Trial 56 pruned. \n",
      "[I 2024-10-29 14:45:44,415] Trial 57 finished with value: 0.0020291167311370373 and parameters: {'num_layers': 1, 'hidden_size': 56, 'lstm_dropout': 0.17680079834603046, 'dense_dropout': 0.11079359428172261, 'learning_rate': 0.01228118787098507}. Best is trial 55 with value: 0.0012747833388857543.\n",
      "[I 2024-10-29 14:45:44,474] Trial 58 pruned. \n",
      "[I 2024-10-29 14:45:44,598] Trial 59 pruned. \n",
      "[I 2024-10-29 14:46:31,369] Trial 60 finished with value: 0.0028600561199709773 and parameters: {'num_layers': 1, 'hidden_size': 56, 'lstm_dropout': 0.19437934561547293, 'dense_dropout': 0.08924380183296479, 'learning_rate': 0.004316725363915546}. Best is trial 55 with value: 0.0012747833388857543.\n",
      "[I 2024-10-29 14:47:17,728] Trial 61 finished with value: 0.0027641451451927423 and parameters: {'num_layers': 1, 'hidden_size': 40, 'lstm_dropout': 0.4377570107398316, 'dense_dropout': 0.1290512684425442, 'learning_rate': 0.010772145661811457}. Best is trial 55 with value: 0.0012747833388857543.\n",
      "[I 2024-10-29 14:47:17,834] Trial 62 pruned. \n",
      "[I 2024-10-29 14:48:03,978] Trial 63 finished with value: 0.002882889937609434 and parameters: {'num_layers': 1, 'hidden_size': 8, 'lstm_dropout': 0.08403966348024544, 'dense_dropout': 0.057877088783779194, 'learning_rate': 0.021134191182967676}. Best is trial 55 with value: 0.0012747833388857543.\n",
      "[I 2024-10-29 14:48:04,094] Trial 64 pruned. \n",
      "[I 2024-10-29 14:48:04,158] Trial 65 pruned. \n",
      "[I 2024-10-29 14:48:04,262] Trial 66 pruned. \n",
      "[I 2024-10-29 14:48:04,330] Trial 67 pruned. \n",
      "[I 2024-10-29 14:48:04,448] Trial 68 pruned. \n",
      "[I 2024-10-29 14:48:51,800] Trial 69 finished with value: 0.002533536113332957 and parameters: {'num_layers': 1, 'hidden_size': 56, 'lstm_dropout': 0.36837372993450473, 'dense_dropout': 0.15907338310203847, 'learning_rate': 0.020008438415057794}. Best is trial 55 with value: 0.0012747833388857543.\n",
      "[I 2024-10-29 14:48:51,881] Trial 70 pruned. \n",
      "[I 2024-10-29 14:49:39,913] Trial 71 finished with value: 0.00261006475193426 and parameters: {'num_layers': 1, 'hidden_size': 96, 'lstm_dropout': 0.41199876195885804, 'dense_dropout': 0.07394522672663291, 'learning_rate': 0.0066463406089650795}. Best is trial 55 with value: 0.0012747833388857543.\n",
      "[I 2024-10-29 14:49:39,976] Trial 72 pruned. \n",
      "[I 2024-10-29 14:49:40,053] Trial 73 pruned. \n",
      "[I 2024-10-29 14:49:40,127] Trial 74 pruned. \n",
      "[I 2024-10-29 14:50:27,205] Trial 75 finished with value: 0.0019479987095110118 and parameters: {'num_layers': 1, 'hidden_size': 72, 'lstm_dropout': 0.35505889794897166, 'dense_dropout': 0.08673456367546288, 'learning_rate': 0.005805878518420349}. Best is trial 55 with value: 0.0012747833388857543.\n",
      "[I 2024-10-29 14:51:14,163] Trial 76 finished with value: 0.0034732623025774956 and parameters: {'num_layers': 1, 'hidden_size': 48, 'lstm_dropout': 0.3496123952771438, 'dense_dropout': 0.11882786617450086, 'learning_rate': 0.02609554974862349}. Best is trial 55 with value: 0.0012747833388857543.\n",
      "[I 2024-10-29 14:51:14,365] Trial 77 pruned. \n",
      "[I 2024-10-29 14:51:14,766] Trial 78 pruned. \n",
      "[I 2024-10-29 14:51:14,925] Trial 79 pruned. \n",
      "[I 2024-10-29 14:51:15,008] Trial 80 pruned. \n",
      "[I 2024-10-29 14:51:53,254] Trial 81 finished with value: 0.0019625246059149504 and parameters: {'num_layers': 1, 'hidden_size': 72, 'lstm_dropout': 0.42191164542887494, 'dense_dropout': 0.0701348248832521, 'learning_rate': 0.010043462242349895}. Best is trial 55 with value: 0.0012747833388857543.\n",
      "[I 2024-10-29 14:51:53,336] Trial 82 pruned. \n",
      "[I 2024-10-29 14:51:53,421] Trial 83 pruned. \n",
      "[I 2024-10-29 14:51:53,470] Trial 84 pruned. \n",
      "[I 2024-10-29 14:52:27,035] Trial 85 finished with value: 0.002306854585185647 and parameters: {'num_layers': 1, 'hidden_size': 96, 'lstm_dropout': 0.44748641348302254, 'dense_dropout': 0.07824779398598405, 'learning_rate': 0.009702147479291745}. Best is trial 55 with value: 0.0012747833388857543.\n",
      "[I 2024-10-29 14:52:27,087] Trial 86 pruned. \n",
      "[I 2024-10-29 14:52:27,173] Trial 87 pruned. \n",
      "[I 2024-10-29 14:53:01,705] Trial 88 finished with value: 0.0020816803444176912 and parameters: {'num_layers': 1, 'hidden_size': 88, 'lstm_dropout': 0.33318199962532813, 'dense_dropout': 0.12365338612945892, 'learning_rate': 0.013657769939506225}. Best is trial 55 with value: 0.0012747833388857543.\n",
      "[I 2024-10-29 14:53:01,759] Trial 89 pruned. \n",
      "[I 2024-10-29 14:53:01,821] Trial 90 pruned. \n",
      "[I 2024-10-29 14:53:01,877] Trial 91 pruned. \n",
      "[I 2024-10-29 14:53:01,934] Trial 92 pruned. \n",
      "[I 2024-10-29 14:53:02,015] Trial 93 pruned. \n",
      "[I 2024-10-29 14:53:02,105] Trial 94 pruned. \n",
      "[I 2024-10-29 14:53:02,186] Trial 95 pruned. \n",
      "[I 2024-10-29 14:53:37,058] Trial 96 finished with value: 0.002005589776672423 and parameters: {'num_layers': 1, 'hidden_size': 56, 'lstm_dropout': 0.3554828091123692, 'dense_dropout': 0.05525095883993529, 'learning_rate': 0.011571923082005282}. Best is trial 55 with value: 0.0012747833388857543.\n",
      "[I 2024-10-29 14:53:37,118] Trial 97 pruned. \n",
      "[I 2024-10-29 14:53:37,241] Trial 98 pruned. \n",
      "[I 2024-10-29 14:54:10,768] Trial 99 finished with value: 0.002057574223726988 and parameters: {'num_layers': 1, 'hidden_size': 64, 'lstm_dropout': 0.18775025438520676, 'dense_dropout': 0.038096153670220866, 'learning_rate': 0.010970873042310576}. Best is trial 55 with value: 0.0012747833388857543.\n",
      "[I 2024-10-29 14:54:10,881] A new study created in memory with name: example-study\n"
     ]
    },
    {
     "name": "stdout",
     "output_type": "stream",
     "text": [
      "Study statistics: \n",
      "  Number of finished trials:  100\n",
      "  Number of pruned trials:  61\n",
      "  Number of complete trials:  39\n",
      "Best trial:\n",
      "  Value:  0.0012747833388857543\n",
      "  Params: \n",
      "    num_layers: 1\n",
      "    hidden_size: 64\n",
      "    lstm_dropout: 0.4323931922253557\n",
      "    dense_dropout: 0.08996484402668149\n",
      "    learning_rate: 0.007273997994916858\n",
      "R2 for sim at Guide(1972-2015) 0.9734413568014075\n",
      "Warning: ARIMASimFlow column not found in data for Guide station, year 2017\n"
     ]
    },
    {
     "name": "stderr",
     "output_type": "stream",
     "text": [
      "[I 2024-10-29 14:54:46,855] Trial 0 finished with value: 0.005770710064098239 and parameters: {'num_layers': 2, 'hidden_size': 80, 'lstm_dropout': 0.4907416401432515, 'dense_dropout': 0.28526553548091177, 'learning_rate': 0.00016460385303922545}. Best is trial 0 with value: 0.005770710064098239.\n",
      "[I 2024-10-29 14:55:24,370] Trial 1 finished with value: 0.002227436867542565 and parameters: {'num_layers': 2, 'hidden_size': 24, 'lstm_dropout': 0.34752256459914826, 'dense_dropout': 0.07206225019460427, 'learning_rate': 0.00043665578087738054}. Best is trial 1 with value: 0.002227436867542565.\n",
      "[I 2024-10-29 14:55:56,339] Trial 2 finished with value: 0.0036543625174090266 and parameters: {'num_layers': 1, 'hidden_size': 128, 'lstm_dropout': 0.19547834066178554, 'dense_dropout': 0.2421419107879016, 'learning_rate': 0.012140219434220353}. Best is trial 1 with value: 0.002227436867542565.\n",
      "[I 2024-10-29 14:56:29,407] Trial 3 finished with value: 0.009946288075298071 and parameters: {'num_layers': 1, 'hidden_size': 128, 'lstm_dropout': 0.13573094500662286, 'dense_dropout': 0.39377930856660354, 'learning_rate': 0.00032917825363797213}. Best is trial 1 with value: 0.002227436867542565.\n",
      "[I 2024-10-29 14:57:11,712] Trial 4 finished with value: 0.007080824347212911 and parameters: {'num_layers': 3, 'hidden_size': 64, 'lstm_dropout': 0.3267759108940835, 'dense_dropout': 0.09893185078909977, 'learning_rate': 1.3115481952475884e-05}. Best is trial 1 with value: 0.002227436867542565.\n",
      "[I 2024-10-29 14:57:49,118] Trial 5 finished with value: 0.004235372180119157 and parameters: {'num_layers': 2, 'hidden_size': 48, 'lstm_dropout': 0.421643314091954, 'dense_dropout': 0.20803102472300028, 'learning_rate': 0.008979206711315154}. Best is trial 1 with value: 0.002227436867542565.\n",
      "[I 2024-10-29 14:57:49,167] Trial 6 pruned. \n",
      "[I 2024-10-29 14:57:49,209] Trial 7 pruned. \n",
      "[I 2024-10-29 14:57:49,248] Trial 8 pruned. \n",
      "[I 2024-10-29 14:57:49,294] Trial 9 pruned. \n",
      "[I 2024-10-29 14:57:49,436] Trial 10 pruned. \n",
      "[I 2024-10-29 14:58:23,562] Trial 11 finished with value: 0.0038987851003184915 and parameters: {'num_layers': 1, 'hidden_size': 128, 'lstm_dropout': 0.20441742395822154, 'dense_dropout': 0.008479520670594168, 'learning_rate': 0.0019342127455947641}. Best is trial 1 with value: 0.002227436867542565.\n",
      "[I 2024-10-29 14:58:56,341] Trial 12 finished with value: 0.005021040211431682 and parameters: {'num_layers': 1, 'hidden_size': 16, 'lstm_dropout': 0.22310161465977704, 'dense_dropout': 0.1851233858690544, 'learning_rate': 0.08345282276529892}. Best is trial 1 with value: 0.002227436867542565.\n",
      "[I 2024-10-29 14:58:56,988] Trial 13 pruned. \n",
      "[I 2024-10-29 14:58:57,141] Trial 14 pruned. \n",
      "[I 2024-10-29 14:59:31,249] Trial 15 finished with value: 0.0030166483484208584 and parameters: {'num_layers': 1, 'hidden_size': 64, 'lstm_dropout': 0.3700756913961912, 'dense_dropout': 0.18585642079523876, 'learning_rate': 0.018567110535403525}. Best is trial 1 with value: 0.002227436867542565.\n",
      "[I 2024-10-29 14:59:31,313] Trial 16 pruned. \n",
      "[I 2024-10-29 14:59:31,374] Trial 17 pruned. \n",
      "[I 2024-10-29 15:00:05,232] Trial 18 finished with value: 0.0032124763820320368 and parameters: {'num_layers': 1, 'hidden_size': 72, 'lstm_dropout': 0.2716285223760927, 'dense_dropout': 0.18482510118546114, 'learning_rate': 0.0032794855844492403}. Best is trial 1 with value: 0.002227436867542565.\n",
      "[I 2024-10-29 15:00:05,283] Trial 19 pruned. \n",
      "[I 2024-10-29 15:00:05,336] Trial 20 pruned. \n",
      "[I 2024-10-29 15:00:39,672] Trial 21 finished with value: 0.0033049373887479305 and parameters: {'num_layers': 1, 'hidden_size': 72, 'lstm_dropout': 0.27179737950726485, 'dense_dropout': 0.1890859720640752, 'learning_rate': 0.0040468367297673506}. Best is trial 1 with value: 0.002227436867542565.\n",
      "[I 2024-10-29 15:01:12,505] Trial 22 finished with value: 0.0032516190549358726 and parameters: {'num_layers': 1, 'hidden_size': 56, 'lstm_dropout': 0.34617103727032483, 'dense_dropout': 0.1633810647669775, 'learning_rate': 0.022489282514063708}. Best is trial 1 with value: 0.002227436867542565.\n",
      "[I 2024-10-29 15:01:12,593] Trial 23 pruned. \n",
      "[I 2024-10-29 15:01:12,674] Trial 24 pruned. \n",
      "[I 2024-10-29 15:01:47,582] Trial 25 finished with value: 0.00520125066395849 and parameters: {'num_layers': 1, 'hidden_size': 56, 'lstm_dropout': 0.3948450785552476, 'dense_dropout': 0.08535310438237967, 'learning_rate': 0.00167224552727262}. Best is trial 1 with value: 0.002227436867542565.\n",
      "[I 2024-10-29 15:02:21,240] Trial 26 finished with value: 0.004420484765432775 and parameters: {'num_layers': 1, 'hidden_size': 24, 'lstm_dropout': 0.15468368517599101, 'dense_dropout': 0.156875504379748, 'learning_rate': 0.02174173622722819}. Best is trial 1 with value: 0.002227436867542565.\n",
      "[I 2024-10-29 15:02:21,311] Trial 27 pruned. \n",
      "[I 2024-10-29 15:02:21,493] Trial 28 pruned. \n",
      "[I 2024-10-29 15:02:21,573] Trial 29 pruned. \n",
      "[I 2024-10-29 15:02:21,667] Trial 30 pruned. \n",
      "[I 2024-10-29 15:02:56,532] Trial 31 finished with value: 0.002589626470580697 and parameters: {'num_layers': 1, 'hidden_size': 56, 'lstm_dropout': 0.3472882972570664, 'dense_dropout': 0.16096874212991008, 'learning_rate': 0.01748336579686881}. Best is trial 1 with value: 0.002227436867542565.\n",
      "[I 2024-10-29 15:02:56,659] Trial 32 pruned. \n",
      "[I 2024-10-29 15:02:56,708] Trial 33 pruned. \n",
      "[I 2024-10-29 15:02:56,759] Trial 34 pruned. \n",
      "[I 2024-10-29 15:02:57,603] Trial 35 pruned. \n",
      "[I 2024-10-29 15:03:31,610] Trial 36 finished with value: 0.002422396675683558 and parameters: {'num_layers': 1, 'hidden_size': 48, 'lstm_dropout': 0.48934624742272514, 'dense_dropout': 0.09404323417792837, 'learning_rate': 0.01630242749114416}. Best is trial 1 with value: 0.002227436867542565.\n",
      "[I 2024-10-29 15:03:31,690] Trial 37 pruned. \n",
      "[I 2024-10-29 15:04:09,739] Trial 38 finished with value: 0.0032357570016756654 and parameters: {'num_layers': 2, 'hidden_size': 32, 'lstm_dropout': 0.4301956754251223, 'dense_dropout': 0.03451399626802176, 'learning_rate': 0.011846334206657828}. Best is trial 1 with value: 0.002227436867542565.\n",
      "[I 2024-10-29 15:04:09,799] Trial 39 pruned. \n",
      "[I 2024-10-29 15:04:42,969] Trial 40 finished with value: 0.003464723122306168 and parameters: {'num_layers': 1, 'hidden_size': 16, 'lstm_dropout': 0.37438815822607135, 'dense_dropout': 0.07484134123558364, 'learning_rate': 0.04738093781789698}. Best is trial 1 with value: 0.002227436867542565.\n",
      "[I 2024-10-29 15:04:43,135] Trial 41 pruned. \n",
      "[I 2024-10-29 15:04:43,191] Trial 42 pruned. \n",
      "[I 2024-10-29 15:04:43,245] Trial 43 pruned. \n",
      "[I 2024-10-29 15:04:43,297] Trial 44 pruned. \n",
      "[I 2024-10-29 15:04:43,350] Trial 45 pruned. \n",
      "[I 2024-10-29 15:05:21,524] Trial 46 finished with value: 0.004179192124865949 and parameters: {'num_layers': 2, 'hidden_size': 72, 'lstm_dropout': 0.2319044859656269, 'dense_dropout': 0.20068773686804564, 'learning_rate': 0.0077230546689878495}. Best is trial 1 with value: 0.002227436867542565.\n",
      "[I 2024-10-29 15:05:21,574] Trial 47 pruned. \n",
      "[I 2024-10-29 15:05:21,627] Trial 48 pruned. \n",
      "[I 2024-10-29 15:05:21,715] Trial 49 pruned. \n",
      "[I 2024-10-29 15:05:21,828] Trial 50 pruned. \n",
      "[I 2024-10-29 15:05:21,931] Trial 51 pruned. \n",
      "[I 2024-10-29 15:05:22,181] Trial 52 pruned. \n",
      "[I 2024-10-29 15:05:22,265] Trial 53 pruned. \n",
      "[I 2024-10-29 15:05:22,440] Trial 54 pruned. \n",
      "[I 2024-10-29 15:05:22,547] Trial 55 pruned. \n",
      "[I 2024-10-29 15:05:22,722] Trial 56 pruned. \n",
      "[I 2024-10-29 15:05:22,782] Trial 57 pruned. \n",
      "[I 2024-10-29 15:05:22,833] Trial 58 pruned. \n",
      "[I 2024-10-29 15:05:22,897] Trial 59 pruned. \n",
      "[I 2024-10-29 15:05:22,953] Trial 60 pruned. \n",
      "[I 2024-10-29 15:05:23,005] Trial 61 pruned. \n",
      "[I 2024-10-29 15:05:23,072] Trial 62 pruned. \n",
      "[I 2024-10-29 15:05:55,711] Trial 63 finished with value: 0.0024325482663698494 and parameters: {'num_layers': 1, 'hidden_size': 72, 'lstm_dropout': 0.32108646654221296, 'dense_dropout': 0.05590630032933014, 'learning_rate': 0.019010524285129136}. Best is trial 1 with value: 0.002227436867542565.\n",
      "[I 2024-10-29 15:05:55,980] Trial 64 pruned. \n",
      "[I 2024-10-29 15:05:56,070] Trial 65 pruned. \n",
      "[I 2024-10-29 15:05:56,123] Trial 66 pruned. \n",
      "[I 2024-10-29 15:06:29,989] Trial 67 finished with value: 0.0026337687158957124 and parameters: {'num_layers': 1, 'hidden_size': 48, 'lstm_dropout': 0.27127460845132356, 'dense_dropout': 0.10085639458472653, 'learning_rate': 0.01714728009263748}. Best is trial 1 with value: 0.002227436867542565.\n",
      "[I 2024-10-29 15:06:30,042] Trial 68 pruned. \n",
      "[I 2024-10-29 15:06:30,096] Trial 69 pruned. \n",
      "[I 2024-10-29 15:06:30,148] Trial 70 pruned. \n",
      "[I 2024-10-29 15:07:04,458] Trial 71 finished with value: 0.0037944468786008656 and parameters: {'num_layers': 1, 'hidden_size': 48, 'lstm_dropout': 0.3611992993530914, 'dense_dropout': 0.053040968077928005, 'learning_rate': 0.009992471575079015}. Best is trial 1 with value: 0.002227436867542565.\n",
      "[I 2024-10-29 15:07:04,510] Trial 72 pruned. \n",
      "[I 2024-10-29 15:07:04,643] Trial 73 pruned. \n",
      "[I 2024-10-29 15:07:37,049] Trial 74 finished with value: 0.003717820509336889 and parameters: {'num_layers': 1, 'hidden_size': 40, 'lstm_dropout': 0.3356932845677165, 'dense_dropout': 0.07225169243452668, 'learning_rate': 0.018391376513520064}. Best is trial 1 with value: 0.002227436867542565.\n",
      "[I 2024-10-29 15:08:11,091] Trial 75 finished with value: 0.0029490914312191308 and parameters: {'num_layers': 1, 'hidden_size': 80, 'lstm_dropout': 0.013629493515521007, 'dense_dropout': 0.0989576997435593, 'learning_rate': 0.006904026594107094}. Best is trial 1 with value: 0.002227436867542565.\n",
      "[I 2024-10-29 15:08:45,228] Trial 76 finished with value: 0.0027649716357700527 and parameters: {'num_layers': 1, 'hidden_size': 80, 'lstm_dropout': 0.017646724532981054, 'dense_dropout': 0.1491808237081713, 'learning_rate': 0.007601188408378922}. Best is trial 1 with value: 0.002227436867542565.\n",
      "[I 2024-10-29 15:08:45,280] Trial 77 pruned. \n",
      "[I 2024-10-29 15:08:45,331] Trial 78 pruned. \n",
      "[I 2024-10-29 15:08:45,383] Trial 79 pruned. \n",
      "[I 2024-10-29 15:08:45,432] Trial 80 pruned. \n",
      "[I 2024-10-29 15:08:46,539] Trial 81 pruned. \n",
      "[I 2024-10-29 15:08:46,625] Trial 82 pruned. \n",
      "[I 2024-10-29 15:08:46,680] Trial 83 pruned. \n",
      "[I 2024-10-29 15:08:46,735] Trial 84 pruned. \n",
      "[I 2024-10-29 15:08:46,786] Trial 85 pruned. \n",
      "[I 2024-10-29 15:08:46,905] Trial 86 pruned. \n",
      "[I 2024-10-29 15:08:47,132] Trial 87 pruned. \n",
      "[I 2024-10-29 15:08:47,993] Trial 88 pruned. \n",
      "[I 2024-10-29 15:08:48,865] Trial 89 pruned. \n",
      "[I 2024-10-29 15:08:49,040] Trial 90 pruned. \n",
      "[I 2024-10-29 15:08:49,106] Trial 91 pruned. \n",
      "[I 2024-10-29 15:09:23,848] Trial 92 finished with value: 0.0025947295362129807 and parameters: {'num_layers': 1, 'hidden_size': 24, 'lstm_dropout': 0.4598665756068336, 'dense_dropout': 0.09026633538184316, 'learning_rate': 0.027348519501456215}. Best is trial 1 with value: 0.002227436867542565.\n",
      "[I 2024-10-29 15:09:23,899] Trial 93 pruned. \n",
      "[I 2024-10-29 15:09:57,797] Trial 94 finished with value: 0.0021268746349960566 and parameters: {'num_layers': 1, 'hidden_size': 24, 'lstm_dropout': 0.4760293081426447, 'dense_dropout': 0.11797202892673563, 'learning_rate': 0.027769498326339334}. Best is trial 94 with value: 0.0021268746349960566.\n",
      "[I 2024-10-29 15:09:57,851] Trial 95 pruned. \n",
      "[I 2024-10-29 15:09:57,957] Trial 96 pruned. \n",
      "[I 2024-10-29 15:09:58,084] Trial 97 pruned. \n",
      "[I 2024-10-29 15:09:58,138] Trial 98 pruned. \n",
      "[I 2024-10-29 15:09:58,272] Trial 99 pruned. \n",
      "[I 2024-10-29 15:09:58,371] A new study created in memory with name: example-study\n"
     ]
    },
    {
     "name": "stdout",
     "output_type": "stream",
     "text": [
      "Study statistics: \n",
      "  Number of finished trials:  100\n",
      "  Number of pruned trials:  73\n",
      "  Number of complete trials:  27\n",
      "Best trial:\n",
      "  Value:  0.0021268746349960566\n",
      "  Params: \n",
      "    num_layers: 1\n",
      "    hidden_size: 24\n",
      "    lstm_dropout: 0.4760293081426447\n",
      "    dense_dropout: 0.11797202892673563\n",
      "    learning_rate: 0.027769498326339334\n",
      "R2 for sim at Guide(1972-2016) 0.9469694181946073\n",
      "Warning: ARIMASimFlow column not found in data for Guide station, year 2018\n"
     ]
    },
    {
     "name": "stderr",
     "output_type": "stream",
     "text": [
      "[I 2024-10-29 15:10:31,041] Trial 0 finished with value: 0.002843742026016116 and parameters: {'num_layers': 1, 'hidden_size': 96, 'lstm_dropout': 0.4172727452251453, 'dense_dropout': 0.08171934771287515, 'learning_rate': 8.63495335301633e-05}. Best is trial 0 with value: 0.002843742026016116.\n",
      "[I 2024-10-29 15:11:04,366] Trial 1 finished with value: 0.003792222240008414 and parameters: {'num_layers': 1, 'hidden_size': 56, 'lstm_dropout': 0.3535677668222893, 'dense_dropout': 0.15971343909701174, 'learning_rate': 1.5441014424967348e-05}. Best is trial 0 with value: 0.002843742026016116.\n",
      "[I 2024-10-29 15:11:45,979] Trial 2 finished with value: 0.002987931133247912 and parameters: {'num_layers': 3, 'hidden_size': 72, 'lstm_dropout': 0.4462024288622968, 'dense_dropout': 0.2852332555500555, 'learning_rate': 0.0019052828722774368}. Best is trial 0 with value: 0.002843742026016116.\n",
      "[I 2024-10-29 15:12:19,667] Trial 3 finished with value: 0.003586297738365829 and parameters: {'num_layers': 1, 'hidden_size': 104, 'lstm_dropout': 0.4581592649393936, 'dense_dropout': 0.10117502967748754, 'learning_rate': 1.8402464224002115e-05}. Best is trial 0 with value: 0.002843742026016116.\n",
      "[I 2024-10-29 15:13:00,434] Trial 4 finished with value: 0.004973842296749353 and parameters: {'num_layers': 3, 'hidden_size': 104, 'lstm_dropout': 0.3949010392393681, 'dense_dropout': 0.0080778229782687, 'learning_rate': 0.0016248319670872642}. Best is trial 0 with value: 0.002843742026016116.\n",
      "[I 2024-10-29 15:13:23,406] Trial 5 pruned. \n",
      "[I 2024-10-29 15:13:23,457] Trial 6 pruned. \n",
      "[I 2024-10-29 15:13:57,728] Trial 7 finished with value: 0.0034162166994065046 and parameters: {'num_layers': 1, 'hidden_size': 128, 'lstm_dropout': 0.4057489062076479, 'dense_dropout': 0.31334131419536465, 'learning_rate': 0.000418067777930004}. Best is trial 0 with value: 0.002843742026016116.\n",
      "[I 2024-10-29 15:13:57,764] Trial 8 pruned. \n",
      "[I 2024-10-29 15:13:57,810] Trial 9 pruned. \n",
      "[I 2024-10-29 15:14:35,635] Trial 10 finished with value: 0.003608022932894528 and parameters: {'num_layers': 2, 'hidden_size': 16, 'lstm_dropout': 0.299585856011572, 'dense_dropout': 0.021615259446418678, 'learning_rate': 0.0814361781452082}. Best is trial 0 with value: 0.002843742026016116.\n",
      "[I 2024-10-29 15:15:17,632] Trial 11 finished with value: 0.002463788026943803 and parameters: {'num_layers': 3, 'hidden_size': 80, 'lstm_dropout': 0.30329454088507257, 'dense_dropout': 0.2399671922333914, 'learning_rate': 0.002755106032705988}. Best is trial 11 with value: 0.002463788026943803.\n",
      "[I 2024-10-29 15:15:59,265] Trial 12 finished with value: 0.00273433281108737 and parameters: {'num_layers': 3, 'hidden_size': 88, 'lstm_dropout': 0.29480342624595934, 'dense_dropout': 0.20400581929007783, 'learning_rate': 0.010216307185868793}. Best is trial 11 with value: 0.002463788026943803.\n",
      "[I 2024-10-29 15:15:59,326] Trial 13 pruned. \n",
      "[I 2024-10-29 15:16:39,708] Trial 14 finished with value: 0.0029369817348197103 and parameters: {'num_layers': 3, 'hidden_size': 80, 'lstm_dropout': 0.1957728213335966, 'dense_dropout': 0.2207241033322747, 'learning_rate': 0.007833154519032203}. Best is trial 11 with value: 0.002463788026943803.\n",
      "[I 2024-10-29 15:16:39,766] Trial 15 pruned. \n",
      "[I 2024-10-29 15:17:18,017] Trial 16 finished with value: 0.0016619014786556363 and parameters: {'num_layers': 2, 'hidden_size': 64, 'lstm_dropout': 0.11934234391270859, 'dense_dropout': 0.24441551487526225, 'learning_rate': 0.003677887040095748}. Best is trial 16 with value: 0.0016619014786556363.\n",
      "[I 2024-10-29 15:17:21,196] Trial 17 pruned. \n",
      "[I 2024-10-29 15:17:21,249] Trial 18 pruned. \n",
      "[I 2024-10-29 15:17:22,482] Trial 19 pruned. \n",
      "[I 2024-10-29 15:17:22,537] Trial 20 pruned. \n",
      "[I 2024-10-29 15:17:22,594] Trial 21 pruned. \n",
      "[I 2024-10-29 15:18:02,930] Trial 22 finished with value: 0.0023854649625718594 and parameters: {'num_layers': 3, 'hidden_size': 80, 'lstm_dropout': 0.2625722353977888, 'dense_dropout': 0.24143290206311124, 'learning_rate': 0.008547127736049995}. Best is trial 16 with value: 0.0016619014786556363.\n",
      "[I 2024-10-29 15:18:02,990] Trial 23 pruned. \n",
      "[I 2024-10-29 15:18:41,315] Trial 24 finished with value: 0.0026719915913417935 and parameters: {'num_layers': 2, 'hidden_size': 72, 'lstm_dropout': 0.24663646894831048, 'dense_dropout': 0.16224852486255859, 'learning_rate': 0.004153018529912175}. Best is trial 16 with value: 0.0016619014786556363.\n",
      "[I 2024-10-29 15:18:41,369] Trial 25 pruned. \n",
      "[I 2024-10-29 15:18:41,427] Trial 26 pruned. \n",
      "[I 2024-10-29 15:18:41,490] Trial 27 pruned. \n",
      "[I 2024-10-29 15:19:20,871] Trial 28 finished with value: 0.0015878991689532995 and parameters: {'num_layers': 2, 'hidden_size': 56, 'lstm_dropout': 0.10450057700716445, 'dense_dropout': 0.1805796582964022, 'learning_rate': 0.009886691057741377}. Best is trial 28 with value: 0.0015878991689532995.\n",
      "[I 2024-10-29 15:19:58,422] Trial 29 finished with value: 0.00247229915112257 and parameters: {'num_layers': 2, 'hidden_size': 40, 'lstm_dropout': 0.07830535542916517, 'dense_dropout': 0.13143055806239992, 'learning_rate': 0.01478698475558833}. Best is trial 28 with value: 0.0015878991689532995.\n",
      "[I 2024-10-29 15:19:58,513] Trial 30 pruned. \n",
      "[I 2024-10-29 15:20:37,275] Trial 31 finished with value: 0.003518079873174429 and parameters: {'num_layers': 2, 'hidden_size': 72, 'lstm_dropout': 0.031182132175064492, 'dense_dropout': 0.24590267469577412, 'learning_rate': 0.01235716689584331}. Best is trial 28 with value: 0.0015878991689532995.\n",
      "[I 2024-10-29 15:20:38,750] Trial 32 pruned. \n",
      "[I 2024-10-29 15:20:38,961] Trial 33 pruned. \n",
      "[I 2024-10-29 15:20:39,019] Trial 34 pruned. \n",
      "[I 2024-10-29 15:20:39,074] Trial 35 pruned. \n",
      "[I 2024-10-29 15:21:16,030] Trial 36 finished with value: 0.0019775229156948626 and parameters: {'num_layers': 2, 'hidden_size': 96, 'lstm_dropout': 0.3176343523235561, 'dense_dropout': 0.1221675757501427, 'learning_rate': 0.006736283263900311}. Best is trial 28 with value: 0.0015878991689532995.\n",
      "[I 2024-10-29 15:21:53,626] Trial 37 finished with value: 0.0022497362224385142 and parameters: {'num_layers': 2, 'hidden_size': 112, 'lstm_dropout': 0.3910231398290638, 'dense_dropout': 0.12976235862764257, 'learning_rate': 0.00780706597961735}. Best is trial 28 with value: 0.0015878991689532995.\n",
      "[I 2024-10-29 15:21:53,685] Trial 38 pruned. \n",
      "[I 2024-10-29 15:21:53,738] Trial 39 pruned. \n",
      "[I 2024-10-29 15:21:53,791] Trial 40 pruned. \n",
      "[I 2024-10-29 15:21:53,847] Trial 41 pruned. \n",
      "[I 2024-10-29 15:21:53,899] Trial 42 pruned. \n",
      "[I 2024-10-29 15:22:29,511] Trial 43 finished with value: 0.0022953550796955824 and parameters: {'num_layers': 2, 'hidden_size': 96, 'lstm_dropout': 0.4862579778408702, 'dense_dropout': 0.15407486682375698, 'learning_rate': 0.006635381552615029}. Best is trial 28 with value: 0.0015878991689532995.\n",
      "[I 2024-10-29 15:22:29,579] Trial 44 pruned. \n",
      "[I 2024-10-29 15:22:29,643] Trial 45 pruned. \n",
      "[I 2024-10-29 15:22:29,787] Trial 46 pruned. \n",
      "[I 2024-10-29 15:22:29,876] Trial 47 pruned. \n",
      "[I 2024-10-29 15:22:30,008] Trial 48 pruned. \n",
      "[I 2024-10-29 15:22:30,162] Trial 49 pruned. \n",
      "[I 2024-10-29 15:22:30,274] Trial 50 pruned. \n",
      "[I 2024-10-29 15:23:07,899] Trial 51 finished with value: 0.0026218792190775275 and parameters: {'num_layers': 2, 'hidden_size': 88, 'lstm_dropout': 0.2714907632610405, 'dense_dropout': 0.1965663381915287, 'learning_rate': 0.008018884754913608}. Best is trial 28 with value: 0.0015878991689532995.\n",
      "[I 2024-10-29 15:23:07,956] Trial 52 pruned. \n",
      "[I 2024-10-29 15:23:08,012] Trial 53 pruned. \n",
      "[I 2024-10-29 15:23:08,103] Trial 54 pruned. \n",
      "[I 2024-10-29 15:23:08,160] Trial 55 pruned. \n",
      "[I 2024-10-29 15:23:09,061] Trial 56 pruned. \n",
      "[I 2024-10-29 15:23:09,361] Trial 57 pruned. \n",
      "[I 2024-10-29 15:23:09,415] Trial 58 pruned. \n",
      "[I 2024-10-29 15:23:09,469] Trial 59 pruned. \n",
      "[I 2024-10-29 15:23:09,519] Trial 60 pruned. \n",
      "[I 2024-10-29 15:23:09,583] Trial 61 pruned. \n",
      "[I 2024-10-29 15:23:09,647] Trial 62 pruned. \n",
      "[I 2024-10-29 15:23:09,705] Trial 63 pruned. \n",
      "[I 2024-10-29 15:23:09,761] Trial 64 pruned. \n",
      "[I 2024-10-29 15:23:09,825] Trial 65 pruned. \n",
      "[I 2024-10-29 15:23:09,887] Trial 66 pruned. \n",
      "[I 2024-10-29 15:23:09,941] Trial 67 pruned. \n",
      "[I 2024-10-29 15:23:09,998] Trial 68 pruned. \n",
      "[I 2024-10-29 15:23:10,055] Trial 69 pruned. \n",
      "[I 2024-10-29 15:23:10,118] Trial 70 pruned. \n",
      "[I 2024-10-29 15:23:10,172] Trial 71 pruned. \n",
      "[I 2024-10-29 15:23:10,223] Trial 72 pruned. \n",
      "[I 2024-10-29 15:23:10,303] Trial 73 pruned. \n",
      "[I 2024-10-29 15:23:10,387] Trial 74 pruned. \n",
      "[I 2024-10-29 15:23:10,474] Trial 75 pruned. \n",
      "[I 2024-10-29 15:23:10,577] Trial 76 pruned. \n",
      "[I 2024-10-29 15:23:10,663] Trial 77 pruned. \n",
      "[I 2024-10-29 15:23:10,758] Trial 78 pruned. \n",
      "[I 2024-10-29 15:23:13,073] Trial 79 pruned. \n",
      "[I 2024-10-29 15:23:13,134] Trial 80 pruned. \n",
      "[I 2024-10-29 15:23:13,222] Trial 81 pruned. \n",
      "[I 2024-10-29 15:23:50,357] Trial 82 finished with value: 0.0024543306790292263 and parameters: {'num_layers': 2, 'hidden_size': 104, 'lstm_dropout': 0.2672668345355418, 'dense_dropout': 0.20095507025287962, 'learning_rate': 0.0063303948140527875}. Best is trial 28 with value: 0.0015878991689532995.\n",
      "[I 2024-10-29 15:23:50,412] Trial 83 pruned. \n",
      "[I 2024-10-29 15:23:50,469] Trial 84 pruned. \n",
      "[I 2024-10-29 15:23:50,526] Trial 85 pruned. \n",
      "[I 2024-10-29 15:23:50,621] Trial 86 pruned. \n",
      "[I 2024-10-29 15:24:26,737] Trial 87 finished with value: 0.0030869620386511087 and parameters: {'num_layers': 2, 'hidden_size': 104, 'lstm_dropout': 0.21674670917633104, 'dense_dropout': 0.2062819896337264, 'learning_rate': 0.007483817830428728}. Best is trial 28 with value: 0.0015878991689532995.\n",
      "[I 2024-10-29 15:24:26,802] Trial 88 pruned. \n",
      "[I 2024-10-29 15:24:26,861] Trial 89 pruned. \n",
      "[I 2024-10-29 15:24:26,911] Trial 90 pruned. \n",
      "[I 2024-10-29 15:25:05,267] Trial 91 finished with value: 0.0029445652617141604 and parameters: {'num_layers': 2, 'hidden_size': 88, 'lstm_dropout': 0.2689725578529984, 'dense_dropout': 0.19883340643193617, 'learning_rate': 0.00724224282844765}. Best is trial 28 with value: 0.0015878991689532995.\n",
      "[I 2024-10-29 15:25:05,328] Trial 92 pruned. \n",
      "[I 2024-10-29 15:25:05,385] Trial 93 pruned. \n",
      "[I 2024-10-29 15:25:05,442] Trial 94 pruned. \n",
      "[I 2024-10-29 15:25:05,500] Trial 95 pruned. \n",
      "[I 2024-10-29 15:25:42,127] Trial 96 finished with value: 0.0026262826286256313 and parameters: {'num_layers': 2, 'hidden_size': 96, 'lstm_dropout': 0.251042715462002, 'dense_dropout': 0.12123881652045548, 'learning_rate': 0.005691088371233293}. Best is trial 28 with value: 0.0015878991689532995.\n",
      "[I 2024-10-29 15:25:42,222] Trial 97 pruned. \n",
      "[I 2024-10-29 15:25:42,317] Trial 98 pruned. \n",
      "[I 2024-10-29 15:25:42,479] Trial 99 pruned. \n",
      "[I 2024-10-29 15:25:42,673] A new study created in memory with name: example-study\n"
     ]
    },
    {
     "name": "stdout",
     "output_type": "stream",
     "text": [
      "Study statistics: \n",
      "  Number of finished trials:  100\n",
      "  Number of pruned trials:  76\n",
      "  Number of complete trials:  24\n",
      "Best trial:\n",
      "  Value:  0.0015878991689532995\n",
      "  Params: \n",
      "    num_layers: 2\n",
      "    hidden_size: 56\n",
      "    lstm_dropout: 0.10450057700716445\n",
      "    dense_dropout: 0.1805796582964022\n",
      "    learning_rate: 0.009886691057741377\n",
      "R2 for sim at Guide(1972-2017) 0.9233731559823551\n",
      "Warning: ARIMASimFlow column not found in data for Guide station, year 2019\n"
     ]
    },
    {
     "name": "stderr",
     "output_type": "stream",
     "text": [
      "[I 2024-10-29 15:26:28,090] Trial 0 finished with value: 0.00332701881416142 and parameters: {'num_layers': 3, 'hidden_size': 32, 'lstm_dropout': 0.4632437145624613, 'dense_dropout': 0.09018751601665853, 'learning_rate': 0.0021483219742416382}. Best is trial 0 with value: 0.00332701881416142.\n",
      "[I 2024-10-29 15:27:04,199] Trial 1 finished with value: 0.0018656241591088474 and parameters: {'num_layers': 1, 'hidden_size': 24, 'lstm_dropout': 0.18050866396023368, 'dense_dropout': 0.13792180275926863, 'learning_rate': 0.04424705751289487}. Best is trial 1 with value: 0.0018656241591088474.\n",
      "[I 2024-10-29 15:27:43,142] Trial 2 finished with value: 0.0026142276474274695 and parameters: {'num_layers': 2, 'hidden_size': 72, 'lstm_dropout': 0.4198230848875198, 'dense_dropout': 0.22844115660027525, 'learning_rate': 0.0002853513091048859}. Best is trial 1 with value: 0.0018656241591088474.\n",
      "[I 2024-10-29 15:28:27,459] Trial 3 finished with value: 0.004605644615367055 and parameters: {'num_layers': 3, 'hidden_size': 8, 'lstm_dropout': 0.012787081681547074, 'dense_dropout': 0.05893338092274936, 'learning_rate': 0.0004120404133086434}. Best is trial 1 with value: 0.0018656241591088474.\n",
      "[I 2024-10-29 15:29:08,314] Trial 4 finished with value: 0.005086859920993447 and parameters: {'num_layers': 3, 'hidden_size': 112, 'lstm_dropout': 0.26044904777153305, 'dense_dropout': 0.37231988025885604, 'learning_rate': 0.00024410834754189678}. Best is trial 1 with value: 0.0018656241591088474.\n",
      "[I 2024-10-29 15:29:08,967] Trial 5 pruned. \n",
      "[I 2024-10-29 15:29:44,097] Trial 6 finished with value: 0.0029773267451673746 and parameters: {'num_layers': 1, 'hidden_size': 88, 'lstm_dropout': 0.07937782318177133, 'dense_dropout': 0.23872859934588436, 'learning_rate': 0.01076780447024529}. Best is trial 1 with value: 0.0018656241591088474.\n",
      "[I 2024-10-29 15:29:44,150] Trial 7 pruned. \n",
      "[I 2024-10-29 15:29:44,252] Trial 8 pruned. \n",
      "[I 2024-10-29 15:29:44,295] Trial 9 pruned. \n",
      "[I 2024-10-29 15:30:18,572] Trial 10 finished with value: 0.006063943030312657 and parameters: {'num_layers': 1, 'hidden_size': 56, 'lstm_dropout': 0.17255772052206556, 'dense_dropout': 0.019631532529300555, 'learning_rate': 0.07693789843229623}. Best is trial 1 with value: 0.0018656241591088474.\n",
      "[I 2024-10-29 15:30:18,682] Trial 11 pruned. \n",
      "[I 2024-10-29 15:30:18,778] Trial 12 pruned. \n",
      "[I 2024-10-29 15:30:25,534] Trial 13 pruned. \n",
      "[I 2024-10-29 15:30:25,583] Trial 14 pruned. \n",
      "[I 2024-10-29 15:30:25,722] Trial 15 pruned. \n",
      "[I 2024-10-29 15:30:25,773] Trial 16 pruned. \n",
      "[I 2024-10-29 15:30:26,011] Trial 17 pruned. \n",
      "[I 2024-10-29 15:30:26,111] Trial 18 pruned. \n",
      "[I 2024-10-29 15:31:01,452] Trial 19 finished with value: 0.0031785148894414306 and parameters: {'num_layers': 1, 'hidden_size': 48, 'lstm_dropout': 0.3068416463053429, 'dense_dropout': 0.2412509101594743, 'learning_rate': 0.004213884061387486}. Best is trial 1 with value: 0.0018656241591088474.\n",
      "[I 2024-10-29 15:31:01,518] Trial 20 pruned. \n",
      "[I 2024-10-29 15:31:01,613] Trial 21 pruned. \n",
      "[I 2024-10-29 15:31:07,977] Trial 22 pruned. \n",
      "[I 2024-10-29 15:31:08,025] Trial 23 pruned. \n",
      "[I 2024-10-29 15:31:44,391] Trial 24 finished with value: 0.006334312725812197 and parameters: {'num_layers': 1, 'hidden_size': 72, 'lstm_dropout': 0.06674936931975473, 'dense_dropout': 0.34004664496169934, 'learning_rate': 0.021852788602114172}. Best is trial 1 with value: 0.0018656241591088474.\n",
      "[I 2024-10-29 15:31:44,448] Trial 25 pruned. \n",
      "[I 2024-10-29 15:31:44,515] Trial 26 pruned. \n",
      "[I 2024-10-29 15:31:44,568] Trial 27 pruned. \n",
      "[I 2024-10-29 15:31:44,624] Trial 28 pruned. \n",
      "[I 2024-10-29 15:31:44,686] Trial 29 pruned. \n",
      "[I 2024-10-29 15:32:29,414] Trial 30 finished with value: 0.004363554995507002 and parameters: {'num_layers': 3, 'hidden_size': 16, 'lstm_dropout': 0.47008107237313673, 'dense_dropout': 0.09993685286845327, 'learning_rate': 0.04648427249635531}. Best is trial 1 with value: 0.0018656241591088474.\n",
      "[I 2024-10-29 15:33:05,588] Trial 31 finished with value: 0.003912643413059413 and parameters: {'num_layers': 1, 'hidden_size': 40, 'lstm_dropout': 0.3124850651723761, 'dense_dropout': 0.24880544739848942, 'learning_rate': 0.0030970142776991292}. Best is trial 1 with value: 0.0018656241591088474.\n",
      "[I 2024-10-29 15:33:05,645] Trial 32 pruned. \n",
      "[I 2024-10-29 15:33:06,222] Trial 33 pruned. \n",
      "[I 2024-10-29 15:33:06,274] Trial 34 pruned. \n",
      "[I 2024-10-29 15:33:06,323] Trial 35 pruned. \n",
      "[I 2024-10-29 15:33:06,389] Trial 36 pruned. \n",
      "[I 2024-10-29 15:33:12,290] Trial 37 pruned. \n",
      "[I 2024-10-29 15:33:12,344] Trial 38 pruned. \n",
      "[I 2024-10-29 15:33:12,419] Trial 39 pruned. \n",
      "[I 2024-10-29 15:33:12,510] Trial 40 pruned. \n",
      "[I 2024-10-29 15:33:12,609] Trial 41 pruned. \n",
      "[I 2024-10-29 15:33:12,722] Trial 42 pruned. \n",
      "[I 2024-10-29 15:33:12,827] Trial 43 pruned. \n",
      "[I 2024-10-29 15:33:12,916] Trial 44 pruned. \n",
      "[I 2024-10-29 15:33:13,020] Trial 45 pruned. \n",
      "[I 2024-10-29 15:33:13,130] Trial 46 pruned. \n",
      "[I 2024-10-29 15:33:13,740] Trial 47 pruned. \n",
      "[I 2024-10-29 15:33:13,804] Trial 48 pruned. \n",
      "[I 2024-10-29 15:33:13,864] Trial 49 pruned. \n",
      "[I 2024-10-29 15:33:13,964] Trial 50 pruned. \n",
      "[I 2024-10-29 15:33:14,015] Trial 51 pruned. \n",
      "[I 2024-10-29 15:33:14,071] Trial 52 pruned. \n",
      "[I 2024-10-29 15:33:14,126] Trial 53 pruned. \n",
      "[I 2024-10-29 15:33:14,177] Trial 54 pruned. \n",
      "[I 2024-10-29 15:33:50,421] Trial 55 finished with value: 0.005007058614864945 and parameters: {'num_layers': 1, 'hidden_size': 64, 'lstm_dropout': 0.19011000629197508, 'dense_dropout': 0.17182665971004252, 'learning_rate': 0.002700674339195047}. Best is trial 1 with value: 0.0018656241591088474.\n",
      "[I 2024-10-29 15:33:50,476] Trial 56 pruned. \n",
      "[I 2024-10-29 15:33:50,533] Trial 57 pruned. \n",
      "[I 2024-10-29 15:34:28,954] Trial 58 finished with value: 0.0032994727371260524 and parameters: {'num_layers': 2, 'hidden_size': 56, 'lstm_dropout': 0.3926906835026694, 'dense_dropout': 0.08491588385213791, 'learning_rate': 0.008970495970102157}. Best is trial 1 with value: 0.0018656241591088474.\n",
      "[I 2024-10-29 15:34:29,011] Trial 59 pruned. \n",
      "[I 2024-10-29 15:34:29,108] Trial 60 pruned. \n",
      "[I 2024-10-29 15:34:29,167] Trial 61 pruned. \n",
      "[I 2024-10-29 15:34:29,224] Trial 62 pruned. \n",
      "[I 2024-10-29 15:34:29,284] Trial 63 pruned. \n",
      "[I 2024-10-29 15:34:29,335] Trial 64 pruned. \n",
      "[I 2024-10-29 15:34:29,387] Trial 65 pruned. \n",
      "[I 2024-10-29 15:34:29,447] Trial 66 pruned. \n",
      "[I 2024-10-29 15:34:29,533] Trial 67 pruned. \n",
      "[I 2024-10-29 15:34:29,621] Trial 68 pruned. \n",
      "[I 2024-10-29 15:34:29,725] Trial 69 pruned. \n",
      "[I 2024-10-29 15:34:29,859] Trial 70 pruned. \n",
      "[I 2024-10-29 15:34:29,973] Trial 71 pruned. \n",
      "[I 2024-10-29 15:34:30,060] Trial 72 pruned. \n",
      "[I 2024-10-29 15:34:30,179] Trial 73 pruned. \n",
      "[I 2024-10-29 15:34:30,276] Trial 74 pruned. \n",
      "[I 2024-10-29 15:34:30,353] Trial 75 pruned. \n",
      "[I 2024-10-29 15:34:30,423] Trial 76 pruned. \n",
      "[I 2024-10-29 15:34:30,475] Trial 77 pruned. \n",
      "[I 2024-10-29 15:34:30,539] Trial 78 pruned. \n",
      "[I 2024-10-29 15:34:30,593] Trial 79 pruned. \n",
      "[I 2024-10-29 15:34:30,658] Trial 80 pruned. \n",
      "[I 2024-10-29 15:34:30,742] Trial 81 pruned. \n",
      "[I 2024-10-29 15:34:30,822] Trial 82 pruned. \n",
      "[I 2024-10-29 15:34:30,895] Trial 83 pruned. \n",
      "[I 2024-10-29 15:34:30,981] Trial 84 pruned. \n",
      "[I 2024-10-29 15:34:31,044] Trial 85 pruned. \n",
      "[I 2024-10-29 15:34:31,120] Trial 86 pruned. \n",
      "[I 2024-10-29 15:34:31,176] Trial 87 pruned. \n",
      "[I 2024-10-29 15:34:31,252] Trial 88 pruned. \n",
      "[I 2024-10-29 15:34:31,321] Trial 89 pruned. \n",
      "[I 2024-10-29 15:35:06,285] Trial 90 finished with value: 0.0030263476073741913 and parameters: {'num_layers': 1, 'hidden_size': 40, 'lstm_dropout': 0.03601109219227812, 'dense_dropout': 0.14400050973753267, 'learning_rate': 0.03348341345148071}. Best is trial 1 with value: 0.0018656241591088474.\n",
      "[I 2024-10-29 15:35:06,337] Trial 91 pruned. \n",
      "[I 2024-10-29 15:35:06,385] Trial 92 pruned. \n",
      "[I 2024-10-29 15:35:06,468] Trial 93 pruned. \n",
      "[I 2024-10-29 15:35:06,557] Trial 94 pruned. \n",
      "[I 2024-10-29 15:35:06,643] Trial 95 pruned. \n",
      "[I 2024-10-29 15:35:06,737] Trial 96 pruned. \n",
      "[I 2024-10-29 15:35:06,837] Trial 97 pruned. \n",
      "[I 2024-10-29 15:35:06,935] Trial 98 pruned. \n",
      "[I 2024-10-29 15:35:07,029] Trial 99 pruned. \n"
     ]
    },
    {
     "name": "stdout",
     "output_type": "stream",
     "text": [
      "Study statistics: \n",
      "  Number of finished trials:  100\n",
      "  Number of pruned trials:  86\n",
      "  Number of complete trials:  14\n",
      "Best trial:\n",
      "  Value:  0.0018656241591088474\n",
      "  Params: \n",
      "    num_layers: 1\n",
      "    hidden_size: 24\n",
      "    lstm_dropout: 0.18050866396023368\n",
      "    dense_dropout: 0.13792180275926863\n",
      "    learning_rate: 0.04424705751289487\n",
      "R2 for sim at Guide(1972-2018) 0.949414335154362\n",
      "R2 for pred at Guide(2015-2019) 0.15173738162611217\n"
     ]
    },
    {
     "data": {
      "application/vnd.plotly.v1+json": {
       "config": {
        "plotlyServerURL": "https://plot.ly"
       },
       "data": [
        {
         "mode": "lines",
         "name": "obs",
         "type": "scatter",
         "x": [
          "2015-01-01T00:00:00",
          "2015-02-01T00:00:00",
          "2015-03-01T00:00:00",
          "2015-04-01T00:00:00",
          "2015-05-01T00:00:00",
          "2015-06-01T00:00:00",
          "2015-07-01T00:00:00",
          "2015-08-01T00:00:00",
          "2015-09-01T00:00:00",
          "2015-10-01T00:00:00",
          "2015-11-01T00:00:00",
          "2015-12-01T00:00:00",
          "2016-01-01T00:00:00",
          "2016-02-01T00:00:00",
          "2016-03-01T00:00:00",
          "2016-04-01T00:00:00",
          "2016-05-01T00:00:00",
          "2016-06-01T00:00:00",
          "2016-07-01T00:00:00",
          "2016-08-01T00:00:00",
          "2016-09-01T00:00:00",
          "2016-10-01T00:00:00",
          "2016-11-01T00:00:00",
          "2016-12-01T00:00:00",
          "2017-01-01T00:00:00",
          "2017-02-01T00:00:00",
          "2017-03-01T00:00:00",
          "2017-04-01T00:00:00",
          "2017-05-01T00:00:00",
          "2017-06-01T00:00:00",
          "2017-07-01T00:00:00",
          "2017-08-01T00:00:00",
          "2017-09-01T00:00:00",
          "2017-10-01T00:00:00",
          "2017-11-01T00:00:00",
          "2017-12-01T00:00:00",
          "2018-01-01T00:00:00",
          "2018-02-01T00:00:00",
          "2018-03-01T00:00:00",
          "2018-04-01T00:00:00",
          "2018-05-01T00:00:00",
          "2018-06-01T00:00:00",
          "2018-07-01T00:00:00",
          "2018-08-01T00:00:00",
          "2018-09-01T00:00:00",
          "2018-10-01T00:00:00",
          "2018-11-01T00:00:00",
          "2018-12-01T00:00:00",
          "2019-01-01T00:00:00",
          "2019-02-01T00:00:00",
          "2019-03-01T00:00:00",
          "2019-04-01T00:00:00",
          "2019-05-01T00:00:00",
          "2019-06-01T00:00:00",
          "2019-07-01T00:00:00",
          "2019-08-01T00:00:00",
          "2019-09-01T00:00:00",
          "2019-10-01T00:00:00",
          "2019-11-01T00:00:00",
          "2019-12-01T00:00:00"
         ],
         "y": [
          243.48309326171872,
          232.82295227050773,
          273.6432189941405,
          301.36611938476557,
          360.4305419921872,
          777.5018920898436,
          1303.968017578125,
          535.898498535156,
          662.4635009765623,
          756.5108642578122,
          391.32369995117165,
          220.48034667968741,
          159.47569274902332,
          162.2063446044919,
          214.3218841552731,
          326.17202758789034,
          479.6283264160156,
          647.2022705078125,
          739.5563354492188,
          577.678039550781,
          614.5225830078125,
          808.2318115234373,
          483.1481933593746,
          244.7296905517576,
          180.5069885253905,
          192.54066467285153,
          238.6091156005858,
          325.05047607421847,
          413.6062927246092,
          938.3693237304683,
          642.8070678710935,
          556.596923828125,
          1208.25830078125,
          1619.1264648437498,
          778.8029174804685,
          336.6287536621092,
          215.38494873046847,
          205.1662902832031,
          251.9255218505857,
          425.4500427246093,
          829.5314331054686,
          1075.711669921875,
          2208.386962890625,
          1333.7509765625,
          2024.4403076171875,
          1466.2239990234375,
          735.5309448242186,
          386.19433593749983,
          284.8704223632811,
          287.86560058593744,
          313.66641235351557,
          541.2837524414062,
          805.4638671874999,
          1636.3900146484373,
          2112.18505859375,
          1504.3486328125,
          1711.178466796875,
          1408.97802734375,
          751.5130004882812,
          357.55200195312483
         ]
        },
        {
         "mode": "lines",
         "name": "pred",
         "type": "scatter",
         "x": [
          "2015-01-01T00:00:00",
          "2015-02-01T00:00:00",
          "2015-03-01T00:00:00",
          "2015-04-01T00:00:00",
          "2015-05-01T00:00:00",
          "2015-06-01T00:00:00",
          "2015-07-01T00:00:00",
          "2015-08-01T00:00:00",
          "2015-09-01T00:00:00",
          "2015-10-01T00:00:00",
          "2015-11-01T00:00:00",
          "2015-12-01T00:00:00",
          "2016-01-01T00:00:00",
          "2016-02-01T00:00:00",
          "2016-03-01T00:00:00",
          "2016-04-01T00:00:00",
          "2016-05-01T00:00:00",
          "2016-06-01T00:00:00",
          "2016-07-01T00:00:00",
          "2016-08-01T00:00:00",
          "2016-09-01T00:00:00",
          "2016-10-01T00:00:00",
          "2016-11-01T00:00:00",
          "2016-12-01T00:00:00",
          "2017-01-01T00:00:00",
          "2017-02-01T00:00:00",
          "2017-03-01T00:00:00",
          "2017-04-01T00:00:00",
          "2017-05-01T00:00:00",
          "2017-06-01T00:00:00",
          "2017-07-01T00:00:00",
          "2017-08-01T00:00:00",
          "2017-09-01T00:00:00",
          "2017-10-01T00:00:00",
          "2017-11-01T00:00:00",
          "2017-12-01T00:00:00",
          "2018-01-01T00:00:00",
          "2018-02-01T00:00:00",
          "2018-03-01T00:00:00",
          "2018-04-01T00:00:00",
          "2018-05-01T00:00:00",
          "2018-06-01T00:00:00",
          "2018-07-01T00:00:00",
          "2018-08-01T00:00:00",
          "2018-09-01T00:00:00",
          "2018-10-01T00:00:00",
          "2018-11-01T00:00:00",
          "2018-12-01T00:00:00",
          "2019-01-01T00:00:00",
          "2019-02-01T00:00:00",
          "2019-03-01T00:00:00",
          "2019-04-01T00:00:00",
          "2019-05-01T00:00:00",
          "2019-06-01T00:00:00",
          "2019-07-01T00:00:00",
          "2019-08-01T00:00:00",
          "2019-09-01T00:00:00",
          "2019-10-01T00:00:00",
          "2019-11-01T00:00:00",
          "2019-12-01T00:00:00"
         ],
         "y": [
          232.95802307128906,
          212.44435119628906,
          226.94692993164062,
          348.86370849609375,
          513.7003173828125,
          1017.953369140625,
          2447.709228515625,
          1858.316162109375,
          1556.2696533203125,
          1959.098876953125,
          815.8876342773438,
          389.1499328613281,
          114.53287506103516,
          127.9070053100586,
          160.4482879638672,
          297.5277099609375,
          447.9632873535156,
          645.3118896484375,
          706.3253173828125,
          694.6282348632812,
          824.8670043945312,
          594.3323364257812,
          216.37623596191406,
          150.81700134277344,
          174.96771240234375,
          193.93161010742188,
          211.7648468017578,
          334.1629943847656,
          286.1739501953125,
          785.8687133789062,
          581.9740600585938,
          425.31219482421875,
          524.6368408203125,
          394.5896911621094,
          247.7447052001953,
          204.327392578125,
          238.6598663330078,
          206.97459411621094,
          251.44461059570312,
          297.1449279785156,
          469.1986999511719,
          715.55322265625,
          1398.0703125,
          974.666015625,
          683.7272338867188,
          433.3258056640625,
          287.3988952636719,
          203.48097229003906,
          242.9344940185547,
          213.6937713623047,
          235.64486694335938,
          282.3540344238281,
          385.7041320800781,
          1032.3970947265625,
          1945.9132080078125,
          1353.6947021484375,
          929.91455078125,
          605.6207275390625,
          400.7575378417969,
          215.956787109375
         ]
        }
       ],
       "layout": {
        "template": {
         "data": {
          "bar": [
           {
            "error_x": {
             "color": "#2a3f5f"
            },
            "error_y": {
             "color": "#2a3f5f"
            },
            "marker": {
             "line": {
              "color": "white",
              "width": 0.5
             },
             "pattern": {
              "fillmode": "overlay",
              "size": 10,
              "solidity": 0.2
             }
            },
            "type": "bar"
           }
          ],
          "barpolar": [
           {
            "marker": {
             "line": {
              "color": "white",
              "width": 0.5
             },
             "pattern": {
              "fillmode": "overlay",
              "size": 10,
              "solidity": 0.2
             }
            },
            "type": "barpolar"
           }
          ],
          "carpet": [
           {
            "aaxis": {
             "endlinecolor": "#2a3f5f",
             "gridcolor": "#C8D4E3",
             "linecolor": "#C8D4E3",
             "minorgridcolor": "#C8D4E3",
             "startlinecolor": "#2a3f5f"
            },
            "baxis": {
             "endlinecolor": "#2a3f5f",
             "gridcolor": "#C8D4E3",
             "linecolor": "#C8D4E3",
             "minorgridcolor": "#C8D4E3",
             "startlinecolor": "#2a3f5f"
            },
            "type": "carpet"
           }
          ],
          "choropleth": [
           {
            "colorbar": {
             "outlinewidth": 0,
             "ticks": ""
            },
            "type": "choropleth"
           }
          ],
          "contour": [
           {
            "colorbar": {
             "outlinewidth": 0,
             "ticks": ""
            },
            "colorscale": [
             [
              0,
              "#0d0887"
             ],
             [
              0.1111111111111111,
              "#46039f"
             ],
             [
              0.2222222222222222,
              "#7201a8"
             ],
             [
              0.3333333333333333,
              "#9c179e"
             ],
             [
              0.4444444444444444,
              "#bd3786"
             ],
             [
              0.5555555555555556,
              "#d8576b"
             ],
             [
              0.6666666666666666,
              "#ed7953"
             ],
             [
              0.7777777777777778,
              "#fb9f3a"
             ],
             [
              0.8888888888888888,
              "#fdca26"
             ],
             [
              1,
              "#f0f921"
             ]
            ],
            "type": "contour"
           }
          ],
          "contourcarpet": [
           {
            "colorbar": {
             "outlinewidth": 0,
             "ticks": ""
            },
            "type": "contourcarpet"
           }
          ],
          "heatmap": [
           {
            "colorbar": {
             "outlinewidth": 0,
             "ticks": ""
            },
            "colorscale": [
             [
              0,
              "#0d0887"
             ],
             [
              0.1111111111111111,
              "#46039f"
             ],
             [
              0.2222222222222222,
              "#7201a8"
             ],
             [
              0.3333333333333333,
              "#9c179e"
             ],
             [
              0.4444444444444444,
              "#bd3786"
             ],
             [
              0.5555555555555556,
              "#d8576b"
             ],
             [
              0.6666666666666666,
              "#ed7953"
             ],
             [
              0.7777777777777778,
              "#fb9f3a"
             ],
             [
              0.8888888888888888,
              "#fdca26"
             ],
             [
              1,
              "#f0f921"
             ]
            ],
            "type": "heatmap"
           }
          ],
          "heatmapgl": [
           {
            "colorbar": {
             "outlinewidth": 0,
             "ticks": ""
            },
            "colorscale": [
             [
              0,
              "#0d0887"
             ],
             [
              0.1111111111111111,
              "#46039f"
             ],
             [
              0.2222222222222222,
              "#7201a8"
             ],
             [
              0.3333333333333333,
              "#9c179e"
             ],
             [
              0.4444444444444444,
              "#bd3786"
             ],
             [
              0.5555555555555556,
              "#d8576b"
             ],
             [
              0.6666666666666666,
              "#ed7953"
             ],
             [
              0.7777777777777778,
              "#fb9f3a"
             ],
             [
              0.8888888888888888,
              "#fdca26"
             ],
             [
              1,
              "#f0f921"
             ]
            ],
            "type": "heatmapgl"
           }
          ],
          "histogram": [
           {
            "marker": {
             "pattern": {
              "fillmode": "overlay",
              "size": 10,
              "solidity": 0.2
             }
            },
            "type": "histogram"
           }
          ],
          "histogram2d": [
           {
            "colorbar": {
             "outlinewidth": 0,
             "ticks": ""
            },
            "colorscale": [
             [
              0,
              "#0d0887"
             ],
             [
              0.1111111111111111,
              "#46039f"
             ],
             [
              0.2222222222222222,
              "#7201a8"
             ],
             [
              0.3333333333333333,
              "#9c179e"
             ],
             [
              0.4444444444444444,
              "#bd3786"
             ],
             [
              0.5555555555555556,
              "#d8576b"
             ],
             [
              0.6666666666666666,
              "#ed7953"
             ],
             [
              0.7777777777777778,
              "#fb9f3a"
             ],
             [
              0.8888888888888888,
              "#fdca26"
             ],
             [
              1,
              "#f0f921"
             ]
            ],
            "type": "histogram2d"
           }
          ],
          "histogram2dcontour": [
           {
            "colorbar": {
             "outlinewidth": 0,
             "ticks": ""
            },
            "colorscale": [
             [
              0,
              "#0d0887"
             ],
             [
              0.1111111111111111,
              "#46039f"
             ],
             [
              0.2222222222222222,
              "#7201a8"
             ],
             [
              0.3333333333333333,
              "#9c179e"
             ],
             [
              0.4444444444444444,
              "#bd3786"
             ],
             [
              0.5555555555555556,
              "#d8576b"
             ],
             [
              0.6666666666666666,
              "#ed7953"
             ],
             [
              0.7777777777777778,
              "#fb9f3a"
             ],
             [
              0.8888888888888888,
              "#fdca26"
             ],
             [
              1,
              "#f0f921"
             ]
            ],
            "type": "histogram2dcontour"
           }
          ],
          "mesh3d": [
           {
            "colorbar": {
             "outlinewidth": 0,
             "ticks": ""
            },
            "type": "mesh3d"
           }
          ],
          "parcoords": [
           {
            "line": {
             "colorbar": {
              "outlinewidth": 0,
              "ticks": ""
             }
            },
            "type": "parcoords"
           }
          ],
          "pie": [
           {
            "automargin": true,
            "type": "pie"
           }
          ],
          "scatter": [
           {
            "fillpattern": {
             "fillmode": "overlay",
             "size": 10,
             "solidity": 0.2
            },
            "type": "scatter"
           }
          ],
          "scatter3d": [
           {
            "line": {
             "colorbar": {
              "outlinewidth": 0,
              "ticks": ""
             }
            },
            "marker": {
             "colorbar": {
              "outlinewidth": 0,
              "ticks": ""
             }
            },
            "type": "scatter3d"
           }
          ],
          "scattercarpet": [
           {
            "marker": {
             "colorbar": {
              "outlinewidth": 0,
              "ticks": ""
             }
            },
            "type": "scattercarpet"
           }
          ],
          "scattergeo": [
           {
            "marker": {
             "colorbar": {
              "outlinewidth": 0,
              "ticks": ""
             }
            },
            "type": "scattergeo"
           }
          ],
          "scattergl": [
           {
            "marker": {
             "colorbar": {
              "outlinewidth": 0,
              "ticks": ""
             }
            },
            "type": "scattergl"
           }
          ],
          "scattermapbox": [
           {
            "marker": {
             "colorbar": {
              "outlinewidth": 0,
              "ticks": ""
             }
            },
            "type": "scattermapbox"
           }
          ],
          "scatterpolar": [
           {
            "marker": {
             "colorbar": {
              "outlinewidth": 0,
              "ticks": ""
             }
            },
            "type": "scatterpolar"
           }
          ],
          "scatterpolargl": [
           {
            "marker": {
             "colorbar": {
              "outlinewidth": 0,
              "ticks": ""
             }
            },
            "type": "scatterpolargl"
           }
          ],
          "scatterternary": [
           {
            "marker": {
             "colorbar": {
              "outlinewidth": 0,
              "ticks": ""
             }
            },
            "type": "scatterternary"
           }
          ],
          "surface": [
           {
            "colorbar": {
             "outlinewidth": 0,
             "ticks": ""
            },
            "colorscale": [
             [
              0,
              "#0d0887"
             ],
             [
              0.1111111111111111,
              "#46039f"
             ],
             [
              0.2222222222222222,
              "#7201a8"
             ],
             [
              0.3333333333333333,
              "#9c179e"
             ],
             [
              0.4444444444444444,
              "#bd3786"
             ],
             [
              0.5555555555555556,
              "#d8576b"
             ],
             [
              0.6666666666666666,
              "#ed7953"
             ],
             [
              0.7777777777777778,
              "#fb9f3a"
             ],
             [
              0.8888888888888888,
              "#fdca26"
             ],
             [
              1,
              "#f0f921"
             ]
            ],
            "type": "surface"
           }
          ],
          "table": [
           {
            "cells": {
             "fill": {
              "color": "#EBF0F8"
             },
             "line": {
              "color": "white"
             }
            },
            "header": {
             "fill": {
              "color": "#C8D4E3"
             },
             "line": {
              "color": "white"
             }
            },
            "type": "table"
           }
          ]
         },
         "layout": {
          "annotationdefaults": {
           "arrowcolor": "#2a3f5f",
           "arrowhead": 0,
           "arrowwidth": 1
          },
          "autotypenumbers": "strict",
          "coloraxis": {
           "colorbar": {
            "outlinewidth": 0,
            "ticks": ""
           }
          },
          "colorscale": {
           "diverging": [
            [
             0,
             "#8e0152"
            ],
            [
             0.1,
             "#c51b7d"
            ],
            [
             0.2,
             "#de77ae"
            ],
            [
             0.3,
             "#f1b6da"
            ],
            [
             0.4,
             "#fde0ef"
            ],
            [
             0.5,
             "#f7f7f7"
            ],
            [
             0.6,
             "#e6f5d0"
            ],
            [
             0.7,
             "#b8e186"
            ],
            [
             0.8,
             "#7fbc41"
            ],
            [
             0.9,
             "#4d9221"
            ],
            [
             1,
             "#276419"
            ]
           ],
           "sequential": [
            [
             0,
             "#0d0887"
            ],
            [
             0.1111111111111111,
             "#46039f"
            ],
            [
             0.2222222222222222,
             "#7201a8"
            ],
            [
             0.3333333333333333,
             "#9c179e"
            ],
            [
             0.4444444444444444,
             "#bd3786"
            ],
            [
             0.5555555555555556,
             "#d8576b"
            ],
            [
             0.6666666666666666,
             "#ed7953"
            ],
            [
             0.7777777777777778,
             "#fb9f3a"
            ],
            [
             0.8888888888888888,
             "#fdca26"
            ],
            [
             1,
             "#f0f921"
            ]
           ],
           "sequentialminus": [
            [
             0,
             "#0d0887"
            ],
            [
             0.1111111111111111,
             "#46039f"
            ],
            [
             0.2222222222222222,
             "#7201a8"
            ],
            [
             0.3333333333333333,
             "#9c179e"
            ],
            [
             0.4444444444444444,
             "#bd3786"
            ],
            [
             0.5555555555555556,
             "#d8576b"
            ],
            [
             0.6666666666666666,
             "#ed7953"
            ],
            [
             0.7777777777777778,
             "#fb9f3a"
            ],
            [
             0.8888888888888888,
             "#fdca26"
            ],
            [
             1,
             "#f0f921"
            ]
           ]
          },
          "colorway": [
           "#636efa",
           "#EF553B",
           "#00cc96",
           "#ab63fa",
           "#FFA15A",
           "#19d3f3",
           "#FF6692",
           "#B6E880",
           "#FF97FF",
           "#FECB52"
          ],
          "font": {
           "color": "#2a3f5f"
          },
          "geo": {
           "bgcolor": "white",
           "lakecolor": "white",
           "landcolor": "white",
           "showlakes": true,
           "showland": true,
           "subunitcolor": "#C8D4E3"
          },
          "hoverlabel": {
           "align": "left"
          },
          "hovermode": "closest",
          "mapbox": {
           "style": "light"
          },
          "paper_bgcolor": "white",
          "plot_bgcolor": "white",
          "polar": {
           "angularaxis": {
            "gridcolor": "#EBF0F8",
            "linecolor": "#EBF0F8",
            "ticks": ""
           },
           "bgcolor": "white",
           "radialaxis": {
            "gridcolor": "#EBF0F8",
            "linecolor": "#EBF0F8",
            "ticks": ""
           }
          },
          "scene": {
           "xaxis": {
            "backgroundcolor": "white",
            "gridcolor": "#DFE8F3",
            "gridwidth": 2,
            "linecolor": "#EBF0F8",
            "showbackground": true,
            "ticks": "",
            "zerolinecolor": "#EBF0F8"
           },
           "yaxis": {
            "backgroundcolor": "white",
            "gridcolor": "#DFE8F3",
            "gridwidth": 2,
            "linecolor": "#EBF0F8",
            "showbackground": true,
            "ticks": "",
            "zerolinecolor": "#EBF0F8"
           },
           "zaxis": {
            "backgroundcolor": "white",
            "gridcolor": "#DFE8F3",
            "gridwidth": 2,
            "linecolor": "#EBF0F8",
            "showbackground": true,
            "ticks": "",
            "zerolinecolor": "#EBF0F8"
           }
          },
          "shapedefaults": {
           "line": {
            "color": "#2a3f5f"
           }
          },
          "ternary": {
           "aaxis": {
            "gridcolor": "#DFE8F3",
            "linecolor": "#A2B1C6",
            "ticks": ""
           },
           "baxis": {
            "gridcolor": "#DFE8F3",
            "linecolor": "#A2B1C6",
            "ticks": ""
           },
           "bgcolor": "white",
           "caxis": {
            "gridcolor": "#DFE8F3",
            "linecolor": "#A2B1C6",
            "ticks": ""
           }
          },
          "title": {
           "x": 0.05
          },
          "xaxis": {
           "automargin": true,
           "gridcolor": "#EBF0F8",
           "linecolor": "#EBF0F8",
           "ticks": "",
           "title": {
            "standoff": 15
           },
           "zerolinecolor": "#EBF0F8",
           "zerolinewidth": 2
          },
          "yaxis": {
           "automargin": true,
           "gridcolor": "#EBF0F8",
           "linecolor": "#EBF0F8",
           "ticks": "",
           "title": {
            "standoff": 15
           },
           "zerolinecolor": "#EBF0F8",
           "zerolinewidth": 2
          }
         }
        }
       }
      }
     },
     "metadata": {},
     "output_type": "display_data"
    },
    {
     "name": "stderr",
     "output_type": "stream",
     "text": [
      "[I 2024-10-29 15:35:07,184] A new study created in memory with name: example-study\n"
     ]
    },
    {
     "name": "stdout",
     "output_type": "stream",
     "text": [
      "Warning: ARIMASimFlow column not found in data for Xunhua station, year 2015\n"
     ]
    },
    {
     "name": "stderr",
     "output_type": "stream",
     "text": [
      "[I 2024-10-29 15:35:45,481] Trial 0 finished with value: 0.016323301009833813 and parameters: {'num_layers': 3, 'hidden_size': 16, 'lstm_dropout': 0.283259121231428, 'dense_dropout': 0.3659266257180318, 'learning_rate': 1.2686641299201279e-05}. Best is trial 0 with value: 0.016323301009833813.\n",
      "[I 2024-10-29 15:36:20,209] Trial 1 finished with value: 0.003434899146668613 and parameters: {'num_layers': 2, 'hidden_size': 16, 'lstm_dropout': 0.11007339301764363, 'dense_dropout': 0.11480187741057529, 'learning_rate': 0.00011205009574560522}. Best is trial 1 with value: 0.003434899146668613.\n",
      "[I 2024-10-29 15:36:50,475] Trial 2 finished with value: 0.009108143392950296 and parameters: {'num_layers': 1, 'hidden_size': 104, 'lstm_dropout': 0.10716479291354541, 'dense_dropout': 0.3206678583488347, 'learning_rate': 3.954432491181072e-05}. Best is trial 1 with value: 0.003434899146668613.\n",
      "[I 2024-10-29 15:37:22,577] Trial 3 finished with value: 0.013334531802684069 and parameters: {'num_layers': 1, 'hidden_size': 96, 'lstm_dropout': 0.4936686639592393, 'dense_dropout': 0.4193531196846525, 'learning_rate': 1.9794006949461992e-05}. Best is trial 1 with value: 0.003434899146668613.\n",
      "[I 2024-10-29 15:37:52,615] Trial 4 finished with value: 0.013959618285298347 and parameters: {'num_layers': 1, 'hidden_size': 8, 'lstm_dropout': 0.28899905813700644, 'dense_dropout': 0.44792376868074335, 'learning_rate': 0.00012590464153980542}. Best is trial 1 with value: 0.003434899146668613.\n",
      "[I 2024-10-29 15:38:30,294] Trial 5 finished with value: 0.005540396668948233 and parameters: {'num_layers': 3, 'hidden_size': 120, 'lstm_dropout': 0.493716921130043, 'dense_dropout': 0.22873324097054676, 'learning_rate': 0.009228857900495937}. Best is trial 1 with value: 0.003434899146668613.\n",
      "[I 2024-10-29 15:39:04,916] Trial 6 finished with value: 0.0036148499930277467 and parameters: {'num_layers': 2, 'hidden_size': 40, 'lstm_dropout': 0.31766151154536404, 'dense_dropout': 0.16217013701349742, 'learning_rate': 0.0003207912965672851}. Best is trial 1 with value: 0.003434899146668613.\n",
      "[I 2024-10-29 15:39:39,978] Trial 7 finished with value: 0.005317844799719751 and parameters: {'num_layers': 2, 'hidden_size': 128, 'lstm_dropout': 0.331693440416515, 'dense_dropout': 0.20967801937021568, 'learning_rate': 0.007818262560195214}. Best is trial 1 with value: 0.003434899146668613.\n",
      "[I 2024-10-29 15:40:19,839] Trial 8 finished with value: 0.009920781361870468 and parameters: {'num_layers': 3, 'hidden_size': 32, 'lstm_dropout': 0.4334068889182078, 'dense_dropout': 0.39241675717440927, 'learning_rate': 0.008347667517295333}. Best is trial 1 with value: 0.003434899146668613.\n",
      "[I 2024-10-29 15:40:19,915] Trial 9 pruned. \n",
      "[I 2024-10-29 15:40:19,998] Trial 10 pruned. \n",
      "[I 2024-10-29 15:40:20,092] Trial 11 pruned. \n",
      "[I 2024-10-29 15:40:54,596] Trial 12 finished with value: 0.004038957296870649 and parameters: {'num_layers': 2, 'hidden_size': 32, 'lstm_dropout': 0.1891203994440967, 'dense_dropout': 0.13466437575931772, 'learning_rate': 0.0008866717696493662}. Best is trial 1 with value: 0.003434899146668613.\n",
      "[I 2024-10-29 15:41:28,538] Trial 13 finished with value: 0.004594836966134608 and parameters: {'num_layers': 2, 'hidden_size': 80, 'lstm_dropout': 0.04362579361861148, 'dense_dropout': 0.16314035047200276, 'learning_rate': 0.0002203576709045114}. Best is trial 1 with value: 0.003434899146668613.\n",
      "[I 2024-10-29 15:42:05,891] Trial 14 finished with value: 0.006196955917403102 and parameters: {'num_layers': 2, 'hidden_size': 32, 'lstm_dropout': 0.22048598754894083, 'dense_dropout': 0.2909171083780816, 'learning_rate': 0.001700510602103273}. Best is trial 1 with value: 0.003434899146668613.\n",
      "[I 2024-10-29 15:42:38,875] Trial 15 finished with value: 0.0030501538421958685 and parameters: {'num_layers': 1, 'hidden_size': 56, 'lstm_dropout': 0.1097648299964224, 'dense_dropout': 0.0431046779402178, 'learning_rate': 0.0007330059389841032}. Best is trial 15 with value: 0.0030501538421958685.\n",
      "[I 2024-10-29 15:43:11,630] Trial 16 finished with value: 0.002820605644956231 and parameters: {'num_layers': 1, 'hidden_size': 64, 'lstm_dropout': 0.1137502095136424, 'dense_dropout': 0.0043614436643004545, 'learning_rate': 0.0015947011639181256}. Best is trial 16 with value: 0.002820605644956231.\n",
      "[I 2024-10-29 15:43:45,721] Trial 17 finished with value: 0.002549149503465742 and parameters: {'num_layers': 1, 'hidden_size': 64, 'lstm_dropout': 0.10329116446045816, 'dense_dropout': 0.007728046658567405, 'learning_rate': 0.0018289859486927094}. Best is trial 17 with value: 0.002549149503465742.\n",
      "[I 2024-10-29 15:44:31,957] Trial 18 finished with value: 0.004424408660270274 and parameters: {'num_layers': 1, 'hidden_size': 88, 'lstm_dropout': 0.051251233215040645, 'dense_dropout': 0.0012012593355552603, 'learning_rate': 0.0033096451282861317}. Best is trial 17 with value: 0.002549149503465742.\n",
      "[I 2024-10-29 15:45:14,489] Trial 19 finished with value: 0.002447109203785658 and parameters: {'num_layers': 1, 'hidden_size': 72, 'lstm_dropout': 0.1937049185133678, 'dense_dropout': 0.0651593611424477, 'learning_rate': 0.02547659499314522}. Best is trial 19 with value: 0.002447109203785658.\n",
      "[I 2024-10-29 15:45:14,584] Trial 20 pruned. \n",
      "[I 2024-10-29 15:45:55,365] Trial 21 finished with value: 0.002703157311771065 and parameters: {'num_layers': 1, 'hidden_size': 64, 'lstm_dropout': 0.15082091749894325, 'dense_dropout': 0.04607238239543578, 'learning_rate': 0.019449989919318976}. Best is trial 19 with value: 0.002447109203785658.\n",
      "[I 2024-10-29 15:46:32,343] Trial 22 finished with value: 0.0025447471998631954 and parameters: {'num_layers': 1, 'hidden_size': 72, 'lstm_dropout': 0.1599495879305134, 'dense_dropout': 0.08997363723005952, 'learning_rate': 0.02604823885316863}. Best is trial 19 with value: 0.002447109203785658.\n",
      "[I 2024-10-29 15:47:09,639] Trial 23 finished with value: 0.0024369098246097565 and parameters: {'num_layers': 1, 'hidden_size': 80, 'lstm_dropout': 0.1642137708462219, 'dense_dropout': 0.08712717608730436, 'learning_rate': 0.02881984291243842}. Best is trial 23 with value: 0.0024369098246097565.\n",
      "[I 2024-10-29 15:47:45,798] Trial 24 finished with value: 0.002678447461221367 and parameters: {'num_layers': 1, 'hidden_size': 80, 'lstm_dropout': 0.2529255360480729, 'dense_dropout': 0.0931127273983432, 'learning_rate': 0.027644282128932867}. Best is trial 23 with value: 0.0024369098246097565.\n",
      "[I 2024-10-29 15:47:45,860] Trial 25 pruned. \n",
      "[I 2024-10-29 15:47:45,914] Trial 26 pruned. \n",
      "[I 2024-10-29 15:47:45,975] Trial 27 pruned. \n",
      "[I 2024-10-29 15:47:46,079] Trial 28 pruned. \n",
      "[I 2024-10-29 15:48:23,348] Trial 29 finished with value: 0.0040057305013760924 and parameters: {'num_layers': 1, 'hidden_size': 72, 'lstm_dropout': 0.2840889330977616, 'dense_dropout': 0.16518697981866243, 'learning_rate': 0.014682343505946488}. Best is trial 23 with value: 0.0024369098246097565.\n",
      "[I 2024-10-29 15:48:58,632] Trial 30 finished with value: 0.003150368109345436 and parameters: {'num_layers': 1, 'hidden_size': 88, 'lstm_dropout': 0.05814411428916971, 'dense_dropout': 0.0441329361932221, 'learning_rate': 0.0040653307264971955}. Best is trial 23 with value: 0.0024369098246097565.\n",
      "[I 2024-10-29 15:49:36,083] Trial 31 finished with value: 0.0034004346816800535 and parameters: {'num_layers': 1, 'hidden_size': 56, 'lstm_dropout': 0.07516338765794532, 'dense_dropout': 0.07638966200711024, 'learning_rate': 0.05085510905981003}. Best is trial 23 with value: 0.0024369098246097565.\n",
      "[I 2024-10-29 15:50:10,315] Trial 32 finished with value: 0.0027840168331749737 and parameters: {'num_layers': 1, 'hidden_size': 72, 'lstm_dropout': 0.13233404197354573, 'dense_dropout': 0.030356630170104308, 'learning_rate': 0.014634096635329412}. Best is trial 23 with value: 0.0024369098246097565.\n",
      "[I 2024-10-29 15:50:46,918] Trial 33 finished with value: 0.002803860465064645 and parameters: {'num_layers': 1, 'hidden_size': 56, 'lstm_dropout': 0.08316306892935943, 'dense_dropout': 0.11649293986494375, 'learning_rate': 0.03244218174567021}. Best is trial 23 with value: 0.0024369098246097565.\n",
      "[I 2024-10-29 15:51:23,374] Trial 34 finished with value: 0.00400964543223381 and parameters: {'num_layers': 1, 'hidden_size': 88, 'lstm_dropout': 0.18552937978967582, 'dense_dropout': 0.08182033972220217, 'learning_rate': 0.0022364116036222566}. Best is trial 23 with value: 0.0024369098246097565.\n",
      "[I 2024-10-29 15:51:57,233] Trial 35 finished with value: 0.0026570020709186792 and parameters: {'num_layers': 1, 'hidden_size': 104, 'lstm_dropout': 0.01429987714331564, 'dense_dropout': 0.029564083473826885, 'learning_rate': 0.010876676325799327}. Best is trial 23 with value: 0.0024369098246097565.\n",
      "[I 2024-10-29 15:52:31,841] Trial 36 finished with value: 0.0035077566280961037 and parameters: {'num_layers': 1, 'hidden_size': 80, 'lstm_dropout': 0.09184384124732867, 'dense_dropout': 0.1379868576018458, 'learning_rate': 0.0072046865765496735}. Best is trial 23 with value: 0.0024369098246097565.\n",
      "[I 2024-10-29 15:52:31,971] Trial 37 pruned. \n",
      "[I 2024-10-29 15:52:32,043] Trial 38 pruned. \n",
      "[I 2024-10-29 15:53:05,475] Trial 39 finished with value: 0.0025399348232895136 and parameters: {'num_layers': 1, 'hidden_size': 104, 'lstm_dropout': 0.21300451183301639, 'dense_dropout': 0.10117644050144019, 'learning_rate': 0.01680086957489502}. Best is trial 23 with value: 0.0024369098246097565.\n",
      "[I 2024-10-29 15:53:05,533] Trial 40 pruned. \n",
      "[I 2024-10-29 15:53:05,588] Trial 41 pruned. \n",
      "[I 2024-10-29 15:53:05,644] Trial 42 pruned. \n",
      "[I 2024-10-29 15:53:40,297] Trial 43 finished with value: 0.0022007464431226254 and parameters: {'num_layers': 1, 'hidden_size': 104, 'lstm_dropout': 0.17636334381402125, 'dense_dropout': 0.05591474033423979, 'learning_rate': 0.011765696962052182}. Best is trial 43 with value: 0.0022007464431226254.\n",
      "[I 2024-10-29 15:53:40,346] Trial 44 pruned. \n",
      "[I 2024-10-29 15:53:40,420] Trial 45 pruned. \n",
      "[I 2024-10-29 15:53:40,478] Trial 46 pruned. \n",
      "[I 2024-10-29 15:54:17,907] Trial 47 finished with value: 0.0026145528827328235 and parameters: {'num_layers': 2, 'hidden_size': 104, 'lstm_dropout': 0.16472789451539707, 'dense_dropout': 0.1160837784145054, 'learning_rate': 0.0061959565639773395}. Best is trial 43 with value: 0.0022007464431226254.\n",
      "[I 2024-10-29 15:54:17,965] Trial 48 pruned. \n",
      "[I 2024-10-29 15:54:18,025] Trial 49 pruned. \n",
      "[I 2024-10-29 15:54:18,083] Trial 50 pruned. \n",
      "[I 2024-10-29 15:54:18,139] Trial 51 pruned. \n",
      "[I 2024-10-29 15:54:18,207] Trial 52 pruned. \n",
      "[I 2024-10-29 15:54:57,117] Trial 53 finished with value: 0.003161584259942174 and parameters: {'num_layers': 1, 'hidden_size': 64, 'lstm_dropout': 0.1483046981336775, 'dense_dropout': 0.0947756811536278, 'learning_rate': 0.014200025842860939}. Best is trial 43 with value: 0.0022007464431226254.\n",
      "[I 2024-10-29 15:54:57,167] Trial 54 pruned. \n",
      "[I 2024-10-29 15:54:57,220] Trial 55 pruned. \n",
      "[I 2024-10-29 15:54:57,269] Trial 56 pruned. \n",
      "[I 2024-10-29 15:54:57,324] Trial 57 pruned. \n",
      "[I 2024-10-29 15:54:57,380] Trial 58 pruned. \n",
      "[I 2024-10-29 15:54:57,449] Trial 59 pruned. \n",
      "[I 2024-10-29 15:54:57,525] Trial 60 pruned. \n",
      "[I 2024-10-29 15:54:57,799] Trial 61 pruned. \n",
      "[I 2024-10-29 15:54:57,898] Trial 62 pruned. \n",
      "[I 2024-10-29 15:54:57,984] Trial 63 pruned. \n",
      "[I 2024-10-29 15:55:32,331] Trial 64 finished with value: 0.002309236500877887 and parameters: {'num_layers': 1, 'hidden_size': 64, 'lstm_dropout': 0.11952077655274207, 'dense_dropout': 0.06845503736584611, 'learning_rate': 0.01644817205724021}. Best is trial 43 with value: 0.0022007464431226254.\n",
      "[I 2024-10-29 15:56:07,098] Trial 65 finished with value: 0.0034323647851124406 and parameters: {'num_layers': 1, 'hidden_size': 56, 'lstm_dropout': 0.1409274349122026, 'dense_dropout': 0.06931077614842907, 'learning_rate': 0.026545537709727007}. Best is trial 43 with value: 0.0022007464431226254.\n",
      "[I 2024-10-29 15:56:07,145] Trial 66 pruned. \n",
      "[I 2024-10-29 15:56:07,201] Trial 67 pruned. \n",
      "[I 2024-10-29 15:56:07,317] Trial 68 pruned. \n",
      "[I 2024-10-29 15:56:07,365] Trial 69 pruned. \n",
      "[I 2024-10-29 15:56:07,417] Trial 70 pruned. \n",
      "[I 2024-10-29 15:56:40,616] Trial 71 finished with value: 0.0030579345766454935 and parameters: {'num_layers': 1, 'hidden_size': 96, 'lstm_dropout': 0.2355846728669505, 'dense_dropout': 0.12964111932033992, 'learning_rate': 0.01765260381142964}. Best is trial 43 with value: 0.0022007464431226254.\n",
      "[I 2024-10-29 15:56:40,683] Trial 72 pruned. \n",
      "[I 2024-10-29 15:57:15,510] Trial 73 finished with value: 0.0027907242183573544 and parameters: {'num_layers': 1, 'hidden_size': 72, 'lstm_dropout': 0.16256815556037818, 'dense_dropout': 0.07880247983990614, 'learning_rate': 0.0058581752769657275}. Best is trial 43 with value: 0.0022007464431226254.\n",
      "[I 2024-10-29 15:57:16,055] Trial 74 pruned. \n",
      "[I 2024-10-29 15:57:16,113] Trial 75 pruned. \n",
      "[I 2024-10-29 15:57:49,357] Trial 76 finished with value: 0.0026643190649338067 and parameters: {'num_layers': 1, 'hidden_size': 120, 'lstm_dropout': 0.11216853721454545, 'dense_dropout': 0.044804468642155634, 'learning_rate': 0.009032044478167535}. Best is trial 43 with value: 0.0022007464431226254.\n",
      "[I 2024-10-29 15:57:49,408] Trial 77 pruned. \n",
      "[I 2024-10-29 15:58:23,820] Trial 78 finished with value: 0.002171003434341401 and parameters: {'num_layers': 1, 'hidden_size': 104, 'lstm_dropout': 0.06694314084235137, 'dense_dropout': 0.06579242638531652, 'learning_rate': 0.01070510857739035}. Best is trial 78 with value: 0.002171003434341401.\n",
      "[I 2024-10-29 15:58:56,914] Trial 79 finished with value: 0.002768747101072222 and parameters: {'num_layers': 1, 'hidden_size': 64, 'lstm_dropout': 0.026699633609790677, 'dense_dropout': 0.02911659220420822, 'learning_rate': 0.012986357689337223}. Best is trial 78 with value: 0.002171003434341401.\n",
      "[I 2024-10-29 15:58:57,000] Trial 80 pruned. \n",
      "[I 2024-10-29 15:58:57,093] Trial 81 pruned. \n",
      "[I 2024-10-29 15:59:29,344] Trial 82 finished with value: 0.002554300124756992 and parameters: {'num_layers': 1, 'hidden_size': 96, 'lstm_dropout': 0.11959336036203051, 'dense_dropout': 0.10546098666946085, 'learning_rate': 0.00996394737364589}. Best is trial 78 with value: 0.002171003434341401.\n",
      "[I 2024-10-29 16:00:06,443] Trial 83 finished with value: 0.0018088806536979973 and parameters: {'num_layers': 1, 'hidden_size': 96, 'lstm_dropout': 0.042043672376161745, 'dense_dropout': 0.05977629829449365, 'learning_rate': 0.010835715692289251}. Best is trial 83 with value: 0.0018088806536979973.\n",
      "[I 2024-10-29 16:00:45,840] Trial 84 finished with value: 0.003439420135691762 and parameters: {'num_layers': 1, 'hidden_size': 88, 'lstm_dropout': 0.048251881540046934, 'dense_dropout': 0.0014811595911191858, 'learning_rate': 0.02440712255683885}. Best is trial 83 with value: 0.0018088806536979973.\n",
      "[I 2024-10-29 16:00:45,895] Trial 85 pruned. \n",
      "[I 2024-10-29 16:01:25,526] Trial 86 finished with value: 0.0020667535718530416 and parameters: {'num_layers': 1, 'hidden_size': 80, 'lstm_dropout': 0.07569205188444253, 'dense_dropout': 0.06413932787374682, 'learning_rate': 0.015396910281674413}. Best is trial 83 with value: 0.0018088806536979973.\n",
      "[I 2024-10-29 16:02:04,169] Trial 87 finished with value: 0.0032322678598575294 and parameters: {'num_layers': 1, 'hidden_size': 80, 'lstm_dropout': 0.032734636947344985, 'dense_dropout': 0.06963092756810013, 'learning_rate': 0.011969904744786033}. Best is trial 83 with value: 0.0018088806536979973.\n",
      "[I 2024-10-29 16:02:04,230] Trial 88 pruned. \n",
      "[I 2024-10-29 16:02:04,307] Trial 89 pruned. \n",
      "[I 2024-10-29 16:02:04,937] Trial 90 pruned. \n",
      "[I 2024-10-29 16:02:44,999] Trial 91 finished with value: 0.003165804431773722 and parameters: {'num_layers': 1, 'hidden_size': 72, 'lstm_dropout': 0.009601094521127, 'dense_dropout': 0.01793387078056763, 'learning_rate': 0.0044517408156466015}. Best is trial 83 with value: 0.0018088806536979973.\n",
      "[I 2024-10-29 16:02:45,050] Trial 92 pruned. \n",
      "[I 2024-10-29 16:02:45,113] Trial 93 pruned. \n",
      "[I 2024-10-29 16:02:45,222] Trial 94 pruned. \n",
      "[I 2024-10-29 16:02:45,308] Trial 95 pruned. \n",
      "[I 2024-10-29 16:03:22,505] Trial 96 finished with value: 0.0026399859925732017 and parameters: {'num_layers': 1, 'hidden_size': 64, 'lstm_dropout': 0.1061904974891669, 'dense_dropout': 0.09664642366675236, 'learning_rate': 0.010755679545707886}. Best is trial 83 with value: 0.0018088806536979973.\n",
      "[I 2024-10-29 16:03:22,565] Trial 97 pruned. \n",
      "[I 2024-10-29 16:03:22,661] Trial 98 pruned. \n",
      "[I 2024-10-29 16:03:22,746] Trial 99 pruned. \n"
     ]
    },
    {
     "name": "stdout",
     "output_type": "stream",
     "text": [
      "Study statistics: \n",
      "  Number of finished trials:  100\n",
      "  Number of pruned trials:  53\n",
      "  Number of complete trials:  47\n",
      "Best trial:\n",
      "  Value:  0.0018088806536979973\n",
      "  Params: \n",
      "    num_layers: 1\n",
      "    hidden_size: 96\n",
      "    lstm_dropout: 0.042043672376161745\n",
      "    dense_dropout: 0.05977629829449365\n",
      "    learning_rate: 0.010835715692289251\n",
      "R2 for sim at Xunhua(1972-2014) 0.9516060777260171\n"
     ]
    },
    {
     "name": "stderr",
     "output_type": "stream",
     "text": [
      "[I 2024-10-29 16:03:22,979] A new study created in memory with name: example-study\n"
     ]
    },
    {
     "name": "stdout",
     "output_type": "stream",
     "text": [
      "Warning: ARIMASimFlow column not found in data for Xunhua station, year 2016\n"
     ]
    },
    {
     "name": "stderr",
     "output_type": "stream",
     "text": [
      "[I 2024-10-29 16:04:14,329] Trial 0 finished with value: 0.004490263003390282 and parameters: {'num_layers': 3, 'hidden_size': 104, 'lstm_dropout': 0.11449761408572073, 'dense_dropout': 0.208566465851187, 'learning_rate': 0.010059334711611774}. Best is trial 0 with value: 0.004490263003390282.\n",
      "[I 2024-10-29 16:05:03,368] Trial 1 finished with value: 0.0028154636966064572 and parameters: {'num_layers': 3, 'hidden_size': 80, 'lstm_dropout': 0.3979117133842245, 'dense_dropout': 0.046959881623966415, 'learning_rate': 0.0005238926714974306}. Best is trial 1 with value: 0.0028154636966064572.\n",
      "[I 2024-10-29 16:05:55,389] Trial 2 finished with value: 0.011720804497599602 and parameters: {'num_layers': 3, 'hidden_size': 40, 'lstm_dropout': 0.13878297685645619, 'dense_dropout': 0.4817538839303561, 'learning_rate': 0.00016477831377701481}. Best is trial 1 with value: 0.0028154636966064572.\n",
      "[I 2024-10-29 16:06:32,800] Trial 3 finished with value: 0.013074504677206278 and parameters: {'num_layers': 1, 'hidden_size': 8, 'lstm_dropout': 0.2101024840507988, 'dense_dropout': 0.4403951678095914, 'learning_rate': 0.0038841734918033423}. Best is trial 1 with value: 0.0028154636966064572.\n",
      "[I 2024-10-29 16:07:14,728] Trial 4 finished with value: 0.00221780629362911 and parameters: {'num_layers': 2, 'hidden_size': 120, 'lstm_dropout': 0.445096023514935, 'dense_dropout': 0.1333443598228966, 'learning_rate': 0.03815893010002408}. Best is trial 4 with value: 0.00221780629362911.\n",
      "[I 2024-10-29 16:07:14,766] Trial 5 pruned. \n",
      "[I 2024-10-29 16:07:14,825] Trial 6 pruned. \n",
      "[I 2024-10-29 16:07:15,116] Trial 7 pruned. \n",
      "[I 2024-10-29 16:07:15,165] Trial 8 pruned. \n",
      "[I 2024-10-29 16:07:15,215] Trial 9 pruned. \n",
      "[I 2024-10-29 16:07:15,297] Trial 10 pruned. \n",
      "[I 2024-10-29 16:08:00,796] Trial 11 finished with value: 0.0029401592910289764 and parameters: {'num_layers': 2, 'hidden_size': 64, 'lstm_dropout': 0.4765844240432697, 'dense_dropout': 0.010321777923472705, 'learning_rate': 0.0006297763974444997}. Best is trial 4 with value: 0.00221780629362911.\n",
      "[I 2024-10-29 16:08:00,879] Trial 12 pruned. \n",
      "[I 2024-10-29 16:08:44,320] Trial 13 finished with value: 0.0033786282874643803 and parameters: {'num_layers': 2, 'hidden_size': 88, 'lstm_dropout': 0.38226283797138355, 'dense_dropout': 0.13573779386926862, 'learning_rate': 0.0017025436659316663}. Best is trial 4 with value: 0.00221780629362911.\n",
      "[I 2024-10-29 16:09:30,673] Trial 14 finished with value: 0.004635858233086765 and parameters: {'num_layers': 2, 'hidden_size': 48, 'lstm_dropout': 0.30046968151108533, 'dense_dropout': 0.22101102419436294, 'learning_rate': 0.022565662630894132}. Best is trial 4 with value: 0.00221780629362911.\n",
      "[I 2024-10-29 16:09:30,829] Trial 15 pruned. \n",
      "[I 2024-10-29 16:10:17,019] Trial 16 finished with value: 0.0030278480844572186 and parameters: {'num_layers': 2, 'hidden_size': 80, 'lstm_dropout': 0.4293579194613495, 'dense_dropout': 0.06471077374091116, 'learning_rate': 0.0015611223580059268}. Best is trial 4 with value: 0.00221780629362911.\n",
      "[I 2024-10-29 16:10:17,425] Trial 17 pruned. \n",
      "[I 2024-10-29 16:10:17,482] Trial 18 pruned. \n",
      "[I 2024-10-29 16:11:02,235] Trial 19 finished with value: 0.002041483996436 and parameters: {'num_layers': 2, 'hidden_size': 112, 'lstm_dropout': 0.4315827901101523, 'dense_dropout': 0.09238853666748434, 'learning_rate': 0.002837008266417484}. Best is trial 19 with value: 0.002041483996436.\n",
      "[I 2024-10-29 16:11:43,604] Trial 20 finished with value: 0.0027691865107044578 and parameters: {'num_layers': 2, 'hidden_size': 112, 'lstm_dropout': 0.44807182003442986, 'dense_dropout': 0.10758854110895415, 'learning_rate': 0.004744828188922674}. Best is trial 19 with value: 0.002041483996436.\n",
      "[I 2024-10-29 16:12:25,323] Trial 21 finished with value: 0.003352151717990637 and parameters: {'num_layers': 2, 'hidden_size': 112, 'lstm_dropout': 0.4453695399278001, 'dense_dropout': 0.1168489540797846, 'learning_rate': 0.0034827192981669837}. Best is trial 19 with value: 0.002041483996436.\n",
      "[I 2024-10-29 16:13:07,737] Trial 22 finished with value: 0.002857843355741352 and parameters: {'num_layers': 2, 'hidden_size': 128, 'lstm_dropout': 0.49001128478227773, 'dense_dropout': 0.09078375592088127, 'learning_rate': 0.0029620470363849773}. Best is trial 19 with value: 0.002041483996436.\n",
      "[I 2024-10-29 16:13:07,873] Trial 23 pruned. \n",
      "[I 2024-10-29 16:13:07,929] Trial 24 pruned. \n",
      "[I 2024-10-29 16:13:08,567] Trial 25 pruned. \n",
      "[I 2024-10-29 16:13:08,703] Trial 26 pruned. \n",
      "[I 2024-10-29 16:13:08,763] Trial 27 pruned. \n",
      "[I 2024-10-29 16:13:49,347] Trial 28 finished with value: 0.0018694731988944113 and parameters: {'num_layers': 1, 'hidden_size': 104, 'lstm_dropout': 0.4174570102988575, 'dense_dropout': 0.132377888014002, 'learning_rate': 0.042976794748468036}. Best is trial 28 with value: 0.0018694731988944113.\n",
      "[I 2024-10-29 16:13:49,528] Trial 29 pruned. \n",
      "[I 2024-10-29 16:13:49,618] Trial 30 pruned. \n",
      "[I 2024-10-29 16:14:30,420] Trial 31 finished with value: 0.001840863551478833 and parameters: {'num_layers': 1, 'hidden_size': 112, 'lstm_dropout': 0.42089885928061826, 'dense_dropout': 0.11760304473687111, 'learning_rate': 0.01235436285415272}. Best is trial 31 with value: 0.001840863551478833.\n",
      "[I 2024-10-29 16:15:10,245] Trial 32 finished with value: 0.002694161026738584 and parameters: {'num_layers': 1, 'hidden_size': 104, 'lstm_dropout': 0.3911516968840316, 'dense_dropout': 0.1876355917242922, 'learning_rate': 0.011343663550279205}. Best is trial 31 with value: 0.001840863551478833.\n",
      "[I 2024-10-29 16:15:50,275] Trial 33 finished with value: 0.0014669061929453164 and parameters: {'num_layers': 1, 'hidden_size': 120, 'lstm_dropout': 0.4276707068004062, 'dense_dropout': 0.04161166957478081, 'learning_rate': 0.019656512587647692}. Best is trial 33 with value: 0.0014669061929453164.\n",
      "[I 2024-10-29 16:15:50,364] Trial 34 pruned. \n",
      "[I 2024-10-29 16:16:30,016] Trial 35 finished with value: 0.0017529645701870322 and parameters: {'num_layers': 1, 'hidden_size': 104, 'lstm_dropout': 0.36166694969411667, 'dense_dropout': 0.03495582891571742, 'learning_rate': 0.008963199440508534}. Best is trial 33 with value: 0.0014669061929453164.\n",
      "[I 2024-10-29 16:17:10,930] Trial 36 finished with value: 0.001051256462233141 and parameters: {'num_layers': 1, 'hidden_size': 96, 'lstm_dropout': 0.33871465152957664, 'dense_dropout': 0.03359366670811949, 'learning_rate': 0.008336044667732264}. Best is trial 36 with value: 0.001051256462233141.\n",
      "[I 2024-10-29 16:17:11,063] Trial 37 pruned. \n",
      "[I 2024-10-29 16:17:53,129] Trial 38 finished with value: 0.0023502171970903873 and parameters: {'num_layers': 1, 'hidden_size': 96, 'lstm_dropout': 0.3658990130391569, 'dense_dropout': 0.00023453886967150783, 'learning_rate': 0.007599113227725109}. Best is trial 36 with value: 0.001051256462233141.\n",
      "[I 2024-10-29 16:17:53,211] Trial 39 pruned. \n",
      "[I 2024-10-29 16:18:33,033] Trial 40 finished with value: 0.0030510224169120193 and parameters: {'num_layers': 1, 'hidden_size': 120, 'lstm_dropout': 0.17928058242278205, 'dense_dropout': 0.035454623179621246, 'learning_rate': 0.0023096897349066375}. Best is trial 36 with value: 0.001051256462233141.\n",
      "[I 2024-10-29 16:19:14,213] Trial 41 finished with value: 0.0018494123360142112 and parameters: {'num_layers': 1, 'hidden_size': 104, 'lstm_dropout': 0.3298235602204239, 'dense_dropout': 0.06198436682473023, 'learning_rate': 0.04864957543561235}. Best is trial 36 with value: 0.001051256462233141.\n",
      "[I 2024-10-29 16:19:14,278] Trial 42 pruned. \n",
      "[I 2024-10-29 16:19:14,355] Trial 43 pruned. \n",
      "[I 2024-10-29 16:19:14,455] Trial 44 pruned. \n",
      "[I 2024-10-29 16:19:14,596] Trial 45 pruned. \n",
      "[I 2024-10-29 16:19:57,691] Trial 46 finished with value: 0.001946509350091219 and parameters: {'num_layers': 1, 'hidden_size': 120, 'lstm_dropout': 0.3002923720524548, 'dense_dropout': 0.04924420932481048, 'learning_rate': 0.004717584306823288}. Best is trial 36 with value: 0.001051256462233141.\n",
      "[I 2024-10-29 16:20:40,433] Trial 47 finished with value: 0.002661701524630189 and parameters: {'num_layers': 1, 'hidden_size': 112, 'lstm_dropout': 0.25649977010947844, 'dense_dropout': 0.1089344818953189, 'learning_rate': 0.01093793476201613}. Best is trial 36 with value: 0.001051256462233141.\n",
      "[I 2024-10-29 16:20:40,493] Trial 48 pruned. \n",
      "[I 2024-10-29 16:20:40,550] Trial 49 pruned. \n",
      "[I 2024-10-29 16:20:40,628] Trial 50 pruned. \n",
      "[I 2024-10-29 16:20:40,700] Trial 51 pruned. \n",
      "[I 2024-10-29 16:20:40,770] Trial 52 pruned. \n",
      "[I 2024-10-29 16:20:40,851] Trial 53 pruned. \n",
      "[I 2024-10-29 16:21:23,610] Trial 54 finished with value: 0.0014175246469676495 and parameters: {'num_layers': 1, 'hidden_size': 80, 'lstm_dropout': 0.3522449094342808, 'dense_dropout': 0.06264623494606394, 'learning_rate': 0.006790283687684095}. Best is trial 36 with value: 0.001051256462233141.\n",
      "[I 2024-10-29 16:22:04,386] Trial 55 finished with value: 0.0014176913537085056 and parameters: {'num_layers': 1, 'hidden_size': 80, 'lstm_dropout': 0.34140103326435356, 'dense_dropout': 0.0664526084954894, 'learning_rate': 0.005134942242542879}. Best is trial 36 with value: 0.001051256462233141.\n",
      "[I 2024-10-29 16:22:04,485] Trial 56 pruned. \n",
      "[I 2024-10-29 16:22:46,199] Trial 57 finished with value: 0.0029774196445941925 and parameters: {'num_layers': 1, 'hidden_size': 72, 'lstm_dropout': 0.38975997175546123, 'dense_dropout': 0.001247678924223894, 'learning_rate': 0.004931058067959918}. Best is trial 36 with value: 0.001051256462233141.\n",
      "[I 2024-10-29 16:22:46,258] Trial 58 pruned. \n",
      "[I 2024-10-29 16:23:29,359] Trial 59 finished with value: 0.003010032814927399 and parameters: {'num_layers': 1, 'hidden_size': 80, 'lstm_dropout': 0.34485703719803296, 'dense_dropout': 0.07194876566688682, 'learning_rate': 0.0023951535159360527}. Best is trial 36 with value: 0.001051256462233141.\n",
      "[I 2024-10-29 16:23:29,432] Trial 60 pruned. \n",
      "[I 2024-10-29 16:23:29,568] Trial 61 pruned. \n",
      "[I 2024-10-29 16:24:10,204] Trial 62 finished with value: 0.00294659030623734 and parameters: {'num_layers': 1, 'hidden_size': 120, 'lstm_dropout': 0.31306229060331825, 'dense_dropout': 0.09120247456416943, 'learning_rate': 0.00800065102610701}. Best is trial 36 with value: 0.001051256462233141.\n",
      "[I 2024-10-29 16:24:52,269] Trial 63 finished with value: 0.0013460591435432434 and parameters: {'num_layers': 1, 'hidden_size': 16, 'lstm_dropout': 0.37499740894183575, 'dense_dropout': 0.028905948006956696, 'learning_rate': 0.016905760403364476}. Best is trial 36 with value: 0.001051256462233141.\n",
      "[I 2024-10-29 16:25:31,968] Trial 64 finished with value: 0.0020160299609415233 and parameters: {'num_layers': 1, 'hidden_size': 48, 'lstm_dropout': 0.3826130385564719, 'dense_dropout': 0.02984351678013205, 'learning_rate': 0.01624102298250357}. Best is trial 36 with value: 0.001051256462233141.\n",
      "[I 2024-10-29 16:26:15,370] Trial 65 finished with value: 0.0018181343330070376 and parameters: {'num_layers': 1, 'hidden_size': 16, 'lstm_dropout': 0.42814268083135754, 'dense_dropout': 0.013886002765854562, 'learning_rate': 0.012622062074088794}. Best is trial 36 with value: 0.001051256462233141.\n",
      "[I 2024-10-29 16:26:15,421] Trial 66 pruned. \n",
      "[I 2024-10-29 16:26:15,529] Trial 67 pruned. \n",
      "[I 2024-10-29 16:26:15,658] Trial 68 pruned. \n",
      "[I 2024-10-29 16:26:15,716] Trial 69 pruned. \n",
      "[I 2024-10-29 16:26:15,776] Trial 70 pruned. \n",
      "[I 2024-10-29 16:26:15,839] Trial 71 pruned. \n",
      "[I 2024-10-29 16:26:15,970] Trial 72 pruned. \n",
      "[I 2024-10-29 16:26:16,037] Trial 73 pruned. \n",
      "[I 2024-10-29 16:26:16,098] Trial 74 pruned. \n",
      "[I 2024-10-29 16:26:16,909] Trial 75 pruned. \n",
      "[I 2024-10-29 16:26:17,004] Trial 76 pruned. \n",
      "[I 2024-10-29 16:26:18,005] Trial 77 pruned. \n",
      "[I 2024-10-29 16:26:18,096] Trial 78 pruned. \n",
      "[I 2024-10-29 16:26:18,197] Trial 79 pruned. \n",
      "[I 2024-10-29 16:26:18,298] Trial 80 pruned. \n",
      "[I 2024-10-29 16:26:18,384] Trial 81 pruned. \n",
      "[I 2024-10-29 16:26:18,499] Trial 82 pruned. \n",
      "[I 2024-10-29 16:26:18,607] Trial 83 pruned. \n",
      "[I 2024-10-29 16:26:18,698] Trial 84 pruned. \n",
      "[I 2024-10-29 16:26:18,792] Trial 85 pruned. \n",
      "[I 2024-10-29 16:27:01,704] Trial 86 finished with value: 0.00188611721387133 and parameters: {'num_layers': 1, 'hidden_size': 112, 'lstm_dropout': 0.37729866218847896, 'dense_dropout': 0.023676323695297492, 'learning_rate': 0.005395278372535792}. Best is trial 36 with value: 0.001051256462233141.\n",
      "[I 2024-10-29 16:27:01,768] Trial 87 pruned. \n",
      "[I 2024-10-29 16:27:01,829] Trial 88 pruned. \n",
      "[I 2024-10-29 16:27:01,924] Trial 89 pruned. \n",
      "[I 2024-10-29 16:27:02,045] Trial 90 pruned. \n",
      "[I 2024-10-29 16:27:02,106] Trial 91 pruned. \n",
      "[I 2024-10-29 16:27:02,172] Trial 92 pruned. \n",
      "[I 2024-10-29 16:27:02,665] Trial 93 pruned. \n",
      "[I 2024-10-29 16:27:02,745] Trial 94 pruned. \n",
      "[I 2024-10-29 16:27:02,865] Trial 95 pruned. \n",
      "[I 2024-10-29 16:27:02,974] Trial 96 pruned. \n",
      "[I 2024-10-29 16:27:03,091] Trial 97 pruned. \n",
      "[I 2024-10-29 16:27:03,178] Trial 98 pruned. \n",
      "[I 2024-10-29 16:27:03,268] Trial 99 pruned. \n",
      "[I 2024-10-29 16:27:03,452] A new study created in memory with name: example-study\n"
     ]
    },
    {
     "name": "stdout",
     "output_type": "stream",
     "text": [
      "Study statistics: \n",
      "  Number of finished trials:  100\n",
      "  Number of pruned trials:  67\n",
      "  Number of complete trials:  33\n",
      "Best trial:\n",
      "  Value:  0.001051256462233141\n",
      "  Params: \n",
      "    num_layers: 1\n",
      "    hidden_size: 96\n",
      "    lstm_dropout: 0.33871465152957664\n",
      "    dense_dropout: 0.03359366670811949\n",
      "    learning_rate: 0.008336044667732264\n",
      "R2 for sim at Xunhua(1972-2015) 0.9914602492018506\n",
      "Warning: ARIMASimFlow column not found in data for Xunhua station, year 2017\n"
     ]
    },
    {
     "name": "stderr",
     "output_type": "stream",
     "text": [
      "[I 2024-10-29 16:27:45,446] Trial 0 finished with value: 0.00426440266892314 and parameters: {'num_layers': 1, 'hidden_size': 16, 'lstm_dropout': 0.3927079267761597, 'dense_dropout': 0.04283270681005463, 'learning_rate': 0.0001001714630368836}. Best is trial 0 with value: 0.00426440266892314.\n",
      "[I 2024-10-29 16:28:32,389] Trial 1 finished with value: 0.007515834178775549 and parameters: {'num_layers': 2, 'hidden_size': 40, 'lstm_dropout': 0.16089977234280428, 'dense_dropout': 0.3992980844147778, 'learning_rate': 0.00014921821390825676}. Best is trial 0 with value: 0.00426440266892314.\n",
      "[I 2024-10-29 16:29:15,267] Trial 2 finished with value: 0.004418775090016425 and parameters: {'num_layers': 1, 'hidden_size': 96, 'lstm_dropout': 0.2059868874584349, 'dense_dropout': 0.08206461890573896, 'learning_rate': 0.00012051549436194005}. Best is trial 0 with value: 0.00426440266892314.\n",
      "[I 2024-10-29 16:29:57,988] Trial 3 finished with value: 0.005658412119373679 and parameters: {'num_layers': 1, 'hidden_size': 24, 'lstm_dropout': 0.2942264551937933, 'dense_dropout': 0.29633154029652325, 'learning_rate': 0.01245379796778977}. Best is trial 0 with value: 0.00426440266892314.\n",
      "[I 2024-10-29 16:30:44,948] Trial 4 finished with value: 0.0035879442002624273 and parameters: {'num_layers': 3, 'hidden_size': 128, 'lstm_dropout': 0.15761571838034077, 'dense_dropout': 0.11987767394937471, 'learning_rate': 0.0005879114054511778}. Best is trial 4 with value: 0.0035879442002624273.\n",
      "[I 2024-10-29 16:31:30,621] Trial 5 finished with value: 0.003934348234906793 and parameters: {'num_layers': 2, 'hidden_size': 80, 'lstm_dropout': 0.26833484623134024, 'dense_dropout': 0.2789787813299977, 'learning_rate': 0.03610931966425499}. Best is trial 4 with value: 0.0035879442002624273.\n",
      "[I 2024-10-29 16:31:30,690] Trial 6 pruned. \n",
      "[I 2024-10-29 16:31:37,931] Trial 7 pruned. \n",
      "[I 2024-10-29 16:31:37,980] Trial 8 pruned. \n",
      "[I 2024-10-29 16:31:38,057] Trial 9 pruned. \n",
      "[I 2024-10-29 16:32:30,335] Trial 10 finished with value: 0.0037984627415426075 and parameters: {'num_layers': 3, 'hidden_size': 56, 'lstm_dropout': 0.1220050190155347, 'dense_dropout': 0.1415985596102812, 'learning_rate': 0.0019023379175381338}. Best is trial 4 with value: 0.0035879442002624273.\n",
      "[I 2024-10-29 16:33:23,701] Trial 11 finished with value: 0.003186906105838716 and parameters: {'num_layers': 3, 'hidden_size': 56, 'lstm_dropout': 0.11369222865269438, 'dense_dropout': 0.1465664904378846, 'learning_rate': 0.002202625383553895}. Best is trial 11 with value: 0.003186906105838716.\n",
      "[I 2024-10-29 16:34:16,213] Trial 12 finished with value: 0.004403917817398906 and parameters: {'num_layers': 3, 'hidden_size': 64, 'lstm_dropout': 0.11511913223919683, 'dense_dropout': 0.1570935125539918, 'learning_rate': 0.0010331821456530683}. Best is trial 11 with value: 0.003186906105838716.\n",
      "[I 2024-10-29 16:34:16,309] Trial 13 pruned. \n",
      "[I 2024-10-29 16:35:07,499] Trial 14 finished with value: 0.0035782671766355634 and parameters: {'num_layers': 3, 'hidden_size': 48, 'lstm_dropout': 0.09632244829984352, 'dense_dropout': 0.16715765743482824, 'learning_rate': 0.0044382441432041534}. Best is trial 11 with value: 0.003186906105838716.\n",
      "[I 2024-10-29 16:35:59,212] Trial 15 finished with value: 0.002710210799705237 and parameters: {'num_layers': 3, 'hidden_size': 40, 'lstm_dropout': 0.08315171251788578, 'dense_dropout': 0.22366060856397613, 'learning_rate': 0.00469489422345285}. Best is trial 15 with value: 0.002710210799705237.\n",
      "[I 2024-10-29 16:36:48,755] Trial 16 finished with value: 0.0031032671686261892 and parameters: {'num_layers': 2, 'hidden_size': 40, 'lstm_dropout': 0.07742021591419734, 'dense_dropout': 0.2070062890303356, 'learning_rate': 0.005282036721859596}. Best is trial 15 with value: 0.002710210799705237.\n",
      "[I 2024-10-29 16:37:35,229] Trial 17 finished with value: 0.005447064293548465 and parameters: {'num_layers': 2, 'hidden_size': 32, 'lstm_dropout': 0.3282469772117774, 'dense_dropout': 0.23995945166418092, 'learning_rate': 0.009511811729861772}. Best is trial 15 with value: 0.002710210799705237.\n",
      "[I 2024-10-29 16:37:35,301] Trial 18 pruned. \n",
      "[I 2024-10-29 16:37:35,438] Trial 19 pruned. \n",
      "[I 2024-10-29 16:37:35,534] Trial 20 pruned. \n",
      "[I 2024-10-29 16:37:35,632] Trial 21 pruned. \n",
      "[I 2024-10-29 16:38:31,158] Trial 22 finished with value: 0.00268768984824419 and parameters: {'num_layers': 3, 'hidden_size': 48, 'lstm_dropout': 0.14896861439450063, 'dense_dropout': 0.09717022197446315, 'learning_rate': 0.01399059351960518}. Best is trial 22 with value: 0.00268768984824419.\n",
      "[I 2024-10-29 16:39:18,577] Trial 23 finished with value: 0.003356872359290719 and parameters: {'num_layers': 2, 'hidden_size': 32, 'lstm_dropout': 0.1642179689238753, 'dense_dropout': 0.09765131629206028, 'learning_rate': 0.010566418419947763}. Best is trial 22 with value: 0.00268768984824419.\n",
      "[I 2024-10-29 16:40:11,029] Trial 24 finished with value: 0.003981271875090897 and parameters: {'num_layers': 3, 'hidden_size': 48, 'lstm_dropout': 0.064930577884773, 'dense_dropout': 0.06433745454387853, 'learning_rate': 0.01564238887794314}. Best is trial 22 with value: 0.00268768984824419.\n",
      "[I 2024-10-29 16:40:57,262] Trial 25 finished with value: 0.004205782548524439 and parameters: {'num_layers': 2, 'hidden_size': 32, 'lstm_dropout': 0.144689475532, 'dense_dropout': 0.1973658114493343, 'learning_rate': 0.005170503329485536}. Best is trial 22 with value: 0.00268768984824419.\n",
      "[I 2024-10-29 16:40:57,326] Trial 26 pruned. \n",
      "[I 2024-10-29 16:40:57,388] Trial 27 pruned. \n",
      "[I 2024-10-29 16:41:44,110] Trial 28 finished with value: 0.0028366660699248314 and parameters: {'num_layers': 2, 'hidden_size': 56, 'lstm_dropout': 0.24976202290020813, 'dense_dropout': 0.03257014337866404, 'learning_rate': 0.01953941139670607}. Best is trial 22 with value: 0.00268768984824419.\n",
      "[I 2024-10-29 16:41:44,172] Trial 29 pruned. \n",
      "[I 2024-10-29 16:41:44,245] Trial 30 pruned. \n",
      "[I 2024-10-29 16:42:30,784] Trial 31 finished with value: 0.004674546071328223 and parameters: {'num_layers': 2, 'hidden_size': 40, 'lstm_dropout': 0.3794839071241603, 'dense_dropout': 0.10932077835771727, 'learning_rate': 0.007063995314481145}. Best is trial 22 with value: 0.00268768984824419.\n",
      "[I 2024-10-29 16:42:31,270] Trial 32 pruned. \n",
      "[I 2024-10-29 16:42:31,443] Trial 33 pruned. \n",
      "[I 2024-10-29 16:43:15,282] Trial 34 finished with value: 0.0026170576456934214 and parameters: {'num_layers': 1, 'hidden_size': 40, 'lstm_dropout': 0.02931706215070018, 'dense_dropout': 0.1227498537790535, 'learning_rate': 0.014786027654679805}. Best is trial 34 with value: 0.0026170576456934214.\n",
      "[I 2024-10-29 16:44:00,097] Trial 35 finished with value: 0.0026963328709825873 and parameters: {'num_layers': 1, 'hidden_size': 48, 'lstm_dropout': 0.0316964582446374, 'dense_dropout': 0.05448131166561833, 'learning_rate': 0.016775694552489118}. Best is trial 34 with value: 0.0026170576456934214.\n",
      "[I 2024-10-29 16:44:00,544] Trial 36 pruned. \n",
      "[I 2024-10-29 16:44:44,389] Trial 37 finished with value: 0.00280736165586859 and parameters: {'num_layers': 1, 'hidden_size': 48, 'lstm_dropout': 0.02529647239325402, 'dense_dropout': 0.08433671624185698, 'learning_rate': 0.0301507281651171}. Best is trial 34 with value: 0.0026170576456934214.\n",
      "[I 2024-10-29 16:44:44,457] Trial 38 pruned. \n",
      "[I 2024-10-29 16:45:27,473] Trial 39 finished with value: 0.0037232825998216867 and parameters: {'num_layers': 1, 'hidden_size': 32, 'lstm_dropout': 0.04546710783155927, 'dense_dropout': 0.06684476732674642, 'learning_rate': 0.010347881035225735}. Best is trial 34 with value: 0.0026170576456934214.\n",
      "[I 2024-10-29 16:46:09,680] Trial 40 finished with value: 0.0027686042012646794 and parameters: {'num_layers': 1, 'hidden_size': 8, 'lstm_dropout': 0.09926882465046233, 'dense_dropout': 0.12218254365783374, 'learning_rate': 0.09673794804970626}. Best is trial 34 with value: 0.0026170576456934214.\n",
      "[I 2024-10-29 16:46:10,169] Trial 41 pruned. \n",
      "[I 2024-10-29 16:46:10,294] Trial 42 pruned. \n",
      "[I 2024-10-29 16:46:53,076] Trial 43 finished with value: 0.002604462322779 and parameters: {'num_layers': 1, 'hidden_size': 24, 'lstm_dropout': 0.04836182764171513, 'dense_dropout': 0.08850052159471121, 'learning_rate': 0.021361983164297917}. Best is trial 43 with value: 0.002604462322779.\n",
      "[I 2024-10-29 16:46:54,183] Trial 44 pruned. \n",
      "[I 2024-10-29 16:46:54,347] Trial 45 pruned. \n",
      "[I 2024-10-29 16:47:36,834] Trial 46 finished with value: 0.003354181069880724 and parameters: {'num_layers': 1, 'hidden_size': 40, 'lstm_dropout': 0.0012490025347162148, 'dense_dropout': 0.05899160865397296, 'learning_rate': 0.007566135253501802}. Best is trial 43 with value: 0.002604462322779.\n",
      "[I 2024-10-29 16:48:20,907] Trial 47 finished with value: 0.002300985681358725 and parameters: {'num_layers': 1, 'hidden_size': 24, 'lstm_dropout': 0.13120629161417807, 'dense_dropout': 0.09060595907531592, 'learning_rate': 0.015132900391851245}. Best is trial 47 with value: 0.002300985681358725.\n",
      "[I 2024-10-29 16:49:08,585] Trial 48 finished with value: 0.002527069649659097 and parameters: {'num_layers': 1, 'hidden_size': 16, 'lstm_dropout': 0.13344771374806344, 'dense_dropout': 0.09388776238091076, 'learning_rate': 0.01399621085526517}. Best is trial 47 with value: 0.002300985681358725.\n",
      "[I 2024-10-29 16:49:08,935] Trial 49 pruned. \n",
      "[I 2024-10-29 16:49:08,987] Trial 50 pruned. \n",
      "[I 2024-10-29 16:49:09,088] Trial 51 pruned. \n",
      "[I 2024-10-29 16:49:54,427] Trial 52 finished with value: 0.0032287255162373185 and parameters: {'num_layers': 1, 'hidden_size': 16, 'lstm_dropout': 0.1347703753001305, 'dense_dropout': 0.021087830771455318, 'learning_rate': 0.022792183857014224}. Best is trial 47 with value: 0.002300985681358725.\n",
      "[I 2024-10-29 16:49:56,061] Trial 53 pruned. \n",
      "[I 2024-10-29 16:50:38,513] Trial 54 finished with value: 0.0032075997442007065 and parameters: {'num_layers': 1, 'hidden_size': 16, 'lstm_dropout': 0.194374877829464, 'dense_dropout': 0.08007326229187983, 'learning_rate': 0.04241913844804408}. Best is trial 47 with value: 0.002300985681358725.\n",
      "[I 2024-10-29 16:50:38,571] Trial 55 pruned. \n",
      "[I 2024-10-29 16:51:20,511] Trial 56 finished with value: 0.0028807780472561717 and parameters: {'num_layers': 1, 'hidden_size': 48, 'lstm_dropout': 0.16113637314858453, 'dense_dropout': 0.15318239537509726, 'learning_rate': 0.008020178312833469}. Best is trial 47 with value: 0.002300985681358725.\n",
      "[I 2024-10-29 16:52:02,370] Trial 57 finished with value: 0.0028704340802505612 and parameters: {'num_layers': 1, 'hidden_size': 64, 'lstm_dropout': 0.10857222087741131, 'dense_dropout': 0.12849719305832488, 'learning_rate': 0.014893453640205152}. Best is trial 47 with value: 0.002300985681358725.\n",
      "[I 2024-10-29 16:52:02,454] Trial 58 pruned. \n",
      "[I 2024-10-29 16:52:02,623] Trial 59 pruned. \n",
      "[I 2024-10-29 16:52:02,973] Trial 60 pruned. \n",
      "[I 2024-10-29 16:52:03,337] Trial 61 pruned. \n",
      "[I 2024-10-29 16:52:03,434] Trial 62 pruned. \n",
      "[I 2024-10-29 16:52:03,542] Trial 63 pruned. \n",
      "[I 2024-10-29 16:52:03,614] Trial 64 pruned. \n",
      "[I 2024-10-29 16:52:03,695] Trial 65 pruned. \n",
      "[I 2024-10-29 16:52:03,850] Trial 66 pruned. \n",
      "[I 2024-10-29 16:52:04,840] Trial 67 pruned. \n",
      "[I 2024-10-29 16:52:04,932] Trial 68 pruned. \n",
      "[I 2024-10-29 16:52:05,025] Trial 69 pruned. \n",
      "[I 2024-10-29 16:52:05,097] Trial 70 pruned. \n",
      "[I 2024-10-29 16:52:05,169] Trial 71 pruned. \n",
      "[I 2024-10-29 16:52:05,280] Trial 72 pruned. \n",
      "[I 2024-10-29 16:52:05,384] Trial 73 pruned. \n",
      "[I 2024-10-29 16:52:05,445] Trial 74 pruned. \n",
      "[I 2024-10-29 16:52:05,521] Trial 75 pruned. \n",
      "[I 2024-10-29 16:52:05,775] Trial 76 pruned. \n",
      "[I 2024-10-29 16:52:06,423] Trial 77 pruned. \n",
      "[I 2024-10-29 16:52:07,351] Trial 78 pruned. \n",
      "[I 2024-10-29 16:52:07,407] Trial 79 pruned. \n",
      "[I 2024-10-29 16:52:07,480] Trial 80 pruned. \n",
      "[I 2024-10-29 16:52:07,558] Trial 81 pruned. \n",
      "[I 2024-10-29 16:52:07,688] Trial 82 pruned. \n",
      "[I 2024-10-29 16:52:51,685] Trial 83 finished with value: 0.002303481916896999 and parameters: {'num_layers': 1, 'hidden_size': 48, 'lstm_dropout': 0.05315420083853338, 'dense_dropout': 0.1428220356195343, 'learning_rate': 0.013271866222596436}. Best is trial 47 with value: 0.002300985681358725.\n",
      "[I 2024-10-29 16:53:34,820] Trial 84 finished with value: 0.0038095135241746902 and parameters: {'num_layers': 1, 'hidden_size': 48, 'lstm_dropout': 0.054440299896004705, 'dense_dropout': 0.14269932168771549, 'learning_rate': 0.013466264268375817}. Best is trial 47 with value: 0.002300985681358725.\n",
      "[I 2024-10-29 16:53:34,875] Trial 85 pruned. \n",
      "[I 2024-10-29 16:53:34,927] Trial 86 pruned. \n",
      "[I 2024-10-29 16:53:35,002] Trial 87 pruned. \n",
      "[I 2024-10-29 16:53:35,662] Trial 88 pruned. \n",
      "[I 2024-10-29 16:53:35,731] Trial 89 pruned. \n",
      "[I 2024-10-29 16:53:35,793] Trial 90 pruned. \n",
      "[I 2024-10-29 16:53:35,895] Trial 91 pruned. \n",
      "[I 2024-10-29 16:54:18,987] Trial 92 finished with value: 0.0029152814531698823 and parameters: {'num_layers': 1, 'hidden_size': 48, 'lstm_dropout': 0.021499237544839237, 'dense_dropout': 0.0895981586869436, 'learning_rate': 0.029124495411682147}. Best is trial 47 with value: 0.002300985681358725.\n",
      "[I 2024-10-29 16:54:19,068] Trial 93 pruned. \n",
      "[I 2024-10-29 16:54:19,157] Trial 94 pruned. \n",
      "[I 2024-10-29 16:54:20,521] Trial 95 pruned. \n",
      "[I 2024-10-29 16:54:20,614] Trial 96 pruned. \n",
      "[I 2024-10-29 16:54:20,695] Trial 97 pruned. \n",
      "[I 2024-10-29 16:54:20,753] Trial 98 pruned. \n",
      "[I 2024-10-29 16:54:21,094] Trial 99 pruned. \n",
      "[I 2024-10-29 16:54:21,253] A new study created in memory with name: example-study\n"
     ]
    },
    {
     "name": "stdout",
     "output_type": "stream",
     "text": [
      "Study statistics: \n",
      "  Number of finished trials:  100\n",
      "  Number of pruned trials:  65\n",
      "  Number of complete trials:  35\n",
      "Best trial:\n",
      "  Value:  0.002300985681358725\n",
      "  Params: \n",
      "    num_layers: 1\n",
      "    hidden_size: 24\n",
      "    lstm_dropout: 0.13120629161417807\n",
      "    dense_dropout: 0.09060595907531592\n",
      "    learning_rate: 0.015132900391851245\n",
      "R2 for sim at Xunhua(1972-2016) 0.9688751676698253\n",
      "Warning: ARIMASimFlow column not found in data for Xunhua station, year 2018\n"
     ]
    },
    {
     "name": "stderr",
     "output_type": "stream",
     "text": [
      "[I 2024-10-29 16:55:09,339] Trial 0 finished with value: 0.004443456535227597 and parameters: {'num_layers': 2, 'hidden_size': 104, 'lstm_dropout': 0.4304528192995433, 'dense_dropout': 0.2145202641673672, 'learning_rate': 0.04548005556683225}. Best is trial 0 with value: 0.004443456535227597.\n",
      "[I 2024-10-29 16:56:05,028] Trial 1 finished with value: 0.014211467001587152 and parameters: {'num_layers': 3, 'hidden_size': 16, 'lstm_dropout': 0.26601314767425127, 'dense_dropout': 0.31776717578043806, 'learning_rate': 0.08182706243987062}. Best is trial 0 with value: 0.004443456535227597.\n",
      "[I 2024-10-29 16:56:55,541] Trial 2 finished with value: 0.006931096315383911 and parameters: {'num_layers': 3, 'hidden_size': 120, 'lstm_dropout': 0.2650865405634053, 'dense_dropout': 0.4603634295140256, 'learning_rate': 0.000300929729989736}. Best is trial 0 with value: 0.004443456535227597.\n",
      "[I 2024-10-29 16:57:49,220] Trial 3 finished with value: 0.008127463981509209 and parameters: {'num_layers': 3, 'hidden_size': 48, 'lstm_dropout': 0.4157504434269426, 'dense_dropout': 0.4688248811535604, 'learning_rate': 0.00013180452563965397}. Best is trial 0 with value: 0.004443456535227597.\n",
      "[I 2024-10-29 16:58:35,881] Trial 4 finished with value: 0.004750156425870955 and parameters: {'num_layers': 2, 'hidden_size': 64, 'lstm_dropout': 0.2893326603521226, 'dense_dropout': 0.37000164889966225, 'learning_rate': 1.8318008080437418e-05}. Best is trial 0 with value: 0.004443456535227597.\n",
      "[I 2024-10-29 16:59:17,902] Trial 5 finished with value: 0.004494460765272379 and parameters: {'num_layers': 1, 'hidden_size': 72, 'lstm_dropout': 0.37592013435614013, 'dense_dropout': 0.3270457380362924, 'learning_rate': 0.00028556920522687456}. Best is trial 0 with value: 0.004443456535227597.\n",
      "[I 2024-10-29 16:59:17,964] Trial 6 pruned. \n",
      "[I 2024-10-29 17:00:04,403] Trial 7 finished with value: 0.0026982660056091845 and parameters: {'num_layers': 2, 'hidden_size': 16, 'lstm_dropout': 0.08185761590547519, 'dense_dropout': 0.006997263305019263, 'learning_rate': 0.06842751381372038}. Best is trial 7 with value: 0.0026982660056091845.\n",
      "[I 2024-10-29 17:00:45,823] Trial 8 finished with value: 0.0018078180437441915 and parameters: {'num_layers': 2, 'hidden_size': 88, 'lstm_dropout': 0.2302614027147396, 'dense_dropout': 0.039267103516137214, 'learning_rate': 0.013109082536760183}. Best is trial 8 with value: 0.0018078180437441915.\n",
      "[I 2024-10-29 17:00:45,984] Trial 9 pruned. \n",
      "[I 2024-10-29 17:01:28,125] Trial 10 finished with value: 0.003204467589966953 and parameters: {'num_layers': 1, 'hidden_size': 96, 'lstm_dropout': 0.015289827110891607, 'dense_dropout': 0.1655938472617285, 'learning_rate': 0.005724762431280098}. Best is trial 8 with value: 0.0018078180437441915.\n",
      "[I 2024-10-29 17:02:14,657] Trial 11 finished with value: 0.004259422537870705 and parameters: {'num_layers': 2, 'hidden_size': 48, 'lstm_dropout': 0.044297868869645374, 'dense_dropout': 0.008033521372646788, 'learning_rate': 0.01012290276752238}. Best is trial 8 with value: 0.0018078180437441915.\n",
      "[I 2024-10-29 17:03:00,465] Trial 12 finished with value: 0.0030738195637241006 and parameters: {'num_layers': 2, 'hidden_size': 80, 'lstm_dropout': 0.13074471115966746, 'dense_dropout': 0.0012377889881238155, 'learning_rate': 0.005031612477736826}. Best is trial 8 with value: 0.0018078180437441915.\n",
      "[I 2024-10-29 17:03:00,545] Trial 13 pruned. \n",
      "[I 2024-10-29 17:03:47,489] Trial 14 finished with value: 0.0033373181940987706 and parameters: {'num_layers': 2, 'hidden_size': 88, 'lstm_dropout': 0.1978810580352845, 'dense_dropout': 0.06741686455708987, 'learning_rate': 0.0014739296876329715}. Best is trial 8 with value: 0.0018078180437441915.\n",
      "[I 2024-10-29 17:03:47,555] Trial 15 pruned. \n",
      "[I 2024-10-29 17:03:47,628] Trial 16 pruned. \n",
      "[I 2024-10-29 17:03:47,699] Trial 17 pruned. \n",
      "[I 2024-10-29 17:03:47,761] Trial 18 pruned. \n",
      "[I 2024-10-29 17:03:47,892] Trial 19 pruned. \n",
      "[I 2024-10-29 17:04:37,336] Trial 20 finished with value: 0.0041981270769611 and parameters: {'num_layers': 2, 'hidden_size': 32, 'lstm_dropout': 0.21938425606393558, 'dense_dropout': 0.28392044845341124, 'learning_rate': 0.027235447653608906}. Best is trial 8 with value: 0.0018078180437441915.\n",
      "[I 2024-10-29 17:04:37,428] Trial 21 pruned. \n",
      "[I 2024-10-29 17:04:37,538] Trial 22 pruned. \n",
      "[I 2024-10-29 17:05:23,415] Trial 23 finished with value: 0.0031578736379742622 and parameters: {'num_layers': 2, 'hidden_size': 72, 'lstm_dropout': 0.07644708447775356, 'dense_dropout': 0.027585346445271736, 'learning_rate': 0.01669376628653601}. Best is trial 8 with value: 0.0018078180437441915.\n",
      "[I 2024-10-29 17:05:23,503] Trial 24 pruned. \n",
      "[I 2024-10-29 17:05:23,683] Trial 25 pruned. \n",
      "[I 2024-10-29 17:05:23,822] Trial 26 pruned. \n",
      "[I 2024-10-29 17:06:05,016] Trial 27 finished with value: 0.002311783144250512 and parameters: {'num_layers': 2, 'hidden_size': 104, 'lstm_dropout': 0.015088606850926514, 'dense_dropout': 0.12009328242332787, 'learning_rate': 0.00725579709704358}. Best is trial 8 with value: 0.0018078180437441915.\n",
      "[I 2024-10-29 17:06:05,154] Trial 28 pruned. \n",
      "[I 2024-10-29 17:06:05,219] Trial 29 pruned. \n",
      "[I 2024-10-29 17:06:05,279] Trial 30 pruned. \n",
      "[I 2024-10-29 17:06:05,395] Trial 31 pruned. \n",
      "[I 2024-10-29 17:06:49,517] Trial 32 finished with value: 0.0026435049949213862 and parameters: {'num_layers': 2, 'hidden_size': 96, 'lstm_dropout': 0.012331155824651163, 'dense_dropout': 0.025579016393361177, 'learning_rate': 0.006423815358307191}. Best is trial 8 with value: 0.0018078180437441915.\n",
      "[I 2024-10-29 17:06:49,628] Trial 33 pruned. \n",
      "[I 2024-10-29 17:06:49,701] Trial 34 pruned. \n",
      "[I 2024-10-29 17:06:49,775] Trial 35 pruned. \n",
      "[I 2024-10-29 17:06:49,854] Trial 36 pruned. \n",
      "[I 2024-10-29 17:07:32,880] Trial 37 finished with value: 0.002431243658065796 and parameters: {'num_layers': 2, 'hidden_size': 128, 'lstm_dropout': 0.03350480301840968, 'dense_dropout': 0.2081260599672906, 'learning_rate': 0.007593618173198764}. Best is trial 8 with value: 0.0018078180437441915.\n",
      "[I 2024-10-29 17:08:14,856] Trial 38 finished with value: 0.0020075858337804675 and parameters: {'num_layers': 1, 'hidden_size': 120, 'lstm_dropout': 0.3995466224262909, 'dense_dropout': 0.24271690297674386, 'learning_rate': 0.0022852666827313027}. Best is trial 8 with value: 0.0018078180437441915.\n",
      "[I 2024-10-29 17:08:14,957] Trial 39 pruned. \n",
      "[I 2024-10-29 17:08:15,019] Trial 40 pruned. \n",
      "[I 2024-10-29 17:08:55,073] Trial 41 finished with value: 0.001760951359756291 and parameters: {'num_layers': 1, 'hidden_size': 128, 'lstm_dropout': 0.4610238153801385, 'dense_dropout': 0.20696389781425048, 'learning_rate': 0.00772079903988723}. Best is trial 41 with value: 0.001760951359756291.\n",
      "[I 2024-10-29 17:08:55,209] Trial 42 pruned. \n",
      "[I 2024-10-29 17:08:55,298] Trial 43 pruned. \n",
      "[I 2024-10-29 17:09:00,977] Trial 44 pruned. \n",
      "[I 2024-10-29 17:09:01,133] Trial 45 pruned. \n",
      "[I 2024-10-29 17:09:06,975] Trial 46 pruned. \n",
      "[I 2024-10-29 17:09:49,781] Trial 47 finished with value: 0.0017146918107755482 and parameters: {'num_layers': 1, 'hidden_size': 112, 'lstm_dropout': 0.44909897977233487, 'dense_dropout': 0.14687893693953827, 'learning_rate': 0.012572113657889612}. Best is trial 47 with value: 0.0017146918107755482.\n",
      "[I 2024-10-29 17:09:49,844] Trial 48 pruned. \n",
      "[I 2024-10-29 17:10:31,539] Trial 49 finished with value: 0.0021436598617583513 and parameters: {'num_layers': 1, 'hidden_size': 112, 'lstm_dropout': 0.4565743633922213, 'dense_dropout': 0.2655766015427937, 'learning_rate': 0.0155601531728077}. Best is trial 47 with value: 0.0017146918107755482.\n",
      "[I 2024-10-29 17:10:31,647] Trial 50 pruned. \n",
      "[I 2024-10-29 17:11:13,394] Trial 51 finished with value: 0.0033717985497787595 and parameters: {'num_layers': 1, 'hidden_size': 112, 'lstm_dropout': 0.4953433794736417, 'dense_dropout': 0.26300498555450225, 'learning_rate': 0.011558496198211884}. Best is trial 47 with value: 0.0017146918107755482.\n",
      "[I 2024-10-29 17:11:15,790] Trial 52 pruned. \n",
      "[I 2024-10-29 17:11:15,872] Trial 53 pruned. \n",
      "[I 2024-10-29 17:11:15,952] Trial 54 pruned. \n",
      "[I 2024-10-29 17:11:16,032] Trial 55 pruned. \n",
      "[I 2024-10-29 17:11:52,114] Trial 56 finished with value: 0.0029501449316740036 and parameters: {'num_layers': 1, 'hidden_size': 88, 'lstm_dropout': 0.3534024495719021, 'dense_dropout': 0.10533252768991619, 'learning_rate': 0.005137045222063623}. Best is trial 47 with value: 0.0017146918107755482.\n",
      "[I 2024-10-29 17:11:52,172] Trial 57 pruned. \n",
      "[I 2024-10-29 17:11:52,231] Trial 58 pruned. \n",
      "[I 2024-10-29 17:11:52,296] Trial 59 pruned. \n",
      "[I 2024-10-29 17:11:52,382] Trial 60 pruned. \n",
      "[I 2024-10-29 17:11:52,455] Trial 61 pruned. \n",
      "[I 2024-10-29 17:11:52,520] Trial 62 pruned. \n",
      "[I 2024-10-29 17:11:52,587] Trial 63 pruned. \n",
      "[I 2024-10-29 17:11:52,663] Trial 64 pruned. \n",
      "[I 2024-10-29 17:11:52,728] Trial 65 pruned. \n",
      "[I 2024-10-29 17:11:56,457] Trial 66 pruned. \n",
      "[I 2024-10-29 17:11:56,525] Trial 67 pruned. \n",
      "[I 2024-10-29 17:12:01,241] Trial 68 pruned. \n",
      "[I 2024-10-29 17:12:01,319] Trial 69 pruned. \n",
      "[I 2024-10-29 17:12:01,391] Trial 70 pruned. \n",
      "[I 2024-10-29 17:12:01,494] Trial 71 pruned. \n",
      "[I 2024-10-29 17:12:40,732] Trial 72 finished with value: 0.00232597638387233 and parameters: {'num_layers': 2, 'hidden_size': 88, 'lstm_dropout': 0.06374234442143302, 'dense_dropout': 0.23417147802686417, 'learning_rate': 0.011782600539862501}. Best is trial 47 with value: 0.0017146918107755482.\n",
      "[I 2024-10-29 17:12:40,794] Trial 73 pruned. \n",
      "[I 2024-10-29 17:12:40,849] Trial 74 pruned. \n",
      "[I 2024-10-29 17:12:40,911] Trial 75 pruned. \n",
      "[I 2024-10-29 17:12:40,969] Trial 76 pruned. \n",
      "[I 2024-10-29 17:12:41,065] Trial 77 pruned. \n",
      "[I 2024-10-29 17:13:18,230] Trial 78 finished with value: 0.0025146357947960496 and parameters: {'num_layers': 2, 'hidden_size': 72, 'lstm_dropout': 0.11725380719895098, 'dense_dropout': 0.20108718594739516, 'learning_rate': 0.003163061023587111}. Best is trial 47 with value: 0.0017146918107755482.\n",
      "[I 2024-10-29 17:13:18,277] Trial 79 pruned. \n",
      "[I 2024-10-29 17:13:54,556] Trial 80 finished with value: 0.0034219364752061665 and parameters: {'num_layers': 2, 'hidden_size': 88, 'lstm_dropout': 0.44212961684673757, 'dense_dropout': 0.2665734660393718, 'learning_rate': 0.005364528957794441}. Best is trial 47 with value: 0.0017146918107755482.\n",
      "[I 2024-10-29 17:13:54,608] Trial 81 pruned. \n",
      "[I 2024-10-29 17:14:37,464] Trial 82 finished with value: 0.001983669411856681 and parameters: {'num_layers': 2, 'hidden_size': 72, 'lstm_dropout': 0.036312405207932996, 'dense_dropout': 0.1953251215763008, 'learning_rate': 0.009111023352456511}. Best is trial 47 with value: 0.0017146918107755482.\n",
      "[I 2024-10-29 17:14:37,525] Trial 83 pruned. \n",
      "[I 2024-10-29 17:14:37,635] Trial 84 pruned. \n",
      "[I 2024-10-29 17:14:37,738] Trial 85 pruned. \n",
      "[I 2024-10-29 17:15:25,067] Trial 86 finished with value: 0.0025697170640341938 and parameters: {'num_layers': 2, 'hidden_size': 80, 'lstm_dropout': 0.47220593288683055, 'dense_dropout': 0.19123047206122384, 'learning_rate': 0.004072186662924041}. Best is trial 47 with value: 0.0017146918107755482.\n",
      "[I 2024-10-29 17:15:25,123] Trial 87 pruned. \n",
      "[I 2024-10-29 17:15:25,179] Trial 88 pruned. \n",
      "[I 2024-10-29 17:16:04,225] Trial 89 finished with value: 0.003908492159098387 and parameters: {'num_layers': 1, 'hidden_size': 64, 'lstm_dropout': 0.4241943289244664, 'dense_dropout': 0.11271189294931674, 'learning_rate': 0.005828112376459942}. Best is trial 47 with value: 0.0017146918107755482.\n",
      "[I 2024-10-29 17:16:04,295] Trial 90 pruned. \n",
      "[I 2024-10-29 17:16:04,364] Trial 91 pruned. \n",
      "[I 2024-10-29 17:16:04,438] Trial 92 pruned. \n",
      "[I 2024-10-29 17:16:48,137] Trial 93 finished with value: 0.0020859285723417997 and parameters: {'num_layers': 2, 'hidden_size': 72, 'lstm_dropout': 0.0550762778312775, 'dense_dropout': 0.21616234282035407, 'learning_rate': 0.004485725727670713}. Best is trial 47 with value: 0.0017146918107755482.\n",
      "[I 2024-10-29 17:16:48,193] Trial 94 pruned. \n",
      "[I 2024-10-29 17:16:48,294] Trial 95 pruned. \n",
      "[I 2024-10-29 17:16:48,356] Trial 96 pruned. \n",
      "[I 2024-10-29 17:17:25,712] Trial 97 finished with value: 0.002930685121100396 and parameters: {'num_layers': 1, 'hidden_size': 120, 'lstm_dropout': 0.038471308015287024, 'dense_dropout': 0.24221686630891728, 'learning_rate': 0.0072360928243340025}. Best is trial 47 with value: 0.0017146918107755482.\n",
      "[I 2024-10-29 17:17:26,599] Trial 98 pruned. \n",
      "[I 2024-10-29 17:17:26,660] Trial 99 pruned. \n",
      "[I 2024-10-29 17:17:26,775] A new study created in memory with name: example-study\n"
     ]
    },
    {
     "name": "stdout",
     "output_type": "stream",
     "text": [
      "Study statistics: \n",
      "  Number of finished trials:  100\n",
      "  Number of pruned trials:  69\n",
      "  Number of complete trials:  31\n",
      "Best trial:\n",
      "  Value:  0.0017146918107755482\n",
      "  Params: \n",
      "    num_layers: 1\n",
      "    hidden_size: 112\n",
      "    lstm_dropout: 0.44909897977233487\n",
      "    dense_dropout: 0.14687893693953827\n",
      "    learning_rate: 0.012572113657889612\n",
      "R2 for sim at Xunhua(1972-2017) 0.9538845882290177\n",
      "Warning: ARIMASimFlow column not found in data for Xunhua station, year 2019\n"
     ]
    },
    {
     "name": "stderr",
     "output_type": "stream",
     "text": [
      "[I 2024-10-29 17:18:14,247] Trial 0 finished with value: 0.004815324558876455 and parameters: {'num_layers': 2, 'hidden_size': 88, 'lstm_dropout': 0.2278988286119426, 'dense_dropout': 0.3450567889412119, 'learning_rate': 0.0476743657117066}. Best is trial 0 with value: 0.004815324558876455.\n",
      "[I 2024-10-29 17:18:58,069] Trial 1 finished with value: 0.005404074210673571 and parameters: {'num_layers': 2, 'hidden_size': 80, 'lstm_dropout': 0.20267760106223393, 'dense_dropout': 0.013904744177716089, 'learning_rate': 5.173767723929824e-05}. Best is trial 0 with value: 0.004815324558876455.\n",
      "[I 2024-10-29 17:19:48,609] Trial 2 finished with value: 0.005569370114244521 and parameters: {'num_layers': 3, 'hidden_size': 104, 'lstm_dropout': 0.2549482368858819, 'dense_dropout': 0.3144876668370799, 'learning_rate': 1.909282043858444e-05}. Best is trial 0 with value: 0.004815324558876455.\n",
      "[I 2024-10-29 17:20:35,095] Trial 3 finished with value: 0.005210581934079528 and parameters: {'num_layers': 2, 'hidden_size': 32, 'lstm_dropout': 0.4755102341694704, 'dense_dropout': 0.01855863990131812, 'learning_rate': 0.00023212082918242654}. Best is trial 0 with value: 0.004815324558876455.\n",
      "[I 2024-10-29 17:21:18,217] Trial 4 finished with value: 0.005006469087675214 and parameters: {'num_layers': 1, 'hidden_size': 56, 'lstm_dropout': 0.29577078973818904, 'dense_dropout': 0.10591064639461623, 'learning_rate': 2.368313312869781e-05}. Best is trial 0 with value: 0.004815324558876455.\n",
      "[I 2024-10-29 17:22:01,927] Trial 5 finished with value: 0.003482063999399543 and parameters: {'num_layers': 1, 'hidden_size': 32, 'lstm_dropout': 0.2474297875137484, 'dense_dropout': 0.16412995207561565, 'learning_rate': 0.002109811259642481}. Best is trial 5 with value: 0.003482063999399543.\n",
      "[I 2024-10-29 17:22:02,015] Trial 6 pruned. \n",
      "[I 2024-10-29 17:22:52,695] Trial 7 finished with value: 0.004741751356050372 and parameters: {'num_layers': 2, 'hidden_size': 104, 'lstm_dropout': 0.06768089751143547, 'dense_dropout': 0.3321200659054773, 'learning_rate': 0.02184447430130547}. Best is trial 5 with value: 0.003482063999399543.\n",
      "[I 2024-10-29 17:23:49,345] Trial 8 finished with value: 0.003102752845734358 and parameters: {'num_layers': 3, 'hidden_size': 128, 'lstm_dropout': 0.22626700826171792, 'dense_dropout': 0.08736152205009828, 'learning_rate': 0.002553114390835965}. Best is trial 8 with value: 0.003102752845734358.\n",
      "[I 2024-10-29 17:23:49,407] Trial 9 pruned. \n",
      "[I 2024-10-29 17:23:49,494] Trial 10 pruned. \n",
      "[I 2024-10-29 17:24:35,936] Trial 11 finished with value: 0.003185779321938753 and parameters: {'num_layers': 1, 'hidden_size': 16, 'lstm_dropout': 0.33902120071814096, 'dense_dropout': 0.16442301903682427, 'learning_rate': 0.0019586656442390844}. Best is trial 8 with value: 0.003102752845734358.\n",
      "[I 2024-10-29 17:24:35,994] Trial 12 pruned. \n",
      "[I 2024-10-29 17:24:36,065] Trial 13 pruned. \n",
      "[I 2024-10-29 17:25:22,803] Trial 14 finished with value: 0.0027120799059048295 and parameters: {'num_layers': 1, 'hidden_size': 40, 'lstm_dropout': 0.46060518971450587, 'dense_dropout': 0.23992478496818537, 'learning_rate': 0.0015863830382434499}. Best is trial 14 with value: 0.0027120799059048295.\n",
      "[I 2024-10-29 17:26:20,099] Trial 15 finished with value: 0.024243543855845928 and parameters: {'num_layers': 3, 'hidden_size': 48, 'lstm_dropout': 0.4732316651161074, 'dense_dropout': 0.25229261974002576, 'learning_rate': 0.011082065638273918}. Best is trial 14 with value: 0.0027120799059048295.\n",
      "[I 2024-10-29 17:26:20,276] Trial 16 pruned. \n",
      "[I 2024-10-29 17:26:20,515] Trial 17 pruned. \n",
      "[I 2024-10-29 17:26:21,004] Trial 18 pruned. \n",
      "[I 2024-10-29 17:26:21,082] Trial 19 pruned. \n",
      "[I 2024-10-29 17:27:11,754] Trial 20 finished with value: 0.004462089855223894 and parameters: {'num_layers': 2, 'hidden_size': 88, 'lstm_dropout': 0.418416685097645, 'dense_dropout': 0.2823828107745616, 'learning_rate': 0.0043663446169450665}. Best is trial 14 with value: 0.0027120799059048295.\n",
      "[I 2024-10-29 17:27:56,587] Trial 21 finished with value: 0.002759756287559867 and parameters: {'num_layers': 1, 'hidden_size': 24, 'lstm_dropout': 0.3207535934562503, 'dense_dropout': 0.1862763153980594, 'learning_rate': 0.0018933850848052698}. Best is trial 14 with value: 0.0027120799059048295.\n",
      "[I 2024-10-29 17:27:56,665] Trial 22 pruned. \n",
      "[I 2024-10-29 17:28:42,050] Trial 23 finished with value: 0.0036407328443601727 and parameters: {'num_layers': 1, 'hidden_size': 48, 'lstm_dropout': 0.48645834818831657, 'dense_dropout': 0.21062095590117919, 'learning_rate': 0.014184041429779626}. Best is trial 14 with value: 0.0027120799059048295.\n",
      "[I 2024-10-29 17:28:42,735] Trial 24 pruned. \n",
      "[I 2024-10-29 17:28:49,543] Trial 25 pruned. \n",
      "[I 2024-10-29 17:28:49,607] Trial 26 pruned. \n",
      "[I 2024-10-29 17:28:49,761] Trial 27 pruned. \n",
      "[I 2024-10-29 17:29:34,203] Trial 28 finished with value: 0.003211451228708029 and parameters: {'num_layers': 1, 'hidden_size': 72, 'lstm_dropout': 0.3206274973823504, 'dense_dropout': 0.13923777187451722, 'learning_rate': 0.02520990366471588}. Best is trial 14 with value: 0.0027120799059048295.\n",
      "[I 2024-10-29 17:29:34,281] Trial 29 pruned. \n",
      "[I 2024-10-29 17:29:44,410] Trial 30 pruned. \n",
      "[I 2024-10-29 17:29:44,528] Trial 31 pruned. \n",
      "[I 2024-10-29 17:29:44,632] Trial 32 pruned. \n",
      "[I 2024-10-29 17:30:28,230] Trial 33 finished with value: 0.004439217736944556 and parameters: {'num_layers': 1, 'hidden_size': 16, 'lstm_dropout': 0.4484775886298395, 'dense_dropout': 0.10454663574921835, 'learning_rate': 0.0027820025773473483}. Best is trial 14 with value: 0.0027120799059048295.\n",
      "[I 2024-10-29 17:30:28,303] Trial 34 pruned. \n",
      "[I 2024-10-29 17:30:28,379] Trial 35 pruned. \n",
      "[I 2024-10-29 17:30:29,361] Trial 36 pruned. \n",
      "[I 2024-10-29 17:30:29,423] Trial 37 pruned. \n",
      "[I 2024-10-29 17:30:29,480] Trial 38 pruned. \n",
      "[I 2024-10-29 17:31:19,089] Trial 39 finished with value: 0.0028127534314990044 and parameters: {'num_layers': 2, 'hidden_size': 24, 'lstm_dropout': 0.3022484753098278, 'dense_dropout': 0.14464014724217705, 'learning_rate': 0.029133759488289827}. Best is trial 14 with value: 0.0027120799059048295.\n",
      "[I 2024-10-29 17:31:19,162] Trial 40 pruned. \n",
      "[I 2024-10-29 17:31:19,228] Trial 41 pruned. \n",
      "[I 2024-10-29 17:32:09,063] Trial 42 finished with value: 0.003599531017243862 and parameters: {'num_layers': 2, 'hidden_size': 16, 'lstm_dropout': 0.25296323150396505, 'dense_dropout': 0.2296642676596824, 'learning_rate': 0.022807611822534647}. Best is trial 14 with value: 0.0027120799059048295.\n",
      "[I 2024-10-29 17:32:09,137] Trial 43 pruned. \n",
      "[I 2024-10-29 17:32:09,243] Trial 44 pruned. \n",
      "[I 2024-10-29 17:32:09,340] Trial 45 pruned. \n",
      "[I 2024-10-29 17:32:09,433] Trial 46 pruned. \n",
      "[I 2024-10-29 17:32:09,543] Trial 47 pruned. \n",
      "[I 2024-10-29 17:32:09,662] Trial 48 pruned. \n",
      "[I 2024-10-29 17:32:09,784] Trial 49 pruned. \n",
      "[I 2024-10-29 17:32:09,963] Trial 50 pruned. \n",
      "[I 2024-10-29 17:32:10,071] Trial 51 pruned. \n",
      "[I 2024-10-29 17:32:10,161] Trial 52 pruned. \n",
      "[I 2024-10-29 17:32:10,237] Trial 53 pruned. \n",
      "[I 2024-10-29 17:32:54,896] Trial 54 finished with value: 0.004599954932928085 and parameters: {'num_layers': 1, 'hidden_size': 64, 'lstm_dropout': 0.288970461116605, 'dense_dropout': 0.1922111101708227, 'learning_rate': 0.01643159115283742}. Best is trial 14 with value: 0.0027120799059048295.\n",
      "[I 2024-10-29 17:32:54,952] Trial 55 pruned. \n",
      "[I 2024-10-29 17:32:55,060] Trial 56 pruned. \n",
      "[I 2024-10-29 17:33:40,482] Trial 57 finished with value: 0.0029386893147602677 and parameters: {'num_layers': 1, 'hidden_size': 72, 'lstm_dropout': 0.39936798616176317, 'dense_dropout': 0.2184421825982452, 'learning_rate': 0.009824817035124332}. Best is trial 14 with value: 0.0027120799059048295.\n",
      "[I 2024-10-29 17:33:41,129] Trial 58 pruned. \n",
      "[I 2024-10-29 17:33:41,234] Trial 59 pruned. \n",
      "[I 2024-10-29 17:34:26,148] Trial 60 finished with value: 0.0038742059841752052 and parameters: {'num_layers': 1, 'hidden_size': 40, 'lstm_dropout': 0.468667482764609, 'dense_dropout': 0.21330461646488902, 'learning_rate': 0.008884794428070417}. Best is trial 14 with value: 0.0027120799059048295.\n",
      "[I 2024-10-29 17:34:26,247] Trial 61 pruned. \n",
      "[I 2024-10-29 17:35:10,107] Trial 62 finished with value: 0.003079048590734601 and parameters: {'num_layers': 1, 'hidden_size': 72, 'lstm_dropout': 0.4253737948232434, 'dense_dropout': 0.14203240719111643, 'learning_rate': 0.01719159951973721}. Best is trial 14 with value: 0.0027120799059048295.\n",
      "[I 2024-10-29 17:35:10,273] Trial 63 pruned. \n",
      "[I 2024-10-29 17:35:19,858] Trial 64 pruned. \n",
      "[I 2024-10-29 17:36:04,115] Trial 65 finished with value: 0.004043392604216933 and parameters: {'num_layers': 1, 'hidden_size': 64, 'lstm_dropout': 0.42746961458881316, 'dense_dropout': 0.2275459632212478, 'learning_rate': 0.011821850219419658}. Best is trial 14 with value: 0.0027120799059048295.\n",
      "[I 2024-10-29 17:36:04,222] Trial 66 pruned. \n",
      "[I 2024-10-29 17:36:04,285] Trial 67 pruned. \n",
      "[I 2024-10-29 17:36:04,357] Trial 68 pruned. \n",
      "[I 2024-10-29 17:36:05,111] Trial 69 pruned. \n",
      "[I 2024-10-29 17:36:05,173] Trial 70 pruned. \n",
      "[I 2024-10-29 17:36:05,247] Trial 71 pruned. \n",
      "[I 2024-10-29 17:36:05,335] Trial 72 pruned. \n",
      "[I 2024-10-29 17:36:50,923] Trial 73 finished with value: 0.0050911835860461 and parameters: {'num_layers': 1, 'hidden_size': 16, 'lstm_dropout': 0.34034027515791065, 'dense_dropout': 0.11233801049919039, 'learning_rate': 0.01852780353416779}. Best is trial 14 with value: 0.0027120799059048295.\n",
      "[I 2024-10-29 17:36:51,598] Trial 74 pruned. \n",
      "[I 2024-10-29 17:37:35,401] Trial 75 finished with value: 0.0034323480213060975 and parameters: {'num_layers': 1, 'hidden_size': 80, 'lstm_dropout': 0.2865077138671399, 'dense_dropout': 0.19569649259703173, 'learning_rate': 0.0048109867470171345}. Best is trial 14 with value: 0.0027120799059048295.\n",
      "[I 2024-10-29 17:38:24,378] Trial 76 finished with value: 0.0033639241009950638 and parameters: {'num_layers': 2, 'hidden_size': 24, 'lstm_dropout': 0.21606107510530342, 'dense_dropout': 0.17644173409170982, 'learning_rate': 0.01223853268567793}. Best is trial 14 with value: 0.0027120799059048295.\n",
      "[I 2024-10-29 17:38:24,493] Trial 77 pruned. \n",
      "[I 2024-10-29 17:38:24,557] Trial 78 pruned. \n",
      "[I 2024-10-29 17:38:24,616] Trial 79 pruned. \n",
      "[I 2024-10-29 17:38:24,682] Trial 80 pruned. \n",
      "[I 2024-10-29 17:38:24,795] Trial 81 pruned. \n",
      "[I 2024-10-29 17:38:24,906] Trial 82 pruned. \n",
      "[I 2024-10-29 17:39:15,685] Trial 83 finished with value: 0.0038018571212887764 and parameters: {'num_layers': 2, 'hidden_size': 24, 'lstm_dropout': 0.2500047900036516, 'dense_dropout': 0.1816929467857885, 'learning_rate': 0.010330323758596459}. Best is trial 14 with value: 0.0027120799059048295.\n",
      "[I 2024-10-29 17:39:15,748] Trial 84 pruned. \n",
      "[I 2024-10-29 17:39:15,817] Trial 85 pruned. \n",
      "[I 2024-10-29 17:40:00,559] Trial 86 finished with value: 0.004668650100938976 and parameters: {'num_layers': 1, 'hidden_size': 32, 'lstm_dropout': 0.23532231399604098, 'dense_dropout': 0.13930868118697481, 'learning_rate': 0.005428225783948283}. Best is trial 14 with value: 0.0027120799059048295.\n",
      "[I 2024-10-29 17:40:00,802] Trial 87 pruned. \n",
      "[I 2024-10-29 17:40:00,929] Trial 88 pruned. \n",
      "[I 2024-10-29 17:40:51,009] Trial 89 finished with value: 0.005400934023782611 and parameters: {'num_layers': 2, 'hidden_size': 80, 'lstm_dropout': 0.49844508336962634, 'dense_dropout': 0.16208496991379498, 'learning_rate': 0.014103646777260295}. Best is trial 14 with value: 0.0027120799059048295.\n",
      "[I 2024-10-29 17:40:51,085] Trial 90 pruned. \n",
      "[I 2024-10-29 17:41:34,486] Trial 91 finished with value: 0.004387083696201444 and parameters: {'num_layers': 1, 'hidden_size': 80, 'lstm_dropout': 0.28298763876881694, 'dense_dropout': 0.18784581224752367, 'learning_rate': 0.0039035138852102835}. Best is trial 14 with value: 0.0027120799059048295.\n",
      "[I 2024-10-29 17:41:35,202] Trial 92 pruned. \n",
      "[I 2024-10-29 17:41:35,347] Trial 93 pruned. \n",
      "[I 2024-10-29 17:41:35,409] Trial 94 pruned. \n",
      "[I 2024-10-29 17:41:35,967] Trial 95 pruned. \n",
      "[I 2024-10-29 17:41:36,123] Trial 96 pruned. \n",
      "[I 2024-10-29 17:41:36,437] Trial 97 pruned. \n",
      "[I 2024-10-29 17:41:36,518] Trial 98 pruned. \n",
      "[I 2024-10-29 17:41:36,681] Trial 99 pruned. \n"
     ]
    },
    {
     "name": "stdout",
     "output_type": "stream",
     "text": [
      "Study statistics: \n",
      "  Number of finished trials:  100\n",
      "  Number of pruned trials:  70\n",
      "  Number of complete trials:  30\n",
      "Best trial:\n",
      "  Value:  0.0027120799059048295\n",
      "  Params: \n",
      "    num_layers: 1\n",
      "    hidden_size: 40\n",
      "    lstm_dropout: 0.46060518971450587\n",
      "    dense_dropout: 0.23992478496818537\n",
      "    learning_rate: 0.0015863830382434499\n",
      "R2 for sim at Xunhua(1972-2018) 0.8902277837139141\n",
      "R2 for pred at Xunhua(2015-2019) -0.013836092512255593\n"
     ]
    },
    {
     "data": {
      "application/vnd.plotly.v1+json": {
       "config": {
        "plotlyServerURL": "https://plot.ly"
       },
       "data": [
        {
         "mode": "lines",
         "name": "obs",
         "type": "scatter",
         "x": [
          "2015-01-01T00:00:00",
          "2015-02-01T00:00:00",
          "2015-03-01T00:00:00",
          "2015-04-01T00:00:00",
          "2015-05-01T00:00:00",
          "2015-06-01T00:00:00",
          "2015-07-01T00:00:00",
          "2015-08-01T00:00:00",
          "2015-09-01T00:00:00",
          "2015-10-01T00:00:00",
          "2015-11-01T00:00:00",
          "2015-12-01T00:00:00",
          "2016-01-01T00:00:00",
          "2016-02-01T00:00:00",
          "2016-03-01T00:00:00",
          "2016-04-01T00:00:00",
          "2016-05-01T00:00:00",
          "2016-06-01T00:00:00",
          "2016-07-01T00:00:00",
          "2016-08-01T00:00:00",
          "2016-09-01T00:00:00",
          "2016-10-01T00:00:00",
          "2016-11-01T00:00:00",
          "2016-12-01T00:00:00",
          "2017-01-01T00:00:00",
          "2017-02-01T00:00:00",
          "2017-03-01T00:00:00",
          "2017-04-01T00:00:00",
          "2017-05-01T00:00:00",
          "2017-06-01T00:00:00",
          "2017-07-01T00:00:00",
          "2017-08-01T00:00:00",
          "2017-09-01T00:00:00",
          "2017-10-01T00:00:00",
          "2017-11-01T00:00:00",
          "2017-12-01T00:00:00",
          "2018-01-01T00:00:00",
          "2018-02-01T00:00:00",
          "2018-03-01T00:00:00",
          "2018-04-01T00:00:00",
          "2018-05-01T00:00:00",
          "2018-06-01T00:00:00",
          "2018-07-01T00:00:00",
          "2018-08-01T00:00:00",
          "2018-09-01T00:00:00",
          "2018-10-01T00:00:00",
          "2018-11-01T00:00:00",
          "2018-12-01T00:00:00",
          "2019-01-01T00:00:00",
          "2019-02-01T00:00:00",
          "2019-03-01T00:00:00",
          "2019-04-01T00:00:00",
          "2019-05-01T00:00:00",
          "2019-06-01T00:00:00",
          "2019-07-01T00:00:00",
          "2019-08-01T00:00:00",
          "2019-09-01T00:00:00",
          "2019-10-01T00:00:00",
          "2019-11-01T00:00:00",
          "2019-12-01T00:00:00"
         ],
         "y": [
          233.72097778320315,
          210.4733886718748,
          237.33145141601537,
          260.23986816406244,
          300.58926391601545,
          746.3971557617185,
          1308.9274902343748,
          585.9125366210935,
          622.9486083984374,
          750.492248535156,
          409.0270690917968,
          239.57038879394517,
          159.8075561523434,
          151.5609436035156,
          201.71928405761716,
          298.9651794433592,
          473.18597412109364,
          672.2758178710936,
          734.846923828125,
          610.1930541992185,
          669.5579223632809,
          812.0487060546874,
          456.99038696289057,
          254.48411560058594,
          175.43865966796847,
          184.34480285644517,
          212.40403747558588,
          288.9980468749998,
          421.52920532226545,
          955.1680908203125,
          660.1066284179688,
          610.977355957031,
          1250.3574218749998,
          1628.143310546875,
          740.6163940429685,
          322.51168823242176,
          208.9342193603513,
          200.48898315429676,
          240.0946502685547,
          390.9962463378904,
          799.9525146484374,
          1042.3602294921873,
          2250.375,
          1345.0872802734373,
          2248.215576171875,
          1469.0262451171875,
          769.2869873046875,
          379.00366210937483,
          280.30691528320284,
          271.4028625488281,
          274.57778930664057,
          505.0815124511716,
          761.5518798828124,
          1674.694091796875,
          2222.146484375,
          1581.6751708984375,
          1800.034423828125,
          1441.9842529296875,
          784.3594360351561,
          359.44024658203114
         ]
        },
        {
         "mode": "lines",
         "name": "pred",
         "type": "scatter",
         "x": [
          "2015-01-01T00:00:00",
          "2015-02-01T00:00:00",
          "2015-03-01T00:00:00",
          "2015-04-01T00:00:00",
          "2015-05-01T00:00:00",
          "2015-06-01T00:00:00",
          "2015-07-01T00:00:00",
          "2015-08-01T00:00:00",
          "2015-09-01T00:00:00",
          "2015-10-01T00:00:00",
          "2015-11-01T00:00:00",
          "2015-12-01T00:00:00",
          "2016-01-01T00:00:00",
          "2016-02-01T00:00:00",
          "2016-03-01T00:00:00",
          "2016-04-01T00:00:00",
          "2016-05-01T00:00:00",
          "2016-06-01T00:00:00",
          "2016-07-01T00:00:00",
          "2016-08-01T00:00:00",
          "2016-09-01T00:00:00",
          "2016-10-01T00:00:00",
          "2016-11-01T00:00:00",
          "2016-12-01T00:00:00",
          "2017-01-01T00:00:00",
          "2017-02-01T00:00:00",
          "2017-03-01T00:00:00",
          "2017-04-01T00:00:00",
          "2017-05-01T00:00:00",
          "2017-06-01T00:00:00",
          "2017-07-01T00:00:00",
          "2017-08-01T00:00:00",
          "2017-09-01T00:00:00",
          "2017-10-01T00:00:00",
          "2017-11-01T00:00:00",
          "2017-12-01T00:00:00",
          "2018-01-01T00:00:00",
          "2018-02-01T00:00:00",
          "2018-03-01T00:00:00",
          "2018-04-01T00:00:00",
          "2018-05-01T00:00:00",
          "2018-06-01T00:00:00",
          "2018-07-01T00:00:00",
          "2018-08-01T00:00:00",
          "2018-09-01T00:00:00",
          "2018-10-01T00:00:00",
          "2018-11-01T00:00:00",
          "2018-12-01T00:00:00",
          "2019-01-01T00:00:00",
          "2019-02-01T00:00:00",
          "2019-03-01T00:00:00",
          "2019-04-01T00:00:00",
          "2019-05-01T00:00:00",
          "2019-06-01T00:00:00",
          "2019-07-01T00:00:00",
          "2019-08-01T00:00:00",
          "2019-09-01T00:00:00",
          "2019-10-01T00:00:00",
          "2019-11-01T00:00:00",
          "2019-12-01T00:00:00"
         ],
         "y": [
          217.98605346679688,
          203.5381317138672,
          237.9363250732422,
          316.8926086425781,
          590.0426025390625,
          1024.3603515625,
          2586.152587890625,
          1803.27685546875,
          1516.1741943359375,
          1876.5413818359375,
          924.357177734375,
          395.0258483886719,
          151.56590270996094,
          166.72669982910156,
          199.75534057617188,
          395.76385498046875,
          443.6750793457031,
          1083.6737060546875,
          1911.93505859375,
          963.9019165039062,
          1046.7750244140625,
          1205.3792724609375,
          467.7028503417969,
          216.31504821777344,
          150.3675537109375,
          169.5426483154297,
          152.16429138183594,
          313.9774169921875,
          311.69610595703125,
          736.1304321289062,
          698.1337890625,
          575.3364868164062,
          430.2958984375,
          310.40484619140625,
          232.28179931640625,
          134.90277099609375,
          188.58590698242188,
          212.07322692871094,
          275.7772216796875,
          250.8170623779297,
          406.5019836425781,
          612.2061157226562,
          1210.48046875,
          1174.1812744140625,
          625.4871215820312,
          578.0362548828125,
          351.8738708496094,
          205.33424377441406,
          296.8023986816406,
          205.62408447265625,
          218.53134155273438,
          261.947021484375,
          329.8007507324219,
          870.377197265625,
          2018.5819091796875,
          962.8186645507812,
          714.056640625,
          522.9810791015625,
          345.7255554199219,
          180.6387176513672
         ]
        }
       ],
       "layout": {
        "template": {
         "data": {
          "bar": [
           {
            "error_x": {
             "color": "#2a3f5f"
            },
            "error_y": {
             "color": "#2a3f5f"
            },
            "marker": {
             "line": {
              "color": "white",
              "width": 0.5
             },
             "pattern": {
              "fillmode": "overlay",
              "size": 10,
              "solidity": 0.2
             }
            },
            "type": "bar"
           }
          ],
          "barpolar": [
           {
            "marker": {
             "line": {
              "color": "white",
              "width": 0.5
             },
             "pattern": {
              "fillmode": "overlay",
              "size": 10,
              "solidity": 0.2
             }
            },
            "type": "barpolar"
           }
          ],
          "carpet": [
           {
            "aaxis": {
             "endlinecolor": "#2a3f5f",
             "gridcolor": "#C8D4E3",
             "linecolor": "#C8D4E3",
             "minorgridcolor": "#C8D4E3",
             "startlinecolor": "#2a3f5f"
            },
            "baxis": {
             "endlinecolor": "#2a3f5f",
             "gridcolor": "#C8D4E3",
             "linecolor": "#C8D4E3",
             "minorgridcolor": "#C8D4E3",
             "startlinecolor": "#2a3f5f"
            },
            "type": "carpet"
           }
          ],
          "choropleth": [
           {
            "colorbar": {
             "outlinewidth": 0,
             "ticks": ""
            },
            "type": "choropleth"
           }
          ],
          "contour": [
           {
            "colorbar": {
             "outlinewidth": 0,
             "ticks": ""
            },
            "colorscale": [
             [
              0,
              "#0d0887"
             ],
             [
              0.1111111111111111,
              "#46039f"
             ],
             [
              0.2222222222222222,
              "#7201a8"
             ],
             [
              0.3333333333333333,
              "#9c179e"
             ],
             [
              0.4444444444444444,
              "#bd3786"
             ],
             [
              0.5555555555555556,
              "#d8576b"
             ],
             [
              0.6666666666666666,
              "#ed7953"
             ],
             [
              0.7777777777777778,
              "#fb9f3a"
             ],
             [
              0.8888888888888888,
              "#fdca26"
             ],
             [
              1,
              "#f0f921"
             ]
            ],
            "type": "contour"
           }
          ],
          "contourcarpet": [
           {
            "colorbar": {
             "outlinewidth": 0,
             "ticks": ""
            },
            "type": "contourcarpet"
           }
          ],
          "heatmap": [
           {
            "colorbar": {
             "outlinewidth": 0,
             "ticks": ""
            },
            "colorscale": [
             [
              0,
              "#0d0887"
             ],
             [
              0.1111111111111111,
              "#46039f"
             ],
             [
              0.2222222222222222,
              "#7201a8"
             ],
             [
              0.3333333333333333,
              "#9c179e"
             ],
             [
              0.4444444444444444,
              "#bd3786"
             ],
             [
              0.5555555555555556,
              "#d8576b"
             ],
             [
              0.6666666666666666,
              "#ed7953"
             ],
             [
              0.7777777777777778,
              "#fb9f3a"
             ],
             [
              0.8888888888888888,
              "#fdca26"
             ],
             [
              1,
              "#f0f921"
             ]
            ],
            "type": "heatmap"
           }
          ],
          "heatmapgl": [
           {
            "colorbar": {
             "outlinewidth": 0,
             "ticks": ""
            },
            "colorscale": [
             [
              0,
              "#0d0887"
             ],
             [
              0.1111111111111111,
              "#46039f"
             ],
             [
              0.2222222222222222,
              "#7201a8"
             ],
             [
              0.3333333333333333,
              "#9c179e"
             ],
             [
              0.4444444444444444,
              "#bd3786"
             ],
             [
              0.5555555555555556,
              "#d8576b"
             ],
             [
              0.6666666666666666,
              "#ed7953"
             ],
             [
              0.7777777777777778,
              "#fb9f3a"
             ],
             [
              0.8888888888888888,
              "#fdca26"
             ],
             [
              1,
              "#f0f921"
             ]
            ],
            "type": "heatmapgl"
           }
          ],
          "histogram": [
           {
            "marker": {
             "pattern": {
              "fillmode": "overlay",
              "size": 10,
              "solidity": 0.2
             }
            },
            "type": "histogram"
           }
          ],
          "histogram2d": [
           {
            "colorbar": {
             "outlinewidth": 0,
             "ticks": ""
            },
            "colorscale": [
             [
              0,
              "#0d0887"
             ],
             [
              0.1111111111111111,
              "#46039f"
             ],
             [
              0.2222222222222222,
              "#7201a8"
             ],
             [
              0.3333333333333333,
              "#9c179e"
             ],
             [
              0.4444444444444444,
              "#bd3786"
             ],
             [
              0.5555555555555556,
              "#d8576b"
             ],
             [
              0.6666666666666666,
              "#ed7953"
             ],
             [
              0.7777777777777778,
              "#fb9f3a"
             ],
             [
              0.8888888888888888,
              "#fdca26"
             ],
             [
              1,
              "#f0f921"
             ]
            ],
            "type": "histogram2d"
           }
          ],
          "histogram2dcontour": [
           {
            "colorbar": {
             "outlinewidth": 0,
             "ticks": ""
            },
            "colorscale": [
             [
              0,
              "#0d0887"
             ],
             [
              0.1111111111111111,
              "#46039f"
             ],
             [
              0.2222222222222222,
              "#7201a8"
             ],
             [
              0.3333333333333333,
              "#9c179e"
             ],
             [
              0.4444444444444444,
              "#bd3786"
             ],
             [
              0.5555555555555556,
              "#d8576b"
             ],
             [
              0.6666666666666666,
              "#ed7953"
             ],
             [
              0.7777777777777778,
              "#fb9f3a"
             ],
             [
              0.8888888888888888,
              "#fdca26"
             ],
             [
              1,
              "#f0f921"
             ]
            ],
            "type": "histogram2dcontour"
           }
          ],
          "mesh3d": [
           {
            "colorbar": {
             "outlinewidth": 0,
             "ticks": ""
            },
            "type": "mesh3d"
           }
          ],
          "parcoords": [
           {
            "line": {
             "colorbar": {
              "outlinewidth": 0,
              "ticks": ""
             }
            },
            "type": "parcoords"
           }
          ],
          "pie": [
           {
            "automargin": true,
            "type": "pie"
           }
          ],
          "scatter": [
           {
            "fillpattern": {
             "fillmode": "overlay",
             "size": 10,
             "solidity": 0.2
            },
            "type": "scatter"
           }
          ],
          "scatter3d": [
           {
            "line": {
             "colorbar": {
              "outlinewidth": 0,
              "ticks": ""
             }
            },
            "marker": {
             "colorbar": {
              "outlinewidth": 0,
              "ticks": ""
             }
            },
            "type": "scatter3d"
           }
          ],
          "scattercarpet": [
           {
            "marker": {
             "colorbar": {
              "outlinewidth": 0,
              "ticks": ""
             }
            },
            "type": "scattercarpet"
           }
          ],
          "scattergeo": [
           {
            "marker": {
             "colorbar": {
              "outlinewidth": 0,
              "ticks": ""
             }
            },
            "type": "scattergeo"
           }
          ],
          "scattergl": [
           {
            "marker": {
             "colorbar": {
              "outlinewidth": 0,
              "ticks": ""
             }
            },
            "type": "scattergl"
           }
          ],
          "scattermapbox": [
           {
            "marker": {
             "colorbar": {
              "outlinewidth": 0,
              "ticks": ""
             }
            },
            "type": "scattermapbox"
           }
          ],
          "scatterpolar": [
           {
            "marker": {
             "colorbar": {
              "outlinewidth": 0,
              "ticks": ""
             }
            },
            "type": "scatterpolar"
           }
          ],
          "scatterpolargl": [
           {
            "marker": {
             "colorbar": {
              "outlinewidth": 0,
              "ticks": ""
             }
            },
            "type": "scatterpolargl"
           }
          ],
          "scatterternary": [
           {
            "marker": {
             "colorbar": {
              "outlinewidth": 0,
              "ticks": ""
             }
            },
            "type": "scatterternary"
           }
          ],
          "surface": [
           {
            "colorbar": {
             "outlinewidth": 0,
             "ticks": ""
            },
            "colorscale": [
             [
              0,
              "#0d0887"
             ],
             [
              0.1111111111111111,
              "#46039f"
             ],
             [
              0.2222222222222222,
              "#7201a8"
             ],
             [
              0.3333333333333333,
              "#9c179e"
             ],
             [
              0.4444444444444444,
              "#bd3786"
             ],
             [
              0.5555555555555556,
              "#d8576b"
             ],
             [
              0.6666666666666666,
              "#ed7953"
             ],
             [
              0.7777777777777778,
              "#fb9f3a"
             ],
             [
              0.8888888888888888,
              "#fdca26"
             ],
             [
              1,
              "#f0f921"
             ]
            ],
            "type": "surface"
           }
          ],
          "table": [
           {
            "cells": {
             "fill": {
              "color": "#EBF0F8"
             },
             "line": {
              "color": "white"
             }
            },
            "header": {
             "fill": {
              "color": "#C8D4E3"
             },
             "line": {
              "color": "white"
             }
            },
            "type": "table"
           }
          ]
         },
         "layout": {
          "annotationdefaults": {
           "arrowcolor": "#2a3f5f",
           "arrowhead": 0,
           "arrowwidth": 1
          },
          "autotypenumbers": "strict",
          "coloraxis": {
           "colorbar": {
            "outlinewidth": 0,
            "ticks": ""
           }
          },
          "colorscale": {
           "diverging": [
            [
             0,
             "#8e0152"
            ],
            [
             0.1,
             "#c51b7d"
            ],
            [
             0.2,
             "#de77ae"
            ],
            [
             0.3,
             "#f1b6da"
            ],
            [
             0.4,
             "#fde0ef"
            ],
            [
             0.5,
             "#f7f7f7"
            ],
            [
             0.6,
             "#e6f5d0"
            ],
            [
             0.7,
             "#b8e186"
            ],
            [
             0.8,
             "#7fbc41"
            ],
            [
             0.9,
             "#4d9221"
            ],
            [
             1,
             "#276419"
            ]
           ],
           "sequential": [
            [
             0,
             "#0d0887"
            ],
            [
             0.1111111111111111,
             "#46039f"
            ],
            [
             0.2222222222222222,
             "#7201a8"
            ],
            [
             0.3333333333333333,
             "#9c179e"
            ],
            [
             0.4444444444444444,
             "#bd3786"
            ],
            [
             0.5555555555555556,
             "#d8576b"
            ],
            [
             0.6666666666666666,
             "#ed7953"
            ],
            [
             0.7777777777777778,
             "#fb9f3a"
            ],
            [
             0.8888888888888888,
             "#fdca26"
            ],
            [
             1,
             "#f0f921"
            ]
           ],
           "sequentialminus": [
            [
             0,
             "#0d0887"
            ],
            [
             0.1111111111111111,
             "#46039f"
            ],
            [
             0.2222222222222222,
             "#7201a8"
            ],
            [
             0.3333333333333333,
             "#9c179e"
            ],
            [
             0.4444444444444444,
             "#bd3786"
            ],
            [
             0.5555555555555556,
             "#d8576b"
            ],
            [
             0.6666666666666666,
             "#ed7953"
            ],
            [
             0.7777777777777778,
             "#fb9f3a"
            ],
            [
             0.8888888888888888,
             "#fdca26"
            ],
            [
             1,
             "#f0f921"
            ]
           ]
          },
          "colorway": [
           "#636efa",
           "#EF553B",
           "#00cc96",
           "#ab63fa",
           "#FFA15A",
           "#19d3f3",
           "#FF6692",
           "#B6E880",
           "#FF97FF",
           "#FECB52"
          ],
          "font": {
           "color": "#2a3f5f"
          },
          "geo": {
           "bgcolor": "white",
           "lakecolor": "white",
           "landcolor": "white",
           "showlakes": true,
           "showland": true,
           "subunitcolor": "#C8D4E3"
          },
          "hoverlabel": {
           "align": "left"
          },
          "hovermode": "closest",
          "mapbox": {
           "style": "light"
          },
          "paper_bgcolor": "white",
          "plot_bgcolor": "white",
          "polar": {
           "angularaxis": {
            "gridcolor": "#EBF0F8",
            "linecolor": "#EBF0F8",
            "ticks": ""
           },
           "bgcolor": "white",
           "radialaxis": {
            "gridcolor": "#EBF0F8",
            "linecolor": "#EBF0F8",
            "ticks": ""
           }
          },
          "scene": {
           "xaxis": {
            "backgroundcolor": "white",
            "gridcolor": "#DFE8F3",
            "gridwidth": 2,
            "linecolor": "#EBF0F8",
            "showbackground": true,
            "ticks": "",
            "zerolinecolor": "#EBF0F8"
           },
           "yaxis": {
            "backgroundcolor": "white",
            "gridcolor": "#DFE8F3",
            "gridwidth": 2,
            "linecolor": "#EBF0F8",
            "showbackground": true,
            "ticks": "",
            "zerolinecolor": "#EBF0F8"
           },
           "zaxis": {
            "backgroundcolor": "white",
            "gridcolor": "#DFE8F3",
            "gridwidth": 2,
            "linecolor": "#EBF0F8",
            "showbackground": true,
            "ticks": "",
            "zerolinecolor": "#EBF0F8"
           }
          },
          "shapedefaults": {
           "line": {
            "color": "#2a3f5f"
           }
          },
          "ternary": {
           "aaxis": {
            "gridcolor": "#DFE8F3",
            "linecolor": "#A2B1C6",
            "ticks": ""
           },
           "baxis": {
            "gridcolor": "#DFE8F3",
            "linecolor": "#A2B1C6",
            "ticks": ""
           },
           "bgcolor": "white",
           "caxis": {
            "gridcolor": "#DFE8F3",
            "linecolor": "#A2B1C6",
            "ticks": ""
           }
          },
          "title": {
           "x": 0.05
          },
          "xaxis": {
           "automargin": true,
           "gridcolor": "#EBF0F8",
           "linecolor": "#EBF0F8",
           "ticks": "",
           "title": {
            "standoff": 15
           },
           "zerolinecolor": "#EBF0F8",
           "zerolinewidth": 2
          },
          "yaxis": {
           "automargin": true,
           "gridcolor": "#EBF0F8",
           "linecolor": "#EBF0F8",
           "ticks": "",
           "title": {
            "standoff": 15
           },
           "zerolinecolor": "#EBF0F8",
           "zerolinewidth": 2
          }
         }
        }
       }
      }
     },
     "metadata": {},
     "output_type": "display_data"
    }
   ],
   "source": [
    "selected_features = ['P2020(mm)','MAX-TEM(C)','MIN-TEM(C)','flow(m^3/s)']\n",
    "start_year = 1972\n",
    "pred_years = np.arange(2015,2020)\n",
    "RETRAIN = True\n",
    "name = 'InputOutputSamples_hydrosimyr'\n",
    "batch_size = 32\n",
    "ystar_col = \"pred\"\n",
    "if not os.path.exists(sample_path):\n",
    "    os.makedirs(sample_path)\n",
    "for hydro_station in hydro_stations:\n",
    "    sample_path = f'../samples/SequenceSamples/{hydro_station}/{name}/'\n",
    "    if not os.path.exists(sample_path):\n",
    "        os.makedirs(sample_path)\n",
    "    result_path = f'../result/LSTMRegressorData/{hydro_station}/{name}/'\n",
    "    if not os.path.exists(result_path):\n",
    "        os.makedirs(result_path)\n",
    "    pred_df = pd.DataFrame()\n",
    "    for pred_year in pred_years:\n",
    "        model_path = f'../model/12MonthlyFlowProcessForecast_{hydro_station}/LSTMRegressorModel/{name}/pred{pred_year}/'\n",
    "        if not os.path.exists(model_path):\n",
    "            os.makedirs(model_path)\n",
    "        df = pd.read_csv(\n",
    "            f'../samples/{name}/{hydro_station}_MeteAVGCalvalFeatureDataForML_PRED{pred_year}.csv',\n",
    "            index_col=['date'], parse_dates=['date']\n",
    "        )\n",
    "\n",
    "        df = df[selected_features]\n",
    "\n",
    "        # Check if 'ARIMASimFlow' exists in df columns\n",
    "        if 'ARIMASimFlow' not in df.columns:\n",
    "            print(f\"Warning: ARIMASimFlow column not found in data for {hydro_station} station, year {pred_year}\")\n",
    "        \n",
    "        target = 'flow(m^3/s)'\n",
    "        features = list(df.columns.difference([target]))\n",
    "        features = list(df.columns.copy())\n",
    "        features.remove(target)\n",
    "        cal = df.loc[:f'{pred_year-6}-12-31',:]\n",
    "        test = df.loc[f'{pred_year-6}-01-01':f'{pred_year-1}-12-31',:]\n",
    "        pre = df.loc[f'{pred_year-1}-01-01':f'{pred_year}-12-31',:]\n",
    "        X_scaler = MinMaxScaler(feature_range=(0,1))\n",
    "        Y_scaler = MinMaxScaler(feature_range=(0,1))\n",
    "        X_scaler.fit(cal[features])\n",
    "        Y_scaler.fit(cal[[target]])\n",
    "        cal_X = X_scaler.transform(cal[features])\n",
    "        test_X = X_scaler.transform(test[features])\n",
    "        pre_X = X_scaler.transform(pre[features])\n",
    "        cal_y = Y_scaler.transform(cal[[target]])\n",
    "        test_y = Y_scaler.transform(test[[target]])\n",
    "        pre_y = Y_scaler.transform(pre[[target]])\n",
    "        cal = pd.concat([pd.DataFrame(cal_X,columns=features,index=cal.index),pd.DataFrame(cal_y,columns=[target],index=cal.index)],axis=1)\n",
    "        test = pd.concat([pd.DataFrame(test_X,columns=features,index=test.index),pd.DataFrame(test_y,columns=[target],index=test.index)],axis=1)\n",
    "        pre = pd.concat([pd.DataFrame(pre_X,columns=features,index=pre.index),pd.DataFrame(pre_y,columns=[target],index=pre.index)],axis=1)\n",
    "        cal.to_csv(sample_path+f'cal_{start_year}_{pred_year-6}.csv')\n",
    "        test.to_csv(sample_path+f'test_{pred_year-5}_{pred_year-1}.csv')\n",
    "        pre.to_csv(sample_path+f'pre_{pred_year}.csv')\n",
    "\n",
    "        sequence_length =12\n",
    "        cal_dataset = SimulatedSequenceDataset(\n",
    "            dataframe=cal.copy(),\n",
    "            target=target,\n",
    "            features=features,\n",
    "            sequence_length=sequence_length\n",
    "        )\n",
    "        test_dataset = SimulatedSequenceDataset(\n",
    "            dataframe=test.copy(),\n",
    "            target=target,\n",
    "            features=features,\n",
    "            sequence_length=sequence_length\n",
    "        )\n",
    "\n",
    "        i=0\n",
    "        X, y = cal_dataset[i]\n",
    "        # print(X)\n",
    "        # print(y)\n",
    "\n",
    "        # print(cal_dataset.X.shape, cal_dataset.y.shape)\n",
    "        # print(test_dataset.X.shape, test_dataset.y.shape)\n",
    "\n",
    "        cal_index = cal.index[sequence_length:]\n",
    "        test_index = test.index[sequence_length:]\n",
    "\n",
    "        # print(len(cal_index)==cal_dataset.__len__())\n",
    "        # print(len(test_index)==test_dataset.__len__())\n",
    "\n",
    "       \n",
    "        \n",
    "        if not os.path.exists(model_path+'model.pickle'):\n",
    "            objective = Objective(\n",
    "                    train_dataset=cal_dataset,\n",
    "                    val_dataset=test_dataset,\n",
    "                    num_epoch=1000,# 1000\n",
    "                    batch_size=batch_size,\n",
    "                    shuffle=True,\n",
    "                    model_path='./scheme/LSTMRegressor/',\n",
    "            )\n",
    "            study = optuna.create_study(\n",
    "                    study_name='example-study',\n",
    "                    direction='minimize',\n",
    "                )\n",
    "            study.optimize(objective, n_trials=100) #100\n",
    "\n",
    "            pruned_trials = study.get_trials(deepcopy=False, states=[TrialState.PRUNED])\n",
    "            complete_trials = study.get_trials(deepcopy=False, states=[TrialState.COMPLETE])\n",
    "\n",
    "\n",
    "            print(\"Study statistics: \")\n",
    "            print(\"  Number of finished trials: \", len(study.trials))\n",
    "            print(\"  Number of pruned trials: \", len(pruned_trials))\n",
    "            print(\"  Number of complete trials: \", len(complete_trials))\n",
    "\n",
    "            print(\"Best trial:\")\n",
    "            trial = study.best_trial\n",
    "\n",
    "            save_best_trial(trial, model_path=model_path)\n",
    "\n",
    "            save_model(trial, model_path=model_path)\n",
    "\n",
    "            best_model_state = trial.user_attrs[\"best_model_state\"]\n",
    "            print(\"  Value: \", trial.value)\n",
    "            print(\"  Params: \")\n",
    "            for key, value in trial.params.items():\n",
    "                print(\"    {}: {}\".format(key, value))\n",
    "\n",
    "            best_trial = load_best_trial(model_file=model_path+'best_trial.pickle')\n",
    "            model = load_model(model_file=model_path+'model.pickle').to(DEVICE)\n",
    "            cal_loader = DataLoader(cal_dataset, batch_size=64, shuffle=False)\n",
    "            test_loader = DataLoader(test_dataset, batch_size=64, shuffle=False)\n",
    "\n",
    "            cal_ = cal.loc[cal_index,[target]].copy()\n",
    "            test_ = test.loc[test_index,[target]].copy()\n",
    "\n",
    "            cal_[ystar_col] = predict(cal_loader, model).cpu().numpy()\n",
    "            test_[ystar_col] = predict(test_loader, model).cpu().numpy()\n",
    "\n",
    "            df_out = pd.concat((cal_, test_))[[target, ystar_col]]\n",
    "            for c in df_out.columns:\n",
    "                # df_out[c] = df_out[c] * target_std + target_mean\n",
    "                df_out[c] = Y_scaler.inverse_transform(df_out[[c]])\n",
    "            # print(df_out)\n",
    "            df_out = df_out.rename(columns={target: 'obs'})\n",
    "            print(f'R2 for sim at {hydro_station}({start_year}-{pred_year-1})',r2_score(df_out['obs'],df_out[ystar_col]))\n",
    "            df_out.to_csv(result_path+f'cal_test_sim_{start_year}_{pred_year-1}.csv')\n",
    "        else:\n",
    "            df_out = pd.read_csv(result_path+f'cal_test_sim_{start_year}_{pred_year-1}.csv',index_col=['date'], parse_dates=['date'])\n",
    "            print(f'R2 for sim at {hydro_station}({start_year}-{pred_year-1})',r2_score(df_out['obs'],df_out[ystar_col]))\n",
    "            print(f'model already exists in {model_path}')\n",
    "\n",
    "        # !Perform prediction\n",
    "        pre = pd.read_csv(sample_path+f'pre_{pred_year}.csv',index_col=['date'], parse_dates=['date'])\n",
    "        pre_dataset = SimulatedSequenceDataset(\n",
    "            dataframe=pre.copy(),\n",
    "            target=target,\n",
    "            features=features,\n",
    "            sequence_length=sequence_length\n",
    "        )\n",
    "        pre_loader = DataLoader(pre_dataset, batch_size=batch_size, shuffle=False)\n",
    "        pre_index = pre.index[sequence_length:]\n",
    "        pre_ = pre.loc[pre_index,[target]].copy()\n",
    "        model = load_model(model_file=model_path+'model.pickle').to(DEVICE)\n",
    "        pre_[ystar_col] = predict(pre_loader, model).cpu().numpy()\n",
    "        for c in pre_.columns:\n",
    "            # df_out[c] = df_out[c] * target_std + target_mean\n",
    "            pre_[c] = Y_scaler.inverse_transform(pre_[[c]])\n",
    "        pred_df = pd.concat((pred_df, pre_), axis=0)\n",
    "    pred_df = pred_df.rename(columns={'flow(m^3/s)': 'obs'})\n",
    "    print(f'R2 for pred at {hydro_station}({pred_years[0]}-{pred_years[-1]})',r2_score(pred_df['obs'],pred_df['pred']))\n",
    "    pred_df.to_csv(result_path+f'vif_lstm_pred_{pred_years[0]}_{pred_years[-1]}.csv')\n",
    "    # Visualization of the flow(m^3/s) and VIF_LSTM of pred_df\n",
    "    fig = go.Figure()\n",
    "    fig.add_trace(go.Scatter(x=pred_df.index, y=pred_df['obs'], mode='lines', name='obs'))\n",
    "    fig.add_trace(go.Scatter(x=pred_df.index, y=pred_df['pred'], mode='lines', name='pred'))\n",
    "    fig.show()\n"
   ]
  },
  {
   "cell_type": "code",
   "execution_count": 30,
   "metadata": {},
   "outputs": [
    {
     "name": "stderr",
     "output_type": "stream",
     "text": [
      "[I 2024-10-29 17:41:36,975] A new study created in memory with name: example-study\n"
     ]
    },
    {
     "name": "stdout",
     "output_type": "stream",
     "text": [
      "Warning: ARIMASimFlow column not found in data for Tangnaihai station, year 2015\n"
     ]
    },
    {
     "name": "stderr",
     "output_type": "stream",
     "text": [
      "[I 2024-10-29 17:42:17,025] Trial 0 finished with value: 0.008319276617839932 and parameters: {'num_layers': 1, 'hidden_size': 128, 'lstm_dropout': 0.11967174195172825, 'dense_dropout': 0.25247167430523765, 'learning_rate': 0.0001894477963797847}. Best is trial 0 with value: 0.008319276617839932.\n",
      "[I 2024-10-29 17:43:06,325] Trial 1 finished with value: 0.011516637168824673 and parameters: {'num_layers': 3, 'hidden_size': 32, 'lstm_dropout': 0.21537673519452372, 'dense_dropout': 0.3632978498483674, 'learning_rate': 0.016303129898019127}. Best is trial 0 with value: 0.008319276617839932.\n",
      "[I 2024-10-29 17:43:50,573] Trial 2 finished with value: 0.014770777197554708 and parameters: {'num_layers': 2, 'hidden_size': 40, 'lstm_dropout': 0.26308433057057995, 'dense_dropout': 0.4151789716609489, 'learning_rate': 0.00010304838630040942}. Best is trial 0 with value: 0.008319276617839932.\n",
      "[I 2024-10-29 17:44:30,490] Trial 3 finished with value: 0.011670557782053947 and parameters: {'num_layers': 1, 'hidden_size': 120, 'lstm_dropout': 0.12583470580678163, 'dense_dropout': 0.3012501121028516, 'learning_rate': 0.014190766950048112}. Best is trial 0 with value: 0.008319276617839932.\n",
      "[I 2024-10-29 17:45:17,197] Trial 4 finished with value: 0.024243252351880074 and parameters: {'num_layers': 3, 'hidden_size': 112, 'lstm_dropout': 0.17838903164886039, 'dense_dropout': 0.33831312100768496, 'learning_rate': 0.05198767427258884}. Best is trial 0 with value: 0.008319276617839932.\n",
      "[I 2024-10-29 17:45:17,237] Trial 5 pruned. \n",
      "[I 2024-10-29 17:45:17,288] Trial 6 pruned. \n",
      "[I 2024-10-29 17:45:17,373] Trial 7 pruned. \n",
      "[I 2024-10-29 17:45:17,587] Trial 8 pruned. \n",
      "[I 2024-10-29 17:45:55,285] Trial 9 finished with value: 0.007902323850430548 and parameters: {'num_layers': 1, 'hidden_size': 112, 'lstm_dropout': 0.3030712743378271, 'dense_dropout': 0.15124441602237004, 'learning_rate': 0.00803437066775613}. Best is trial 9 with value: 0.007902323850430548.\n",
      "[I 2024-10-29 17:46:34,691] Trial 10 finished with value: 0.010767687112092972 and parameters: {'num_layers': 1, 'hidden_size': 88, 'lstm_dropout': 0.4964166738280497, 'dense_dropout': 0.11402218399006447, 'learning_rate': 0.002425063920796248}. Best is trial 9 with value: 0.007902323850430548.\n",
      "[I 2024-10-29 17:46:34,746] Trial 11 pruned. \n",
      "[I 2024-10-29 17:47:13,304] Trial 12 finished with value: 0.00639996025711298 and parameters: {'num_layers': 1, 'hidden_size': 96, 'lstm_dropout': 0.33469237608415703, 'dense_dropout': 0.01260284096501374, 'learning_rate': 0.002276049743718904}. Best is trial 12 with value: 0.00639996025711298.\n",
      "[I 2024-10-29 17:47:52,924] Trial 13 finished with value: 0.00904718367382884 and parameters: {'num_layers': 1, 'hidden_size': 88, 'lstm_dropout': 0.34674182965134553, 'dense_dropout': 0.002707689005950975, 'learning_rate': 0.0027996202632689076}. Best is trial 12 with value: 0.00639996025711298.\n",
      "[I 2024-10-29 17:47:53,089] Trial 14 pruned. \n",
      "[I 2024-10-29 17:48:32,781] Trial 15 finished with value: 0.008602825924754143 and parameters: {'num_layers': 1, 'hidden_size': 96, 'lstm_dropout': 0.44316613388290976, 'dense_dropout': 0.007209204774707195, 'learning_rate': 0.000987969176804506}. Best is trial 12 with value: 0.00639996025711298.\n",
      "[I 2024-10-29 17:48:32,846] Trial 16 pruned. \n",
      "[I 2024-10-29 17:49:11,945] Trial 17 finished with value: 0.011667073238641024 and parameters: {'num_layers': 1, 'hidden_size': 104, 'lstm_dropout': 0.3953056842075561, 'dense_dropout': 0.18665614642547168, 'learning_rate': 0.006714274774057362}. Best is trial 12 with value: 0.00639996025711298.\n",
      "[I 2024-10-29 17:49:12,011] Trial 18 pruned. \n",
      "[I 2024-10-29 17:49:12,079] Trial 19 pruned. \n",
      "[I 2024-10-29 17:49:51,556] Trial 20 finished with value: 0.005909296218305826 and parameters: {'num_layers': 1, 'hidden_size': 112, 'lstm_dropout': 0.29559666891583236, 'dense_dropout': 0.055581993446474375, 'learning_rate': 0.007514444392600025}. Best is trial 20 with value: 0.005909296218305826.\n",
      "[I 2024-10-29 17:50:30,623] Trial 21 finished with value: 0.008331665769219398 and parameters: {'num_layers': 1, 'hidden_size': 112, 'lstm_dropout': 0.30757169032820525, 'dense_dropout': 0.05393532062092056, 'learning_rate': 0.00803496770223038}. Best is trial 20 with value: 0.005909296218305826.\n",
      "[I 2024-10-29 17:50:30,679] Trial 22 pruned. \n",
      "[I 2024-10-29 17:51:11,313] Trial 23 finished with value: 0.009436306892894208 and parameters: {'num_layers': 1, 'hidden_size': 120, 'lstm_dropout': 0.23492948907663386, 'dense_dropout': 0.04458141504524882, 'learning_rate': 0.0014974703760142595}. Best is trial 20 with value: 0.005909296218305826.\n",
      "[I 2024-10-29 17:51:11,430] Trial 24 pruned. \n",
      "[I 2024-10-29 17:51:11,490] Trial 25 pruned. \n",
      "[I 2024-10-29 17:51:11,544] Trial 26 pruned. \n",
      "[I 2024-10-29 17:51:11,595] Trial 27 pruned. \n",
      "[I 2024-10-29 17:51:11,648] Trial 28 pruned. \n",
      "[I 2024-10-29 17:51:11,705] Trial 29 pruned. \n",
      "[I 2024-10-29 17:51:11,752] Trial 30 pruned. \n",
      "[I 2024-10-29 17:51:11,812] Trial 31 pruned. \n",
      "[I 2024-10-29 17:51:11,875] Trial 32 pruned. \n",
      "[I 2024-10-29 17:51:11,938] Trial 33 pruned. \n",
      "[I 2024-10-29 17:51:12,013] Trial 34 pruned. \n",
      "[I 2024-10-29 17:51:12,083] Trial 35 pruned. \n",
      "[I 2024-10-29 17:51:12,163] Trial 36 pruned. \n",
      "[I 2024-10-29 17:51:12,225] Trial 37 pruned. \n",
      "[I 2024-10-29 17:51:12,300] Trial 38 pruned. \n",
      "[I 2024-10-29 17:51:51,245] Trial 39 finished with value: 0.008145923726260662 and parameters: {'num_layers': 1, 'hidden_size': 80, 'lstm_dropout': 0.05198247078622864, 'dense_dropout': 0.09639323820003887, 'learning_rate': 0.02216655361258624}. Best is trial 20 with value: 0.005909296218305826.\n",
      "[I 2024-10-29 17:51:51,300] Trial 40 pruned. \n",
      "[I 2024-10-29 17:51:51,390] Trial 41 pruned. \n",
      "[I 2024-10-29 17:51:51,477] Trial 42 pruned. \n",
      "[I 2024-10-29 17:51:51,562] Trial 43 pruned. \n",
      "[I 2024-10-29 17:51:51,818] Trial 44 pruned. \n",
      "[I 2024-10-29 17:51:51,966] Trial 45 pruned. \n",
      "[I 2024-10-29 17:52:29,762] Trial 46 finished with value: 0.01154601527377963 and parameters: {'num_layers': 1, 'hidden_size': 112, 'lstm_dropout': 0.34568016623528447, 'dense_dropout': 0.03344195954190532, 'learning_rate': 0.005207037727561101}. Best is trial 20 with value: 0.005909296218305826.\n",
      "[I 2024-10-29 17:52:29,811] Trial 47 pruned. \n",
      "[I 2024-10-29 17:52:29,877] Trial 48 pruned. \n",
      "[I 2024-10-29 17:52:29,937] Trial 49 pruned. \n",
      "[I 2024-10-29 17:53:09,797] Trial 50 finished with value: 0.008570549776777625 and parameters: {'num_layers': 1, 'hidden_size': 80, 'lstm_dropout': 0.18048739773429912, 'dense_dropout': 0.0013216337722564038, 'learning_rate': 0.00998729422501399}. Best is trial 20 with value: 0.005909296218305826.\n",
      "[I 2024-10-29 17:53:48,188] Trial 51 finished with value: 0.01070136739872396 and parameters: {'num_layers': 1, 'hidden_size': 112, 'lstm_dropout': 0.3039230958132954, 'dense_dropout': 0.0498761564146554, 'learning_rate': 0.006927462316044684}. Best is trial 20 with value: 0.005909296218305826.\n",
      "[I 2024-10-29 17:54:27,282] Trial 52 finished with value: 0.009372697211802006 and parameters: {'num_layers': 1, 'hidden_size': 104, 'lstm_dropout': 0.316456480447607, 'dense_dropout': 0.05534421105616574, 'learning_rate': 0.004142289472527624}. Best is trial 20 with value: 0.005909296218305826.\n",
      "[I 2024-10-29 17:54:27,335] Trial 53 pruned. \n",
      "[I 2024-10-29 17:54:27,399] Trial 54 pruned. \n",
      "[I 2024-10-29 17:55:05,786] Trial 55 finished with value: 0.00703976908698678 and parameters: {'num_layers': 1, 'hidden_size': 88, 'lstm_dropout': 0.4046771825446588, 'dense_dropout': 0.08954123144690672, 'learning_rate': 0.0087017210678295}. Best is trial 20 with value: 0.005909296218305826.\n",
      "[I 2024-10-29 17:55:05,839] Trial 56 pruned. \n",
      "[I 2024-10-29 17:55:05,894] Trial 57 pruned. \n",
      "[I 2024-10-29 17:55:05,975] Trial 58 pruned. \n",
      "[I 2024-10-29 17:55:06,122] Trial 59 pruned. \n",
      "[I 2024-10-29 17:55:06,243] Trial 60 pruned. \n",
      "[I 2024-10-29 17:55:06,320] Trial 61 pruned. \n",
      "[I 2024-10-29 17:55:06,416] Trial 62 pruned. \n",
      "[I 2024-10-29 17:55:45,472] Trial 63 finished with value: 0.007765148533508182 and parameters: {'num_layers': 1, 'hidden_size': 80, 'lstm_dropout': 0.3121378097847308, 'dense_dropout': 0.08022540900887114, 'learning_rate': 0.003436996054289592}. Best is trial 20 with value: 0.005909296218305826.\n",
      "[I 2024-10-29 17:55:45,560] Trial 64 pruned. \n",
      "[I 2024-10-29 17:55:45,614] Trial 65 pruned. \n",
      "[I 2024-10-29 17:55:45,669] Trial 66 pruned. \n",
      "[I 2024-10-29 17:55:45,725] Trial 67 pruned. \n",
      "[I 2024-10-29 17:55:45,788] Trial 68 pruned. \n",
      "[I 2024-10-29 17:55:45,853] Trial 69 pruned. \n",
      "[I 2024-10-29 17:55:45,913] Trial 70 pruned. \n",
      "[I 2024-10-29 17:55:45,975] Trial 71 pruned. \n",
      "[I 2024-10-29 17:55:46,028] Trial 72 pruned. \n",
      "[I 2024-10-29 17:55:46,088] Trial 73 pruned. \n",
      "[I 2024-10-29 17:55:46,141] Trial 74 pruned. \n",
      "[I 2024-10-29 17:55:46,200] Trial 75 pruned. \n",
      "[I 2024-10-29 17:55:46,253] Trial 76 pruned. \n",
      "[I 2024-10-29 17:56:27,565] Trial 77 finished with value: 0.012466134270653129 and parameters: {'num_layers': 1, 'hidden_size': 112, 'lstm_dropout': 0.3837435168150212, 'dense_dropout': 0.0790092888058655, 'learning_rate': 0.016942025763227578}. Best is trial 20 with value: 0.005909296218305826.\n",
      "[I 2024-10-29 17:56:27,639] Trial 78 pruned. \n",
      "[I 2024-10-29 17:56:27,692] Trial 79 pruned. \n",
      "[I 2024-10-29 17:56:27,750] Trial 80 pruned. \n",
      "[I 2024-10-29 17:56:27,916] Trial 81 pruned. \n",
      "[I 2024-10-29 17:56:28,014] Trial 82 pruned. \n",
      "[I 2024-10-29 17:57:06,902] Trial 83 finished with value: 0.008716739248484373 and parameters: {'num_layers': 1, 'hidden_size': 72, 'lstm_dropout': 0.1066947229430249, 'dense_dropout': 0.04316949578865753, 'learning_rate': 0.010853272716409252}. Best is trial 20 with value: 0.005909296218305826.\n",
      "[I 2024-10-29 17:57:46,316] Trial 84 finished with value: 0.008720861049368978 and parameters: {'num_layers': 1, 'hidden_size': 80, 'lstm_dropout': 0.3168098907583416, 'dense_dropout': 0.018979843689115122, 'learning_rate': 0.026374514468073634}. Best is trial 20 with value: 0.005909296218305826.\n",
      "[I 2024-10-29 17:57:46,382] Trial 85 pruned. \n",
      "[I 2024-10-29 17:57:46,446] Trial 86 pruned. \n",
      "[I 2024-10-29 17:57:46,507] Trial 87 pruned. \n",
      "[I 2024-10-29 17:57:46,575] Trial 88 pruned. \n",
      "[I 2024-10-29 17:57:46,630] Trial 89 pruned. \n",
      "[I 2024-10-29 17:57:46,720] Trial 90 pruned. \n",
      "[I 2024-10-29 17:57:46,782] Trial 91 pruned. \n",
      "[I 2024-10-29 17:57:46,855] Trial 92 pruned. \n",
      "[I 2024-10-29 17:57:46,916] Trial 93 pruned. \n",
      "[I 2024-10-29 17:57:46,973] Trial 94 pruned. \n",
      "[I 2024-10-29 17:58:25,861] Trial 95 finished with value: 0.011089312145486474 and parameters: {'num_layers': 1, 'hidden_size': 112, 'lstm_dropout': 0.483357033621305, 'dense_dropout': 0.04288260737260799, 'learning_rate': 0.004667046991901964}. Best is trial 20 with value: 0.005909296218305826.\n",
      "[I 2024-10-29 17:58:25,917] Trial 96 pruned. \n",
      "[I 2024-10-29 17:58:25,977] Trial 97 pruned. \n",
      "[I 2024-10-29 17:58:26,034] Trial 98 pruned. \n",
      "[I 2024-10-29 17:58:26,094] Trial 99 pruned. \n",
      "[I 2024-10-29 17:58:26,203] A new study created in memory with name: example-study\n"
     ]
    },
    {
     "name": "stdout",
     "output_type": "stream",
     "text": [
      "Study statistics: \n",
      "  Number of finished trials:  100\n",
      "  Number of pruned trials:  75\n",
      "  Number of complete trials:  25\n",
      "Best trial:\n",
      "  Value:  0.005909296218305826\n",
      "  Params: \n",
      "    num_layers: 1\n",
      "    hidden_size: 112\n",
      "    lstm_dropout: 0.29559666891583236\n",
      "    dense_dropout: 0.055581993446474375\n",
      "    learning_rate: 0.007514444392600025\n",
      "R2 for sim at Tangnaihai(1972-2014) 0.9471993783320701\n",
      "Warning: ARIMASimFlow column not found in data for Tangnaihai station, year 2016\n"
     ]
    },
    {
     "name": "stderr",
     "output_type": "stream",
     "text": [
      "[I 2024-10-29 17:59:08,541] Trial 0 finished with value: 0.01172504760324955 and parameters: {'num_layers': 1, 'hidden_size': 32, 'lstm_dropout': 0.2718539858561464, 'dense_dropout': 0.39414606662564733, 'learning_rate': 0.0010899639874682062}. Best is trial 0 with value: 0.01172504760324955.\n",
      "[I 2024-10-29 17:59:49,334] Trial 1 finished with value: 0.01397743879351765 and parameters: {'num_layers': 1, 'hidden_size': 112, 'lstm_dropout': 0.4099643186166765, 'dense_dropout': 0.3350324450451822, 'learning_rate': 0.04029465374168289}. Best is trial 0 with value: 0.01172504760324955.\n",
      "[I 2024-10-29 18:00:30,175] Trial 2 finished with value: 0.008026271825656295 and parameters: {'num_layers': 1, 'hidden_size': 56, 'lstm_dropout': 0.2698297516733577, 'dense_dropout': 0.25011877575027885, 'learning_rate': 0.00011334692669774551}. Best is trial 2 with value: 0.008026271825656295.\n",
      "[I 2024-10-29 18:01:11,984] Trial 3 finished with value: 0.009168017073534429 and parameters: {'num_layers': 1, 'hidden_size': 40, 'lstm_dropout': 0.4062973787358883, 'dense_dropout': 0.18791588981319873, 'learning_rate': 2.1494195112170643e-05}. Best is trial 2 with value: 0.008026271825656295.\n",
      "[I 2024-10-29 18:01:57,300] Trial 4 finished with value: 0.01015769736841321 and parameters: {'num_layers': 2, 'hidden_size': 104, 'lstm_dropout': 0.29354563738314293, 'dense_dropout': 0.17157007715080985, 'learning_rate': 0.011485746828183268}. Best is trial 2 with value: 0.008026271825656295.\n",
      "[I 2024-10-29 18:01:57,346] Trial 5 pruned. \n",
      "[I 2024-10-29 18:01:57,388] Trial 6 pruned. \n",
      "[I 2024-10-29 18:01:57,438] Trial 7 pruned. \n",
      "[I 2024-10-29 18:02:39,089] Trial 8 finished with value: 0.01237211236730218 and parameters: {'num_layers': 1, 'hidden_size': 120, 'lstm_dropout': 0.12273380161042169, 'dense_dropout': 0.3541185410832907, 'learning_rate': 0.044423622490389586}. Best is trial 2 with value: 0.008026271825656295.\n",
      "[I 2024-10-29 18:02:39,143] Trial 9 pruned. \n",
      "[I 2024-10-29 18:03:27,098] Trial 10 finished with value: 0.009444454684853554 and parameters: {'num_layers': 2, 'hidden_size': 72, 'lstm_dropout': 0.4890128345195308, 'dense_dropout': 0.016778269245994015, 'learning_rate': 0.002224485894664574}. Best is trial 2 with value: 0.008026271825656295.\n",
      "[I 2024-10-29 18:03:27,156] Trial 11 pruned. \n",
      "[I 2024-10-29 18:03:27,210] Trial 12 pruned. \n",
      "[I 2024-10-29 18:03:27,268] Trial 13 pruned. \n",
      "[I 2024-10-29 18:03:27,353] Trial 14 pruned. \n",
      "[I 2024-10-29 18:03:27,451] Trial 15 pruned. \n",
      "[I 2024-10-29 18:03:27,560] Trial 16 pruned. \n",
      "[I 2024-10-29 18:03:27,679] Trial 17 pruned. \n",
      "[I 2024-10-29 18:03:27,767] Trial 18 pruned. \n",
      "[I 2024-10-29 18:03:27,890] Trial 19 pruned. \n",
      "[I 2024-10-29 18:03:27,993] Trial 20 pruned. \n",
      "[I 2024-10-29 18:04:11,632] Trial 21 finished with value: 0.007815555669367313 and parameters: {'num_layers': 2, 'hidden_size': 80, 'lstm_dropout': 0.49231128770017246, 'dense_dropout': 0.002041493426038432, 'learning_rate': 0.0021326373963126083}. Best is trial 21 with value: 0.007815555669367313.\n",
      "[I 2024-10-29 18:04:11,695] Trial 22 pruned. \n",
      "[I 2024-10-29 18:04:11,753] Trial 23 pruned. \n",
      "[I 2024-10-29 18:04:11,890] Trial 24 pruned. \n",
      "[I 2024-10-29 18:04:11,992] Trial 25 pruned. \n",
      "[I 2024-10-29 18:04:50,819] Trial 26 finished with value: 0.008474837988615036 and parameters: {'num_layers': 1, 'hidden_size': 56, 'lstm_dropout': 0.36555068390993284, 'dense_dropout': 0.1376312382168669, 'learning_rate': 0.013058907789373592}. Best is trial 21 with value: 0.007815555669367313.\n",
      "[I 2024-10-29 18:04:50,889] Trial 27 pruned. \n",
      "[I 2024-10-29 18:05:37,673] Trial 28 finished with value: 0.008463905192911625 and parameters: {'num_layers': 2, 'hidden_size': 56, 'lstm_dropout': 0.35971165155379553, 'dense_dropout': 0.002465234824211293, 'learning_rate': 0.0027397326363986767}. Best is trial 21 with value: 0.007815555669367313.\n",
      "[I 2024-10-29 18:05:37,759] Trial 29 pruned. \n",
      "[I 2024-10-29 18:06:24,442] Trial 30 finished with value: 0.008706850465387106 and parameters: {'num_layers': 2, 'hidden_size': 56, 'lstm_dropout': 0.3081382084364961, 'dense_dropout': 0.005373971762901553, 'learning_rate': 0.003691541536728936}. Best is trial 21 with value: 0.007815555669367313.\n",
      "[I 2024-10-29 18:06:24,606] Trial 31 pruned. \n",
      "[I 2024-10-29 18:07:01,708] Trial 32 finished with value: 0.011617427226155996 and parameters: {'num_layers': 1, 'hidden_size': 64, 'lstm_dropout': 0.46376006847237033, 'dense_dropout': 0.0009071579149800152, 'learning_rate': 0.07925316995403199}. Best is trial 21 with value: 0.007815555669367313.\n",
      "[I 2024-10-29 18:07:41,167] Trial 33 finished with value: 0.007877138676121831 and parameters: {'num_layers': 1, 'hidden_size': 40, 'lstm_dropout': 0.3972922128640282, 'dense_dropout': 0.0932621159011733, 'learning_rate': 0.006949378144489778}. Best is trial 21 with value: 0.007815555669367313.\n",
      "[I 2024-10-29 18:07:41,229] Trial 34 pruned. \n",
      "[I 2024-10-29 18:07:41,285] Trial 35 pruned. \n",
      "[I 2024-10-29 18:07:41,346] Trial 36 pruned. \n",
      "[I 2024-10-29 18:07:41,457] Trial 37 pruned. \n",
      "[I 2024-10-29 18:07:41,556] Trial 38 pruned. \n",
      "[I 2024-10-29 18:07:41,629] Trial 39 pruned. \n",
      "[I 2024-10-29 18:07:41,695] Trial 40 pruned. \n",
      "[I 2024-10-29 18:07:41,866] Trial 41 pruned. \n",
      "[I 2024-10-29 18:07:41,929] Trial 42 pruned. \n",
      "[I 2024-10-29 18:07:42,007] Trial 43 pruned. \n",
      "[I 2024-10-29 18:08:19,862] Trial 44 finished with value: 0.00901316897943616 and parameters: {'num_layers': 1, 'hidden_size': 64, 'lstm_dropout': 0.31970036486809367, 'dense_dropout': 0.13845282926224992, 'learning_rate': 0.0029072380310408443}. Best is trial 21 with value: 0.007815555669367313.\n",
      "[I 2024-10-29 18:08:19,947] Trial 45 pruned. \n",
      "[I 2024-10-29 18:08:20,103] Trial 46 pruned. \n",
      "[I 2024-10-29 18:08:21,821] Trial 47 pruned. \n",
      "[I 2024-10-29 18:09:01,060] Trial 48 finished with value: 0.01146463816985488 and parameters: {'num_layers': 1, 'hidden_size': 48, 'lstm_dropout': 0.4250784901156408, 'dense_dropout': 0.0679999457144719, 'learning_rate': 0.008982665764492836}. Best is trial 21 with value: 0.007815555669367313.\n",
      "[I 2024-10-29 18:09:01,120] Trial 49 pruned. \n",
      "[I 2024-10-29 18:09:01,182] Trial 50 pruned. \n",
      "[I 2024-10-29 18:09:43,296] Trial 51 finished with value: 0.008795894449576735 and parameters: {'num_layers': 2, 'hidden_size': 56, 'lstm_dropout': 0.31333512146822, 'dense_dropout': 0.007597658179907346, 'learning_rate': 0.004161149393533872}. Best is trial 21 with value: 0.007815555669367313.\n",
      "[I 2024-10-29 18:09:43,351] Trial 52 pruned. \n",
      "[I 2024-10-29 18:09:43,409] Trial 53 pruned. \n",
      "[I 2024-10-29 18:09:43,473] Trial 54 pruned. \n",
      "[I 2024-10-29 18:10:19,366] Trial 55 finished with value: 0.007991301128640771 and parameters: {'num_layers': 1, 'hidden_size': 64, 'lstm_dropout': 0.4787349425136836, 'dense_dropout': 0.059988602335925074, 'learning_rate': 0.002808761431579994}. Best is trial 21 with value: 0.007815555669367313.\n",
      "[I 2024-10-29 18:10:19,436] Trial 56 pruned. \n",
      "[I 2024-10-29 18:10:19,584] Trial 57 pruned. \n",
      "[I 2024-10-29 18:10:19,647] Trial 58 pruned. \n",
      "[I 2024-10-29 18:10:19,705] Trial 59 pruned. \n",
      "[I 2024-10-29 18:10:20,969] Trial 60 pruned. \n",
      "[I 2024-10-29 18:10:21,037] Trial 61 pruned. \n",
      "[I 2024-10-29 18:10:21,098] Trial 62 pruned. \n",
      "[I 2024-10-29 18:10:57,896] Trial 63 finished with value: 0.007878321222960949 and parameters: {'num_layers': 1, 'hidden_size': 80, 'lstm_dropout': 0.43982149988205055, 'dense_dropout': 0.0588079974165138, 'learning_rate': 0.013420477965478421}. Best is trial 21 with value: 0.007815555669367313.\n",
      "[I 2024-10-29 18:11:34,481] Trial 64 finished with value: 0.006433308124542236 and parameters: {'num_layers': 1, 'hidden_size': 80, 'lstm_dropout': 0.4399119955876998, 'dense_dropout': 0.0665443239953629, 'learning_rate': 0.01336747758565618}. Best is trial 64 with value: 0.006433308124542236.\n",
      "[I 2024-10-29 18:11:34,580] Trial 65 pruned. \n",
      "[I 2024-10-29 18:11:34,634] Trial 66 pruned. \n",
      "[I 2024-10-29 18:11:34,761] Trial 67 pruned. \n",
      "[I 2024-10-29 18:11:34,813] Trial 68 pruned. \n",
      "[I 2024-10-29 18:12:11,805] Trial 69 finished with value: 0.007887609885074198 and parameters: {'num_layers': 1, 'hidden_size': 80, 'lstm_dropout': 0.45978213608801816, 'dense_dropout': 0.05164863119037863, 'learning_rate': 0.012371725106448796}. Best is trial 64 with value: 0.006433308124542236.\n",
      "[I 2024-10-29 18:12:11,856] Trial 70 pruned. \n",
      "[I 2024-10-29 18:12:49,515] Trial 71 finished with value: 0.007677798508666456 and parameters: {'num_layers': 1, 'hidden_size': 80, 'lstm_dropout': 0.4598754673845253, 'dense_dropout': 0.05362693864599013, 'learning_rate': 0.013505806121979732}. Best is trial 64 with value: 0.006433308124542236.\n",
      "[I 2024-10-29 18:12:49,637] Trial 72 pruned. \n",
      "[I 2024-10-29 18:13:25,135] Trial 73 finished with value: 0.008890544413588941 and parameters: {'num_layers': 1, 'hidden_size': 72, 'lstm_dropout': 0.45904157040126103, 'dense_dropout': 0.09888600973311837, 'learning_rate': 0.01990365453434256}. Best is trial 64 with value: 0.006433308124542236.\n",
      "[I 2024-10-29 18:13:25,256] Trial 74 pruned. \n",
      "[I 2024-10-29 18:13:25,380] Trial 75 pruned. \n",
      "[I 2024-10-29 18:13:25,432] Trial 76 pruned. \n",
      "[I 2024-10-29 18:14:04,076] Trial 77 finished with value: 0.011437995359301567 and parameters: {'num_layers': 1, 'hidden_size': 72, 'lstm_dropout': 0.45306413104160764, 'dense_dropout': 0.03636758286652293, 'learning_rate': 0.010930547725018787}. Best is trial 64 with value: 0.006433308124542236.\n",
      "[I 2024-10-29 18:14:04,203] Trial 78 pruned. \n",
      "[I 2024-10-29 18:14:04,312] Trial 79 pruned. \n",
      "[I 2024-10-29 18:14:06,799] Trial 80 pruned. \n",
      "[I 2024-10-29 18:14:06,876] Trial 81 pruned. \n",
      "[I 2024-10-29 18:14:06,978] Trial 82 pruned. \n",
      "[I 2024-10-29 18:14:46,129] Trial 83 finished with value: 0.007645642384886742 and parameters: {'num_layers': 1, 'hidden_size': 88, 'lstm_dropout': 0.48475432434481414, 'dense_dropout': 0.05820630846084168, 'learning_rate': 0.0025815119107674184}. Best is trial 64 with value: 0.006433308124542236.\n",
      "[I 2024-10-29 18:14:46,177] Trial 84 pruned. \n",
      "[I 2024-10-29 18:14:46,270] Trial 85 pruned. \n",
      "[I 2024-10-29 18:14:46,323] Trial 86 pruned. \n",
      "[I 2024-10-29 18:15:25,030] Trial 87 finished with value: 0.009211996104568243 and parameters: {'num_layers': 1, 'hidden_size': 72, 'lstm_dropout': 0.44380802232663874, 'dense_dropout': 0.05994826868464633, 'learning_rate': 0.0035831209744207}. Best is trial 64 with value: 0.006433308124542236.\n",
      "[I 2024-10-29 18:15:25,149] Trial 88 pruned. \n",
      "[I 2024-10-29 18:16:05,772] Trial 89 finished with value: 0.007619119714945555 and parameters: {'num_layers': 1, 'hidden_size': 88, 'lstm_dropout': 0.4288587832472924, 'dense_dropout': 0.09064086305860738, 'learning_rate': 0.010358196795820195}. Best is trial 64 with value: 0.006433308124542236.\n",
      "[I 2024-10-29 18:16:42,567] Trial 90 finished with value: 0.00883563538081944 and parameters: {'num_layers': 1, 'hidden_size': 112, 'lstm_dropout': 0.4301137218061135, 'dense_dropout': 0.09115447480330713, 'learning_rate': 0.011988365890426334}. Best is trial 64 with value: 0.006433308124542236.\n",
      "[I 2024-10-29 18:16:42,629] Trial 91 pruned. \n",
      "[I 2024-10-29 18:16:42,691] Trial 92 pruned. \n",
      "[I 2024-10-29 18:17:21,505] Trial 93 finished with value: 0.0067613484570756555 and parameters: {'num_layers': 1, 'hidden_size': 96, 'lstm_dropout': 0.41738952386060246, 'dense_dropout': 0.10727411715315072, 'learning_rate': 0.005891672454988591}. Best is trial 64 with value: 0.006433308124542236.\n",
      "[I 2024-10-29 18:17:21,780] Trial 94 pruned. \n",
      "[I 2024-10-29 18:17:21,982] Trial 95 pruned. \n",
      "[I 2024-10-29 18:17:23,196] Trial 96 pruned. \n",
      "[I 2024-10-29 18:17:23,261] Trial 97 pruned. \n",
      "[I 2024-10-29 18:17:23,319] Trial 98 pruned. \n",
      "[I 2024-10-29 18:18:00,878] Trial 99 finished with value: 0.010009215911850333 and parameters: {'num_layers': 1, 'hidden_size': 88, 'lstm_dropout': 0.39141426717657485, 'dense_dropout': 0.05377399681800479, 'learning_rate': 0.0025086471862757432}. Best is trial 64 with value: 0.006433308124542236.\n",
      "[I 2024-10-29 18:18:01,011] A new study created in memory with name: example-study\n"
     ]
    },
    {
     "name": "stdout",
     "output_type": "stream",
     "text": [
      "Study statistics: \n",
      "  Number of finished trials:  100\n",
      "  Number of pruned trials:  71\n",
      "  Number of complete trials:  29\n",
      "Best trial:\n",
      "  Value:  0.006433308124542236\n",
      "  Params: \n",
      "    num_layers: 1\n",
      "    hidden_size: 80\n",
      "    lstm_dropout: 0.4399119955876998\n",
      "    dense_dropout: 0.0665443239953629\n",
      "    learning_rate: 0.01336747758565618\n",
      "R2 for sim at Tangnaihai(1972-2015) 0.9102051021248346\n",
      "Warning: ARIMASimFlow column not found in data for Tangnaihai station, year 2017\n"
     ]
    },
    {
     "name": "stderr",
     "output_type": "stream",
     "text": [
      "[I 2024-10-29 18:18:39,769] Trial 0 finished with value: 0.00966782053001225 and parameters: {'num_layers': 1, 'hidden_size': 64, 'lstm_dropout': 0.48163586401139846, 'dense_dropout': 0.27359257525019803, 'learning_rate': 5.923949531296079e-05}. Best is trial 0 with value: 0.00966782053001225.\n",
      "[I 2024-10-29 18:19:28,735] Trial 1 finished with value: 0.015951622277498245 and parameters: {'num_layers': 3, 'hidden_size': 40, 'lstm_dropout': 0.4534092484131659, 'dense_dropout': 0.4811857150020829, 'learning_rate': 1.9135424223508805e-05}. Best is trial 0 with value: 0.00966782053001225.\n",
      "[I 2024-10-29 18:20:15,118] Trial 2 finished with value: 0.02321216417476535 and parameters: {'num_layers': 3, 'hidden_size': 112, 'lstm_dropout': 0.4145439928425078, 'dense_dropout': 0.4994501816276719, 'learning_rate': 0.0644430798598273}. Best is trial 0 with value: 0.00966782053001225.\n",
      "[I 2024-10-29 18:20:52,846] Trial 3 finished with value: 0.014903034549206495 and parameters: {'num_layers': 1, 'hidden_size': 64, 'lstm_dropout': 0.24756610091625286, 'dense_dropout': 0.38806522433372626, 'learning_rate': 0.0006536609805079584}. Best is trial 0 with value: 0.00966782053001225.\n",
      "[I 2024-10-29 18:21:33,754] Trial 4 finished with value: 0.008192746434360743 and parameters: {'num_layers': 2, 'hidden_size': 48, 'lstm_dropout': 0.37775996043498405, 'dense_dropout': 0.008621656782073162, 'learning_rate': 0.05126420010107129}. Best is trial 4 with value: 0.008192746434360743.\n",
      "[I 2024-10-29 18:21:33,803] Trial 5 pruned. \n",
      "[I 2024-10-29 18:22:14,823] Trial 6 finished with value: 0.008320439606904984 and parameters: {'num_layers': 2, 'hidden_size': 56, 'lstm_dropout': 0.48335153700898287, 'dense_dropout': 0.2847470904968302, 'learning_rate': 0.01900954398532266}. Best is trial 4 with value: 0.008192746434360743.\n",
      "[I 2024-10-29 18:22:56,862] Trial 7 finished with value: 0.010390362702310085 and parameters: {'num_layers': 2, 'hidden_size': 8, 'lstm_dropout': 0.14290411450659862, 'dense_dropout': 0.34277166721982016, 'learning_rate': 0.041717472438237216}. Best is trial 4 with value: 0.008192746434360743.\n",
      "[I 2024-10-29 18:22:56,912] Trial 8 pruned. \n",
      "[I 2024-10-29 18:22:56,955] Trial 9 pruned. \n",
      "[I 2024-10-29 18:23:38,194] Trial 10 finished with value: 0.011852586641907692 and parameters: {'num_layers': 2, 'hidden_size': 24, 'lstm_dropout': 0.2978461447911671, 'dense_dropout': 0.014334435768197928, 'learning_rate': 0.0029603620931627}. Best is trial 4 with value: 0.008192746434360743.\n",
      "[I 2024-10-29 18:24:21,543] Trial 11 finished with value: 0.006532016210258007 and parameters: {'num_layers': 2, 'hidden_size': 48, 'lstm_dropout': 0.3139188056328145, 'dense_dropout': 0.10309762348990065, 'learning_rate': 0.006510912004270055}. Best is trial 11 with value: 0.006532016210258007.\n",
      "[I 2024-10-29 18:25:04,953] Trial 12 finished with value: 0.007292720954865217 and parameters: {'num_layers': 2, 'hidden_size': 40, 'lstm_dropout': 0.291334189926285, 'dense_dropout': 0.040609611502007203, 'learning_rate': 0.002978282045667834}. Best is trial 11 with value: 0.006532016210258007.\n",
      "[I 2024-10-29 18:25:47,266] Trial 13 finished with value: 0.012785187223926187 and parameters: {'num_layers': 2, 'hidden_size': 32, 'lstm_dropout': 1.2900109292168782e-05, 'dense_dropout': 0.11963726934133907, 'learning_rate': 0.0021166333509395115}. Best is trial 11 with value: 0.006532016210258007.\n",
      "[I 2024-10-29 18:26:31,870] Trial 14 finished with value: 0.009013924049213529 and parameters: {'num_layers': 2, 'hidden_size': 16, 'lstm_dropout': 0.30731671473199434, 'dense_dropout': 0.13900473277703357, 'learning_rate': 0.005462958137743008}. Best is trial 11 with value: 0.006532016210258007.\n",
      "[I 2024-10-29 18:27:08,800] Trial 15 finished with value: 0.011972478125244379 and parameters: {'num_layers': 1, 'hidden_size': 128, 'lstm_dropout': 0.20850721974859235, 'dense_dropout': 0.12254462439074199, 'learning_rate': 0.0005268509999702538}. Best is trial 11 with value: 0.006532016210258007.\n",
      "[I 2024-10-29 18:27:08,896] Trial 16 pruned. \n",
      "[I 2024-10-29 18:27:08,950] Trial 17 pruned. \n",
      "[I 2024-10-29 18:27:09,015] Trial 18 pruned. \n",
      "[I 2024-10-29 18:27:09,079] Trial 19 pruned. \n",
      "[I 2024-10-29 18:27:51,540] Trial 20 finished with value: 0.015115302056074142 and parameters: {'num_layers': 2, 'hidden_size': 8, 'lstm_dropout': 0.07525776090048325, 'dense_dropout': 0.0662027477385084, 'learning_rate': 0.009760987868526118}. Best is trial 11 with value: 0.006532016210258007.\n",
      "[I 2024-10-29 18:27:51,601] Trial 21 pruned. \n",
      "[I 2024-10-29 18:28:36,655] Trial 22 finished with value: 0.011159769725054502 and parameters: {'num_layers': 2, 'hidden_size': 32, 'lstm_dropout': 0.2676348558908443, 'dense_dropout': 0.04112499157029592, 'learning_rate': 0.02328406292490636}. Best is trial 11 with value: 0.006532016210258007.\n",
      "[I 2024-10-29 18:29:24,524] Trial 23 finished with value: 0.005763742374256253 and parameters: {'num_layers': 2, 'hidden_size': 56, 'lstm_dropout': 0.3979032025580558, 'dense_dropout': 0.1712754295029366, 'learning_rate': 0.005307602136306144}. Best is trial 23 with value: 0.005763742374256253.\n",
      "[I 2024-10-29 18:29:24,597] Trial 24 pruned. \n",
      "[I 2024-10-29 18:29:24,699] Trial 25 pruned. \n",
      "[I 2024-10-29 18:29:24,767] Trial 26 pruned. \n",
      "[I 2024-10-29 18:29:24,822] Trial 27 pruned. \n",
      "[I 2024-10-29 18:29:24,888] Trial 28 pruned. \n",
      "[I 2024-10-29 18:29:25,017] Trial 29 pruned. \n",
      "[I 2024-10-29 18:29:25,086] Trial 30 pruned. \n",
      "[I 2024-10-29 18:29:25,190] Trial 31 pruned. \n",
      "[I 2024-10-29 18:29:25,298] Trial 32 pruned. \n",
      "[I 2024-10-29 18:29:25,368] Trial 33 pruned. \n",
      "[I 2024-10-29 18:29:25,465] Trial 34 pruned. \n",
      "[I 2024-10-29 18:30:09,748] Trial 35 finished with value: 0.00861654756590724 and parameters: {'num_layers': 2, 'hidden_size': 64, 'lstm_dropout': 0.28254224063275674, 'dense_dropout': 0.05353014964828571, 'learning_rate': 0.004949645913174237}. Best is trial 23 with value: 0.005763742374256253.\n",
      "[I 2024-10-29 18:30:09,841] Trial 36 pruned. \n",
      "[I 2024-10-29 18:30:09,943] Trial 37 pruned. \n",
      "[I 2024-10-29 18:30:10,067] Trial 38 pruned. \n",
      "[I 2024-10-29 18:30:10,178] Trial 39 pruned. \n",
      "[I 2024-10-29 18:30:10,286] Trial 40 pruned. \n",
      "[I 2024-10-29 18:30:10,544] Trial 41 pruned. \n",
      "[I 2024-10-29 18:30:10,659] Trial 42 pruned. \n",
      "[I 2024-10-29 18:30:10,735] Trial 43 pruned. \n",
      "[I 2024-10-29 18:30:10,998] Trial 44 pruned. \n",
      "[I 2024-10-29 18:30:11,163] Trial 45 pruned. \n",
      "[I 2024-10-29 18:30:11,229] Trial 46 pruned. \n",
      "[I 2024-10-29 18:30:50,879] Trial 47 finished with value: 0.010021273046731949 and parameters: {'num_layers': 1, 'hidden_size': 88, 'lstm_dropout': 0.31984712535828963, 'dense_dropout': 0.06771414440916139, 'learning_rate': 0.0021182242947167013}. Best is trial 23 with value: 0.005763742374256253.\n",
      "[I 2024-10-29 18:30:50,946] Trial 48 pruned. \n",
      "[I 2024-10-29 18:30:51,010] Trial 49 pruned. \n",
      "[I 2024-10-29 18:31:29,468] Trial 50 finished with value: 0.009224239503964782 and parameters: {'num_layers': 1, 'hidden_size': 64, 'lstm_dropout': 0.3415631617806358, 'dense_dropout': 0.021742672416928156, 'learning_rate': 0.007202254489153644}. Best is trial 23 with value: 0.005763742374256253.\n",
      "[I 2024-10-29 18:32:16,083] Trial 51 finished with value: 0.008904227055609226 and parameters: {'num_layers': 2, 'hidden_size': 56, 'lstm_dropout': 0.2752017759963407, 'dense_dropout': 0.05332085343023786, 'learning_rate': 0.004822374412433434}. Best is trial 23 with value: 0.005763742374256253.\n",
      "[I 2024-10-29 18:32:16,148] Trial 52 pruned. \n",
      "[I 2024-10-29 18:33:00,884] Trial 53 finished with value: 0.008731430396437645 and parameters: {'num_layers': 2, 'hidden_size': 72, 'lstm_dropout': 0.2644182472918106, 'dense_dropout': 0.0006151661197104225, 'learning_rate': 0.004749171306366499}. Best is trial 23 with value: 0.005763742374256253.\n",
      "[I 2024-10-29 18:33:00,952] Trial 54 pruned. \n",
      "[I 2024-10-29 18:33:01,013] Trial 55 pruned. \n",
      "[I 2024-10-29 18:33:44,858] Trial 56 finished with value: 0.005656732013449073 and parameters: {'num_layers': 2, 'hidden_size': 32, 'lstm_dropout': 0.31806038262018116, 'dense_dropout': 0.029360333409490555, 'learning_rate': 0.008889023985999393}. Best is trial 56 with value: 0.005656732013449073.\n",
      "[I 2024-10-29 18:34:32,402] Trial 57 finished with value: 0.009876620024442673 and parameters: {'num_layers': 2, 'hidden_size': 32, 'lstm_dropout': 0.32532381682300127, 'dense_dropout': 0.02978414203335985, 'learning_rate': 0.018942579769853227}. Best is trial 56 with value: 0.005656732013449073.\n",
      "[I 2024-10-29 18:34:32,525] Trial 58 pruned. \n",
      "[I 2024-10-29 18:35:17,734] Trial 59 finished with value: 0.009475628845393658 and parameters: {'num_layers': 2, 'hidden_size': 24, 'lstm_dropout': 0.42418162956938277, 'dense_dropout': 0.14589650562005715, 'learning_rate': 0.030217793863031736}. Best is trial 56 with value: 0.005656732013449073.\n",
      "[I 2024-10-29 18:35:17,842] Trial 60 pruned. \n",
      "[I 2024-10-29 18:35:17,898] Trial 61 pruned. \n",
      "[I 2024-10-29 18:35:17,955] Trial 62 pruned. \n",
      "[I 2024-10-29 18:35:18,091] Trial 63 pruned. \n",
      "[I 2024-10-29 18:36:01,216] Trial 64 finished with value: 0.012083681765943766 and parameters: {'num_layers': 2, 'hidden_size': 64, 'lstm_dropout': 0.29148368239097994, 'dense_dropout': 0.08663417346035766, 'learning_rate': 0.015287443649743911}. Best is trial 56 with value: 0.005656732013449073.\n",
      "[I 2024-10-29 18:36:01,320] Trial 65 pruned. \n",
      "[I 2024-10-29 18:36:38,377] Trial 66 finished with value: 0.013021462596952915 and parameters: {'num_layers': 2, 'hidden_size': 32, 'lstm_dropout': 0.33452303167112074, 'dense_dropout': 0.17561347654877446, 'learning_rate': 0.002449431745192815}. Best is trial 56 with value: 0.005656732013449073.\n",
      "[I 2024-10-29 18:36:38,434] Trial 67 pruned. \n",
      "[I 2024-10-29 18:36:38,529] Trial 68 pruned. \n",
      "[I 2024-10-29 18:36:38,586] Trial 69 pruned. \n",
      "[I 2024-10-29 18:36:38,644] Trial 70 pruned. \n",
      "[I 2024-10-29 18:37:18,579] Trial 71 finished with value: 0.005753265751991421 and parameters: {'num_layers': 2, 'hidden_size': 72, 'lstm_dropout': 0.2624239794646853, 'dense_dropout': 0.002823832241115133, 'learning_rate': 0.00421280766712887}. Best is trial 56 with value: 0.005656732013449073.\n",
      "[I 2024-10-29 18:37:56,117] Trial 72 finished with value: 0.00784653052687645 and parameters: {'num_layers': 2, 'hidden_size': 72, 'lstm_dropout': 0.2311225069990816, 'dense_dropout': 0.0014600297893502673, 'learning_rate': 0.004307113751061285}. Best is trial 56 with value: 0.005656732013449073.\n",
      "[I 2024-10-29 18:38:33,308] Trial 73 finished with value: 0.010428070556372404 and parameters: {'num_layers': 2, 'hidden_size': 72, 'lstm_dropout': 0.2213578465015167, 'dense_dropout': 0.0011213966843794452, 'learning_rate': 0.008485534917890631}. Best is trial 56 with value: 0.005656732013449073.\n",
      "[I 2024-10-29 18:39:09,119] Trial 74 finished with value: 0.01022411766462028 and parameters: {'num_layers': 2, 'hidden_size': 80, 'lstm_dropout': 0.1719008360390594, 'dense_dropout': 0.011676850411259328, 'learning_rate': 0.0067469005118624865}. Best is trial 56 with value: 0.005656732013449073.\n",
      "[I 2024-10-29 18:39:09,180] Trial 75 pruned. \n",
      "[I 2024-10-29 18:39:09,353] Trial 76 pruned. \n",
      "[I 2024-10-29 18:39:09,420] Trial 77 pruned. \n",
      "[I 2024-10-29 18:39:09,487] Trial 78 pruned. \n",
      "[I 2024-10-29 18:39:09,597] Trial 79 pruned. \n",
      "[I 2024-10-29 18:39:09,655] Trial 80 pruned. \n",
      "[I 2024-10-29 18:39:09,712] Trial 81 pruned. \n",
      "[I 2024-10-29 18:39:09,769] Trial 82 pruned. \n",
      "[I 2024-10-29 18:39:09,824] Trial 83 pruned. \n",
      "[I 2024-10-29 18:39:09,881] Trial 84 pruned. \n",
      "[I 2024-10-29 18:39:46,262] Trial 85 finished with value: 0.0078315285500139 and parameters: {'num_layers': 2, 'hidden_size': 56, 'lstm_dropout': 0.46852969805770894, 'dense_dropout': 1.6221666123924106e-05, 'learning_rate': 0.007893027487654213}. Best is trial 56 with value: 0.005656732013449073.\n",
      "[I 2024-10-29 18:40:22,299] Trial 86 finished with value: 0.006070391507819295 and parameters: {'num_layers': 2, 'hidden_size': 56, 'lstm_dropout': 0.4779459667489541, 'dense_dropout': 0.02258524565064141, 'learning_rate': 0.008064544949304689}. Best is trial 56 with value: 0.005656732013449073.\n",
      "[I 2024-10-29 18:40:22,432] Trial 87 pruned. \n",
      "[I 2024-10-29 18:40:59,630] Trial 88 finished with value: 0.004062593798153102 and parameters: {'num_layers': 2, 'hidden_size': 48, 'lstm_dropout': 0.4109479510916762, 'dense_dropout': 0.023698828979748218, 'learning_rate': 0.007695017492496161}. Best is trial 88 with value: 0.004062593798153102.\n",
      "[I 2024-10-29 18:41:37,357] Trial 89 finished with value: 0.009641535114496946 and parameters: {'num_layers': 2, 'hidden_size': 48, 'lstm_dropout': 0.4979044185645531, 'dense_dropout': 0.012526913157766616, 'learning_rate': 0.007440694185130796}. Best is trial 88 with value: 0.004062593798153102.\n",
      "[I 2024-10-29 18:41:37,417] Trial 90 pruned. \n",
      "[I 2024-10-29 18:41:37,475] Trial 91 pruned. \n",
      "[I 2024-10-29 18:41:37,532] Trial 92 pruned. \n",
      "[I 2024-10-29 18:42:15,251] Trial 93 finished with value: 0.012205268256366253 and parameters: {'num_layers': 2, 'hidden_size': 48, 'lstm_dropout': 0.48182264143006587, 'dense_dropout': 0.046119405366786846, 'learning_rate': 0.014002858278531859}. Best is trial 88 with value: 0.004062593798153102.\n",
      "[I 2024-10-29 18:42:15,311] Trial 94 pruned. \n",
      "[I 2024-10-29 18:42:52,959] Trial 95 finished with value: 0.019432606641203165 and parameters: {'num_layers': 2, 'hidden_size': 32, 'lstm_dropout': 0.4000448432183097, 'dense_dropout': 6.17158751585743e-05, 'learning_rate': 0.00585245069670072}. Best is trial 88 with value: 0.004062593798153102.\n",
      "[I 2024-10-29 18:42:53,015] Trial 96 pruned. \n",
      "[I 2024-10-29 18:42:53,077] Trial 97 pruned. \n",
      "[I 2024-10-29 18:42:53,241] Trial 98 pruned. \n",
      "[I 2024-10-29 18:42:53,300] Trial 99 pruned. \n",
      "[I 2024-10-29 18:42:53,416] A new study created in memory with name: example-study\n"
     ]
    },
    {
     "name": "stdout",
     "output_type": "stream",
     "text": [
      "Study statistics: \n",
      "  Number of finished trials:  100\n",
      "  Number of pruned trials:  64\n",
      "  Number of complete trials:  36\n",
      "Best trial:\n",
      "  Value:  0.004062593798153102\n",
      "  Params: \n",
      "    num_layers: 2\n",
      "    hidden_size: 48\n",
      "    lstm_dropout: 0.4109479510916762\n",
      "    dense_dropout: 0.023698828979748218\n",
      "    learning_rate: 0.007695017492496161\n",
      "R2 for sim at Tangnaihai(1972-2016) 0.9750145435192072\n",
      "Warning: ARIMASimFlow column not found in data for Tangnaihai station, year 2018\n"
     ]
    },
    {
     "name": "stderr",
     "output_type": "stream",
     "text": [
      "[I 2024-10-29 18:43:33,196] Trial 0 finished with value: 0.012362377718091011 and parameters: {'num_layers': 3, 'hidden_size': 56, 'lstm_dropout': 0.2134985835005636, 'dense_dropout': 0.06054365248068777, 'learning_rate': 0.00047324820150459324}. Best is trial 0 with value: 0.012362377718091011.\n",
      "[I 2024-10-29 18:44:14,558] Trial 1 finished with value: 0.004411802161484957 and parameters: {'num_layers': 3, 'hidden_size': 24, 'lstm_dropout': 0.012863860968478968, 'dense_dropout': 0.2979134701348625, 'learning_rate': 1.5132600802605149e-05}. Best is trial 1 with value: 0.004411802161484957.\n",
      "[I 2024-10-29 18:44:50,938] Trial 2 finished with value: 0.005172033794224262 and parameters: {'num_layers': 2, 'hidden_size': 80, 'lstm_dropout': 0.012203432893925836, 'dense_dropout': 0.20051598327694325, 'learning_rate': 0.0029695771174927782}. Best is trial 1 with value: 0.004411802161484957.\n",
      "[I 2024-10-29 18:45:28,818] Trial 3 finished with value: 0.006319723092019558 and parameters: {'num_layers': 3, 'hidden_size': 120, 'lstm_dropout': 0.30070286074511554, 'dense_dropout': 0.03632008587793201, 'learning_rate': 0.008755679272679388}. Best is trial 1 with value: 0.004411802161484957.\n",
      "[I 2024-10-29 18:46:07,161] Trial 4 finished with value: 0.00517944002058357 and parameters: {'num_layers': 3, 'hidden_size': 112, 'lstm_dropout': 0.4085864502814282, 'dense_dropout': 0.35846176568341376, 'learning_rate': 5.779819819878627e-05}. Best is trial 1 with value: 0.004411802161484957.\n",
      "[I 2024-10-29 18:46:42,504] Trial 5 finished with value: 0.004886333248578012 and parameters: {'num_layers': 2, 'hidden_size': 72, 'lstm_dropout': 0.23723581264918314, 'dense_dropout': 0.40894801202955267, 'learning_rate': 0.0025159943367959285}. Best is trial 1 with value: 0.004411802161484957.\n",
      "[I 2024-10-29 18:47:17,994] Trial 6 finished with value: 0.006212987005710602 and parameters: {'num_layers': 2, 'hidden_size': 128, 'lstm_dropout': 0.4702054209413384, 'dense_dropout': 0.41716247044991783, 'learning_rate': 0.00216798889455584}. Best is trial 1 with value: 0.004411802161484957.\n",
      "[I 2024-10-29 18:47:18,037] Trial 7 pruned. \n",
      "[I 2024-10-29 18:47:18,082] Trial 8 pruned. \n",
      "[I 2024-10-29 18:47:18,125] Trial 9 pruned. \n",
      "[I 2024-10-29 18:47:18,190] Trial 10 pruned. \n",
      "[I 2024-10-29 18:47:18,559] Trial 11 pruned. \n",
      "[I 2024-10-29 18:47:18,609] Trial 12 pruned. \n",
      "[I 2024-10-29 18:47:18,662] Trial 13 pruned. \n",
      "[I 2024-10-29 18:47:18,739] Trial 14 pruned. \n",
      "[I 2024-10-29 18:47:18,792] Trial 15 pruned. \n",
      "[I 2024-10-29 18:47:18,842] Trial 16 pruned. \n",
      "[I 2024-10-29 18:47:18,885] Trial 17 pruned. \n",
      "[I 2024-10-29 18:47:18,971] Trial 18 pruned. \n",
      "[I 2024-10-29 18:47:19,064] Trial 19 pruned. \n",
      "[I 2024-10-29 18:47:19,172] Trial 20 pruned. \n",
      "[I 2024-10-29 18:47:55,860] Trial 21 finished with value: 0.004499776754528284 and parameters: {'num_layers': 2, 'hidden_size': 80, 'lstm_dropout': 0.029235484453157712, 'dense_dropout': 0.15015508210371886, 'learning_rate': 0.0052695880289601255}. Best is trial 1 with value: 0.004411802161484957.\n",
      "[I 2024-10-29 18:47:55,920] Trial 22 pruned. \n",
      "[I 2024-10-29 18:47:55,975] Trial 23 pruned. \n",
      "[I 2024-10-29 18:47:56,031] Trial 24 pruned. \n",
      "[I 2024-10-29 18:47:56,080] Trial 25 pruned. \n",
      "[I 2024-10-29 18:47:56,166] Trial 26 pruned. \n",
      "[I 2024-10-29 18:47:56,227] Trial 27 pruned. \n",
      "[I 2024-10-29 18:47:56,283] Trial 28 pruned. \n",
      "[I 2024-10-29 18:47:56,343] Trial 29 pruned. \n",
      "[I 2024-10-29 18:47:56,407] Trial 30 pruned. \n",
      "[I 2024-10-29 18:48:34,123] Trial 31 finished with value: 0.004606723436154425 and parameters: {'num_layers': 2, 'hidden_size': 80, 'lstm_dropout': 0.010052237225807389, 'dense_dropout': 0.18847807590056087, 'learning_rate': 0.0027278804823189563}. Best is trial 1 with value: 0.004411802161484957.\n",
      "[I 2024-10-29 18:48:34,179] Trial 32 pruned. \n",
      "[I 2024-10-29 18:49:10,574] Trial 33 finished with value: 0.004424696206115186 and parameters: {'num_layers': 2, 'hidden_size': 80, 'lstm_dropout': 0.015035653498858893, 'dense_dropout': 0.08200935860400331, 'learning_rate': 0.003460846239406099}. Best is trial 1 with value: 0.004411802161484957.\n",
      "[I 2024-10-29 18:49:45,876] Trial 34 finished with value: 0.004543690476566553 and parameters: {'num_layers': 2, 'hidden_size': 104, 'lstm_dropout': 0.001212905544303684, 'dense_dropout': 0.08297525484347842, 'learning_rate': 0.004451747099273615}. Best is trial 1 with value: 0.004411802161484957.\n",
      "[I 2024-10-29 18:50:21,298] Trial 35 finished with value: 0.004741524287965149 and parameters: {'num_layers': 2, 'hidden_size': 112, 'lstm_dropout': 0.0014869709585564048, 'dense_dropout': 0.08096049262209065, 'learning_rate': 0.006515121885910611}. Best is trial 1 with value: 0.004411802161484957.\n",
      "[I 2024-10-29 18:50:56,288] Trial 36 finished with value: 0.005417180480435491 and parameters: {'num_layers': 2, 'hidden_size': 112, 'lstm_dropout': 0.03633512987205499, 'dense_dropout': 0.060788368969466836, 'learning_rate': 0.0043488163186550495}. Best is trial 1 with value: 0.004411802161484957.\n",
      "[I 2024-10-29 18:50:56,336] Trial 37 pruned. \n",
      "[I 2024-10-29 18:50:56,393] Trial 38 pruned. \n",
      "[I 2024-10-29 18:51:28,456] Trial 39 finished with value: 0.008687232155352831 and parameters: {'num_layers': 1, 'hidden_size': 120, 'lstm_dropout': 0.033027115429249354, 'dense_dropout': 0.15668441976010822, 'learning_rate': 0.03181734809294209}. Best is trial 1 with value: 0.004411802161484957.\n",
      "[I 2024-10-29 18:51:28,513] Trial 40 pruned. \n",
      "[I 2024-10-29 18:51:28,561] Trial 41 pruned. \n",
      "[I 2024-10-29 18:52:04,722] Trial 42 finished with value: 0.003532502567395568 and parameters: {'num_layers': 2, 'hidden_size': 72, 'lstm_dropout': 0.02742815975121216, 'dense_dropout': 0.12883730544379382, 'learning_rate': 0.003559584050477517}. Best is trial 42 with value: 0.003532502567395568.\n",
      "[I 2024-10-29 18:52:04,820] Trial 43 pruned. \n",
      "[I 2024-10-29 18:52:04,876] Trial 44 pruned. \n",
      "[I 2024-10-29 18:52:04,941] Trial 45 pruned. \n",
      "[I 2024-10-29 18:52:05,039] Trial 46 pruned. \n",
      "[I 2024-10-29 18:52:05,093] Trial 47 pruned. \n",
      "[I 2024-10-29 18:52:05,160] Trial 48 pruned. \n",
      "[I 2024-10-29 18:52:05,216] Trial 49 pruned. \n",
      "[I 2024-10-29 18:52:05,280] Trial 50 pruned. \n",
      "[I 2024-10-29 18:52:05,348] Trial 51 pruned. \n",
      "[I 2024-10-29 18:52:05,422] Trial 52 pruned. \n",
      "[I 2024-10-29 18:52:05,493] Trial 53 pruned. \n",
      "[I 2024-10-29 18:52:05,599] Trial 54 pruned. \n",
      "[I 2024-10-29 18:52:05,706] Trial 55 pruned. \n",
      "[I 2024-10-29 18:52:05,817] Trial 56 pruned. \n",
      "[I 2024-10-29 18:52:05,916] Trial 57 pruned. \n",
      "[I 2024-10-29 18:52:06,015] Trial 58 pruned. \n",
      "[I 2024-10-29 18:52:06,102] Trial 59 pruned. \n",
      "[I 2024-10-29 18:52:06,219] Trial 60 pruned. \n",
      "[I 2024-10-29 18:52:41,264] Trial 61 finished with value: 0.004761104006320238 and parameters: {'num_layers': 2, 'hidden_size': 120, 'lstm_dropout': 0.01255612911096183, 'dense_dropout': 0.0780387172135012, 'learning_rate': 0.008475057674572}. Best is trial 42 with value: 0.003532502567395568.\n",
      "[I 2024-10-29 18:52:41,315] Trial 62 pruned. \n",
      "[I 2024-10-29 18:53:15,428] Trial 63 finished with value: 0.0036949205677956343 and parameters: {'num_layers': 2, 'hidden_size': 104, 'lstm_dropout': 0.03503522416079069, 'dense_dropout': 0.12078867963713616, 'learning_rate': 0.0033956873495828875}. Best is trial 42 with value: 0.003532502567395568.\n",
      "[I 2024-10-29 18:53:51,950] Trial 64 finished with value: 0.004964189371094108 and parameters: {'num_layers': 2, 'hidden_size': 104, 'lstm_dropout': 0.03980679946282007, 'dense_dropout': 0.1525336500964732, 'learning_rate': 0.0031446902999469092}. Best is trial 42 with value: 0.003532502567395568.\n",
      "[I 2024-10-29 18:53:52,001] Trial 65 pruned. \n",
      "[I 2024-10-29 18:53:52,058] Trial 66 pruned. \n",
      "[I 2024-10-29 18:53:52,110] Trial 67 pruned. \n",
      "[I 2024-10-29 18:53:52,169] Trial 68 pruned. \n",
      "[I 2024-10-29 18:53:52,221] Trial 69 pruned. \n",
      "[I 2024-10-29 18:53:52,270] Trial 70 pruned. \n",
      "[I 2024-10-29 18:53:52,323] Trial 71 pruned. \n",
      "[I 2024-10-29 18:54:28,387] Trial 72 finished with value: 0.006312871933914721 and parameters: {'num_layers': 2, 'hidden_size': 112, 'lstm_dropout': 0.0171504643377532, 'dense_dropout': 0.10718904614176182, 'learning_rate': 0.003812989100279654}. Best is trial 42 with value: 0.003532502567395568.\n",
      "[I 2024-10-29 18:54:28,440] Trial 73 pruned. \n",
      "[I 2024-10-29 18:55:05,309] Trial 74 finished with value: 0.006152501795440912 and parameters: {'num_layers': 2, 'hidden_size': 128, 'lstm_dropout': 0.0558195986305682, 'dense_dropout': 0.049552783273994074, 'learning_rate': 0.0027285902691560207}. Best is trial 42 with value: 0.003532502567395568.\n",
      "[I 2024-10-29 18:55:05,365] Trial 75 pruned. \n",
      "[I 2024-10-29 18:55:05,419] Trial 76 pruned. \n",
      "[I 2024-10-29 18:55:05,479] Trial 77 pruned. \n",
      "[I 2024-10-29 18:55:05,531] Trial 78 pruned. \n",
      "[I 2024-10-29 18:55:41,287] Trial 79 finished with value: 0.005558519857004285 and parameters: {'num_layers': 2, 'hidden_size': 80, 'lstm_dropout': 0.12431165518515955, 'dense_dropout': 0.1663794174390811, 'learning_rate': 0.011321709369872326}. Best is trial 42 with value: 0.003532502567395568.\n",
      "[I 2024-10-29 18:55:41,342] Trial 80 pruned. \n",
      "[I 2024-10-29 18:55:41,396] Trial 81 pruned. \n",
      "[I 2024-10-29 18:56:17,040] Trial 82 finished with value: 0.006009384291246533 and parameters: {'num_layers': 2, 'hidden_size': 120, 'lstm_dropout': 0.016285963049961667, 'dense_dropout': 0.07298837128856443, 'learning_rate': 0.005585041201240429}. Best is trial 42 with value: 0.003532502567395568.\n",
      "[I 2024-10-29 18:56:17,097] Trial 83 pruned. \n",
      "[I 2024-10-29 18:56:17,157] Trial 84 pruned. \n",
      "[I 2024-10-29 18:56:17,212] Trial 85 pruned. \n",
      "[I 2024-10-29 18:56:17,274] Trial 86 pruned. \n",
      "[I 2024-10-29 18:56:17,367] Trial 87 pruned. \n",
      "[I 2024-10-29 18:56:17,425] Trial 88 pruned. \n",
      "[I 2024-10-29 18:56:53,277] Trial 89 finished with value: 0.005920894909650087 and parameters: {'num_layers': 2, 'hidden_size': 80, 'lstm_dropout': 0.058761931414867866, 'dense_dropout': 0.031819934046417093, 'learning_rate': 0.004517730710015065}. Best is trial 42 with value: 0.003532502567395568.\n",
      "[I 2024-10-29 18:56:53,336] Trial 90 pruned. \n",
      "[I 2024-10-29 18:56:53,387] Trial 91 pruned. \n",
      "[I 2024-10-29 18:56:53,481] Trial 92 pruned. \n",
      "[I 2024-10-29 18:56:53,564] Trial 93 pruned. \n",
      "[I 2024-10-29 18:56:53,655] Trial 94 pruned. \n",
      "[I 2024-10-29 18:56:53,754] Trial 95 pruned. \n",
      "[I 2024-10-29 18:56:53,858] Trial 96 pruned. \n",
      "[I 2024-10-29 18:56:54,077] Trial 97 pruned. \n",
      "[I 2024-10-29 18:56:54,214] Trial 98 pruned. \n",
      "[I 2024-10-29 18:56:54,320] Trial 99 pruned. \n",
      "[I 2024-10-29 18:56:54,438] A new study created in memory with name: example-study\n"
     ]
    },
    {
     "name": "stdout",
     "output_type": "stream",
     "text": [
      "Study statistics: \n",
      "  Number of finished trials:  100\n",
      "  Number of pruned trials:  77\n",
      "  Number of complete trials:  23\n",
      "Best trial:\n",
      "  Value:  0.003532502567395568\n",
      "  Params: \n",
      "    num_layers: 2\n",
      "    hidden_size: 72\n",
      "    lstm_dropout: 0.02742815975121216\n",
      "    dense_dropout: 0.12883730544379382\n",
      "    learning_rate: 0.003559584050477517\n",
      "R2 for sim at Tangnaihai(1972-2017) 0.6871466732376064\n",
      "Warning: ARIMASimFlow column not found in data for Tangnaihai station, year 2019\n"
     ]
    },
    {
     "name": "stderr",
     "output_type": "stream",
     "text": [
      "[I 2024-10-29 18:57:27,886] Trial 0 finished with value: 0.007125865085981786 and parameters: {'num_layers': 1, 'hidden_size': 112, 'lstm_dropout': 0.09267909686024206, 'dense_dropout': 0.3621318536353469, 'learning_rate': 0.004234642601467342}. Best is trial 0 with value: 0.007125865085981786.\n",
      "[I 2024-10-29 18:58:00,393] Trial 1 finished with value: 0.010490757413208485 and parameters: {'num_layers': 1, 'hidden_size': 120, 'lstm_dropout': 0.41490386799613116, 'dense_dropout': 0.043683973433970624, 'learning_rate': 0.026391979396592047}. Best is trial 0 with value: 0.007125865085981786.\n",
      "[I 2024-10-29 18:58:37,563] Trial 2 finished with value: 0.009305234183557332 and parameters: {'num_layers': 2, 'hidden_size': 88, 'lstm_dropout': 0.426743130283418, 'dense_dropout': 0.19411298694564733, 'learning_rate': 0.00015304878825724792}. Best is trial 0 with value: 0.007125865085981786.\n",
      "[I 2024-10-29 18:59:10,647] Trial 3 finished with value: 0.004778687842190266 and parameters: {'num_layers': 1, 'hidden_size': 16, 'lstm_dropout': 0.12029378557714193, 'dense_dropout': 0.07054056778876994, 'learning_rate': 5.3423018233535775e-05}. Best is trial 3 with value: 0.004778687842190266.\n",
      "[I 2024-10-29 18:59:48,055] Trial 4 finished with value: 0.009143658448010683 and parameters: {'num_layers': 2, 'hidden_size': 128, 'lstm_dropout': 0.02951950000490322, 'dense_dropout': 0.4548040609627652, 'learning_rate': 4.38105273934546e-05}. Best is trial 3 with value: 0.004778687842190266.\n",
      "[I 2024-10-29 18:59:48,092] Trial 5 pruned. \n",
      "[I 2024-10-29 18:59:48,135] Trial 6 pruned. \n",
      "[I 2024-10-29 18:59:48,184] Trial 7 pruned. \n",
      "[I 2024-10-29 18:59:48,395] Trial 8 pruned. \n",
      "[I 2024-10-29 18:59:48,473] Trial 9 pruned. \n",
      "[I 2024-10-29 19:00:24,161] Trial 10 finished with value: 0.008262565592303872 and parameters: {'num_layers': 1, 'hidden_size': 40, 'lstm_dropout': 0.3394654018196869, 'dense_dropout': 0.14108701292145528, 'learning_rate': 0.002390183410148476}. Best is trial 3 with value: 0.004778687842190266.\n",
      "[I 2024-10-29 19:00:58,459] Trial 11 finished with value: 0.007129558827728033 and parameters: {'num_layers': 1, 'hidden_size': 96, 'lstm_dropout': 0.11793614073222797, 'dense_dropout': 0.2789048195504378, 'learning_rate': 0.004478618759832282}. Best is trial 3 with value: 0.004778687842190266.\n",
      "[I 2024-10-29 19:00:58,614] Trial 12 pruned. \n",
      "[I 2024-10-29 19:00:58,739] Trial 13 pruned. \n",
      "[I 2024-10-29 19:01:33,381] Trial 14 finished with value: 0.007572246599011123 and parameters: {'num_layers': 1, 'hidden_size': 96, 'lstm_dropout': 0.08130877006794016, 'dense_dropout': 0.11341547498652504, 'learning_rate': 0.0003560604976342021}. Best is trial 3 with value: 0.004778687842190266.\n",
      "[I 2024-10-29 19:01:33,494] Trial 15 pruned. \n",
      "[I 2024-10-29 19:02:07,191] Trial 16 finished with value: 0.008554983884096146 and parameters: {'num_layers': 1, 'hidden_size': 72, 'lstm_dropout': 0.022692396571411477, 'dense_dropout': 0.2084804609536251, 'learning_rate': 0.002591391041566379}. Best is trial 3 with value: 0.004778687842190266.\n",
      "[I 2024-10-29 19:02:07,247] Trial 17 pruned. \n",
      "[I 2024-10-29 19:02:07,293] Trial 18 pruned. \n",
      "[I 2024-10-29 19:02:07,354] Trial 19 pruned. \n",
      "[I 2024-10-29 19:02:07,406] Trial 20 pruned. \n",
      "[I 2024-10-29 19:02:07,713] Trial 21 pruned. \n",
      "[I 2024-10-29 19:02:07,857] Trial 22 pruned. \n",
      "[I 2024-10-29 19:02:08,090] Trial 23 pruned. \n",
      "[I 2024-10-29 19:02:08,201] Trial 24 pruned. \n",
      "[I 2024-10-29 19:02:08,256] Trial 25 pruned. \n",
      "[I 2024-10-29 19:02:08,403] Trial 26 pruned. \n",
      "[I 2024-10-29 19:02:43,244] Trial 27 finished with value: 0.007439333945512772 and parameters: {'num_layers': 1, 'hidden_size': 80, 'lstm_dropout': 0.09950438481861622, 'dense_dropout': 0.05091851675903917, 'learning_rate': 0.01802051106129281}. Best is trial 3 with value: 0.004778687842190266.\n",
      "[I 2024-10-29 19:02:43,370] Trial 28 pruned. \n",
      "[I 2024-10-29 19:03:16,779] Trial 29 finished with value: 0.00786957866512239 and parameters: {'num_layers': 1, 'hidden_size': 120, 'lstm_dropout': 0.0006118797183140706, 'dense_dropout': 0.07488744994285518, 'learning_rate': 0.005210071930682566}. Best is trial 3 with value: 0.004778687842190266.\n",
      "[I 2024-10-29 19:03:16,831] Trial 30 pruned. \n",
      "[I 2024-10-29 19:03:51,463] Trial 31 finished with value: 0.008895572042092681 and parameters: {'num_layers': 1, 'hidden_size': 88, 'lstm_dropout': 0.11100128727125098, 'dense_dropout': 0.06492620402643817, 'learning_rate': 0.01936171406340668}. Best is trial 3 with value: 0.004778687842190266.\n",
      "[I 2024-10-29 19:04:25,947] Trial 32 finished with value: 0.007098192349076271 and parameters: {'num_layers': 1, 'hidden_size': 80, 'lstm_dropout': 0.04608329208642309, 'dense_dropout': 0.04005964465621775, 'learning_rate': 0.017695141033096714}. Best is trial 3 with value: 0.004778687842190266.\n",
      "[I 2024-10-29 19:05:00,421] Trial 33 finished with value: 0.0070556458085775375 and parameters: {'num_layers': 1, 'hidden_size': 96, 'lstm_dropout': 0.04420987490602396, 'dense_dropout': 0.12150606189721896, 'learning_rate': 0.005798858769863984}. Best is trial 3 with value: 0.004778687842190266.\n",
      "[I 2024-10-29 19:05:00,478] Trial 34 pruned. \n",
      "[I 2024-10-29 19:05:34,288] Trial 35 finished with value: 0.01024119509384036 and parameters: {'num_layers': 1, 'hidden_size': 104, 'lstm_dropout': 0.0033111155115112534, 'dense_dropout': 0.1291261928896186, 'learning_rate': 0.013907994378959116}. Best is trial 3 with value: 0.004778687842190266.\n",
      "[I 2024-10-29 19:05:34,336] Trial 36 pruned. \n",
      "[I 2024-10-29 19:05:34,391] Trial 37 pruned. \n",
      "[I 2024-10-29 19:05:34,469] Trial 38 pruned. \n",
      "[I 2024-10-29 19:05:34,524] Trial 39 pruned. \n",
      "[I 2024-10-29 19:05:34,671] Trial 40 pruned. \n",
      "[I 2024-10-29 19:05:34,942] Trial 41 pruned. \n",
      "[I 2024-10-29 19:06:10,519] Trial 42 finished with value: 0.007007696432992816 and parameters: {'num_layers': 1, 'hidden_size': 96, 'lstm_dropout': 0.05907465719728214, 'dense_dropout': 0.06858203293401627, 'learning_rate': 0.004594757252164826}. Best is trial 3 with value: 0.004778687842190266.\n",
      "[I 2024-10-29 19:06:10,583] Trial 43 pruned. \n",
      "[I 2024-10-29 19:06:10,632] Trial 44 pruned. \n",
      "[I 2024-10-29 19:06:45,513] Trial 45 finished with value: 0.00897778244689107 and parameters: {'num_layers': 1, 'hidden_size': 112, 'lstm_dropout': 0.09009306540077429, 'dense_dropout': 0.11199560600201688, 'learning_rate': 0.003423094523977869}. Best is trial 3 with value: 0.004778687842190266.\n",
      "[I 2024-10-29 19:06:45,564] Trial 46 pruned. \n",
      "[I 2024-10-29 19:06:45,611] Trial 47 pruned. \n",
      "[I 2024-10-29 19:06:45,662] Trial 48 pruned. \n",
      "[I 2024-10-29 19:06:45,709] Trial 49 pruned. \n",
      "[I 2024-10-29 19:06:45,762] Trial 50 pruned. \n",
      "[I 2024-10-29 19:06:46,106] Trial 51 pruned. \n",
      "[I 2024-10-29 19:06:46,220] Trial 52 pruned. \n",
      "[I 2024-10-29 19:07:21,399] Trial 53 finished with value: 0.006745171034708619 and parameters: {'num_layers': 1, 'hidden_size': 72, 'lstm_dropout': 0.12993058470217295, 'dense_dropout': 0.18706923542289397, 'learning_rate': 0.0042561347435058315}. Best is trial 3 with value: 0.004778687842190266.\n",
      "[I 2024-10-29 19:07:21,705] Trial 54 pruned. \n",
      "[I 2024-10-29 19:07:21,763] Trial 55 pruned. \n",
      "[I 2024-10-29 19:07:21,816] Trial 56 pruned. \n",
      "[I 2024-10-29 19:07:21,876] Trial 57 pruned. \n",
      "[I 2024-10-29 19:07:21,926] Trial 58 pruned. \n",
      "[I 2024-10-29 19:07:21,975] Trial 59 pruned. \n",
      "[I 2024-10-29 19:07:22,069] Trial 60 pruned. \n",
      "[I 2024-10-29 19:07:22,145] Trial 61 pruned. \n",
      "[I 2024-10-29 19:07:22,297] Trial 62 pruned. \n",
      "[I 2024-10-29 19:07:22,381] Trial 63 pruned. \n",
      "[I 2024-10-29 19:07:22,478] Trial 64 pruned. \n",
      "[I 2024-10-29 19:07:22,601] Trial 65 pruned. \n",
      "[I 2024-10-29 19:07:22,844] Trial 66 pruned. \n",
      "[I 2024-10-29 19:07:22,904] Trial 67 pruned. \n",
      "[I 2024-10-29 19:07:22,963] Trial 68 pruned. \n",
      "[I 2024-10-29 19:07:23,021] Trial 69 pruned. \n",
      "[I 2024-10-29 19:07:23,073] Trial 70 pruned. \n",
      "[I 2024-10-29 19:07:23,125] Trial 71 pruned. \n",
      "[I 2024-10-29 19:07:57,068] Trial 72 finished with value: 0.0059180844109505415 and parameters: {'num_layers': 1, 'hidden_size': 72, 'lstm_dropout': 0.10349889678632905, 'dense_dropout': 0.07693403715231717, 'learning_rate': 0.009757399767389758}. Best is trial 3 with value: 0.004778687842190266.\n",
      "[I 2024-10-29 19:08:31,389] Trial 73 finished with value: 0.004457558738067746 and parameters: {'num_layers': 1, 'hidden_size': 72, 'lstm_dropout': 0.063938762340349, 'dense_dropout': 0.07876145491304885, 'learning_rate': 0.007124937750585759}. Best is trial 73 with value: 0.004457558738067746.\n",
      "[I 2024-10-29 19:08:31,468] Trial 74 pruned. \n",
      "[I 2024-10-29 19:09:05,490] Trial 75 finished with value: 0.00911474134773016 and parameters: {'num_layers': 1, 'hidden_size': 72, 'lstm_dropout': 0.04474226555467163, 'dense_dropout': 0.08761797851933521, 'learning_rate': 0.00979651849150302}. Best is trial 73 with value: 0.004457558738067746.\n",
      "[I 2024-10-29 19:09:39,379] Trial 76 finished with value: 0.007354274857789278 and parameters: {'num_layers': 1, 'hidden_size': 64, 'lstm_dropout': 0.06922493100425198, 'dense_dropout': 0.12100837782972848, 'learning_rate': 0.006121994919040975}. Best is trial 73 with value: 0.004457558738067746.\n",
      "[I 2024-10-29 19:09:39,732] Trial 77 pruned. \n",
      "[I 2024-10-29 19:09:39,782] Trial 78 pruned. \n",
      "[I 2024-10-29 19:09:39,835] Trial 79 pruned. \n",
      "[I 2024-10-29 19:09:39,887] Trial 80 pruned. \n",
      "[I 2024-10-29 19:09:40,304] Trial 81 pruned. \n",
      "[I 2024-10-29 19:09:40,840] Trial 82 pruned. \n",
      "[I 2024-10-29 19:10:15,709] Trial 83 finished with value: 0.007011307403445244 and parameters: {'num_layers': 1, 'hidden_size': 88, 'lstm_dropout': 0.1482610375284332, 'dense_dropout': 0.07981111658909082, 'learning_rate': 0.010706179917864085}. Best is trial 73 with value: 0.004457558738067746.\n",
      "[I 2024-10-29 19:10:16,004] Trial 84 pruned. \n",
      "[I 2024-10-29 19:10:16,154] Trial 85 pruned. \n",
      "[I 2024-10-29 19:10:16,287] Trial 86 pruned. \n",
      "[I 2024-10-29 19:10:16,374] Trial 87 pruned. \n",
      "[I 2024-10-29 19:10:16,466] Trial 88 pruned. \n",
      "[I 2024-10-29 19:10:16,534] Trial 89 pruned. \n",
      "[I 2024-10-29 19:10:16,615] Trial 90 pruned. \n",
      "[I 2024-10-29 19:10:16,672] Trial 91 pruned. \n",
      "[I 2024-10-29 19:10:50,250] Trial 92 finished with value: 0.009001475060358644 and parameters: {'num_layers': 1, 'hidden_size': 128, 'lstm_dropout': 0.06724902602557793, 'dense_dropout': 0.06888525063255072, 'learning_rate': 0.008201459042571016}. Best is trial 73 with value: 0.004457558738067746.\n",
      "[I 2024-10-29 19:10:50,516] Trial 93 pruned. \n",
      "[I 2024-10-29 19:10:50,683] Trial 94 pruned. \n",
      "[I 2024-10-29 19:11:24,942] Trial 95 finished with value: 0.006368671311065555 and parameters: {'num_layers': 1, 'hidden_size': 88, 'lstm_dropout': 0.0567545364468563, 'dense_dropout': 0.19861782561160704, 'learning_rate': 0.006744819822263603}. Best is trial 73 with value: 0.004457558738067746.\n",
      "[I 2024-10-29 19:11:25,068] Trial 96 pruned. \n",
      "[I 2024-10-29 19:11:25,123] Trial 97 pruned. \n",
      "[I 2024-10-29 19:11:25,177] Trial 98 pruned. \n",
      "[I 2024-10-29 19:11:25,539] Trial 99 pruned. \n"
     ]
    },
    {
     "name": "stdout",
     "output_type": "stream",
     "text": [
      "Study statistics: \n",
      "  Number of finished trials:  100\n",
      "  Number of pruned trials:  75\n",
      "  Number of complete trials:  25\n",
      "Best trial:\n",
      "  Value:  0.004457558738067746\n",
      "  Params: \n",
      "    num_layers: 1\n",
      "    hidden_size: 72\n",
      "    lstm_dropout: 0.063938762340349\n",
      "    dense_dropout: 0.07876145491304885\n",
      "    learning_rate: 0.007124937750585759\n",
      "R2 for sim at Tangnaihai(1972-2018) 0.9570400420225073\n",
      "R2 for pred at Tangnaihai(2015-2019) 0.25253729944545955\n"
     ]
    },
    {
     "data": {
      "application/vnd.plotly.v1+json": {
       "config": {
        "plotlyServerURL": "https://plot.ly"
       },
       "data": [
        {
         "mode": "lines",
         "name": "obs",
         "type": "scatter",
         "x": [
          "2015-01-01T00:00:00",
          "2015-02-01T00:00:00",
          "2015-03-01T00:00:00",
          "2015-04-01T00:00:00",
          "2015-05-01T00:00:00",
          "2015-06-01T00:00:00",
          "2015-07-01T00:00:00",
          "2015-08-01T00:00:00",
          "2015-09-01T00:00:00",
          "2015-10-01T00:00:00",
          "2015-11-01T00:00:00",
          "2015-12-01T00:00:00",
          "2016-01-01T00:00:00",
          "2016-02-01T00:00:00",
          "2016-03-01T00:00:00",
          "2016-04-01T00:00:00",
          "2016-05-01T00:00:00",
          "2016-06-01T00:00:00",
          "2016-07-01T00:00:00",
          "2016-08-01T00:00:00",
          "2016-09-01T00:00:00",
          "2016-10-01T00:00:00",
          "2016-11-01T00:00:00",
          "2016-12-01T00:00:00",
          "2017-01-01T00:00:00",
          "2017-02-01T00:00:00",
          "2017-03-01T00:00:00",
          "2017-04-01T00:00:00",
          "2017-05-01T00:00:00",
          "2017-06-01T00:00:00",
          "2017-07-01T00:00:00",
          "2017-08-01T00:00:00",
          "2017-09-01T00:00:00",
          "2017-10-01T00:00:00",
          "2017-11-01T00:00:00",
          "2017-12-01T00:00:00",
          "2018-01-01T00:00:00",
          "2018-02-01T00:00:00",
          "2018-03-01T00:00:00",
          "2018-04-01T00:00:00",
          "2018-05-01T00:00:00",
          "2018-06-01T00:00:00",
          "2018-07-01T00:00:00",
          "2018-08-01T00:00:00",
          "2018-09-01T00:00:00",
          "2018-10-01T00:00:00",
          "2018-11-01T00:00:00",
          "2018-12-01T00:00:00",
          "2019-01-01T00:00:00",
          "2019-02-01T00:00:00",
          "2019-03-01T00:00:00",
          "2019-04-01T00:00:00",
          "2019-05-01T00:00:00",
          "2019-06-01T00:00:00",
          "2019-07-01T00:00:00",
          "2019-08-01T00:00:00",
          "2019-09-01T00:00:00",
          "2019-10-01T00:00:00",
          "2019-11-01T00:00:00",
          "2019-12-01T00:00:00"
         ],
         "y": [
          224.5806451612902,
          210.24999999999986,
          253.90322580645127,
          286.19999999999993,
          336.4838709999998,
          764.8333333333333,
          1273.4193549999998,
          479.1290322580644,
          663.3666666666664,
          700.3225806451612,
          349.99999999999983,
          205.70967741935465,
          137.9032258064513,
          140.1379310344827,
          197.8387096774193,
          308.59999999999997,
          477.4193548387097,
          620.5666666666665,
          707.5161289999999,
          548.322580645161,
          641.3999999999997,
          768.6774193548384,
          395.1,
          223.1612903225804,
          150.70967741935473,
          163.10714285714272,
          198.1612903225805,
          306.8333333333332,
          397.2258064516129,
          932.7999999999996,
          604.516129,
          583.3225806451611,
          1195.6666666666667,
          1538.7096774193549,
          680.3333333333334,
          313.0967741935484,
          187.99999999999994,
          177.10714285714283,
          221.54838709677415,
          413.3333333333331,
          831.0967741935483,
          1062.833333333333,
          2295.483870967742,
          1298.387096774194,
          2098.333333333333,
          1399.193548387097,
          692.7666666666663,
          345.80645161290295,
          264.1290322580645,
          270.1785714285712,
          298.12903225806446,
          564.5333333333331,
          825,
          1689.1333333333332,
          2184.8387096774195,
          1497.096774193548,
          1759.6666666666663,
          1367.3870967741934,
          721.1666666666665,
          324.5483870967741
         ]
        },
        {
         "mode": "lines",
         "name": "pred",
         "type": "scatter",
         "x": [
          "2015-01-01T00:00:00",
          "2015-02-01T00:00:00",
          "2015-03-01T00:00:00",
          "2015-04-01T00:00:00",
          "2015-05-01T00:00:00",
          "2015-06-01T00:00:00",
          "2015-07-01T00:00:00",
          "2015-08-01T00:00:00",
          "2015-09-01T00:00:00",
          "2015-10-01T00:00:00",
          "2015-11-01T00:00:00",
          "2015-12-01T00:00:00",
          "2016-01-01T00:00:00",
          "2016-02-01T00:00:00",
          "2016-03-01T00:00:00",
          "2016-04-01T00:00:00",
          "2016-05-01T00:00:00",
          "2016-06-01T00:00:00",
          "2016-07-01T00:00:00",
          "2016-08-01T00:00:00",
          "2016-09-01T00:00:00",
          "2016-10-01T00:00:00",
          "2016-11-01T00:00:00",
          "2016-12-01T00:00:00",
          "2017-01-01T00:00:00",
          "2017-02-01T00:00:00",
          "2017-03-01T00:00:00",
          "2017-04-01T00:00:00",
          "2017-05-01T00:00:00",
          "2017-06-01T00:00:00",
          "2017-07-01T00:00:00",
          "2017-08-01T00:00:00",
          "2017-09-01T00:00:00",
          "2017-10-01T00:00:00",
          "2017-11-01T00:00:00",
          "2017-12-01T00:00:00",
          "2018-01-01T00:00:00",
          "2018-02-01T00:00:00",
          "2018-03-01T00:00:00",
          "2018-04-01T00:00:00",
          "2018-05-01T00:00:00",
          "2018-06-01T00:00:00",
          "2018-07-01T00:00:00",
          "2018-08-01T00:00:00",
          "2018-09-01T00:00:00",
          "2018-10-01T00:00:00",
          "2018-11-01T00:00:00",
          "2018-12-01T00:00:00",
          "2019-01-01T00:00:00",
          "2019-02-01T00:00:00",
          "2019-03-01T00:00:00",
          "2019-04-01T00:00:00",
          "2019-05-01T00:00:00",
          "2019-06-01T00:00:00",
          "2019-07-01T00:00:00",
          "2019-08-01T00:00:00",
          "2019-09-01T00:00:00",
          "2019-10-01T00:00:00",
          "2019-11-01T00:00:00",
          "2019-12-01T00:00:00"
         ],
         "y": [
          180.9667510986328,
          196.06243896484375,
          287.0595703125,
          293.0514221191406,
          420.9197082519531,
          988.7939453125,
          1117.11376953125,
          1422.8524169921875,
          1752.622314453125,
          890.8330078125,
          599.2578125,
          386.4757080078125,
          189.8717041015625,
          208.17466735839844,
          269.38958740234375,
          352.73663330078125,
          682.3785400390625,
          457.62432861328125,
          714.4353637695312,
          551.7528076171875,
          496.8188781738281,
          539.4840698242188,
          239.07017517089844,
          151.50173950195312,
          198.16981506347656,
          203.50137329101562,
          220.38967895507812,
          254.86752319335938,
          377.7585144042969,
          751.7022705078125,
          816.0695190429688,
          718.0723266601562,
          793.7445678710938,
          855.3187866210938,
          479.1174621582031,
          287.0895080566406,
          170.62098693847656,
          186.7170867919922,
          252.25823974609375,
          309.3736267089844,
          378.5705871582031,
          821.583251953125,
          829.5302124023438,
          905.939208984375,
          846.0758666992188,
          774.998779296875,
          416.4411926269531,
          271.60174560546875,
          157.521240234375,
          143.93601989746094,
          202.09674072265625,
          314.8470153808594,
          548.2015991210938,
          693.1129760742188,
          611.051513671875,
          724.5433349609375,
          799.1289672851562,
          857.6676635742188,
          389.16693115234375,
          164.2168426513672
         ]
        }
       ],
       "layout": {
        "template": {
         "data": {
          "bar": [
           {
            "error_x": {
             "color": "#2a3f5f"
            },
            "error_y": {
             "color": "#2a3f5f"
            },
            "marker": {
             "line": {
              "color": "white",
              "width": 0.5
             },
             "pattern": {
              "fillmode": "overlay",
              "size": 10,
              "solidity": 0.2
             }
            },
            "type": "bar"
           }
          ],
          "barpolar": [
           {
            "marker": {
             "line": {
              "color": "white",
              "width": 0.5
             },
             "pattern": {
              "fillmode": "overlay",
              "size": 10,
              "solidity": 0.2
             }
            },
            "type": "barpolar"
           }
          ],
          "carpet": [
           {
            "aaxis": {
             "endlinecolor": "#2a3f5f",
             "gridcolor": "#C8D4E3",
             "linecolor": "#C8D4E3",
             "minorgridcolor": "#C8D4E3",
             "startlinecolor": "#2a3f5f"
            },
            "baxis": {
             "endlinecolor": "#2a3f5f",
             "gridcolor": "#C8D4E3",
             "linecolor": "#C8D4E3",
             "minorgridcolor": "#C8D4E3",
             "startlinecolor": "#2a3f5f"
            },
            "type": "carpet"
           }
          ],
          "choropleth": [
           {
            "colorbar": {
             "outlinewidth": 0,
             "ticks": ""
            },
            "type": "choropleth"
           }
          ],
          "contour": [
           {
            "colorbar": {
             "outlinewidth": 0,
             "ticks": ""
            },
            "colorscale": [
             [
              0,
              "#0d0887"
             ],
             [
              0.1111111111111111,
              "#46039f"
             ],
             [
              0.2222222222222222,
              "#7201a8"
             ],
             [
              0.3333333333333333,
              "#9c179e"
             ],
             [
              0.4444444444444444,
              "#bd3786"
             ],
             [
              0.5555555555555556,
              "#d8576b"
             ],
             [
              0.6666666666666666,
              "#ed7953"
             ],
             [
              0.7777777777777778,
              "#fb9f3a"
             ],
             [
              0.8888888888888888,
              "#fdca26"
             ],
             [
              1,
              "#f0f921"
             ]
            ],
            "type": "contour"
           }
          ],
          "contourcarpet": [
           {
            "colorbar": {
             "outlinewidth": 0,
             "ticks": ""
            },
            "type": "contourcarpet"
           }
          ],
          "heatmap": [
           {
            "colorbar": {
             "outlinewidth": 0,
             "ticks": ""
            },
            "colorscale": [
             [
              0,
              "#0d0887"
             ],
             [
              0.1111111111111111,
              "#46039f"
             ],
             [
              0.2222222222222222,
              "#7201a8"
             ],
             [
              0.3333333333333333,
              "#9c179e"
             ],
             [
              0.4444444444444444,
              "#bd3786"
             ],
             [
              0.5555555555555556,
              "#d8576b"
             ],
             [
              0.6666666666666666,
              "#ed7953"
             ],
             [
              0.7777777777777778,
              "#fb9f3a"
             ],
             [
              0.8888888888888888,
              "#fdca26"
             ],
             [
              1,
              "#f0f921"
             ]
            ],
            "type": "heatmap"
           }
          ],
          "heatmapgl": [
           {
            "colorbar": {
             "outlinewidth": 0,
             "ticks": ""
            },
            "colorscale": [
             [
              0,
              "#0d0887"
             ],
             [
              0.1111111111111111,
              "#46039f"
             ],
             [
              0.2222222222222222,
              "#7201a8"
             ],
             [
              0.3333333333333333,
              "#9c179e"
             ],
             [
              0.4444444444444444,
              "#bd3786"
             ],
             [
              0.5555555555555556,
              "#d8576b"
             ],
             [
              0.6666666666666666,
              "#ed7953"
             ],
             [
              0.7777777777777778,
              "#fb9f3a"
             ],
             [
              0.8888888888888888,
              "#fdca26"
             ],
             [
              1,
              "#f0f921"
             ]
            ],
            "type": "heatmapgl"
           }
          ],
          "histogram": [
           {
            "marker": {
             "pattern": {
              "fillmode": "overlay",
              "size": 10,
              "solidity": 0.2
             }
            },
            "type": "histogram"
           }
          ],
          "histogram2d": [
           {
            "colorbar": {
             "outlinewidth": 0,
             "ticks": ""
            },
            "colorscale": [
             [
              0,
              "#0d0887"
             ],
             [
              0.1111111111111111,
              "#46039f"
             ],
             [
              0.2222222222222222,
              "#7201a8"
             ],
             [
              0.3333333333333333,
              "#9c179e"
             ],
             [
              0.4444444444444444,
              "#bd3786"
             ],
             [
              0.5555555555555556,
              "#d8576b"
             ],
             [
              0.6666666666666666,
              "#ed7953"
             ],
             [
              0.7777777777777778,
              "#fb9f3a"
             ],
             [
              0.8888888888888888,
              "#fdca26"
             ],
             [
              1,
              "#f0f921"
             ]
            ],
            "type": "histogram2d"
           }
          ],
          "histogram2dcontour": [
           {
            "colorbar": {
             "outlinewidth": 0,
             "ticks": ""
            },
            "colorscale": [
             [
              0,
              "#0d0887"
             ],
             [
              0.1111111111111111,
              "#46039f"
             ],
             [
              0.2222222222222222,
              "#7201a8"
             ],
             [
              0.3333333333333333,
              "#9c179e"
             ],
             [
              0.4444444444444444,
              "#bd3786"
             ],
             [
              0.5555555555555556,
              "#d8576b"
             ],
             [
              0.6666666666666666,
              "#ed7953"
             ],
             [
              0.7777777777777778,
              "#fb9f3a"
             ],
             [
              0.8888888888888888,
              "#fdca26"
             ],
             [
              1,
              "#f0f921"
             ]
            ],
            "type": "histogram2dcontour"
           }
          ],
          "mesh3d": [
           {
            "colorbar": {
             "outlinewidth": 0,
             "ticks": ""
            },
            "type": "mesh3d"
           }
          ],
          "parcoords": [
           {
            "line": {
             "colorbar": {
              "outlinewidth": 0,
              "ticks": ""
             }
            },
            "type": "parcoords"
           }
          ],
          "pie": [
           {
            "automargin": true,
            "type": "pie"
           }
          ],
          "scatter": [
           {
            "fillpattern": {
             "fillmode": "overlay",
             "size": 10,
             "solidity": 0.2
            },
            "type": "scatter"
           }
          ],
          "scatter3d": [
           {
            "line": {
             "colorbar": {
              "outlinewidth": 0,
              "ticks": ""
             }
            },
            "marker": {
             "colorbar": {
              "outlinewidth": 0,
              "ticks": ""
             }
            },
            "type": "scatter3d"
           }
          ],
          "scattercarpet": [
           {
            "marker": {
             "colorbar": {
              "outlinewidth": 0,
              "ticks": ""
             }
            },
            "type": "scattercarpet"
           }
          ],
          "scattergeo": [
           {
            "marker": {
             "colorbar": {
              "outlinewidth": 0,
              "ticks": ""
             }
            },
            "type": "scattergeo"
           }
          ],
          "scattergl": [
           {
            "marker": {
             "colorbar": {
              "outlinewidth": 0,
              "ticks": ""
             }
            },
            "type": "scattergl"
           }
          ],
          "scattermapbox": [
           {
            "marker": {
             "colorbar": {
              "outlinewidth": 0,
              "ticks": ""
             }
            },
            "type": "scattermapbox"
           }
          ],
          "scatterpolar": [
           {
            "marker": {
             "colorbar": {
              "outlinewidth": 0,
              "ticks": ""
             }
            },
            "type": "scatterpolar"
           }
          ],
          "scatterpolargl": [
           {
            "marker": {
             "colorbar": {
              "outlinewidth": 0,
              "ticks": ""
             }
            },
            "type": "scatterpolargl"
           }
          ],
          "scatterternary": [
           {
            "marker": {
             "colorbar": {
              "outlinewidth": 0,
              "ticks": ""
             }
            },
            "type": "scatterternary"
           }
          ],
          "surface": [
           {
            "colorbar": {
             "outlinewidth": 0,
             "ticks": ""
            },
            "colorscale": [
             [
              0,
              "#0d0887"
             ],
             [
              0.1111111111111111,
              "#46039f"
             ],
             [
              0.2222222222222222,
              "#7201a8"
             ],
             [
              0.3333333333333333,
              "#9c179e"
             ],
             [
              0.4444444444444444,
              "#bd3786"
             ],
             [
              0.5555555555555556,
              "#d8576b"
             ],
             [
              0.6666666666666666,
              "#ed7953"
             ],
             [
              0.7777777777777778,
              "#fb9f3a"
             ],
             [
              0.8888888888888888,
              "#fdca26"
             ],
             [
              1,
              "#f0f921"
             ]
            ],
            "type": "surface"
           }
          ],
          "table": [
           {
            "cells": {
             "fill": {
              "color": "#EBF0F8"
             },
             "line": {
              "color": "white"
             }
            },
            "header": {
             "fill": {
              "color": "#C8D4E3"
             },
             "line": {
              "color": "white"
             }
            },
            "type": "table"
           }
          ]
         },
         "layout": {
          "annotationdefaults": {
           "arrowcolor": "#2a3f5f",
           "arrowhead": 0,
           "arrowwidth": 1
          },
          "autotypenumbers": "strict",
          "coloraxis": {
           "colorbar": {
            "outlinewidth": 0,
            "ticks": ""
           }
          },
          "colorscale": {
           "diverging": [
            [
             0,
             "#8e0152"
            ],
            [
             0.1,
             "#c51b7d"
            ],
            [
             0.2,
             "#de77ae"
            ],
            [
             0.3,
             "#f1b6da"
            ],
            [
             0.4,
             "#fde0ef"
            ],
            [
             0.5,
             "#f7f7f7"
            ],
            [
             0.6,
             "#e6f5d0"
            ],
            [
             0.7,
             "#b8e186"
            ],
            [
             0.8,
             "#7fbc41"
            ],
            [
             0.9,
             "#4d9221"
            ],
            [
             1,
             "#276419"
            ]
           ],
           "sequential": [
            [
             0,
             "#0d0887"
            ],
            [
             0.1111111111111111,
             "#46039f"
            ],
            [
             0.2222222222222222,
             "#7201a8"
            ],
            [
             0.3333333333333333,
             "#9c179e"
            ],
            [
             0.4444444444444444,
             "#bd3786"
            ],
            [
             0.5555555555555556,
             "#d8576b"
            ],
            [
             0.6666666666666666,
             "#ed7953"
            ],
            [
             0.7777777777777778,
             "#fb9f3a"
            ],
            [
             0.8888888888888888,
             "#fdca26"
            ],
            [
             1,
             "#f0f921"
            ]
           ],
           "sequentialminus": [
            [
             0,
             "#0d0887"
            ],
            [
             0.1111111111111111,
             "#46039f"
            ],
            [
             0.2222222222222222,
             "#7201a8"
            ],
            [
             0.3333333333333333,
             "#9c179e"
            ],
            [
             0.4444444444444444,
             "#bd3786"
            ],
            [
             0.5555555555555556,
             "#d8576b"
            ],
            [
             0.6666666666666666,
             "#ed7953"
            ],
            [
             0.7777777777777778,
             "#fb9f3a"
            ],
            [
             0.8888888888888888,
             "#fdca26"
            ],
            [
             1,
             "#f0f921"
            ]
           ]
          },
          "colorway": [
           "#636efa",
           "#EF553B",
           "#00cc96",
           "#ab63fa",
           "#FFA15A",
           "#19d3f3",
           "#FF6692",
           "#B6E880",
           "#FF97FF",
           "#FECB52"
          ],
          "font": {
           "color": "#2a3f5f"
          },
          "geo": {
           "bgcolor": "white",
           "lakecolor": "white",
           "landcolor": "white",
           "showlakes": true,
           "showland": true,
           "subunitcolor": "#C8D4E3"
          },
          "hoverlabel": {
           "align": "left"
          },
          "hovermode": "closest",
          "mapbox": {
           "style": "light"
          },
          "paper_bgcolor": "white",
          "plot_bgcolor": "white",
          "polar": {
           "angularaxis": {
            "gridcolor": "#EBF0F8",
            "linecolor": "#EBF0F8",
            "ticks": ""
           },
           "bgcolor": "white",
           "radialaxis": {
            "gridcolor": "#EBF0F8",
            "linecolor": "#EBF0F8",
            "ticks": ""
           }
          },
          "scene": {
           "xaxis": {
            "backgroundcolor": "white",
            "gridcolor": "#DFE8F3",
            "gridwidth": 2,
            "linecolor": "#EBF0F8",
            "showbackground": true,
            "ticks": "",
            "zerolinecolor": "#EBF0F8"
           },
           "yaxis": {
            "backgroundcolor": "white",
            "gridcolor": "#DFE8F3",
            "gridwidth": 2,
            "linecolor": "#EBF0F8",
            "showbackground": true,
            "ticks": "",
            "zerolinecolor": "#EBF0F8"
           },
           "zaxis": {
            "backgroundcolor": "white",
            "gridcolor": "#DFE8F3",
            "gridwidth": 2,
            "linecolor": "#EBF0F8",
            "showbackground": true,
            "ticks": "",
            "zerolinecolor": "#EBF0F8"
           }
          },
          "shapedefaults": {
           "line": {
            "color": "#2a3f5f"
           }
          },
          "ternary": {
           "aaxis": {
            "gridcolor": "#DFE8F3",
            "linecolor": "#A2B1C6",
            "ticks": ""
           },
           "baxis": {
            "gridcolor": "#DFE8F3",
            "linecolor": "#A2B1C6",
            "ticks": ""
           },
           "bgcolor": "white",
           "caxis": {
            "gridcolor": "#DFE8F3",
            "linecolor": "#A2B1C6",
            "ticks": ""
           }
          },
          "title": {
           "x": 0.05
          },
          "xaxis": {
           "automargin": true,
           "gridcolor": "#EBF0F8",
           "linecolor": "#EBF0F8",
           "ticks": "",
           "title": {
            "standoff": 15
           },
           "zerolinecolor": "#EBF0F8",
           "zerolinewidth": 2
          },
          "yaxis": {
           "automargin": true,
           "gridcolor": "#EBF0F8",
           "linecolor": "#EBF0F8",
           "ticks": "",
           "title": {
            "standoff": 15
           },
           "zerolinecolor": "#EBF0F8",
           "zerolinewidth": 2
          }
         }
        }
       }
      }
     },
     "metadata": {},
     "output_type": "display_data"
    },
    {
     "name": "stderr",
     "output_type": "stream",
     "text": [
      "[I 2024-10-29 19:11:25,729] A new study created in memory with name: example-study\n"
     ]
    },
    {
     "name": "stdout",
     "output_type": "stream",
     "text": [
      "Warning: ARIMASimFlow column not found in data for Guide station, year 2015\n"
     ]
    },
    {
     "name": "stderr",
     "output_type": "stream",
     "text": [
      "[I 2024-10-29 19:12:04,003] Trial 0 finished with value: 0.02015328500419855 and parameters: {'num_layers': 3, 'hidden_size': 8, 'lstm_dropout': 0.3250220449045316, 'dense_dropout': 0.48927806965617116, 'learning_rate': 0.004503434838588385}. Best is trial 0 with value: 0.02015328500419855.\n",
      "[I 2024-10-29 19:12:35,067] Trial 1 finished with value: 0.009575798874720931 and parameters: {'num_layers': 1, 'hidden_size': 24, 'lstm_dropout': 0.13392790698387175, 'dense_dropout': 0.11879345223055454, 'learning_rate': 0.000593515481805685}. Best is trial 1 with value: 0.009575798874720931.\n",
      "[I 2024-10-29 19:13:08,040] Trial 2 finished with value: 0.013350400608032942 and parameters: {'num_layers': 2, 'hidden_size': 88, 'lstm_dropout': 0.12905564353763188, 'dense_dropout': 0.3840635478755741, 'learning_rate': 0.0009509367003866835}. Best is trial 1 with value: 0.009575798874720931.\n",
      "[I 2024-10-29 19:13:38,083] Trial 3 finished with value: 0.009759658598341048 and parameters: {'num_layers': 1, 'hidden_size': 80, 'lstm_dropout': 0.20217241439753497, 'dense_dropout': 0.2539622666113014, 'learning_rate': 0.008414160597468218}. Best is trial 1 with value: 0.009575798874720931.\n",
      "[I 2024-10-29 19:14:10,256] Trial 4 finished with value: 0.013345029205083847 and parameters: {'num_layers': 2, 'hidden_size': 96, 'lstm_dropout': 0.26015213122203334, 'dense_dropout': 0.38357495413209636, 'learning_rate': 0.0009336286056570431}. Best is trial 1 with value: 0.009575798874720931.\n",
      "[I 2024-10-29 19:14:10,327] Trial 5 pruned. \n",
      "[I 2024-10-29 19:14:10,408] Trial 6 pruned. \n",
      "[I 2024-10-29 19:14:10,489] Trial 7 pruned. \n",
      "[I 2024-10-29 19:14:48,425] Trial 8 finished with value: 0.014972762204706669 and parameters: {'num_layers': 3, 'hidden_size': 40, 'lstm_dropout': 0.17249659836529085, 'dense_dropout': 0.2135406946948643, 'learning_rate': 0.027879269475075345}. Best is trial 1 with value: 0.009575798874720931.\n",
      "[I 2024-10-29 19:14:48,499] Trial 9 pruned. \n",
      "[I 2024-10-29 19:14:48,545] Trial 10 pruned. \n",
      "[I 2024-10-29 19:14:48,596] Trial 11 pruned. \n",
      "[I 2024-10-29 19:15:17,944] Trial 12 finished with value: 0.007466293754987419 and parameters: {'num_layers': 1, 'hidden_size': 128, 'lstm_dropout': 0.34241262555495733, 'dense_dropout': 0.0631093700655189, 'learning_rate': 0.007752135535580731}. Best is trial 12 with value: 0.007466293754987419.\n",
      "[I 2024-10-29 19:15:48,045] Trial 13 finished with value: 0.008411850780248642 and parameters: {'num_layers': 1, 'hidden_size': 128, 'lstm_dropout': 0.36422669559081267, 'dense_dropout': 0.0006388691540409608, 'learning_rate': 0.005376234528043799}. Best is trial 12 with value: 0.007466293754987419.\n",
      "[I 2024-10-29 19:16:17,355] Trial 14 finished with value: 0.006744260317645967 and parameters: {'num_layers': 1, 'hidden_size': 128, 'lstm_dropout': 0.39071151931624987, 'dense_dropout': 0.014623141713191214, 'learning_rate': 0.008913457509517247}. Best is trial 14 with value: 0.006744260317645967.\n",
      "[I 2024-10-29 19:16:17,401] Trial 15 pruned. \n",
      "[I 2024-10-29 19:16:46,682] Trial 16 finished with value: 0.007630982785485685 and parameters: {'num_layers': 1, 'hidden_size': 112, 'lstm_dropout': 0.3786362555170353, 'dense_dropout': 0.07682477303132884, 'learning_rate': 0.015051776539968179}. Best is trial 14 with value: 0.006744260317645967.\n",
      "[I 2024-10-29 19:17:19,697] Trial 17 finished with value: 0.005186898517422378 and parameters: {'num_layers': 2, 'hidden_size': 112, 'lstm_dropout': 0.30097349533271295, 'dense_dropout': 0.011778184957823998, 'learning_rate': 0.0024850594330522516}. Best is trial 17 with value: 0.005186898517422378.\n",
      "[I 2024-10-29 19:17:19,745] Trial 18 pruned. \n",
      "[I 2024-10-29 19:17:19,792] Trial 19 pruned. \n",
      "[I 2024-10-29 19:17:19,841] Trial 20 pruned. \n",
      "[I 2024-10-29 19:17:49,718] Trial 21 finished with value: 0.008617384359240532 and parameters: {'num_layers': 1, 'hidden_size': 128, 'lstm_dropout': 0.33300789245440815, 'dense_dropout': 0.049174874771979786, 'learning_rate': 0.010929935950048101}. Best is trial 17 with value: 0.005186898517422378.\n",
      "[I 2024-10-29 19:17:49,762] Trial 22 pruned. \n",
      "[I 2024-10-29 19:17:49,806] Trial 23 pruned. \n",
      "[I 2024-10-29 19:17:49,860] Trial 24 pruned. \n",
      "[I 2024-10-29 19:18:20,885] Trial 25 finished with value: 0.007959991926327348 and parameters: {'num_layers': 1, 'hidden_size': 96, 'lstm_dropout': 0.40963694696188024, 'dense_dropout': 0.16075039941828334, 'learning_rate': 0.005295510173624156}. Best is trial 17 with value: 0.005186898517422378.\n",
      "[I 2024-10-29 19:18:20,944] Trial 26 pruned. \n",
      "[I 2024-10-29 19:18:21,026] Trial 27 pruned. \n",
      "[I 2024-10-29 19:18:21,083] Trial 28 pruned. \n",
      "[I 2024-10-29 19:18:21,140] Trial 29 pruned. \n",
      "[I 2024-10-29 19:18:21,239] Trial 30 pruned. \n",
      "[I 2024-10-29 19:18:21,317] Trial 31 pruned. \n",
      "[I 2024-10-29 19:18:52,059] Trial 32 finished with value: 0.006691959919407964 and parameters: {'num_layers': 1, 'hidden_size': 112, 'lstm_dropout': 0.36357103498899423, 'dense_dropout': 0.029076630944112662, 'learning_rate': 0.01718605186981279}. Best is trial 17 with value: 0.005186898517422378.\n",
      "[I 2024-10-29 19:19:22,893] Trial 33 finished with value: 0.006689452100545168 and parameters: {'num_layers': 1, 'hidden_size': 96, 'lstm_dropout': 0.3459713857954533, 'dense_dropout': 0.022387775375352737, 'learning_rate': 0.006320995244408446}. Best is trial 17 with value: 0.005186898517422378.\n",
      "[I 2024-10-29 19:19:53,011] Trial 34 finished with value: 0.006365967215970159 and parameters: {'num_layers': 1, 'hidden_size': 96, 'lstm_dropout': 0.3632163285850846, 'dense_dropout': 0.02105770151467079, 'learning_rate': 0.005826406075502815}. Best is trial 17 with value: 0.005186898517422378.\n",
      "[I 2024-10-29 19:19:53,056] Trial 35 pruned. \n",
      "[I 2024-10-29 19:19:53,103] Trial 36 pruned. \n",
      "[I 2024-10-29 19:19:53,152] Trial 37 pruned. \n",
      "[I 2024-10-29 19:19:53,195] Trial 38 pruned. \n",
      "[I 2024-10-29 19:19:53,239] Trial 39 pruned. \n",
      "[I 2024-10-29 19:19:53,290] Trial 40 pruned. \n",
      "[I 2024-10-29 19:20:23,864] Trial 41 finished with value: 0.0070733430329710245 and parameters: {'num_layers': 1, 'hidden_size': 104, 'lstm_dropout': 0.4226178632981359, 'dense_dropout': 0.033096416017639955, 'learning_rate': 0.00877869139402645}. Best is trial 17 with value: 0.005186898517422378.\n",
      "[I 2024-10-29 19:20:53,005] Trial 42 finished with value: 0.006936422316357493 and parameters: {'num_layers': 1, 'hidden_size': 112, 'lstm_dropout': 0.3778264380214715, 'dense_dropout': 0.023751144332117675, 'learning_rate': 0.006055295611330545}. Best is trial 17 with value: 0.005186898517422378.\n",
      "[I 2024-10-29 19:21:23,479] Trial 43 finished with value: 0.006408988265320659 and parameters: {'num_layers': 1, 'hidden_size': 88, 'lstm_dropout': 0.3045910328528331, 'dense_dropout': 0.013811102505379189, 'learning_rate': 0.001862068713996235}. Best is trial 17 with value: 0.005186898517422378.\n",
      "[I 2024-10-29 19:21:23,521] Trial 44 pruned. \n",
      "[I 2024-10-29 19:21:52,685] Trial 45 finished with value: 0.0059840650064870715 and parameters: {'num_layers': 1, 'hidden_size': 96, 'lstm_dropout': 0.3066339375817506, 'dense_dropout': 0.02524982346825198, 'learning_rate': 0.00377685802322227}. Best is trial 17 with value: 0.005186898517422378.\n",
      "[I 2024-10-29 19:21:52,732] Trial 46 pruned. \n",
      "[I 2024-10-29 19:21:52,828] Trial 47 pruned. \n",
      "[I 2024-10-29 19:21:52,903] Trial 48 pruned. \n",
      "[I 2024-10-29 19:21:53,052] Trial 49 pruned. \n",
      "[I 2024-10-29 19:21:53,140] Trial 50 pruned. \n",
      "[I 2024-10-29 19:22:23,498] Trial 51 finished with value: 0.008175440598279238 and parameters: {'num_layers': 1, 'hidden_size': 104, 'lstm_dropout': 0.35863809072804503, 'dense_dropout': 0.02056009632875283, 'learning_rate': 0.004421026890686187}. Best is trial 17 with value: 0.005186898517422378.\n",
      "[I 2024-10-29 19:22:23,595] Trial 52 pruned. \n",
      "[I 2024-10-29 19:22:23,684] Trial 53 pruned. \n",
      "[I 2024-10-29 19:22:23,962] Trial 54 pruned. \n",
      "[I 2024-10-29 19:22:24,025] Trial 55 pruned. \n",
      "[I 2024-10-29 19:22:24,090] Trial 56 pruned. \n",
      "[I 2024-10-29 19:22:24,139] Trial 57 pruned. \n",
      "[I 2024-10-29 19:22:24,192] Trial 58 pruned. \n",
      "[I 2024-10-29 19:22:24,244] Trial 59 pruned. \n",
      "[I 2024-10-29 19:22:24,294] Trial 60 pruned. \n",
      "[I 2024-10-29 19:22:53,951] Trial 61 finished with value: 0.006327737122774124 and parameters: {'num_layers': 1, 'hidden_size': 104, 'lstm_dropout': 0.3947793010418344, 'dense_dropout': 0.01878938202172743, 'learning_rate': 0.009708626422014187}. Best is trial 17 with value: 0.005186898517422378.\n",
      "[I 2024-10-29 19:23:24,314] Trial 62 finished with value: 0.009866781998425722 and parameters: {'num_layers': 1, 'hidden_size': 104, 'lstm_dropout': 0.39068299714762433, 'dense_dropout': 0.034453610874453075, 'learning_rate': 0.009940626479981556}. Best is trial 17 with value: 0.005186898517422378.\n",
      "[I 2024-10-29 19:23:24,361] Trial 63 pruned. \n",
      "[I 2024-10-29 19:23:55,837] Trial 64 finished with value: 0.011065301951020956 and parameters: {'num_layers': 1, 'hidden_size': 112, 'lstm_dropout': 0.31863457185358096, 'dense_dropout': 0.04767667389812106, 'learning_rate': 0.006657831958721376}. Best is trial 17 with value: 0.005186898517422378.\n",
      "[I 2024-10-29 19:23:55,912] Trial 65 pruned. \n",
      "[I 2024-10-29 19:23:55,959] Trial 66 pruned. \n",
      "[I 2024-10-29 19:23:56,056] Trial 67 pruned. \n",
      "[I 2024-10-29 19:24:27,294] Trial 68 finished with value: 0.006297838990576565 and parameters: {'num_layers': 1, 'hidden_size': 72, 'lstm_dropout': 0.37917144256498625, 'dense_dropout': 0.014172533590936407, 'learning_rate': 0.0033038879004068673}. Best is trial 17 with value: 0.005186898517422378.\n",
      "[I 2024-10-29 19:24:27,349] Trial 69 pruned. \n",
      "[I 2024-10-29 19:24:27,394] Trial 70 pruned. \n",
      "[I 2024-10-29 19:24:27,447] Trial 71 pruned. \n",
      "[I 2024-10-29 19:24:27,495] Trial 72 pruned. \n",
      "[I 2024-10-29 19:24:27,573] Trial 73 pruned. \n",
      "[I 2024-10-29 19:24:27,625] Trial 74 pruned. \n",
      "[I 2024-10-29 19:24:58,964] Trial 75 finished with value: 0.007023217156529427 and parameters: {'num_layers': 1, 'hidden_size': 56, 'lstm_dropout': 0.3570826493674014, 'dense_dropout': 0.06601849358922697, 'learning_rate': 0.011256737021891767}. Best is trial 17 with value: 0.005186898517422378.\n",
      "[I 2024-10-29 19:24:59,019] Trial 76 pruned. \n",
      "[I 2024-10-29 19:24:59,163] Trial 77 pruned. \n",
      "[I 2024-10-29 19:24:59,243] Trial 78 pruned. \n",
      "[I 2024-10-29 19:24:59,300] Trial 79 pruned. \n",
      "[I 2024-10-29 19:24:59,360] Trial 80 pruned. \n",
      "[I 2024-10-29 19:25:29,207] Trial 81 finished with value: 0.008610344724729657 and parameters: {'num_layers': 1, 'hidden_size': 120, 'lstm_dropout': 0.3867460418935291, 'dense_dropout': 0.009621918764807936, 'learning_rate': 0.00904142160128444}. Best is trial 17 with value: 0.005186898517422378.\n",
      "[I 2024-10-29 19:25:59,710] Trial 82 finished with value: 0.006309013464488089 and parameters: {'num_layers': 1, 'hidden_size': 128, 'lstm_dropout': 0.3502876158290591, 'dense_dropout': 0.03865674774682964, 'learning_rate': 0.004131728494567716}. Best is trial 17 with value: 0.005186898517422378.\n",
      "[I 2024-10-29 19:25:59,794] Trial 83 pruned. \n",
      "[I 2024-10-29 19:25:59,928] Trial 84 pruned. \n",
      "[I 2024-10-29 19:26:00,019] Trial 85 pruned. \n",
      "[I 2024-10-29 19:26:00,106] Trial 86 pruned. \n",
      "[I 2024-10-29 19:26:30,561] Trial 87 finished with value: 0.006900971522554755 and parameters: {'num_layers': 1, 'hidden_size': 96, 'lstm_dropout': 0.31776262478981004, 'dense_dropout': 0.00806174666368144, 'learning_rate': 0.007970789213232231}. Best is trial 17 with value: 0.005186898517422378.\n",
      "[I 2024-10-29 19:26:31,114] Trial 88 pruned. \n",
      "[I 2024-10-29 19:27:01,347] Trial 89 finished with value: 0.006900280946865678 and parameters: {'num_layers': 1, 'hidden_size': 64, 'lstm_dropout': 0.2727022484839812, 'dense_dropout': 0.03979853056281912, 'learning_rate': 0.011938264194343776}. Best is trial 17 with value: 0.005186898517422378.\n",
      "[I 2024-10-29 19:27:01,410] Trial 90 pruned. \n",
      "[I 2024-10-29 19:27:30,845] Trial 91 finished with value: 0.007807003799825907 and parameters: {'num_layers': 1, 'hidden_size': 128, 'lstm_dropout': 0.36021547745865734, 'dense_dropout': 0.00017523854119897223, 'learning_rate': 0.006725420296939403}. Best is trial 17 with value: 0.005186898517422378.\n",
      "[I 2024-10-29 19:28:01,210] Trial 92 finished with value: 0.007277172524482012 and parameters: {'num_layers': 1, 'hidden_size': 112, 'lstm_dropout': 0.3745890304090333, 'dense_dropout': 0.02256349482552171, 'learning_rate': 0.0031453382139421176}. Best is trial 17 with value: 0.005186898517422378.\n",
      "[I 2024-10-29 19:28:01,254] Trial 93 pruned. \n",
      "[I 2024-10-29 19:28:01,300] Trial 94 pruned. \n",
      "[I 2024-10-29 19:28:01,346] Trial 95 pruned. \n",
      "[I 2024-10-29 19:28:01,420] Trial 96 pruned. \n",
      "[I 2024-10-29 19:28:01,467] Trial 97 pruned. \n",
      "[I 2024-10-29 19:28:01,837] Trial 98 pruned. \n",
      "[I 2024-10-29 19:28:01,901] Trial 99 pruned. \n",
      "[I 2024-10-29 19:28:02,031] A new study created in memory with name: example-study\n"
     ]
    },
    {
     "name": "stdout",
     "output_type": "stream",
     "text": [
      "Study statistics: \n",
      "  Number of finished trials:  100\n",
      "  Number of pruned trials:  68\n",
      "  Number of complete trials:  32\n",
      "Best trial:\n",
      "  Value:  0.005186898517422378\n",
      "  Params: \n",
      "    num_layers: 2\n",
      "    hidden_size: 112\n",
      "    lstm_dropout: 0.30097349533271295\n",
      "    dense_dropout: 0.011778184957823998\n",
      "    learning_rate: 0.0024850594330522516\n",
      "R2 for sim at Guide(1972-2014) 0.9393826540598131\n",
      "Warning: ARIMASimFlow column not found in data for Guide station, year 2016\n"
     ]
    },
    {
     "name": "stderr",
     "output_type": "stream",
     "text": [
      "[I 2024-10-29 19:28:33,199] Trial 0 finished with value: 0.014818212483078241 and parameters: {'num_layers': 1, 'hidden_size': 32, 'lstm_dropout': 0.06025321819862306, 'dense_dropout': 0.3345799208319085, 'learning_rate': 0.08064935284912757}. Best is trial 0 with value: 0.014818212483078241.\n",
      "[I 2024-10-29 19:29:09,946] Trial 1 finished with value: 0.00841040292289108 and parameters: {'num_layers': 2, 'hidden_size': 120, 'lstm_dropout': 0.46236089570653255, 'dense_dropout': 0.15613311553241815, 'learning_rate': 0.014902963902843416}. Best is trial 1 with value: 0.00841040292289108.\n",
      "[I 2024-10-29 19:29:41,870] Trial 2 finished with value: 0.008869201759807765 and parameters: {'num_layers': 1, 'hidden_size': 72, 'lstm_dropout': 0.35751743179423495, 'dense_dropout': 0.21131781301781832, 'learning_rate': 0.003936438711558509}. Best is trial 1 with value: 0.00841040292289108.\n",
      "[I 2024-10-29 19:30:15,226] Trial 3 finished with value: 0.010049399919807911 and parameters: {'num_layers': 1, 'hidden_size': 32, 'lstm_dropout': 0.40073240534942445, 'dense_dropout': 0.298779827156022, 'learning_rate': 0.000155131868619461}. Best is trial 1 with value: 0.00841040292289108.\n",
      "[I 2024-10-29 19:30:51,493] Trial 4 finished with value: 0.01395330997183919 and parameters: {'num_layers': 2, 'hidden_size': 64, 'lstm_dropout': 0.052429674948865246, 'dense_dropout': 0.42958967219900307, 'learning_rate': 0.0011234730171969926}. Best is trial 1 with value: 0.00841040292289108.\n",
      "[I 2024-10-29 19:30:51,544] Trial 5 pruned. \n",
      "[I 2024-10-29 19:30:51,653] Trial 6 pruned. \n",
      "[I 2024-10-29 19:30:51,695] Trial 7 pruned. \n",
      "[I 2024-10-29 19:30:51,744] Trial 8 pruned. \n",
      "[I 2024-10-29 19:30:51,806] Trial 9 pruned. \n",
      "[I 2024-10-29 19:31:27,302] Trial 10 finished with value: 0.008710098918527365 and parameters: {'num_layers': 2, 'hidden_size': 128, 'lstm_dropout': 0.4633018735540149, 'dense_dropout': 0.11163458577069818, 'learning_rate': 0.008016898145317676}. Best is trial 1 with value: 0.00841040292289108.\n",
      "[I 2024-10-29 19:32:01,944] Trial 11 finished with value: 0.009155509993433952 and parameters: {'num_layers': 2, 'hidden_size': 128, 'lstm_dropout': 0.49632839157714337, 'dense_dropout': 0.12218265715813675, 'learning_rate': 0.012735476036310213}. Best is trial 1 with value: 0.00841040292289108.\n",
      "[I 2024-10-29 19:32:01,995] Trial 12 pruned. \n",
      "[I 2024-10-29 19:32:37,429] Trial 13 finished with value: 0.008842652197927237 and parameters: {'num_layers': 2, 'hidden_size': 112, 'lstm_dropout': 0.4273297337394323, 'dense_dropout': 0.11850725191232345, 'learning_rate': 0.014765354478133912}. Best is trial 1 with value: 0.00841040292289108.\n",
      "[I 2024-10-29 19:33:12,474] Trial 14 finished with value: 0.006671999115496874 and parameters: {'num_layers': 2, 'hidden_size': 80, 'lstm_dropout': 0.2504887651383153, 'dense_dropout': 0.0016261815971872484, 'learning_rate': 0.003989995302907657}. Best is trial 14 with value: 0.006671999115496874.\n",
      "[I 2024-10-29 19:33:12,563] Trial 15 pruned. \n",
      "[I 2024-10-29 19:33:12,648] Trial 16 pruned. \n",
      "[I 2024-10-29 19:33:45,037] Trial 17 finished with value: 0.007860413868911564 and parameters: {'num_layers': 1, 'hidden_size': 88, 'lstm_dropout': 0.1486809284333644, 'dense_dropout': 0.04768280497372328, 'learning_rate': 0.0031486985714980014}. Best is trial 14 with value: 0.006671999115496874.\n",
      "[I 2024-10-29 19:33:45,082] Trial 18 pruned. \n",
      "[I 2024-10-29 19:33:45,126] Trial 19 pruned. \n",
      "[I 2024-10-29 19:34:16,898] Trial 20 finished with value: 0.009232248645275831 and parameters: {'num_layers': 1, 'hidden_size': 96, 'lstm_dropout': 0.10401680191467942, 'dense_dropout': 0.06417198900427151, 'learning_rate': 0.003110267827512093}. Best is trial 14 with value: 0.006671999115496874.\n",
      "[I 2024-10-29 19:34:16,960] Trial 21 pruned. \n",
      "[I 2024-10-29 19:34:17,021] Trial 22 pruned. \n",
      "[I 2024-10-29 19:34:17,079] Trial 23 pruned. \n",
      "[I 2024-10-29 19:34:17,167] Trial 24 pruned. \n",
      "[I 2024-10-29 19:34:17,265] Trial 25 pruned. \n",
      "[I 2024-10-29 19:34:17,328] Trial 26 pruned. \n",
      "[I 2024-10-29 19:34:17,384] Trial 27 pruned. \n",
      "[I 2024-10-29 19:34:17,434] Trial 28 pruned. \n",
      "[I 2024-10-29 19:34:17,489] Trial 29 pruned. \n",
      "[I 2024-10-29 19:34:17,541] Trial 30 pruned. \n",
      "[I 2024-10-29 19:34:17,603] Trial 31 pruned. \n",
      "[I 2024-10-29 19:34:51,863] Trial 32 finished with value: 0.008483011974021792 and parameters: {'num_layers': 2, 'hidden_size': 120, 'lstm_dropout': 0.429145054354132, 'dense_dropout': 0.13693271808621055, 'learning_rate': 0.004654834425492334}. Best is trial 14 with value: 0.006671999115496874.\n",
      "[I 2024-10-29 19:34:52,016] Trial 33 pruned. \n",
      "[I 2024-10-29 19:34:52,126] Trial 34 pruned. \n",
      "[I 2024-10-29 19:35:24,580] Trial 35 finished with value: 0.0067771614994853735 and parameters: {'num_layers': 1, 'hidden_size': 96, 'lstm_dropout': 0.3766599764367155, 'dense_dropout': 0.09075883531146521, 'learning_rate': 0.0023422822656811865}. Best is trial 14 with value: 0.006671999115496874.\n",
      "[I 2024-10-29 19:35:58,152] Trial 36 finished with value: 0.007939805276691914 and parameters: {'num_layers': 1, 'hidden_size': 96, 'lstm_dropout': 0.3774818651159031, 'dense_dropout': 0.04236010512801873, 'learning_rate': 0.0021589085056171638}. Best is trial 14 with value: 0.006671999115496874.\n",
      "[I 2024-10-29 19:35:58,205] Trial 37 pruned. \n",
      "[I 2024-10-29 19:35:58,253] Trial 38 pruned. \n",
      "[I 2024-10-29 19:35:58,303] Trial 39 pruned. \n",
      "[I 2024-10-29 19:35:58,351] Trial 40 pruned. \n",
      "[I 2024-10-29 19:35:58,651] Trial 41 pruned. \n",
      "[I 2024-10-29 19:36:31,835] Trial 42 finished with value: 0.010281916707754135 and parameters: {'num_layers': 1, 'hidden_size': 80, 'lstm_dropout': 0.4597741068596841, 'dense_dropout': 0.045500249835143135, 'learning_rate': 0.01570043175412698}. Best is trial 14 with value: 0.006671999115496874.\n",
      "[I 2024-10-29 19:37:04,734] Trial 43 finished with value: 0.010183872655034065 and parameters: {'num_layers': 1, 'hidden_size': 104, 'lstm_dropout': 0.3446317616626783, 'dense_dropout': 0.0026668490466316766, 'learning_rate': 0.007860105297798058}. Best is trial 14 with value: 0.006671999115496874.\n",
      "[I 2024-10-29 19:37:04,782] Trial 44 pruned. \n",
      "[I 2024-10-29 19:37:04,830] Trial 45 pruned. \n",
      "[I 2024-10-29 19:37:04,875] Trial 46 pruned. \n",
      "[I 2024-10-29 19:37:04,940] Trial 47 pruned. \n",
      "[I 2024-10-29 19:37:36,942] Trial 48 finished with value: 0.007795316632837057 and parameters: {'num_layers': 1, 'hidden_size': 96, 'lstm_dropout': 0.15479064501717596, 'dense_dropout': 0.11355171791989262, 'learning_rate': 0.0023327655052162643}. Best is trial 14 with value: 0.006671999115496874.\n",
      "[I 2024-10-29 19:38:09,332] Trial 49 finished with value: 0.006899080239236355 and parameters: {'num_layers': 1, 'hidden_size': 96, 'lstm_dropout': 0.15248158039204773, 'dense_dropout': 0.01834285955713709, 'learning_rate': 0.002422049418112157}. Best is trial 14 with value: 0.006671999115496874.\n",
      "[I 2024-10-29 19:38:09,382] Trial 50 pruned. \n",
      "[I 2024-10-29 19:38:09,427] Trial 51 pruned. \n",
      "[I 2024-10-29 19:38:41,584] Trial 52 finished with value: 0.005183910019695759 and parameters: {'num_layers': 1, 'hidden_size': 88, 'lstm_dropout': 0.081564960322689, 'dense_dropout': 0.07674000615423207, 'learning_rate': 0.0025425793140244654}. Best is trial 52 with value: 0.005183910019695759.\n",
      "[I 2024-10-29 19:38:41,630] Trial 53 pruned. \n",
      "[I 2024-10-29 19:38:41,680] Trial 54 pruned. \n",
      "[I 2024-10-29 19:38:41,726] Trial 55 pruned. \n",
      "[I 2024-10-29 19:39:13,964] Trial 56 finished with value: 0.008521531242877245 and parameters: {'num_layers': 1, 'hidden_size': 104, 'lstm_dropout': 0.031109309316230543, 'dense_dropout': 0.0699822496571591, 'learning_rate': 0.01037530628053723}. Best is trial 52 with value: 0.005183910019695759.\n",
      "[I 2024-10-29 19:39:14,013] Trial 57 pruned. \n",
      "[I 2024-10-29 19:39:14,067] Trial 58 pruned. \n",
      "[I 2024-10-29 19:39:45,612] Trial 59 finished with value: 0.008605784038081765 and parameters: {'num_layers': 1, 'hidden_size': 96, 'lstm_dropout': 0.21950697397823116, 'dense_dropout': 0.019243929976580337, 'learning_rate': 0.0030019244673115462}. Best is trial 52 with value: 0.005183910019695759.\n",
      "[I 2024-10-29 19:40:17,794] Trial 60 finished with value: 0.009636169066652656 and parameters: {'num_layers': 1, 'hidden_size': 72, 'lstm_dropout': 0.12288061605199492, 'dense_dropout': 0.12877843887182772, 'learning_rate': 0.006185504584662589}. Best is trial 52 with value: 0.005183910019695759.\n",
      "[I 2024-10-29 19:40:17,844] Trial 61 pruned. \n",
      "[I 2024-10-29 19:40:49,170] Trial 62 finished with value: 0.00860101729631424 and parameters: {'num_layers': 1, 'hidden_size': 104, 'lstm_dropout': 0.16262050797536454, 'dense_dropout': 0.03887894494324243, 'learning_rate': 0.002626373003003941}. Best is trial 52 with value: 0.005183910019695759.\n",
      "[I 2024-10-29 19:40:49,215] Trial 63 pruned. \n",
      "[I 2024-10-29 19:40:49,263] Trial 64 pruned. \n",
      "[I 2024-10-29 19:41:21,174] Trial 65 finished with value: 0.00799585715867579 and parameters: {'num_layers': 1, 'hidden_size': 112, 'lstm_dropout': 0.23630686155561198, 'dense_dropout': 0.0009901417259945517, 'learning_rate': 0.004212161970689234}. Best is trial 52 with value: 0.005183910019695759.\n",
      "[I 2024-10-29 19:41:21,221] Trial 66 pruned. \n",
      "[I 2024-10-29 19:41:21,362] Trial 67 pruned. \n",
      "[I 2024-10-29 19:41:21,453] Trial 68 pruned. \n",
      "[I 2024-10-29 19:41:21,533] Trial 69 pruned. \n",
      "[I 2024-10-29 19:41:21,646] Trial 70 pruned. \n",
      "[I 2024-10-29 19:41:54,620] Trial 71 finished with value: 0.0075765554793179035 and parameters: {'num_layers': 1, 'hidden_size': 112, 'lstm_dropout': 0.22665198930338978, 'dense_dropout': 0.012073451074172181, 'learning_rate': 0.003801064547423932}. Best is trial 52 with value: 0.005183910019695759.\n",
      "[I 2024-10-29 19:41:54,671] Trial 72 pruned. \n",
      "[I 2024-10-29 19:42:27,698] Trial 73 finished with value: 0.008984518703073263 and parameters: {'num_layers': 1, 'hidden_size': 128, 'lstm_dropout': 0.22594506448688276, 'dense_dropout': 0.03729203469614084, 'learning_rate': 0.008009947988723324}. Best is trial 52 with value: 0.005183910019695759.\n",
      "[I 2024-10-29 19:42:27,845] Trial 74 pruned. \n",
      "[I 2024-10-29 19:42:27,896] Trial 75 pruned. \n",
      "[I 2024-10-29 19:42:27,981] Trial 76 pruned. \n",
      "[I 2024-10-29 19:42:28,041] Trial 77 pruned. \n",
      "[I 2024-10-29 19:42:28,089] Trial 78 pruned. \n",
      "[I 2024-10-29 19:42:28,136] Trial 79 pruned. \n",
      "[I 2024-10-29 19:42:28,184] Trial 80 pruned. \n",
      "[I 2024-10-29 19:42:28,267] Trial 81 pruned. \n",
      "[I 2024-10-29 19:43:01,294] Trial 82 finished with value: 0.007080434123054147 and parameters: {'num_layers': 1, 'hidden_size': 120, 'lstm_dropout': 0.24252227301571175, 'dense_dropout': 0.027195297618742863, 'learning_rate': 0.0025576952224017507}. Best is trial 52 with value: 0.005183910019695759.\n",
      "[I 2024-10-29 19:43:33,647] Trial 83 finished with value: 0.007297656033188105 and parameters: {'num_layers': 1, 'hidden_size': 120, 'lstm_dropout': 0.2616712538067304, 'dense_dropout': 0.030224847310048864, 'learning_rate': 0.0026736562577055565}. Best is trial 52 with value: 0.005183910019695759.\n",
      "[I 2024-10-29 19:43:33,711] Trial 84 pruned. \n",
      "[I 2024-10-29 19:43:33,761] Trial 85 pruned. \n",
      "[I 2024-10-29 19:43:33,811] Trial 86 pruned. \n",
      "[I 2024-10-29 19:44:09,486] Trial 87 finished with value: 0.011351663852110505 and parameters: {'num_layers': 2, 'hidden_size': 128, 'lstm_dropout': 0.23322986633799153, 'dense_dropout': 0.016565467708648397, 'learning_rate': 0.005399557657519179}. Best is trial 52 with value: 0.005183910019695759.\n",
      "[I 2024-10-29 19:44:09,535] Trial 88 pruned. \n",
      "[I 2024-10-29 19:44:09,581] Trial 89 pruned. \n",
      "[I 2024-10-29 19:44:09,630] Trial 90 pruned. \n",
      "[I 2024-10-29 19:44:09,676] Trial 91 pruned. \n",
      "[I 2024-10-29 19:44:42,130] Trial 92 finished with value: 0.006144236191175878 and parameters: {'num_layers': 1, 'hidden_size': 88, 'lstm_dropout': 0.17928571753677885, 'dense_dropout': 0.041837120795314, 'learning_rate': 0.0037051726020876463}. Best is trial 52 with value: 0.005183910019695759.\n",
      "[I 2024-10-29 19:45:14,319] Trial 93 finished with value: 0.009689038852229714 and parameters: {'num_layers': 1, 'hidden_size': 88, 'lstm_dropout': 0.28420378444633, 'dense_dropout': 0.03777979244779439, 'learning_rate': 0.004954524422592986}. Best is trial 52 with value: 0.005183910019695759.\n",
      "[I 2024-10-29 19:45:14,430] Trial 94 pruned. \n",
      "[I 2024-10-29 19:45:47,030] Trial 95 finished with value: 0.009963931050151587 and parameters: {'num_layers': 1, 'hidden_size': 88, 'lstm_dropout': 0.17526725178341823, 'dense_dropout': 0.023119240477520616, 'learning_rate': 0.009344774655688354}. Best is trial 52 with value: 0.005183910019695759.\n",
      "[I 2024-10-29 19:45:47,107] Trial 96 pruned. \n",
      "[I 2024-10-29 19:46:18,776] Trial 97 finished with value: 0.010273670312017202 and parameters: {'num_layers': 1, 'hidden_size': 80, 'lstm_dropout': 0.18083594321103558, 'dense_dropout': 0.12803779704163876, 'learning_rate': 0.007042560606540321}. Best is trial 52 with value: 0.005183910019695759.\n",
      "[I 2024-10-29 19:46:18,825] Trial 98 pruned. \n",
      "[I 2024-10-29 19:46:18,875] Trial 99 pruned. \n",
      "[I 2024-10-29 19:46:18,983] A new study created in memory with name: example-study\n"
     ]
    },
    {
     "name": "stdout",
     "output_type": "stream",
     "text": [
      "Study statistics: \n",
      "  Number of finished trials:  100\n",
      "  Number of pruned trials:  67\n",
      "  Number of complete trials:  33\n",
      "Best trial:\n",
      "  Value:  0.005183910019695759\n",
      "  Params: \n",
      "    num_layers: 1\n",
      "    hidden_size: 88\n",
      "    lstm_dropout: 0.081564960322689\n",
      "    dense_dropout: 0.07674000615423207\n",
      "    learning_rate: 0.0025425793140244654\n",
      "R2 for sim at Guide(1972-2015) 0.9492175905992939\n",
      "Warning: ARIMASimFlow column not found in data for Guide station, year 2017\n"
     ]
    },
    {
     "name": "stderr",
     "output_type": "stream",
     "text": [
      "[I 2024-10-29 19:46:51,324] Trial 0 finished with value: 0.013523741625249386 and parameters: {'num_layers': 1, 'hidden_size': 72, 'lstm_dropout': 0.32276648805124486, 'dense_dropout': 0.06528413431540919, 'learning_rate': 0.07718456050638867}. Best is trial 0 with value: 0.013523741625249386.\n",
      "[I 2024-10-29 19:47:30,945] Trial 1 finished with value: 0.01576598407700658 and parameters: {'num_layers': 3, 'hidden_size': 8, 'lstm_dropout': 0.2767263896366522, 'dense_dropout': 0.48903775441842445, 'learning_rate': 5.7541963679007134e-05}. Best is trial 0 with value: 0.013523741625249386.\n",
      "[I 2024-10-29 19:48:07,851] Trial 2 finished with value: 0.007021342869848013 and parameters: {'num_layers': 2, 'hidden_size': 80, 'lstm_dropout': 0.3587352382582901, 'dense_dropout': 0.23623129343058386, 'learning_rate': 0.013011973834316397}. Best is trial 2 with value: 0.007021342869848013.\n",
      "[I 2024-10-29 19:48:39,949] Trial 3 finished with value: 0.009834247408434749 and parameters: {'num_layers': 1, 'hidden_size': 128, 'lstm_dropout': 0.33470988643054406, 'dense_dropout': 0.22678060488163343, 'learning_rate': 4.0819378266087395e-05}. Best is trial 2 with value: 0.007021342869848013.\n",
      "[I 2024-10-29 19:49:12,675] Trial 4 finished with value: 0.010579711524769664 and parameters: {'num_layers': 1, 'hidden_size': 32, 'lstm_dropout': 0.3102024705107749, 'dense_dropout': 0.1298337105564949, 'learning_rate': 0.0017288565906594792}. Best is trial 2 with value: 0.007021342869848013.\n",
      "[I 2024-10-29 19:49:12,753] Trial 5 pruned. \n",
      "[I 2024-10-29 19:49:44,990] Trial 6 finished with value: 0.008667535148561 and parameters: {'num_layers': 1, 'hidden_size': 48, 'lstm_dropout': 0.0011516300019136505, 'dense_dropout': 0.16583583038117872, 'learning_rate': 0.004087121618791392}. Best is trial 2 with value: 0.007021342869848013.\n",
      "[I 2024-10-29 19:49:45,070] Trial 7 pruned. \n",
      "[I 2024-10-29 19:49:45,107] Trial 8 pruned. \n",
      "[I 2024-10-29 19:50:17,821] Trial 9 finished with value: 0.004578735679388046 and parameters: {'num_layers': 1, 'hidden_size': 48, 'lstm_dropout': 0.06801258879063271, 'dense_dropout': 0.018784534064863467, 'learning_rate': 0.0194143737618681}. Best is trial 9 with value: 0.004578735679388046.\n",
      "[I 2024-10-29 19:50:17,874] Trial 10 pruned. \n",
      "[I 2024-10-29 19:50:17,937] Trial 11 pruned. \n",
      "[I 2024-10-29 19:50:17,985] Trial 12 pruned. \n",
      "[I 2024-10-29 19:50:18,044] Trial 13 pruned. \n",
      "[I 2024-10-29 19:50:18,226] Trial 14 pruned. \n",
      "[I 2024-10-29 19:50:18,314] Trial 15 pruned. \n",
      "[I 2024-10-29 19:50:18,408] Trial 16 pruned. \n",
      "[I 2024-10-29 19:50:18,489] Trial 17 pruned. \n",
      "[I 2024-10-29 19:50:18,583] Trial 18 pruned. \n",
      "[I 2024-10-29 19:50:18,675] Trial 19 pruned. \n",
      "[I 2024-10-29 19:50:18,794] Trial 20 pruned. \n",
      "[I 2024-10-29 19:50:50,558] Trial 21 finished with value: 0.008733686292544007 and parameters: {'num_layers': 1, 'hidden_size': 48, 'lstm_dropout': 0.0033724557006161414, 'dense_dropout': 0.17291249057302116, 'learning_rate': 0.004139559009615705}. Best is trial 9 with value: 0.004578735679388046.\n",
      "[I 2024-10-29 19:50:50,695] Trial 22 pruned. \n",
      "[I 2024-10-29 19:51:22,863] Trial 23 finished with value: 0.007852156646549702 and parameters: {'num_layers': 1, 'hidden_size': 40, 'lstm_dropout': 0.046100352096816434, 'dense_dropout': 0.09393748679232493, 'learning_rate': 0.0103547555212542}. Best is trial 9 with value: 0.004578735679388046.\n",
      "[I 2024-10-29 19:51:54,539] Trial 24 finished with value: 0.009680445538833737 and parameters: {'num_layers': 1, 'hidden_size': 32, 'lstm_dropout': 0.12305175244328409, 'dense_dropout': 0.05763775673006466, 'learning_rate': 0.010565701691983509}. Best is trial 9 with value: 0.004578735679388046.\n",
      "[I 2024-10-29 19:51:54,586] Trial 25 pruned. \n",
      "[I 2024-10-29 19:51:54,704] Trial 26 pruned. \n",
      "[I 2024-10-29 19:51:54,759] Trial 27 pruned. \n",
      "[I 2024-10-29 19:51:54,807] Trial 28 pruned. \n",
      "[I 2024-10-29 19:51:54,856] Trial 29 pruned. \n",
      "[I 2024-10-29 19:51:55,029] Trial 30 pruned. \n",
      "[I 2024-10-29 19:51:55,081] Trial 31 pruned. \n",
      "[I 2024-10-29 19:51:55,160] Trial 32 pruned. \n",
      "[I 2024-10-29 19:51:55,208] Trial 33 pruned. \n",
      "[I 2024-10-29 19:51:55,257] Trial 34 pruned. \n",
      "[I 2024-10-29 19:51:55,303] Trial 35 pruned. \n",
      "[I 2024-10-29 19:51:55,384] Trial 36 pruned. \n",
      "[I 2024-10-29 19:51:55,471] Trial 37 pruned. \n",
      "[I 2024-10-29 19:51:55,573] Trial 38 pruned. \n",
      "[I 2024-10-29 19:52:28,843] Trial 39 finished with value: 0.0072499532252550125 and parameters: {'num_layers': 1, 'hidden_size': 48, 'lstm_dropout': 0.13859571358404493, 'dense_dropout': 0.12106162109239951, 'learning_rate': 0.010386568522979365}. Best is trial 9 with value: 0.004578735679388046.\n",
      "[I 2024-10-29 19:52:28,894] Trial 40 pruned. \n",
      "[I 2024-10-29 19:53:00,648] Trial 41 finished with value: 0.00838605989702046 and parameters: {'num_layers': 1, 'hidden_size': 48, 'lstm_dropout': 0.06300374010555658, 'dense_dropout': 0.17210387618304285, 'learning_rate': 0.006297317865923002}. Best is trial 9 with value: 0.004578735679388046.\n",
      "[I 2024-10-29 19:53:00,695] Trial 42 pruned. \n",
      "[I 2024-10-29 19:53:00,777] Trial 43 pruned. \n",
      "[I 2024-10-29 19:53:00,824] Trial 44 pruned. \n",
      "[I 2024-10-29 19:53:34,759] Trial 45 finished with value: 0.007638046168722212 and parameters: {'num_layers': 1, 'hidden_size': 56, 'lstm_dropout': 0.20012939275830566, 'dense_dropout': 0.12342974632212615, 'learning_rate': 0.010719509573261805}. Best is trial 9 with value: 0.004578735679388046.\n",
      "[I 2024-10-29 19:53:34,819] Trial 46 pruned. \n",
      "[I 2024-10-29 19:53:34,868] Trial 47 pruned. \n",
      "[I 2024-10-29 19:53:34,944] Trial 48 pruned. \n",
      "[I 2024-10-29 19:53:35,062] Trial 49 pruned. \n",
      "[I 2024-10-29 19:53:35,115] Trial 50 pruned. \n",
      "[I 2024-10-29 19:54:08,140] Trial 51 finished with value: 0.008622553432360291 and parameters: {'num_layers': 1, 'hidden_size': 48, 'lstm_dropout': 0.023786347113108022, 'dense_dropout': 0.15621755648898245, 'learning_rate': 0.005887291053330306}. Best is trial 9 with value: 0.004578735679388046.\n",
      "[I 2024-10-29 19:54:08,223] Trial 52 pruned. \n",
      "[I 2024-10-29 19:54:08,271] Trial 53 pruned. \n",
      "[I 2024-10-29 19:54:42,131] Trial 54 finished with value: 0.009450324228964746 and parameters: {'num_layers': 1, 'hidden_size': 40, 'lstm_dropout': 0.06547602307113251, 'dense_dropout': 0.13410803466318813, 'learning_rate': 0.016640890859457077}. Best is trial 9 with value: 0.004578735679388046.\n",
      "[I 2024-10-29 19:55:15,117] Trial 55 finished with value: 0.00789833627641201 and parameters: {'num_layers': 1, 'hidden_size': 64, 'lstm_dropout': 0.1114485620635472, 'dense_dropout': 0.05570526825967546, 'learning_rate': 0.004798207584423385}. Best is trial 9 with value: 0.004578735679388046.\n",
      "[I 2024-10-29 19:55:15,197] Trial 56 pruned. \n",
      "[I 2024-10-29 19:55:15,254] Trial 57 pruned. \n",
      "[I 2024-10-29 19:55:15,305] Trial 58 pruned. \n",
      "[I 2024-10-29 19:55:15,353] Trial 59 pruned. \n",
      "[I 2024-10-29 19:55:15,410] Trial 60 pruned. \n",
      "[I 2024-10-29 19:55:15,518] Trial 61 pruned. \n",
      "[I 2024-10-29 19:55:15,564] Trial 62 pruned. \n",
      "[I 2024-10-29 19:55:15,612] Trial 63 pruned. \n",
      "[I 2024-10-29 19:55:15,689] Trial 64 pruned. \n",
      "[I 2024-10-29 19:55:15,738] Trial 65 pruned. \n",
      "[I 2024-10-29 19:55:15,787] Trial 66 pruned. \n",
      "[I 2024-10-29 19:55:49,518] Trial 67 finished with value: 0.011627345811575651 and parameters: {'num_layers': 1, 'hidden_size': 32, 'lstm_dropout': 0.22215119011738166, 'dense_dropout': 0.11466604637443654, 'learning_rate': 0.05234349436397397}. Best is trial 9 with value: 0.004578735679388046.\n",
      "[I 2024-10-29 19:55:49,571] Trial 68 pruned. \n",
      "[I 2024-10-29 19:55:49,743] Trial 69 pruned. \n",
      "[I 2024-10-29 19:55:49,792] Trial 70 pruned. \n",
      "[I 2024-10-29 19:55:49,937] Trial 71 pruned. \n",
      "[I 2024-10-29 19:55:50,009] Trial 72 pruned. \n",
      "[I 2024-10-29 19:55:50,202] Trial 73 pruned. \n",
      "[I 2024-10-29 19:55:50,310] Trial 74 pruned. \n",
      "[I 2024-10-29 19:56:22,625] Trial 75 finished with value: 0.007397471461445093 and parameters: {'num_layers': 1, 'hidden_size': 40, 'lstm_dropout': 0.053949132179075925, 'dense_dropout': 0.1442657660972434, 'learning_rate': 0.01162381995099755}. Best is trial 9 with value: 0.004578735679388046.\n",
      "[I 2024-10-29 19:56:22,744] Trial 76 pruned. \n",
      "[I 2024-10-29 19:56:55,272] Trial 77 finished with value: 0.009279318619519472 and parameters: {'num_layers': 1, 'hidden_size': 40, 'lstm_dropout': 0.05522061453952356, 'dense_dropout': 0.036299809482255765, 'learning_rate': 0.020192363202294745}. Best is trial 9 with value: 0.004578735679388046.\n",
      "[I 2024-10-29 19:57:31,062] Trial 78 finished with value: 0.01076119125355035 and parameters: {'num_layers': 2, 'hidden_size': 40, 'lstm_dropout': 0.07181659766899573, 'dense_dropout': 0.10822581062132414, 'learning_rate': 0.00833658886545693}. Best is trial 9 with value: 0.004578735679388046.\n",
      "[I 2024-10-29 19:57:31,108] Trial 79 pruned. \n",
      "[I 2024-10-29 19:57:31,156] Trial 80 pruned. \n",
      "[I 2024-10-29 19:57:31,203] Trial 81 pruned. \n",
      "[I 2024-10-29 19:58:03,445] Trial 82 finished with value: 0.006625171052291989 and parameters: {'num_layers': 1, 'hidden_size': 128, 'lstm_dropout': 0.34988508326220746, 'dense_dropout': 0.16636229887801784, 'learning_rate': 0.006754990541538104}. Best is trial 9 with value: 0.004578735679388046.\n",
      "[I 2024-10-29 19:58:03,492] Trial 83 pruned. \n",
      "[I 2024-10-29 19:58:03,539] Trial 84 pruned. \n",
      "[I 2024-10-29 19:58:03,588] Trial 85 pruned. \n",
      "[I 2024-10-29 19:58:03,635] Trial 86 pruned. \n",
      "[I 2024-10-29 19:58:03,680] Trial 87 pruned. \n",
      "[I 2024-10-29 19:58:03,736] Trial 88 pruned. \n",
      "[I 2024-10-29 19:58:03,790] Trial 89 pruned. \n",
      "[I 2024-10-29 19:58:03,854] Trial 90 pruned. \n",
      "[I 2024-10-29 19:58:03,908] Trial 91 pruned. \n",
      "[I 2024-10-29 19:58:03,999] Trial 92 pruned. \n",
      "[I 2024-10-29 19:58:04,091] Trial 93 pruned. \n",
      "[I 2024-10-29 19:58:04,186] Trial 94 pruned. \n",
      "[I 2024-10-29 19:58:36,398] Trial 95 finished with value: 0.007669802755117416 and parameters: {'num_layers': 1, 'hidden_size': 56, 'lstm_dropout': 0.11847805037599082, 'dense_dropout': 0.20951478163214968, 'learning_rate': 0.006964824358162237}. Best is trial 9 with value: 0.004578735679388046.\n",
      "[I 2024-10-29 19:58:36,448] Trial 96 pruned. \n",
      "[I 2024-10-29 19:58:36,497] Trial 97 pruned. \n",
      "[I 2024-10-29 19:58:36,551] Trial 98 pruned. \n",
      "[I 2024-10-29 19:59:09,795] Trial 99 finished with value: 0.007360072806477547 and parameters: {'num_layers': 1, 'hidden_size': 56, 'lstm_dropout': 0.07430730974765148, 'dense_dropout': 0.18752941172761192, 'learning_rate': 0.005170842033558927}. Best is trial 9 with value: 0.004578735679388046.\n",
      "[I 2024-10-29 19:59:09,893] A new study created in memory with name: example-study\n"
     ]
    },
    {
     "name": "stdout",
     "output_type": "stream",
     "text": [
      "Study statistics: \n",
      "  Number of finished trials:  100\n",
      "  Number of pruned trials:  77\n",
      "  Number of complete trials:  23\n",
      "Best trial:\n",
      "  Value:  0.004578735679388046\n",
      "  Params: \n",
      "    num_layers: 1\n",
      "    hidden_size: 48\n",
      "    lstm_dropout: 0.06801258879063271\n",
      "    dense_dropout: 0.018784534064863467\n",
      "    learning_rate: 0.0194143737618681\n",
      "R2 for sim at Guide(1972-2016) 0.9665120645905123\n",
      "Warning: ARIMASimFlow column not found in data for Guide station, year 2018\n"
     ]
    },
    {
     "name": "stderr",
     "output_type": "stream",
     "text": [
      "[I 2024-10-29 19:59:49,705] Trial 0 finished with value: 0.003865099512040615 and parameters: {'num_layers': 3, 'hidden_size': 112, 'lstm_dropout': 0.22075461890596987, 'dense_dropout': 0.34353996856158736, 'learning_rate': 2.5972612172100397e-05}. Best is trial 0 with value: 0.003865099512040615.\n",
      "[I 2024-10-29 20:00:31,332] Trial 1 finished with value: 0.005699346074834466 and parameters: {'num_layers': 3, 'hidden_size': 32, 'lstm_dropout': 0.37376976719280186, 'dense_dropout': 0.3438524659172179, 'learning_rate': 0.0690749191227034}. Best is trial 0 with value: 0.003865099512040615.\n",
      "[I 2024-10-29 20:01:04,071] Trial 2 finished with value: 0.003213450196199119 and parameters: {'num_layers': 1, 'hidden_size': 80, 'lstm_dropout': 0.17898490179668608, 'dense_dropout': 0.11906462145667679, 'learning_rate': 0.025250658204893396}. Best is trial 2 with value: 0.003213450196199119.\n",
      "[I 2024-10-29 20:01:42,845] Trial 3 finished with value: 0.003779198625124991 and parameters: {'num_layers': 3, 'hidden_size': 96, 'lstm_dropout': 0.3419123196374247, 'dense_dropout': 0.032212993907858034, 'learning_rate': 0.0011077234048016463}. Best is trial 2 with value: 0.003213450196199119.\n",
      "[I 2024-10-29 20:02:15,755] Trial 4 finished with value: 0.0019730424392037094 and parameters: {'num_layers': 1, 'hidden_size': 88, 'lstm_dropout': 0.2768925333309526, 'dense_dropout': 0.2548486608569231, 'learning_rate': 8.640649566502755e-05}. Best is trial 4 with value: 0.0019730424392037094.\n",
      "[I 2024-10-29 20:02:15,941] Trial 5 pruned. \n",
      "[I 2024-10-29 20:02:15,991] Trial 6 pruned. \n",
      "[I 2024-10-29 20:02:16,073] Trial 7 pruned. \n",
      "[I 2024-10-29 20:02:16,171] Trial 8 pruned. \n",
      "[I 2024-10-29 20:02:16,252] Trial 9 pruned. \n",
      "[I 2024-10-29 20:02:16,338] Trial 10 pruned. \n",
      "[I 2024-10-29 20:02:16,682] Trial 11 pruned. \n",
      "[I 2024-10-29 20:02:49,063] Trial 12 finished with value: 0.0053129191510379314 and parameters: {'num_layers': 1, 'hidden_size': 80, 'lstm_dropout': 0.1835611912390069, 'dense_dropout': 0.13207290188012855, 'learning_rate': 0.013269219746148765}. Best is trial 4 with value: 0.0019730424392037094.\n",
      "[I 2024-10-29 20:03:21,373] Trial 13 finished with value: 0.0037987891701050103 and parameters: {'num_layers': 1, 'hidden_size': 72, 'lstm_dropout': 0.28171913083754396, 'dense_dropout': 0.22604439932871215, 'learning_rate': 0.00969884455194766}. Best is trial 4 with value: 0.0019730424392037094.\n",
      "[I 2024-10-29 20:03:21,433] Trial 14 pruned. \n",
      "[I 2024-10-29 20:03:53,206] Trial 15 finished with value: 0.003700774163007736 and parameters: {'num_layers': 1, 'hidden_size': 64, 'lstm_dropout': 0.2832412618529836, 'dense_dropout': 0.2841193461996024, 'learning_rate': 0.005823162388675207}. Best is trial 4 with value: 0.0019730424392037094.\n",
      "[I 2024-10-29 20:03:53,292] Trial 16 pruned. \n",
      "[I 2024-10-29 20:03:53,350] Trial 17 pruned. \n",
      "[I 2024-10-29 20:03:53,558] Trial 18 pruned. \n",
      "[I 2024-10-29 20:03:53,608] Trial 19 pruned. \n",
      "[I 2024-10-29 20:03:54,250] Trial 20 pruned. \n",
      "[I 2024-10-29 20:04:26,320] Trial 21 finished with value: 0.003205192624591291 and parameters: {'num_layers': 1, 'hidden_size': 64, 'lstm_dropout': 0.28934543803635204, 'dense_dropout': 0.3105415696315271, 'learning_rate': 0.0057025553584403475}. Best is trial 4 with value: 0.0019730424392037094.\n",
      "[I 2024-10-29 20:04:26,366] Trial 22 pruned. \n",
      "[I 2024-10-29 20:04:58,234] Trial 23 finished with value: 0.0038826960371807218 and parameters: {'num_layers': 1, 'hidden_size': 80, 'lstm_dropout': 0.22550323085457735, 'dense_dropout': 0.258620840055088, 'learning_rate': 0.003469225861363626}. Best is trial 4 with value: 0.0019730424392037094.\n",
      "[I 2024-10-29 20:04:58,292] Trial 24 pruned. \n",
      "[I 2024-10-29 20:04:58,341] Trial 25 pruned. \n",
      "[I 2024-10-29 20:04:58,873] Trial 26 pruned. \n",
      "[I 2024-10-29 20:04:58,961] Trial 27 pruned. \n",
      "[I 2024-10-29 20:05:32,235] Trial 28 finished with value: 0.0030285309767350554 and parameters: {'num_layers': 1, 'hidden_size': 88, 'lstm_dropout': 0.11803462594596714, 'dense_dropout': 0.17830623586240257, 'learning_rate': 0.006162018354599702}. Best is trial 4 with value: 0.0019730424392037094.\n",
      "[I 2024-10-29 20:05:32,288] Trial 29 pruned. \n",
      "[I 2024-10-29 20:05:32,345] Trial 30 pruned. \n",
      "[I 2024-10-29 20:06:05,787] Trial 31 finished with value: 0.004304615664295852 and parameters: {'num_layers': 1, 'hidden_size': 88, 'lstm_dropout': 0.1280628453284235, 'dense_dropout': 0.24628310540783918, 'learning_rate': 0.007716743072264295}. Best is trial 4 with value: 0.0019730424392037094.\n",
      "[I 2024-10-29 20:06:39,364] Trial 32 finished with value: 0.0029560993425548077 and parameters: {'num_layers': 1, 'hidden_size': 72, 'lstm_dropout': 0.1952742859027149, 'dense_dropout': 0.1938588180113262, 'learning_rate': 0.01984248016691646}. Best is trial 4 with value: 0.0019730424392037094.\n",
      "[I 2024-10-29 20:06:39,416] Trial 33 pruned. \n",
      "[I 2024-10-29 20:06:39,621] Trial 34 pruned. \n",
      "[I 2024-10-29 20:06:39,707] Trial 35 pruned. \n",
      "[I 2024-10-29 20:06:39,752] Trial 36 pruned. \n",
      "[I 2024-10-29 20:06:39,804] Trial 37 pruned. \n",
      "[I 2024-10-29 20:06:39,852] Trial 38 pruned. \n",
      "[I 2024-10-29 20:06:39,911] Trial 39 pruned. \n",
      "[I 2024-10-29 20:06:39,963] Trial 40 pruned. \n",
      "[I 2024-10-29 20:06:40,011] Trial 41 pruned. \n",
      "[I 2024-10-29 20:06:40,059] Trial 42 pruned. \n",
      "[I 2024-10-29 20:06:40,150] Trial 43 pruned. \n",
      "[I 2024-10-29 20:07:13,027] Trial 44 finished with value: 0.003404495189897716 and parameters: {'num_layers': 1, 'hidden_size': 64, 'lstm_dropout': 0.16762225993752838, 'dense_dropout': 0.1946252914514293, 'learning_rate': 0.005715032909023072}. Best is trial 4 with value: 0.0019730424392037094.\n",
      "[I 2024-10-29 20:07:13,259] Trial 45 pruned. \n",
      "[I 2024-10-29 20:07:13,335] Trial 46 pruned. \n",
      "[I 2024-10-29 20:07:13,387] Trial 47 pruned. \n",
      "[I 2024-10-29 20:07:14,032] Trial 48 pruned. \n",
      "[I 2024-10-29 20:07:14,079] Trial 49 pruned. \n",
      "[I 2024-10-29 20:07:14,123] Trial 50 pruned. \n",
      "[I 2024-10-29 20:07:46,587] Trial 51 finished with value: 0.003117336193099618 and parameters: {'num_layers': 1, 'hidden_size': 64, 'lstm_dropout': 0.15848537437879834, 'dense_dropout': 0.19862021093344528, 'learning_rate': 0.005242523124855093}. Best is trial 4 with value: 0.0019730424392037094.\n",
      "[I 2024-10-29 20:07:46,645] Trial 52 pruned. \n",
      "[I 2024-10-29 20:07:46,730] Trial 53 pruned. \n",
      "[I 2024-10-29 20:07:46,783] Trial 54 pruned. \n",
      "[I 2024-10-29 20:07:46,928] Trial 55 pruned. \n",
      "[I 2024-10-29 20:07:47,083] Trial 56 pruned. \n",
      "[I 2024-10-29 20:07:47,129] Trial 57 pruned. \n",
      "[I 2024-10-29 20:07:47,182] Trial 58 pruned. \n",
      "[I 2024-10-29 20:07:47,234] Trial 59 pruned. \n",
      "[I 2024-10-29 20:07:47,300] Trial 60 pruned. \n",
      "[I 2024-10-29 20:07:47,351] Trial 61 pruned. \n",
      "[I 2024-10-29 20:07:47,403] Trial 62 pruned. \n",
      "[I 2024-10-29 20:07:48,345] Trial 63 pruned. \n",
      "[I 2024-10-29 20:07:48,601] Trial 64 pruned. \n",
      "[I 2024-10-29 20:07:48,662] Trial 65 pruned. \n",
      "[I 2024-10-29 20:07:48,712] Trial 66 pruned. \n",
      "[I 2024-10-29 20:07:48,768] Trial 67 pruned. \n",
      "[I 2024-10-29 20:07:48,823] Trial 68 pruned. \n",
      "[I 2024-10-29 20:07:48,874] Trial 69 pruned. \n",
      "[I 2024-10-29 20:07:48,924] Trial 70 pruned. \n",
      "[I 2024-10-29 20:07:49,075] Trial 71 pruned. \n",
      "[I 2024-10-29 20:08:21,297] Trial 72 finished with value: 0.003977887565270066 and parameters: {'num_layers': 1, 'hidden_size': 64, 'lstm_dropout': 0.250282970033587, 'dense_dropout': 0.28487752602996047, 'learning_rate': 0.008182178457354205}. Best is trial 4 with value: 0.0019730424392037094.\n",
      "[I 2024-10-29 20:08:21,346] Trial 73 pruned. \n",
      "[I 2024-10-29 20:08:21,398] Trial 74 pruned. \n",
      "[I 2024-10-29 20:08:21,480] Trial 75 pruned. \n",
      "[I 2024-10-29 20:08:21,536] Trial 76 pruned. \n",
      "[I 2024-10-29 20:08:21,588] Trial 77 pruned. \n",
      "[I 2024-10-29 20:08:21,635] Trial 78 pruned. \n",
      "[I 2024-10-29 20:08:21,785] Trial 79 pruned. \n",
      "[I 2024-10-29 20:08:21,839] Trial 80 pruned. \n",
      "[I 2024-10-29 20:08:21,909] Trial 81 pruned. \n",
      "[I 2024-10-29 20:08:22,020] Trial 82 pruned. \n",
      "[I 2024-10-29 20:08:22,129] Trial 83 pruned. \n",
      "[I 2024-10-29 20:08:22,235] Trial 84 pruned. \n",
      "[I 2024-10-29 20:08:22,345] Trial 85 pruned. \n",
      "[I 2024-10-29 20:08:22,466] Trial 86 pruned. \n",
      "[I 2024-10-29 20:08:22,552] Trial 87 pruned. \n",
      "[I 2024-10-29 20:08:22,629] Trial 88 pruned. \n",
      "[I 2024-10-29 20:08:22,697] Trial 89 pruned. \n",
      "[I 2024-10-29 20:08:22,755] Trial 90 pruned. \n",
      "[I 2024-10-29 20:08:22,845] Trial 91 pruned. \n",
      "[I 2024-10-29 20:08:22,897] Trial 92 pruned. \n",
      "[I 2024-10-29 20:08:22,954] Trial 93 pruned. \n",
      "[I 2024-10-29 20:08:23,104] Trial 94 pruned. \n",
      "[I 2024-10-29 20:08:23,153] Trial 95 pruned. \n",
      "[I 2024-10-29 20:08:23,202] Trial 96 pruned. \n",
      "[I 2024-10-29 20:08:23,249] Trial 97 pruned. \n",
      "[I 2024-10-29 20:08:23,320] Trial 98 pruned. \n",
      "[I 2024-10-29 20:08:23,413] Trial 99 pruned. \n",
      "[I 2024-10-29 20:08:23,502] A new study created in memory with name: example-study\n"
     ]
    },
    {
     "name": "stdout",
     "output_type": "stream",
     "text": [
      "Study statistics: \n",
      "  Number of finished trials:  100\n",
      "  Number of pruned trials:  84\n",
      "  Number of complete trials:  16\n",
      "Best trial:\n",
      "  Value:  0.0019730424392037094\n",
      "  Params: \n",
      "    num_layers: 1\n",
      "    hidden_size: 88\n",
      "    lstm_dropout: 0.2768925333309526\n",
      "    dense_dropout: 0.2548486608569231\n",
      "    learning_rate: 8.640649566502755e-05\n",
      "R2 for sim at Guide(1972-2017) 0.752770991920718\n",
      "Warning: ARIMASimFlow column not found in data for Guide station, year 2019\n"
     ]
    },
    {
     "name": "stderr",
     "output_type": "stream",
     "text": [
      "[I 2024-10-29 20:09:01,659] Trial 0 finished with value: 0.0036519444547593594 and parameters: {'num_layers': 2, 'hidden_size': 64, 'lstm_dropout': 0.4683494634861216, 'dense_dropout': 0.2651769212664818, 'learning_rate': 0.000894504171904176}. Best is trial 0 with value: 0.0036519444547593594.\n",
      "[I 2024-10-29 20:09:38,387] Trial 1 finished with value: 0.004750798922032118 and parameters: {'num_layers': 2, 'hidden_size': 24, 'lstm_dropout': 0.0263252179874382, 'dense_dropout': 0.09594137547489529, 'learning_rate': 0.087567529952641}. Best is trial 0 with value: 0.0036519444547593594.\n",
      "[I 2024-10-29 20:10:16,519] Trial 2 finished with value: 0.0019089483539573848 and parameters: {'num_layers': 2, 'hidden_size': 32, 'lstm_dropout': 0.3967072631017324, 'dense_dropout': 0.2537595696134348, 'learning_rate': 0.00010219166383528481}. Best is trial 2 with value: 0.0019089483539573848.\n",
      "[I 2024-10-29 20:10:53,127] Trial 3 finished with value: 0.009333065245300531 and parameters: {'num_layers': 2, 'hidden_size': 80, 'lstm_dropout': 0.38878024112187526, 'dense_dropout': 0.4124074787630159, 'learning_rate': 0.009905514810470962}. Best is trial 2 with value: 0.0019089483539573848.\n",
      "[I 2024-10-29 20:11:31,234] Trial 4 finished with value: 0.004152133478783071 and parameters: {'num_layers': 2, 'hidden_size': 64, 'lstm_dropout': 0.2068874280965366, 'dense_dropout': 0.20636785284691256, 'learning_rate': 0.029166618946148592}. Best is trial 2 with value: 0.0019089483539573848.\n",
      "[I 2024-10-29 20:11:31,349] Trial 5 pruned. \n",
      "[I 2024-10-29 20:11:31,395] Trial 6 pruned. \n",
      "[I 2024-10-29 20:11:31,437] Trial 7 pruned. \n",
      "[I 2024-10-29 20:11:31,474] Trial 8 pruned. \n",
      "[I 2024-10-29 20:11:31,516] Trial 9 pruned. \n",
      "[I 2024-10-29 20:11:31,607] Trial 10 pruned. \n",
      "[I 2024-10-29 20:11:31,666] Trial 11 pruned. \n",
      "[I 2024-10-29 20:11:31,786] Trial 12 pruned. \n",
      "[I 2024-10-29 20:11:31,868] Trial 13 pruned. \n",
      "[I 2024-10-29 20:11:31,986] Trial 14 pruned. \n",
      "[I 2024-10-29 20:11:32,040] Trial 15 pruned. \n",
      "[I 2024-10-29 20:12:12,213] Trial 16 finished with value: 0.0033543167519383132 and parameters: {'num_layers': 2, 'hidden_size': 56, 'lstm_dropout': 0.4506370374484144, 'dense_dropout': 0.12834019136835634, 'learning_rate': 0.0013671627880195542}. Best is trial 2 with value: 0.0019089483539573848.\n",
      "[I 2024-10-29 20:12:12,264] Trial 17 pruned. \n",
      "[I 2024-10-29 20:12:12,545] Trial 18 pruned. \n",
      "[I 2024-10-29 20:12:12,756] Trial 19 pruned. \n",
      "[I 2024-10-29 20:12:12,879] Trial 20 pruned. \n",
      "[I 2024-10-29 20:12:13,041] Trial 21 pruned. \n",
      "[I 2024-10-29 20:12:51,963] Trial 22 finished with value: 0.0034663083497434855 and parameters: {'num_layers': 2, 'hidden_size': 72, 'lstm_dropout': 0.4657924056694299, 'dense_dropout': 0.14992789125374426, 'learning_rate': 0.0015841974184087832}. Best is trial 2 with value: 0.0019089483539573848.\n",
      "[I 2024-10-29 20:12:52,097] Trial 23 pruned. \n",
      "[I 2024-10-29 20:12:52,190] Trial 24 pruned. \n",
      "[I 2024-10-29 20:13:30,822] Trial 25 finished with value: 0.0026694638654589653 and parameters: {'num_layers': 2, 'hidden_size': 72, 'lstm_dropout': 0.49846423233704673, 'dense_dropout': 0.04809443719369688, 'learning_rate': 0.006681960326692912}. Best is trial 2 with value: 0.0019089483539573848.\n",
      "[I 2024-10-29 20:14:04,445] Trial 26 finished with value: 0.004659230820834637 and parameters: {'num_layers': 1, 'hidden_size': 56, 'lstm_dropout': 0.3178338101840341, 'dense_dropout': 0.01608366739912709, 'learning_rate': 0.00750510626836423}. Best is trial 2 with value: 0.0019089483539573848.\n",
      "[I 2024-10-29 20:14:04,601] Trial 27 pruned. \n",
      "[I 2024-10-29 20:14:04,668] Trial 28 pruned. \n",
      "[I 2024-10-29 20:14:04,762] Trial 29 pruned. \n",
      "[I 2024-10-29 20:14:04,816] Trial 30 pruned. \n",
      "[I 2024-10-29 20:14:04,912] Trial 31 pruned. \n",
      "[I 2024-10-29 20:14:05,003] Trial 32 pruned. \n",
      "[I 2024-10-29 20:14:05,063] Trial 33 pruned. \n",
      "[I 2024-10-29 20:14:05,155] Trial 34 pruned. \n",
      "[I 2024-10-29 20:14:43,427] Trial 35 finished with value: 0.0021548509248532355 and parameters: {'num_layers': 2, 'hidden_size': 80, 'lstm_dropout': 0.4740548416328773, 'dense_dropout': 0.03346613858838768, 'learning_rate': 0.019640120501109564}. Best is trial 2 with value: 0.0019089483539573848.\n",
      "[I 2024-10-29 20:15:21,103] Trial 36 finished with value: 0.004386415472254157 and parameters: {'num_layers': 2, 'hidden_size': 88, 'lstm_dropout': 0.4906111425674168, 'dense_dropout': 0.03233216937222528, 'learning_rate': 0.014211899428585053}. Best is trial 2 with value: 0.0019089483539573848.\n",
      "[I 2024-10-29 20:15:21,160] Trial 37 pruned. \n",
      "[I 2024-10-29 20:15:21,213] Trial 38 pruned. \n",
      "[I 2024-10-29 20:15:21,362] Trial 39 pruned. \n",
      "[I 2024-10-29 20:15:21,420] Trial 40 pruned. \n",
      "[I 2024-10-29 20:15:21,751] Trial 41 pruned. \n",
      "[I 2024-10-29 20:15:21,892] Trial 42 pruned. \n",
      "[I 2024-10-29 20:15:21,947] Trial 43 pruned. \n",
      "[I 2024-10-29 20:15:22,002] Trial 44 pruned. \n",
      "[I 2024-10-29 20:15:22,057] Trial 45 pruned. \n",
      "[I 2024-10-29 20:15:22,110] Trial 46 pruned. \n",
      "[I 2024-10-29 20:15:22,194] Trial 47 pruned. \n",
      "[I 2024-10-29 20:15:22,255] Trial 48 pruned. \n",
      "[I 2024-10-29 20:15:22,321] Trial 49 pruned. \n",
      "[I 2024-10-29 20:15:22,374] Trial 50 pruned. \n",
      "[I 2024-10-29 20:15:22,430] Trial 51 pruned. \n",
      "[I 2024-10-29 20:15:22,485] Trial 52 pruned. \n",
      "[I 2024-10-29 20:15:22,536] Trial 53 pruned. \n",
      "[I 2024-10-29 20:15:22,590] Trial 54 pruned. \n",
      "[I 2024-10-29 20:15:22,675] Trial 55 pruned. \n",
      "[I 2024-10-29 20:16:01,525] Trial 56 finished with value: 0.0022406172356568277 and parameters: {'num_layers': 2, 'hidden_size': 88, 'lstm_dropout': 0.4268125520221268, 'dense_dropout': 0.05967347255646929, 'learning_rate': 0.0037161629539552788}. Best is trial 2 with value: 0.0019089483539573848.\n",
      "[I 2024-10-29 20:16:39,557] Trial 57 finished with value: 0.006039746222086251 and parameters: {'num_layers': 2, 'hidden_size': 88, 'lstm_dropout': 0.3595900388466602, 'dense_dropout': 0.027699229560585424, 'learning_rate': 0.003754128185403145}. Best is trial 2 with value: 0.0019089483539573848.\n",
      "[I 2024-10-29 20:16:39,614] Trial 58 pruned. \n",
      "[I 2024-10-29 20:17:16,776] Trial 59 finished with value: 0.002908304682932794 and parameters: {'num_layers': 2, 'hidden_size': 96, 'lstm_dropout': 0.480372590395038, 'dense_dropout': 0.10648108616731787, 'learning_rate': 0.0026186899347413807}. Best is trial 2 with value: 0.0019089483539573848.\n",
      "[I 2024-10-29 20:17:16,833] Trial 60 pruned. \n",
      "[I 2024-10-29 20:17:16,961] Trial 61 pruned. \n",
      "[I 2024-10-29 20:17:17,017] Trial 62 pruned. \n",
      "[I 2024-10-29 20:17:17,250] Trial 63 pruned. \n",
      "[I 2024-10-29 20:17:17,303] Trial 64 pruned. \n",
      "[I 2024-10-29 20:17:17,360] Trial 65 pruned. \n",
      "[I 2024-10-29 20:17:17,448] Trial 66 pruned. \n",
      "[I 2024-10-29 20:17:17,504] Trial 67 pruned. \n",
      "[I 2024-10-29 20:17:17,561] Trial 68 pruned. \n",
      "[I 2024-10-29 20:17:17,616] Trial 69 pruned. \n",
      "[I 2024-10-29 20:17:17,754] Trial 70 pruned. \n",
      "[I 2024-10-29 20:17:17,810] Trial 71 pruned. \n",
      "[I 2024-10-29 20:17:17,876] Trial 72 pruned. \n",
      "[I 2024-10-29 20:17:17,940] Trial 73 pruned. \n",
      "[I 2024-10-29 20:17:18,036] Trial 74 pruned. \n",
      "[I 2024-10-29 20:17:18,131] Trial 75 pruned. \n",
      "[I 2024-10-29 20:17:18,222] Trial 76 pruned. \n",
      "[I 2024-10-29 20:17:18,330] Trial 77 pruned. \n",
      "[I 2024-10-29 20:17:58,301] Trial 78 finished with value: 0.004124409635551274 and parameters: {'num_layers': 2, 'hidden_size': 72, 'lstm_dropout': 0.4991889883647882, 'dense_dropout': 0.05698924905517645, 'learning_rate': 0.004217527715440637}. Best is trial 2 with value: 0.0019089483539573848.\n",
      "[I 2024-10-29 20:17:58,438] Trial 79 pruned. \n",
      "[I 2024-10-29 20:17:58,511] Trial 80 pruned. \n",
      "[I 2024-10-29 20:18:37,738] Trial 81 finished with value: 0.004670117981731892 and parameters: {'num_layers': 2, 'hidden_size': 72, 'lstm_dropout': 0.49801084187452915, 'dense_dropout': 0.017654088712622328, 'learning_rate': 0.004189429120378793}. Best is trial 2 with value: 0.0019089483539573848.\n",
      "[I 2024-10-29 20:18:37,797] Trial 82 pruned. \n",
      "[I 2024-10-29 20:18:37,858] Trial 83 pruned. \n",
      "[I 2024-10-29 20:19:17,707] Trial 84 finished with value: 0.00353302457369864 and parameters: {'num_layers': 2, 'hidden_size': 56, 'lstm_dropout': 0.44776326738475464, 'dense_dropout': 0.07094160743404572, 'learning_rate': 0.0078070350616906295}. Best is trial 2 with value: 0.0019089483539573848.\n",
      "[I 2024-10-29 20:19:17,854] Trial 85 pruned. \n",
      "[I 2024-10-29 20:19:17,961] Trial 86 pruned. \n",
      "[I 2024-10-29 20:19:18,033] Trial 87 pruned. \n",
      "[I 2024-10-29 20:19:18,097] Trial 88 pruned. \n",
      "[I 2024-10-29 20:19:18,150] Trial 89 pruned. \n",
      "[I 2024-10-29 20:19:18,208] Trial 90 pruned. \n",
      "[I 2024-10-29 20:19:18,268] Trial 91 pruned. \n",
      "[I 2024-10-29 20:19:18,324] Trial 92 pruned. \n",
      "[I 2024-10-29 20:19:18,386] Trial 93 pruned. \n",
      "[I 2024-10-29 20:19:18,444] Trial 94 pruned. \n",
      "[I 2024-10-29 20:19:18,577] Trial 95 pruned. \n",
      "[I 2024-10-29 20:19:18,672] Trial 96 pruned. \n",
      "[I 2024-10-29 20:19:19,139] Trial 97 pruned. \n",
      "[I 2024-10-29 20:19:19,221] Trial 98 pruned. \n",
      "[I 2024-10-29 20:19:19,295] Trial 99 pruned. \n"
     ]
    },
    {
     "name": "stdout",
     "output_type": "stream",
     "text": [
      "Study statistics: \n",
      "  Number of finished trials:  100\n",
      "  Number of pruned trials:  83\n",
      "  Number of complete trials:  17\n",
      "Best trial:\n",
      "  Value:  0.0019089483539573848\n",
      "  Params: \n",
      "    num_layers: 2\n",
      "    hidden_size: 32\n",
      "    lstm_dropout: 0.3967072631017324\n",
      "    dense_dropout: 0.2537595696134348\n",
      "    learning_rate: 0.00010219166383528481\n",
      "R2 for sim at Guide(1972-2018) 0.7630142256517007\n",
      "R2 for pred at Guide(2015-2019) 0.41939445718859225\n"
     ]
    },
    {
     "data": {
      "application/vnd.plotly.v1+json": {
       "config": {
        "plotlyServerURL": "https://plot.ly"
       },
       "data": [
        {
         "mode": "lines",
         "name": "obs",
         "type": "scatter",
         "x": [
          "2015-01-01T00:00:00",
          "2015-02-01T00:00:00",
          "2015-03-01T00:00:00",
          "2015-04-01T00:00:00",
          "2015-05-01T00:00:00",
          "2015-06-01T00:00:00",
          "2015-07-01T00:00:00",
          "2015-08-01T00:00:00",
          "2015-09-01T00:00:00",
          "2015-10-01T00:00:00",
          "2015-11-01T00:00:00",
          "2015-12-01T00:00:00",
          "2016-01-01T00:00:00",
          "2016-02-01T00:00:00",
          "2016-03-01T00:00:00",
          "2016-04-01T00:00:00",
          "2016-05-01T00:00:00",
          "2016-06-01T00:00:00",
          "2016-07-01T00:00:00",
          "2016-08-01T00:00:00",
          "2016-09-01T00:00:00",
          "2016-10-01T00:00:00",
          "2016-11-01T00:00:00",
          "2016-12-01T00:00:00",
          "2017-01-01T00:00:00",
          "2017-02-01T00:00:00",
          "2017-03-01T00:00:00",
          "2017-04-01T00:00:00",
          "2017-05-01T00:00:00",
          "2017-06-01T00:00:00",
          "2017-07-01T00:00:00",
          "2017-08-01T00:00:00",
          "2017-09-01T00:00:00",
          "2017-10-01T00:00:00",
          "2017-11-01T00:00:00",
          "2017-12-01T00:00:00",
          "2018-01-01T00:00:00",
          "2018-02-01T00:00:00",
          "2018-03-01T00:00:00",
          "2018-04-01T00:00:00",
          "2018-05-01T00:00:00",
          "2018-06-01T00:00:00",
          "2018-07-01T00:00:00",
          "2018-08-01T00:00:00",
          "2018-09-01T00:00:00",
          "2018-10-01T00:00:00",
          "2018-11-01T00:00:00",
          "2018-12-01T00:00:00",
          "2019-01-01T00:00:00",
          "2019-02-01T00:00:00",
          "2019-03-01T00:00:00",
          "2019-04-01T00:00:00",
          "2019-05-01T00:00:00",
          "2019-06-01T00:00:00",
          "2019-07-01T00:00:00",
          "2019-08-01T00:00:00",
          "2019-09-01T00:00:00",
          "2019-10-01T00:00:00",
          "2019-11-01T00:00:00",
          "2019-12-01T00:00:00"
         ],
         "y": [
          243.48309326171872,
          232.82295227050773,
          273.6432189941405,
          301.36611938476557,
          360.4305419921872,
          777.5018920898436,
          1303.968017578125,
          535.898498535156,
          662.4635009765623,
          756.5108642578122,
          391.32369995117165,
          220.48034667968741,
          159.47569274902332,
          162.2063446044919,
          214.3218841552731,
          326.17202758789034,
          479.6283264160156,
          647.2022705078125,
          739.5563354492188,
          577.678039550781,
          614.5225830078125,
          808.2318115234373,
          483.1481933593746,
          244.7296905517576,
          180.5069885253905,
          192.54066467285153,
          238.6091156005858,
          325.05047607421847,
          413.6062927246092,
          938.3693237304683,
          642.8070678710935,
          556.596923828125,
          1208.25830078125,
          1619.1264648437498,
          778.8029174804685,
          336.6287536621092,
          215.38494873046847,
          205.1662902832031,
          251.9255218505857,
          425.4500427246093,
          829.5314331054686,
          1075.711669921875,
          2208.386962890625,
          1333.7509765625,
          2024.4403076171875,
          1466.2239990234375,
          735.5309448242186,
          386.19433593749983,
          284.8704223632811,
          287.86560058593744,
          313.66641235351557,
          541.2837524414062,
          805.4638671874999,
          1636.3900146484373,
          2112.18505859375,
          1504.3486328125,
          1711.178466796875,
          1408.97802734375,
          751.5130004882812,
          357.55200195312483
         ]
        },
        {
         "mode": "lines",
         "name": "pred",
         "type": "scatter",
         "x": [
          "2015-01-01T00:00:00",
          "2015-02-01T00:00:00",
          "2015-03-01T00:00:00",
          "2015-04-01T00:00:00",
          "2015-05-01T00:00:00",
          "2015-06-01T00:00:00",
          "2015-07-01T00:00:00",
          "2015-08-01T00:00:00",
          "2015-09-01T00:00:00",
          "2015-10-01T00:00:00",
          "2015-11-01T00:00:00",
          "2015-12-01T00:00:00",
          "2016-01-01T00:00:00",
          "2016-02-01T00:00:00",
          "2016-03-01T00:00:00",
          "2016-04-01T00:00:00",
          "2016-05-01T00:00:00",
          "2016-06-01T00:00:00",
          "2016-07-01T00:00:00",
          "2016-08-01T00:00:00",
          "2016-09-01T00:00:00",
          "2016-10-01T00:00:00",
          "2016-11-01T00:00:00",
          "2016-12-01T00:00:00",
          "2017-01-01T00:00:00",
          "2017-02-01T00:00:00",
          "2017-03-01T00:00:00",
          "2017-04-01T00:00:00",
          "2017-05-01T00:00:00",
          "2017-06-01T00:00:00",
          "2017-07-01T00:00:00",
          "2017-08-01T00:00:00",
          "2017-09-01T00:00:00",
          "2017-10-01T00:00:00",
          "2017-11-01T00:00:00",
          "2017-12-01T00:00:00",
          "2018-01-01T00:00:00",
          "2018-02-01T00:00:00",
          "2018-03-01T00:00:00",
          "2018-04-01T00:00:00",
          "2018-05-01T00:00:00",
          "2018-06-01T00:00:00",
          "2018-07-01T00:00:00",
          "2018-08-01T00:00:00",
          "2018-09-01T00:00:00",
          "2018-10-01T00:00:00",
          "2018-11-01T00:00:00",
          "2018-12-01T00:00:00",
          "2019-01-01T00:00:00",
          "2019-02-01T00:00:00",
          "2019-03-01T00:00:00",
          "2019-04-01T00:00:00",
          "2019-05-01T00:00:00",
          "2019-06-01T00:00:00",
          "2019-07-01T00:00:00",
          "2019-08-01T00:00:00",
          "2019-09-01T00:00:00",
          "2019-10-01T00:00:00",
          "2019-11-01T00:00:00",
          "2019-12-01T00:00:00"
         ],
         "y": [
          220.22325134277344,
          215.4603729248047,
          290.2662048339844,
          430.27362060546875,
          604.0864868164062,
          1150.841064453125,
          1199.7266845703125,
          1168.7689208984375,
          1367.68115234375,
          925.3562622070312,
          432.58392333984375,
          229.15957641601562,
          100.62152862548828,
          129.0146484375,
          155.0189666748047,
          312.2709045410156,
          474.29736328125,
          815.9707641601562,
          946.1455078125,
          637.0272827148438,
          550.6425170898438,
          667.748291015625,
          306.1339416503906,
          152.250732421875,
          282.0823974609375,
          224.08013916015625,
          272.99151611328125,
          342.6642761230469,
          498.6543273925781,
          922.130859375,
          1204.43701171875,
          923.5330810546875,
          842.0904541015625,
          1467.9439697265625,
          694.9237060546875,
          434.687255859375,
          258.5738830566406,
          212.98309326171875,
          230.2282257080078,
          322.7575378417969,
          436.5038757324219,
          1024.9874267578125,
          1329.414306640625,
          907.9147338867188,
          691.8930053710938,
          659.9141845703125,
          378.5048522949219,
          243.26661682128906,
          257.0732116699219,
          216.30091857910156,
          252.9556427001953,
          363.5884704589844,
          517.8275146484375,
          648.8530883789062,
          937.9598388671875,
          803.380126953125,
          801.3228149414062,
          878.4244995117188,
          453.1792297363281,
          258.8871765136719
         ]
        }
       ],
       "layout": {
        "template": {
         "data": {
          "bar": [
           {
            "error_x": {
             "color": "#2a3f5f"
            },
            "error_y": {
             "color": "#2a3f5f"
            },
            "marker": {
             "line": {
              "color": "white",
              "width": 0.5
             },
             "pattern": {
              "fillmode": "overlay",
              "size": 10,
              "solidity": 0.2
             }
            },
            "type": "bar"
           }
          ],
          "barpolar": [
           {
            "marker": {
             "line": {
              "color": "white",
              "width": 0.5
             },
             "pattern": {
              "fillmode": "overlay",
              "size": 10,
              "solidity": 0.2
             }
            },
            "type": "barpolar"
           }
          ],
          "carpet": [
           {
            "aaxis": {
             "endlinecolor": "#2a3f5f",
             "gridcolor": "#C8D4E3",
             "linecolor": "#C8D4E3",
             "minorgridcolor": "#C8D4E3",
             "startlinecolor": "#2a3f5f"
            },
            "baxis": {
             "endlinecolor": "#2a3f5f",
             "gridcolor": "#C8D4E3",
             "linecolor": "#C8D4E3",
             "minorgridcolor": "#C8D4E3",
             "startlinecolor": "#2a3f5f"
            },
            "type": "carpet"
           }
          ],
          "choropleth": [
           {
            "colorbar": {
             "outlinewidth": 0,
             "ticks": ""
            },
            "type": "choropleth"
           }
          ],
          "contour": [
           {
            "colorbar": {
             "outlinewidth": 0,
             "ticks": ""
            },
            "colorscale": [
             [
              0,
              "#0d0887"
             ],
             [
              0.1111111111111111,
              "#46039f"
             ],
             [
              0.2222222222222222,
              "#7201a8"
             ],
             [
              0.3333333333333333,
              "#9c179e"
             ],
             [
              0.4444444444444444,
              "#bd3786"
             ],
             [
              0.5555555555555556,
              "#d8576b"
             ],
             [
              0.6666666666666666,
              "#ed7953"
             ],
             [
              0.7777777777777778,
              "#fb9f3a"
             ],
             [
              0.8888888888888888,
              "#fdca26"
             ],
             [
              1,
              "#f0f921"
             ]
            ],
            "type": "contour"
           }
          ],
          "contourcarpet": [
           {
            "colorbar": {
             "outlinewidth": 0,
             "ticks": ""
            },
            "type": "contourcarpet"
           }
          ],
          "heatmap": [
           {
            "colorbar": {
             "outlinewidth": 0,
             "ticks": ""
            },
            "colorscale": [
             [
              0,
              "#0d0887"
             ],
             [
              0.1111111111111111,
              "#46039f"
             ],
             [
              0.2222222222222222,
              "#7201a8"
             ],
             [
              0.3333333333333333,
              "#9c179e"
             ],
             [
              0.4444444444444444,
              "#bd3786"
             ],
             [
              0.5555555555555556,
              "#d8576b"
             ],
             [
              0.6666666666666666,
              "#ed7953"
             ],
             [
              0.7777777777777778,
              "#fb9f3a"
             ],
             [
              0.8888888888888888,
              "#fdca26"
             ],
             [
              1,
              "#f0f921"
             ]
            ],
            "type": "heatmap"
           }
          ],
          "heatmapgl": [
           {
            "colorbar": {
             "outlinewidth": 0,
             "ticks": ""
            },
            "colorscale": [
             [
              0,
              "#0d0887"
             ],
             [
              0.1111111111111111,
              "#46039f"
             ],
             [
              0.2222222222222222,
              "#7201a8"
             ],
             [
              0.3333333333333333,
              "#9c179e"
             ],
             [
              0.4444444444444444,
              "#bd3786"
             ],
             [
              0.5555555555555556,
              "#d8576b"
             ],
             [
              0.6666666666666666,
              "#ed7953"
             ],
             [
              0.7777777777777778,
              "#fb9f3a"
             ],
             [
              0.8888888888888888,
              "#fdca26"
             ],
             [
              1,
              "#f0f921"
             ]
            ],
            "type": "heatmapgl"
           }
          ],
          "histogram": [
           {
            "marker": {
             "pattern": {
              "fillmode": "overlay",
              "size": 10,
              "solidity": 0.2
             }
            },
            "type": "histogram"
           }
          ],
          "histogram2d": [
           {
            "colorbar": {
             "outlinewidth": 0,
             "ticks": ""
            },
            "colorscale": [
             [
              0,
              "#0d0887"
             ],
             [
              0.1111111111111111,
              "#46039f"
             ],
             [
              0.2222222222222222,
              "#7201a8"
             ],
             [
              0.3333333333333333,
              "#9c179e"
             ],
             [
              0.4444444444444444,
              "#bd3786"
             ],
             [
              0.5555555555555556,
              "#d8576b"
             ],
             [
              0.6666666666666666,
              "#ed7953"
             ],
             [
              0.7777777777777778,
              "#fb9f3a"
             ],
             [
              0.8888888888888888,
              "#fdca26"
             ],
             [
              1,
              "#f0f921"
             ]
            ],
            "type": "histogram2d"
           }
          ],
          "histogram2dcontour": [
           {
            "colorbar": {
             "outlinewidth": 0,
             "ticks": ""
            },
            "colorscale": [
             [
              0,
              "#0d0887"
             ],
             [
              0.1111111111111111,
              "#46039f"
             ],
             [
              0.2222222222222222,
              "#7201a8"
             ],
             [
              0.3333333333333333,
              "#9c179e"
             ],
             [
              0.4444444444444444,
              "#bd3786"
             ],
             [
              0.5555555555555556,
              "#d8576b"
             ],
             [
              0.6666666666666666,
              "#ed7953"
             ],
             [
              0.7777777777777778,
              "#fb9f3a"
             ],
             [
              0.8888888888888888,
              "#fdca26"
             ],
             [
              1,
              "#f0f921"
             ]
            ],
            "type": "histogram2dcontour"
           }
          ],
          "mesh3d": [
           {
            "colorbar": {
             "outlinewidth": 0,
             "ticks": ""
            },
            "type": "mesh3d"
           }
          ],
          "parcoords": [
           {
            "line": {
             "colorbar": {
              "outlinewidth": 0,
              "ticks": ""
             }
            },
            "type": "parcoords"
           }
          ],
          "pie": [
           {
            "automargin": true,
            "type": "pie"
           }
          ],
          "scatter": [
           {
            "fillpattern": {
             "fillmode": "overlay",
             "size": 10,
             "solidity": 0.2
            },
            "type": "scatter"
           }
          ],
          "scatter3d": [
           {
            "line": {
             "colorbar": {
              "outlinewidth": 0,
              "ticks": ""
             }
            },
            "marker": {
             "colorbar": {
              "outlinewidth": 0,
              "ticks": ""
             }
            },
            "type": "scatter3d"
           }
          ],
          "scattercarpet": [
           {
            "marker": {
             "colorbar": {
              "outlinewidth": 0,
              "ticks": ""
             }
            },
            "type": "scattercarpet"
           }
          ],
          "scattergeo": [
           {
            "marker": {
             "colorbar": {
              "outlinewidth": 0,
              "ticks": ""
             }
            },
            "type": "scattergeo"
           }
          ],
          "scattergl": [
           {
            "marker": {
             "colorbar": {
              "outlinewidth": 0,
              "ticks": ""
             }
            },
            "type": "scattergl"
           }
          ],
          "scattermapbox": [
           {
            "marker": {
             "colorbar": {
              "outlinewidth": 0,
              "ticks": ""
             }
            },
            "type": "scattermapbox"
           }
          ],
          "scatterpolar": [
           {
            "marker": {
             "colorbar": {
              "outlinewidth": 0,
              "ticks": ""
             }
            },
            "type": "scatterpolar"
           }
          ],
          "scatterpolargl": [
           {
            "marker": {
             "colorbar": {
              "outlinewidth": 0,
              "ticks": ""
             }
            },
            "type": "scatterpolargl"
           }
          ],
          "scatterternary": [
           {
            "marker": {
             "colorbar": {
              "outlinewidth": 0,
              "ticks": ""
             }
            },
            "type": "scatterternary"
           }
          ],
          "surface": [
           {
            "colorbar": {
             "outlinewidth": 0,
             "ticks": ""
            },
            "colorscale": [
             [
              0,
              "#0d0887"
             ],
             [
              0.1111111111111111,
              "#46039f"
             ],
             [
              0.2222222222222222,
              "#7201a8"
             ],
             [
              0.3333333333333333,
              "#9c179e"
             ],
             [
              0.4444444444444444,
              "#bd3786"
             ],
             [
              0.5555555555555556,
              "#d8576b"
             ],
             [
              0.6666666666666666,
              "#ed7953"
             ],
             [
              0.7777777777777778,
              "#fb9f3a"
             ],
             [
              0.8888888888888888,
              "#fdca26"
             ],
             [
              1,
              "#f0f921"
             ]
            ],
            "type": "surface"
           }
          ],
          "table": [
           {
            "cells": {
             "fill": {
              "color": "#EBF0F8"
             },
             "line": {
              "color": "white"
             }
            },
            "header": {
             "fill": {
              "color": "#C8D4E3"
             },
             "line": {
              "color": "white"
             }
            },
            "type": "table"
           }
          ]
         },
         "layout": {
          "annotationdefaults": {
           "arrowcolor": "#2a3f5f",
           "arrowhead": 0,
           "arrowwidth": 1
          },
          "autotypenumbers": "strict",
          "coloraxis": {
           "colorbar": {
            "outlinewidth": 0,
            "ticks": ""
           }
          },
          "colorscale": {
           "diverging": [
            [
             0,
             "#8e0152"
            ],
            [
             0.1,
             "#c51b7d"
            ],
            [
             0.2,
             "#de77ae"
            ],
            [
             0.3,
             "#f1b6da"
            ],
            [
             0.4,
             "#fde0ef"
            ],
            [
             0.5,
             "#f7f7f7"
            ],
            [
             0.6,
             "#e6f5d0"
            ],
            [
             0.7,
             "#b8e186"
            ],
            [
             0.8,
             "#7fbc41"
            ],
            [
             0.9,
             "#4d9221"
            ],
            [
             1,
             "#276419"
            ]
           ],
           "sequential": [
            [
             0,
             "#0d0887"
            ],
            [
             0.1111111111111111,
             "#46039f"
            ],
            [
             0.2222222222222222,
             "#7201a8"
            ],
            [
             0.3333333333333333,
             "#9c179e"
            ],
            [
             0.4444444444444444,
             "#bd3786"
            ],
            [
             0.5555555555555556,
             "#d8576b"
            ],
            [
             0.6666666666666666,
             "#ed7953"
            ],
            [
             0.7777777777777778,
             "#fb9f3a"
            ],
            [
             0.8888888888888888,
             "#fdca26"
            ],
            [
             1,
             "#f0f921"
            ]
           ],
           "sequentialminus": [
            [
             0,
             "#0d0887"
            ],
            [
             0.1111111111111111,
             "#46039f"
            ],
            [
             0.2222222222222222,
             "#7201a8"
            ],
            [
             0.3333333333333333,
             "#9c179e"
            ],
            [
             0.4444444444444444,
             "#bd3786"
            ],
            [
             0.5555555555555556,
             "#d8576b"
            ],
            [
             0.6666666666666666,
             "#ed7953"
            ],
            [
             0.7777777777777778,
             "#fb9f3a"
            ],
            [
             0.8888888888888888,
             "#fdca26"
            ],
            [
             1,
             "#f0f921"
            ]
           ]
          },
          "colorway": [
           "#636efa",
           "#EF553B",
           "#00cc96",
           "#ab63fa",
           "#FFA15A",
           "#19d3f3",
           "#FF6692",
           "#B6E880",
           "#FF97FF",
           "#FECB52"
          ],
          "font": {
           "color": "#2a3f5f"
          },
          "geo": {
           "bgcolor": "white",
           "lakecolor": "white",
           "landcolor": "white",
           "showlakes": true,
           "showland": true,
           "subunitcolor": "#C8D4E3"
          },
          "hoverlabel": {
           "align": "left"
          },
          "hovermode": "closest",
          "mapbox": {
           "style": "light"
          },
          "paper_bgcolor": "white",
          "plot_bgcolor": "white",
          "polar": {
           "angularaxis": {
            "gridcolor": "#EBF0F8",
            "linecolor": "#EBF0F8",
            "ticks": ""
           },
           "bgcolor": "white",
           "radialaxis": {
            "gridcolor": "#EBF0F8",
            "linecolor": "#EBF0F8",
            "ticks": ""
           }
          },
          "scene": {
           "xaxis": {
            "backgroundcolor": "white",
            "gridcolor": "#DFE8F3",
            "gridwidth": 2,
            "linecolor": "#EBF0F8",
            "showbackground": true,
            "ticks": "",
            "zerolinecolor": "#EBF0F8"
           },
           "yaxis": {
            "backgroundcolor": "white",
            "gridcolor": "#DFE8F3",
            "gridwidth": 2,
            "linecolor": "#EBF0F8",
            "showbackground": true,
            "ticks": "",
            "zerolinecolor": "#EBF0F8"
           },
           "zaxis": {
            "backgroundcolor": "white",
            "gridcolor": "#DFE8F3",
            "gridwidth": 2,
            "linecolor": "#EBF0F8",
            "showbackground": true,
            "ticks": "",
            "zerolinecolor": "#EBF0F8"
           }
          },
          "shapedefaults": {
           "line": {
            "color": "#2a3f5f"
           }
          },
          "ternary": {
           "aaxis": {
            "gridcolor": "#DFE8F3",
            "linecolor": "#A2B1C6",
            "ticks": ""
           },
           "baxis": {
            "gridcolor": "#DFE8F3",
            "linecolor": "#A2B1C6",
            "ticks": ""
           },
           "bgcolor": "white",
           "caxis": {
            "gridcolor": "#DFE8F3",
            "linecolor": "#A2B1C6",
            "ticks": ""
           }
          },
          "title": {
           "x": 0.05
          },
          "xaxis": {
           "automargin": true,
           "gridcolor": "#EBF0F8",
           "linecolor": "#EBF0F8",
           "ticks": "",
           "title": {
            "standoff": 15
           },
           "zerolinecolor": "#EBF0F8",
           "zerolinewidth": 2
          },
          "yaxis": {
           "automargin": true,
           "gridcolor": "#EBF0F8",
           "linecolor": "#EBF0F8",
           "ticks": "",
           "title": {
            "standoff": 15
           },
           "zerolinecolor": "#EBF0F8",
           "zerolinewidth": 2
          }
         }
        }
       }
      }
     },
     "metadata": {},
     "output_type": "display_data"
    },
    {
     "name": "stderr",
     "output_type": "stream",
     "text": [
      "[I 2024-10-29 20:19:19,427] A new study created in memory with name: example-study\n"
     ]
    },
    {
     "name": "stdout",
     "output_type": "stream",
     "text": [
      "Warning: ARIMASimFlow column not found in data for Xunhua station, year 2015\n"
     ]
    },
    {
     "name": "stderr",
     "output_type": "stream",
     "text": [
      "[I 2024-10-29 20:19:56,022] Trial 0 finished with value: 0.008281149668619037 and parameters: {'num_layers': 3, 'hidden_size': 88, 'lstm_dropout': 0.287897450430685, 'dense_dropout': 0.04072150752089004, 'learning_rate': 0.002210283192881989}. Best is trial 0 with value: 0.008281149668619037.\n",
      "[I 2024-10-29 20:20:28,273] Trial 1 finished with value: 0.009938859730027616 and parameters: {'num_layers': 2, 'hidden_size': 120, 'lstm_dropout': 0.14606489158689295, 'dense_dropout': 0.3346764254669178, 'learning_rate': 0.00012688281299477863}. Best is trial 0 with value: 0.008281149668619037.\n",
      "[I 2024-10-29 20:21:04,665] Trial 2 finished with value: 0.015672922134399414 and parameters: {'num_layers': 3, 'hidden_size': 120, 'lstm_dropout': 0.3372685767019198, 'dense_dropout': 0.4036397923943207, 'learning_rate': 0.0034940017773848787}. Best is trial 0 with value: 0.008281149668619037.\n",
      "[I 2024-10-29 20:21:37,510] Trial 3 finished with value: 0.019683576188981533 and parameters: {'num_layers': 2, 'hidden_size': 96, 'lstm_dropout': 0.20196511042039655, 'dense_dropout': 0.13319557631643214, 'learning_rate': 0.07517078419545957}. Best is trial 0 with value: 0.008281149668619037.\n",
      "[I 2024-10-29 20:22:08,082] Trial 4 finished with value: 0.008338822983205318 and parameters: {'num_layers': 1, 'hidden_size': 88, 'lstm_dropout': 0.4151959088086218, 'dense_dropout': 0.13523571444805083, 'learning_rate': 0.004494721325189144}. Best is trial 0 with value: 0.008281149668619037.\n",
      "[I 2024-10-29 20:22:41,696] Trial 5 finished with value: 0.008684517233632505 and parameters: {'num_layers': 2, 'hidden_size': 40, 'lstm_dropout': 0.2268147648397818, 'dense_dropout': 0.062234870559051136, 'learning_rate': 0.0030873278776878286}. Best is trial 0 with value: 0.008281149668619037.\n",
      "[I 2024-10-29 20:22:41,735] Trial 6 pruned. \n",
      "[I 2024-10-29 20:22:41,770] Trial 7 pruned. \n",
      "[I 2024-10-29 20:22:41,827] Trial 8 pruned. \n",
      "[I 2024-10-29 20:22:41,865] Trial 9 pruned. \n",
      "[I 2024-10-29 20:22:41,954] Trial 10 pruned. \n",
      "[I 2024-10-29 20:23:13,340] Trial 11 finished with value: 0.008751093875616789 and parameters: {'num_layers': 1, 'hidden_size': 80, 'lstm_dropout': 0.3953488504964513, 'dense_dropout': 0.00013681633968626317, 'learning_rate': 0.017772664868897666}. Best is trial 0 with value: 0.008281149668619037.\n",
      "[I 2024-10-29 20:23:13,397] Trial 12 pruned. \n",
      "[I 2024-10-29 20:23:13,442] Trial 13 pruned. \n",
      "[I 2024-10-29 20:23:13,523] Trial 14 pruned. \n",
      "[I 2024-10-29 20:23:13,592] Trial 15 pruned. \n",
      "[I 2024-10-29 20:23:13,667] Trial 16 pruned. \n",
      "[I 2024-10-29 20:23:13,760] Trial 17 pruned. \n",
      "[I 2024-10-29 20:23:13,876] Trial 18 pruned. \n",
      "[I 2024-10-29 20:23:13,944] Trial 19 pruned. \n",
      "[I 2024-10-29 20:23:44,870] Trial 20 finished with value: 0.011041324585676193 and parameters: {'num_layers': 1, 'hidden_size': 8, 'lstm_dropout': 0.44626416541134345, 'dense_dropout': 0.12017441501619205, 'learning_rate': 0.0752717444123589}. Best is trial 0 with value: 0.008281149668619037.\n",
      "[I 2024-10-29 20:23:45,072] Trial 21 pruned. \n",
      "[I 2024-10-29 20:23:45,123] Trial 22 pruned. \n",
      "[I 2024-10-29 20:24:17,056] Trial 23 finished with value: 0.00848243513610214 and parameters: {'num_layers': 1, 'hidden_size': 64, 'lstm_dropout': 0.16842961610266383, 'dense_dropout': 0.08339867612349301, 'learning_rate': 0.00765420966278346}. Best is trial 0 with value: 0.008281149668619037.\n",
      "[I 2024-10-29 20:24:17,131] Trial 24 pruned. \n",
      "[I 2024-10-29 20:24:48,784] Trial 25 finished with value: 0.007353584747761488 and parameters: {'num_layers': 1, 'hidden_size': 80, 'lstm_dropout': 0.09916786932109953, 'dense_dropout': 0.09915269177641939, 'learning_rate': 0.007032826784560844}. Best is trial 25 with value: 0.007353584747761488.\n",
      "[I 2024-10-29 20:24:48,827] Trial 26 pruned. \n",
      "[I 2024-10-29 20:24:48,897] Trial 27 pruned. \n",
      "[I 2024-10-29 20:25:19,587] Trial 28 finished with value: 0.0077120724599808455 and parameters: {'num_layers': 1, 'hidden_size': 72, 'lstm_dropout': 0.46261556695597533, 'dense_dropout': 0.02488189368868878, 'learning_rate': 0.007449402031627552}. Best is trial 25 with value: 0.007353584747761488.\n",
      "[I 2024-10-29 20:25:19,657] Trial 29 pruned. \n",
      "[I 2024-10-29 20:25:50,088] Trial 30 finished with value: 0.009109165985137224 and parameters: {'num_layers': 1, 'hidden_size': 72, 'lstm_dropout': 0.12647320654347669, 'dense_dropout': 0.024082428849912935, 'learning_rate': 0.01606341203329586}. Best is trial 25 with value: 0.007353584747761488.\n",
      "[I 2024-10-29 20:25:50,162] Trial 31 pruned. \n",
      "[I 2024-10-29 20:25:50,239] Trial 32 pruned. \n",
      "[I 2024-10-29 20:26:20,137] Trial 33 finished with value: 0.007470961892977357 and parameters: {'num_layers': 1, 'hidden_size': 112, 'lstm_dropout': 0.3243277424885451, 'dense_dropout': 0.07084827270444974, 'learning_rate': 0.00482179513169544}. Best is trial 25 with value: 0.007353584747761488.\n",
      "[I 2024-10-29 20:26:20,211] Trial 34 pruned. \n",
      "[I 2024-10-29 20:26:20,262] Trial 35 pruned. \n",
      "[I 2024-10-29 20:26:20,551] Trial 36 pruned. \n",
      "[I 2024-10-29 20:26:20,611] Trial 37 pruned. \n",
      "[I 2024-10-29 20:26:20,659] Trial 38 pruned. \n",
      "[I 2024-10-29 20:26:20,767] Trial 39 pruned. \n",
      "[I 2024-10-29 20:26:20,823] Trial 40 pruned. \n",
      "[I 2024-10-29 20:26:20,899] Trial 41 pruned. \n",
      "[I 2024-10-29 20:26:20,949] Trial 42 pruned. \n",
      "[I 2024-10-29 20:26:21,052] Trial 43 pruned. \n",
      "[I 2024-10-29 20:26:51,895] Trial 44 finished with value: 0.007374254986643791 and parameters: {'num_layers': 1, 'hidden_size': 80, 'lstm_dropout': 0.4423239736210693, 'dense_dropout': 0.04437833880830214, 'learning_rate': 0.009813653391131398}. Best is trial 25 with value: 0.007353584747761488.\n",
      "[I 2024-10-29 20:26:51,947] Trial 45 pruned. \n",
      "[I 2024-10-29 20:26:51,994] Trial 46 pruned. \n",
      "[I 2024-10-29 20:26:52,044] Trial 47 pruned. \n",
      "[I 2024-10-29 20:26:52,114] Trial 48 pruned. \n",
      "[I 2024-10-29 20:26:52,166] Trial 49 pruned. \n",
      "[I 2024-10-29 20:26:52,217] Trial 50 pruned. \n",
      "[I 2024-10-29 20:26:52,264] Trial 51 pruned. \n",
      "[I 2024-10-29 20:26:52,339] Trial 52 pruned. \n",
      "[I 2024-10-29 20:27:22,936] Trial 53 finished with value: 0.008670378476381302 and parameters: {'num_layers': 1, 'hidden_size': 104, 'lstm_dropout': 0.3654874911094933, 'dense_dropout': 0.05692155562182444, 'learning_rate': 0.003184673751213416}. Best is trial 25 with value: 0.007353584747761488.\n",
      "[I 2024-10-29 20:27:23,010] Trial 54 pruned. \n",
      "[I 2024-10-29 20:27:23,061] Trial 55 pruned. \n",
      "[I 2024-10-29 20:27:54,020] Trial 56 finished with value: 0.010394103126600385 and parameters: {'num_layers': 1, 'hidden_size': 48, 'lstm_dropout': 0.2801987411065791, 'dense_dropout': 0.024147665974001555, 'learning_rate': 0.01164033179475898}. Best is trial 25 with value: 0.007353584747761488.\n",
      "[I 2024-10-29 20:27:54,188] Trial 57 pruned. \n",
      "[I 2024-10-29 20:27:54,242] Trial 58 pruned. \n",
      "[I 2024-10-29 20:27:54,306] Trial 59 pruned. \n",
      "[I 2024-10-29 20:27:54,358] Trial 60 pruned. \n",
      "[I 2024-10-29 20:28:24,526] Trial 61 finished with value: 0.007417717017233372 and parameters: {'num_layers': 1, 'hidden_size': 64, 'lstm_dropout': 0.10243999548829184, 'dense_dropout': 0.08152249888004645, 'learning_rate': 0.00816909423187954}. Best is trial 25 with value: 0.007353584747761488.\n",
      "[I 2024-10-29 20:28:24,602] Trial 62 pruned. \n",
      "[I 2024-10-29 20:28:55,286] Trial 63 finished with value: 0.008565645199269056 and parameters: {'num_layers': 1, 'hidden_size': 56, 'lstm_dropout': 0.10683237860602596, 'dense_dropout': 0.01966123686915873, 'learning_rate': 0.004798045775593429}. Best is trial 25 with value: 0.007353584747761488.\n",
      "[I 2024-10-29 20:28:55,334] Trial 64 pruned. \n",
      "[I 2024-10-29 20:28:55,379] Trial 65 pruned. \n",
      "[I 2024-10-29 20:28:55,461] Trial 66 pruned. \n",
      "[I 2024-10-29 20:28:55,530] Trial 67 pruned. \n",
      "[I 2024-10-29 20:28:55,575] Trial 68 pruned. \n",
      "[I 2024-10-29 20:28:55,629] Trial 69 pruned. \n",
      "[I 2024-10-29 20:28:55,675] Trial 70 pruned. \n",
      "[I 2024-10-29 20:29:26,377] Trial 71 finished with value: 0.007994270417839289 and parameters: {'num_layers': 1, 'hidden_size': 64, 'lstm_dropout': 0.1115078614012642, 'dense_dropout': 0.0857016223958906, 'learning_rate': 0.009025758976509627}. Best is trial 25 with value: 0.007353584747761488.\n",
      "[I 2024-10-29 20:29:26,517] Trial 72 pruned. \n",
      "[I 2024-10-29 20:29:26,564] Trial 73 pruned. \n",
      "[I 2024-10-29 20:29:58,609] Trial 74 finished with value: 0.010104697430506349 and parameters: {'num_layers': 1, 'hidden_size': 80, 'lstm_dropout': 0.4464168818903254, 'dense_dropout': 0.1293479268133671, 'learning_rate': 0.006562522193865582}. Best is trial 25 with value: 0.007353584747761488.\n",
      "[I 2024-10-29 20:29:58,665] Trial 75 pruned. \n",
      "[I 2024-10-29 20:29:58,721] Trial 76 pruned. \n",
      "[I 2024-10-29 20:30:30,673] Trial 77 finished with value: 0.008839118992909789 and parameters: {'num_layers': 1, 'hidden_size': 56, 'lstm_dropout': 0.074302294675895, 'dense_dropout': 0.014976572179269412, 'learning_rate': 0.016197401926430873}. Best is trial 25 with value: 0.007353584747761488.\n",
      "[I 2024-10-29 20:30:30,860] Trial 78 pruned. \n",
      "[I 2024-10-29 20:30:30,921] Trial 79 pruned. \n",
      "[I 2024-10-29 20:31:02,509] Trial 80 finished with value: 0.008242134237661958 and parameters: {'num_layers': 1, 'hidden_size': 128, 'lstm_dropout': 0.41666824892796517, 'dense_dropout': 0.08418397425596152, 'learning_rate': 0.00510882726088313}. Best is trial 25 with value: 0.007353584747761488.\n",
      "[I 2024-10-29 20:31:02,591] Trial 81 pruned. \n",
      "[I 2024-10-29 20:31:02,637] Trial 82 pruned. \n",
      "[I 2024-10-29 20:31:33,022] Trial 83 finished with value: 0.006552049890160561 and parameters: {'num_layers': 1, 'hidden_size': 24, 'lstm_dropout': 0.3563719533495064, 'dense_dropout': 0.05590564959601277, 'learning_rate': 0.007213038197207743}. Best is trial 83 with value: 0.006552049890160561.\n",
      "[I 2024-10-29 20:31:33,072] Trial 84 pruned. \n",
      "[I 2024-10-29 20:31:33,119] Trial 85 pruned. \n",
      "[I 2024-10-29 20:31:33,166] Trial 86 pruned. \n",
      "[I 2024-10-29 20:31:33,258] Trial 87 pruned. \n",
      "[I 2024-10-29 20:31:33,397] Trial 88 pruned. \n",
      "[I 2024-10-29 20:32:04,465] Trial 89 finished with value: 0.006705245701596141 and parameters: {'num_layers': 1, 'hidden_size': 128, 'lstm_dropout': 0.24726381478356266, 'dense_dropout': 0.027765185840247925, 'learning_rate': 0.003339649184889526}. Best is trial 83 with value: 0.006552049890160561.\n",
      "[I 2024-10-29 20:32:04,512] Trial 90 pruned. \n",
      "[I 2024-10-29 20:32:04,590] Trial 91 pruned. \n",
      "[I 2024-10-29 20:32:04,639] Trial 92 pruned. \n",
      "[I 2024-10-29 20:32:04,715] Trial 93 pruned. \n",
      "[I 2024-10-29 20:32:04,794] Trial 94 pruned. \n",
      "[I 2024-10-29 20:32:04,881] Trial 95 pruned. \n",
      "[I 2024-10-29 20:32:04,980] Trial 96 pruned. \n",
      "[I 2024-10-29 20:32:05,280] Trial 97 pruned. \n",
      "[I 2024-10-29 20:32:05,367] Trial 98 pruned. \n",
      "[I 2024-10-29 20:32:05,445] Trial 99 pruned. \n",
      "[I 2024-10-29 20:32:05,557] A new study created in memory with name: example-study\n"
     ]
    },
    {
     "name": "stdout",
     "output_type": "stream",
     "text": [
      "Study statistics: \n",
      "  Number of finished trials:  100\n",
      "  Number of pruned trials:  76\n",
      "  Number of complete trials:  24\n",
      "Best trial:\n",
      "  Value:  0.006552049890160561\n",
      "  Params: \n",
      "    num_layers: 1\n",
      "    hidden_size: 24\n",
      "    lstm_dropout: 0.3563719533495064\n",
      "    dense_dropout: 0.05590564959601277\n",
      "    learning_rate: 0.007213038197207743\n",
      "R2 for sim at Xunhua(1972-2014) 0.9565204652949623\n",
      "Warning: ARIMASimFlow column not found in data for Xunhua station, year 2016\n"
     ]
    },
    {
     "name": "stderr",
     "output_type": "stream",
     "text": [
      "[I 2024-10-29 20:32:37,561] Trial 0 finished with value: 0.010067923460155725 and parameters: {'num_layers': 1, 'hidden_size': 88, 'lstm_dropout': 0.4578245414973425, 'dense_dropout': 0.30178159786302877, 'learning_rate': 0.00415695174273368}. Best is trial 0 with value: 0.010067923460155725.\n",
      "[I 2024-10-29 20:33:10,102] Trial 1 finished with value: 0.007465496892109513 and parameters: {'num_layers': 1, 'hidden_size': 96, 'lstm_dropout': 0.2228832541682017, 'dense_dropout': 0.05754514034714364, 'learning_rate': 0.009733708233554468}. Best is trial 1 with value: 0.007465496892109513.\n",
      "[I 2024-10-29 20:33:41,684] Trial 2 finished with value: 0.010253493208438158 and parameters: {'num_layers': 1, 'hidden_size': 40, 'lstm_dropout': 0.011435505126757284, 'dense_dropout': 0.33830699327083086, 'learning_rate': 0.011855026314669828}. Best is trial 1 with value: 0.007465496892109513.\n",
      "[I 2024-10-29 20:34:14,307] Trial 3 finished with value: 0.009472113568335772 and parameters: {'num_layers': 1, 'hidden_size': 96, 'lstm_dropout': 0.20911973653325477, 'dense_dropout': 0.2730277940683445, 'learning_rate': 0.00661460488674953}. Best is trial 1 with value: 0.007465496892109513.\n",
      "[I 2024-10-29 20:34:54,955] Trial 4 finished with value: 0.01111964788287878 and parameters: {'num_layers': 3, 'hidden_size': 32, 'lstm_dropout': 0.15578987972194447, 'dense_dropout': 0.21204713857839957, 'learning_rate': 0.04759784741337521}. Best is trial 1 with value: 0.007465496892109513.\n",
      "[I 2024-10-29 20:34:54,991] Trial 5 pruned. \n",
      "[I 2024-10-29 20:34:55,040] Trial 6 pruned. \n",
      "[I 2024-10-29 20:34:55,083] Trial 7 pruned. \n",
      "[I 2024-10-29 20:34:55,117] Trial 8 pruned. \n",
      "[I 2024-10-29 20:34:55,161] Trial 9 pruned. \n",
      "[I 2024-10-29 20:34:55,223] Trial 10 pruned. \n",
      "[I 2024-10-29 20:34:55,280] Trial 11 pruned. \n",
      "[I 2024-10-29 20:34:55,363] Trial 12 pruned. \n",
      "[I 2024-10-29 20:35:28,656] Trial 13 finished with value: 0.009006312349811196 and parameters: {'num_layers': 1, 'hidden_size': 72, 'lstm_dropout': 0.2879042515184653, 'dense_dropout': 0.14095841832962341, 'learning_rate': 0.010261222666145247}. Best is trial 1 with value: 0.007465496892109513.\n",
      "[I 2024-10-29 20:35:28,706] Trial 14 pruned. \n",
      "[I 2024-10-29 20:35:28,762] Trial 15 pruned. \n",
      "[I 2024-10-29 20:36:01,764] Trial 16 finished with value: 0.005808922520373017 and parameters: {'num_layers': 1, 'hidden_size': 112, 'lstm_dropout': 0.2915294944604835, 'dense_dropout': 0.03708285250862071, 'learning_rate': 0.0023685271117343375}. Best is trial 16 with value: 0.005808922520373017.\n",
      "[I 2024-10-29 20:36:01,820] Trial 17 pruned. \n",
      "[I 2024-10-29 20:36:01,865] Trial 18 pruned. \n",
      "[I 2024-10-29 20:36:38,704] Trial 19 finished with value: 0.007192171178758144 and parameters: {'num_layers': 2, 'hidden_size': 128, 'lstm_dropout': 0.4075637326133517, 'dense_dropout': 0.06314972388974335, 'learning_rate': 0.0025898813684853013}. Best is trial 16 with value: 0.005808922520373017.\n",
      "[I 2024-10-29 20:36:38,763] Trial 20 pruned. \n",
      "[I 2024-10-29 20:36:38,818] Trial 21 pruned. \n",
      "[I 2024-10-29 20:36:38,881] Trial 22 pruned. \n",
      "[I 2024-10-29 20:37:11,265] Trial 23 finished with value: 0.007828227942809463 and parameters: {'num_layers': 1, 'hidden_size': 96, 'lstm_dropout': 0.30999934151169617, 'dense_dropout': 0.07265992460936749, 'learning_rate': 0.003727918879739033}. Best is trial 16 with value: 0.005808922520373017.\n",
      "[I 2024-10-29 20:37:11,320] Trial 24 pruned. \n",
      "[I 2024-10-29 20:37:11,384] Trial 25 pruned. \n",
      "[I 2024-10-29 20:37:11,433] Trial 26 pruned. \n",
      "[I 2024-10-29 20:37:11,497] Trial 27 pruned. \n",
      "[I 2024-10-29 20:37:11,566] Trial 28 pruned. \n",
      "[I 2024-10-29 20:37:11,616] Trial 29 pruned. \n",
      "[I 2024-10-29 20:37:11,690] Trial 30 pruned. \n",
      "[I 2024-10-29 20:37:11,810] Trial 31 pruned. \n",
      "[I 2024-10-29 20:37:11,892] Trial 32 pruned. \n",
      "[I 2024-10-29 20:37:12,040] Trial 33 pruned. \n",
      "[I 2024-10-29 20:37:12,139] Trial 34 pruned. \n",
      "[I 2024-10-29 20:37:12,204] Trial 35 pruned. \n",
      "[I 2024-10-29 20:37:45,939] Trial 36 finished with value: 0.006259885849431157 and parameters: {'num_layers': 1, 'hidden_size': 120, 'lstm_dropout': 0.3470282043900193, 'dense_dropout': 0.0951228009171056, 'learning_rate': 0.002861879025130995}. Best is trial 16 with value: 0.005808922520373017.\n",
      "[I 2024-10-29 20:37:45,990] Trial 37 pruned. \n",
      "[I 2024-10-29 20:37:46,055] Trial 38 pruned. \n",
      "[I 2024-10-29 20:37:46,100] Trial 39 pruned. \n",
      "[I 2024-10-29 20:37:46,153] Trial 40 pruned. \n",
      "[I 2024-10-29 20:37:46,199] Trial 41 pruned. \n",
      "[I 2024-10-29 20:37:46,244] Trial 42 pruned. \n",
      "[I 2024-10-29 20:38:19,959] Trial 43 finished with value: 0.006887364434078336 and parameters: {'num_layers': 1, 'hidden_size': 120, 'lstm_dropout': 0.3417426796239348, 'dense_dropout': 0.023977507163096413, 'learning_rate': 0.0026274479891598445}. Best is trial 16 with value: 0.005808922520373017.\n",
      "[I 2024-10-29 20:38:20,019] Trial 44 pruned. \n",
      "[I 2024-10-29 20:38:56,562] Trial 45 finished with value: 0.008519010385498405 and parameters: {'num_layers': 1, 'hidden_size': 128, 'lstm_dropout': 0.343469901827806, 'dense_dropout': 0.022954277173609032, 'learning_rate': 0.007326436591511363}. Best is trial 16 with value: 0.005808922520373017.\n",
      "[I 2024-10-29 20:38:56,624] Trial 46 pruned. \n",
      "[I 2024-10-29 20:38:56,677] Trial 47 pruned. \n",
      "[I 2024-10-29 20:38:56,773] Trial 48 pruned. \n",
      "[I 2024-10-29 20:38:56,882] Trial 49 pruned. \n",
      "[I 2024-10-29 20:38:56,969] Trial 50 pruned. \n",
      "[I 2024-10-29 20:38:57,025] Trial 51 pruned. \n",
      "[I 2024-10-29 20:38:57,075] Trial 52 pruned. \n",
      "[I 2024-10-29 20:38:57,124] Trial 53 pruned. \n",
      "[I 2024-10-29 20:39:36,841] Trial 54 finished with value: 0.006415696116164327 and parameters: {'num_layers': 1, 'hidden_size': 112, 'lstm_dropout': 0.3350855578154127, 'dense_dropout': 0.014485644662729391, 'learning_rate': 0.004996748242366201}. Best is trial 16 with value: 0.005808922520373017.\n",
      "[I 2024-10-29 20:39:36,897] Trial 55 pruned. \n",
      "[I 2024-10-29 20:39:36,958] Trial 56 pruned. \n",
      "[I 2024-10-29 20:39:37,007] Trial 57 pruned. \n",
      "[I 2024-10-29 20:39:37,085] Trial 58 pruned. \n",
      "[I 2024-10-29 20:39:37,140] Trial 59 pruned. \n",
      "[I 2024-10-29 20:39:37,201] Trial 60 pruned. \n",
      "[I 2024-10-29 20:39:37,250] Trial 61 pruned. \n",
      "[I 2024-10-29 20:39:37,297] Trial 62 pruned. \n",
      "[I 2024-10-29 20:39:37,372] Trial 63 pruned. \n",
      "[I 2024-10-29 20:39:37,455] Trial 64 pruned. \n",
      "[I 2024-10-29 20:39:37,543] Trial 65 pruned. \n",
      "[I 2024-10-29 20:39:37,627] Trial 66 pruned. \n",
      "[I 2024-10-29 20:39:37,730] Trial 67 pruned. \n",
      "[I 2024-10-29 20:39:37,828] Trial 68 pruned. \n",
      "[I 2024-10-29 20:39:37,945] Trial 69 pruned. \n",
      "[I 2024-10-29 20:39:38,035] Trial 70 pruned. \n",
      "[I 2024-10-29 20:39:38,139] Trial 71 pruned. \n",
      "[I 2024-10-29 20:39:38,236] Trial 72 pruned. \n",
      "[I 2024-10-29 20:40:17,331] Trial 73 finished with value: 0.009326386731117964 and parameters: {'num_layers': 1, 'hidden_size': 112, 'lstm_dropout': 0.05102070365110656, 'dense_dropout': 0.04184164506790199, 'learning_rate': 0.007535611101922123}. Best is trial 16 with value: 0.005808922520373017.\n",
      "[I 2024-10-29 20:40:17,383] Trial 74 pruned. \n",
      "[I 2024-10-29 20:40:17,432] Trial 75 pruned. \n",
      "[I 2024-10-29 20:40:17,481] Trial 76 pruned. \n",
      "[I 2024-10-29 20:40:17,531] Trial 77 pruned. \n",
      "[I 2024-10-29 20:40:55,518] Trial 78 finished with value: 0.006220504641532898 and parameters: {'num_layers': 1, 'hidden_size': 104, 'lstm_dropout': 0.3170523287465107, 'dense_dropout': 0.05485192668042036, 'learning_rate': 0.0035869730058986733}. Best is trial 16 with value: 0.005808922520373017.\n",
      "[I 2024-10-29 20:40:55,570] Trial 79 pruned. \n",
      "[I 2024-10-29 20:40:55,669] Trial 80 pruned. \n",
      "[I 2024-10-29 20:40:55,755] Trial 81 pruned. \n",
      "[I 2024-10-29 20:41:36,131] Trial 82 finished with value: 0.006306402385234833 and parameters: {'num_layers': 1, 'hidden_size': 112, 'lstm_dropout': 0.2580662887520869, 'dense_dropout': 0.05206111665819461, 'learning_rate': 0.0036738085104830475}. Best is trial 16 with value: 0.005808922520373017.\n",
      "[I 2024-10-29 20:42:14,526] Trial 83 finished with value: 0.0056471709394827485 and parameters: {'num_layers': 1, 'hidden_size': 112, 'lstm_dropout': 0.2731578510091379, 'dense_dropout': 0.05580159920959155, 'learning_rate': 0.004342665202582419}. Best is trial 83 with value: 0.0056471709394827485.\n",
      "[I 2024-10-29 20:42:14,587] Trial 84 pruned. \n",
      "[I 2024-10-29 20:42:14,645] Trial 85 pruned. \n",
      "[I 2024-10-29 20:42:14,698] Trial 86 pruned. \n",
      "[I 2024-10-29 20:42:14,933] Trial 87 pruned. \n",
      "[I 2024-10-29 20:42:15,005] Trial 88 pruned. \n",
      "[I 2024-10-29 20:42:51,366] Trial 89 finished with value: 0.009087992366403341 and parameters: {'num_layers': 1, 'hidden_size': 120, 'lstm_dropout': 0.24071036750185654, 'dense_dropout': 0.010126602499995009, 'learning_rate': 0.010369931273749761}. Best is trial 83 with value: 0.0056471709394827485.\n",
      "[I 2024-10-29 20:42:51,452] Trial 90 pruned. \n",
      "[I 2024-10-29 20:42:51,517] Trial 91 pruned. \n",
      "[I 2024-10-29 20:42:51,576] Trial 92 pruned. \n",
      "[I 2024-10-29 20:42:51,629] Trial 93 pruned. \n",
      "[I 2024-10-29 20:42:51,684] Trial 94 pruned. \n",
      "[I 2024-10-29 20:42:51,737] Trial 95 pruned. \n",
      "[I 2024-10-29 20:42:51,793] Trial 96 pruned. \n",
      "[I 2024-10-29 20:42:51,845] Trial 97 pruned. \n",
      "[I 2024-10-29 20:42:51,905] Trial 98 pruned. \n",
      "[I 2024-10-29 20:42:51,963] Trial 99 pruned. \n",
      "[I 2024-10-29 20:42:52,134] A new study created in memory with name: example-study\n"
     ]
    },
    {
     "name": "stdout",
     "output_type": "stream",
     "text": [
      "Study statistics: \n",
      "  Number of finished trials:  100\n",
      "  Number of pruned trials:  82\n",
      "  Number of complete trials:  18\n",
      "Best trial:\n",
      "  Value:  0.0056471709394827485\n",
      "  Params: \n",
      "    num_layers: 1\n",
      "    hidden_size: 112\n",
      "    lstm_dropout: 0.2731578510091379\n",
      "    dense_dropout: 0.05580159920959155\n",
      "    learning_rate: 0.004342665202582419\n",
      "R2 for sim at Xunhua(1972-2015) 0.9627569603902972\n",
      "Warning: ARIMASimFlow column not found in data for Xunhua station, year 2017\n"
     ]
    },
    {
     "name": "stderr",
     "output_type": "stream",
     "text": [
      "[I 2024-10-29 20:43:33,495] Trial 0 finished with value: 0.008376629673875868 and parameters: {'num_layers': 1, 'hidden_size': 32, 'lstm_dropout': 0.08684787649522036, 'dense_dropout': 0.14290521755562985, 'learning_rate': 2.4080995569192075e-05}. Best is trial 0 with value: 0.008376629673875868.\n",
      "[I 2024-10-29 20:44:17,776] Trial 1 finished with value: 0.017455364111810923 and parameters: {'num_layers': 2, 'hidden_size': 56, 'lstm_dropout': 0.3928915592059647, 'dense_dropout': 0.4515099668265093, 'learning_rate': 0.04193156638219602}. Best is trial 0 with value: 0.008376629673875868.\n",
      "[I 2024-10-29 20:45:08,179] Trial 2 finished with value: 0.010132984258234501 and parameters: {'num_layers': 3, 'hidden_size': 56, 'lstm_dropout': 0.40876334982129386, 'dense_dropout': 0.0479537973311579, 'learning_rate': 3.0065571054028023e-05}. Best is trial 0 with value: 0.008376629673875868.\n",
      "[I 2024-10-29 20:45:48,457] Trial 3 finished with value: 0.0060938033275306225 and parameters: {'num_layers': 1, 'hidden_size': 96, 'lstm_dropout': 0.2809478926163097, 'dense_dropout': 0.17304453158303068, 'learning_rate': 0.00574705631715649}. Best is trial 3 with value: 0.0060938033275306225.\n",
      "[I 2024-10-29 20:46:35,250] Trial 4 finished with value: 0.007478461368009448 and parameters: {'num_layers': 3, 'hidden_size': 56, 'lstm_dropout': 0.4930077285429119, 'dense_dropout': 0.3216683546846873, 'learning_rate': 0.0002640271172040002}. Best is trial 3 with value: 0.0060938033275306225.\n",
      "[I 2024-10-29 20:47:12,605] Trial 5 finished with value: 0.007447201758623123 and parameters: {'num_layers': 1, 'hidden_size': 96, 'lstm_dropout': 0.1632726915345793, 'dense_dropout': 0.2714789058489937, 'learning_rate': 0.0009513645390216223}. Best is trial 3 with value: 0.0060938033275306225.\n",
      "[I 2024-10-29 20:47:49,460] Trial 6 finished with value: 0.004300180356949568 and parameters: {'num_layers': 1, 'hidden_size': 8, 'lstm_dropout': 0.2748255546523745, 'dense_dropout': 0.20450754722006692, 'learning_rate': 0.008317846511061155}. Best is trial 6 with value: 0.004300180356949568.\n",
      "[I 2024-10-29 20:47:49,508] Trial 7 pruned. \n",
      "[I 2024-10-29 20:47:49,547] Trial 8 pruned. \n",
      "[I 2024-10-29 20:48:29,664] Trial 9 finished with value: 0.007252036826685071 and parameters: {'num_layers': 2, 'hidden_size': 104, 'lstm_dropout': 0.07746566847209796, 'dense_dropout': 0.12058403969869275, 'learning_rate': 0.00041632564540453385}. Best is trial 6 with value: 0.004300180356949568.\n",
      "[I 2024-10-29 20:48:29,716] Trial 10 pruned. \n",
      "[I 2024-10-29 20:49:08,764] Trial 11 finished with value: 0.007176605751737952 and parameters: {'num_layers': 1, 'hidden_size': 128, 'lstm_dropout': 0.27847597630059856, 'dense_dropout': 0.21252395431497398, 'learning_rate': 0.012111422072931338}. Best is trial 6 with value: 0.004300180356949568.\n",
      "[I 2024-10-29 20:49:49,161] Trial 12 finished with value: 0.005414260202087462 and parameters: {'num_layers': 1, 'hidden_size': 88, 'lstm_dropout': 0.2106191993907491, 'dense_dropout': 0.21673531117471487, 'learning_rate': 0.005563381748978597}. Best is trial 6 with value: 0.004300180356949568.\n",
      "[I 2024-10-29 20:49:49,426] Trial 13 pruned. \n",
      "[I 2024-10-29 20:49:49,629] Trial 14 pruned. \n",
      "[I 2024-10-29 20:49:49,688] Trial 15 pruned. \n",
      "[I 2024-10-29 20:49:49,772] Trial 16 pruned. \n",
      "[I 2024-10-29 20:50:29,168] Trial 17 finished with value: 0.005908940453082323 and parameters: {'num_layers': 1, 'hidden_size': 72, 'lstm_dropout': 0.1309736091421362, 'dense_dropout': 0.19823285884344566, 'learning_rate': 0.0026606819191132775}. Best is trial 6 with value: 0.004300180356949568.\n",
      "[I 2024-10-29 20:50:29,229] Trial 18 pruned. \n",
      "[I 2024-10-29 20:50:29,307] Trial 19 pruned. \n",
      "[I 2024-10-29 20:50:29,380] Trial 20 pruned. \n",
      "[I 2024-10-29 20:51:08,873] Trial 21 finished with value: 0.005532925948500633 and parameters: {'num_layers': 1, 'hidden_size': 72, 'lstm_dropout': 0.1260163414805987, 'dense_dropout': 0.19399508002384336, 'learning_rate': 0.003316553250617048}. Best is trial 6 with value: 0.004300180356949568.\n",
      "[I 2024-10-29 20:51:47,353] Trial 22 finished with value: 0.005814887583255768 and parameters: {'num_layers': 1, 'hidden_size': 72, 'lstm_dropout': 0.22878436988195427, 'dense_dropout': 0.18624205930610915, 'learning_rate': 0.005802157073967004}. Best is trial 6 with value: 0.004300180356949568.\n",
      "[I 2024-10-29 20:52:28,053] Trial 23 finished with value: 0.00490098271984607 and parameters: {'num_layers': 1, 'hidden_size': 88, 'lstm_dropout': 0.09381613528055721, 'dense_dropout': 0.06678906874274212, 'learning_rate': 0.01572597645762548}. Best is trial 6 with value: 0.004300180356949568.\n",
      "[I 2024-10-29 20:52:28,196] Trial 24 pruned. \n",
      "[I 2024-10-29 20:52:28,315] Trial 25 pruned. \n",
      "[I 2024-10-29 20:53:07,251] Trial 26 finished with value: 0.005799734964966774 and parameters: {'num_layers': 1, 'hidden_size': 112, 'lstm_dropout': 0.1384698653663401, 'dense_dropout': 0.15330644774494848, 'learning_rate': 0.008296458602221581}. Best is trial 6 with value: 0.004300180356949568.\n",
      "[I 2024-10-29 20:53:07,302] Trial 27 pruned. \n",
      "[I 2024-10-29 20:53:07,361] Trial 28 pruned. \n",
      "[I 2024-10-29 20:53:07,412] Trial 29 pruned. \n",
      "[I 2024-10-29 20:53:07,460] Trial 30 pruned. \n",
      "[I 2024-10-29 20:53:07,514] Trial 31 pruned. \n",
      "[I 2024-10-29 20:53:07,669] Trial 32 pruned. \n",
      "[I 2024-10-29 20:53:49,776] Trial 33 finished with value: 0.005508593167178333 and parameters: {'num_layers': 1, 'hidden_size': 48, 'lstm_dropout': 0.1564749160993868, 'dense_dropout': 0.15544398708641638, 'learning_rate': 0.032480064846135255}. Best is trial 6 with value: 0.004300180356949568.\n",
      "[I 2024-10-29 20:53:49,853] Trial 34 pruned. \n",
      "[I 2024-10-29 20:54:36,107] Trial 35 finished with value: 0.007656115107238293 and parameters: {'num_layers': 1, 'hidden_size': 24, 'lstm_dropout': 0.16533639549474022, 'dense_dropout': 0.07918310025172115, 'learning_rate': 0.04750193149775866}. Best is trial 6 with value: 0.004300180356949568.\n",
      "[I 2024-10-29 20:54:36,190] Trial 36 pruned. \n",
      "[I 2024-10-29 20:55:17,130] Trial 37 finished with value: 0.004405616084113717 and parameters: {'num_layers': 1, 'hidden_size': 96, 'lstm_dropout': 0.051065034678132115, 'dense_dropout': 0.12825151585082983, 'learning_rate': 0.006689330403388772}. Best is trial 6 with value: 0.004300180356949568.\n",
      "[I 2024-10-29 20:55:17,215] Trial 38 pruned. \n",
      "[I 2024-10-29 20:55:17,274] Trial 39 pruned. \n",
      "[I 2024-10-29 20:55:17,338] Trial 40 pruned. \n",
      "[I 2024-10-29 20:55:17,427] Trial 41 pruned. \n",
      "[I 2024-10-29 20:56:01,228] Trial 42 finished with value: 0.006624666973948479 and parameters: {'num_layers': 1, 'hidden_size': 48, 'lstm_dropout': 0.07704879089335279, 'dense_dropout': 0.059491441502240255, 'learning_rate': 0.007544640865891704}. Best is trial 6 with value: 0.004300180356949568.\n",
      "[I 2024-10-29 20:56:01,310] Trial 43 pruned. \n",
      "[I 2024-10-29 20:56:01,408] Trial 44 pruned. \n",
      "[I 2024-10-29 20:56:01,476] Trial 45 pruned. \n",
      "[I 2024-10-29 20:56:01,538] Trial 46 pruned. \n",
      "[I 2024-10-29 20:56:42,132] Trial 47 finished with value: 0.004714539973065257 and parameters: {'num_layers': 1, 'hidden_size': 96, 'lstm_dropout': 0.05944669420511697, 'dense_dropout': 0.0979920885050723, 'learning_rate': 0.010304164860006017}. Best is trial 6 with value: 0.004300180356949568.\n",
      "[I 2024-10-29 20:56:42,200] Trial 48 pruned. \n",
      "[I 2024-10-29 20:56:42,257] Trial 49 pruned. \n",
      "[I 2024-10-29 20:57:22,368] Trial 50 finished with value: 0.004116126918233931 and parameters: {'num_layers': 1, 'hidden_size': 88, 'lstm_dropout': 0.024531865595348923, 'dense_dropout': 0.092607411484683, 'learning_rate': 0.008993789439421949}. Best is trial 50 with value: 0.004116126918233931.\n",
      "[I 2024-10-29 20:57:22,510] Trial 51 pruned. \n",
      "[I 2024-10-29 20:58:04,653] Trial 52 finished with value: 0.0058135357685387135 and parameters: {'num_layers': 1, 'hidden_size': 80, 'lstm_dropout': 0.06748147021217546, 'dense_dropout': 0.06373378465112965, 'learning_rate': 0.0028501164997968057}. Best is trial 50 with value: 0.004116126918233931.\n",
      "[I 2024-10-29 20:58:04,729] Trial 53 pruned. \n",
      "[I 2024-10-29 20:58:04,892] Trial 54 pruned. \n",
      "[I 2024-10-29 20:58:05,059] Trial 55 pruned. \n",
      "[I 2024-10-29 20:58:05,221] Trial 56 pruned. \n",
      "[I 2024-10-29 20:58:45,479] Trial 57 finished with value: 0.00426624296233058 and parameters: {'num_layers': 1, 'hidden_size': 72, 'lstm_dropout': 0.037343874067475503, 'dense_dropout': 0.10478048170459701, 'learning_rate': 0.017798197944262975}. Best is trial 50 with value: 0.004116126918233931.\n",
      "[I 2024-10-29 20:58:45,529] Trial 58 pruned. \n",
      "[I 2024-10-29 20:58:45,621] Trial 59 pruned. \n",
      "[I 2024-10-29 20:58:45,699] Trial 60 pruned. \n",
      "[I 2024-10-29 20:58:45,794] Trial 61 pruned. \n",
      "[I 2024-10-29 20:59:25,273] Trial 62 finished with value: 0.0049397146794945 and parameters: {'num_layers': 1, 'hidden_size': 88, 'lstm_dropout': 0.020022286172599775, 'dense_dropout': 0.13719241041744504, 'learning_rate': 0.007564519377397442}. Best is trial 50 with value: 0.004116126918233931.\n",
      "[I 2024-10-29 21:00:06,787] Trial 63 finished with value: 0.005535032658372074 and parameters: {'num_layers': 1, 'hidden_size': 88, 'lstm_dropout': 0.019146812418669945, 'dense_dropout': 0.13674176828761503, 'learning_rate': 0.007053659315953779}. Best is trial 50 with value: 0.004116126918233931.\n",
      "[I 2024-10-29 21:00:06,840] Trial 64 pruned. \n",
      "[I 2024-10-29 21:00:06,903] Trial 65 pruned. \n",
      "[I 2024-10-29 21:00:07,077] Trial 66 pruned. \n",
      "[I 2024-10-29 21:00:07,134] Trial 67 pruned. \n",
      "[I 2024-10-29 21:00:07,200] Trial 68 pruned. \n",
      "[I 2024-10-29 21:00:07,255] Trial 69 pruned. \n",
      "[I 2024-10-29 21:00:07,326] Trial 70 pruned. \n",
      "[I 2024-10-29 21:00:08,955] Trial 71 pruned. \n",
      "[I 2024-10-29 21:00:09,051] Trial 72 pruned. \n",
      "[I 2024-10-29 21:00:09,172] Trial 73 pruned. \n",
      "[I 2024-10-29 21:00:47,316] Trial 74 finished with value: 0.0066367993131279945 and parameters: {'num_layers': 1, 'hidden_size': 104, 'lstm_dropout': 0.03948442454553929, 'dense_dropout': 0.09039287600500762, 'learning_rate': 0.006758089189677911}. Best is trial 50 with value: 0.004116126918233931.\n",
      "[I 2024-10-29 21:00:48,308] Trial 75 pruned. \n",
      "[I 2024-10-29 21:00:48,370] Trial 76 pruned. \n",
      "[I 2024-10-29 21:00:48,424] Trial 77 pruned. \n",
      "[I 2024-10-29 21:00:48,512] Trial 78 pruned. \n",
      "[I 2024-10-29 21:00:48,722] Trial 79 pruned. \n",
      "[I 2024-10-29 21:00:48,984] Trial 80 pruned. \n",
      "[I 2024-10-29 21:00:49,113] Trial 81 pruned. \n",
      "[I 2024-10-29 21:01:31,320] Trial 82 finished with value: 0.004513878142461181 and parameters: {'num_layers': 1, 'hidden_size': 40, 'lstm_dropout': 0.14034243761277493, 'dense_dropout': 0.1323158999955415, 'learning_rate': 0.03210079954072177}. Best is trial 50 with value: 0.004116126918233931.\n",
      "[I 2024-10-29 21:01:31,385] Trial 83 pruned. \n",
      "[I 2024-10-29 21:01:31,450] Trial 84 pruned. \n",
      "[I 2024-10-29 21:01:31,507] Trial 85 pruned. \n",
      "[I 2024-10-29 21:02:13,927] Trial 86 finished with value: 0.005323047516867518 and parameters: {'num_layers': 1, 'hidden_size': 40, 'lstm_dropout': 0.25341603219251346, 'dense_dropout': 0.05020390727774918, 'learning_rate': 0.021328641704276913}. Best is trial 50 with value: 0.004116126918233931.\n",
      "[I 2024-10-29 21:02:14,003] Trial 87 pruned. \n",
      "[I 2024-10-29 21:02:14,085] Trial 88 pruned. \n",
      "[I 2024-10-29 21:02:55,367] Trial 89 finished with value: 0.004756750189699233 and parameters: {'num_layers': 1, 'hidden_size': 32, 'lstm_dropout': 0.24547614404097484, 'dense_dropout': 0.10251990152478829, 'learning_rate': 0.021131365159508166}. Best is trial 50 with value: 0.004116126918233931.\n",
      "[I 2024-10-29 21:02:55,424] Trial 90 pruned. \n",
      "[I 2024-10-29 21:02:55,522] Trial 91 pruned. \n",
      "[I 2024-10-29 21:02:55,648] Trial 92 pruned. \n",
      "[I 2024-10-29 21:02:55,739] Trial 93 pruned. \n",
      "[I 2024-10-29 21:02:55,798] Trial 94 pruned. \n",
      "[I 2024-10-29 21:02:55,859] Trial 95 pruned. \n",
      "[I 2024-10-29 21:02:55,916] Trial 96 pruned. \n",
      "[I 2024-10-29 21:03:35,899] Trial 97 finished with value: 0.005837981472723186 and parameters: {'num_layers': 1, 'hidden_size': 48, 'lstm_dropout': 0.2051894332152004, 'dense_dropout': 0.11298992958429137, 'learning_rate': 0.01465015974672655}. Best is trial 50 with value: 0.004116126918233931.\n",
      "[I 2024-10-29 21:04:20,395] Trial 98 finished with value: 0.00677353679202497 and parameters: {'num_layers': 1, 'hidden_size': 16, 'lstm_dropout': 0.2579787043498873, 'dense_dropout': 0.020057796001869924, 'learning_rate': 0.023825860995719053}. Best is trial 50 with value: 0.004116126918233931.\n",
      "[I 2024-10-29 21:05:02,235] Trial 99 finished with value: 0.005076116882264614 and parameters: {'num_layers': 1, 'hidden_size': 32, 'lstm_dropout': 0.0843734626632893, 'dense_dropout': 0.08425448598386343, 'learning_rate': 0.010069248145615899}. Best is trial 50 with value: 0.004116126918233931.\n",
      "[I 2024-10-29 21:05:02,352] A new study created in memory with name: example-study\n"
     ]
    },
    {
     "name": "stdout",
     "output_type": "stream",
     "text": [
      "Study statistics: \n",
      "  Number of finished trials:  100\n",
      "  Number of pruned trials:  68\n",
      "  Number of complete trials:  32\n",
      "Best trial:\n",
      "  Value:  0.004116126918233931\n",
      "  Params: \n",
      "    num_layers: 1\n",
      "    hidden_size: 88\n",
      "    lstm_dropout: 0.024531865595348923\n",
      "    dense_dropout: 0.092607411484683\n",
      "    learning_rate: 0.008993789439421949\n",
      "R2 for sim at Xunhua(1972-2016) 0.9369043230114699\n",
      "Warning: ARIMASimFlow column not found in data for Xunhua station, year 2018\n"
     ]
    },
    {
     "name": "stderr",
     "output_type": "stream",
     "text": [
      "[I 2024-10-29 21:05:50,201] Trial 0 finished with value: 0.002831778721883893 and parameters: {'num_layers': 3, 'hidden_size': 72, 'lstm_dropout': 0.27872715766925366, 'dense_dropout': 0.2952660428929327, 'learning_rate': 0.0003903213731982926}. Best is trial 0 with value: 0.002831778721883893.\n",
      "[I 2024-10-29 21:06:38,530] Trial 1 finished with value: 0.0038843381917104125 and parameters: {'num_layers': 3, 'hidden_size': 80, 'lstm_dropout': 0.005771098782018647, 'dense_dropout': 0.050653639721585486, 'learning_rate': 1.0663979759307548e-05}. Best is trial 0 with value: 0.002831778721883893.\n",
      "[I 2024-10-29 21:07:15,688] Trial 2 finished with value: 0.003982004011049867 and parameters: {'num_layers': 1, 'hidden_size': 104, 'lstm_dropout': 0.21290721949656072, 'dense_dropout': 0.21278188674969833, 'learning_rate': 0.02243074788710415}. Best is trial 0 with value: 0.002831778721883893.\n",
      "[I 2024-10-29 21:07:53,865] Trial 3 finished with value: 0.007467061979696155 and parameters: {'num_layers': 1, 'hidden_size': 96, 'lstm_dropout': 0.17172648686153902, 'dense_dropout': 0.46238654017924585, 'learning_rate': 0.0007156142725195627}. Best is trial 0 with value: 0.002831778721883893.\n",
      "[I 2024-10-29 21:08:34,149] Trial 4 finished with value: 0.0029946803115308285 and parameters: {'num_layers': 1, 'hidden_size': 96, 'lstm_dropout': 0.024402722335308547, 'dense_dropout': 0.36088166370915664, 'learning_rate': 5.3254053655830486e-05}. Best is trial 0 with value: 0.002831778721883893.\n",
      "[I 2024-10-29 21:09:16,611] Trial 5 finished with value: 0.006399931386113167 and parameters: {'num_layers': 2, 'hidden_size': 104, 'lstm_dropout': 0.09755748832595129, 'dense_dropout': 0.4308853328411009, 'learning_rate': 0.0006815623254296574}. Best is trial 0 with value: 0.002831778721883893.\n",
      "[I 2024-10-29 21:09:16,654] Trial 6 pruned. \n",
      "[I 2024-10-29 21:10:06,732] Trial 7 finished with value: 0.0025016331928782165 and parameters: {'num_layers': 1, 'hidden_size': 80, 'lstm_dropout': 0.3585849705523439, 'dense_dropout': 0.09728483054802001, 'learning_rate': 0.002405405007488939}. Best is trial 7 with value: 0.0025016331928782165.\n",
      "[I 2024-10-29 21:10:06,788] Trial 8 pruned. \n",
      "[I 2024-10-29 21:10:06,841] Trial 9 pruned. \n",
      "[I 2024-10-29 21:10:54,333] Trial 10 finished with value: 0.0020806880784220994 and parameters: {'num_layers': 2, 'hidden_size': 40, 'lstm_dropout': 0.48833228071690826, 'dense_dropout': 0.1815968289057542, 'learning_rate': 0.004512723501447684}. Best is trial 10 with value: 0.0020806880784220994.\n",
      "[I 2024-10-29 21:11:37,610] Trial 11 finished with value: 0.003604004392400384 and parameters: {'num_layers': 2, 'hidden_size': 40, 'lstm_dropout': 0.49782856337155507, 'dense_dropout': 0.16019037970064193, 'learning_rate': 0.0060096119840771485}. Best is trial 10 with value: 0.0020806880784220994.\n",
      "[I 2024-10-29 21:12:20,162] Trial 12 finished with value: 0.0025539941852912307 and parameters: {'num_layers': 2, 'hidden_size': 48, 'lstm_dropout': 0.48698126634062994, 'dense_dropout': 0.13482112029067478, 'learning_rate': 0.004632138055286325}. Best is trial 10 with value: 0.0020806880784220994.\n",
      "[I 2024-10-29 21:13:02,802] Trial 13 finished with value: 0.004673122311942279 and parameters: {'num_layers': 2, 'hidden_size': 128, 'lstm_dropout': 0.36694033070189447, 'dense_dropout': 0.007311202085047902, 'learning_rate': 0.012302529081188769}. Best is trial 10 with value: 0.0020806880784220994.\n",
      "[I 2024-10-29 21:13:02,870] Trial 14 pruned. \n",
      "[I 2024-10-29 21:13:02,939] Trial 15 pruned. \n",
      "[I 2024-10-29 21:13:03,104] Trial 16 pruned. \n",
      "[I 2024-10-29 21:13:03,202] Trial 17 pruned. \n",
      "[I 2024-10-29 21:13:03,297] Trial 18 pruned. \n",
      "[I 2024-10-29 21:13:03,365] Trial 19 pruned. \n",
      "[I 2024-10-29 21:13:03,441] Trial 20 pruned. \n",
      "[I 2024-10-29 21:13:46,466] Trial 21 finished with value: 0.002911386196501553 and parameters: {'num_layers': 2, 'hidden_size': 48, 'lstm_dropout': 0.49096863768632576, 'dense_dropout': 0.13562985879286085, 'learning_rate': 0.0032232261829026085}. Best is trial 10 with value: 0.0020806880784220994.\n",
      "[I 2024-10-29 21:14:29,348] Trial 22 finished with value: 0.003896581707522273 and parameters: {'num_layers': 2, 'hidden_size': 56, 'lstm_dropout': 0.4534347029980115, 'dense_dropout': 0.10851960073366801, 'learning_rate': 0.004376747497191892}. Best is trial 10 with value: 0.0020806880784220994.\n",
      "[I 2024-10-29 21:14:29,416] Trial 23 pruned. \n",
      "[I 2024-10-29 21:14:29,477] Trial 24 pruned. \n",
      "[I 2024-10-29 21:14:29,529] Trial 25 pruned. \n",
      "[I 2024-10-29 21:14:29,595] Trial 26 pruned. \n",
      "[I 2024-10-29 21:14:29,656] Trial 27 pruned. \n",
      "[I 2024-10-29 21:14:29,707] Trial 28 pruned. \n",
      "[I 2024-10-29 21:14:29,773] Trial 29 pruned. \n",
      "[I 2024-10-29 21:14:29,845] Trial 30 pruned. \n",
      "[I 2024-10-29 21:14:29,923] Trial 31 pruned. \n",
      "[I 2024-10-29 21:14:30,011] Trial 32 pruned. \n",
      "[I 2024-10-29 21:14:30,098] Trial 33 pruned. \n",
      "[I 2024-10-29 21:14:30,183] Trial 34 pruned. \n",
      "[I 2024-10-29 21:14:30,300] Trial 35 pruned. \n",
      "[I 2024-10-29 21:14:30,372] Trial 36 pruned. \n",
      "[I 2024-10-29 21:14:30,442] Trial 37 pruned. \n",
      "[I 2024-10-29 21:14:30,518] Trial 38 pruned. \n",
      "[I 2024-10-29 21:14:30,618] Trial 39 pruned. \n",
      "[I 2024-10-29 21:14:30,727] Trial 40 pruned. \n",
      "[I 2024-10-29 21:14:31,071] Trial 41 pruned. \n",
      "[I 2024-10-29 21:14:31,164] Trial 42 pruned. \n",
      "[I 2024-10-29 21:14:31,256] Trial 43 pruned. \n",
      "[I 2024-10-29 21:14:31,340] Trial 44 pruned. \n",
      "[I 2024-10-29 21:15:15,482] Trial 45 finished with value: 0.002371491107624024 and parameters: {'num_layers': 2, 'hidden_size': 40, 'lstm_dropout': 0.39136158684157035, 'dense_dropout': 0.2073329656921447, 'learning_rate': 0.006380004484065822}. Best is trial 10 with value: 0.0020806880784220994.\n",
      "[I 2024-10-29 21:15:51,537] Trial 46 finished with value: 0.002890397096052766 and parameters: {'num_layers': 1, 'hidden_size': 40, 'lstm_dropout': 0.3429507392300713, 'dense_dropout': 0.2086617558164089, 'learning_rate': 0.0071499200155046}. Best is trial 10 with value: 0.0020806880784220994.\n",
      "[I 2024-10-29 21:15:51,594] Trial 47 pruned. \n",
      "[I 2024-10-29 21:15:51,889] Trial 48 pruned. \n",
      "[I 2024-10-29 21:15:51,955] Trial 49 pruned. \n",
      "[I 2024-10-29 21:15:52,040] Trial 50 pruned. \n",
      "[I 2024-10-29 21:16:30,277] Trial 51 finished with value: 0.002431975328363478 and parameters: {'num_layers': 1, 'hidden_size': 40, 'lstm_dropout': 0.2858498715747056, 'dense_dropout': 0.20649063551158464, 'learning_rate': 0.008188686456545826}. Best is trial 10 with value: 0.0020806880784220994.\n",
      "[I 2024-10-29 21:17:08,241] Trial 52 finished with value: 0.0016445262299384922 and parameters: {'num_layers': 1, 'hidden_size': 32, 'lstm_dropout': 0.297534118686633, 'dense_dropout': 0.18698590305117418, 'learning_rate': 0.009872952383076632}. Best is trial 52 with value: 0.0016445262299384922.\n",
      "[I 2024-10-29 21:17:49,510] Trial 53 finished with value: 0.002332725911401212 and parameters: {'num_layers': 1, 'hidden_size': 32, 'lstm_dropout': 0.19038006533349455, 'dense_dropout': 0.2218802970436473, 'learning_rate': 0.0155312838002153}. Best is trial 52 with value: 0.0016445262299384922.\n",
      "[I 2024-10-29 21:17:49,566] Trial 54 pruned. \n",
      "[I 2024-10-29 21:17:49,666] Trial 55 pruned. \n",
      "[I 2024-10-29 21:17:49,770] Trial 56 pruned. \n",
      "[I 2024-10-29 21:17:49,867] Trial 57 pruned. \n",
      "[I 2024-10-29 21:17:49,921] Trial 58 pruned. \n",
      "[I 2024-10-29 21:17:49,986] Trial 59 pruned. \n",
      "[I 2024-10-29 21:17:50,188] Trial 60 pruned. \n",
      "[I 2024-10-29 21:17:50,403] Trial 61 pruned. \n",
      "[I 2024-10-29 21:17:50,512] Trial 62 pruned. \n",
      "[I 2024-10-29 21:18:30,467] Trial 63 finished with value: 0.0029789359541609883 and parameters: {'num_layers': 1, 'hidden_size': 40, 'lstm_dropout': 0.3239637418565768, 'dense_dropout': 0.1848124273341473, 'learning_rate': 0.004432911814673821}. Best is trial 52 with value: 0.0016445262299384922.\n",
      "[I 2024-10-29 21:18:30,661] Trial 64 pruned. \n",
      "[I 2024-10-29 21:18:30,753] Trial 65 pruned. \n",
      "[I 2024-10-29 21:18:30,819] Trial 66 pruned. \n",
      "[I 2024-10-29 21:18:31,013] Trial 67 pruned. \n",
      "[I 2024-10-29 21:18:31,170] Trial 68 pruned. \n",
      "[I 2024-10-29 21:19:14,366] Trial 69 finished with value: 0.0027289909194223583 and parameters: {'num_layers': 2, 'hidden_size': 24, 'lstm_dropout': 0.4027264762547407, 'dense_dropout': 0.17573383933206588, 'learning_rate': 0.00367045840205034}. Best is trial 52 with value: 0.0016445262299384922.\n",
      "[I 2024-10-29 21:19:54,647] Trial 70 finished with value: 0.0032334178686141968 and parameters: {'num_layers': 1, 'hidden_size': 56, 'lstm_dropout': 0.14767151663989883, 'dense_dropout': 0.19395185124596218, 'learning_rate': 0.007183781636296597}. Best is trial 52 with value: 0.0016445262299384922.\n",
      "[I 2024-10-29 21:19:54,719] Trial 71 pruned. \n",
      "[I 2024-10-29 21:19:54,795] Trial 72 pruned. \n",
      "[I 2024-10-29 21:19:54,884] Trial 73 pruned. \n",
      "[I 2024-10-29 21:19:54,962] Trial 74 pruned. \n",
      "[I 2024-10-29 21:19:55,416] Trial 75 pruned. \n",
      "[I 2024-10-29 21:19:55,521] Trial 76 pruned. \n",
      "[I 2024-10-29 21:19:55,596] Trial 77 pruned. \n",
      "[I 2024-10-29 21:20:39,457] Trial 78 finished with value: 0.00272357533685863 and parameters: {'num_layers': 1, 'hidden_size': 96, 'lstm_dropout': 0.39407530558551684, 'dense_dropout': 0.18510322589355005, 'learning_rate': 0.001218764841024683}. Best is trial 52 with value: 0.0016445262299384922.\n",
      "[I 2024-10-29 21:20:39,580] Trial 79 pruned. \n",
      "[I 2024-10-29 21:20:39,634] Trial 80 pruned. \n",
      "[I 2024-10-29 21:21:22,117] Trial 81 finished with value: 0.0022476300364360213 and parameters: {'num_layers': 1, 'hidden_size': 112, 'lstm_dropout': 0.39909911100048406, 'dense_dropout': 0.17711898994676792, 'learning_rate': 0.0037263099975804676}. Best is trial 52 with value: 0.0016445262299384922.\n",
      "[I 2024-10-29 21:21:22,179] Trial 82 pruned. \n",
      "[I 2024-10-29 21:22:06,521] Trial 83 finished with value: 0.002500656759366393 and parameters: {'num_layers': 1, 'hidden_size': 128, 'lstm_dropout': 0.39048191668220655, 'dense_dropout': 0.14987032660571248, 'learning_rate': 0.002038755976817471}. Best is trial 52 with value: 0.0016445262299384922.\n",
      "[I 2024-10-29 21:22:06,585] Trial 84 pruned. \n",
      "[I 2024-10-29 21:22:52,051] Trial 85 finished with value: 0.0025806111516430974 and parameters: {'num_layers': 1, 'hidden_size': 120, 'lstm_dropout': 0.3061206667653919, 'dense_dropout': 0.15234258695197214, 'learning_rate': 0.0028583143507791594}. Best is trial 52 with value: 0.0016445262299384922.\n",
      "[I 2024-10-29 21:22:52,181] Trial 86 pruned. \n",
      "[I 2024-10-29 21:22:52,263] Trial 87 pruned. \n",
      "[I 2024-10-29 21:22:52,345] Trial 88 pruned. \n",
      "[I 2024-10-29 21:22:52,455] Trial 89 pruned. \n",
      "[I 2024-10-29 21:22:52,660] Trial 90 pruned. \n",
      "[I 2024-10-29 21:22:52,771] Trial 91 pruned. \n",
      "[I 2024-10-29 21:22:52,996] Trial 92 pruned. \n",
      "[I 2024-10-29 21:22:53,099] Trial 93 pruned. \n",
      "[I 2024-10-29 21:22:53,246] Trial 94 pruned. \n",
      "[I 2024-10-29 21:23:37,303] Trial 95 finished with value: 0.0028219680534675717 and parameters: {'num_layers': 1, 'hidden_size': 112, 'lstm_dropout': 0.3671579758015452, 'dense_dropout': 0.11117921148093571, 'learning_rate': 0.007866186749337173}. Best is trial 52 with value: 0.0016445262299384922.\n",
      "[I 2024-10-29 21:23:37,366] Trial 96 pruned. \n",
      "[I 2024-10-29 21:23:37,464] Trial 97 pruned. \n",
      "[I 2024-10-29 21:24:20,676] Trial 98 finished with value: 0.0036237946478649974 and parameters: {'num_layers': 1, 'hidden_size': 48, 'lstm_dropout': 0.0932995671341329, 'dense_dropout': 0.14559446656170155, 'learning_rate': 0.00509746852591976}. Best is trial 52 with value: 0.0016445262299384922.\n",
      "[I 2024-10-29 21:24:20,748] Trial 99 pruned. \n",
      "[I 2024-10-29 21:24:20,911] A new study created in memory with name: example-study\n"
     ]
    },
    {
     "name": "stdout",
     "output_type": "stream",
     "text": [
      "Study statistics: \n",
      "  Number of finished trials:  100\n",
      "  Number of pruned trials:  73\n",
      "  Number of complete trials:  27\n",
      "Best trial:\n",
      "  Value:  0.0016445262299384922\n",
      "  Params: \n",
      "    num_layers: 1\n",
      "    hidden_size: 32\n",
      "    lstm_dropout: 0.297534118686633\n",
      "    dense_dropout: 0.18698590305117418\n",
      "    learning_rate: 0.009872952383076632\n",
      "R2 for sim at Xunhua(1972-2017) 0.9308207286864563\n",
      "Warning: ARIMASimFlow column not found in data for Xunhua station, year 2019\n"
     ]
    },
    {
     "name": "stderr",
     "output_type": "stream",
     "text": [
      "[I 2024-10-29 21:25:05,920] Trial 0 finished with value: 0.009329840540885925 and parameters: {'num_layers': 1, 'hidden_size': 72, 'lstm_dropout': 0.39376371122983533, 'dense_dropout': 0.3524886869391458, 'learning_rate': 0.067457598380799}. Best is trial 0 with value: 0.009329840540885925.\n",
      "[I 2024-10-29 21:25:51,230] Trial 1 finished with value: 0.006798525573685765 and parameters: {'num_layers': 1, 'hidden_size': 128, 'lstm_dropout': 0.37694207734439705, 'dense_dropout': 0.3697906936854813, 'learning_rate': 0.0011835119620884798}. Best is trial 1 with value: 0.006798525573685765.\n",
      "[I 2024-10-29 21:26:46,210] Trial 2 finished with value: 0.002808980760164559 and parameters: {'num_layers': 2, 'hidden_size': 32, 'lstm_dropout': 0.05905645943743132, 'dense_dropout': 0.028150117063040325, 'learning_rate': 0.011895083716361925}. Best is trial 2 with value: 0.002808980760164559.\n",
      "[I 2024-10-29 21:27:43,243] Trial 3 finished with value: 0.010359805542975664 and parameters: {'num_layers': 3, 'hidden_size': 80, 'lstm_dropout': 0.14544418007417942, 'dense_dropout': 0.380063842948802, 'learning_rate': 1.0599992876398046e-05}. Best is trial 2 with value: 0.002808980760164559.\n",
      "[I 2024-10-29 21:28:36,543] Trial 4 finished with value: 0.02142580132931471 and parameters: {'num_layers': 3, 'hidden_size': 104, 'lstm_dropout': 0.4142904048617539, 'dense_dropout': 0.19053877993534613, 'learning_rate': 0.05815980968960945}. Best is trial 2 with value: 0.002808980760164559.\n",
      "[I 2024-10-29 21:28:36,607] Trial 5 pruned. \n",
      "[I 2024-10-29 21:28:36,668] Trial 6 pruned. \n",
      "[I 2024-10-29 21:28:36,739] Trial 7 pruned. \n",
      "[I 2024-10-29 21:29:21,230] Trial 8 finished with value: 0.00699135335162282 and parameters: {'num_layers': 1, 'hidden_size': 40, 'lstm_dropout': 0.4913476373311218, 'dense_dropout': 0.36661115405335404, 'learning_rate': 0.010904364719710373}. Best is trial 2 with value: 0.002808980760164559.\n",
      "[I 2024-10-29 21:29:21,308] Trial 9 pruned. \n",
      "[I 2024-10-29 21:29:21,389] Trial 10 pruned. \n",
      "[I 2024-10-29 21:30:15,461] Trial 11 finished with value: 0.002621141553390771 and parameters: {'num_layers': 2, 'hidden_size': 128, 'lstm_dropout': 0.297908672534868, 'dense_dropout': 0.007479139422579793, 'learning_rate': 0.0011374996187532636}. Best is trial 11 with value: 0.002621141553390771.\n",
      "[I 2024-10-29 21:30:15,545] Trial 12 pruned. \n",
      "[I 2024-10-29 21:30:15,608] Trial 13 pruned. \n",
      "[I 2024-10-29 21:31:04,850] Trial 14 finished with value: 0.0028928506653755903 and parameters: {'num_layers': 2, 'hidden_size': 128, 'lstm_dropout': 0.03380061894811354, 'dense_dropout': 0.10163963448982986, 'learning_rate': 0.0053565809399196826}. Best is trial 11 with value: 0.002621141553390771.\n",
      "[I 2024-10-29 21:31:04,920] Trial 15 pruned. \n",
      "[I 2024-10-29 21:31:04,999] Trial 16 pruned. \n",
      "[I 2024-10-29 21:31:05,106] Trial 17 pruned. \n",
      "[I 2024-10-29 21:31:05,193] Trial 18 pruned. \n",
      "[I 2024-10-29 21:31:05,262] Trial 19 pruned. \n",
      "[I 2024-10-29 21:31:05,331] Trial 20 pruned. \n",
      "[I 2024-10-29 21:31:52,158] Trial 21 finished with value: 0.0023393032024614513 and parameters: {'num_layers': 2, 'hidden_size': 128, 'lstm_dropout': 0.004797865588706263, 'dense_dropout': 0.11829040400091506, 'learning_rate': 0.00500105164235348}. Best is trial 21 with value: 0.0023393032024614513.\n",
      "[I 2024-10-29 21:31:52,220] Trial 22 pruned. \n",
      "[I 2024-10-29 21:32:40,231] Trial 23 finished with value: 0.0039321503136307 and parameters: {'num_layers': 2, 'hidden_size': 120, 'lstm_dropout': 0.06308566950978911, 'dense_dropout': 0.05705234261463399, 'learning_rate': 0.005004598838249658}. Best is trial 21 with value: 0.0023393032024614513.\n",
      "[I 2024-10-29 21:32:40,300] Trial 24 pruned. \n",
      "[I 2024-10-29 21:32:40,383] Trial 25 pruned. \n",
      "[I 2024-10-29 21:33:24,738] Trial 26 finished with value: 0.0033567833015695214 and parameters: {'num_layers': 1, 'hidden_size': 120, 'lstm_dropout': 0.11676320193485946, 'dense_dropout': 0.0005534909920325327, 'learning_rate': 0.002192598554040228}. Best is trial 21 with value: 0.0023393032024614513.\n",
      "[I 2024-10-29 21:33:24,947] Trial 27 pruned. \n",
      "[I 2024-10-29 21:33:25,014] Trial 28 pruned. \n",
      "[I 2024-10-29 21:33:25,073] Trial 29 pruned. \n",
      "[I 2024-10-29 21:33:25,135] Trial 30 pruned. \n",
      "[I 2024-10-29 21:34:15,469] Trial 31 finished with value: 0.0026648181956261396 and parameters: {'num_layers': 2, 'hidden_size': 128, 'lstm_dropout': 0.037970060684954905, 'dense_dropout': 0.09889107166833908, 'learning_rate': 0.005487703477833406}. Best is trial 21 with value: 0.0023393032024614513.\n",
      "[I 2024-10-29 21:34:15,542] Trial 32 pruned. \n",
      "[I 2024-10-29 21:34:15,617] Trial 33 pruned. \n",
      "[I 2024-10-29 21:35:05,394] Trial 34 finished with value: 0.0038982945261523128 and parameters: {'num_layers': 2, 'hidden_size': 112, 'lstm_dropout': 0.11068134379837512, 'dense_dropout': 0.08187638129599507, 'learning_rate': 0.0062395585455433285}. Best is trial 21 with value: 0.0023393032024614513.\n",
      "[I 2024-10-29 21:35:05,463] Trial 35 pruned. \n",
      "[I 2024-10-29 21:35:05,545] Trial 36 pruned. \n",
      "[I 2024-10-29 21:35:05,638] Trial 37 pruned. \n",
      "[I 2024-10-29 21:35:05,695] Trial 38 pruned. \n",
      "[I 2024-10-29 21:35:05,783] Trial 39 pruned. \n",
      "[I 2024-10-29 21:35:05,900] Trial 40 pruned. \n",
      "[I 2024-10-29 21:35:06,000] Trial 41 pruned. \n",
      "[I 2024-10-29 21:35:06,097] Trial 42 pruned. \n",
      "[I 2024-10-29 21:35:06,224] Trial 43 pruned. \n",
      "[I 2024-10-29 21:35:06,327] Trial 44 pruned. \n",
      "[I 2024-10-29 21:35:06,421] Trial 45 pruned. \n",
      "[I 2024-10-29 21:35:06,544] Trial 46 pruned. \n",
      "[I 2024-10-29 21:35:06,658] Trial 47 pruned. \n",
      "[I 2024-10-29 21:35:06,985] Trial 48 pruned. \n",
      "[I 2024-10-29 21:35:07,046] Trial 49 pruned. \n",
      "[I 2024-10-29 21:35:07,119] Trial 50 pruned. \n",
      "[I 2024-10-29 21:35:07,705] Trial 51 pruned. \n",
      "[I 2024-10-29 21:35:07,761] Trial 52 pruned. \n",
      "[I 2024-10-29 21:35:52,598] Trial 53 finished with value: 0.0031998740741983056 and parameters: {'num_layers': 1, 'hidden_size': 128, 'lstm_dropout': 0.09502484748148377, 'dense_dropout': 0.05616533263737831, 'learning_rate': 0.0031269898291079717}. Best is trial 21 with value: 0.0023393032024614513.\n",
      "[I 2024-10-29 21:36:39,750] Trial 54 finished with value: 0.002943342668004334 and parameters: {'num_layers': 1, 'hidden_size': 128, 'lstm_dropout': 0.0901913215673307, 'dense_dropout': 0.05971395380553363, 'learning_rate': 0.00507143027509134}. Best is trial 21 with value: 0.0023393032024614513.\n",
      "[I 2024-10-29 21:36:39,817] Trial 55 pruned. \n",
      "[I 2024-10-29 21:36:39,905] Trial 56 pruned. \n",
      "[I 2024-10-29 21:36:40,173] Trial 57 pruned. \n",
      "[I 2024-10-29 21:36:40,294] Trial 58 pruned. \n",
      "[I 2024-10-29 21:36:40,834] Trial 59 pruned. \n",
      "[I 2024-10-29 21:36:40,976] Trial 60 pruned. \n",
      "[I 2024-10-29 21:36:41,096] Trial 61 pruned. \n",
      "[I 2024-10-29 21:36:41,779] Trial 62 pruned. \n",
      "[I 2024-10-29 21:36:41,875] Trial 63 pruned. \n",
      "[I 2024-10-29 21:36:41,983] Trial 64 pruned. \n",
      "[I 2024-10-29 21:37:25,607] Trial 65 finished with value: 0.002916349796578288 and parameters: {'num_layers': 1, 'hidden_size': 104, 'lstm_dropout': 0.09816478600968931, 'dense_dropout': 0.01645380996435406, 'learning_rate': 0.008642848256038133}. Best is trial 21 with value: 0.0023393032024614513.\n",
      "[I 2024-10-29 21:37:25,667] Trial 66 pruned. \n",
      "[I 2024-10-29 21:37:25,727] Trial 67 pruned. \n",
      "[I 2024-10-29 21:37:25,785] Trial 68 pruned. \n",
      "[I 2024-10-29 21:37:25,842] Trial 69 pruned. \n",
      "[I 2024-10-29 21:37:25,909] Trial 70 pruned. \n",
      "[I 2024-10-29 21:37:26,467] Trial 71 pruned. \n",
      "[I 2024-10-29 21:37:26,526] Trial 72 pruned. \n",
      "[I 2024-10-29 21:37:27,127] Trial 73 pruned. \n",
      "[I 2024-10-29 21:38:09,165] Trial 74 finished with value: 0.0039008702151477337 and parameters: {'num_layers': 1, 'hidden_size': 120, 'lstm_dropout': 0.08963814684204571, 'dense_dropout': 0.05173189620933947, 'learning_rate': 0.005718333396979226}. Best is trial 21 with value: 0.0023393032024614513.\n",
      "[I 2024-10-29 21:38:09,535] Trial 75 pruned. \n",
      "[I 2024-10-29 21:38:09,595] Trial 76 pruned. \n",
      "[I 2024-10-29 21:38:48,558] Trial 77 finished with value: 0.002984404854942113 and parameters: {'num_layers': 1, 'hidden_size': 120, 'lstm_dropout': 0.052027297177988506, 'dense_dropout': 0.12611862998081366, 'learning_rate': 0.00732581505374745}. Best is trial 21 with value: 0.0023393032024614513.\n",
      "[I 2024-10-29 21:38:48,655] Trial 78 pruned. \n",
      "[I 2024-10-29 21:38:48,727] Trial 79 pruned. \n",
      "[I 2024-10-29 21:38:48,820] Trial 80 pruned. \n",
      "[I 2024-10-29 21:39:29,492] Trial 81 finished with value: 0.0032963724806904793 and parameters: {'num_layers': 1, 'hidden_size': 128, 'lstm_dropout': 0.1010353095456932, 'dense_dropout': 0.07458037012625958, 'learning_rate': 0.006835123118580092}. Best is trial 21 with value: 0.0023393032024614513.\n",
      "[I 2024-10-29 21:39:29,645] Trial 82 pruned. \n",
      "[I 2024-10-29 21:40:08,863] Trial 83 finished with value: 0.0033582901814952493 and parameters: {'num_layers': 1, 'hidden_size': 128, 'lstm_dropout': 0.06023312305402044, 'dense_dropout': 0.17127504483092829, 'learning_rate': 0.004612946984684599}. Best is trial 21 with value: 0.0023393032024614513.\n",
      "[I 2024-10-29 21:40:08,922] Trial 84 pruned. \n",
      "[I 2024-10-29 21:40:08,976] Trial 85 pruned. \n",
      "[I 2024-10-29 21:40:09,040] Trial 86 pruned. \n",
      "[I 2024-10-29 21:40:09,105] Trial 87 pruned. \n",
      "[I 2024-10-29 21:40:09,683] Trial 88 pruned. \n",
      "[I 2024-10-29 21:40:09,741] Trial 89 pruned. \n",
      "[I 2024-10-29 21:40:10,337] Trial 90 pruned. \n",
      "[I 2024-10-29 21:40:51,269] Trial 91 finished with value: 0.0029402069048956037 and parameters: {'num_layers': 1, 'hidden_size': 128, 'lstm_dropout': 0.08146693656876983, 'dense_dropout': 0.06552872791890822, 'learning_rate': 0.007357227159522529}. Best is trial 21 with value: 0.0023393032024614513.\n",
      "[I 2024-10-29 21:40:51,327] Trial 92 pruned. \n",
      "[I 2024-10-29 21:40:51,385] Trial 93 pruned. \n",
      "[I 2024-10-29 21:40:51,583] Trial 94 pruned. \n",
      "[I 2024-10-29 21:40:51,636] Trial 95 pruned. \n",
      "[I 2024-10-29 21:40:51,697] Trial 96 pruned. \n",
      "[I 2024-10-29 21:40:51,821] Trial 97 pruned. \n",
      "[I 2024-10-29 21:40:52,778] Trial 98 pruned. \n",
      "[I 2024-10-29 21:40:52,878] Trial 99 pruned. \n"
     ]
    },
    {
     "name": "stdout",
     "output_type": "stream",
     "text": [
      "Study statistics: \n",
      "  Number of finished trials:  100\n",
      "  Number of pruned trials:  79\n",
      "  Number of complete trials:  21\n",
      "Best trial:\n",
      "  Value:  0.0023393032024614513\n",
      "  Params: \n",
      "    num_layers: 2\n",
      "    hidden_size: 128\n",
      "    lstm_dropout: 0.004797865588706263\n",
      "    dense_dropout: 0.11829040400091506\n",
      "    learning_rate: 0.00500105164235348\n",
      "R2 for sim at Xunhua(1972-2018) 0.9560914987364005\n",
      "R2 for pred at Xunhua(2015-2019) 0.3679475235466343\n"
     ]
    },
    {
     "data": {
      "application/vnd.plotly.v1+json": {
       "config": {
        "plotlyServerURL": "https://plot.ly"
       },
       "data": [
        {
         "mode": "lines",
         "name": "obs",
         "type": "scatter",
         "x": [
          "2015-01-01T00:00:00",
          "2015-02-01T00:00:00",
          "2015-03-01T00:00:00",
          "2015-04-01T00:00:00",
          "2015-05-01T00:00:00",
          "2015-06-01T00:00:00",
          "2015-07-01T00:00:00",
          "2015-08-01T00:00:00",
          "2015-09-01T00:00:00",
          "2015-10-01T00:00:00",
          "2015-11-01T00:00:00",
          "2015-12-01T00:00:00",
          "2016-01-01T00:00:00",
          "2016-02-01T00:00:00",
          "2016-03-01T00:00:00",
          "2016-04-01T00:00:00",
          "2016-05-01T00:00:00",
          "2016-06-01T00:00:00",
          "2016-07-01T00:00:00",
          "2016-08-01T00:00:00",
          "2016-09-01T00:00:00",
          "2016-10-01T00:00:00",
          "2016-11-01T00:00:00",
          "2016-12-01T00:00:00",
          "2017-01-01T00:00:00",
          "2017-02-01T00:00:00",
          "2017-03-01T00:00:00",
          "2017-04-01T00:00:00",
          "2017-05-01T00:00:00",
          "2017-06-01T00:00:00",
          "2017-07-01T00:00:00",
          "2017-08-01T00:00:00",
          "2017-09-01T00:00:00",
          "2017-10-01T00:00:00",
          "2017-11-01T00:00:00",
          "2017-12-01T00:00:00",
          "2018-01-01T00:00:00",
          "2018-02-01T00:00:00",
          "2018-03-01T00:00:00",
          "2018-04-01T00:00:00",
          "2018-05-01T00:00:00",
          "2018-06-01T00:00:00",
          "2018-07-01T00:00:00",
          "2018-08-01T00:00:00",
          "2018-09-01T00:00:00",
          "2018-10-01T00:00:00",
          "2018-11-01T00:00:00",
          "2018-12-01T00:00:00",
          "2019-01-01T00:00:00",
          "2019-02-01T00:00:00",
          "2019-03-01T00:00:00",
          "2019-04-01T00:00:00",
          "2019-05-01T00:00:00",
          "2019-06-01T00:00:00",
          "2019-07-01T00:00:00",
          "2019-08-01T00:00:00",
          "2019-09-01T00:00:00",
          "2019-10-01T00:00:00",
          "2019-11-01T00:00:00",
          "2019-12-01T00:00:00"
         ],
         "y": [
          233.72097778320315,
          210.4733886718748,
          237.33145141601537,
          260.23986816406244,
          300.58926391601545,
          746.3971557617185,
          1308.9274902343748,
          585.9125366210935,
          622.9486083984374,
          750.492248535156,
          409.0270690917968,
          239.57038879394517,
          159.8075561523434,
          151.5609436035156,
          201.71928405761716,
          298.9651794433592,
          473.18597412109364,
          672.2758178710936,
          734.846923828125,
          610.1930541992185,
          669.5579223632809,
          812.0487060546874,
          456.99038696289057,
          254.48411560058594,
          175.43865966796847,
          184.34480285644517,
          212.40403747558588,
          288.9980468749998,
          421.52920532226545,
          955.1680908203125,
          660.1066284179688,
          610.977355957031,
          1250.3574218749998,
          1628.143310546875,
          740.6163940429685,
          322.51168823242176,
          208.9342193603513,
          200.48898315429676,
          240.0946502685547,
          390.9962463378904,
          799.9525146484374,
          1042.3602294921873,
          2250.375,
          1345.0872802734373,
          2248.215576171875,
          1469.0262451171875,
          769.2869873046875,
          379.00366210937483,
          280.30691528320284,
          271.4028625488281,
          274.57778930664057,
          505.0815124511716,
          761.5518798828124,
          1674.694091796875,
          2222.146484375,
          1581.6751708984375,
          1800.034423828125,
          1441.9842529296875,
          784.3594360351561,
          359.44024658203114
         ]
        },
        {
         "mode": "lines",
         "name": "pred",
         "type": "scatter",
         "x": [
          "2015-01-01T00:00:00",
          "2015-02-01T00:00:00",
          "2015-03-01T00:00:00",
          "2015-04-01T00:00:00",
          "2015-05-01T00:00:00",
          "2015-06-01T00:00:00",
          "2015-07-01T00:00:00",
          "2015-08-01T00:00:00",
          "2015-09-01T00:00:00",
          "2015-10-01T00:00:00",
          "2015-11-01T00:00:00",
          "2015-12-01T00:00:00",
          "2016-01-01T00:00:00",
          "2016-02-01T00:00:00",
          "2016-03-01T00:00:00",
          "2016-04-01T00:00:00",
          "2016-05-01T00:00:00",
          "2016-06-01T00:00:00",
          "2016-07-01T00:00:00",
          "2016-08-01T00:00:00",
          "2016-09-01T00:00:00",
          "2016-10-01T00:00:00",
          "2016-11-01T00:00:00",
          "2016-12-01T00:00:00",
          "2017-01-01T00:00:00",
          "2017-02-01T00:00:00",
          "2017-03-01T00:00:00",
          "2017-04-01T00:00:00",
          "2017-05-01T00:00:00",
          "2017-06-01T00:00:00",
          "2017-07-01T00:00:00",
          "2017-08-01T00:00:00",
          "2017-09-01T00:00:00",
          "2017-10-01T00:00:00",
          "2017-11-01T00:00:00",
          "2017-12-01T00:00:00",
          "2018-01-01T00:00:00",
          "2018-02-01T00:00:00",
          "2018-03-01T00:00:00",
          "2018-04-01T00:00:00",
          "2018-05-01T00:00:00",
          "2018-06-01T00:00:00",
          "2018-07-01T00:00:00",
          "2018-08-01T00:00:00",
          "2018-09-01T00:00:00",
          "2018-10-01T00:00:00",
          "2018-11-01T00:00:00",
          "2018-12-01T00:00:00",
          "2019-01-01T00:00:00",
          "2019-02-01T00:00:00",
          "2019-03-01T00:00:00",
          "2019-04-01T00:00:00",
          "2019-05-01T00:00:00",
          "2019-06-01T00:00:00",
          "2019-07-01T00:00:00",
          "2019-08-01T00:00:00",
          "2019-09-01T00:00:00",
          "2019-10-01T00:00:00",
          "2019-11-01T00:00:00",
          "2019-12-01T00:00:00"
         ],
         "y": [
          252.9529571533203,
          243.5826873779297,
          286.5524597167969,
          389.98406982421875,
          656.2714233398438,
          1206.3017578125,
          1429.2720947265625,
          1653.42919921875,
          1357.623291015625,
          1150.518798828125,
          584.0404663085938,
          344.4617004394531,
          222.13681030273438,
          212.3318328857422,
          213.90760803222656,
          370.5560607910156,
          564.3095092773438,
          920.7024536132812,
          940.5032958984375,
          666.3529663085938,
          622.9473876953125,
          765.20703125,
          482.9382629394531,
          244.33631896972656,
          222.81275939941406,
          216.2584228515625,
          246.6141357421875,
          247.90768432617188,
          383.01312255859375,
          651.4718017578125,
          1302.4140625,
          838.4909057617188,
          641.01123046875,
          989.8200073242188,
          454.16229248046875,
          261.74444580078125,
          217.55490112304688,
          229.76809692382812,
          225.1922149658203,
          325.0846252441406,
          530.8568115234375,
          1093.197509765625,
          1591.7176513671875,
          1052.1158447265625,
          881.9609375,
          902.984375,
          467.4217834472656,
          246.4418182373047,
          243.47665405273438,
          216.25360107421875,
          239.00119018554688,
          286.48468017578125,
          438.7174987792969,
          671.3645629882812,
          1024.5125732421875,
          677.4895629882812,
          679.7869262695312,
          818.00390625,
          468.2935791015625,
          234.8922882080078
         ]
        }
       ],
       "layout": {
        "template": {
         "data": {
          "bar": [
           {
            "error_x": {
             "color": "#2a3f5f"
            },
            "error_y": {
             "color": "#2a3f5f"
            },
            "marker": {
             "line": {
              "color": "white",
              "width": 0.5
             },
             "pattern": {
              "fillmode": "overlay",
              "size": 10,
              "solidity": 0.2
             }
            },
            "type": "bar"
           }
          ],
          "barpolar": [
           {
            "marker": {
             "line": {
              "color": "white",
              "width": 0.5
             },
             "pattern": {
              "fillmode": "overlay",
              "size": 10,
              "solidity": 0.2
             }
            },
            "type": "barpolar"
           }
          ],
          "carpet": [
           {
            "aaxis": {
             "endlinecolor": "#2a3f5f",
             "gridcolor": "#C8D4E3",
             "linecolor": "#C8D4E3",
             "minorgridcolor": "#C8D4E3",
             "startlinecolor": "#2a3f5f"
            },
            "baxis": {
             "endlinecolor": "#2a3f5f",
             "gridcolor": "#C8D4E3",
             "linecolor": "#C8D4E3",
             "minorgridcolor": "#C8D4E3",
             "startlinecolor": "#2a3f5f"
            },
            "type": "carpet"
           }
          ],
          "choropleth": [
           {
            "colorbar": {
             "outlinewidth": 0,
             "ticks": ""
            },
            "type": "choropleth"
           }
          ],
          "contour": [
           {
            "colorbar": {
             "outlinewidth": 0,
             "ticks": ""
            },
            "colorscale": [
             [
              0,
              "#0d0887"
             ],
             [
              0.1111111111111111,
              "#46039f"
             ],
             [
              0.2222222222222222,
              "#7201a8"
             ],
             [
              0.3333333333333333,
              "#9c179e"
             ],
             [
              0.4444444444444444,
              "#bd3786"
             ],
             [
              0.5555555555555556,
              "#d8576b"
             ],
             [
              0.6666666666666666,
              "#ed7953"
             ],
             [
              0.7777777777777778,
              "#fb9f3a"
             ],
             [
              0.8888888888888888,
              "#fdca26"
             ],
             [
              1,
              "#f0f921"
             ]
            ],
            "type": "contour"
           }
          ],
          "contourcarpet": [
           {
            "colorbar": {
             "outlinewidth": 0,
             "ticks": ""
            },
            "type": "contourcarpet"
           }
          ],
          "heatmap": [
           {
            "colorbar": {
             "outlinewidth": 0,
             "ticks": ""
            },
            "colorscale": [
             [
              0,
              "#0d0887"
             ],
             [
              0.1111111111111111,
              "#46039f"
             ],
             [
              0.2222222222222222,
              "#7201a8"
             ],
             [
              0.3333333333333333,
              "#9c179e"
             ],
             [
              0.4444444444444444,
              "#bd3786"
             ],
             [
              0.5555555555555556,
              "#d8576b"
             ],
             [
              0.6666666666666666,
              "#ed7953"
             ],
             [
              0.7777777777777778,
              "#fb9f3a"
             ],
             [
              0.8888888888888888,
              "#fdca26"
             ],
             [
              1,
              "#f0f921"
             ]
            ],
            "type": "heatmap"
           }
          ],
          "heatmapgl": [
           {
            "colorbar": {
             "outlinewidth": 0,
             "ticks": ""
            },
            "colorscale": [
             [
              0,
              "#0d0887"
             ],
             [
              0.1111111111111111,
              "#46039f"
             ],
             [
              0.2222222222222222,
              "#7201a8"
             ],
             [
              0.3333333333333333,
              "#9c179e"
             ],
             [
              0.4444444444444444,
              "#bd3786"
             ],
             [
              0.5555555555555556,
              "#d8576b"
             ],
             [
              0.6666666666666666,
              "#ed7953"
             ],
             [
              0.7777777777777778,
              "#fb9f3a"
             ],
             [
              0.8888888888888888,
              "#fdca26"
             ],
             [
              1,
              "#f0f921"
             ]
            ],
            "type": "heatmapgl"
           }
          ],
          "histogram": [
           {
            "marker": {
             "pattern": {
              "fillmode": "overlay",
              "size": 10,
              "solidity": 0.2
             }
            },
            "type": "histogram"
           }
          ],
          "histogram2d": [
           {
            "colorbar": {
             "outlinewidth": 0,
             "ticks": ""
            },
            "colorscale": [
             [
              0,
              "#0d0887"
             ],
             [
              0.1111111111111111,
              "#46039f"
             ],
             [
              0.2222222222222222,
              "#7201a8"
             ],
             [
              0.3333333333333333,
              "#9c179e"
             ],
             [
              0.4444444444444444,
              "#bd3786"
             ],
             [
              0.5555555555555556,
              "#d8576b"
             ],
             [
              0.6666666666666666,
              "#ed7953"
             ],
             [
              0.7777777777777778,
              "#fb9f3a"
             ],
             [
              0.8888888888888888,
              "#fdca26"
             ],
             [
              1,
              "#f0f921"
             ]
            ],
            "type": "histogram2d"
           }
          ],
          "histogram2dcontour": [
           {
            "colorbar": {
             "outlinewidth": 0,
             "ticks": ""
            },
            "colorscale": [
             [
              0,
              "#0d0887"
             ],
             [
              0.1111111111111111,
              "#46039f"
             ],
             [
              0.2222222222222222,
              "#7201a8"
             ],
             [
              0.3333333333333333,
              "#9c179e"
             ],
             [
              0.4444444444444444,
              "#bd3786"
             ],
             [
              0.5555555555555556,
              "#d8576b"
             ],
             [
              0.6666666666666666,
              "#ed7953"
             ],
             [
              0.7777777777777778,
              "#fb9f3a"
             ],
             [
              0.8888888888888888,
              "#fdca26"
             ],
             [
              1,
              "#f0f921"
             ]
            ],
            "type": "histogram2dcontour"
           }
          ],
          "mesh3d": [
           {
            "colorbar": {
             "outlinewidth": 0,
             "ticks": ""
            },
            "type": "mesh3d"
           }
          ],
          "parcoords": [
           {
            "line": {
             "colorbar": {
              "outlinewidth": 0,
              "ticks": ""
             }
            },
            "type": "parcoords"
           }
          ],
          "pie": [
           {
            "automargin": true,
            "type": "pie"
           }
          ],
          "scatter": [
           {
            "fillpattern": {
             "fillmode": "overlay",
             "size": 10,
             "solidity": 0.2
            },
            "type": "scatter"
           }
          ],
          "scatter3d": [
           {
            "line": {
             "colorbar": {
              "outlinewidth": 0,
              "ticks": ""
             }
            },
            "marker": {
             "colorbar": {
              "outlinewidth": 0,
              "ticks": ""
             }
            },
            "type": "scatter3d"
           }
          ],
          "scattercarpet": [
           {
            "marker": {
             "colorbar": {
              "outlinewidth": 0,
              "ticks": ""
             }
            },
            "type": "scattercarpet"
           }
          ],
          "scattergeo": [
           {
            "marker": {
             "colorbar": {
              "outlinewidth": 0,
              "ticks": ""
             }
            },
            "type": "scattergeo"
           }
          ],
          "scattergl": [
           {
            "marker": {
             "colorbar": {
              "outlinewidth": 0,
              "ticks": ""
             }
            },
            "type": "scattergl"
           }
          ],
          "scattermapbox": [
           {
            "marker": {
             "colorbar": {
              "outlinewidth": 0,
              "ticks": ""
             }
            },
            "type": "scattermapbox"
           }
          ],
          "scatterpolar": [
           {
            "marker": {
             "colorbar": {
              "outlinewidth": 0,
              "ticks": ""
             }
            },
            "type": "scatterpolar"
           }
          ],
          "scatterpolargl": [
           {
            "marker": {
             "colorbar": {
              "outlinewidth": 0,
              "ticks": ""
             }
            },
            "type": "scatterpolargl"
           }
          ],
          "scatterternary": [
           {
            "marker": {
             "colorbar": {
              "outlinewidth": 0,
              "ticks": ""
             }
            },
            "type": "scatterternary"
           }
          ],
          "surface": [
           {
            "colorbar": {
             "outlinewidth": 0,
             "ticks": ""
            },
            "colorscale": [
             [
              0,
              "#0d0887"
             ],
             [
              0.1111111111111111,
              "#46039f"
             ],
             [
              0.2222222222222222,
              "#7201a8"
             ],
             [
              0.3333333333333333,
              "#9c179e"
             ],
             [
              0.4444444444444444,
              "#bd3786"
             ],
             [
              0.5555555555555556,
              "#d8576b"
             ],
             [
              0.6666666666666666,
              "#ed7953"
             ],
             [
              0.7777777777777778,
              "#fb9f3a"
             ],
             [
              0.8888888888888888,
              "#fdca26"
             ],
             [
              1,
              "#f0f921"
             ]
            ],
            "type": "surface"
           }
          ],
          "table": [
           {
            "cells": {
             "fill": {
              "color": "#EBF0F8"
             },
             "line": {
              "color": "white"
             }
            },
            "header": {
             "fill": {
              "color": "#C8D4E3"
             },
             "line": {
              "color": "white"
             }
            },
            "type": "table"
           }
          ]
         },
         "layout": {
          "annotationdefaults": {
           "arrowcolor": "#2a3f5f",
           "arrowhead": 0,
           "arrowwidth": 1
          },
          "autotypenumbers": "strict",
          "coloraxis": {
           "colorbar": {
            "outlinewidth": 0,
            "ticks": ""
           }
          },
          "colorscale": {
           "diverging": [
            [
             0,
             "#8e0152"
            ],
            [
             0.1,
             "#c51b7d"
            ],
            [
             0.2,
             "#de77ae"
            ],
            [
             0.3,
             "#f1b6da"
            ],
            [
             0.4,
             "#fde0ef"
            ],
            [
             0.5,
             "#f7f7f7"
            ],
            [
             0.6,
             "#e6f5d0"
            ],
            [
             0.7,
             "#b8e186"
            ],
            [
             0.8,
             "#7fbc41"
            ],
            [
             0.9,
             "#4d9221"
            ],
            [
             1,
             "#276419"
            ]
           ],
           "sequential": [
            [
             0,
             "#0d0887"
            ],
            [
             0.1111111111111111,
             "#46039f"
            ],
            [
             0.2222222222222222,
             "#7201a8"
            ],
            [
             0.3333333333333333,
             "#9c179e"
            ],
            [
             0.4444444444444444,
             "#bd3786"
            ],
            [
             0.5555555555555556,
             "#d8576b"
            ],
            [
             0.6666666666666666,
             "#ed7953"
            ],
            [
             0.7777777777777778,
             "#fb9f3a"
            ],
            [
             0.8888888888888888,
             "#fdca26"
            ],
            [
             1,
             "#f0f921"
            ]
           ],
           "sequentialminus": [
            [
             0,
             "#0d0887"
            ],
            [
             0.1111111111111111,
             "#46039f"
            ],
            [
             0.2222222222222222,
             "#7201a8"
            ],
            [
             0.3333333333333333,
             "#9c179e"
            ],
            [
             0.4444444444444444,
             "#bd3786"
            ],
            [
             0.5555555555555556,
             "#d8576b"
            ],
            [
             0.6666666666666666,
             "#ed7953"
            ],
            [
             0.7777777777777778,
             "#fb9f3a"
            ],
            [
             0.8888888888888888,
             "#fdca26"
            ],
            [
             1,
             "#f0f921"
            ]
           ]
          },
          "colorway": [
           "#636efa",
           "#EF553B",
           "#00cc96",
           "#ab63fa",
           "#FFA15A",
           "#19d3f3",
           "#FF6692",
           "#B6E880",
           "#FF97FF",
           "#FECB52"
          ],
          "font": {
           "color": "#2a3f5f"
          },
          "geo": {
           "bgcolor": "white",
           "lakecolor": "white",
           "landcolor": "white",
           "showlakes": true,
           "showland": true,
           "subunitcolor": "#C8D4E3"
          },
          "hoverlabel": {
           "align": "left"
          },
          "hovermode": "closest",
          "mapbox": {
           "style": "light"
          },
          "paper_bgcolor": "white",
          "plot_bgcolor": "white",
          "polar": {
           "angularaxis": {
            "gridcolor": "#EBF0F8",
            "linecolor": "#EBF0F8",
            "ticks": ""
           },
           "bgcolor": "white",
           "radialaxis": {
            "gridcolor": "#EBF0F8",
            "linecolor": "#EBF0F8",
            "ticks": ""
           }
          },
          "scene": {
           "xaxis": {
            "backgroundcolor": "white",
            "gridcolor": "#DFE8F3",
            "gridwidth": 2,
            "linecolor": "#EBF0F8",
            "showbackground": true,
            "ticks": "",
            "zerolinecolor": "#EBF0F8"
           },
           "yaxis": {
            "backgroundcolor": "white",
            "gridcolor": "#DFE8F3",
            "gridwidth": 2,
            "linecolor": "#EBF0F8",
            "showbackground": true,
            "ticks": "",
            "zerolinecolor": "#EBF0F8"
           },
           "zaxis": {
            "backgroundcolor": "white",
            "gridcolor": "#DFE8F3",
            "gridwidth": 2,
            "linecolor": "#EBF0F8",
            "showbackground": true,
            "ticks": "",
            "zerolinecolor": "#EBF0F8"
           }
          },
          "shapedefaults": {
           "line": {
            "color": "#2a3f5f"
           }
          },
          "ternary": {
           "aaxis": {
            "gridcolor": "#DFE8F3",
            "linecolor": "#A2B1C6",
            "ticks": ""
           },
           "baxis": {
            "gridcolor": "#DFE8F3",
            "linecolor": "#A2B1C6",
            "ticks": ""
           },
           "bgcolor": "white",
           "caxis": {
            "gridcolor": "#DFE8F3",
            "linecolor": "#A2B1C6",
            "ticks": ""
           }
          },
          "title": {
           "x": 0.05
          },
          "xaxis": {
           "automargin": true,
           "gridcolor": "#EBF0F8",
           "linecolor": "#EBF0F8",
           "ticks": "",
           "title": {
            "standoff": 15
           },
           "zerolinecolor": "#EBF0F8",
           "zerolinewidth": 2
          },
          "yaxis": {
           "automargin": true,
           "gridcolor": "#EBF0F8",
           "linecolor": "#EBF0F8",
           "ticks": "",
           "title": {
            "standoff": 15
           },
           "zerolinecolor": "#EBF0F8",
           "zerolinewidth": 2
          }
         }
        }
       }
      }
     },
     "metadata": {},
     "output_type": "display_data"
    }
   ],
   "source": [
    "selected_features = ['snomlt(mm)', 'eplant(mm)', 'surq_cha(mm)', \n",
    "                         'snofall(mm)', 'wet_oflo(mm)', 'wet_evap(mm)', \n",
    "                         'snopack(mm)', 'sw_change(mm)', 'MIN-TEM(C)','SWATPlusSimFlow','flow(m^3/s)']\n",
    "start_year = 1972\n",
    "pred_years = np.arange(2015,2020)\n",
    "RETRAIN = True\n",
    "name = 'InputOutputSamples_metesimyr_swatpsim'\n",
    "batch_size = 32\n",
    "ystar_col = \"pred\"\n",
    "if not os.path.exists(sample_path):\n",
    "    os.makedirs(sample_path)\n",
    "for hydro_station in hydro_stations:\n",
    "    sample_path = f'../samples/SequenceSamples/{hydro_station}/{name}/'\n",
    "    if not os.path.exists(sample_path):\n",
    "        os.makedirs(sample_path)\n",
    "    result_path = f'../result/LSTMRegressorData/{hydro_station}/{name}/'\n",
    "    if not os.path.exists(result_path):\n",
    "        os.makedirs(result_path)\n",
    "    pred_df = pd.DataFrame()\n",
    "    for pred_year in pred_years:\n",
    "        model_path = f'../model/12MonthlyFlowProcessForecast_{hydro_station}/LSTMRegressorModel/{name}/pred{pred_year}/'\n",
    "        if not os.path.exists(model_path):\n",
    "            os.makedirs(model_path)\n",
    "        df = pd.read_csv(\n",
    "            f'../samples/{name}/{hydro_station}_MeteAVGCalvalFeatureDataForML_PRED{pred_year}.csv',\n",
    "            index_col=['date'], parse_dates=['date']\n",
    "        )\n",
    "\n",
    "        df = df[selected_features]\n",
    "\n",
    "        # Check if 'ARIMASimFlow' exists in df columns\n",
    "        if 'ARIMASimFlow' not in df.columns:\n",
    "            print(f\"Warning: ARIMASimFlow column not found in data for {hydro_station} station, year {pred_year}\")\n",
    "        \n",
    "        target = 'flow(m^3/s)'\n",
    "        features = list(df.columns.difference([target]))\n",
    "        features = list(df.columns.copy())\n",
    "        features.remove(target)\n",
    "        cal = df.loc[:f'{pred_year-6}-12-31',:]\n",
    "        test = df.loc[f'{pred_year-6}-01-01':f'{pred_year-1}-12-31',:]\n",
    "        pre = df.loc[f'{pred_year-1}-01-01':f'{pred_year}-12-31',:]\n",
    "        X_scaler = MinMaxScaler(feature_range=(0,1))\n",
    "        Y_scaler = MinMaxScaler(feature_range=(0,1))\n",
    "        X_scaler.fit(cal[features])\n",
    "        Y_scaler.fit(cal[[target]])\n",
    "        cal_X = X_scaler.transform(cal[features])\n",
    "        test_X = X_scaler.transform(test[features])\n",
    "        pre_X = X_scaler.transform(pre[features])\n",
    "        cal_y = Y_scaler.transform(cal[[target]])\n",
    "        test_y = Y_scaler.transform(test[[target]])\n",
    "        pre_y = Y_scaler.transform(pre[[target]])\n",
    "        cal = pd.concat([pd.DataFrame(cal_X,columns=features,index=cal.index),pd.DataFrame(cal_y,columns=[target],index=cal.index)],axis=1)\n",
    "        test = pd.concat([pd.DataFrame(test_X,columns=features,index=test.index),pd.DataFrame(test_y,columns=[target],index=test.index)],axis=1)\n",
    "        pre = pd.concat([pd.DataFrame(pre_X,columns=features,index=pre.index),pd.DataFrame(pre_y,columns=[target],index=pre.index)],axis=1)\n",
    "        cal.to_csv(sample_path+f'cal_{start_year}_{pred_year-6}.csv')\n",
    "        test.to_csv(sample_path+f'test_{pred_year-5}_{pred_year-1}.csv')\n",
    "        pre.to_csv(sample_path+f'pre_{pred_year}.csv')\n",
    "\n",
    "        sequence_length =12\n",
    "        cal_dataset = SimulatedSequenceDataset(\n",
    "            dataframe=cal.copy(),\n",
    "            target=target,\n",
    "            features=features,\n",
    "            sequence_length=sequence_length\n",
    "        )\n",
    "        test_dataset = SimulatedSequenceDataset(\n",
    "            dataframe=test.copy(),\n",
    "            target=target,\n",
    "            features=features,\n",
    "            sequence_length=sequence_length\n",
    "        )\n",
    "\n",
    "        i=0\n",
    "        X, y = cal_dataset[i]\n",
    "        # print(X)\n",
    "        # print(y)\n",
    "\n",
    "        # print(cal_dataset.X.shape, cal_dataset.y.shape)\n",
    "        # print(test_dataset.X.shape, test_dataset.y.shape)\n",
    "\n",
    "        cal_index = cal.index[sequence_length:]\n",
    "        test_index = test.index[sequence_length:]\n",
    "\n",
    "        # print(len(cal_index)==cal_dataset.__len__())\n",
    "        # print(len(test_index)==test_dataset.__len__())\n",
    "\n",
    "       \n",
    "        \n",
    "        if not os.path.exists(model_path+'model.pickle'):\n",
    "            objective = Objective(\n",
    "                    train_dataset=cal_dataset,\n",
    "                    val_dataset=test_dataset,\n",
    "                    num_epoch=1000,# 1000\n",
    "                    batch_size=batch_size,\n",
    "                    shuffle=True,\n",
    "                    model_path='./scheme/LSTMRegressor/',\n",
    "            )\n",
    "            study = optuna.create_study(\n",
    "                    study_name='example-study',\n",
    "                    direction='minimize',\n",
    "                )\n",
    "            study.optimize(objective, n_trials=100) #100\n",
    "\n",
    "            pruned_trials = study.get_trials(deepcopy=False, states=[TrialState.PRUNED])\n",
    "            complete_trials = study.get_trials(deepcopy=False, states=[TrialState.COMPLETE])\n",
    "\n",
    "\n",
    "            print(\"Study statistics: \")\n",
    "            print(\"  Number of finished trials: \", len(study.trials))\n",
    "            print(\"  Number of pruned trials: \", len(pruned_trials))\n",
    "            print(\"  Number of complete trials: \", len(complete_trials))\n",
    "\n",
    "            print(\"Best trial:\")\n",
    "            trial = study.best_trial\n",
    "\n",
    "            save_best_trial(trial, model_path=model_path)\n",
    "\n",
    "            save_model(trial, model_path=model_path)\n",
    "\n",
    "            best_model_state = trial.user_attrs[\"best_model_state\"]\n",
    "            print(\"  Value: \", trial.value)\n",
    "            print(\"  Params: \")\n",
    "            for key, value in trial.params.items():\n",
    "                print(\"    {}: {}\".format(key, value))\n",
    "\n",
    "            best_trial = load_best_trial(model_file=model_path+'best_trial.pickle')\n",
    "            model = load_model(model_file=model_path+'model.pickle').to(DEVICE)\n",
    "            cal_loader = DataLoader(cal_dataset, batch_size=64, shuffle=False)\n",
    "            test_loader = DataLoader(test_dataset, batch_size=64, shuffle=False)\n",
    "\n",
    "            cal_ = cal.loc[cal_index,[target]].copy()\n",
    "            test_ = test.loc[test_index,[target]].copy()\n",
    "\n",
    "            cal_[ystar_col] = predict(cal_loader, model).cpu().numpy()\n",
    "            test_[ystar_col] = predict(test_loader, model).cpu().numpy()\n",
    "\n",
    "            df_out = pd.concat((cal_, test_))[[target, ystar_col]]\n",
    "            for c in df_out.columns:\n",
    "                # df_out[c] = df_out[c] * target_std + target_mean\n",
    "                df_out[c] = Y_scaler.inverse_transform(df_out[[c]])\n",
    "            # print(df_out)\n",
    "            df_out = df_out.rename(columns={target: 'obs'})\n",
    "            print(f'R2 for sim at {hydro_station}({start_year}-{pred_year-1})',r2_score(df_out['obs'],df_out[ystar_col]))\n",
    "            df_out.to_csv(result_path+f'cal_test_sim_{start_year}_{pred_year-1}.csv')\n",
    "        else:\n",
    "            df_out = pd.read_csv(result_path+f'cal_test_sim_{start_year}_{pred_year-1}.csv',index_col=['date'], parse_dates=['date'])\n",
    "            print(f'R2 for sim at {hydro_station}({start_year}-{pred_year-1})',r2_score(df_out['obs'],df_out[ystar_col]))\n",
    "            print(f'model already exists in {model_path}')\n",
    "\n",
    "        # !Perform prediction\n",
    "        pre = pd.read_csv(sample_path+f'pre_{pred_year}.csv',index_col=['date'], parse_dates=['date'])\n",
    "        pre_dataset = SimulatedSequenceDataset(\n",
    "            dataframe=pre.copy(),\n",
    "            target=target,\n",
    "            features=features,\n",
    "            sequence_length=sequence_length\n",
    "        )\n",
    "        pre_loader = DataLoader(pre_dataset, batch_size=batch_size, shuffle=False)\n",
    "        pre_index = pre.index[sequence_length:]\n",
    "        pre_ = pre.loc[pre_index,[target]].copy()\n",
    "        model = load_model(model_file=model_path+'model.pickle').to(DEVICE)\n",
    "        pre_[ystar_col] = predict(pre_loader, model).cpu().numpy()\n",
    "        for c in pre_.columns:\n",
    "            # df_out[c] = df_out[c] * target_std + target_mean\n",
    "            pre_[c] = Y_scaler.inverse_transform(pre_[[c]])\n",
    "        pred_df = pd.concat((pred_df, pre_), axis=0)\n",
    "    pred_df = pred_df.rename(columns={'flow(m^3/s)': 'obs'})\n",
    "    print(f'R2 for pred at {hydro_station}({pred_years[0]}-{pred_years[-1]})',r2_score(pred_df['obs'],pred_df['pred']))\n",
    "    pred_df.to_csv(result_path+f'vif_lstm_pred_{pred_years[0]}_{pred_years[-1]}.csv')\n",
    "    # Visualization of the flow(m^3/s) and VIF_LSTM of pred_df\n",
    "    fig = go.Figure()\n",
    "    fig.add_trace(go.Scatter(x=pred_df.index, y=pred_df['obs'], mode='lines', name='obs'))\n",
    "    fig.add_trace(go.Scatter(x=pred_df.index, y=pred_df['pred'], mode='lines', name='pred'))\n",
    "    fig.show()\n"
   ]
  },
  {
   "cell_type": "code",
   "execution_count": 31,
   "metadata": {},
   "outputs": [
    {
     "name": "stderr",
     "output_type": "stream",
     "text": [
      "[I 2024-10-29 21:40:53,090] A new study created in memory with name: example-study\n"
     ]
    },
    {
     "name": "stdout",
     "output_type": "stream",
     "text": [
      "Warning: ARIMASimFlow column not found in data for Tangnaihai station, year 2015\n"
     ]
    },
    {
     "name": "stderr",
     "output_type": "stream",
     "text": [
      "[I 2024-10-29 21:41:34,438] Trial 0 finished with value: 0.0029427498811855912 and parameters: {'num_layers': 3, 'hidden_size': 104, 'lstm_dropout': 0.1282230949305253, 'dense_dropout': 0.010771193831729309, 'learning_rate': 0.01365923970744934}. Best is trial 0 with value: 0.0029427498811855912.\n",
      "[I 2024-10-29 21:42:16,798] Trial 1 finished with value: 0.013283176813274622 and parameters: {'num_layers': 3, 'hidden_size': 32, 'lstm_dropout': 0.479898610523583, 'dense_dropout': 0.266965389228919, 'learning_rate': 1.839001818641712e-05}. Best is trial 0 with value: 0.0029427498811855912.\n",
      "[I 2024-10-29 21:43:00,860] Trial 2 finished with value: 0.00395623967051506 and parameters: {'num_layers': 3, 'hidden_size': 88, 'lstm_dropout': 0.1548382453141704, 'dense_dropout': 0.21955736376697027, 'learning_rate': 0.013415285606111023}. Best is trial 0 with value: 0.0029427498811855912.\n",
      "[I 2024-10-29 21:43:34,926] Trial 3 finished with value: 0.007723681163042784 and parameters: {'num_layers': 1, 'hidden_size': 56, 'lstm_dropout': 0.1620305797936119, 'dense_dropout': 0.2844583444220586, 'learning_rate': 0.03102153669361107}. Best is trial 0 with value: 0.0029427498811855912.\n",
      "[I 2024-10-29 21:44:18,806] Trial 4 finished with value: 0.005555462441407144 and parameters: {'num_layers': 3, 'hidden_size': 8, 'lstm_dropout': 0.06437879739532265, 'dense_dropout': 0.1982497551764016, 'learning_rate': 0.006963562359218071}. Best is trial 0 with value: 0.0029427498811855912.\n",
      "[I 2024-10-29 21:44:18,930] Trial 5 pruned. \n",
      "[I 2024-10-29 21:44:18,985] Trial 6 pruned. \n",
      "[I 2024-10-29 21:44:19,134] Trial 7 pruned. \n",
      "[I 2024-10-29 21:44:19,180] Trial 8 pruned. \n",
      "[I 2024-10-29 21:44:19,227] Trial 9 pruned. \n",
      "[I 2024-10-29 21:44:56,604] Trial 10 finished with value: 0.0032829106785357 and parameters: {'num_layers': 1, 'hidden_size': 128, 'lstm_dropout': 0.2989619738816613, 'dense_dropout': 0.01506703702851072, 'learning_rate': 0.0022690791044097597}. Best is trial 0 with value: 0.0029427498811855912.\n",
      "[I 2024-10-29 21:45:31,218] Trial 11 finished with value: 0.005004947306588292 and parameters: {'num_layers': 1, 'hidden_size': 128, 'lstm_dropout': 0.2982488903020789, 'dense_dropout': 0.001024537704975707, 'learning_rate': 0.0022278051949445447}. Best is trial 0 with value: 0.0029427498811855912.\n",
      "[I 2024-10-29 21:45:32,591] Trial 12 pruned. \n",
      "[I 2024-10-29 21:46:08,939] Trial 13 finished with value: 0.0031170600559562445 and parameters: {'num_layers': 1, 'hidden_size': 104, 'lstm_dropout': 0.3532579960681719, 'dense_dropout': 0.10177293022178982, 'learning_rate': 0.0037564673739921956}. Best is trial 0 with value: 0.0029427498811855912.\n",
      "[I 2024-10-29 21:46:08,993] Trial 14 pruned. \n",
      "[I 2024-10-29 21:46:44,342] Trial 15 finished with value: 0.004158003721386194 and parameters: {'num_layers': 1, 'hidden_size': 104, 'lstm_dropout': 0.014189723647543229, 'dense_dropout': 0.10008602405913294, 'learning_rate': 0.005398133179607063}. Best is trial 0 with value: 0.0029427498811855912.\n",
      "[I 2024-10-29 21:46:44,427] Trial 16 pruned. \n",
      "[I 2024-10-29 21:46:44,555] Trial 17 pruned. \n",
      "[I 2024-10-29 21:47:23,419] Trial 18 finished with value: 0.0021359961247071624 and parameters: {'num_layers': 2, 'hidden_size': 72, 'lstm_dropout': 0.143603229624024, 'dense_dropout': 0.05806842051859999, 'learning_rate': 0.003570681692904622}. Best is trial 18 with value: 0.0021359961247071624.\n",
      "[I 2024-10-29 21:48:00,395] Trial 19 finished with value: 0.0019671354675665498 and parameters: {'num_layers': 2, 'hidden_size': 72, 'lstm_dropout': 0.14044621251482972, 'dense_dropout': 0.05275544516766682, 'learning_rate': 0.015476881437324523}. Best is trial 19 with value: 0.0019671354675665498.\n",
      "[I 2024-10-29 21:48:00,456] Trial 20 pruned. \n",
      "[I 2024-10-29 21:48:38,397] Trial 21 finished with value: 0.003457580809481442 and parameters: {'num_layers': 2, 'hidden_size': 56, 'lstm_dropout': 0.14669457560631832, 'dense_dropout': 0.04869875083714706, 'learning_rate': 0.01806079118448055}. Best is trial 19 with value: 0.0019671354675665498.\n",
      "[I 2024-10-29 21:48:38,452] Trial 22 pruned. \n",
      "[I 2024-10-29 21:48:38,514] Trial 23 pruned. \n",
      "[I 2024-10-29 21:48:38,597] Trial 24 pruned. \n",
      "[I 2024-10-29 21:48:38,661] Trial 25 pruned. \n",
      "[I 2024-10-29 21:48:38,714] Trial 26 pruned. \n",
      "[I 2024-10-29 21:48:38,803] Trial 27 pruned. \n",
      "[I 2024-10-29 21:48:38,862] Trial 28 pruned. \n",
      "[I 2024-10-29 21:48:38,923] Trial 29 pruned. \n",
      "[I 2024-10-29 21:48:38,980] Trial 30 pruned. \n",
      "[I 2024-10-29 21:48:39,291] Trial 31 pruned. \n",
      "[I 2024-10-29 21:48:39,348] Trial 32 pruned. \n",
      "[I 2024-10-29 21:49:12,473] Trial 33 finished with value: 0.004473782435525209 and parameters: {'num_layers': 1, 'hidden_size': 80, 'lstm_dropout': 0.3329677481363005, 'dense_dropout': 0.11183979017812144, 'learning_rate': 0.022899466338824614}. Best is trial 19 with value: 0.0019671354675665498.\n",
      "[I 2024-10-29 21:49:12,531] Trial 34 pruned. \n",
      "[I 2024-10-29 21:49:12,663] Trial 35 pruned. \n",
      "[I 2024-10-29 21:49:12,792] Trial 36 pruned. \n",
      "[I 2024-10-29 21:49:12,930] Trial 37 pruned. \n",
      "[I 2024-10-29 21:49:13,049] Trial 38 pruned. \n",
      "[I 2024-10-29 21:49:13,141] Trial 39 pruned. \n",
      "[I 2024-10-29 21:49:47,434] Trial 40 finished with value: 0.004308757139369845 and parameters: {'num_layers': 1, 'hidden_size': 24, 'lstm_dropout': 0.07825394678473138, 'dense_dropout': 0.13247562773837063, 'learning_rate': 0.01610267663758369}. Best is trial 19 with value: 0.0019671354675665498.\n",
      "[I 2024-10-29 21:49:47,857] Trial 41 pruned. \n",
      "[I 2024-10-29 21:49:48,157] Trial 42 pruned. \n",
      "[I 2024-10-29 21:49:48,210] Trial 43 pruned. \n",
      "[I 2024-10-29 21:50:20,684] Trial 44 finished with value: 0.002726589795202017 and parameters: {'num_layers': 1, 'hidden_size': 104, 'lstm_dropout': 0.34097966477925495, 'dense_dropout': 0.0012248735075808953, 'learning_rate': 0.006680218044572033}. Best is trial 19 with value: 0.0019671354675665498.\n",
      "[I 2024-10-29 21:50:53,661] Trial 45 finished with value: 0.002412492292933166 and parameters: {'num_layers': 1, 'hidden_size': 96, 'lstm_dropout': 0.41668183953734655, 'dense_dropout': 0.06480616096636502, 'learning_rate': 0.0060631540796713965}. Best is trial 19 with value: 0.0019671354675665498.\n",
      "[I 2024-10-29 21:50:53,748] Trial 46 pruned. \n",
      "[I 2024-10-29 21:50:53,793] Trial 47 pruned. \n",
      "[I 2024-10-29 21:50:53,848] Trial 48 pruned. \n",
      "[I 2024-10-29 21:51:25,996] Trial 49 finished with value: 0.0036361580714583397 and parameters: {'num_layers': 1, 'hidden_size': 112, 'lstm_dropout': 0.39514920687331767, 'dense_dropout': 0.0038978253330563054, 'learning_rate': 0.005852729529006798}. Best is trial 19 with value: 0.0019671354675665498.\n",
      "[I 2024-10-29 21:51:26,047] Trial 50 pruned. \n",
      "[I 2024-10-29 21:51:26,579] Trial 51 pruned. \n",
      "[I 2024-10-29 21:51:59,161] Trial 52 finished with value: 0.0032701368909329176 and parameters: {'num_layers': 1, 'hidden_size': 104, 'lstm_dropout': 0.32145316997892065, 'dense_dropout': 0.06469639280294438, 'learning_rate': 0.0166377487144958}. Best is trial 19 with value: 0.0019671354675665498.\n",
      "[I 2024-10-29 21:51:59,215] Trial 53 pruned. \n",
      "[I 2024-10-29 21:51:59,306] Trial 54 pruned. \n",
      "[I 2024-10-29 21:51:59,398] Trial 55 pruned. \n",
      "[I 2024-10-29 21:51:59,485] Trial 56 pruned. \n",
      "[I 2024-10-29 21:52:00,001] Trial 57 pruned. \n",
      "[I 2024-10-29 21:52:00,113] Trial 58 pruned. \n",
      "[I 2024-10-29 21:52:00,182] Trial 59 pruned. \n",
      "[I 2024-10-29 21:52:00,242] Trial 60 pruned. \n",
      "[I 2024-10-29 21:52:00,295] Trial 61 pruned. \n",
      "[I 2024-10-29 21:52:00,347] Trial 62 pruned. \n",
      "[I 2024-10-29 21:52:00,438] Trial 63 pruned. \n",
      "[I 2024-10-29 21:52:33,008] Trial 64 finished with value: 0.002634853939525783 and parameters: {'num_layers': 1, 'hidden_size': 96, 'lstm_dropout': 0.3290481605002803, 'dense_dropout': 0.07236442576008273, 'learning_rate': 0.015076000305820647}. Best is trial 19 with value: 0.0019671354675665498.\n",
      "[I 2024-10-29 21:52:33,107] Trial 65 pruned. \n",
      "[I 2024-10-29 21:52:33,272] Trial 66 pruned. \n",
      "[I 2024-10-29 21:52:33,374] Trial 67 pruned. \n",
      "[I 2024-10-29 21:52:33,435] Trial 68 pruned. \n",
      "[I 2024-10-29 21:52:33,532] Trial 69 pruned. \n",
      "[I 2024-10-29 21:52:33,586] Trial 70 pruned. \n",
      "[I 2024-10-29 21:52:33,636] Trial 71 pruned. \n",
      "[I 2024-10-29 21:53:06,644] Trial 72 finished with value: 0.0025338002014905214 and parameters: {'num_layers': 1, 'hidden_size': 112, 'lstm_dropout': 0.3649866765303605, 'dense_dropout': 0.06362678864545902, 'learning_rate': 0.009604269043247727}. Best is trial 19 with value: 0.0019671354675665498.\n",
      "[I 2024-10-29 21:53:06,730] Trial 73 pruned. \n",
      "[I 2024-10-29 21:53:39,706] Trial 74 finished with value: 0.0029535440262407064 and parameters: {'num_layers': 1, 'hidden_size': 120, 'lstm_dropout': 0.14108370648782453, 'dense_dropout': 0.04689644166854991, 'learning_rate': 0.013733274547873502}. Best is trial 19 with value: 0.0019671354675665498.\n",
      "[I 2024-10-29 21:54:13,174] Trial 75 finished with value: 0.002074894029647112 and parameters: {'num_layers': 1, 'hidden_size': 128, 'lstm_dropout': 0.13567805267206945, 'dense_dropout': 0.012659540969759004, 'learning_rate': 0.009277131431586419}. Best is trial 19 with value: 0.0019671354675665498.\n",
      "[I 2024-10-29 21:54:13,227] Trial 76 pruned. \n",
      "[I 2024-10-29 21:54:13,336] Trial 77 pruned. \n",
      "[I 2024-10-29 21:54:13,388] Trial 78 pruned. \n",
      "[I 2024-10-29 21:54:13,445] Trial 79 pruned. \n",
      "[I 2024-10-29 21:54:13,505] Trial 80 pruned. \n",
      "[I 2024-10-29 21:54:13,557] Trial 81 pruned. \n",
      "[I 2024-10-29 21:54:13,694] Trial 82 pruned. \n",
      "[I 2024-10-29 21:54:13,776] Trial 83 pruned. \n",
      "[I 2024-10-29 21:54:13,824] Trial 84 pruned. \n",
      "[I 2024-10-29 21:54:46,282] Trial 85 finished with value: 0.0024121099268086255 and parameters: {'num_layers': 1, 'hidden_size': 128, 'lstm_dropout': 0.4319809914794846, 'dense_dropout': 0.06468720943939688, 'learning_rate': 0.006998686354050647}. Best is trial 19 with value: 0.0019671354675665498.\n",
      "[I 2024-10-29 21:54:46,331] Trial 86 pruned. \n",
      "[I 2024-10-29 21:54:46,472] Trial 87 pruned. \n",
      "[I 2024-10-29 21:54:46,611] Trial 88 pruned. \n",
      "[I 2024-10-29 21:54:46,670] Trial 89 pruned. \n",
      "[I 2024-10-29 21:54:46,721] Trial 90 pruned. \n",
      "[I 2024-10-29 21:55:20,253] Trial 91 finished with value: 0.0022700426634401083 and parameters: {'num_layers': 1, 'hidden_size': 120, 'lstm_dropout': 0.42209755250028036, 'dense_dropout': 0.057551803003744836, 'learning_rate': 0.012228209356804708}. Best is trial 19 with value: 0.0019671354675665498.\n",
      "[I 2024-10-29 21:55:20,361] Trial 92 pruned. \n",
      "[I 2024-10-29 21:55:20,411] Trial 93 pruned. \n",
      "[I 2024-10-29 21:55:52,269] Trial 94 finished with value: 0.0029665632173419 and parameters: {'num_layers': 1, 'hidden_size': 128, 'lstm_dropout': 0.3665252901788193, 'dense_dropout': 0.02939588870168801, 'learning_rate': 0.00760148070758929}. Best is trial 19 with value: 0.0019671354675665498.\n",
      "[I 2024-10-29 21:55:52,318] Trial 95 pruned. \n",
      "[I 2024-10-29 21:55:52,395] Trial 96 pruned. \n",
      "[I 2024-10-29 21:55:52,451] Trial 97 pruned. \n",
      "[I 2024-10-29 21:55:52,610] Trial 98 pruned. \n",
      "[I 2024-10-29 21:55:53,151] Trial 99 pruned. \n",
      "[I 2024-10-29 21:55:53,270] A new study created in memory with name: example-study\n"
     ]
    },
    {
     "name": "stdout",
     "output_type": "stream",
     "text": [
      "Study statistics: \n",
      "  Number of finished trials:  100\n",
      "  Number of pruned trials:  75\n",
      "  Number of complete trials:  25\n",
      "Best trial:\n",
      "  Value:  0.0019671354675665498\n",
      "  Params: \n",
      "    num_layers: 2\n",
      "    hidden_size: 72\n",
      "    lstm_dropout: 0.14044621251482972\n",
      "    dense_dropout: 0.05275544516766682\n",
      "    learning_rate: 0.015476881437324523\n",
      "R2 for sim at Tangnaihai(1972-2014) 0.9605971176455003\n",
      "Warning: ARIMASimFlow column not found in data for Tangnaihai station, year 2016\n"
     ]
    },
    {
     "name": "stderr",
     "output_type": "stream",
     "text": [
      "[I 2024-10-29 21:56:27,634] Trial 0 finished with value: 0.0036265439121052623 and parameters: {'num_layers': 1, 'hidden_size': 112, 'lstm_dropout': 0.3869414340554768, 'dense_dropout': 0.11454429311534758, 'learning_rate': 0.001028949843289967}. Best is trial 0 with value: 0.0036265439121052623.\n",
      "[I 2024-10-29 21:57:19,564] Trial 1 finished with value: 0.11066295951604843 and parameters: {'num_layers': 3, 'hidden_size': 64, 'lstm_dropout': 0.16611703613439688, 'dense_dropout': 0.3685412746689556, 'learning_rate': 0.07926088725229255}. Best is trial 0 with value: 0.0036265439121052623.\n",
      "[I 2024-10-29 21:58:09,886] Trial 2 finished with value: 0.005450853379443288 and parameters: {'num_layers': 3, 'hidden_size': 128, 'lstm_dropout': 0.25661614947998873, 'dense_dropout': 0.3229598600892425, 'learning_rate': 0.01078214106169636}. Best is trial 0 with value: 0.0036265439121052623.\n",
      "[I 2024-10-29 21:58:50,886] Trial 3 finished with value: 0.0036571924574673176 and parameters: {'num_layers': 1, 'hidden_size': 96, 'lstm_dropout': 0.3365402922094033, 'dense_dropout': 0.15450342117930493, 'learning_rate': 3.784412820697683e-05}. Best is trial 0 with value: 0.0036265439121052623.\n",
      "[I 2024-10-29 21:59:35,947] Trial 4 finished with value: 0.0070797051303088665 and parameters: {'num_layers': 2, 'hidden_size': 88, 'lstm_dropout': 0.24404518597517005, 'dense_dropout': 0.284381802701048, 'learning_rate': 0.014702441050663283}. Best is trial 0 with value: 0.0036265439121052623.\n",
      "[I 2024-10-29 21:59:35,999] Trial 5 pruned. \n",
      "[I 2024-10-29 22:00:25,732] Trial 6 finished with value: 0.0029158712131902575 and parameters: {'num_layers': 3, 'hidden_size': 128, 'lstm_dropout': 0.0726477686462032, 'dense_dropout': 0.18385368185936168, 'learning_rate': 0.002133206085446802}. Best is trial 6 with value: 0.0029158712131902575.\n",
      "[I 2024-10-29 22:00:25,778] Trial 7 pruned. \n",
      "[I 2024-10-29 22:00:25,885] Trial 8 pruned. \n",
      "[I 2024-10-29 22:00:25,999] Trial 9 pruned. \n",
      "[I 2024-10-29 22:00:26,092] Trial 10 pruned. \n",
      "[I 2024-10-29 22:00:26,156] Trial 11 pruned. \n",
      "[I 2024-10-29 22:00:26,204] Trial 12 pruned. \n",
      "[I 2024-10-29 22:01:09,635] Trial 13 finished with value: 0.0024020610144361854 and parameters: {'num_layers': 2, 'hidden_size': 112, 'lstm_dropout': 0.14977394970537317, 'dense_dropout': 0.006707954394673921, 'learning_rate': 0.005575019401226886}. Best is trial 13 with value: 0.0024020610144361854.\n",
      "[I 2024-10-29 22:01:56,083] Trial 14 finished with value: 0.0023923689732328057 and parameters: {'num_layers': 2, 'hidden_size': 80, 'lstm_dropout': 0.12393737980309705, 'dense_dropout': 0.015030549817321714, 'learning_rate': 0.011473691449119429}. Best is trial 14 with value: 0.0023923689732328057.\n",
      "[I 2024-10-29 22:01:56,156] Trial 15 pruned. \n",
      "[I 2024-10-29 22:02:41,211] Trial 16 finished with value: 0.0027414229698479176 and parameters: {'num_layers': 2, 'hidden_size': 48, 'lstm_dropout': 0.18102336709555053, 'dense_dropout': 0.056603548070312495, 'learning_rate': 0.008264723184230766}. Best is trial 14 with value: 0.0023923689732328057.\n",
      "[I 2024-10-29 22:02:41,275] Trial 17 pruned. \n",
      "[I 2024-10-29 22:02:41,346] Trial 18 pruned. \n",
      "[I 2024-10-29 22:02:41,592] Trial 19 pruned. \n",
      "[I 2024-10-29 22:02:41,660] Trial 20 pruned. \n",
      "[I 2024-10-29 22:03:27,250] Trial 21 finished with value: 0.002491068560630083 and parameters: {'num_layers': 2, 'hidden_size': 48, 'lstm_dropout': 0.18117940199609614, 'dense_dropout': 0.06222263903318788, 'learning_rate': 0.00860232266315796}. Best is trial 14 with value: 0.0023923689732328057.\n",
      "[I 2024-10-29 22:04:16,102] Trial 22 finished with value: 0.002244909992441535 and parameters: {'num_layers': 2, 'hidden_size': 48, 'lstm_dropout': 0.12406746357222201, 'dense_dropout': 0.05848605341703769, 'learning_rate': 0.015734129826954293}. Best is trial 22 with value: 0.002244909992441535.\n",
      "[I 2024-10-29 22:04:16,162] Trial 23 pruned. \n",
      "[I 2024-10-29 22:04:16,219] Trial 24 pruned. \n",
      "[I 2024-10-29 22:04:16,294] Trial 25 pruned. \n",
      "[I 2024-10-29 22:04:16,395] Trial 26 pruned. \n",
      "[I 2024-10-29 22:04:16,651] Trial 27 pruned. \n",
      "[I 2024-10-29 22:04:16,754] Trial 28 pruned. \n",
      "[I 2024-10-29 22:04:16,821] Trial 29 pruned. \n",
      "[I 2024-10-29 22:04:16,903] Trial 30 pruned. \n",
      "[I 2024-10-29 22:05:04,190] Trial 31 finished with value: 0.003065292024984956 and parameters: {'num_layers': 2, 'hidden_size': 40, 'lstm_dropout': 0.18291734204898089, 'dense_dropout': 0.0704085108540132, 'learning_rate': 0.008991232181004671}. Best is trial 22 with value: 0.002244909992441535.\n",
      "[I 2024-10-29 22:05:04,358] Trial 32 pruned. \n",
      "[I 2024-10-29 22:05:04,585] Trial 33 pruned. \n",
      "[I 2024-10-29 22:05:04,715] Trial 34 pruned. \n",
      "[I 2024-10-29 22:05:04,930] Trial 35 pruned. \n",
      "[I 2024-10-29 22:05:50,477] Trial 36 finished with value: 0.00257711618905887 and parameters: {'num_layers': 2, 'hidden_size': 64, 'lstm_dropout': 0.06010286358216048, 'dense_dropout': 0.08028062838686047, 'learning_rate': 0.00802810629020405}. Best is trial 22 with value: 0.002244909992441535.\n",
      "[I 2024-10-29 22:05:50,591] Trial 37 pruned. \n",
      "[I 2024-10-29 22:05:50,984] Trial 38 pruned. \n",
      "[I 2024-10-29 22:05:51,074] Trial 39 pruned. \n",
      "[I 2024-10-29 22:05:51,199] Trial 40 pruned. \n",
      "[I 2024-10-29 22:06:36,171] Trial 41 finished with value: 0.002209440863225609 and parameters: {'num_layers': 2, 'hidden_size': 64, 'lstm_dropout': 0.07060520224368463, 'dense_dropout': 0.09528247282203045, 'learning_rate': 0.005861706071684783}. Best is trial 41 with value: 0.002209440863225609.\n",
      "[I 2024-10-29 22:07:24,200] Trial 42 finished with value: 0.0038067674031481147 and parameters: {'num_layers': 2, 'hidden_size': 64, 'lstm_dropout': 0.12368797486108649, 'dense_dropout': 0.14888492469707182, 'learning_rate': 0.005862755187009013}. Best is trial 41 with value: 0.002209440863225609.\n",
      "[I 2024-10-29 22:07:24,265] Trial 43 pruned. \n",
      "[I 2024-10-29 22:08:10,553] Trial 44 finished with value: 0.003016649337951094 and parameters: {'num_layers': 2, 'hidden_size': 56, 'lstm_dropout': 0.03740089430347378, 'dense_dropout': 0.09071943840225999, 'learning_rate': 0.011699373708583845}. Best is trial 41 with value: 0.002209440863225609.\n",
      "[I 2024-10-29 22:08:10,784] Trial 45 pruned. \n",
      "[I 2024-10-29 22:08:10,842] Trial 46 pruned. \n",
      "[I 2024-10-29 22:08:53,835] Trial 47 finished with value: 0.0030859870021231472 and parameters: {'num_layers': 2, 'hidden_size': 120, 'lstm_dropout': 0.2218203173446649, 'dense_dropout': 0.02064223477080509, 'learning_rate': 0.0064128081653098395}. Best is trial 41 with value: 0.002209440863225609.\n",
      "[I 2024-10-29 22:08:53,895] Trial 48 pruned. \n",
      "[I 2024-10-29 22:08:53,967] Trial 49 pruned. \n",
      "[I 2024-10-29 22:08:54,023] Trial 50 pruned. \n",
      "[I 2024-10-29 22:08:54,077] Trial 51 pruned. \n",
      "[I 2024-10-29 22:09:45,299] Trial 52 finished with value: 0.002237198641523719 and parameters: {'num_layers': 2, 'hidden_size': 72, 'lstm_dropout': 0.04757941741813261, 'dense_dropout': 0.06631291568533017, 'learning_rate': 0.008040439520127222}. Best is trial 41 with value: 0.002209440863225609.\n",
      "[I 2024-10-29 22:09:45,405] Trial 53 pruned. \n",
      "[I 2024-10-29 22:09:45,470] Trial 54 pruned. \n",
      "[I 2024-10-29 22:09:45,525] Trial 55 pruned. \n",
      "[I 2024-10-29 22:09:46,115] Trial 56 pruned. \n",
      "[I 2024-10-29 22:09:46,232] Trial 57 pruned. \n",
      "[I 2024-10-29 22:09:46,350] Trial 58 pruned. \n",
      "[I 2024-10-29 22:09:46,436] Trial 59 pruned. \n",
      "[I 2024-10-29 22:09:46,535] Trial 60 pruned. \n",
      "[I 2024-10-29 22:09:46,637] Trial 61 pruned. \n",
      "[I 2024-10-29 22:10:32,746] Trial 62 finished with value: 0.0021025334135629237 and parameters: {'num_layers': 2, 'hidden_size': 80, 'lstm_dropout': 0.0542139454096605, 'dense_dropout': 0.05952006356130033, 'learning_rate': 0.0075493405324259175}. Best is trial 62 with value: 0.0021025334135629237.\n",
      "[I 2024-10-29 22:10:32,865] Trial 63 pruned. \n",
      "[I 2024-10-29 22:10:32,948] Trial 64 pruned. \n",
      "[I 2024-10-29 22:10:33,026] Trial 65 pruned. \n",
      "[I 2024-10-29 22:11:17,684] Trial 66 finished with value: 0.00256970536429435 and parameters: {'num_layers': 2, 'hidden_size': 88, 'lstm_dropout': 0.046093608537274344, 'dense_dropout': 0.038562375928311465, 'learning_rate': 0.006400996843558502}. Best is trial 62 with value: 0.0021025334135629237.\n",
      "[I 2024-10-29 22:11:17,752] Trial 67 pruned. \n",
      "[I 2024-10-29 22:11:17,928] Trial 68 pruned. \n",
      "[I 2024-10-29 22:11:57,758] Trial 69 finished with value: 0.0017842535744421184 and parameters: {'num_layers': 2, 'hidden_size': 56, 'lstm_dropout': 0.07821645229232022, 'dense_dropout': 0.05689634798634238, 'learning_rate': 0.009677126444699152}. Best is trial 69 with value: 0.0017842535744421184.\n",
      "[I 2024-10-29 22:11:57,820] Trial 70 pruned. \n",
      "[I 2024-10-29 22:12:35,733] Trial 71 finished with value: 0.0021247296826913953 and parameters: {'num_layers': 2, 'hidden_size': 48, 'lstm_dropout': 0.10740723987585989, 'dense_dropout': 0.06532578222344987, 'learning_rate': 0.009470682361878187}. Best is trial 69 with value: 0.0017842535744421184.\n",
      "[I 2024-10-29 22:12:35,828] Trial 72 pruned. \n",
      "[I 2024-10-29 22:12:35,932] Trial 73 pruned. \n",
      "[I 2024-10-29 22:12:35,994] Trial 74 pruned. \n",
      "[I 2024-10-29 22:12:36,091] Trial 75 pruned. \n",
      "[I 2024-10-29 22:13:13,038] Trial 76 finished with value: 0.0016205926658585668 and parameters: {'num_layers': 2, 'hidden_size': 64, 'lstm_dropout': 0.0756546407129671, 'dense_dropout': 0.028002001212297664, 'learning_rate': 0.007327891968750374}. Best is trial 76 with value: 0.0016205926658585668.\n",
      "[I 2024-10-29 22:13:49,506] Trial 77 finished with value: 0.0022325896425172687 and parameters: {'num_layers': 2, 'hidden_size': 64, 'lstm_dropout': 0.03757277104124491, 'dense_dropout': 0.03296097542834767, 'learning_rate': 0.0072308166273235734}. Best is trial 76 with value: 0.0016205926658585668.\n",
      "[I 2024-10-29 22:13:49,593] Trial 78 pruned. \n",
      "[I 2024-10-29 22:13:49,649] Trial 79 pruned. \n",
      "[I 2024-10-29 22:13:49,773] Trial 80 pruned. \n",
      "[I 2024-10-29 22:13:49,831] Trial 81 pruned. \n",
      "[I 2024-10-29 22:13:50,196] Trial 82 pruned. \n",
      "[I 2024-10-29 22:13:50,987] Trial 83 pruned. \n",
      "[I 2024-10-29 22:13:51,040] Trial 84 pruned. \n",
      "[I 2024-10-29 22:13:51,093] Trial 85 pruned. \n",
      "[I 2024-10-29 22:13:51,180] Trial 86 pruned. \n",
      "[I 2024-10-29 22:13:51,263] Trial 87 pruned. \n",
      "[I 2024-10-29 22:13:51,424] Trial 88 pruned. \n",
      "[I 2024-10-29 22:13:51,508] Trial 89 pruned. \n",
      "[I 2024-10-29 22:13:51,606] Trial 90 pruned. \n",
      "[I 2024-10-29 22:13:51,686] Trial 91 pruned. \n",
      "[I 2024-10-29 22:13:51,774] Trial 92 pruned. \n",
      "[I 2024-10-29 22:13:51,873] Trial 93 pruned. \n",
      "[I 2024-10-29 22:13:51,953] Trial 94 pruned. \n",
      "[I 2024-10-29 22:13:52,093] Trial 95 pruned. \n",
      "[I 2024-10-29 22:13:52,188] Trial 96 pruned. \n",
      "[I 2024-10-29 22:13:52,243] Trial 97 pruned. \n",
      "[I 2024-10-29 22:13:52,296] Trial 98 pruned. \n",
      "[I 2024-10-29 22:13:52,363] Trial 99 pruned. \n",
      "[I 2024-10-29 22:13:52,472] A new study created in memory with name: example-study\n"
     ]
    },
    {
     "name": "stdout",
     "output_type": "stream",
     "text": [
      "Study statistics: \n",
      "  Number of finished trials:  100\n",
      "  Number of pruned trials:  76\n",
      "  Number of complete trials:  24\n",
      "Best trial:\n",
      "  Value:  0.0016205926658585668\n",
      "  Params: \n",
      "    num_layers: 2\n",
      "    hidden_size: 64\n",
      "    lstm_dropout: 0.0756546407129671\n",
      "    dense_dropout: 0.028002001212297664\n",
      "    learning_rate: 0.007327891968750374\n",
      "R2 for sim at Tangnaihai(1972-2015) 0.9042078095657861\n",
      "Warning: ARIMASimFlow column not found in data for Tangnaihai station, year 2017\n"
     ]
    },
    {
     "name": "stderr",
     "output_type": "stream",
     "text": [
      "[I 2024-10-29 22:14:23,686] Trial 0 finished with value: 0.0028185234405100346 and parameters: {'num_layers': 1, 'hidden_size': 8, 'lstm_dropout': 0.20847853078418477, 'dense_dropout': 0.16900300944862812, 'learning_rate': 0.0004476053649821325}. Best is trial 0 with value: 0.0028185234405100346.\n",
      "[I 2024-10-29 22:14:59,469] Trial 1 finished with value: 0.0027716950280591846 and parameters: {'num_layers': 2, 'hidden_size': 8, 'lstm_dropout': 0.42216177074252625, 'dense_dropout': 0.1119274214114605, 'learning_rate': 0.00039500535925289195}. Best is trial 1 with value: 0.0027716950280591846.\n",
      "[I 2024-10-29 22:15:34,824] Trial 2 finished with value: 0.002937315497547388 and parameters: {'num_layers': 2, 'hidden_size': 80, 'lstm_dropout': 0.15616603277717278, 'dense_dropout': 0.1714778307725331, 'learning_rate': 0.0019928188830166164}. Best is trial 1 with value: 0.0027716950280591846.\n",
      "[I 2024-10-29 22:16:13,600] Trial 3 finished with value: 0.008314520586282015 and parameters: {'num_layers': 3, 'hidden_size': 120, 'lstm_dropout': 0.24676411569287093, 'dense_dropout': 0.4227180567415939, 'learning_rate': 0.0003313820220084233}. Best is trial 1 with value: 0.0027716950280591846.\n",
      "[I 2024-10-29 22:16:49,233] Trial 4 finished with value: 0.009425209602341056 and parameters: {'num_layers': 2, 'hidden_size': 8, 'lstm_dropout': 0.4462809793463005, 'dense_dropout': 0.43365733732872624, 'learning_rate': 0.0011792542435774224}. Best is trial 1 with value: 0.0027716950280591846.\n",
      "[I 2024-10-29 22:16:49,276] Trial 5 pruned. \n",
      "[I 2024-10-29 22:16:49,311] Trial 6 pruned. \n",
      "[I 2024-10-29 22:16:57,192] Trial 7 pruned. \n",
      "[I 2024-10-29 22:16:57,311] Trial 8 pruned. \n",
      "[I 2024-10-29 22:17:00,304] Trial 9 pruned. \n",
      "[I 2024-10-29 22:17:00,363] Trial 10 pruned. \n",
      "[I 2024-10-29 22:17:00,418] Trial 11 pruned. \n",
      "[I 2024-10-29 22:17:41,108] Trial 12 finished with value: 0.0031025090720504522 and parameters: {'num_layers': 3, 'hidden_size': 32, 'lstm_dropout': 0.04196210825126662, 'dense_dropout': 0.10473661729672595, 'learning_rate': 0.005689236883193918}. Best is trial 1 with value: 0.0027716950280591846.\n",
      "[I 2024-10-29 22:17:41,158] Trial 13 pruned. \n",
      "[I 2024-10-29 22:17:41,387] Trial 14 pruned. \n",
      "[I 2024-10-29 22:18:15,241] Trial 15 finished with value: 0.0055132415145635605 and parameters: {'num_layers': 1, 'hidden_size': 56, 'lstm_dropout': 0.3408185799758551, 'dense_dropout': 0.09659580062332257, 'learning_rate': 0.07445728371449713}. Best is trial 1 with value: 0.0027716950280591846.\n",
      "[I 2024-10-29 22:18:15,307] Trial 16 pruned. \n",
      "[I 2024-10-29 22:18:51,402] Trial 17 finished with value: 0.0023542112903669477 and parameters: {'num_layers': 2, 'hidden_size': 104, 'lstm_dropout': 0.11199524676260714, 'dense_dropout': 0.07433977389281099, 'learning_rate': 0.004235477295330387}. Best is trial 17 with value: 0.0023542112903669477.\n",
      "[I 2024-10-29 22:19:27,237] Trial 18 finished with value: 0.002207562152761966 and parameters: {'num_layers': 2, 'hidden_size': 104, 'lstm_dropout': 0.0011506807702993949, 'dense_dropout': 0.0687388496144534, 'learning_rate': 0.005292073573605223}. Best is trial 18 with value: 0.002207562152761966.\n",
      "[I 2024-10-29 22:20:02,732] Trial 19 finished with value: 0.002328242757357657 and parameters: {'num_layers': 2, 'hidden_size': 104, 'lstm_dropout': 0.0147966872796782, 'dense_dropout': 0.007459697256518766, 'learning_rate': 0.0035549565571947996}. Best is trial 18 with value: 0.002207562152761966.\n",
      "[I 2024-10-29 22:20:02,792] Trial 20 pruned. \n",
      "[I 2024-10-29 22:20:38,366] Trial 21 finished with value: 0.0022657333174720407 and parameters: {'num_layers': 2, 'hidden_size': 104, 'lstm_dropout': 0.10011345660322124, 'dense_dropout': 0.06331635611416461, 'learning_rate': 0.0034041238514651772}. Best is trial 18 with value: 0.002207562152761966.\n",
      "[I 2024-10-29 22:21:13,480] Trial 22 finished with value: 0.0020732543780468404 and parameters: {'num_layers': 2, 'hidden_size': 128, 'lstm_dropout': 0.0010418891806307333, 'dense_dropout': 0.002384485749023683, 'learning_rate': 0.0038179788877189444}. Best is trial 22 with value: 0.0020732543780468404.\n",
      "[I 2024-10-29 22:21:48,552] Trial 23 finished with value: 0.0023573485668748617 and parameters: {'num_layers': 2, 'hidden_size': 128, 'lstm_dropout': 0.07431047881548555, 'dense_dropout': 0.06508637892250252, 'learning_rate': 0.007187918895919706}. Best is trial 22 with value: 0.0020732543780468404.\n",
      "[I 2024-10-29 22:21:48,604] Trial 24 pruned. \n",
      "[I 2024-10-29 22:21:49,124] Trial 25 pruned. \n",
      "[I 2024-10-29 22:21:49,411] Trial 26 pruned. \n",
      "[I 2024-10-29 22:22:24,376] Trial 27 finished with value: 0.00285594433080405 and parameters: {'num_layers': 2, 'hidden_size': 88, 'lstm_dropout': 0.12050353594309864, 'dense_dropout': 0.03599337873235822, 'learning_rate': 0.008649246260923983}. Best is trial 22 with value: 0.0020732543780468404.\n",
      "[I 2024-10-29 22:22:24,431] Trial 28 pruned. \n",
      "[I 2024-10-29 22:22:24,483] Trial 29 pruned. \n",
      "[I 2024-10-29 22:22:24,567] Trial 30 pruned. \n",
      "[I 2024-10-29 22:22:24,802] Trial 31 pruned. \n",
      "[I 2024-10-29 22:22:24,967] Trial 32 pruned. \n",
      "[I 2024-10-29 22:22:25,017] Trial 33 pruned. \n",
      "[I 2024-10-29 22:22:25,097] Trial 34 pruned. \n",
      "[I 2024-10-29 22:22:25,201] Trial 35 pruned. \n",
      "[I 2024-10-29 22:22:25,296] Trial 36 pruned. \n",
      "[I 2024-10-29 22:22:25,394] Trial 37 pruned. \n",
      "[I 2024-10-29 22:22:25,503] Trial 38 pruned. \n",
      "[I 2024-10-29 22:22:25,588] Trial 39 pruned. \n",
      "[I 2024-10-29 22:22:25,653] Trial 40 pruned. \n",
      "[I 2024-10-29 22:22:25,820] Trial 41 pruned. \n",
      "[I 2024-10-29 22:23:00,507] Trial 42 finished with value: 0.0016952227160800248 and parameters: {'num_layers': 2, 'hidden_size': 104, 'lstm_dropout': 0.09978079404220064, 'dense_dropout': 0.02373738599762578, 'learning_rate': 0.006288416036230191}. Best is trial 42 with value: 0.0016952227160800248.\n",
      "[I 2024-10-29 22:23:00,555] Trial 43 pruned. \n",
      "[I 2024-10-29 22:23:00,604] Trial 44 pruned. \n",
      "[I 2024-10-29 22:23:00,653] Trial 45 pruned. \n",
      "[I 2024-10-29 22:23:00,708] Trial 46 pruned. \n",
      "[I 2024-10-29 22:23:00,760] Trial 47 pruned. \n",
      "[I 2024-10-29 22:23:00,819] Trial 48 pruned. \n",
      "[I 2024-10-29 22:23:00,904] Trial 49 pruned. \n",
      "[I 2024-10-29 22:23:00,962] Trial 50 pruned. \n",
      "[I 2024-10-29 22:23:01,119] Trial 51 pruned. \n",
      "[I 2024-10-29 22:23:01,279] Trial 52 pruned. \n",
      "[I 2024-10-29 22:23:01,333] Trial 53 pruned. \n",
      "[I 2024-10-29 22:23:01,387] Trial 54 pruned. \n",
      "[I 2024-10-29 22:23:01,437] Trial 55 pruned. \n",
      "[I 2024-10-29 22:23:01,590] Trial 56 pruned. \n",
      "[I 2024-10-29 22:23:01,641] Trial 57 pruned. \n",
      "[I 2024-10-29 22:23:01,692] Trial 58 pruned. \n",
      "[I 2024-10-29 22:23:01,779] Trial 59 pruned. \n",
      "[I 2024-10-29 22:23:01,862] Trial 60 pruned. \n",
      "[I 2024-10-29 22:23:38,421] Trial 61 finished with value: 0.0024347850121557713 and parameters: {'num_layers': 2, 'hidden_size': 128, 'lstm_dropout': 0.07173354578499512, 'dense_dropout': 0.06597394821814005, 'learning_rate': 0.0071635763470785895}. Best is trial 42 with value: 0.0016952227160800248.\n",
      "[I 2024-10-29 22:24:15,216] Trial 62 finished with value: 0.0021469107596203685 and parameters: {'num_layers': 2, 'hidden_size': 120, 'lstm_dropout': 0.03716031792169308, 'dense_dropout': 0.05366607904943303, 'learning_rate': 0.002981333973388723}. Best is trial 42 with value: 0.0016952227160800248.\n",
      "[I 2024-10-29 22:24:15,375] Trial 63 pruned. \n",
      "[I 2024-10-29 22:24:15,426] Trial 64 pruned. \n",
      "[I 2024-10-29 22:24:15,480] Trial 65 pruned. \n",
      "[I 2024-10-29 22:24:15,612] Trial 66 pruned. \n",
      "[I 2024-10-29 22:24:15,742] Trial 67 pruned. \n",
      "[I 2024-10-29 22:24:15,797] Trial 68 pruned. \n",
      "[I 2024-10-29 22:24:15,851] Trial 69 pruned. \n",
      "[I 2024-10-29 22:24:15,903] Trial 70 pruned. \n",
      "[I 2024-10-29 22:24:15,990] Trial 71 pruned. \n",
      "[I 2024-10-29 22:24:16,044] Trial 72 pruned. \n",
      "[I 2024-10-29 22:24:16,096] Trial 73 pruned. \n",
      "[I 2024-10-29 22:24:16,153] Trial 74 pruned. \n",
      "[I 2024-10-29 22:24:16,210] Trial 75 pruned. \n",
      "[I 2024-10-29 22:24:16,265] Trial 76 pruned. \n",
      "[I 2024-10-29 22:24:16,395] Trial 77 pruned. \n",
      "[I 2024-10-29 22:24:16,453] Trial 78 pruned. \n",
      "[I 2024-10-29 22:24:16,658] Trial 79 pruned. \n",
      "[I 2024-10-29 22:24:16,743] Trial 80 pruned. \n",
      "[I 2024-10-29 22:24:16,925] Trial 81 pruned. \n",
      "[I 2024-10-29 22:24:17,021] Trial 82 pruned. \n",
      "[I 2024-10-29 22:24:17,089] Trial 83 pruned. \n",
      "[I 2024-10-29 22:24:17,174] Trial 84 pruned. \n",
      "[I 2024-10-29 22:24:17,240] Trial 85 pruned. \n",
      "[I 2024-10-29 22:24:17,383] Trial 86 pruned. \n",
      "[I 2024-10-29 22:24:17,448] Trial 87 pruned. \n",
      "[I 2024-10-29 22:24:17,507] Trial 88 pruned. \n",
      "[I 2024-10-29 22:24:17,564] Trial 89 pruned. \n",
      "[I 2024-10-29 22:24:17,619] Trial 90 pruned. \n",
      "[I 2024-10-29 22:24:17,673] Trial 91 pruned. \n",
      "[I 2024-10-29 22:24:17,726] Trial 92 pruned. \n",
      "[I 2024-10-29 22:24:17,779] Trial 93 pruned. \n",
      "[I 2024-10-29 22:24:17,830] Trial 94 pruned. \n",
      "[I 2024-10-29 22:24:17,883] Trial 95 pruned. \n",
      "[I 2024-10-29 22:24:18,018] Trial 96 pruned. \n",
      "[I 2024-10-29 22:24:18,073] Trial 97 pruned. \n",
      "[I 2024-10-29 22:24:18,125] Trial 98 pruned. \n",
      "[I 2024-10-29 22:24:18,177] Trial 99 pruned. \n",
      "[I 2024-10-29 22:24:18,281] A new study created in memory with name: example-study\n"
     ]
    },
    {
     "name": "stdout",
     "output_type": "stream",
     "text": [
      "Study statistics: \n",
      "  Number of finished trials:  100\n",
      "  Number of pruned trials:  83\n",
      "  Number of complete trials:  17\n",
      "Best trial:\n",
      "  Value:  0.0016952227160800248\n",
      "  Params: \n",
      "    num_layers: 2\n",
      "    hidden_size: 104\n",
      "    lstm_dropout: 0.09978079404220064\n",
      "    dense_dropout: 0.02373738599762578\n",
      "    learning_rate: 0.006288416036230191\n",
      "R2 for sim at Tangnaihai(1972-2016) 0.9842467425794008\n",
      "Warning: ARIMASimFlow column not found in data for Tangnaihai station, year 2018\n"
     ]
    },
    {
     "name": "stderr",
     "output_type": "stream",
     "text": [
      "[I 2024-10-29 22:24:59,534] Trial 0 finished with value: 0.001744485110975802 and parameters: {'num_layers': 3, 'hidden_size': 56, 'lstm_dropout': 0.0034666153819515877, 'dense_dropout': 0.16520164520414982, 'learning_rate': 0.00010637374272516447}. Best is trial 0 with value: 0.001744485110975802.\n",
      "[I 2024-10-29 22:25:31,146] Trial 1 finished with value: 0.0018343495321460068 and parameters: {'num_layers': 1, 'hidden_size': 8, 'lstm_dropout': 0.3746520699602286, 'dense_dropout': 0.1503651120224196, 'learning_rate': 0.001933460014574254}. Best is trial 0 with value: 0.001744485110975802.\n",
      "[I 2024-10-29 22:26:11,105] Trial 2 finished with value: 0.0023453013855032623 and parameters: {'num_layers': 3, 'hidden_size': 64, 'lstm_dropout': 0.3812464937256739, 'dense_dropout': 0.07353151368094596, 'learning_rate': 0.0010994537483149328}. Best is trial 0 with value: 0.001744485110975802.\n",
      "[I 2024-10-29 22:26:46,842] Trial 3 finished with value: 0.005678476067259908 and parameters: {'num_layers': 2, 'hidden_size': 64, 'lstm_dropout': 0.162017812001652, 'dense_dropout': 0.42429959984740506, 'learning_rate': 0.0003781631503570005}. Best is trial 0 with value: 0.001744485110975802.\n",
      "[I 2024-10-29 22:27:26,965] Trial 4 finished with value: 0.002124801743775606 and parameters: {'num_layers': 3, 'hidden_size': 64, 'lstm_dropout': 0.22731125150796166, 'dense_dropout': 0.17288603929687107, 'learning_rate': 0.00015178585411216222}. Best is trial 0 with value: 0.001744485110975802.\n",
      "[I 2024-10-29 22:27:59,245] Trial 5 finished with value: 0.004013510304503143 and parameters: {'num_layers': 1, 'hidden_size': 128, 'lstm_dropout': 0.16426865481233122, 'dense_dropout': 0.18459529265485985, 'learning_rate': 0.0008612740202664667}. Best is trial 0 with value: 0.001744485110975802.\n",
      "[I 2024-10-29 22:27:59,287] Trial 6 pruned. \n",
      "[I 2024-10-29 22:27:59,320] Trial 7 pruned. \n",
      "[I 2024-10-29 22:27:59,353] Trial 8 pruned. \n",
      "[I 2024-10-29 22:28:23,573] Trial 9 pruned. \n",
      "[I 2024-10-29 22:28:23,649] Trial 10 pruned. \n",
      "[I 2024-10-29 22:28:59,249] Trial 11 finished with value: 0.0025966581888496876 and parameters: {'num_layers': 2, 'hidden_size': 32, 'lstm_dropout': 0.49559400030851375, 'dense_dropout': 0.17191640161301647, 'learning_rate': 0.008212686944310325}. Best is trial 0 with value: 0.001744485110975802.\n",
      "[I 2024-10-29 22:28:59,317] Trial 12 pruned. \n",
      "[I 2024-10-29 22:29:37,166] Trial 13 finished with value: 0.0027616668958216906 and parameters: {'num_layers': 2, 'hidden_size': 40, 'lstm_dropout': 0.0021203257739236844, 'dense_dropout': 0.0910776500229227, 'learning_rate': 0.00488158545790508}. Best is trial 0 with value: 0.001744485110975802.\n",
      "[I 2024-10-29 22:29:37,217] Trial 14 pruned. \n",
      "[I 2024-10-29 22:29:37,282] Trial 15 pruned. \n",
      "[I 2024-10-29 22:29:37,394] Trial 16 pruned. \n",
      "[I 2024-10-29 22:29:37,449] Trial 17 pruned. \n",
      "[I 2024-10-29 22:29:37,614] Trial 18 pruned. \n",
      "[I 2024-10-29 22:29:37,686] Trial 19 pruned. \n",
      "[I 2024-10-29 22:30:14,293] Trial 20 finished with value: 0.0019840566092170775 and parameters: {'num_layers': 2, 'hidden_size': 112, 'lstm_dropout': 0.3270948746095117, 'dense_dropout': 0.04925900662982352, 'learning_rate': 0.004666253588589688}. Best is trial 0 with value: 0.001744485110975802.\n",
      "[I 2024-10-29 22:30:50,490] Trial 21 finished with value: 0.008271699538454413 and parameters: {'num_layers': 2, 'hidden_size': 104, 'lstm_dropout': 0.32732965410660747, 'dense_dropout': 0.060983957945188016, 'learning_rate': 0.008375209186631994}. Best is trial 0 with value: 0.001744485110975802.\n",
      "[I 2024-10-29 22:31:26,633] Trial 22 finished with value: 0.001675286388490349 and parameters: {'num_layers': 2, 'hidden_size': 112, 'lstm_dropout': 0.29706131383194717, 'dense_dropout': 0.12424765475917585, 'learning_rate': 0.0032737677344605296}. Best is trial 22 with value: 0.001675286388490349.\n",
      "[I 2024-10-29 22:31:58,766] Trial 23 finished with value: 0.0036986441118642688 and parameters: {'num_layers': 1, 'hidden_size': 48, 'lstm_dropout': 0.27505856747813456, 'dense_dropout': 0.2181319815876644, 'learning_rate': 0.025051761282100127}. Best is trial 22 with value: 0.001675286388490349.\n",
      "[I 2024-10-29 22:31:58,842] Trial 24 pruned. \n",
      "[I 2024-10-29 22:31:58,905] Trial 25 pruned. \n",
      "[I 2024-10-29 22:32:02,576] Trial 26 pruned. \n",
      "[I 2024-10-29 22:32:02,676] Trial 27 pruned. \n",
      "[I 2024-10-29 22:32:02,817] Trial 28 pruned. \n",
      "[I 2024-10-29 22:32:02,937] Trial 29 pruned. \n",
      "[I 2024-10-29 22:32:07,751] Trial 30 pruned. \n",
      "[I 2024-10-29 22:32:07,811] Trial 31 pruned. \n",
      "[I 2024-10-29 22:32:42,687] Trial 32 finished with value: 0.0018853569054044783 and parameters: {'num_layers': 2, 'hidden_size': 112, 'lstm_dropout': 0.35219786647452384, 'dense_dropout': 0.0843698137356396, 'learning_rate': 0.004237687426648153}. Best is trial 22 with value: 0.001675286388490349.\n",
      "[I 2024-10-29 22:33:17,587] Trial 33 finished with value: 0.0022761200089007616 and parameters: {'num_layers': 2, 'hidden_size': 112, 'lstm_dropout': 0.23867716591972654, 'dense_dropout': 0.10075233994283184, 'learning_rate': 0.012519188353065463}. Best is trial 22 with value: 0.001675286388490349.\n",
      "[I 2024-10-29 22:33:17,639] Trial 34 pruned. \n",
      "[I 2024-10-29 22:33:17,696] Trial 35 pruned. \n",
      "[I 2024-10-29 22:33:50,378] Trial 36 finished with value: 0.0021099818986840546 and parameters: {'num_layers': 1, 'hidden_size': 72, 'lstm_dropout': 0.19350232364008463, 'dense_dropout': 0.11421627524845897, 'learning_rate': 0.0030791846335824226}. Best is trial 22 with value: 0.001675286388490349.\n",
      "[I 2024-10-29 22:33:51,372] Trial 37 pruned. \n",
      "[I 2024-10-29 22:33:51,425] Trial 38 pruned. \n",
      "[I 2024-10-29 22:33:51,720] Trial 39 pruned. \n",
      "[I 2024-10-29 22:33:52,596] Trial 40 pruned. \n",
      "[I 2024-10-29 22:33:52,654] Trial 41 pruned. \n",
      "[I 2024-10-29 22:33:52,713] Trial 42 pruned. \n",
      "[I 2024-10-29 22:33:52,771] Trial 43 pruned. \n",
      "[I 2024-10-29 22:33:52,833] Trial 44 pruned. \n",
      "[I 2024-10-29 22:33:52,889] Trial 45 pruned. \n",
      "[I 2024-10-29 22:33:52,948] Trial 46 pruned. \n",
      "[I 2024-10-29 22:34:28,230] Trial 47 finished with value: 0.0024180568871088326 and parameters: {'num_layers': 2, 'hidden_size': 120, 'lstm_dropout': 0.19802931933366785, 'dense_dropout': 0.15396830260837444, 'learning_rate': 0.0031517094945386803}. Best is trial 22 with value: 0.001675286388490349.\n",
      "[I 2024-10-29 22:34:28,276] Trial 48 pruned. \n",
      "[I 2024-10-29 22:34:28,330] Trial 49 pruned. \n",
      "[I 2024-10-29 22:34:28,381] Trial 50 pruned. \n",
      "[I 2024-10-29 22:34:28,455] Trial 51 pruned. \n",
      "[I 2024-10-29 22:34:28,646] Trial 52 pruned. \n",
      "[I 2024-10-29 22:34:32,262] Trial 53 pruned. \n",
      "[I 2024-10-29 22:35:05,886] Trial 54 finished with value: 0.002476850524544716 and parameters: {'num_layers': 1, 'hidden_size': 88, 'lstm_dropout': 0.3170550667545418, 'dense_dropout': 0.19638374856360935, 'learning_rate': 0.003722164507074661}. Best is trial 22 with value: 0.001675286388490349.\n",
      "[I 2024-10-29 22:35:05,940] Trial 55 pruned. \n",
      "[I 2024-10-29 22:35:05,993] Trial 56 pruned. \n",
      "[I 2024-10-29 22:35:06,055] Trial 57 pruned. \n",
      "[I 2024-10-29 22:35:06,114] Trial 58 pruned. \n",
      "[I 2024-10-29 22:35:06,168] Trial 59 pruned. \n",
      "[I 2024-10-29 22:35:06,232] Trial 60 pruned. \n",
      "[I 2024-10-29 22:35:06,294] Trial 61 pruned. \n",
      "[I 2024-10-29 22:35:06,357] Trial 62 pruned. \n",
      "[I 2024-10-29 22:35:06,455] Trial 63 pruned. \n",
      "[I 2024-10-29 22:35:06,560] Trial 64 pruned. \n",
      "[I 2024-10-29 22:35:06,657] Trial 65 pruned. \n",
      "[I 2024-10-29 22:35:06,742] Trial 66 pruned. \n",
      "[I 2024-10-29 22:35:06,842] Trial 67 pruned. \n",
      "[I 2024-10-29 22:35:06,959] Trial 68 pruned. \n",
      "[I 2024-10-29 22:35:07,984] Trial 69 pruned. \n",
      "[I 2024-10-29 22:35:45,965] Trial 70 finished with value: 0.0020130604971200228 and parameters: {'num_layers': 2, 'hidden_size': 96, 'lstm_dropout': 0.1858867630495586, 'dense_dropout': 0.14256447053597437, 'learning_rate': 0.004050676165169466}. Best is trial 22 with value: 0.001675286388490349.\n",
      "[I 2024-10-29 22:35:46,059] Trial 71 pruned. \n",
      "[I 2024-10-29 22:35:46,114] Trial 72 pruned. \n",
      "[I 2024-10-29 22:36:22,766] Trial 73 finished with value: 0.00354758626781404 and parameters: {'num_layers': 2, 'hidden_size': 88, 'lstm_dropout': 0.23252840796495727, 'dense_dropout': 0.18479003571944363, 'learning_rate': 0.00777101800172245}. Best is trial 22 with value: 0.001675286388490349.\n",
      "[I 2024-10-29 22:36:22,886] Trial 74 pruned. \n",
      "[I 2024-10-29 22:36:22,958] Trial 75 pruned. \n",
      "[I 2024-10-29 22:36:23,024] Trial 76 pruned. \n",
      "[I 2024-10-29 22:36:23,082] Trial 77 pruned. \n",
      "[I 2024-10-29 22:36:23,140] Trial 78 pruned. \n",
      "[I 2024-10-29 22:36:23,201] Trial 79 pruned. \n",
      "[I 2024-10-29 22:36:23,253] Trial 80 pruned. \n",
      "[I 2024-10-29 22:36:23,312] Trial 81 pruned. \n",
      "[I 2024-10-29 22:36:23,403] Trial 82 pruned. \n",
      "[I 2024-10-29 22:36:23,492] Trial 83 pruned. \n",
      "[I 2024-10-29 22:37:00,001] Trial 84 finished with value: 0.0018292116583324969 and parameters: {'num_layers': 2, 'hidden_size': 120, 'lstm_dropout': 0.38341827833399755, 'dense_dropout': 0.10023775833920681, 'learning_rate': 0.005846748558737622}. Best is trial 22 with value: 0.001675286388490349.\n",
      "[I 2024-10-29 22:37:35,783] Trial 85 finished with value: 0.0016025061486288905 and parameters: {'num_layers': 2, 'hidden_size': 120, 'lstm_dropout': 0.38419723804726663, 'dense_dropout': 0.13217127014952007, 'learning_rate': 0.005975041123834083}. Best is trial 85 with value: 0.0016025061486288905.\n",
      "[I 2024-10-29 22:37:35,909] Trial 86 pruned. \n",
      "[I 2024-10-29 22:37:35,965] Trial 87 pruned. \n",
      "[I 2024-10-29 22:38:11,842] Trial 88 finished with value: 0.0015684496611356735 and parameters: {'num_layers': 2, 'hidden_size': 128, 'lstm_dropout': 0.34960983077512137, 'dense_dropout': 0.1317653975436949, 'learning_rate': 0.007555972346863215}. Best is trial 88 with value: 0.0015684496611356735.\n",
      "[I 2024-10-29 22:38:11,899] Trial 89 pruned. \n",
      "[I 2024-10-29 22:38:11,953] Trial 90 pruned. \n",
      "[I 2024-10-29 22:38:12,106] Trial 91 pruned. \n",
      "[I 2024-10-29 22:38:12,332] Trial 92 pruned. \n",
      "[I 2024-10-29 22:38:47,242] Trial 93 finished with value: 0.0016431724652647972 and parameters: {'num_layers': 2, 'hidden_size': 128, 'lstm_dropout': 0.4169465335899911, 'dense_dropout': 0.11538166695117538, 'learning_rate': 0.0029905650013797966}. Best is trial 88 with value: 0.0015684496611356735.\n",
      "[I 2024-10-29 22:38:47,329] Trial 94 pruned. \n",
      "[I 2024-10-29 22:38:50,284] Trial 95 pruned. \n",
      "[I 2024-10-29 22:38:50,336] Trial 96 pruned. \n",
      "[I 2024-10-29 22:38:50,388] Trial 97 pruned. \n",
      "[I 2024-10-29 22:38:50,444] Trial 98 pruned. \n",
      "[I 2024-10-29 22:39:25,868] Trial 99 finished with value: 0.002842577756382525 and parameters: {'num_layers': 2, 'hidden_size': 112, 'lstm_dropout': 0.3378128686878487, 'dense_dropout': 0.06863776159765096, 'learning_rate': 0.010737241995953814}. Best is trial 88 with value: 0.0015684496611356735.\n",
      "[I 2024-10-29 22:39:25,984] A new study created in memory with name: example-study\n"
     ]
    },
    {
     "name": "stdout",
     "output_type": "stream",
     "text": [
      "Study statistics: \n",
      "  Number of finished trials:  100\n",
      "  Number of pruned trials:  76\n",
      "  Number of complete trials:  24\n",
      "Best trial:\n",
      "  Value:  0.0015684496611356735\n",
      "  Params: \n",
      "    num_layers: 2\n",
      "    hidden_size: 128\n",
      "    lstm_dropout: 0.34960983077512137\n",
      "    dense_dropout: 0.1317653975436949\n",
      "    learning_rate: 0.007555972346863215\n",
      "R2 for sim at Tangnaihai(1972-2017) 0.9684844163418892\n",
      "Warning: ARIMASimFlow column not found in data for Tangnaihai station, year 2019\n"
     ]
    },
    {
     "name": "stderr",
     "output_type": "stream",
     "text": [
      "[I 2024-10-29 22:40:09,226] Trial 0 finished with value: 0.007481476292014122 and parameters: {'num_layers': 3, 'hidden_size': 48, 'lstm_dropout': 0.08549792219455593, 'dense_dropout': 0.45725757047398524, 'learning_rate': 0.00010767151268776313}. Best is trial 0 with value: 0.007481476292014122.\n",
      "[I 2024-10-29 22:40:45,252] Trial 1 finished with value: 0.004236119915731251 and parameters: {'num_layers': 2, 'hidden_size': 120, 'lstm_dropout': 0.13004127506809948, 'dense_dropout': 0.31399656733803455, 'learning_rate': 2.7077730388116194e-05}. Best is trial 1 with value: 0.004236119915731251.\n",
      "[I 2024-10-29 22:41:19,125] Trial 2 finished with value: 0.001972231490071863 and parameters: {'num_layers': 1, 'hidden_size': 80, 'lstm_dropout': 0.34530878336518434, 'dense_dropout': 0.1498964807481422, 'learning_rate': 0.00019657545260686287}. Best is trial 2 with value: 0.001972231490071863.\n",
      "[I 2024-10-29 22:41:57,217] Trial 3 finished with value: 0.003349585342220962 and parameters: {'num_layers': 2, 'hidden_size': 32, 'lstm_dropout': 0.3969093345708042, 'dense_dropout': 0.08336801413036793, 'learning_rate': 0.005976356014503848}. Best is trial 2 with value: 0.001972231490071863.\n",
      "[I 2024-10-29 22:42:32,874] Trial 4 finished with value: 0.004493281478062272 and parameters: {'num_layers': 1, 'hidden_size': 48, 'lstm_dropout': 0.23782196141414386, 'dense_dropout': 0.3266862567999542, 'learning_rate': 0.0001258926977317865}. Best is trial 2 with value: 0.001972231490071863.\n",
      "[I 2024-10-29 22:43:07,749] Trial 5 finished with value: 0.0021818247041665018 and parameters: {'num_layers': 1, 'hidden_size': 56, 'lstm_dropout': 0.498686809433368, 'dense_dropout': 0.15908023677921013, 'learning_rate': 0.00015166283158511986}. Best is trial 2 with value: 0.001972231490071863.\n",
      "[I 2024-10-29 22:43:14,680] Trial 6 pruned. \n",
      "[I 2024-10-29 22:43:14,812] Trial 7 pruned. \n",
      "[I 2024-10-29 22:43:49,110] Trial 8 finished with value: 0.0025516399182379246 and parameters: {'num_layers': 1, 'hidden_size': 128, 'lstm_dropout': 0.20484476650651307, 'dense_dropout': 0.11658551858495664, 'learning_rate': 0.0009752154816317454}. Best is trial 2 with value: 0.001972231490071863.\n",
      "[I 2024-10-29 22:43:49,158] Trial 9 pruned. \n",
      "[I 2024-10-29 22:44:23,258] Trial 10 finished with value: 0.0025978374760597944 and parameters: {'num_layers': 1, 'hidden_size': 80, 'lstm_dropout': 0.0007325875597419818, 'dense_dropout': 0.025777980992947563, 'learning_rate': 0.0011161123003596855}. Best is trial 2 with value: 0.001972231490071863.\n",
      "[I 2024-10-29 22:44:59,058] Trial 11 finished with value: 0.0022669240133836865 and parameters: {'num_layers': 1, 'hidden_size': 48, 'lstm_dropout': 0.49941350350426505, 'dense_dropout': 0.193936477833916, 'learning_rate': 0.0002507829686572807}. Best is trial 2 with value: 0.001972231490071863.\n",
      "[I 2024-10-29 22:44:59,117] Trial 12 pruned. \n",
      "[I 2024-10-29 22:44:59,187] Trial 13 pruned. \n",
      "[I 2024-10-29 22:44:59,259] Trial 14 pruned. \n",
      "[I 2024-10-29 22:44:59,329] Trial 15 pruned. \n",
      "[I 2024-10-29 22:44:59,402] Trial 16 pruned. \n",
      "[I 2024-10-29 22:44:59,469] Trial 17 pruned. \n",
      "[I 2024-10-29 22:44:59,535] Trial 18 pruned. \n",
      "[I 2024-10-29 22:44:59,623] Trial 19 pruned. \n",
      "[I 2024-10-29 22:44:59,692] Trial 20 pruned. \n",
      "[I 2024-10-29 22:44:59,749] Trial 21 pruned. \n",
      "[I 2024-10-29 22:44:59,807] Trial 22 pruned. \n",
      "[I 2024-10-29 22:44:59,862] Trial 23 pruned. \n",
      "[I 2024-10-29 22:45:34,179] Trial 24 finished with value: 0.003264170605689287 and parameters: {'num_layers': 1, 'hidden_size': 32, 'lstm_dropout': 0.35744574993306855, 'dense_dropout': 0.15760709235238488, 'learning_rate': 0.0016201848658558024}. Best is trial 2 with value: 0.001972231490071863.\n",
      "[I 2024-10-29 22:45:34,237] Trial 25 pruned. \n",
      "[I 2024-10-29 22:45:34,296] Trial 26 pruned. \n",
      "[I 2024-10-29 22:46:12,747] Trial 27 finished with value: 0.0029919343069195747 and parameters: {'num_layers': 2, 'hidden_size': 32, 'lstm_dropout': 0.18754345080519402, 'dense_dropout': 0.11152457389508434, 'learning_rate': 0.002687563206927298}. Best is trial 2 with value: 0.001972231490071863.\n",
      "[I 2024-10-29 22:46:12,801] Trial 28 pruned. \n",
      "[I 2024-10-29 22:46:12,866] Trial 29 pruned. \n",
      "[I 2024-10-29 22:46:12,915] Trial 30 pruned. \n",
      "[I 2024-10-29 22:46:47,269] Trial 31 finished with value: 0.0030440804548561573 and parameters: {'num_layers': 1, 'hidden_size': 120, 'lstm_dropout': 0.19335274233550975, 'dense_dropout': 0.12957331190482788, 'learning_rate': 0.0008113931044837407}. Best is trial 2 with value: 0.001972231490071863.\n",
      "[I 2024-10-29 22:47:21,204] Trial 32 finished with value: 0.002098321507219225 and parameters: {'num_layers': 1, 'hidden_size': 128, 'lstm_dropout': 0.09905738563899713, 'dense_dropout': 0.08069424203497469, 'learning_rate': 0.00038087156744340343}. Best is trial 2 with value: 0.001972231490071863.\n",
      "[I 2024-10-29 22:47:21,255] Trial 33 pruned. \n",
      "[I 2024-10-29 22:47:21,312] Trial 34 pruned. \n",
      "[I 2024-10-29 22:47:21,364] Trial 35 pruned. \n",
      "[I 2024-10-29 22:47:39,963] Trial 36 pruned. \n",
      "[I 2024-10-29 22:47:40,016] Trial 37 pruned. \n",
      "[I 2024-10-29 22:47:40,072] Trial 38 pruned. \n",
      "[I 2024-10-29 22:48:03,999] Trial 39 pruned. \n",
      "[I 2024-10-29 22:48:04,057] Trial 40 pruned. \n",
      "[I 2024-10-29 22:48:39,097] Trial 41 finished with value: 0.0023132874630391598 and parameters: {'num_layers': 1, 'hidden_size': 128, 'lstm_dropout': 0.07523292361947498, 'dense_dropout': 0.1220080980331593, 'learning_rate': 0.001310080343013262}. Best is trial 2 with value: 0.001972231490071863.\n",
      "[I 2024-10-29 22:49:14,109] Trial 42 finished with value: 0.0028732556384056807 and parameters: {'num_layers': 1, 'hidden_size': 120, 'lstm_dropout': 0.09200036784579252, 'dense_dropout': 0.15621600472009117, 'learning_rate': 0.0028947538707671133}. Best is trial 2 with value: 0.001972231490071863.\n",
      "[I 2024-10-29 22:49:48,316] Trial 43 finished with value: 0.0029677284182980657 and parameters: {'num_layers': 1, 'hidden_size': 112, 'lstm_dropout': 0.029906912842690127, 'dense_dropout': 0.19137867266997308, 'learning_rate': 0.0013876735175534058}. Best is trial 2 with value: 0.001972231490071863.\n",
      "[I 2024-10-29 22:49:48,382] Trial 44 pruned. \n",
      "[I 2024-10-29 22:50:22,913] Trial 45 finished with value: 0.002868903218768537 and parameters: {'num_layers': 1, 'hidden_size': 112, 'lstm_dropout': 0.002246789981368791, 'dense_dropout': 0.16087907856723896, 'learning_rate': 0.000740956462148687}. Best is trial 2 with value: 0.001972231490071863.\n",
      "[I 2024-10-29 22:50:23,058] Trial 46 pruned. \n",
      "[I 2024-10-29 22:50:23,123] Trial 47 pruned. \n",
      "[I 2024-10-29 22:50:23,176] Trial 48 pruned. \n",
      "[I 2024-10-29 22:50:23,232] Trial 49 pruned. \n",
      "[I 2024-10-29 22:50:23,296] Trial 50 pruned. \n",
      "[I 2024-10-29 22:50:23,869] Trial 51 pruned. \n",
      "[I 2024-10-29 22:50:23,922] Trial 52 pruned. \n",
      "[I 2024-10-29 22:50:23,973] Trial 53 pruned. \n",
      "[I 2024-10-29 22:50:57,429] Trial 54 finished with value: 0.0026290221139788628 and parameters: {'num_layers': 1, 'hidden_size': 120, 'lstm_dropout': 0.4732624003031292, 'dense_dropout': 0.17074787646796366, 'learning_rate': 0.0011522700212642264}. Best is trial 2 with value: 0.001972231490071863.\n",
      "[I 2024-10-29 22:50:57,479] Trial 55 pruned. \n",
      "[I 2024-10-29 22:50:57,530] Trial 56 pruned. \n",
      "[I 2024-10-29 22:51:32,468] Trial 57 finished with value: 0.003715551720233634 and parameters: {'num_layers': 1, 'hidden_size': 128, 'lstm_dropout': 0.06859730742126474, 'dense_dropout': 0.07850352805584432, 'learning_rate': 0.0021660826025718563}. Best is trial 2 with value: 0.001972231490071863.\n",
      "[I 2024-10-29 22:51:32,523] Trial 58 pruned. \n",
      "[I 2024-10-29 22:51:32,571] Trial 59 pruned. \n",
      "[I 2024-10-29 22:51:32,627] Trial 60 pruned. \n",
      "[I 2024-10-29 22:51:33,191] Trial 61 pruned. \n",
      "[I 2024-10-29 22:52:07,114] Trial 62 finished with value: 0.0027774226618930697 and parameters: {'num_layers': 1, 'hidden_size': 88, 'lstm_dropout': 0.33708584295972044, 'dense_dropout': 0.10498213713257404, 'learning_rate': 0.003557919229079558}. Best is trial 2 with value: 0.001972231490071863.\n",
      "[I 2024-10-29 22:52:07,327] Trial 63 pruned. \n",
      "[I 2024-10-29 22:52:07,382] Trial 64 pruned. \n",
      "[I 2024-10-29 22:52:07,434] Trial 65 pruned. \n",
      "[I 2024-10-29 22:52:07,527] Trial 66 pruned. \n",
      "[I 2024-10-29 22:52:07,663] Trial 67 pruned. \n",
      "[I 2024-10-29 22:52:07,820] Trial 68 pruned. \n",
      "[I 2024-10-29 22:52:07,873] Trial 69 pruned. \n",
      "[I 2024-10-29 22:52:07,940] Trial 70 pruned. \n",
      "[I 2024-10-29 22:52:08,929] Trial 71 pruned. \n",
      "[I 2024-10-29 22:52:08,990] Trial 72 pruned. \n",
      "[I 2024-10-29 22:52:43,072] Trial 73 finished with value: 0.0019800566078629345 and parameters: {'num_layers': 1, 'hidden_size': 120, 'lstm_dropout': 0.4803928604281078, 'dense_dropout': 0.18474173226042004, 'learning_rate': 0.0020374667865505095}. Best is trial 2 with value: 0.001972231490071863.\n",
      "[I 2024-10-29 22:53:17,167] Trial 74 finished with value: 0.0029722865438088775 and parameters: {'num_layers': 1, 'hidden_size': 128, 'lstm_dropout': 0.4908560339392312, 'dense_dropout': 0.19980960699570977, 'learning_rate': 0.002157648114155211}. Best is trial 2 with value: 0.001972231490071863.\n",
      "[I 2024-10-29 22:53:52,391] Trial 75 finished with value: 0.002621364896185696 and parameters: {'num_layers': 1, 'hidden_size': 120, 'lstm_dropout': 0.0021054131207904406, 'dense_dropout': 0.23442915211864748, 'learning_rate': 0.0037124427009617485}. Best is trial 2 with value: 0.001972231490071863.\n",
      "[I 2024-10-29 22:53:52,443] Trial 76 pruned. \n",
      "[I 2024-10-29 22:53:52,505] Trial 77 pruned. \n",
      "[I 2024-10-29 22:53:52,559] Trial 78 pruned. \n",
      "[I 2024-10-29 22:53:52,615] Trial 79 pruned. \n",
      "[I 2024-10-29 22:53:52,668] Trial 80 pruned. \n",
      "[I 2024-10-29 22:54:27,995] Trial 81 finished with value: 0.002568301744759083 and parameters: {'num_layers': 1, 'hidden_size': 120, 'lstm_dropout': 0.00929698764661746, 'dense_dropout': 0.19228167882773678, 'learning_rate': 0.0040715554034713814}. Best is trial 2 with value: 0.001972231490071863.\n",
      "[I 2024-10-29 22:54:28,308] Trial 82 pruned. \n",
      "[I 2024-10-29 22:55:04,267] Trial 83 finished with value: 0.0033542115706950426 and parameters: {'num_layers': 1, 'hidden_size': 120, 'lstm_dropout': 0.054738673103112145, 'dense_dropout': 0.2159714727649792, 'learning_rate': 0.005082766641098851}. Best is trial 2 with value: 0.001972231490071863.\n",
      "[I 2024-10-29 22:55:04,326] Trial 84 pruned. \n",
      "[I 2024-10-29 22:55:04,377] Trial 85 pruned. \n",
      "[I 2024-10-29 22:55:04,429] Trial 86 pruned. \n",
      "[I 2024-10-29 22:55:39,272] Trial 87 finished with value: 0.0033512140507809818 and parameters: {'num_layers': 1, 'hidden_size': 64, 'lstm_dropout': 0.03834607785957931, 'dense_dropout': 0.15171109783109257, 'learning_rate': 0.0022684811813275135}. Best is trial 2 with value: 0.001972231490071863.\n",
      "[I 2024-10-29 22:55:39,411] Trial 88 pruned. \n",
      "[I 2024-10-29 22:55:39,498] Trial 89 pruned. \n",
      "[I 2024-10-29 22:55:39,584] Trial 90 pruned. \n",
      "[I 2024-10-29 22:56:13,870] Trial 91 finished with value: 0.0035510981688275933 and parameters: {'num_layers': 1, 'hidden_size': 120, 'lstm_dropout': 0.0008491684285335524, 'dense_dropout': 0.2314155584326569, 'learning_rate': 0.0036317680963610585}. Best is trial 2 with value: 0.001972231490071863.\n",
      "[I 2024-10-29 22:56:49,322] Trial 92 finished with value: 0.0034198807552456856 and parameters: {'num_layers': 1, 'hidden_size': 120, 'lstm_dropout': 0.011614045510833988, 'dense_dropout': 0.25327619368717624, 'learning_rate': 0.0014280140904072928}. Best is trial 2 with value: 0.001972231490071863.\n",
      "[I 2024-10-29 22:57:22,944] Trial 93 finished with value: 0.0036006667651236057 and parameters: {'num_layers': 1, 'hidden_size': 112, 'lstm_dropout': 0.04217946134288988, 'dense_dropout': 0.23218151802726925, 'learning_rate': 0.003382288770396936}. Best is trial 2 with value: 0.001972231490071863.\n",
      "[I 2024-10-29 22:57:23,033] Trial 94 pruned. \n",
      "[I 2024-10-29 22:57:57,673] Trial 95 finished with value: 0.0035533049376681447 and parameters: {'num_layers': 1, 'hidden_size': 120, 'lstm_dropout': 0.2782474034387335, 'dense_dropout': 0.18126731379527894, 'learning_rate': 0.0039377299855407385}. Best is trial 2 with value: 0.001972231490071863.\n",
      "[I 2024-10-29 22:57:57,733] Trial 96 pruned. \n",
      "[I 2024-10-29 22:57:57,819] Trial 97 pruned. \n",
      "[I 2024-10-29 22:57:57,875] Trial 98 pruned. \n",
      "[I 2024-10-29 22:57:57,930] Trial 99 pruned. \n"
     ]
    },
    {
     "name": "stdout",
     "output_type": "stream",
     "text": [
      "Study statistics: \n",
      "  Number of finished trials:  100\n",
      "  Number of pruned trials:  70\n",
      "  Number of complete trials:  30\n",
      "Best trial:\n",
      "  Value:  0.001972231490071863\n",
      "  Params: \n",
      "    num_layers: 1\n",
      "    hidden_size: 80\n",
      "    lstm_dropout: 0.34530878336518434\n",
      "    dense_dropout: 0.1498964807481422\n",
      "    learning_rate: 0.00019657545260686287\n",
      "R2 for sim at Tangnaihai(1972-2018) 0.8853748199047432\n",
      "R2 for pred at Tangnaihai(2015-2019) 0.4602824174000758\n"
     ]
    },
    {
     "data": {
      "application/vnd.plotly.v1+json": {
       "config": {
        "plotlyServerURL": "https://plot.ly"
       },
       "data": [
        {
         "mode": "lines",
         "name": "obs",
         "type": "scatter",
         "x": [
          "2015-01-01T00:00:00",
          "2015-02-01T00:00:00",
          "2015-03-01T00:00:00",
          "2015-04-01T00:00:00",
          "2015-05-01T00:00:00",
          "2015-06-01T00:00:00",
          "2015-07-01T00:00:00",
          "2015-08-01T00:00:00",
          "2015-09-01T00:00:00",
          "2015-10-01T00:00:00",
          "2015-11-01T00:00:00",
          "2015-12-01T00:00:00",
          "2016-01-01T00:00:00",
          "2016-02-01T00:00:00",
          "2016-03-01T00:00:00",
          "2016-04-01T00:00:00",
          "2016-05-01T00:00:00",
          "2016-06-01T00:00:00",
          "2016-07-01T00:00:00",
          "2016-08-01T00:00:00",
          "2016-09-01T00:00:00",
          "2016-10-01T00:00:00",
          "2016-11-01T00:00:00",
          "2016-12-01T00:00:00",
          "2017-01-01T00:00:00",
          "2017-02-01T00:00:00",
          "2017-03-01T00:00:00",
          "2017-04-01T00:00:00",
          "2017-05-01T00:00:00",
          "2017-06-01T00:00:00",
          "2017-07-01T00:00:00",
          "2017-08-01T00:00:00",
          "2017-09-01T00:00:00",
          "2017-10-01T00:00:00",
          "2017-11-01T00:00:00",
          "2017-12-01T00:00:00",
          "2018-01-01T00:00:00",
          "2018-02-01T00:00:00",
          "2018-03-01T00:00:00",
          "2018-04-01T00:00:00",
          "2018-05-01T00:00:00",
          "2018-06-01T00:00:00",
          "2018-07-01T00:00:00",
          "2018-08-01T00:00:00",
          "2018-09-01T00:00:00",
          "2018-10-01T00:00:00",
          "2018-11-01T00:00:00",
          "2018-12-01T00:00:00",
          "2019-01-01T00:00:00",
          "2019-02-01T00:00:00",
          "2019-03-01T00:00:00",
          "2019-04-01T00:00:00",
          "2019-05-01T00:00:00",
          "2019-06-01T00:00:00",
          "2019-07-01T00:00:00",
          "2019-08-01T00:00:00",
          "2019-09-01T00:00:00",
          "2019-10-01T00:00:00",
          "2019-11-01T00:00:00",
          "2019-12-01T00:00:00"
         ],
         "y": [
          224.5806451612902,
          210.24999999999986,
          253.90322580645127,
          286.19999999999993,
          336.4838709999998,
          764.8333333333333,
          1273.4193549999998,
          479.1290322580644,
          663.3666666666664,
          700.3225806451612,
          349.99999999999983,
          205.70967741935465,
          137.9032258064513,
          140.1379310344827,
          197.8387096774193,
          308.59999999999997,
          477.4193548387097,
          620.5666666666665,
          707.5161289999999,
          548.322580645161,
          641.3999999999997,
          768.6774193548384,
          395.1,
          223.1612903225804,
          150.70967741935473,
          163.10714285714272,
          198.1612903225805,
          306.8333333333332,
          397.2258064516129,
          932.7999999999996,
          604.516129,
          583.3225806451611,
          1195.6666666666667,
          1538.7096774193549,
          680.3333333333334,
          313.0967741935484,
          187.99999999999994,
          177.10714285714283,
          221.54838709677415,
          413.3333333333331,
          831.0967741935483,
          1062.833333333333,
          2295.483870967742,
          1298.387096774194,
          2098.333333333333,
          1399.193548387097,
          692.7666666666663,
          345.80645161290295,
          264.1290322580645,
          270.1785714285712,
          298.12903225806446,
          564.5333333333331,
          825,
          1689.1333333333332,
          2184.8387096774195,
          1497.096774193548,
          1759.6666666666663,
          1367.3870967741934,
          721.1666666666665,
          324.5483870967741
         ]
        },
        {
         "mode": "lines",
         "name": "pred",
         "type": "scatter",
         "x": [
          "2015-01-01T00:00:00",
          "2015-02-01T00:00:00",
          "2015-03-01T00:00:00",
          "2015-04-01T00:00:00",
          "2015-05-01T00:00:00",
          "2015-06-01T00:00:00",
          "2015-07-01T00:00:00",
          "2015-08-01T00:00:00",
          "2015-09-01T00:00:00",
          "2015-10-01T00:00:00",
          "2015-11-01T00:00:00",
          "2015-12-01T00:00:00",
          "2016-01-01T00:00:00",
          "2016-02-01T00:00:00",
          "2016-03-01T00:00:00",
          "2016-04-01T00:00:00",
          "2016-05-01T00:00:00",
          "2016-06-01T00:00:00",
          "2016-07-01T00:00:00",
          "2016-08-01T00:00:00",
          "2016-09-01T00:00:00",
          "2016-10-01T00:00:00",
          "2016-11-01T00:00:00",
          "2016-12-01T00:00:00",
          "2017-01-01T00:00:00",
          "2017-02-01T00:00:00",
          "2017-03-01T00:00:00",
          "2017-04-01T00:00:00",
          "2017-05-01T00:00:00",
          "2017-06-01T00:00:00",
          "2017-07-01T00:00:00",
          "2017-08-01T00:00:00",
          "2017-09-01T00:00:00",
          "2017-10-01T00:00:00",
          "2017-11-01T00:00:00",
          "2017-12-01T00:00:00",
          "2018-01-01T00:00:00",
          "2018-02-01T00:00:00",
          "2018-03-01T00:00:00",
          "2018-04-01T00:00:00",
          "2018-05-01T00:00:00",
          "2018-06-01T00:00:00",
          "2018-07-01T00:00:00",
          "2018-08-01T00:00:00",
          "2018-09-01T00:00:00",
          "2018-10-01T00:00:00",
          "2018-11-01T00:00:00",
          "2018-12-01T00:00:00",
          "2019-01-01T00:00:00",
          "2019-02-01T00:00:00",
          "2019-03-01T00:00:00",
          "2019-04-01T00:00:00",
          "2019-05-01T00:00:00",
          "2019-06-01T00:00:00",
          "2019-07-01T00:00:00",
          "2019-08-01T00:00:00",
          "2019-09-01T00:00:00",
          "2019-10-01T00:00:00",
          "2019-11-01T00:00:00",
          "2019-12-01T00:00:00"
         ],
         "y": [
          226.78988647460938,
          228.5859375,
          228.50242614746094,
          393.2527160644531,
          703.5010375976562,
          920.6844482421875,
          2178.873291015625,
          1512.18798828125,
          1264.04296875,
          1397.1104736328125,
          580.1680297851562,
          304.1831359863281,
          114.44693756103516,
          145.5364227294922,
          230.78652954101562,
          349.7562561035156,
          524.283203125,
          750.3480224609375,
          1017.717529296875,
          1080.701171875,
          908.9121704101562,
          696.9398193359375,
          420.3258361816406,
          227.8740997314453,
          164.0780487060547,
          187.8993682861328,
          249.82508850097656,
          342.4178771972656,
          413.5161437988281,
          653.8994750976562,
          820.4623413085938,
          939.5390625,
          1264.8311767578125,
          1116.75732421875,
          555.406982421875,
          257.2306823730469,
          167.36460876464844,
          157.78611755371094,
          223.52581787109375,
          314.6591491699219,
          411.3865661621094,
          631.1395874023438,
          1520.5245361328125,
          648.1428833007812,
          1239.7506103515625,
          716.9530639648438,
          461.7285461425781,
          244.73497009277344,
          264.77154541015625,
          242.38453674316406,
          315.0411682128906,
          404.4635925292969,
          641.0787353515625,
          913.4758911132812,
          1168.26953125,
          953.73095703125,
          973.3347778320312,
          746.8172607421875,
          373.5977783203125,
          204.48126220703125
         ]
        }
       ],
       "layout": {
        "template": {
         "data": {
          "bar": [
           {
            "error_x": {
             "color": "#2a3f5f"
            },
            "error_y": {
             "color": "#2a3f5f"
            },
            "marker": {
             "line": {
              "color": "white",
              "width": 0.5
             },
             "pattern": {
              "fillmode": "overlay",
              "size": 10,
              "solidity": 0.2
             }
            },
            "type": "bar"
           }
          ],
          "barpolar": [
           {
            "marker": {
             "line": {
              "color": "white",
              "width": 0.5
             },
             "pattern": {
              "fillmode": "overlay",
              "size": 10,
              "solidity": 0.2
             }
            },
            "type": "barpolar"
           }
          ],
          "carpet": [
           {
            "aaxis": {
             "endlinecolor": "#2a3f5f",
             "gridcolor": "#C8D4E3",
             "linecolor": "#C8D4E3",
             "minorgridcolor": "#C8D4E3",
             "startlinecolor": "#2a3f5f"
            },
            "baxis": {
             "endlinecolor": "#2a3f5f",
             "gridcolor": "#C8D4E3",
             "linecolor": "#C8D4E3",
             "minorgridcolor": "#C8D4E3",
             "startlinecolor": "#2a3f5f"
            },
            "type": "carpet"
           }
          ],
          "choropleth": [
           {
            "colorbar": {
             "outlinewidth": 0,
             "ticks": ""
            },
            "type": "choropleth"
           }
          ],
          "contour": [
           {
            "colorbar": {
             "outlinewidth": 0,
             "ticks": ""
            },
            "colorscale": [
             [
              0,
              "#0d0887"
             ],
             [
              0.1111111111111111,
              "#46039f"
             ],
             [
              0.2222222222222222,
              "#7201a8"
             ],
             [
              0.3333333333333333,
              "#9c179e"
             ],
             [
              0.4444444444444444,
              "#bd3786"
             ],
             [
              0.5555555555555556,
              "#d8576b"
             ],
             [
              0.6666666666666666,
              "#ed7953"
             ],
             [
              0.7777777777777778,
              "#fb9f3a"
             ],
             [
              0.8888888888888888,
              "#fdca26"
             ],
             [
              1,
              "#f0f921"
             ]
            ],
            "type": "contour"
           }
          ],
          "contourcarpet": [
           {
            "colorbar": {
             "outlinewidth": 0,
             "ticks": ""
            },
            "type": "contourcarpet"
           }
          ],
          "heatmap": [
           {
            "colorbar": {
             "outlinewidth": 0,
             "ticks": ""
            },
            "colorscale": [
             [
              0,
              "#0d0887"
             ],
             [
              0.1111111111111111,
              "#46039f"
             ],
             [
              0.2222222222222222,
              "#7201a8"
             ],
             [
              0.3333333333333333,
              "#9c179e"
             ],
             [
              0.4444444444444444,
              "#bd3786"
             ],
             [
              0.5555555555555556,
              "#d8576b"
             ],
             [
              0.6666666666666666,
              "#ed7953"
             ],
             [
              0.7777777777777778,
              "#fb9f3a"
             ],
             [
              0.8888888888888888,
              "#fdca26"
             ],
             [
              1,
              "#f0f921"
             ]
            ],
            "type": "heatmap"
           }
          ],
          "heatmapgl": [
           {
            "colorbar": {
             "outlinewidth": 0,
             "ticks": ""
            },
            "colorscale": [
             [
              0,
              "#0d0887"
             ],
             [
              0.1111111111111111,
              "#46039f"
             ],
             [
              0.2222222222222222,
              "#7201a8"
             ],
             [
              0.3333333333333333,
              "#9c179e"
             ],
             [
              0.4444444444444444,
              "#bd3786"
             ],
             [
              0.5555555555555556,
              "#d8576b"
             ],
             [
              0.6666666666666666,
              "#ed7953"
             ],
             [
              0.7777777777777778,
              "#fb9f3a"
             ],
             [
              0.8888888888888888,
              "#fdca26"
             ],
             [
              1,
              "#f0f921"
             ]
            ],
            "type": "heatmapgl"
           }
          ],
          "histogram": [
           {
            "marker": {
             "pattern": {
              "fillmode": "overlay",
              "size": 10,
              "solidity": 0.2
             }
            },
            "type": "histogram"
           }
          ],
          "histogram2d": [
           {
            "colorbar": {
             "outlinewidth": 0,
             "ticks": ""
            },
            "colorscale": [
             [
              0,
              "#0d0887"
             ],
             [
              0.1111111111111111,
              "#46039f"
             ],
             [
              0.2222222222222222,
              "#7201a8"
             ],
             [
              0.3333333333333333,
              "#9c179e"
             ],
             [
              0.4444444444444444,
              "#bd3786"
             ],
             [
              0.5555555555555556,
              "#d8576b"
             ],
             [
              0.6666666666666666,
              "#ed7953"
             ],
             [
              0.7777777777777778,
              "#fb9f3a"
             ],
             [
              0.8888888888888888,
              "#fdca26"
             ],
             [
              1,
              "#f0f921"
             ]
            ],
            "type": "histogram2d"
           }
          ],
          "histogram2dcontour": [
           {
            "colorbar": {
             "outlinewidth": 0,
             "ticks": ""
            },
            "colorscale": [
             [
              0,
              "#0d0887"
             ],
             [
              0.1111111111111111,
              "#46039f"
             ],
             [
              0.2222222222222222,
              "#7201a8"
             ],
             [
              0.3333333333333333,
              "#9c179e"
             ],
             [
              0.4444444444444444,
              "#bd3786"
             ],
             [
              0.5555555555555556,
              "#d8576b"
             ],
             [
              0.6666666666666666,
              "#ed7953"
             ],
             [
              0.7777777777777778,
              "#fb9f3a"
             ],
             [
              0.8888888888888888,
              "#fdca26"
             ],
             [
              1,
              "#f0f921"
             ]
            ],
            "type": "histogram2dcontour"
           }
          ],
          "mesh3d": [
           {
            "colorbar": {
             "outlinewidth": 0,
             "ticks": ""
            },
            "type": "mesh3d"
           }
          ],
          "parcoords": [
           {
            "line": {
             "colorbar": {
              "outlinewidth": 0,
              "ticks": ""
             }
            },
            "type": "parcoords"
           }
          ],
          "pie": [
           {
            "automargin": true,
            "type": "pie"
           }
          ],
          "scatter": [
           {
            "fillpattern": {
             "fillmode": "overlay",
             "size": 10,
             "solidity": 0.2
            },
            "type": "scatter"
           }
          ],
          "scatter3d": [
           {
            "line": {
             "colorbar": {
              "outlinewidth": 0,
              "ticks": ""
             }
            },
            "marker": {
             "colorbar": {
              "outlinewidth": 0,
              "ticks": ""
             }
            },
            "type": "scatter3d"
           }
          ],
          "scattercarpet": [
           {
            "marker": {
             "colorbar": {
              "outlinewidth": 0,
              "ticks": ""
             }
            },
            "type": "scattercarpet"
           }
          ],
          "scattergeo": [
           {
            "marker": {
             "colorbar": {
              "outlinewidth": 0,
              "ticks": ""
             }
            },
            "type": "scattergeo"
           }
          ],
          "scattergl": [
           {
            "marker": {
             "colorbar": {
              "outlinewidth": 0,
              "ticks": ""
             }
            },
            "type": "scattergl"
           }
          ],
          "scattermapbox": [
           {
            "marker": {
             "colorbar": {
              "outlinewidth": 0,
              "ticks": ""
             }
            },
            "type": "scattermapbox"
           }
          ],
          "scatterpolar": [
           {
            "marker": {
             "colorbar": {
              "outlinewidth": 0,
              "ticks": ""
             }
            },
            "type": "scatterpolar"
           }
          ],
          "scatterpolargl": [
           {
            "marker": {
             "colorbar": {
              "outlinewidth": 0,
              "ticks": ""
             }
            },
            "type": "scatterpolargl"
           }
          ],
          "scatterternary": [
           {
            "marker": {
             "colorbar": {
              "outlinewidth": 0,
              "ticks": ""
             }
            },
            "type": "scatterternary"
           }
          ],
          "surface": [
           {
            "colorbar": {
             "outlinewidth": 0,
             "ticks": ""
            },
            "colorscale": [
             [
              0,
              "#0d0887"
             ],
             [
              0.1111111111111111,
              "#46039f"
             ],
             [
              0.2222222222222222,
              "#7201a8"
             ],
             [
              0.3333333333333333,
              "#9c179e"
             ],
             [
              0.4444444444444444,
              "#bd3786"
             ],
             [
              0.5555555555555556,
              "#d8576b"
             ],
             [
              0.6666666666666666,
              "#ed7953"
             ],
             [
              0.7777777777777778,
              "#fb9f3a"
             ],
             [
              0.8888888888888888,
              "#fdca26"
             ],
             [
              1,
              "#f0f921"
             ]
            ],
            "type": "surface"
           }
          ],
          "table": [
           {
            "cells": {
             "fill": {
              "color": "#EBF0F8"
             },
             "line": {
              "color": "white"
             }
            },
            "header": {
             "fill": {
              "color": "#C8D4E3"
             },
             "line": {
              "color": "white"
             }
            },
            "type": "table"
           }
          ]
         },
         "layout": {
          "annotationdefaults": {
           "arrowcolor": "#2a3f5f",
           "arrowhead": 0,
           "arrowwidth": 1
          },
          "autotypenumbers": "strict",
          "coloraxis": {
           "colorbar": {
            "outlinewidth": 0,
            "ticks": ""
           }
          },
          "colorscale": {
           "diverging": [
            [
             0,
             "#8e0152"
            ],
            [
             0.1,
             "#c51b7d"
            ],
            [
             0.2,
             "#de77ae"
            ],
            [
             0.3,
             "#f1b6da"
            ],
            [
             0.4,
             "#fde0ef"
            ],
            [
             0.5,
             "#f7f7f7"
            ],
            [
             0.6,
             "#e6f5d0"
            ],
            [
             0.7,
             "#b8e186"
            ],
            [
             0.8,
             "#7fbc41"
            ],
            [
             0.9,
             "#4d9221"
            ],
            [
             1,
             "#276419"
            ]
           ],
           "sequential": [
            [
             0,
             "#0d0887"
            ],
            [
             0.1111111111111111,
             "#46039f"
            ],
            [
             0.2222222222222222,
             "#7201a8"
            ],
            [
             0.3333333333333333,
             "#9c179e"
            ],
            [
             0.4444444444444444,
             "#bd3786"
            ],
            [
             0.5555555555555556,
             "#d8576b"
            ],
            [
             0.6666666666666666,
             "#ed7953"
            ],
            [
             0.7777777777777778,
             "#fb9f3a"
            ],
            [
             0.8888888888888888,
             "#fdca26"
            ],
            [
             1,
             "#f0f921"
            ]
           ],
           "sequentialminus": [
            [
             0,
             "#0d0887"
            ],
            [
             0.1111111111111111,
             "#46039f"
            ],
            [
             0.2222222222222222,
             "#7201a8"
            ],
            [
             0.3333333333333333,
             "#9c179e"
            ],
            [
             0.4444444444444444,
             "#bd3786"
            ],
            [
             0.5555555555555556,
             "#d8576b"
            ],
            [
             0.6666666666666666,
             "#ed7953"
            ],
            [
             0.7777777777777778,
             "#fb9f3a"
            ],
            [
             0.8888888888888888,
             "#fdca26"
            ],
            [
             1,
             "#f0f921"
            ]
           ]
          },
          "colorway": [
           "#636efa",
           "#EF553B",
           "#00cc96",
           "#ab63fa",
           "#FFA15A",
           "#19d3f3",
           "#FF6692",
           "#B6E880",
           "#FF97FF",
           "#FECB52"
          ],
          "font": {
           "color": "#2a3f5f"
          },
          "geo": {
           "bgcolor": "white",
           "lakecolor": "white",
           "landcolor": "white",
           "showlakes": true,
           "showland": true,
           "subunitcolor": "#C8D4E3"
          },
          "hoverlabel": {
           "align": "left"
          },
          "hovermode": "closest",
          "mapbox": {
           "style": "light"
          },
          "paper_bgcolor": "white",
          "plot_bgcolor": "white",
          "polar": {
           "angularaxis": {
            "gridcolor": "#EBF0F8",
            "linecolor": "#EBF0F8",
            "ticks": ""
           },
           "bgcolor": "white",
           "radialaxis": {
            "gridcolor": "#EBF0F8",
            "linecolor": "#EBF0F8",
            "ticks": ""
           }
          },
          "scene": {
           "xaxis": {
            "backgroundcolor": "white",
            "gridcolor": "#DFE8F3",
            "gridwidth": 2,
            "linecolor": "#EBF0F8",
            "showbackground": true,
            "ticks": "",
            "zerolinecolor": "#EBF0F8"
           },
           "yaxis": {
            "backgroundcolor": "white",
            "gridcolor": "#DFE8F3",
            "gridwidth": 2,
            "linecolor": "#EBF0F8",
            "showbackground": true,
            "ticks": "",
            "zerolinecolor": "#EBF0F8"
           },
           "zaxis": {
            "backgroundcolor": "white",
            "gridcolor": "#DFE8F3",
            "gridwidth": 2,
            "linecolor": "#EBF0F8",
            "showbackground": true,
            "ticks": "",
            "zerolinecolor": "#EBF0F8"
           }
          },
          "shapedefaults": {
           "line": {
            "color": "#2a3f5f"
           }
          },
          "ternary": {
           "aaxis": {
            "gridcolor": "#DFE8F3",
            "linecolor": "#A2B1C6",
            "ticks": ""
           },
           "baxis": {
            "gridcolor": "#DFE8F3",
            "linecolor": "#A2B1C6",
            "ticks": ""
           },
           "bgcolor": "white",
           "caxis": {
            "gridcolor": "#DFE8F3",
            "linecolor": "#A2B1C6",
            "ticks": ""
           }
          },
          "title": {
           "x": 0.05
          },
          "xaxis": {
           "automargin": true,
           "gridcolor": "#EBF0F8",
           "linecolor": "#EBF0F8",
           "ticks": "",
           "title": {
            "standoff": 15
           },
           "zerolinecolor": "#EBF0F8",
           "zerolinewidth": 2
          },
          "yaxis": {
           "automargin": true,
           "gridcolor": "#EBF0F8",
           "linecolor": "#EBF0F8",
           "ticks": "",
           "title": {
            "standoff": 15
           },
           "zerolinecolor": "#EBF0F8",
           "zerolinewidth": 2
          }
         }
        }
       }
      }
     },
     "metadata": {},
     "output_type": "display_data"
    },
    {
     "name": "stderr",
     "output_type": "stream",
     "text": [
      "[I 2024-10-29 22:57:58,041] A new study created in memory with name: example-study\n"
     ]
    },
    {
     "name": "stdout",
     "output_type": "stream",
     "text": [
      "Warning: ARIMASimFlow column not found in data for Guide station, year 2015\n"
     ]
    },
    {
     "name": "stderr",
     "output_type": "stream",
     "text": [
      "[I 2024-10-29 22:58:30,224] Trial 0 finished with value: 0.005039786221459508 and parameters: {'num_layers': 2, 'hidden_size': 128, 'lstm_dropout': 0.3837979405429701, 'dense_dropout': 0.2102781384593898, 'learning_rate': 0.006051763688131922}. Best is trial 0 with value: 0.005039786221459508.\n",
      "[I 2024-10-29 22:59:07,513] Trial 1 finished with value: 0.011875613126903772 and parameters: {'num_layers': 3, 'hidden_size': 72, 'lstm_dropout': 0.23994410395064242, 'dense_dropout': 0.3192583117320796, 'learning_rate': 0.010256104125578718}. Best is trial 0 with value: 0.005039786221459508.\n",
      "[I 2024-10-29 22:59:37,164] Trial 2 finished with value: 0.009165474213659763 and parameters: {'num_layers': 1, 'hidden_size': 8, 'lstm_dropout': 0.2444265249505156, 'dense_dropout': 0.23050712083876002, 'learning_rate': 0.018044505160684808}. Best is trial 0 with value: 0.005039786221459508.\n",
      "[I 2024-10-29 23:00:08,739] Trial 3 finished with value: 0.011563865002244711 and parameters: {'num_layers': 1, 'hidden_size': 80, 'lstm_dropout': 0.05968945174568846, 'dense_dropout': 0.40277679678866046, 'learning_rate': 3.724596069187073e-05}. Best is trial 0 with value: 0.005039786221459508.\n",
      "[I 2024-10-29 23:00:45,849] Trial 4 finished with value: 0.00521690514869988 and parameters: {'num_layers': 3, 'hidden_size': 128, 'lstm_dropout': 0.12184156613232394, 'dense_dropout': 0.2708802363294137, 'learning_rate': 0.00017775034093575699}. Best is trial 0 with value: 0.005039786221459508.\n",
      "[I 2024-10-29 23:00:45,913] Trial 5 pruned. \n",
      "[I 2024-10-29 23:00:45,961] Trial 6 pruned. \n",
      "[I 2024-10-29 23:00:45,994] Trial 7 pruned. \n",
      "[I 2024-10-29 23:00:46,030] Trial 8 pruned. \n",
      "[I 2024-10-29 23:00:46,073] Trial 9 pruned. \n",
      "[I 2024-10-29 23:01:19,761] Trial 10 finished with value: 0.003225579741410911 and parameters: {'num_layers': 2, 'hidden_size': 104, 'lstm_dropout': 0.49773452841074667, 'dense_dropout': 0.014656320991481286, 'learning_rate': 0.002162327086916709}. Best is trial 10 with value: 0.003225579741410911.\n",
      "[I 2024-10-29 23:01:52,580] Trial 11 finished with value: 0.004329266608692706 and parameters: {'num_layers': 2, 'hidden_size': 104, 'lstm_dropout': 0.49420015929237787, 'dense_dropout': 0.010508521232589366, 'learning_rate': 0.0026905173408594226}. Best is trial 10 with value: 0.003225579741410911.\n",
      "[I 2024-10-29 23:02:26,820] Trial 12 finished with value: 0.003994709113612771 and parameters: {'num_layers': 2, 'hidden_size': 104, 'lstm_dropout': 0.48493238611190675, 'dense_dropout': 0.05574601268339322, 'learning_rate': 0.002386231736517629}. Best is trial 10 with value: 0.003225579741410911.\n",
      "[I 2024-10-29 23:02:59,819] Trial 13 finished with value: 0.005103420757222921 and parameters: {'num_layers': 2, 'hidden_size': 96, 'lstm_dropout': 0.47111537250431124, 'dense_dropout': 0.017153053863104218, 'learning_rate': 0.00247230024781773}. Best is trial 10 with value: 0.003225579741410911.\n",
      "[I 2024-10-29 23:02:59,868] Trial 14 pruned. \n",
      "[I 2024-10-29 23:02:59,921] Trial 15 pruned. \n",
      "[I 2024-10-29 23:02:59,971] Trial 16 pruned. \n",
      "[I 2024-10-29 23:03:00,024] Trial 17 pruned. \n",
      "[I 2024-10-29 23:03:00,096] Trial 18 pruned. \n",
      "[I 2024-10-29 23:03:33,134] Trial 19 finished with value: 0.0026580728590488434 and parameters: {'num_layers': 2, 'hidden_size': 112, 'lstm_dropout': 0.003848664316464967, 'dense_dropout': 0.07552370439084084, 'learning_rate': 0.0076739418805847155}. Best is trial 19 with value: 0.0026580728590488434.\n",
      "[I 2024-10-29 23:03:33,187] Trial 20 pruned. \n",
      "[I 2024-10-29 23:04:05,693] Trial 21 finished with value: 0.0030325254192575812 and parameters: {'num_layers': 2, 'hidden_size': 112, 'lstm_dropout': 0.0013288249496736263, 'dense_dropout': 0.09397575638006786, 'learning_rate': 0.006226345884137111}. Best is trial 19 with value: 0.0026580728590488434.\n",
      "[I 2024-10-29 23:04:05,817] Trial 22 pruned. \n",
      "[I 2024-10-29 23:04:05,866] Trial 23 pruned. \n",
      "[I 2024-10-29 23:04:05,951] Trial 24 pruned. \n",
      "[I 2024-10-29 23:04:06,003] Trial 25 pruned. \n",
      "[I 2024-10-29 23:04:06,049] Trial 26 pruned. \n",
      "[I 2024-10-29 23:04:06,100] Trial 27 pruned. \n",
      "[I 2024-10-29 23:04:06,150] Trial 28 pruned. \n",
      "[I 2024-10-29 23:04:06,247] Trial 29 pruned. \n",
      "[I 2024-10-29 23:04:06,300] Trial 30 pruned. \n",
      "[I 2024-10-29 23:04:06,375] Trial 31 pruned. \n",
      "[I 2024-10-29 23:04:06,526] Trial 32 pruned. \n",
      "[I 2024-10-29 23:04:06,607] Trial 33 pruned. \n",
      "[I 2024-10-29 23:04:06,708] Trial 34 pruned. \n",
      "[I 2024-10-29 23:04:06,801] Trial 35 pruned. \n",
      "[I 2024-10-29 23:04:06,889] Trial 36 pruned. \n",
      "[I 2024-10-29 23:04:06,954] Trial 37 pruned. \n",
      "[I 2024-10-29 23:04:37,712] Trial 38 finished with value: 0.0020101724367123097 and parameters: {'num_layers': 1, 'hidden_size': 96, 'lstm_dropout': 0.14905744324514042, 'dense_dropout': 0.09600460440345805, 'learning_rate': 0.009122659926681924}. Best is trial 38 with value: 0.0020101724367123097.\n",
      "[I 2024-10-29 23:04:37,788] Trial 39 pruned. \n",
      "[I 2024-10-29 23:04:37,874] Trial 40 pruned. \n",
      "[I 2024-10-29 23:04:38,351] Trial 41 pruned. \n",
      "[I 2024-10-29 23:04:38,412] Trial 42 pruned. \n",
      "[I 2024-10-29 23:04:38,488] Trial 43 pruned. \n",
      "[I 2024-10-29 23:04:38,535] Trial 44 pruned. \n",
      "[I 2024-10-29 23:04:38,602] Trial 45 pruned. \n",
      "[I 2024-10-29 23:04:38,653] Trial 46 pruned. \n",
      "[I 2024-10-29 23:04:38,706] Trial 47 pruned. \n",
      "[I 2024-10-29 23:04:38,759] Trial 48 pruned. \n",
      "[I 2024-10-29 23:04:39,006] Trial 49 pruned. \n",
      "[I 2024-10-29 23:04:39,059] Trial 50 pruned. \n",
      "[I 2024-10-29 23:04:39,194] Trial 51 pruned. \n",
      "[I 2024-10-29 23:04:39,320] Trial 52 pruned. \n",
      "[I 2024-10-29 23:04:39,371] Trial 53 pruned. \n",
      "[I 2024-10-29 23:05:12,919] Trial 54 finished with value: 0.0031833904795348644 and parameters: {'num_layers': 2, 'hidden_size': 88, 'lstm_dropout': 0.42171122825832963, 'dense_dropout': 0.002536715593353677, 'learning_rate': 0.003248543345345537}. Best is trial 38 with value: 0.0020101724367123097.\n",
      "[I 2024-10-29 23:05:13,215] Trial 55 pruned. \n",
      "[I 2024-10-29 23:05:13,333] Trial 56 pruned. \n",
      "[I 2024-10-29 23:05:47,869] Trial 57 finished with value: 0.002281846827827394 and parameters: {'num_layers': 2, 'hidden_size': 96, 'lstm_dropout': 0.26432187274454216, 'dense_dropout': 0.046406962989258005, 'learning_rate': 0.010601652220937155}. Best is trial 38 with value: 0.0020101724367123097.\n",
      "[I 2024-10-29 23:05:47,931] Trial 58 pruned. \n",
      "[I 2024-10-29 23:05:47,984] Trial 59 pruned. \n",
      "[I 2024-10-29 23:05:48,045] Trial 60 pruned. \n",
      "[I 2024-10-29 23:06:22,579] Trial 61 finished with value: 0.004329649033024907 and parameters: {'num_layers': 2, 'hidden_size': 96, 'lstm_dropout': 0.44798454515115793, 'dense_dropout': 0.06498247477845948, 'learning_rate': 0.003156123731228198}. Best is trial 38 with value: 0.0020101724367123097.\n",
      "[I 2024-10-29 23:06:22,634] Trial 62 pruned. \n",
      "[I 2024-10-29 23:06:22,726] Trial 63 pruned. \n",
      "[I 2024-10-29 23:06:22,778] Trial 64 pruned. \n",
      "[I 2024-10-29 23:06:22,834] Trial 65 pruned. \n",
      "[I 2024-10-29 23:06:22,954] Trial 66 pruned. \n",
      "[I 2024-10-29 23:06:23,002] Trial 67 pruned. \n",
      "[I 2024-10-29 23:06:23,049] Trial 68 pruned. \n",
      "[I 2024-10-29 23:06:23,105] Trial 69 pruned. \n",
      "[I 2024-10-29 23:06:23,221] Trial 70 pruned. \n",
      "[I 2024-10-29 23:06:23,313] Trial 71 pruned. \n",
      "[I 2024-10-29 23:06:23,408] Trial 72 pruned. \n",
      "[I 2024-10-29 23:06:23,502] Trial 73 pruned. \n",
      "[I 2024-10-29 23:06:23,659] Trial 74 pruned. \n",
      "[I 2024-10-29 23:06:23,729] Trial 75 pruned. \n",
      "[I 2024-10-29 23:06:23,808] Trial 76 pruned. \n",
      "[I 2024-10-29 23:06:23,883] Trial 77 pruned. \n",
      "[I 2024-10-29 23:06:24,024] Trial 78 pruned. \n",
      "[I 2024-10-29 23:06:24,079] Trial 79 pruned. \n",
      "[I 2024-10-29 23:06:24,131] Trial 80 pruned. \n",
      "[I 2024-10-29 23:06:24,264] Trial 81 pruned. \n",
      "[I 2024-10-29 23:06:24,373] Trial 82 pruned. \n",
      "[I 2024-10-29 23:06:24,429] Trial 83 pruned. \n",
      "[I 2024-10-29 23:06:24,988] Trial 84 pruned. \n",
      "[I 2024-10-29 23:06:25,049] Trial 85 pruned. \n",
      "[I 2024-10-29 23:06:25,173] Trial 86 pruned. \n",
      "[I 2024-10-29 23:06:25,275] Trial 87 pruned. \n",
      "[I 2024-10-29 23:06:59,945] Trial 88 finished with value: 0.003246835374739021 and parameters: {'num_layers': 2, 'hidden_size': 96, 'lstm_dropout': 0.36568751255667237, 'dense_dropout': 0.05521735323004166, 'learning_rate': 0.0035258720613223654}. Best is trial 38 with value: 0.0020101724367123097.\n",
      "[I 2024-10-29 23:06:59,995] Trial 89 pruned. \n",
      "[I 2024-10-29 23:07:00,049] Trial 90 pruned. \n",
      "[I 2024-10-29 23:07:00,102] Trial 91 pruned. \n",
      "[I 2024-10-29 23:07:00,153] Trial 92 pruned. \n",
      "[I 2024-10-29 23:07:00,231] Trial 93 pruned. \n",
      "[I 2024-10-29 23:07:33,394] Trial 94 finished with value: 0.002182898751925677 and parameters: {'num_layers': 2, 'hidden_size': 104, 'lstm_dropout': 0.0006778065511225443, 'dense_dropout': 0.03684499503995287, 'learning_rate': 0.005972033379050477}. Best is trial 38 with value: 0.0020101724367123097.\n",
      "[I 2024-10-29 23:07:33,452] Trial 95 pruned. \n",
      "[I 2024-10-29 23:07:33,573] Trial 96 pruned. \n",
      "[I 2024-10-29 23:07:33,626] Trial 97 pruned. \n",
      "[I 2024-10-29 23:08:08,033] Trial 98 finished with value: 0.003246968612074852 and parameters: {'num_layers': 2, 'hidden_size': 40, 'lstm_dropout': 0.029268408758648456, 'dense_dropout': 0.04018005011645569, 'learning_rate': 0.012898091752237795}. Best is trial 38 with value: 0.0020101724367123097.\n",
      "[I 2024-10-29 23:08:08,087] Trial 99 pruned. \n",
      "[I 2024-10-29 23:08:08,180] A new study created in memory with name: example-study\n"
     ]
    },
    {
     "name": "stdout",
     "output_type": "stream",
     "text": [
      "Study statistics: \n",
      "  Number of finished trials:  100\n",
      "  Number of pruned trials:  82\n",
      "  Number of complete trials:  18\n",
      "Best trial:\n",
      "  Value:  0.0020101724367123097\n",
      "  Params: \n",
      "    num_layers: 1\n",
      "    hidden_size: 96\n",
      "    lstm_dropout: 0.14905744324514042\n",
      "    dense_dropout: 0.09600460440345805\n",
      "    learning_rate: 0.009122659926681924\n",
      "R2 for sim at Guide(1972-2014) 0.9804427577302067\n",
      "Warning: ARIMASimFlow column not found in data for Guide station, year 2016\n"
     ]
    },
    {
     "name": "stderr",
     "output_type": "stream",
     "text": [
      "[I 2024-10-29 23:08:48,460] Trial 0 finished with value: 0.010911772958934307 and parameters: {'num_layers': 3, 'hidden_size': 16, 'lstm_dropout': 0.3158252983335952, 'dense_dropout': 0.4600483984920236, 'learning_rate': 0.00929749453641401}. Best is trial 0 with value: 0.010911772958934307.\n",
      "[I 2024-10-29 23:09:20,306] Trial 1 finished with value: 0.004645742708817124 and parameters: {'num_layers': 1, 'hidden_size': 48, 'lstm_dropout': 0.4089430401832159, 'dense_dropout': 0.25760608415093156, 'learning_rate': 0.0025734682664049716}. Best is trial 1 with value: 0.004645742708817124.\n",
      "[I 2024-10-29 23:09:55,425] Trial 2 finished with value: 0.006540243048220873 and parameters: {'num_layers': 2, 'hidden_size': 56, 'lstm_dropout': 0.1028886262837847, 'dense_dropout': 0.32496447124635097, 'learning_rate': 0.008686885012980473}. Best is trial 1 with value: 0.004645742708817124.\n",
      "[I 2024-10-29 23:10:30,131] Trial 3 finished with value: 0.027486877515912056 and parameters: {'num_layers': 2, 'hidden_size': 104, 'lstm_dropout': 0.32357327121973767, 'dense_dropout': 0.2555151774539784, 'learning_rate': 0.06401018413972359}. Best is trial 1 with value: 0.004645742708817124.\n",
      "[I 2024-10-29 23:11:09,161] Trial 4 finished with value: 0.024298138916492462 and parameters: {'num_layers': 3, 'hidden_size': 104, 'lstm_dropout': 0.14790848622226438, 'dense_dropout': 0.14668883887839684, 'learning_rate': 0.09235453911189627}. Best is trial 1 with value: 0.004645742708817124.\n",
      "[I 2024-10-29 23:11:44,881] Trial 5 finished with value: 0.002988515770994127 and parameters: {'num_layers': 2, 'hidden_size': 32, 'lstm_dropout': 0.11845535499734611, 'dense_dropout': 0.010015996469476263, 'learning_rate': 0.027032309551713214}. Best is trial 5 with value: 0.002988515770994127.\n",
      "[I 2024-10-29 23:11:44,918] Trial 6 pruned. \n",
      "[I 2024-10-29 23:11:44,959] Trial 7 pruned. \n",
      "[I 2024-10-29 23:12:21,982] Trial 8 finished with value: 0.003044986049644649 and parameters: {'num_layers': 2, 'hidden_size': 8, 'lstm_dropout': 0.013856762621678897, 'dense_dropout': 0.038534150476890794, 'learning_rate': 0.014823267097853208}. Best is trial 5 with value: 0.002988515770994127.\n",
      "[I 2024-10-29 23:12:22,032] Trial 9 pruned. \n",
      "[I 2024-10-29 23:12:22,093] Trial 10 pruned. \n",
      "[I 2024-10-29 23:12:54,530] Trial 11 finished with value: 0.0022531991126015782 and parameters: {'num_layers': 1, 'hidden_size': 32, 'lstm_dropout': 0.01131195782240041, 'dense_dropout': 0.01458865919326801, 'learning_rate': 0.01498194308836478}. Best is trial 11 with value: 0.0022531991126015782.\n",
      "[I 2024-10-29 23:12:54,582] Trial 12 pruned. \n",
      "[I 2024-10-29 23:12:54,649] Trial 13 pruned. \n",
      "[I 2024-10-29 23:13:27,234] Trial 14 finished with value: 0.004344180691987276 and parameters: {'num_layers': 1, 'hidden_size': 32, 'lstm_dropout': 0.1743696341811184, 'dense_dropout': 0.172673429503048, 'learning_rate': 0.004069832547901129}. Best is trial 11 with value: 0.0022531991126015782.\n",
      "[I 2024-10-29 23:13:27,283] Trial 15 pruned. \n",
      "[I 2024-10-29 23:14:07,810] Trial 16 finished with value: 0.0016277370741590858 and parameters: {'num_layers': 3, 'hidden_size': 24, 'lstm_dropout': 0.2048244321369665, 'dense_dropout': 0.07191248154225413, 'learning_rate': 0.03488058326494126}. Best is trial 16 with value: 0.0016277370741590858.\n",
      "[I 2024-10-29 23:14:07,901] Trial 17 pruned. \n",
      "[I 2024-10-29 23:14:07,962] Trial 18 pruned. \n",
      "[I 2024-10-29 23:14:08,014] Trial 19 pruned. \n",
      "[I 2024-10-29 23:14:08,087] Trial 20 pruned. \n",
      "[I 2024-10-29 23:14:44,580] Trial 21 finished with value: 0.0014744261570740491 and parameters: {'num_layers': 2, 'hidden_size': 32, 'lstm_dropout': 0.08144821935978117, 'dense_dropout': 0.03393562912047049, 'learning_rate': 0.030602135756906013}. Best is trial 21 with value: 0.0014744261570740491.\n",
      "[I 2024-10-29 23:14:44,639] Trial 22 pruned. \n",
      "[I 2024-10-29 23:15:16,268] Trial 23 finished with value: 0.0029169043991714716 and parameters: {'num_layers': 1, 'hidden_size': 48, 'lstm_dropout': 0.17622460552369298, 'dense_dropout': 0.20258633259090714, 'learning_rate': 0.03390819583407165}. Best is trial 21 with value: 0.0014744261570740491.\n",
      "[I 2024-10-29 23:15:56,386] Trial 24 finished with value: 0.0018363696872256696 and parameters: {'num_layers': 3, 'hidden_size': 64, 'lstm_dropout': 0.002333090483891645, 'dense_dropout': 0.04261514391008703, 'learning_rate': 0.008954713547379043}. Best is trial 21 with value: 0.0014744261570740491.\n",
      "[I 2024-10-29 23:15:56,445] Trial 25 pruned. \n",
      "[I 2024-10-29 23:15:56,505] Trial 26 pruned. \n",
      "[I 2024-10-29 23:15:56,565] Trial 27 pruned. \n",
      "[I 2024-10-29 23:15:56,622] Trial 28 pruned. \n",
      "[I 2024-10-29 23:15:56,678] Trial 29 pruned. \n",
      "[I 2024-10-29 23:15:56,733] Trial 30 pruned. \n",
      "[I 2024-10-29 23:16:37,743] Trial 31 finished with value: 0.0037913708947598934 and parameters: {'num_layers': 3, 'hidden_size': 40, 'lstm_dropout': 0.005757159487041821, 'dense_dropout': 0.03812343477602322, 'learning_rate': 0.019665309879713197}. Best is trial 21 with value: 0.0014744261570740491.\n",
      "[I 2024-10-29 23:17:13,155] Trial 32 finished with value: 0.003320372896268964 and parameters: {'num_layers': 2, 'hidden_size': 24, 'lstm_dropout': 0.028597001657162103, 'dense_dropout': 0.026135902070408154, 'learning_rate': 0.01324408334198637}. Best is trial 21 with value: 0.0014744261570740491.\n",
      "[I 2024-10-29 23:17:13,234] Trial 33 pruned. \n",
      "[I 2024-10-29 23:17:13,294] Trial 34 pruned. \n",
      "[I 2024-10-29 23:17:13,345] Trial 35 pruned. \n",
      "[I 2024-10-29 23:17:13,428] Trial 36 pruned. \n",
      "[I 2024-10-29 23:17:13,527] Trial 37 pruned. \n",
      "[I 2024-10-29 23:17:13,664] Trial 38 pruned. \n",
      "[I 2024-10-29 23:17:13,745] Trial 39 pruned. \n",
      "[I 2024-10-29 23:17:14,176] Trial 40 pruned. \n",
      "[I 2024-10-29 23:17:14,230] Trial 41 pruned. \n",
      "[I 2024-10-29 23:17:14,307] Trial 42 pruned. \n",
      "[I 2024-10-29 23:17:14,357] Trial 43 pruned. \n",
      "[I 2024-10-29 23:17:47,498] Trial 44 finished with value: 0.0027325557894073427 and parameters: {'num_layers': 1, 'hidden_size': 32, 'lstm_dropout': 0.10895455169251124, 'dense_dropout': 0.13789972320267146, 'learning_rate': 0.011105750188414915}. Best is trial 21 with value: 0.0014744261570740491.\n",
      "[I 2024-10-29 23:17:47,779] Trial 45 pruned. \n",
      "[I 2024-10-29 23:17:47,828] Trial 46 pruned. \n",
      "[I 2024-10-29 23:17:47,892] Trial 47 pruned. \n",
      "[I 2024-10-29 23:17:47,947] Trial 48 pruned. \n",
      "[I 2024-10-29 23:17:48,051] Trial 49 pruned. \n",
      "[I 2024-10-29 23:18:24,950] Trial 50 finished with value: 0.004299455613363534 and parameters: {'num_layers': 2, 'hidden_size': 16, 'lstm_dropout': 0.1525363383235137, 'dense_dropout': 0.021596269055358913, 'learning_rate': 0.022175913332590096}. Best is trial 21 with value: 0.0014744261570740491.\n",
      "[I 2024-10-29 23:18:25,002] Trial 51 pruned. \n",
      "[I 2024-10-29 23:18:25,767] Trial 52 pruned. \n",
      "[I 2024-10-29 23:18:25,855] Trial 53 pruned. \n",
      "[I 2024-10-29 23:18:26,342] Trial 54 pruned. \n",
      "[I 2024-10-29 23:18:26,500] Trial 55 pruned. \n",
      "[I 2024-10-29 23:18:26,783] Trial 56 pruned. \n",
      "[I 2024-10-29 23:18:26,849] Trial 57 pruned. \n",
      "[I 2024-10-29 23:18:27,350] Trial 58 pruned. \n",
      "[I 2024-10-29 23:18:27,483] Trial 59 pruned. \n",
      "[I 2024-10-29 23:18:27,545] Trial 60 pruned. \n",
      "[I 2024-10-29 23:19:04,413] Trial 61 finished with value: 0.0044970602029934525 and parameters: {'num_layers': 2, 'hidden_size': 24, 'lstm_dropout': 0.1311462910542106, 'dense_dropout': 0.0008915398363369825, 'learning_rate': 0.02417603358649543}. Best is trial 21 with value: 0.0014744261570740491.\n",
      "[I 2024-10-29 23:19:04,504] Trial 62 pruned. \n",
      "[I 2024-10-29 23:19:04,564] Trial 63 pruned. \n",
      "[I 2024-10-29 23:19:04,637] Trial 64 pruned. \n",
      "[I 2024-10-29 23:19:04,807] Trial 65 pruned. \n",
      "[I 2024-10-29 23:19:04,871] Trial 66 pruned. \n",
      "[I 2024-10-29 23:19:04,938] Trial 67 pruned. \n",
      "[I 2024-10-29 23:19:05,017] Trial 68 pruned. \n",
      "[I 2024-10-29 23:19:05,080] Trial 69 pruned. \n",
      "[I 2024-10-29 23:19:05,126] Trial 70 pruned. \n",
      "[I 2024-10-29 23:19:05,179] Trial 71 pruned. \n",
      "[I 2024-10-29 23:19:05,230] Trial 72 pruned. \n",
      "[I 2024-10-29 23:19:05,282] Trial 73 pruned. \n",
      "[I 2024-10-29 23:19:05,339] Trial 74 pruned. \n",
      "[I 2024-10-29 23:19:05,390] Trial 75 pruned. \n",
      "[I 2024-10-29 23:19:05,453] Trial 76 pruned. \n",
      "[I 2024-10-29 23:19:05,505] Trial 77 pruned. \n",
      "[I 2024-10-29 23:19:37,936] Trial 78 finished with value: 0.0018750322051346302 and parameters: {'num_layers': 1, 'hidden_size': 32, 'lstm_dropout': 0.28471002213594926, 'dense_dropout': 0.008804680167122436, 'learning_rate': 0.010291670701157862}. Best is trial 21 with value: 0.0014744261570740491.\n",
      "[I 2024-10-29 23:20:10,681] Trial 79 finished with value: 0.0028024304192513227 and parameters: {'num_layers': 1, 'hidden_size': 40, 'lstm_dropout': 0.29689792522617325, 'dense_dropout': 0.007966120949717069, 'learning_rate': 0.009357735158088637}. Best is trial 21 with value: 0.0014744261570740491.\n",
      "[I 2024-10-29 23:20:10,837] Trial 80 pruned. \n",
      "[I 2024-10-29 23:20:11,301] Trial 81 pruned. \n",
      "[I 2024-10-29 23:20:11,356] Trial 82 pruned. \n",
      "[I 2024-10-29 23:20:11,444] Trial 83 pruned. \n",
      "[I 2024-10-29 23:20:43,342] Trial 84 finished with value: 0.0018844263395294547 and parameters: {'num_layers': 1, 'hidden_size': 24, 'lstm_dropout': 0.37933158542008216, 'dense_dropout': 0.032418030598429404, 'learning_rate': 0.013400936073634934}. Best is trial 21 with value: 0.0014744261570740491.\n",
      "[I 2024-10-29 23:20:43,602] Trial 85 pruned. \n",
      "[I 2024-10-29 23:20:43,937] Trial 86 pruned. \n",
      "[I 2024-10-29 23:21:16,677] Trial 87 finished with value: 0.0022984198294579983 and parameters: {'num_layers': 1, 'hidden_size': 40, 'lstm_dropout': 0.2512032259661102, 'dense_dropout': 0.013167303586686021, 'learning_rate': 0.005027934333032001}. Best is trial 21 with value: 0.0014744261570740491.\n",
      "[I 2024-10-29 23:21:16,887] Trial 88 pruned. \n",
      "[I 2024-10-29 23:21:16,937] Trial 89 pruned. \n",
      "[I 2024-10-29 23:21:16,989] Trial 90 pruned. \n",
      "[I 2024-10-29 23:21:17,249] Trial 91 pruned. \n",
      "[I 2024-10-29 23:21:49,682] Trial 92 finished with value: 0.002743906050454825 and parameters: {'num_layers': 1, 'hidden_size': 48, 'lstm_dropout': 0.4880979295297557, 'dense_dropout': 0.01822309330843984, 'learning_rate': 0.008542182416490258}. Best is trial 21 with value: 0.0014744261570740491.\n",
      "[I 2024-10-29 23:21:49,742] Trial 93 pruned. \n",
      "[I 2024-10-29 23:21:49,928] Trial 94 pruned. \n",
      "[I 2024-10-29 23:21:50,258] Trial 95 pruned. \n",
      "[I 2024-10-29 23:21:50,308] Trial 96 pruned. \n",
      "[I 2024-10-29 23:21:50,357] Trial 97 pruned. \n",
      "[I 2024-10-29 23:21:50,410] Trial 98 pruned. \n",
      "[I 2024-10-29 23:21:50,465] Trial 99 pruned. \n",
      "[I 2024-10-29 23:21:50,560] A new study created in memory with name: example-study\n"
     ]
    },
    {
     "name": "stdout",
     "output_type": "stream",
     "text": [
      "Study statistics: \n",
      "  Number of finished trials:  100\n",
      "  Number of pruned trials:  77\n",
      "  Number of complete trials:  23\n",
      "Best trial:\n",
      "  Value:  0.0014744261570740491\n",
      "  Params: \n",
      "    num_layers: 2\n",
      "    hidden_size: 32\n",
      "    lstm_dropout: 0.08144821935978117\n",
      "    dense_dropout: 0.03393562912047049\n",
      "    learning_rate: 0.030602135756906013\n",
      "R2 for sim at Guide(1972-2015) 0.9767882251352312\n",
      "Warning: ARIMASimFlow column not found in data for Guide station, year 2017\n"
     ]
    },
    {
     "name": "stderr",
     "output_type": "stream",
     "text": [
      "[I 2024-10-29 23:22:29,036] Trial 0 finished with value: 0.006637463346123695 and parameters: {'num_layers': 3, 'hidden_size': 128, 'lstm_dropout': 0.10165517545806402, 'dense_dropout': 0.374142434838248, 'learning_rate': 0.018162015568805177}. Best is trial 0 with value: 0.006637463346123695.\n",
      "[I 2024-10-29 23:22:59,991] Trial 1 finished with value: 0.003372400242369622 and parameters: {'num_layers': 1, 'hidden_size': 72, 'lstm_dropout': 0.4165166601231408, 'dense_dropout': 0.08775005871299874, 'learning_rate': 0.0002788730285381155}. Best is trial 1 with value: 0.003372400242369622.\n",
      "[I 2024-10-29 23:23:32,488] Trial 2 finished with value: 0.0030020788544788957 and parameters: {'num_layers': 1, 'hidden_size': 128, 'lstm_dropout': 0.4328812359548484, 'dense_dropout': 0.1320389636069224, 'learning_rate': 0.006937298929620722}. Best is trial 2 with value: 0.0030020788544788957.\n",
      "[I 2024-10-29 23:24:05,242] Trial 3 finished with value: 0.012115628458559513 and parameters: {'num_layers': 1, 'hidden_size': 80, 'lstm_dropout': 0.4778519815693734, 'dense_dropout': 0.4832707842851096, 'learning_rate': 0.05935354485670401}. Best is trial 2 with value: 0.0030020788544788957.\n",
      "[I 2024-10-29 23:24:46,353] Trial 4 finished with value: 0.024395978078246117 and parameters: {'num_layers': 3, 'hidden_size': 88, 'lstm_dropout': 0.204541291368866, 'dense_dropout': 0.037779251753359944, 'learning_rate': 0.05359519875354436}. Best is trial 2 with value: 0.0030020788544788957.\n",
      "[I 2024-10-29 23:24:46,395] Trial 5 pruned. \n",
      "[I 2024-10-29 23:24:46,528] Trial 6 pruned. \n",
      "[I 2024-10-29 23:24:53,756] Trial 7 pruned. \n",
      "[I 2024-10-29 23:24:53,794] Trial 8 pruned. \n",
      "[I 2024-10-29 23:24:53,878] Trial 9 pruned. \n",
      "[I 2024-10-29 23:24:53,929] Trial 10 pruned. \n",
      "[I 2024-10-29 23:25:27,139] Trial 11 finished with value: 0.003200198640115559 and parameters: {'num_layers': 1, 'hidden_size': 48, 'lstm_dropout': 0.3750295956887433, 'dense_dropout': 0.1078518005810473, 'learning_rate': 0.0005000468881671428}. Best is trial 2 with value: 0.0030020788544788957.\n",
      "[I 2024-10-29 23:25:59,514] Trial 12 finished with value: 0.0035384328803047538 and parameters: {'num_layers': 1, 'hidden_size': 48, 'lstm_dropout': 0.3251403780637985, 'dense_dropout': 0.006868751489597272, 'learning_rate': 0.0011956494557884116}. Best is trial 2 with value: 0.0030020788544788957.\n",
      "[I 2024-10-29 23:25:59,562] Trial 13 pruned. \n",
      "[I 2024-10-29 23:25:59,642] Trial 14 pruned. \n",
      "[I 2024-10-29 23:26:32,019] Trial 15 finished with value: 0.004637064645066857 and parameters: {'num_layers': 1, 'hidden_size': 48, 'lstm_dropout': 0.2737738841932326, 'dense_dropout': 0.2289346145884819, 'learning_rate': 0.01030707191250593}. Best is trial 2 with value: 0.0030020788544788957.\n",
      "[I 2024-10-29 23:27:07,455] Trial 16 finished with value: 0.004007907584309578 and parameters: {'num_layers': 2, 'hidden_size': 104, 'lstm_dropout': 0.3493870912443665, 'dense_dropout': 0.11914971337273614, 'learning_rate': 0.0018325861110117534}. Best is trial 2 with value: 0.0030020788544788957.\n",
      "[I 2024-10-29 23:27:07,498] Trial 17 pruned. \n",
      "[I 2024-10-29 23:27:07,548] Trial 18 pruned. \n",
      "[I 2024-10-29 23:27:40,154] Trial 19 finished with value: 0.004164140205830336 and parameters: {'num_layers': 1, 'hidden_size': 112, 'lstm_dropout': 0.27888056682154255, 'dense_dropout': 0.0017211441834981134, 'learning_rate': 0.0037832587758903765}. Best is trial 2 with value: 0.0030020788544788957.\n",
      "[I 2024-10-29 23:27:40,235] Trial 20 pruned. \n",
      "[I 2024-10-29 23:27:40,383] Trial 21 pruned. \n",
      "[I 2024-10-29 23:27:40,461] Trial 22 pruned. \n",
      "[I 2024-10-29 23:27:40,552] Trial 23 pruned. \n",
      "[I 2024-10-29 23:27:40,644] Trial 24 pruned. \n",
      "[I 2024-10-29 23:27:40,738] Trial 25 pruned. \n",
      "[I 2024-10-29 23:28:13,195] Trial 26 finished with value: 0.002416687784716487 and parameters: {'num_layers': 1, 'hidden_size': 88, 'lstm_dropout': 0.30332074997288305, 'dense_dropout': 0.0391395655855751, 'learning_rate': 0.01750881637183197}. Best is trial 26 with value: 0.002416687784716487.\n",
      "[I 2024-10-29 23:28:13,254] Trial 27 pruned. \n",
      "[I 2024-10-29 23:28:13,335] Trial 28 pruned. \n",
      "[I 2024-10-29 23:28:13,415] Trial 29 pruned. \n",
      "[I 2024-10-29 23:28:46,366] Trial 30 finished with value: 0.003241846221499145 and parameters: {'num_layers': 1, 'hidden_size': 88, 'lstm_dropout': 0.37622056953683564, 'dense_dropout': 0.19823200489405848, 'learning_rate': 0.008543378237549082}. Best is trial 26 with value: 0.002416687784716487.\n",
      "[I 2024-10-29 23:29:19,455] Trial 31 finished with value: 0.003376093111000955 and parameters: {'num_layers': 1, 'hidden_size': 88, 'lstm_dropout': 0.37285031273704816, 'dense_dropout': 0.19369727030071213, 'learning_rate': 0.008274875034239243}. Best is trial 26 with value: 0.002416687784716487.\n",
      "[I 2024-10-29 23:29:53,154] Trial 32 finished with value: 0.002403610968030989 and parameters: {'num_layers': 1, 'hidden_size': 80, 'lstm_dropout': 0.2938683526225654, 'dense_dropout': 0.13081058304310458, 'learning_rate': 0.012806695066898544}. Best is trial 32 with value: 0.002403610968030989.\n",
      "[I 2024-10-29 23:29:53,204] Trial 33 pruned. \n",
      "[I 2024-10-29 23:30:26,536] Trial 34 finished with value: 0.004381565842777491 and parameters: {'num_layers': 1, 'hidden_size': 56, 'lstm_dropout': 0.23078511309127925, 'dense_dropout': 0.02673470498745968, 'learning_rate': 0.00481955413434578}. Best is trial 32 with value: 0.002403610968030989.\n",
      "[I 2024-10-29 23:30:26,623] Trial 35 pruned. \n",
      "[I 2024-10-29 23:30:26,709] Trial 36 pruned. \n",
      "[I 2024-10-29 23:30:26,776] Trial 37 pruned. \n",
      "[I 2024-10-29 23:30:26,840] Trial 38 pruned. \n",
      "[I 2024-10-29 23:30:26,916] Trial 39 pruned. \n",
      "[I 2024-10-29 23:30:27,023] Trial 40 pruned. \n",
      "[I 2024-10-29 23:31:00,554] Trial 41 finished with value: 0.004575821338221431 and parameters: {'num_layers': 1, 'hidden_size': 96, 'lstm_dropout': 0.35619334010568915, 'dense_dropout': 0.21775944734476077, 'learning_rate': 0.006803643617503606}. Best is trial 32 with value: 0.002403610968030989.\n",
      "[I 2024-10-29 23:31:00,740] Trial 42 pruned. \n",
      "[I 2024-10-29 23:31:00,797] Trial 43 pruned. \n",
      "[I 2024-10-29 23:31:32,789] Trial 44 finished with value: 0.00354593712836504 and parameters: {'num_layers': 1, 'hidden_size': 64, 'lstm_dropout': 0.33203086195475096, 'dense_dropout': 0.17123718275285013, 'learning_rate': 0.0026235788058097684}. Best is trial 32 with value: 0.002403610968030989.\n",
      "[I 2024-10-29 23:32:05,813] Trial 45 finished with value: 0.0025262238923460245 and parameters: {'num_layers': 1, 'hidden_size': 88, 'lstm_dropout': 0.4624361083219705, 'dense_dropout': 0.06475350305858323, 'learning_rate': 0.00959460982096022}. Best is trial 32 with value: 0.002403610968030989.\n",
      "[I 2024-10-29 23:32:38,222] Trial 46 finished with value: 0.0020737952436320484 and parameters: {'num_layers': 1, 'hidden_size': 104, 'lstm_dropout': 0.4690840003458511, 'dense_dropout': 0.06607592760975245, 'learning_rate': 0.013754710732721812}. Best is trial 46 with value: 0.0020737952436320484.\n",
      "[I 2024-10-29 23:32:38,279] Trial 47 pruned. \n",
      "[I 2024-10-29 23:32:38,368] Trial 48 pruned. \n",
      "[I 2024-10-29 23:32:38,422] Trial 49 pruned. \n",
      "[I 2024-10-29 23:32:38,469] Trial 50 pruned. \n",
      "[I 2024-10-29 23:32:38,643] Trial 51 pruned. \n",
      "[I 2024-10-29 23:33:11,534] Trial 52 finished with value: 0.0032836711034178734 and parameters: {'num_layers': 1, 'hidden_size': 80, 'lstm_dropout': 0.48185337783048726, 'dense_dropout': 0.06544392641045184, 'learning_rate': 0.004218602941042166}. Best is trial 46 with value: 0.0020737952436320484.\n",
      "[I 2024-10-29 23:33:11,586] Trial 53 pruned. \n",
      "[I 2024-10-29 23:33:43,594] Trial 54 finished with value: 0.002863534144125879 and parameters: {'num_layers': 1, 'hidden_size': 128, 'lstm_dropout': 0.39849554379804675, 'dense_dropout': 0.07975867451283691, 'learning_rate': 0.006389263316400215}. Best is trial 46 with value: 0.0020737952436320484.\n",
      "[I 2024-10-29 23:34:16,335] Trial 55 finished with value: 0.002516897046007216 and parameters: {'num_layers': 1, 'hidden_size': 128, 'lstm_dropout': 0.4820889160601199, 'dense_dropout': 0.037671288828601476, 'learning_rate': 0.006876225609311631}. Best is trial 46 with value: 0.0020737952436320484.\n",
      "[I 2024-10-29 23:34:48,484] Trial 56 finished with value: 0.004178865230642259 and parameters: {'num_layers': 1, 'hidden_size': 128, 'lstm_dropout': 0.448150098392609, 'dense_dropout': 0.0013348197862161487, 'learning_rate': 0.006752562359221971}. Best is trial 46 with value: 0.0020737952436320484.\n",
      "[I 2024-10-29 23:34:48,531] Trial 57 pruned. \n",
      "[I 2024-10-29 23:34:48,587] Trial 58 pruned. \n",
      "[I 2024-10-29 23:34:48,636] Trial 59 pruned. \n",
      "[I 2024-10-29 23:34:48,686] Trial 60 pruned. \n",
      "[I 2024-10-29 23:34:48,737] Trial 61 pruned. \n",
      "[I 2024-10-29 23:34:48,788] Trial 62 pruned. \n",
      "[I 2024-10-29 23:35:21,453] Trial 63 finished with value: 0.0025118942139670253 and parameters: {'num_layers': 1, 'hidden_size': 128, 'lstm_dropout': 0.4551956881336127, 'dense_dropout': 0.06464902934628866, 'learning_rate': 0.008168024961769832}. Best is trial 46 with value: 0.0020737952436320484.\n",
      "[I 2024-10-29 23:35:21,504] Trial 64 pruned. \n",
      "[I 2024-10-29 23:35:55,175] Trial 65 finished with value: 0.002891646116040647 and parameters: {'num_layers': 1, 'hidden_size': 112, 'lstm_dropout': 0.25943117309452357, 'dense_dropout': 0.04089211265189013, 'learning_rate': 0.012070493751936076}. Best is trial 46 with value: 0.0020737952436320484.\n",
      "[I 2024-10-29 23:35:55,227] Trial 66 pruned. \n",
      "[I 2024-10-29 23:35:55,279] Trial 67 pruned. \n",
      "[I 2024-10-29 23:35:55,334] Trial 68 pruned. \n",
      "[I 2024-10-29 23:35:55,391] Trial 69 pruned. \n",
      "[I 2024-10-29 23:35:55,485] Trial 70 pruned. \n",
      "[I 2024-10-29 23:35:55,580] Trial 71 pruned. \n",
      "[I 2024-10-29 23:36:29,118] Trial 72 finished with value: 0.002555019687861204 and parameters: {'num_layers': 1, 'hidden_size': 128, 'lstm_dropout': 0.25701886443468436, 'dense_dropout': 0.01622466781340199, 'learning_rate': 0.011490532888915836}. Best is trial 46 with value: 0.0020737952436320484.\n",
      "[I 2024-10-29 23:36:29,179] Trial 73 pruned. \n",
      "[I 2024-10-29 23:37:02,554] Trial 74 finished with value: 0.0029736062278971076 and parameters: {'num_layers': 1, 'hidden_size': 72, 'lstm_dropout': 0.22605169934638591, 'dense_dropout': 0.0586936402646038, 'learning_rate': 0.009096815160463994}. Best is trial 46 with value: 0.0020737952436320484.\n",
      "[I 2024-10-29 23:37:02,623] Trial 75 pruned. \n",
      "[I 2024-10-29 23:37:02,681] Trial 76 pruned. \n",
      "[I 2024-10-29 23:37:02,769] Trial 77 pruned. \n",
      "[I 2024-10-29 23:37:35,462] Trial 78 finished with value: 0.0025114298332482576 and parameters: {'num_layers': 1, 'hidden_size': 120, 'lstm_dropout': 0.32151584191291627, 'dense_dropout': 0.07332102767425297, 'learning_rate': 0.0077480604540269395}. Best is trial 46 with value: 0.0020737952436320484.\n",
      "[I 2024-10-29 23:37:35,515] Trial 79 pruned. \n",
      "[I 2024-10-29 23:38:07,554] Trial 80 finished with value: 0.002329718554392457 and parameters: {'num_layers': 1, 'hidden_size': 112, 'lstm_dropout': 0.3209724784131129, 'dense_dropout': 0.05001823607889143, 'learning_rate': 0.01314215148284922}. Best is trial 46 with value: 0.0020737952436320484.\n",
      "[I 2024-10-29 23:38:07,639] Trial 81 pruned. \n",
      "[I 2024-10-29 23:38:07,722] Trial 82 pruned. \n",
      "[I 2024-10-29 23:38:07,770] Trial 83 pruned. \n",
      "[I 2024-10-29 23:38:07,817] Trial 84 pruned. \n",
      "[I 2024-10-29 23:38:07,882] Trial 85 pruned. \n",
      "[I 2024-10-29 23:38:07,934] Trial 86 pruned. \n",
      "[I 2024-10-29 23:38:07,989] Trial 87 pruned. \n",
      "[I 2024-10-29 23:38:08,040] Trial 88 pruned. \n",
      "[I 2024-10-29 23:38:08,348] Trial 89 pruned. \n",
      "[I 2024-10-29 23:38:08,432] Trial 90 pruned. \n",
      "[I 2024-10-29 23:38:41,069] Trial 91 finished with value: 0.0028894784627482295 and parameters: {'num_layers': 1, 'hidden_size': 128, 'lstm_dropout': 0.26508454631579953, 'dense_dropout': 0.087267385300598, 'learning_rate': 0.006083652169721915}. Best is trial 46 with value: 0.0020737952436320484.\n",
      "[I 2024-10-29 23:38:41,859] Trial 92 pruned. \n",
      "[I 2024-10-29 23:38:41,910] Trial 93 pruned. \n",
      "[I 2024-10-29 23:38:41,962] Trial 94 pruned. \n",
      "[I 2024-10-29 23:38:42,048] Trial 95 pruned. \n",
      "[I 2024-10-29 23:38:42,127] Trial 96 pruned. \n",
      "[I 2024-10-29 23:38:42,175] Trial 97 pruned. \n",
      "[I 2024-10-29 23:38:42,226] Trial 98 pruned. \n",
      "[I 2024-10-29 23:38:42,307] Trial 99 pruned. \n",
      "[I 2024-10-29 23:38:42,405] A new study created in memory with name: example-study\n"
     ]
    },
    {
     "name": "stdout",
     "output_type": "stream",
     "text": [
      "Study statistics: \n",
      "  Number of finished trials:  100\n",
      "  Number of pruned trials:  70\n",
      "  Number of complete trials:  30\n",
      "Best trial:\n",
      "  Value:  0.0020737952436320484\n",
      "  Params: \n",
      "    num_layers: 1\n",
      "    hidden_size: 104\n",
      "    lstm_dropout: 0.4690840003458511\n",
      "    dense_dropout: 0.06607592760975245\n",
      "    learning_rate: 0.013754710732721812\n",
      "R2 for sim at Guide(1972-2016) 0.9758245290898127\n",
      "Warning: ARIMASimFlow column not found in data for Guide station, year 2018\n"
     ]
    },
    {
     "name": "stderr",
     "output_type": "stream",
     "text": [
      "[I 2024-10-29 23:39:21,037] Trial 0 finished with value: 0.0028683216660283506 and parameters: {'num_layers': 3, 'hidden_size': 120, 'lstm_dropout': 0.052143696705099774, 'dense_dropout': 0.18635058056136122, 'learning_rate': 0.011061575973005958}. Best is trial 0 with value: 0.0028683216660283506.\n",
      "[I 2024-10-29 23:39:53,657] Trial 1 finished with value: 0.0026840224163606763 and parameters: {'num_layers': 1, 'hidden_size': 112, 'lstm_dropout': 0.4823409708377489, 'dense_dropout': 0.12381678811718277, 'learning_rate': 0.0004311272152294906}. Best is trial 1 with value: 0.0026840224163606763.\n",
      "[I 2024-10-29 23:40:34,699] Trial 2 finished with value: 0.005596227943897247 and parameters: {'num_layers': 3, 'hidden_size': 32, 'lstm_dropout': 0.17560382663259966, 'dense_dropout': 0.3801632842189898, 'learning_rate': 0.00327128733949433}. Best is trial 1 with value: 0.0026840224163606763.\n",
      "[I 2024-10-29 23:41:11,157] Trial 3 finished with value: 0.003964953823015094 and parameters: {'num_layers': 2, 'hidden_size': 72, 'lstm_dropout': 0.1890077298156571, 'dense_dropout': 0.3815395663371664, 'learning_rate': 0.0007017098993063022}. Best is trial 1 with value: 0.0026840224163606763.\n",
      "[I 2024-10-29 23:41:50,857] Trial 4 finished with value: 0.012627891730517149 and parameters: {'num_layers': 3, 'hidden_size': 80, 'lstm_dropout': 0.2083557674191709, 'dense_dropout': 0.2383576231388015, 'learning_rate': 0.02906224131808684}. Best is trial 1 with value: 0.0026840224163606763.\n",
      "[I 2024-10-29 23:41:50,902] Trial 5 pruned. \n",
      "[I 2024-10-29 23:41:50,939] Trial 6 pruned. \n",
      "[I 2024-10-29 23:41:50,983] Trial 7 pruned. \n",
      "[I 2024-10-29 23:42:31,799] Trial 8 finished with value: 0.002083810744807124 and parameters: {'num_layers': 3, 'hidden_size': 112, 'lstm_dropout': 0.09726367676037284, 'dense_dropout': 0.13927970023845637, 'learning_rate': 0.0028371495478402226}. Best is trial 8 with value: 0.002083810744807124.\n",
      "[I 2024-10-29 23:42:31,842] Trial 9 pruned. \n",
      "[I 2024-10-29 23:42:31,897] Trial 10 pruned. \n",
      "[I 2024-10-29 23:42:31,964] Trial 11 pruned. \n",
      "[I 2024-10-29 23:43:08,957] Trial 12 finished with value: 0.001929771387949586 and parameters: {'num_layers': 2, 'hidden_size': 96, 'lstm_dropout': 0.3194572908991903, 'dense_dropout': 0.08926836786981819, 'learning_rate': 0.002343118608045688}. Best is trial 12 with value: 0.001929771387949586.\n",
      "[I 2024-10-29 23:43:09,016] Trial 13 pruned. \n",
      "[I 2024-10-29 23:43:09,073] Trial 14 pruned. \n",
      "[I 2024-10-29 23:43:45,221] Trial 15 finished with value: 0.0026570240734145045 and parameters: {'num_layers': 2, 'hidden_size': 64, 'lstm_dropout': 0.3628844874484569, 'dense_dropout': 0.15553771480355993, 'learning_rate': 0.013137918374939007}. Best is trial 12 with value: 0.001929771387949586.\n",
      "[I 2024-10-29 23:43:45,273] Trial 16 pruned. \n",
      "[I 2024-10-29 23:44:26,420] Trial 17 finished with value: 0.0030508158379234374 and parameters: {'num_layers': 3, 'hidden_size': 96, 'lstm_dropout': 0.26220216155969667, 'dense_dropout': 0.2391858670759834, 'learning_rate': 0.01004063241676967}. Best is trial 12 with value: 0.001929771387949586.\n",
      "[I 2024-10-29 23:44:27,416] Trial 18 pruned. \n",
      "[I 2024-10-29 23:44:27,471] Trial 19 pruned. \n",
      "[I 2024-10-29 23:44:27,529] Trial 20 pruned. \n",
      "[I 2024-10-29 23:45:04,076] Trial 21 finished with value: 0.0022543217637576163 and parameters: {'num_layers': 2, 'hidden_size': 56, 'lstm_dropout': 0.3688311586110649, 'dense_dropout': 0.1422627466459825, 'learning_rate': 0.008284270836214174}. Best is trial 12 with value: 0.001929771387949586.\n",
      "[I 2024-10-29 23:45:04,164] Trial 22 pruned. \n",
      "[I 2024-10-29 23:45:04,216] Trial 23 pruned. \n",
      "[I 2024-10-29 23:45:04,305] Trial 24 pruned. \n",
      "[I 2024-10-29 23:45:37,309] Trial 25 finished with value: 0.0030782241374254227 and parameters: {'num_layers': 1, 'hidden_size': 80, 'lstm_dropout': 0.391233836876859, 'dense_dropout': 0.21193792806404, 'learning_rate': 0.008189605682541077}. Best is trial 12 with value: 0.001929771387949586.\n",
      "[I 2024-10-29 23:45:38,539] Trial 26 pruned. \n",
      "[I 2024-10-29 23:45:38,610] Trial 27 pruned. \n",
      "[I 2024-10-29 23:45:38,665] Trial 28 pruned. \n",
      "[I 2024-10-29 23:45:38,737] Trial 29 pruned. \n",
      "[I 2024-10-29 23:45:38,798] Trial 30 pruned. \n",
      "[I 2024-10-29 23:45:38,858] Trial 31 pruned. \n",
      "[I 2024-10-29 23:45:38,951] Trial 32 pruned. \n",
      "[I 2024-10-29 23:45:39,105] Trial 33 pruned. \n",
      "[I 2024-10-29 23:45:39,262] Trial 34 pruned. \n",
      "[I 2024-10-29 23:45:39,351] Trial 35 pruned. \n",
      "[I 2024-10-29 23:46:15,460] Trial 36 finished with value: 0.002645427011884749 and parameters: {'num_layers': 2, 'hidden_size': 72, 'lstm_dropout': 0.41551505303356523, 'dense_dropout': 0.2100748524809291, 'learning_rate': 0.004320278016932285}. Best is trial 12 with value: 0.001929771387949586.\n",
      "[I 2024-10-29 23:46:15,517] Trial 37 pruned. \n",
      "[I 2024-10-29 23:46:15,574] Trial 38 pruned. \n",
      "[I 2024-10-29 23:46:15,623] Trial 39 pruned. \n",
      "[I 2024-10-29 23:46:15,680] Trial 40 pruned. \n",
      "[I 2024-10-29 23:46:15,732] Trial 41 pruned. \n",
      "[I 2024-10-29 23:46:15,821] Trial 42 pruned. \n",
      "[I 2024-10-29 23:46:52,538] Trial 43 finished with value: 0.0024971271632239223 and parameters: {'num_layers': 2, 'hidden_size': 48, 'lstm_dropout': 0.41695532656626155, 'dense_dropout': 0.029459434682724828, 'learning_rate': 0.013240626907300077}. Best is trial 12 with value: 0.001929771387949586.\n",
      "[I 2024-10-29 23:46:52,593] Trial 44 pruned. \n",
      "[I 2024-10-29 23:46:52,679] Trial 45 pruned. \n",
      "[I 2024-10-29 23:46:52,730] Trial 46 pruned. \n",
      "[I 2024-10-29 23:46:52,792] Trial 47 pruned. \n",
      "[I 2024-10-29 23:46:53,532] Trial 48 pruned. \n",
      "[I 2024-10-29 23:46:53,585] Trial 49 pruned. \n",
      "[I 2024-10-29 23:46:53,639] Trial 50 pruned. \n",
      "[I 2024-10-29 23:46:53,690] Trial 51 pruned. \n",
      "[I 2024-10-29 23:46:53,755] Trial 52 pruned. \n",
      "[I 2024-10-29 23:46:53,806] Trial 53 pruned. \n",
      "[I 2024-10-29 23:46:53,897] Trial 54 pruned. \n",
      "[I 2024-10-29 23:46:53,996] Trial 55 pruned. \n",
      "[I 2024-10-29 23:46:54,080] Trial 56 pruned. \n",
      "[I 2024-10-29 23:46:54,182] Trial 57 pruned. \n",
      "[I 2024-10-29 23:46:54,278] Trial 58 pruned. \n",
      "[I 2024-10-29 23:46:54,396] Trial 59 pruned. \n",
      "[I 2024-10-29 23:47:26,566] Trial 60 finished with value: 0.003064033226110041 and parameters: {'num_layers': 1, 'hidden_size': 128, 'lstm_dropout': 0.37471083222765567, 'dense_dropout': 0.1375440051773445, 'learning_rate': 0.008616383337882115}. Best is trial 12 with value: 0.001929771387949586.\n",
      "[I 2024-10-29 23:47:26,614] Trial 61 pruned. \n",
      "[I 2024-10-29 23:47:26,661] Trial 62 pruned. \n",
      "[I 2024-10-29 23:47:26,712] Trial 63 pruned. \n",
      "[I 2024-10-29 23:47:26,769] Trial 64 pruned. \n",
      "[I 2024-10-29 23:47:26,835] Trial 65 pruned. \n",
      "[I 2024-10-29 23:47:26,888] Trial 66 pruned. \n",
      "[I 2024-10-29 23:47:26,948] Trial 67 pruned. \n",
      "[I 2024-10-29 23:47:26,995] Trial 68 pruned. \n",
      "[I 2024-10-29 23:47:27,045] Trial 69 pruned. \n",
      "[I 2024-10-29 23:47:27,102] Trial 70 pruned. \n",
      "[I 2024-10-29 23:47:27,358] Trial 71 pruned. \n",
      "[I 2024-10-29 23:47:27,429] Trial 72 pruned. \n",
      "[I 2024-10-29 23:47:27,500] Trial 73 pruned. \n",
      "[I 2024-10-29 23:47:27,850] Trial 74 pruned. \n",
      "[I 2024-10-29 23:47:27,908] Trial 75 pruned. \n",
      "[I 2024-10-29 23:47:27,992] Trial 76 pruned. \n",
      "[I 2024-10-29 23:47:28,096] Trial 77 pruned. \n",
      "[I 2024-10-29 23:47:28,145] Trial 78 pruned. \n",
      "[I 2024-10-29 23:47:28,231] Trial 79 pruned. \n",
      "[I 2024-10-29 23:47:28,319] Trial 80 pruned. \n",
      "[I 2024-10-29 23:47:28,520] Trial 81 pruned. \n",
      "[I 2024-10-29 23:47:28,656] Trial 82 pruned. \n",
      "[I 2024-10-29 23:47:28,760] Trial 83 pruned. \n",
      "[I 2024-10-29 23:47:28,838] Trial 84 pruned. \n",
      "[I 2024-10-29 23:47:28,961] Trial 85 pruned. \n",
      "[I 2024-10-29 23:47:29,043] Trial 86 pruned. \n",
      "[I 2024-10-29 23:47:29,108] Trial 87 pruned. \n",
      "[I 2024-10-29 23:47:29,187] Trial 88 pruned. \n",
      "[I 2024-10-29 23:47:29,238] Trial 89 pruned. \n",
      "[I 2024-10-29 23:47:29,298] Trial 90 pruned. \n",
      "[I 2024-10-29 23:47:29,551] Trial 91 pruned. \n",
      "[I 2024-10-29 23:48:03,142] Trial 92 finished with value: 0.0020861325319856405 and parameters: {'num_layers': 1, 'hidden_size': 128, 'lstm_dropout': 0.3549898827106485, 'dense_dropout': 0.1438098748344673, 'learning_rate': 0.012465773872936844}. Best is trial 12 with value: 0.001929771387949586.\n",
      "[I 2024-10-29 23:48:03,256] Trial 93 pruned. \n",
      "[I 2024-10-29 23:48:03,384] Trial 94 pruned. \n",
      "[I 2024-10-29 23:48:03,456] Trial 95 pruned. \n",
      "[I 2024-10-29 23:48:03,528] Trial 96 pruned. \n",
      "[I 2024-10-29 23:48:03,606] Trial 97 pruned. \n",
      "[I 2024-10-29 23:48:03,727] Trial 98 pruned. \n",
      "[I 2024-10-29 23:48:03,783] Trial 99 pruned. \n",
      "[I 2024-10-29 23:48:03,893] A new study created in memory with name: example-study\n"
     ]
    },
    {
     "name": "stdout",
     "output_type": "stream",
     "text": [
      "Study statistics: \n",
      "  Number of finished trials:  100\n",
      "  Number of pruned trials:  85\n",
      "  Number of complete trials:  15\n",
      "Best trial:\n",
      "  Value:  0.001929771387949586\n",
      "  Params: \n",
      "    num_layers: 2\n",
      "    hidden_size: 96\n",
      "    lstm_dropout: 0.3194572908991903\n",
      "    dense_dropout: 0.08926836786981819\n",
      "    learning_rate: 0.002343118608045688\n",
      "R2 for sim at Guide(1972-2017) 0.9734193713790539\n",
      "Warning: ARIMASimFlow column not found in data for Guide station, year 2019\n"
     ]
    },
    {
     "name": "stderr",
     "output_type": "stream",
     "text": [
      "[I 2024-10-29 23:48:39,760] Trial 0 finished with value: 0.0033306835684925318 and parameters: {'num_layers': 1, 'hidden_size': 32, 'lstm_dropout': 0.07383545608798159, 'dense_dropout': 0.21901484843751406, 'learning_rate': 0.023814304130457285}. Best is trial 0 with value: 0.0033306835684925318.\n",
      "[I 2024-10-29 23:49:23,038] Trial 1 finished with value: 0.004919687868095934 and parameters: {'num_layers': 3, 'hidden_size': 56, 'lstm_dropout': 0.29076502072609844, 'dense_dropout': 0.11730759794372464, 'learning_rate': 0.0009007151578207241}. Best is trial 0 with value: 0.0033306835684925318.\n",
      "[I 2024-10-29 23:50:04,484] Trial 2 finished with value: 0.003772932104766369 and parameters: {'num_layers': 3, 'hidden_size': 128, 'lstm_dropout': 0.32224901002784473, 'dense_dropout': 0.31489014631229306, 'learning_rate': 0.00012565449369278915}. Best is trial 0 with value: 0.0033306835684925318.\n",
      "[I 2024-10-29 23:50:44,588] Trial 3 finished with value: 0.004823604365810752 and parameters: {'num_layers': 3, 'hidden_size': 112, 'lstm_dropout': 0.4319854502083555, 'dense_dropout': 0.36363728954119506, 'learning_rate': 0.0001509000363373361}. Best is trial 0 with value: 0.0033306835684925318.\n",
      "[I 2024-10-29 23:51:22,445] Trial 4 finished with value: 0.004896645899862051 and parameters: {'num_layers': 2, 'hidden_size': 24, 'lstm_dropout': 0.1809303655231777, 'dense_dropout': 0.00674002220431047, 'learning_rate': 0.0028489401822272098}. Best is trial 0 with value: 0.0033306835684925318.\n",
      "[I 2024-10-29 23:51:22,595] Trial 5 pruned. \n",
      "[I 2024-10-29 23:51:22,747] Trial 6 pruned. \n",
      "[I 2024-10-29 23:51:22,799] Trial 7 pruned. \n",
      "[I 2024-10-29 23:51:22,868] Trial 8 pruned. \n",
      "[I 2024-10-29 23:52:02,253] Trial 9 finished with value: 0.003948772675357759 and parameters: {'num_layers': 2, 'hidden_size': 48, 'lstm_dropout': 0.07502087713439126, 'dense_dropout': 0.06645978040360156, 'learning_rate': 0.009364948264331423}. Best is trial 0 with value: 0.0033306835684925318.\n",
      "[I 2024-10-29 23:52:02,301] Trial 10 pruned. \n",
      "[I 2024-10-29 23:52:02,359] Trial 11 pruned. \n",
      "[I 2024-10-29 23:52:02,413] Trial 12 pruned. \n",
      "[I 2024-10-29 23:52:02,480] Trial 13 pruned. \n",
      "[I 2024-10-29 23:52:02,578] Trial 14 pruned. \n",
      "[I 2024-10-29 23:52:02,700] Trial 15 pruned. \n",
      "[I 2024-10-29 23:52:02,795] Trial 16 pruned. \n",
      "[I 2024-10-29 23:52:02,917] Trial 17 pruned. \n",
      "[I 2024-10-29 23:52:03,021] Trial 18 pruned. \n",
      "[I 2024-10-29 23:52:36,755] Trial 19 finished with value: 0.0032432564767077565 and parameters: {'num_layers': 1, 'hidden_size': 24, 'lstm_dropout': 0.3678088947164058, 'dense_dropout': 0.15163185420822678, 'learning_rate': 0.025953170390639116}. Best is trial 19 with value: 0.0032432564767077565.\n",
      "[I 2024-10-29 23:53:11,965] Trial 20 finished with value: 0.0031167418928816915 and parameters: {'num_layers': 1, 'hidden_size': 24, 'lstm_dropout': 0.4097627210964407, 'dense_dropout': 0.13047868913567046, 'learning_rate': 0.01628625335139479}. Best is trial 20 with value: 0.0031167418928816915.\n",
      "[I 2024-10-29 23:53:12,086] Trial 21 pruned. \n",
      "[I 2024-10-29 23:53:12,166] Trial 22 pruned. \n",
      "[I 2024-10-29 23:53:46,999] Trial 23 finished with value: 0.005093397805467248 and parameters: {'num_layers': 1, 'hidden_size': 16, 'lstm_dropout': 0.4269755061964199, 'dense_dropout': 0.1497761122710076, 'learning_rate': 0.011904694375876374}. Best is trial 20 with value: 0.0031167418928816915.\n",
      "[I 2024-10-29 23:53:47,090] Trial 24 pruned. \n",
      "[I 2024-10-29 23:53:52,670] Trial 25 pruned. \n",
      "[I 2024-10-29 23:53:52,756] Trial 26 pruned. \n",
      "[I 2024-10-29 23:53:52,815] Trial 27 pruned. \n",
      "[I 2024-10-29 23:53:52,862] Trial 28 pruned. \n",
      "[I 2024-10-29 23:53:53,002] Trial 29 pruned. \n",
      "[I 2024-10-29 23:53:53,066] Trial 30 pruned. \n",
      "[I 2024-10-29 23:53:53,130] Trial 31 pruned. \n",
      "[I 2024-10-29 23:53:53,242] Trial 32 pruned. \n",
      "[I 2024-10-29 23:53:53,308] Trial 33 pruned. \n",
      "[I 2024-10-29 23:53:53,360] Trial 34 pruned. \n",
      "[I 2024-10-29 23:53:53,531] Trial 35 pruned. \n",
      "[I 2024-10-29 23:53:53,671] Trial 36 pruned. \n",
      "[I 2024-10-29 23:53:53,774] Trial 37 pruned. \n",
      "[I 2024-10-29 23:53:53,987] Trial 38 pruned. \n",
      "[I 2024-10-29 23:53:54,164] Trial 39 pruned. \n",
      "[I 2024-10-29 23:53:54,238] Trial 40 pruned. \n",
      "[I 2024-10-29 23:53:54,306] Trial 41 pruned. \n",
      "[I 2024-10-29 23:53:54,378] Trial 42 pruned. \n",
      "[I 2024-10-29 23:53:54,438] Trial 43 pruned. \n",
      "[I 2024-10-29 23:53:54,501] Trial 44 pruned. \n",
      "[I 2024-10-29 23:53:54,552] Trial 45 pruned. \n",
      "[I 2024-10-29 23:53:54,609] Trial 46 pruned. \n",
      "[I 2024-10-29 23:53:54,656] Trial 47 pruned. \n",
      "[I 2024-10-29 23:53:54,717] Trial 48 pruned. \n",
      "[I 2024-10-29 23:53:54,781] Trial 49 pruned. \n",
      "[I 2024-10-29 23:53:54,831] Trial 50 pruned. \n",
      "[I 2024-10-29 23:53:54,907] Trial 51 pruned. \n",
      "[I 2024-10-29 23:53:54,990] Trial 52 pruned. \n",
      "[I 2024-10-29 23:53:55,071] Trial 53 pruned. \n",
      "[I 2024-10-29 23:53:55,142] Trial 54 pruned. \n",
      "[I 2024-10-29 23:53:55,202] Trial 55 pruned. \n",
      "[I 2024-10-29 23:53:55,257] Trial 56 pruned. \n",
      "[I 2024-10-29 23:53:55,317] Trial 57 pruned. \n",
      "[I 2024-10-29 23:53:55,376] Trial 58 pruned. \n",
      "[I 2024-10-29 23:53:55,464] Trial 59 pruned. \n",
      "[I 2024-10-29 23:53:55,558] Trial 60 pruned. \n",
      "[I 2024-10-29 23:53:55,647] Trial 61 pruned. \n",
      "[I 2024-10-29 23:53:55,733] Trial 62 pruned. \n",
      "[I 2024-10-29 23:53:55,834] Trial 63 pruned. \n",
      "[I 2024-10-29 23:53:55,953] Trial 64 pruned. \n",
      "[I 2024-10-29 23:53:56,112] Trial 65 pruned. \n",
      "[I 2024-10-29 23:53:56,200] Trial 66 pruned. \n",
      "[I 2024-10-29 23:53:56,266] Trial 67 pruned. \n",
      "[I 2024-10-29 23:53:56,331] Trial 68 pruned. \n",
      "[I 2024-10-29 23:53:56,390] Trial 69 pruned. \n",
      "[I 2024-10-29 23:53:56,459] Trial 70 pruned. \n",
      "[I 2024-10-29 23:53:56,526] Trial 71 pruned. \n",
      "[I 2024-10-29 23:53:56,588] Trial 72 pruned. \n",
      "[I 2024-10-29 23:53:56,649] Trial 73 pruned. \n",
      "[I 2024-10-29 23:53:56,713] Trial 74 pruned. \n",
      "[I 2024-10-29 23:53:56,816] Trial 75 pruned. \n",
      "[I 2024-10-29 23:53:56,865] Trial 76 pruned. \n",
      "[I 2024-10-29 23:53:56,922] Trial 77 pruned. \n",
      "[I 2024-10-29 23:53:56,979] Trial 78 pruned. \n",
      "[I 2024-10-29 23:53:57,055] Trial 79 pruned. \n",
      "[I 2024-10-29 23:53:57,115] Trial 80 pruned. \n",
      "[I 2024-10-29 23:53:57,230] Trial 81 pruned. \n",
      "[I 2024-10-29 23:53:57,280] Trial 82 pruned. \n",
      "[I 2024-10-29 23:54:33,737] Trial 83 finished with value: 0.0047572123585268855 and parameters: {'num_layers': 1, 'hidden_size': 16, 'lstm_dropout': 0.45732312364382327, 'dense_dropout': 0.1454252541755005, 'learning_rate': 0.006897233856591276}. Best is trial 20 with value: 0.0031167418928816915.\n",
      "[I 2024-10-29 23:54:33,796] Trial 84 pruned. \n",
      "[I 2024-10-29 23:54:33,848] Trial 85 pruned. \n",
      "[I 2024-10-29 23:54:33,902] Trial 86 pruned. \n",
      "[I 2024-10-29 23:54:34,078] Trial 87 pruned. \n",
      "[I 2024-10-29 23:54:34,193] Trial 88 pruned. \n",
      "[I 2024-10-29 23:55:09,138] Trial 89 finished with value: 0.0030223423382267356 and parameters: {'num_layers': 1, 'hidden_size': 56, 'lstm_dropout': 0.4030007858714732, 'dense_dropout': 0.19463959737927894, 'learning_rate': 0.006538097448561421}. Best is trial 89 with value: 0.0030223423382267356.\n",
      "[I 2024-10-29 23:55:09,235] Trial 90 pruned. \n",
      "[I 2024-10-29 23:55:09,286] Trial 91 pruned. \n",
      "[I 2024-10-29 23:55:09,343] Trial 92 pruned. \n",
      "[I 2024-10-29 23:55:44,378] Trial 93 finished with value: 0.003374613239429891 and parameters: {'num_layers': 1, 'hidden_size': 48, 'lstm_dropout': 0.39390851358603024, 'dense_dropout': 0.16129036893207274, 'learning_rate': 0.004924830979114596}. Best is trial 89 with value: 0.0030223423382267356.\n",
      "[I 2024-10-29 23:55:44,472] Trial 94 pruned. \n",
      "[I 2024-10-29 23:55:44,527] Trial 95 pruned. \n",
      "[I 2024-10-29 23:55:44,649] Trial 96 pruned. \n",
      "[I 2024-10-29 23:55:44,733] Trial 97 pruned. \n",
      "[I 2024-10-29 23:55:44,850] Trial 98 pruned. \n",
      "[I 2024-10-29 23:55:45,005] Trial 99 pruned. \n"
     ]
    },
    {
     "name": "stdout",
     "output_type": "stream",
     "text": [
      "Study statistics: \n",
      "  Number of finished trials:  100\n",
      "  Number of pruned trials:  88\n",
      "  Number of complete trials:  12\n",
      "Best trial:\n",
      "  Value:  0.0030223423382267356\n",
      "  Params: \n",
      "    num_layers: 1\n",
      "    hidden_size: 56\n",
      "    lstm_dropout: 0.4030007858714732\n",
      "    dense_dropout: 0.19463959737927894\n",
      "    learning_rate: 0.006538097448561421\n",
      "R2 for sim at Guide(1972-2018) 0.9243946187096396\n",
      "R2 for pred at Guide(2015-2019) 0.3937915192762437\n"
     ]
    },
    {
     "data": {
      "application/vnd.plotly.v1+json": {
       "config": {
        "plotlyServerURL": "https://plot.ly"
       },
       "data": [
        {
         "mode": "lines",
         "name": "obs",
         "type": "scatter",
         "x": [
          "2015-01-01T00:00:00",
          "2015-02-01T00:00:00",
          "2015-03-01T00:00:00",
          "2015-04-01T00:00:00",
          "2015-05-01T00:00:00",
          "2015-06-01T00:00:00",
          "2015-07-01T00:00:00",
          "2015-08-01T00:00:00",
          "2015-09-01T00:00:00",
          "2015-10-01T00:00:00",
          "2015-11-01T00:00:00",
          "2015-12-01T00:00:00",
          "2016-01-01T00:00:00",
          "2016-02-01T00:00:00",
          "2016-03-01T00:00:00",
          "2016-04-01T00:00:00",
          "2016-05-01T00:00:00",
          "2016-06-01T00:00:00",
          "2016-07-01T00:00:00",
          "2016-08-01T00:00:00",
          "2016-09-01T00:00:00",
          "2016-10-01T00:00:00",
          "2016-11-01T00:00:00",
          "2016-12-01T00:00:00",
          "2017-01-01T00:00:00",
          "2017-02-01T00:00:00",
          "2017-03-01T00:00:00",
          "2017-04-01T00:00:00",
          "2017-05-01T00:00:00",
          "2017-06-01T00:00:00",
          "2017-07-01T00:00:00",
          "2017-08-01T00:00:00",
          "2017-09-01T00:00:00",
          "2017-10-01T00:00:00",
          "2017-11-01T00:00:00",
          "2017-12-01T00:00:00",
          "2018-01-01T00:00:00",
          "2018-02-01T00:00:00",
          "2018-03-01T00:00:00",
          "2018-04-01T00:00:00",
          "2018-05-01T00:00:00",
          "2018-06-01T00:00:00",
          "2018-07-01T00:00:00",
          "2018-08-01T00:00:00",
          "2018-09-01T00:00:00",
          "2018-10-01T00:00:00",
          "2018-11-01T00:00:00",
          "2018-12-01T00:00:00",
          "2019-01-01T00:00:00",
          "2019-02-01T00:00:00",
          "2019-03-01T00:00:00",
          "2019-04-01T00:00:00",
          "2019-05-01T00:00:00",
          "2019-06-01T00:00:00",
          "2019-07-01T00:00:00",
          "2019-08-01T00:00:00",
          "2019-09-01T00:00:00",
          "2019-10-01T00:00:00",
          "2019-11-01T00:00:00",
          "2019-12-01T00:00:00"
         ],
         "y": [
          243.48309326171872,
          232.82295227050773,
          273.6432189941405,
          301.36611938476557,
          360.4305419921872,
          777.5018920898436,
          1303.968017578125,
          535.898498535156,
          662.4635009765623,
          756.5108642578122,
          391.32369995117165,
          220.48034667968741,
          159.47569274902332,
          162.2063446044919,
          214.3218841552731,
          326.17202758789034,
          479.6283264160156,
          647.2022705078125,
          739.5563354492188,
          577.678039550781,
          614.5225830078125,
          808.2318115234373,
          483.1481933593746,
          244.7296905517576,
          180.5069885253905,
          192.54066467285153,
          238.6091156005858,
          325.05047607421847,
          413.6062927246092,
          938.3693237304683,
          642.8070678710935,
          556.596923828125,
          1208.25830078125,
          1619.1264648437498,
          778.8029174804685,
          336.6287536621092,
          215.38494873046847,
          205.1662902832031,
          251.9255218505857,
          425.4500427246093,
          829.5314331054686,
          1075.711669921875,
          2208.386962890625,
          1333.7509765625,
          2024.4403076171875,
          1466.2239990234375,
          735.5309448242186,
          386.19433593749983,
          284.8704223632811,
          287.86560058593744,
          313.66641235351557,
          541.2837524414062,
          805.4638671874999,
          1636.3900146484373,
          2112.18505859375,
          1504.3486328125,
          1711.178466796875,
          1408.97802734375,
          751.5130004882812,
          357.55200195312483
         ]
        },
        {
         "mode": "lines",
         "name": "pred",
         "type": "scatter",
         "x": [
          "2015-01-01T00:00:00",
          "2015-02-01T00:00:00",
          "2015-03-01T00:00:00",
          "2015-04-01T00:00:00",
          "2015-05-01T00:00:00",
          "2015-06-01T00:00:00",
          "2015-07-01T00:00:00",
          "2015-08-01T00:00:00",
          "2015-09-01T00:00:00",
          "2015-10-01T00:00:00",
          "2015-11-01T00:00:00",
          "2015-12-01T00:00:00",
          "2016-01-01T00:00:00",
          "2016-02-01T00:00:00",
          "2016-03-01T00:00:00",
          "2016-04-01T00:00:00",
          "2016-05-01T00:00:00",
          "2016-06-01T00:00:00",
          "2016-07-01T00:00:00",
          "2016-08-01T00:00:00",
          "2016-09-01T00:00:00",
          "2016-10-01T00:00:00",
          "2016-11-01T00:00:00",
          "2016-12-01T00:00:00",
          "2017-01-01T00:00:00",
          "2017-02-01T00:00:00",
          "2017-03-01T00:00:00",
          "2017-04-01T00:00:00",
          "2017-05-01T00:00:00",
          "2017-06-01T00:00:00",
          "2017-07-01T00:00:00",
          "2017-08-01T00:00:00",
          "2017-09-01T00:00:00",
          "2017-10-01T00:00:00",
          "2017-11-01T00:00:00",
          "2017-12-01T00:00:00",
          "2018-01-01T00:00:00",
          "2018-02-01T00:00:00",
          "2018-03-01T00:00:00",
          "2018-04-01T00:00:00",
          "2018-05-01T00:00:00",
          "2018-06-01T00:00:00",
          "2018-07-01T00:00:00",
          "2018-08-01T00:00:00",
          "2018-09-01T00:00:00",
          "2018-10-01T00:00:00",
          "2018-11-01T00:00:00",
          "2018-12-01T00:00:00",
          "2019-01-01T00:00:00",
          "2019-02-01T00:00:00",
          "2019-03-01T00:00:00",
          "2019-04-01T00:00:00",
          "2019-05-01T00:00:00",
          "2019-06-01T00:00:00",
          "2019-07-01T00:00:00",
          "2019-08-01T00:00:00",
          "2019-09-01T00:00:00",
          "2019-10-01T00:00:00",
          "2019-11-01T00:00:00",
          "2019-12-01T00:00:00"
         ],
         "y": [
          240.9061279296875,
          215.21365356445312,
          271.53350830078125,
          382.73529052734375,
          545.1658935546875,
          690.4376220703125,
          1177.967529296875,
          1253.6002197265625,
          1278.4117431640625,
          1232.0877685546875,
          549.0460815429688,
          271.9533386230469,
          151.5669708251953,
          169.4124755859375,
          210.08462524414062,
          313.7752685546875,
          577.4368896484375,
          770.55322265625,
          1126.8140869140625,
          885.1719970703125,
          951.41259765625,
          809.4332885742188,
          420.62481689453125,
          194.0281982421875,
          157.1695098876953,
          176.2642059326172,
          243.7207489013672,
          298.362060546875,
          402.75311279296875,
          735.9039916992188,
          804.8307495117188,
          817.0830688476562,
          1143.325439453125,
          834.5497436523438,
          503.6505432128906,
          214.37857055664062,
          167.17869567871094,
          149.44183349609375,
          203.6222686767578,
          264.6694641113281,
          462.8637390136719,
          795.754638671875,
          1147.85693359375,
          728.1194458007812,
          927.6510009765625,
          903.5248413085938,
          568.2177124023438,
          313.34136962890625,
          270.50299072265625,
          324.06024169921875,
          377.9692687988281,
          582.9283447265625,
          551.5032348632812,
          678.1433715820312,
          680.6632690429688,
          632.4920654296875,
          1063.60302734375,
          938.781494140625,
          487.3924560546875,
          292.76751708984375
         ]
        }
       ],
       "layout": {
        "template": {
         "data": {
          "bar": [
           {
            "error_x": {
             "color": "#2a3f5f"
            },
            "error_y": {
             "color": "#2a3f5f"
            },
            "marker": {
             "line": {
              "color": "white",
              "width": 0.5
             },
             "pattern": {
              "fillmode": "overlay",
              "size": 10,
              "solidity": 0.2
             }
            },
            "type": "bar"
           }
          ],
          "barpolar": [
           {
            "marker": {
             "line": {
              "color": "white",
              "width": 0.5
             },
             "pattern": {
              "fillmode": "overlay",
              "size": 10,
              "solidity": 0.2
             }
            },
            "type": "barpolar"
           }
          ],
          "carpet": [
           {
            "aaxis": {
             "endlinecolor": "#2a3f5f",
             "gridcolor": "#C8D4E3",
             "linecolor": "#C8D4E3",
             "minorgridcolor": "#C8D4E3",
             "startlinecolor": "#2a3f5f"
            },
            "baxis": {
             "endlinecolor": "#2a3f5f",
             "gridcolor": "#C8D4E3",
             "linecolor": "#C8D4E3",
             "minorgridcolor": "#C8D4E3",
             "startlinecolor": "#2a3f5f"
            },
            "type": "carpet"
           }
          ],
          "choropleth": [
           {
            "colorbar": {
             "outlinewidth": 0,
             "ticks": ""
            },
            "type": "choropleth"
           }
          ],
          "contour": [
           {
            "colorbar": {
             "outlinewidth": 0,
             "ticks": ""
            },
            "colorscale": [
             [
              0,
              "#0d0887"
             ],
             [
              0.1111111111111111,
              "#46039f"
             ],
             [
              0.2222222222222222,
              "#7201a8"
             ],
             [
              0.3333333333333333,
              "#9c179e"
             ],
             [
              0.4444444444444444,
              "#bd3786"
             ],
             [
              0.5555555555555556,
              "#d8576b"
             ],
             [
              0.6666666666666666,
              "#ed7953"
             ],
             [
              0.7777777777777778,
              "#fb9f3a"
             ],
             [
              0.8888888888888888,
              "#fdca26"
             ],
             [
              1,
              "#f0f921"
             ]
            ],
            "type": "contour"
           }
          ],
          "contourcarpet": [
           {
            "colorbar": {
             "outlinewidth": 0,
             "ticks": ""
            },
            "type": "contourcarpet"
           }
          ],
          "heatmap": [
           {
            "colorbar": {
             "outlinewidth": 0,
             "ticks": ""
            },
            "colorscale": [
             [
              0,
              "#0d0887"
             ],
             [
              0.1111111111111111,
              "#46039f"
             ],
             [
              0.2222222222222222,
              "#7201a8"
             ],
             [
              0.3333333333333333,
              "#9c179e"
             ],
             [
              0.4444444444444444,
              "#bd3786"
             ],
             [
              0.5555555555555556,
              "#d8576b"
             ],
             [
              0.6666666666666666,
              "#ed7953"
             ],
             [
              0.7777777777777778,
              "#fb9f3a"
             ],
             [
              0.8888888888888888,
              "#fdca26"
             ],
             [
              1,
              "#f0f921"
             ]
            ],
            "type": "heatmap"
           }
          ],
          "heatmapgl": [
           {
            "colorbar": {
             "outlinewidth": 0,
             "ticks": ""
            },
            "colorscale": [
             [
              0,
              "#0d0887"
             ],
             [
              0.1111111111111111,
              "#46039f"
             ],
             [
              0.2222222222222222,
              "#7201a8"
             ],
             [
              0.3333333333333333,
              "#9c179e"
             ],
             [
              0.4444444444444444,
              "#bd3786"
             ],
             [
              0.5555555555555556,
              "#d8576b"
             ],
             [
              0.6666666666666666,
              "#ed7953"
             ],
             [
              0.7777777777777778,
              "#fb9f3a"
             ],
             [
              0.8888888888888888,
              "#fdca26"
             ],
             [
              1,
              "#f0f921"
             ]
            ],
            "type": "heatmapgl"
           }
          ],
          "histogram": [
           {
            "marker": {
             "pattern": {
              "fillmode": "overlay",
              "size": 10,
              "solidity": 0.2
             }
            },
            "type": "histogram"
           }
          ],
          "histogram2d": [
           {
            "colorbar": {
             "outlinewidth": 0,
             "ticks": ""
            },
            "colorscale": [
             [
              0,
              "#0d0887"
             ],
             [
              0.1111111111111111,
              "#46039f"
             ],
             [
              0.2222222222222222,
              "#7201a8"
             ],
             [
              0.3333333333333333,
              "#9c179e"
             ],
             [
              0.4444444444444444,
              "#bd3786"
             ],
             [
              0.5555555555555556,
              "#d8576b"
             ],
             [
              0.6666666666666666,
              "#ed7953"
             ],
             [
              0.7777777777777778,
              "#fb9f3a"
             ],
             [
              0.8888888888888888,
              "#fdca26"
             ],
             [
              1,
              "#f0f921"
             ]
            ],
            "type": "histogram2d"
           }
          ],
          "histogram2dcontour": [
           {
            "colorbar": {
             "outlinewidth": 0,
             "ticks": ""
            },
            "colorscale": [
             [
              0,
              "#0d0887"
             ],
             [
              0.1111111111111111,
              "#46039f"
             ],
             [
              0.2222222222222222,
              "#7201a8"
             ],
             [
              0.3333333333333333,
              "#9c179e"
             ],
             [
              0.4444444444444444,
              "#bd3786"
             ],
             [
              0.5555555555555556,
              "#d8576b"
             ],
             [
              0.6666666666666666,
              "#ed7953"
             ],
             [
              0.7777777777777778,
              "#fb9f3a"
             ],
             [
              0.8888888888888888,
              "#fdca26"
             ],
             [
              1,
              "#f0f921"
             ]
            ],
            "type": "histogram2dcontour"
           }
          ],
          "mesh3d": [
           {
            "colorbar": {
             "outlinewidth": 0,
             "ticks": ""
            },
            "type": "mesh3d"
           }
          ],
          "parcoords": [
           {
            "line": {
             "colorbar": {
              "outlinewidth": 0,
              "ticks": ""
             }
            },
            "type": "parcoords"
           }
          ],
          "pie": [
           {
            "automargin": true,
            "type": "pie"
           }
          ],
          "scatter": [
           {
            "fillpattern": {
             "fillmode": "overlay",
             "size": 10,
             "solidity": 0.2
            },
            "type": "scatter"
           }
          ],
          "scatter3d": [
           {
            "line": {
             "colorbar": {
              "outlinewidth": 0,
              "ticks": ""
             }
            },
            "marker": {
             "colorbar": {
              "outlinewidth": 0,
              "ticks": ""
             }
            },
            "type": "scatter3d"
           }
          ],
          "scattercarpet": [
           {
            "marker": {
             "colorbar": {
              "outlinewidth": 0,
              "ticks": ""
             }
            },
            "type": "scattercarpet"
           }
          ],
          "scattergeo": [
           {
            "marker": {
             "colorbar": {
              "outlinewidth": 0,
              "ticks": ""
             }
            },
            "type": "scattergeo"
           }
          ],
          "scattergl": [
           {
            "marker": {
             "colorbar": {
              "outlinewidth": 0,
              "ticks": ""
             }
            },
            "type": "scattergl"
           }
          ],
          "scattermapbox": [
           {
            "marker": {
             "colorbar": {
              "outlinewidth": 0,
              "ticks": ""
             }
            },
            "type": "scattermapbox"
           }
          ],
          "scatterpolar": [
           {
            "marker": {
             "colorbar": {
              "outlinewidth": 0,
              "ticks": ""
             }
            },
            "type": "scatterpolar"
           }
          ],
          "scatterpolargl": [
           {
            "marker": {
             "colorbar": {
              "outlinewidth": 0,
              "ticks": ""
             }
            },
            "type": "scatterpolargl"
           }
          ],
          "scatterternary": [
           {
            "marker": {
             "colorbar": {
              "outlinewidth": 0,
              "ticks": ""
             }
            },
            "type": "scatterternary"
           }
          ],
          "surface": [
           {
            "colorbar": {
             "outlinewidth": 0,
             "ticks": ""
            },
            "colorscale": [
             [
              0,
              "#0d0887"
             ],
             [
              0.1111111111111111,
              "#46039f"
             ],
             [
              0.2222222222222222,
              "#7201a8"
             ],
             [
              0.3333333333333333,
              "#9c179e"
             ],
             [
              0.4444444444444444,
              "#bd3786"
             ],
             [
              0.5555555555555556,
              "#d8576b"
             ],
             [
              0.6666666666666666,
              "#ed7953"
             ],
             [
              0.7777777777777778,
              "#fb9f3a"
             ],
             [
              0.8888888888888888,
              "#fdca26"
             ],
             [
              1,
              "#f0f921"
             ]
            ],
            "type": "surface"
           }
          ],
          "table": [
           {
            "cells": {
             "fill": {
              "color": "#EBF0F8"
             },
             "line": {
              "color": "white"
             }
            },
            "header": {
             "fill": {
              "color": "#C8D4E3"
             },
             "line": {
              "color": "white"
             }
            },
            "type": "table"
           }
          ]
         },
         "layout": {
          "annotationdefaults": {
           "arrowcolor": "#2a3f5f",
           "arrowhead": 0,
           "arrowwidth": 1
          },
          "autotypenumbers": "strict",
          "coloraxis": {
           "colorbar": {
            "outlinewidth": 0,
            "ticks": ""
           }
          },
          "colorscale": {
           "diverging": [
            [
             0,
             "#8e0152"
            ],
            [
             0.1,
             "#c51b7d"
            ],
            [
             0.2,
             "#de77ae"
            ],
            [
             0.3,
             "#f1b6da"
            ],
            [
             0.4,
             "#fde0ef"
            ],
            [
             0.5,
             "#f7f7f7"
            ],
            [
             0.6,
             "#e6f5d0"
            ],
            [
             0.7,
             "#b8e186"
            ],
            [
             0.8,
             "#7fbc41"
            ],
            [
             0.9,
             "#4d9221"
            ],
            [
             1,
             "#276419"
            ]
           ],
           "sequential": [
            [
             0,
             "#0d0887"
            ],
            [
             0.1111111111111111,
             "#46039f"
            ],
            [
             0.2222222222222222,
             "#7201a8"
            ],
            [
             0.3333333333333333,
             "#9c179e"
            ],
            [
             0.4444444444444444,
             "#bd3786"
            ],
            [
             0.5555555555555556,
             "#d8576b"
            ],
            [
             0.6666666666666666,
             "#ed7953"
            ],
            [
             0.7777777777777778,
             "#fb9f3a"
            ],
            [
             0.8888888888888888,
             "#fdca26"
            ],
            [
             1,
             "#f0f921"
            ]
           ],
           "sequentialminus": [
            [
             0,
             "#0d0887"
            ],
            [
             0.1111111111111111,
             "#46039f"
            ],
            [
             0.2222222222222222,
             "#7201a8"
            ],
            [
             0.3333333333333333,
             "#9c179e"
            ],
            [
             0.4444444444444444,
             "#bd3786"
            ],
            [
             0.5555555555555556,
             "#d8576b"
            ],
            [
             0.6666666666666666,
             "#ed7953"
            ],
            [
             0.7777777777777778,
             "#fb9f3a"
            ],
            [
             0.8888888888888888,
             "#fdca26"
            ],
            [
             1,
             "#f0f921"
            ]
           ]
          },
          "colorway": [
           "#636efa",
           "#EF553B",
           "#00cc96",
           "#ab63fa",
           "#FFA15A",
           "#19d3f3",
           "#FF6692",
           "#B6E880",
           "#FF97FF",
           "#FECB52"
          ],
          "font": {
           "color": "#2a3f5f"
          },
          "geo": {
           "bgcolor": "white",
           "lakecolor": "white",
           "landcolor": "white",
           "showlakes": true,
           "showland": true,
           "subunitcolor": "#C8D4E3"
          },
          "hoverlabel": {
           "align": "left"
          },
          "hovermode": "closest",
          "mapbox": {
           "style": "light"
          },
          "paper_bgcolor": "white",
          "plot_bgcolor": "white",
          "polar": {
           "angularaxis": {
            "gridcolor": "#EBF0F8",
            "linecolor": "#EBF0F8",
            "ticks": ""
           },
           "bgcolor": "white",
           "radialaxis": {
            "gridcolor": "#EBF0F8",
            "linecolor": "#EBF0F8",
            "ticks": ""
           }
          },
          "scene": {
           "xaxis": {
            "backgroundcolor": "white",
            "gridcolor": "#DFE8F3",
            "gridwidth": 2,
            "linecolor": "#EBF0F8",
            "showbackground": true,
            "ticks": "",
            "zerolinecolor": "#EBF0F8"
           },
           "yaxis": {
            "backgroundcolor": "white",
            "gridcolor": "#DFE8F3",
            "gridwidth": 2,
            "linecolor": "#EBF0F8",
            "showbackground": true,
            "ticks": "",
            "zerolinecolor": "#EBF0F8"
           },
           "zaxis": {
            "backgroundcolor": "white",
            "gridcolor": "#DFE8F3",
            "gridwidth": 2,
            "linecolor": "#EBF0F8",
            "showbackground": true,
            "ticks": "",
            "zerolinecolor": "#EBF0F8"
           }
          },
          "shapedefaults": {
           "line": {
            "color": "#2a3f5f"
           }
          },
          "ternary": {
           "aaxis": {
            "gridcolor": "#DFE8F3",
            "linecolor": "#A2B1C6",
            "ticks": ""
           },
           "baxis": {
            "gridcolor": "#DFE8F3",
            "linecolor": "#A2B1C6",
            "ticks": ""
           },
           "bgcolor": "white",
           "caxis": {
            "gridcolor": "#DFE8F3",
            "linecolor": "#A2B1C6",
            "ticks": ""
           }
          },
          "title": {
           "x": 0.05
          },
          "xaxis": {
           "automargin": true,
           "gridcolor": "#EBF0F8",
           "linecolor": "#EBF0F8",
           "ticks": "",
           "title": {
            "standoff": 15
           },
           "zerolinecolor": "#EBF0F8",
           "zerolinewidth": 2
          },
          "yaxis": {
           "automargin": true,
           "gridcolor": "#EBF0F8",
           "linecolor": "#EBF0F8",
           "ticks": "",
           "title": {
            "standoff": 15
           },
           "zerolinecolor": "#EBF0F8",
           "zerolinewidth": 2
          }
         }
        }
       }
      }
     },
     "metadata": {},
     "output_type": "display_data"
    },
    {
     "name": "stderr",
     "output_type": "stream",
     "text": [
      "[I 2024-10-29 23:55:45,154] A new study created in memory with name: example-study\n"
     ]
    },
    {
     "name": "stdout",
     "output_type": "stream",
     "text": [
      "Warning: ARIMASimFlow column not found in data for Xunhua station, year 2015\n"
     ]
    },
    {
     "name": "stderr",
     "output_type": "stream",
     "text": [
      "[I 2024-10-29 23:56:22,413] Trial 0 finished with value: 0.004424882587045431 and parameters: {'num_layers': 3, 'hidden_size': 96, 'lstm_dropout': 0.05329230183178052, 'dense_dropout': 0.14149782950135886, 'learning_rate': 0.00012615349659429858}. Best is trial 0 with value: 0.004424882587045431.\n",
      "[I 2024-10-29 23:56:59,931] Trial 1 finished with value: 0.011758073698729277 and parameters: {'num_layers': 3, 'hidden_size': 64, 'lstm_dropout': 0.29565202490854914, 'dense_dropout': 0.37128040707822285, 'learning_rate': 2.3888502644261756e-05}. Best is trial 0 with value: 0.004424882587045431.\n",
      "[I 2024-10-29 23:57:30,463] Trial 2 finished with value: 0.002664370695129037 and parameters: {'num_layers': 1, 'hidden_size': 120, 'lstm_dropout': 0.3486950393967817, 'dense_dropout': 0.11454501717692644, 'learning_rate': 0.005444201342440168}. Best is trial 2 with value: 0.002664370695129037.\n",
      "[I 2024-10-29 23:57:59,868] Trial 3 finished with value: 0.005656398367136717 and parameters: {'num_layers': 1, 'hidden_size': 96, 'lstm_dropout': 0.0906807793186789, 'dense_dropout': 0.22737399302718037, 'learning_rate': 0.011884324330257615}. Best is trial 2 with value: 0.002664370695129037.\n",
      "[I 2024-10-29 23:58:29,507] Trial 4 finished with value: 0.005171047174371779 and parameters: {'num_layers': 1, 'hidden_size': 40, 'lstm_dropout': 0.1363935296516084, 'dense_dropout': 0.19169030567812312, 'learning_rate': 0.00023791571333151528}. Best is trial 2 with value: 0.002664370695129037.\n",
      "[I 2024-10-29 23:58:29,610] Trial 5 pruned. \n",
      "[I 2024-10-29 23:58:30,140] Trial 6 pruned. \n",
      "[I 2024-10-29 23:59:00,360] Trial 7 finished with value: 0.004117193631827831 and parameters: {'num_layers': 1, 'hidden_size': 48, 'lstm_dropout': 0.18007637852998992, 'dense_dropout': 0.18235538385197048, 'learning_rate': 0.028173855288933843}. Best is trial 2 with value: 0.002664370695129037.\n",
      "[I 2024-10-29 23:59:00,590] Trial 8 pruned. \n",
      "[I 2024-10-29 23:59:00,651] Trial 9 pruned. \n",
      "[I 2024-10-29 23:59:00,746] Trial 10 pruned. \n",
      "[I 2024-10-29 23:59:00,853] Trial 11 pruned. \n",
      "[I 2024-10-29 23:59:00,904] Trial 12 pruned. \n",
      "[I 2024-10-29 23:59:31,128] Trial 13 finished with value: 0.003517041215673089 and parameters: {'num_layers': 1, 'hidden_size': 56, 'lstm_dropout': 0.2204722029862542, 'dense_dropout': 0.017645898392791154, 'learning_rate': 0.013016823760763832}. Best is trial 2 with value: 0.002664370695129037.\n",
      "[I 2024-10-29 23:59:31,231] Trial 14 pruned. \n",
      "[I 2024-10-29 23:59:31,398] Trial 15 pruned. \n",
      "[I 2024-10-29 23:59:31,443] Trial 16 pruned. \n",
      "[I 2024-10-29 23:59:31,496] Trial 17 pruned. \n",
      "[I 2024-10-29 23:59:31,592] Trial 18 pruned. \n",
      "[I 2024-10-29 23:59:31,667] Trial 19 pruned. \n",
      "[I 2024-10-29 23:59:31,753] Trial 20 pruned. \n",
      "[I 2024-10-29 23:59:31,996] Trial 21 pruned. \n",
      "[I 2024-10-29 23:59:32,077] Trial 22 pruned. \n",
      "[I 2024-10-29 23:59:32,125] Trial 23 pruned. \n",
      "[I 2024-10-29 23:59:32,210] Trial 24 pruned. \n",
      "[I 2024-10-29 23:59:32,260] Trial 25 pruned. \n",
      "[I 2024-10-29 23:59:32,312] Trial 26 pruned. \n",
      "[I 2024-10-30 00:00:04,617] Trial 27 finished with value: 0.00226572307292372 and parameters: {'num_layers': 1, 'hidden_size': 120, 'lstm_dropout': 0.1684408654987806, 'dense_dropout': 0.03482143954548079, 'learning_rate': 0.021017981030460424}. Best is trial 27 with value: 0.00226572307292372.\n",
      "[I 2024-10-30 00:00:04,671] Trial 28 pruned. \n",
      "[I 2024-10-30 00:00:04,795] Trial 29 pruned. \n",
      "[I 2024-10-30 00:00:04,921] Trial 30 pruned. \n",
      "[I 2024-10-30 00:00:36,223] Trial 31 finished with value: 0.004750338848680258 and parameters: {'num_layers': 1, 'hidden_size': 64, 'lstm_dropout': 0.1687708916991798, 'dense_dropout': 0.13804412624453294, 'learning_rate': 0.02806969544448962}. Best is trial 27 with value: 0.00226572307292372.\n",
      "[I 2024-10-30 00:00:36,306] Trial 32 pruned. \n",
      "[I 2024-10-30 00:00:36,382] Trial 33 pruned. \n",
      "[I 2024-10-30 00:01:07,854] Trial 34 finished with value: 0.0018728438881225884 and parameters: {'num_layers': 1, 'hidden_size': 112, 'lstm_dropout': 0.145791987872725, 'dense_dropout': 0.05191316228793025, 'learning_rate': 0.013679468513402305}. Best is trial 34 with value: 0.0018728438881225884.\n",
      "[I 2024-10-30 00:01:07,935] Trial 35 pruned. \n",
      "[I 2024-10-30 00:01:07,993] Trial 36 pruned. \n",
      "[I 2024-10-30 00:01:38,340] Trial 37 finished with value: 0.0019403128535486758 and parameters: {'num_layers': 1, 'hidden_size': 96, 'lstm_dropout': 0.11122419744606422, 'dense_dropout': 0.08871355294973741, 'learning_rate': 0.009685119597901616}. Best is trial 34 with value: 0.0018728438881225884.\n",
      "[I 2024-10-30 00:01:38,386] Trial 38 pruned. \n",
      "[I 2024-10-30 00:01:38,431] Trial 39 pruned. \n",
      "[I 2024-10-30 00:01:38,481] Trial 40 pruned. \n",
      "[I 2024-10-30 00:01:38,530] Trial 41 pruned. \n",
      "[I 2024-10-30 00:02:09,386] Trial 42 finished with value: 0.001910327817313373 and parameters: {'num_layers': 1, 'hidden_size': 104, 'lstm_dropout': 0.06656877610170578, 'dense_dropout': 0.08329556843589428, 'learning_rate': 0.010160706844959044}. Best is trial 34 with value: 0.0018728438881225884.\n",
      "[I 2024-10-30 00:02:09,431] Trial 43 pruned. \n",
      "[I 2024-10-30 00:02:09,476] Trial 44 pruned. \n",
      "[I 2024-10-30 00:02:09,523] Trial 45 pruned. \n",
      "[I 2024-10-30 00:02:09,569] Trial 46 pruned. \n",
      "[I 2024-10-30 00:02:09,615] Trial 47 pruned. \n",
      "[I 2024-10-30 00:02:09,720] Trial 48 pruned. \n",
      "[I 2024-10-30 00:02:09,801] Trial 49 pruned. \n",
      "[I 2024-10-30 00:02:42,879] Trial 50 finished with value: 0.0023983747232705355 and parameters: {'num_layers': 2, 'hidden_size': 128, 'lstm_dropout': 0.17600833899326174, 'dense_dropout': 0.025158253769009348, 'learning_rate': 0.004389937578766657}. Best is trial 34 with value: 0.0018728438881225884.\n",
      "[I 2024-10-30 00:02:42,930] Trial 51 pruned. \n",
      "[I 2024-10-30 00:02:42,984] Trial 52 pruned. \n",
      "[I 2024-10-30 00:02:43,032] Trial 53 pruned. \n",
      "[I 2024-10-30 00:03:13,659] Trial 54 finished with value: 0.002440286916680634 and parameters: {'num_layers': 1, 'hidden_size': 112, 'lstm_dropout': 0.20399070962757304, 'dense_dropout': 0.0012466975358922522, 'learning_rate': 0.011459365635771867}. Best is trial 34 with value: 0.0018728438881225884.\n",
      "[I 2024-10-30 00:03:13,745] Trial 55 pruned. \n",
      "[I 2024-10-30 00:03:43,677] Trial 56 finished with value: 0.0026013183523900807 and parameters: {'num_layers': 1, 'hidden_size': 104, 'lstm_dropout': 0.1972262229498266, 'dense_dropout': 0.03064961444506016, 'learning_rate': 0.011489229262275249}. Best is trial 34 with value: 0.0018728438881225884.\n",
      "[I 2024-10-30 00:03:43,753] Trial 57 pruned. \n",
      "[I 2024-10-30 00:03:43,805] Trial 58 pruned. \n",
      "[I 2024-10-30 00:03:43,853] Trial 59 pruned. \n",
      "[I 2024-10-30 00:03:43,906] Trial 60 pruned. \n",
      "[I 2024-10-30 00:04:14,728] Trial 61 finished with value: 0.002611703355796635 and parameters: {'num_layers': 1, 'hidden_size': 104, 'lstm_dropout': 0.19631330093727173, 'dense_dropout': 0.029318565647628487, 'learning_rate': 0.01236612249355427}. Best is trial 34 with value: 0.0018728438881225884.\n",
      "[I 2024-10-30 00:04:44,307] Trial 62 finished with value: 0.0029022425878793 and parameters: {'num_layers': 1, 'hidden_size': 104, 'lstm_dropout': 0.16692702615295177, 'dense_dropout': 0.025779786736826554, 'learning_rate': 0.006907241657428283}. Best is trial 34 with value: 0.0018728438881225884.\n",
      "[I 2024-10-30 00:05:15,796] Trial 63 finished with value: 0.001643418741878122 and parameters: {'num_layers': 1, 'hidden_size': 96, 'lstm_dropout': 0.2657863837935563, 'dense_dropout': 9.224322284129283e-05, 'learning_rate': 0.010968059029772662}. Best is trial 63 with value: 0.001643418741878122.\n",
      "[I 2024-10-30 00:05:15,844] Trial 64 pruned. \n",
      "[I 2024-10-30 00:05:15,920] Trial 65 pruned. \n",
      "[I 2024-10-30 00:05:16,001] Trial 66 pruned. \n",
      "[I 2024-10-30 00:05:16,056] Trial 67 pruned. \n",
      "[I 2024-10-30 00:05:16,110] Trial 68 pruned. \n",
      "[I 2024-10-30 00:05:16,179] Trial 69 pruned. \n",
      "[I 2024-10-30 00:05:16,254] Trial 70 pruned. \n",
      "[I 2024-10-30 00:05:16,683] Trial 71 pruned. \n",
      "[I 2024-10-30 00:05:16,733] Trial 72 pruned. \n",
      "[I 2024-10-30 00:05:16,822] Trial 73 pruned. \n",
      "[I 2024-10-30 00:05:16,874] Trial 74 pruned. \n",
      "[I 2024-10-30 00:05:47,994] Trial 75 finished with value: 0.00313269451726228 and parameters: {'num_layers': 1, 'hidden_size': 112, 'lstm_dropout': 0.09637652805518138, 'dense_dropout': 0.05398342590114159, 'learning_rate': 0.006845514654818244}. Best is trial 63 with value: 0.001643418741878122.\n",
      "[I 2024-10-30 00:05:48,071] Trial 76 pruned. \n",
      "[I 2024-10-30 00:05:48,116] Trial 77 pruned. \n",
      "[I 2024-10-30 00:05:48,313] Trial 78 pruned. \n",
      "[I 2024-10-30 00:05:48,359] Trial 79 pruned. \n",
      "[I 2024-10-30 00:05:48,408] Trial 80 pruned. \n",
      "[I 2024-10-30 00:05:48,457] Trial 81 pruned. \n",
      "[I 2024-10-30 00:05:48,537] Trial 82 pruned. \n",
      "[I 2024-10-30 00:05:48,673] Trial 83 pruned. \n",
      "[I 2024-10-30 00:05:48,751] Trial 84 pruned. \n",
      "[I 2024-10-30 00:05:48,834] Trial 85 pruned. \n",
      "[I 2024-10-30 00:05:48,994] Trial 86 pruned. \n",
      "[I 2024-10-30 00:05:49,117] Trial 87 pruned. \n",
      "[I 2024-10-30 00:05:49,236] Trial 88 pruned. \n",
      "[I 2024-10-30 00:05:49,304] Trial 89 pruned. \n",
      "[I 2024-10-30 00:05:49,376] Trial 90 pruned. \n",
      "[I 2024-10-30 00:05:49,457] Trial 91 pruned. \n",
      "[I 2024-10-30 00:05:49,510] Trial 92 pruned. \n",
      "[I 2024-10-30 00:05:49,595] Trial 93 pruned. \n",
      "[I 2024-10-30 00:05:49,646] Trial 94 pruned. \n",
      "[I 2024-10-30 00:05:49,904] Trial 95 pruned. \n",
      "[I 2024-10-30 00:05:49,956] Trial 96 pruned. \n",
      "[I 2024-10-30 00:05:50,009] Trial 97 pruned. \n",
      "[I 2024-10-30 00:05:50,062] Trial 98 pruned. \n",
      "[I 2024-10-30 00:05:50,271] Trial 99 pruned. \n",
      "[I 2024-10-30 00:05:50,362] A new study created in memory with name: example-study\n"
     ]
    },
    {
     "name": "stdout",
     "output_type": "stream",
     "text": [
      "Study statistics: \n",
      "  Number of finished trials:  100\n",
      "  Number of pruned trials:  81\n",
      "  Number of complete trials:  19\n",
      "Best trial:\n",
      "  Value:  0.001643418741878122\n",
      "  Params: \n",
      "    num_layers: 1\n",
      "    hidden_size: 96\n",
      "    lstm_dropout: 0.2657863837935563\n",
      "    dense_dropout: 9.224322284129283e-05\n",
      "    learning_rate: 0.010968059029772662\n",
      "R2 for sim at Xunhua(1972-2014) 0.9490708799080532\n",
      "Warning: ARIMASimFlow column not found in data for Xunhua station, year 2016\n"
     ]
    },
    {
     "name": "stderr",
     "output_type": "stream",
     "text": [
      "[I 2024-10-30 00:06:32,356] Trial 0 finished with value: 0.007727289106696844 and parameters: {'num_layers': 3, 'hidden_size': 56, 'lstm_dropout': 0.3725652560567853, 'dense_dropout': 0.135779310295093, 'learning_rate': 1.1820988455635846e-05}. Best is trial 0 with value: 0.007727289106696844.\n",
      "[I 2024-10-30 00:07:12,202] Trial 1 finished with value: 0.012362116482108831 and parameters: {'num_layers': 3, 'hidden_size': 32, 'lstm_dropout': 0.17941260801753345, 'dense_dropout': 0.45859973566565987, 'learning_rate': 0.007829695578722165}. Best is trial 0 with value: 0.007727289106696844.\n",
      "[I 2024-10-30 00:07:44,868] Trial 2 finished with value: 0.009852851275354624 and parameters: {'num_layers': 1, 'hidden_size': 8, 'lstm_dropout': 0.041971428741438, 'dense_dropout': 0.3702943596272181, 'learning_rate': 4.9293960567212994e-05}. Best is trial 0 with value: 0.007727289106696844.\n",
      "[I 2024-10-30 00:08:23,662] Trial 3 finished with value: 0.0032376209273934364 and parameters: {'num_layers': 3, 'hidden_size': 104, 'lstm_dropout': 0.41631301652277314, 'dense_dropout': 0.1373196815417188, 'learning_rate': 0.00022104354576787095}. Best is trial 3 with value: 0.0032376209273934364.\n",
      "[I 2024-10-30 00:09:04,684] Trial 4 finished with value: 0.0046209810534492135 and parameters: {'num_layers': 3, 'hidden_size': 64, 'lstm_dropout': 0.23118544612159492, 'dense_dropout': 0.21809688349615308, 'learning_rate': 4.244624568014427e-05}. Best is trial 3 with value: 0.0032376209273934364.\n",
      "[I 2024-10-30 00:09:41,646] Trial 5 finished with value: 0.004975651856511831 and parameters: {'num_layers': 2, 'hidden_size': 64, 'lstm_dropout': 0.09246016436638366, 'dense_dropout': 0.31067522242772416, 'learning_rate': 0.027936119889778215}. Best is trial 3 with value: 0.0032376209273934364.\n",
      "[I 2024-10-30 00:09:41,899] Trial 6 pruned. \n",
      "[I 2024-10-30 00:10:22,404] Trial 7 finished with value: 0.004117190255783498 and parameters: {'num_layers': 3, 'hidden_size': 16, 'lstm_dropout': 0.40571901570149177, 'dense_dropout': 0.13052093798233816, 'learning_rate': 0.0022572823523427494}. Best is trial 3 with value: 0.0032376209273934364.\n",
      "[I 2024-10-30 00:10:22,449] Trial 8 pruned. \n",
      "[I 2024-10-30 00:10:22,501] Trial 9 pruned. \n",
      "[I 2024-10-30 00:10:57,924] Trial 10 finished with value: 0.0024140242021530867 and parameters: {'num_layers': 2, 'hidden_size': 104, 'lstm_dropout': 0.3463061824937214, 'dense_dropout': 0.001508833579936697, 'learning_rate': 0.000359406781227869}. Best is trial 10 with value: 0.0024140242021530867.\n",
      "[I 2024-10-30 00:11:33,742] Trial 11 finished with value: 0.002162370947189629 and parameters: {'num_layers': 2, 'hidden_size': 104, 'lstm_dropout': 0.3272241865393533, 'dense_dropout': 0.000961100495614764, 'learning_rate': 0.0009634465326336835}. Best is trial 11 with value: 0.002162370947189629.\n",
      "[I 2024-10-30 00:12:11,380] Trial 12 finished with value: 0.0036319049540907145 and parameters: {'num_layers': 2, 'hidden_size': 96, 'lstm_dropout': 0.31585627476673805, 'dense_dropout': 0.0007490451191155005, 'learning_rate': 0.0011410985859098605}. Best is trial 11 with value: 0.002162370947189629.\n",
      "[I 2024-10-30 00:12:11,432] Trial 13 pruned. \n",
      "[I 2024-10-30 00:12:44,488] Trial 14 finished with value: 0.002755374531261623 and parameters: {'num_layers': 1, 'hidden_size': 128, 'lstm_dropout': 0.31260299857324014, 'dense_dropout': 0.06855364792805069, 'learning_rate': 0.0036411958016995295}. Best is trial 11 with value: 0.002162370947189629.\n",
      "[I 2024-10-30 00:12:45,422] Trial 15 pruned. \n",
      "[I 2024-10-30 00:12:45,473] Trial 16 pruned. \n",
      "[I 2024-10-30 00:12:45,652] Trial 17 pruned. \n",
      "[I 2024-10-30 00:12:45,711] Trial 18 pruned. \n",
      "[I 2024-10-30 00:12:46,037] Trial 19 pruned. \n",
      "[I 2024-10-30 00:13:22,173] Trial 20 finished with value: 0.0053789799567312 and parameters: {'num_layers': 2, 'hidden_size': 80, 'lstm_dropout': 0.35547870185203767, 'dense_dropout': 0.18091251375734888, 'learning_rate': 0.0015677398524091663}. Best is trial 11 with value: 0.002162370947189629.\n",
      "[I 2024-10-30 00:13:53,824] Trial 21 finished with value: 0.00179869937710464 and parameters: {'num_layers': 1, 'hidden_size': 128, 'lstm_dropout': 0.3084737549167614, 'dense_dropout': 0.05888895878209828, 'learning_rate': 0.007086693267130344}. Best is trial 21 with value: 0.00179869937710464.\n",
      "[I 2024-10-30 00:14:26,153] Trial 22 finished with value: 0.0026347360108047724 and parameters: {'num_layers': 1, 'hidden_size': 128, 'lstm_dropout': 0.2835710766204203, 'dense_dropout': 0.05072434196966248, 'learning_rate': 0.006304703776856581}. Best is trial 21 with value: 0.00179869937710464.\n",
      "[I 2024-10-30 00:15:00,863] Trial 23 finished with value: 0.0018623528885655105 and parameters: {'num_layers': 2, 'hidden_size': 120, 'lstm_dropout': 0.21839608875610306, 'dense_dropout': 0.10541960430439487, 'learning_rate': 0.008872545660954608}. Best is trial 21 with value: 0.00179869937710464.\n",
      "[I 2024-10-30 00:15:33,566] Trial 24 finished with value: 0.0024099720758385956 and parameters: {'num_layers': 1, 'hidden_size': 120, 'lstm_dropout': 0.20881647944290302, 'dense_dropout': 0.09426456811486471, 'learning_rate': 0.012384605119591103}. Best is trial 21 with value: 0.00179869937710464.\n",
      "[I 2024-10-30 00:15:33,623] Trial 25 pruned. \n",
      "[I 2024-10-30 00:16:05,683] Trial 26 finished with value: 0.0027924475725740194 and parameters: {'num_layers': 1, 'hidden_size': 104, 'lstm_dropout': 0.14991803689552774, 'dense_dropout': 0.17096456672707275, 'learning_rate': 0.00397981527937775}. Best is trial 21 with value: 0.00179869937710464.\n",
      "[I 2024-10-30 00:16:05,741] Trial 27 pruned. \n",
      "[I 2024-10-30 00:16:38,512] Trial 28 finished with value: 0.002178518916480243 and parameters: {'num_layers': 1, 'hidden_size': 96, 'lstm_dropout': 0.2775150770608802, 'dense_dropout': 0.033265927544542176, 'learning_rate': 0.0025672925975461784}. Best is trial 21 with value: 0.00179869937710464.\n",
      "[I 2024-10-30 00:16:38,586] Trial 29 pruned. \n",
      "[I 2024-10-30 00:16:38,674] Trial 30 pruned. \n",
      "[I 2024-10-30 00:17:10,624] Trial 31 finished with value: 0.002228536643087864 and parameters: {'num_layers': 1, 'hidden_size': 96, 'lstm_dropout': 0.2716232251258783, 'dense_dropout': 0.029475556499795066, 'learning_rate': 0.003685632011557756}. Best is trial 21 with value: 0.00179869937710464.\n",
      "[I 2024-10-30 00:17:44,307] Trial 32 finished with value: 0.0029499029042199254 and parameters: {'num_layers': 1, 'hidden_size': 96, 'lstm_dropout': 0.33150555138925636, 'dense_dropout': 0.03746240127905247, 'learning_rate': 0.0019233339305750287}. Best is trial 21 with value: 0.00179869937710464.\n",
      "[I 2024-10-30 00:18:17,313] Trial 33 finished with value: 0.0021660496713593602 and parameters: {'num_layers': 1, 'hidden_size': 112, 'lstm_dropout': 0.28858498054087045, 'dense_dropout': 0.10455502149707477, 'learning_rate': 0.006982793736512252}. Best is trial 21 with value: 0.00179869937710464.\n",
      "[I 2024-10-30 00:18:51,071] Trial 34 finished with value: 0.002290322328917682 and parameters: {'num_layers': 1, 'hidden_size': 112, 'lstm_dropout': 0.3800821463678617, 'dense_dropout': 0.12185346217641069, 'learning_rate': 0.0069779244793865694}. Best is trial 21 with value: 0.00179869937710464.\n",
      "[I 2024-10-30 00:18:51,121] Trial 35 pruned. \n",
      "[I 2024-10-30 00:18:51,177] Trial 36 pruned. \n",
      "[I 2024-10-30 00:18:51,230] Trial 37 pruned. \n",
      "[I 2024-10-30 00:18:51,278] Trial 38 pruned. \n",
      "[I 2024-10-30 00:18:51,335] Trial 39 pruned. \n",
      "[I 2024-10-30 00:18:51,400] Trial 40 pruned. \n",
      "[I 2024-10-30 00:19:24,132] Trial 41 finished with value: 0.0018398070824332535 and parameters: {'num_layers': 1, 'hidden_size': 104, 'lstm_dropout': 0.2673973969913727, 'dense_dropout': 0.019694548743791285, 'learning_rate': 0.0025428110076623333}. Best is trial 21 with value: 0.00179869937710464.\n",
      "[I 2024-10-30 00:19:56,637] Trial 42 finished with value: 0.002483738586306572 and parameters: {'num_layers': 1, 'hidden_size': 104, 'lstm_dropout': 0.33245619011992034, 'dense_dropout': 0.08176626923737139, 'learning_rate': 0.004249432958534809}. Best is trial 21 with value: 0.00179869937710464.\n",
      "[I 2024-10-30 00:19:56,719] Trial 43 pruned. \n",
      "[I 2024-10-30 00:19:56,768] Trial 44 pruned. \n",
      "[I 2024-10-30 00:19:56,848] Trial 45 pruned. \n",
      "[I 2024-10-30 00:19:57,242] Trial 46 pruned. \n",
      "[I 2024-10-30 00:20:32,968] Trial 47 finished with value: 0.0031883111223578453 and parameters: {'num_layers': 2, 'hidden_size': 32, 'lstm_dropout': 0.37161098488460326, 'dense_dropout': 0.013569050651625891, 'learning_rate': 0.008382911956991427}. Best is trial 21 with value: 0.00179869937710464.\n",
      "[I 2024-10-30 00:20:33,081] Trial 48 pruned. \n",
      "[I 2024-10-30 00:20:33,130] Trial 49 pruned. \n",
      "[I 2024-10-30 00:20:33,223] Trial 50 pruned. \n",
      "[I 2024-10-30 00:20:33,318] Trial 51 pruned. \n",
      "[I 2024-10-30 00:21:06,168] Trial 52 finished with value: 0.003070549457333982 and parameters: {'num_layers': 1, 'hidden_size': 104, 'lstm_dropout': 0.2912926156238753, 'dense_dropout': 0.03980728739445763, 'learning_rate': 0.003106213790055903}. Best is trial 21 with value: 0.00179869937710464.\n",
      "[I 2024-10-30 00:21:06,249] Trial 53 pruned. \n",
      "[I 2024-10-30 00:21:38,485] Trial 54 finished with value: 0.002468150109052658 and parameters: {'num_layers': 1, 'hidden_size': 128, 'lstm_dropout': 0.3235117040444846, 'dense_dropout': 0.021048156849266926, 'learning_rate': 0.0022357938492585223}. Best is trial 21 with value: 0.00179869937710464.\n",
      "[I 2024-10-30 00:21:38,533] Trial 55 pruned. \n",
      "[I 2024-10-30 00:21:38,580] Trial 56 pruned. \n",
      "[I 2024-10-30 00:21:38,636] Trial 57 pruned. \n",
      "[I 2024-10-30 00:21:38,697] Trial 58 pruned. \n",
      "[I 2024-10-30 00:21:38,746] Trial 59 pruned. \n",
      "[I 2024-10-30 00:21:38,818] Trial 60 pruned. \n",
      "[I 2024-10-30 00:22:12,027] Trial 61 finished with value: 0.0018375954241491854 and parameters: {'num_layers': 1, 'hidden_size': 96, 'lstm_dropout': 0.2759486889542619, 'dense_dropout': 0.023528461503713412, 'learning_rate': 0.004728012622782588}. Best is trial 21 with value: 0.00179869937710464.\n",
      "[I 2024-10-30 00:22:12,085] Trial 62 pruned. \n",
      "[I 2024-10-30 00:22:44,259] Trial 63 finished with value: 0.0025928857503458858 and parameters: {'num_layers': 1, 'hidden_size': 72, 'lstm_dropout': 0.280591118349152, 'dense_dropout': 0.09424770332878192, 'learning_rate': 0.004622242418550915}. Best is trial 21 with value: 0.00179869937710464.\n",
      "[I 2024-10-30 00:22:44,602] Trial 64 pruned. \n",
      "[I 2024-10-30 00:23:17,849] Trial 65 finished with value: 0.001320664130616933 and parameters: {'num_layers': 1, 'hidden_size': 112, 'lstm_dropout': 0.23350632378447495, 'dense_dropout': 0.02989022026852058, 'learning_rate': 0.00543688100185827}. Best is trial 65 with value: 0.001320664130616933.\n",
      "[I 2024-10-30 00:23:17,904] Trial 66 pruned. \n",
      "[I 2024-10-30 00:23:50,312] Trial 67 finished with value: 0.0016543635283596814 and parameters: {'num_layers': 1, 'hidden_size': 112, 'lstm_dropout': 0.23799096142102547, 'dense_dropout': 0.04739519125809063, 'learning_rate': 0.010279972657036122}. Best is trial 65 with value: 0.001320664130616933.\n",
      "[I 2024-10-30 00:24:24,208] Trial 68 finished with value: 0.0020457602804526687 and parameters: {'num_layers': 1, 'hidden_size': 128, 'lstm_dropout': 0.24699415092796043, 'dense_dropout': 0.0475332945248926, 'learning_rate': 0.010480338550886911}. Best is trial 65 with value: 0.001320664130616933.\n",
      "[I 2024-10-30 00:24:24,258] Trial 69 pruned. \n",
      "[I 2024-10-30 00:24:24,345] Trial 70 pruned. \n",
      "[I 2024-10-30 00:24:24,396] Trial 71 pruned. \n",
      "[I 2024-10-30 00:24:57,336] Trial 72 finished with value: 0.0018286830163560808 and parameters: {'num_layers': 1, 'hidden_size': 120, 'lstm_dropout': 0.22883159424852811, 'dense_dropout': 0.04565008608232889, 'learning_rate': 0.009602832560545132}. Best is trial 65 with value: 0.001320664130616933.\n",
      "[I 2024-10-30 00:24:57,701] Trial 73 pruned. \n",
      "[I 2024-10-30 00:24:57,795] Trial 74 pruned. \n",
      "[I 2024-10-30 00:25:31,134] Trial 75 finished with value: 0.003812755225226283 and parameters: {'num_layers': 1, 'hidden_size': 112, 'lstm_dropout': 0.21556584324913888, 'dense_dropout': 0.0630089408910646, 'learning_rate': 0.005678141204806346}. Best is trial 65 with value: 0.001320664130616933.\n",
      "[I 2024-10-30 00:26:03,287] Trial 76 finished with value: 0.001902007614262402 and parameters: {'num_layers': 1, 'hidden_size': 128, 'lstm_dropout': 0.23867287522759, 'dense_dropout': 0.02635327250575765, 'learning_rate': 0.004183519546796946}. Best is trial 65 with value: 0.001320664130616933.\n",
      "[I 2024-10-30 00:26:03,339] Trial 77 pruned. \n",
      "[I 2024-10-30 00:26:03,395] Trial 78 pruned. \n",
      "[I 2024-10-30 00:26:03,446] Trial 79 pruned. \n",
      "[I 2024-10-30 00:26:03,497] Trial 80 pruned. \n",
      "[I 2024-10-30 00:26:37,065] Trial 81 finished with value: 0.001451676245778799 and parameters: {'num_layers': 1, 'hidden_size': 128, 'lstm_dropout': 0.24356158386981197, 'dense_dropout': 0.04361829781753279, 'learning_rate': 0.017033099822006747}. Best is trial 65 with value: 0.001320664130616933.\n",
      "[I 2024-10-30 00:26:37,113] Trial 82 pruned. \n",
      "[I 2024-10-30 00:26:37,158] Trial 83 pruned. \n",
      "[I 2024-10-30 00:27:09,135] Trial 84 finished with value: 0.001757833466399461 and parameters: {'num_layers': 1, 'hidden_size': 112, 'lstm_dropout': 0.2703350082969769, 'dense_dropout': 0.06898816422105734, 'learning_rate': 0.01355664907751245}. Best is trial 65 with value: 0.001320664130616933.\n",
      "[I 2024-10-30 00:27:09,183] Trial 85 pruned. \n",
      "[I 2024-10-30 00:27:09,230] Trial 86 pruned. \n",
      "[I 2024-10-30 00:27:09,546] Trial 87 pruned. \n",
      "[I 2024-10-30 00:27:09,596] Trial 88 pruned. \n",
      "[I 2024-10-30 00:27:09,646] Trial 89 pruned. \n",
      "[I 2024-10-30 00:27:09,698] Trial 90 pruned. \n",
      "[I 2024-10-30 00:27:42,067] Trial 91 finished with value: 0.0013926405808888376 and parameters: {'num_layers': 1, 'hidden_size': 128, 'lstm_dropout': 0.270492275599596, 'dense_dropout': 0.02297896323581523, 'learning_rate': 0.005593431965531113}. Best is trial 65 with value: 0.001320664130616933.\n",
      "[I 2024-10-30 00:28:14,174] Trial 92 finished with value: 0.0019772129599004984 and parameters: {'num_layers': 1, 'hidden_size': 120, 'lstm_dropout': 0.2681254789766362, 'dense_dropout': 0.07278299265923471, 'learning_rate': 0.005535452011897122}. Best is trial 65 with value: 0.001320664130616933.\n",
      "[I 2024-10-30 00:28:14,259] Trial 93 pruned. \n",
      "[I 2024-10-30 00:28:14,319] Trial 94 pruned. \n",
      "[I 2024-10-30 00:28:14,367] Trial 95 pruned. \n",
      "[I 2024-10-30 00:28:14,416] Trial 96 pruned. \n",
      "[I 2024-10-30 00:28:14,479] Trial 97 pruned. \n",
      "[I 2024-10-30 00:28:14,615] Trial 98 pruned. \n",
      "[I 2024-10-30 00:28:14,695] Trial 99 pruned. \n",
      "[I 2024-10-30 00:28:14,860] A new study created in memory with name: example-study\n"
     ]
    },
    {
     "name": "stdout",
     "output_type": "stream",
     "text": [
      "Study statistics: \n",
      "  Number of finished trials:  100\n",
      "  Number of pruned trials:  61\n",
      "  Number of complete trials:  39\n",
      "Best trial:\n",
      "  Value:  0.001320664130616933\n",
      "  Params: \n",
      "    num_layers: 1\n",
      "    hidden_size: 112\n",
      "    lstm_dropout: 0.23350632378447495\n",
      "    dense_dropout: 0.02989022026852058\n",
      "    learning_rate: 0.00543688100185827\n",
      "R2 for sim at Xunhua(1972-2015) 0.9902632504524715\n",
      "Warning: ARIMASimFlow column not found in data for Xunhua station, year 2017\n"
     ]
    },
    {
     "name": "stderr",
     "output_type": "stream",
     "text": [
      "[I 2024-10-30 00:28:50,649] Trial 0 finished with value: 0.004093878553248942 and parameters: {'num_layers': 2, 'hidden_size': 24, 'lstm_dropout': 0.011106488118667712, 'dense_dropout': 0.08948501691503785, 'learning_rate': 0.0018243856574765756}. Best is trial 0 with value: 0.004093878553248942.\n",
      "[I 2024-10-30 00:29:30,715] Trial 1 finished with value: 0.002630230621434748 and parameters: {'num_layers': 3, 'hidden_size': 64, 'lstm_dropout': 0.14874828066165502, 'dense_dropout': 0.09326025373226349, 'learning_rate': 6.46813879745441e-05}. Best is trial 1 with value: 0.002630230621434748.\n",
      "[I 2024-10-30 00:30:03,291] Trial 2 finished with value: 0.003490010218229145 and parameters: {'num_layers': 1, 'hidden_size': 96, 'lstm_dropout': 0.01425614744028364, 'dense_dropout': 0.16995651907528808, 'learning_rate': 0.00015903899011093147}. Best is trial 1 with value: 0.002630230621434748.\n",
      "[I 2024-10-30 00:30:44,712] Trial 3 finished with value: 0.003014675807207823 and parameters: {'num_layers': 3, 'hidden_size': 64, 'lstm_dropout': 0.4138164107442754, 'dense_dropout': 0.08536387988969518, 'learning_rate': 6.0236615806446394e-05}. Best is trial 1 with value: 0.002630230621434748.\n",
      "[I 2024-10-30 00:31:16,715] Trial 4 finished with value: 0.00408875138964504 and parameters: {'num_layers': 1, 'hidden_size': 72, 'lstm_dropout': 0.010243677192295242, 'dense_dropout': 0.06705118558646705, 'learning_rate': 3.567254483544166e-05}. Best is trial 1 with value: 0.002630230621434748.\n",
      "[I 2024-10-30 00:31:16,834] Trial 5 pruned. \n",
      "[I 2024-10-30 00:31:16,909] Trial 6 pruned. \n",
      "[I 2024-10-30 00:31:17,050] Trial 7 pruned. \n",
      "[I 2024-10-30 00:31:17,097] Trial 8 pruned. \n",
      "[I 2024-10-30 00:31:49,812] Trial 9 finished with value: 0.003559281351044774 and parameters: {'num_layers': 1, 'hidden_size': 40, 'lstm_dropout': 0.3004459215642279, 'dense_dropout': 0.03387354521978175, 'learning_rate': 0.05862656180758844}. Best is trial 1 with value: 0.002630230621434748.\n",
      "[I 2024-10-30 00:32:30,214] Trial 10 finished with value: 0.0043586514657363296 and parameters: {'num_layers': 3, 'hidden_size': 56, 'lstm_dropout': 0.28439105683882593, 'dense_dropout': 0.28393706194088614, 'learning_rate': 0.0025346591834792126}. Best is trial 1 with value: 0.002630230621434748.\n",
      "[I 2024-10-30 00:32:30,271] Trial 11 pruned. \n",
      "[I 2024-10-30 00:32:30,370] Trial 12 pruned. \n",
      "[I 2024-10-30 00:32:30,469] Trial 13 pruned. \n",
      "[I 2024-10-30 00:33:10,739] Trial 14 finished with value: 0.0032406836980953813 and parameters: {'num_layers': 3, 'hidden_size': 88, 'lstm_dropout': 0.22038403744675467, 'dense_dropout': 0.11712841953965447, 'learning_rate': 0.005651349506115821}. Best is trial 1 with value: 0.002630230621434748.\n",
      "[I 2024-10-30 00:33:10,795] Trial 15 pruned. \n",
      "[I 2024-10-30 00:33:10,845] Trial 16 pruned. \n",
      "[I 2024-10-30 00:33:10,942] Trial 17 pruned. \n",
      "[I 2024-10-30 00:33:46,174] Trial 18 finished with value: 0.00313307048054412 and parameters: {'num_layers': 2, 'hidden_size': 128, 'lstm_dropout': 0.3546426085275314, 'dense_dropout': 0.19358166854212425, 'learning_rate': 0.01312345275121343}. Best is trial 1 with value: 0.002630230621434748.\n",
      "[I 2024-10-30 00:33:46,268] Trial 19 pruned. \n",
      "[I 2024-10-30 00:33:46,319] Trial 20 pruned. \n",
      "[I 2024-10-30 00:34:22,091] Trial 21 finished with value: 0.004036343190819025 and parameters: {'num_layers': 2, 'hidden_size': 120, 'lstm_dropout': 0.3924337360374404, 'dense_dropout': 0.1978643437704287, 'learning_rate': 0.01033191034705105}. Best is trial 1 with value: 0.002630230621434748.\n",
      "[I 2024-10-30 00:34:56,601] Trial 22 finished with value: 0.0027349494048394263 and parameters: {'num_layers': 2, 'hidden_size': 128, 'lstm_dropout': 0.3221911444370005, 'dense_dropout': 0.08123040267836143, 'learning_rate': 0.01814252097119821}. Best is trial 1 with value: 0.002630230621434748.\n",
      "[I 2024-10-30 00:35:33,650] Trial 23 finished with value: 0.0034059748286381364 and parameters: {'num_layers': 2, 'hidden_size': 72, 'lstm_dropout': 0.30815693844094677, 'dense_dropout': 0.06329389593461418, 'learning_rate': 0.0011263846005211832}. Best is trial 1 with value: 0.002630230621434748.\n",
      "[I 2024-10-30 00:36:15,689] Trial 24 finished with value: 0.004243508446961641 and parameters: {'num_layers': 3, 'hidden_size': 56, 'lstm_dropout': 0.42293524064415644, 'dense_dropout': 0.002256086095339671, 'learning_rate': 0.023853976511842765}. Best is trial 1 with value: 0.002630230621434748.\n",
      "[I 2024-10-30 00:36:48,903] Trial 25 finished with value: 0.003147734794765711 and parameters: {'num_layers': 1, 'hidden_size': 96, 'lstm_dropout': 0.24150405325391117, 'dense_dropout': 0.06563143143140344, 'learning_rate': 0.0032694665102780502}. Best is trial 1 with value: 0.002630230621434748.\n",
      "[I 2024-10-30 00:36:48,962] Trial 26 pruned. \n",
      "[I 2024-10-30 00:36:49,019] Trial 27 pruned. \n",
      "[I 2024-10-30 00:36:49,091] Trial 28 pruned. \n",
      "[I 2024-10-30 00:37:26,452] Trial 29 finished with value: 0.0041329211089760065 and parameters: {'num_layers': 2, 'hidden_size': 56, 'lstm_dropout': 0.16078311377034912, 'dense_dropout': 0.16307889765486722, 'learning_rate': 0.0018663051247610374}. Best is trial 1 with value: 0.002630230621434748.\n",
      "[I 2024-10-30 00:37:26,522] Trial 30 pruned. \n",
      "[I 2024-10-30 00:37:26,585] Trial 31 pruned. \n",
      "[I 2024-10-30 00:37:26,651] Trial 32 pruned. \n",
      "[I 2024-10-30 00:37:26,701] Trial 33 pruned. \n",
      "[I 2024-10-30 00:37:26,760] Trial 34 pruned. \n",
      "[I 2024-10-30 00:38:02,911] Trial 35 finished with value: 0.003446337301284075 and parameters: {'num_layers': 2, 'hidden_size': 72, 'lstm_dropout': 0.44790115455468116, 'dense_dropout': 0.04884396681532643, 'learning_rate': 0.007862378590404607}. Best is trial 1 with value: 0.002630230621434748.\n",
      "[I 2024-10-30 00:38:03,025] Trial 36 pruned. \n",
      "[I 2024-10-30 00:38:03,083] Trial 37 pruned. \n",
      "[I 2024-10-30 00:38:03,145] Trial 38 pruned. \n",
      "[I 2024-10-30 00:38:03,203] Trial 39 pruned. \n",
      "[I 2024-10-30 00:38:03,286] Trial 40 pruned. \n",
      "[I 2024-10-30 00:38:36,686] Trial 41 finished with value: 0.002394529525190592 and parameters: {'num_layers': 1, 'hidden_size': 104, 'lstm_dropout': 0.2344678872424806, 'dense_dropout': 0.044518251069568256, 'learning_rate': 0.0031343673182061185}. Best is trial 41 with value: 0.002394529525190592.\n",
      "[I 2024-10-30 00:39:09,530] Trial 42 finished with value: 0.004691954702138901 and parameters: {'num_layers': 1, 'hidden_size': 104, 'lstm_dropout': 0.19976315304518877, 'dense_dropout': 0.03718163575351184, 'learning_rate': 0.0012576860145690459}. Best is trial 41 with value: 0.002394529525190592.\n",
      "[I 2024-10-30 00:39:42,373] Trial 43 finished with value: 0.002049162983894348 and parameters: {'num_layers': 1, 'hidden_size': 120, 'lstm_dropout': 0.30960380520433595, 'dense_dropout': 0.0025661092884411985, 'learning_rate': 0.01476398864745304}. Best is trial 43 with value: 0.002049162983894348.\n",
      "[I 2024-10-30 00:40:14,340] Trial 44 finished with value: 0.003894725232385099 and parameters: {'num_layers': 1, 'hidden_size': 120, 'lstm_dropout': 0.2974681567386333, 'dense_dropout': 0.014150886419617786, 'learning_rate': 0.0028373952763717063}. Best is trial 43 with value: 0.002049162983894348.\n",
      "[I 2024-10-30 00:40:14,401] Trial 45 pruned. \n",
      "[I 2024-10-30 00:40:14,567] Trial 46 pruned. \n",
      "[I 2024-10-30 00:40:47,608] Trial 47 finished with value: 0.0029604374431073666 and parameters: {'num_layers': 1, 'hidden_size': 96, 'lstm_dropout': 0.1863258281691435, 'dense_dropout': 0.092586938559149, 'learning_rate': 0.0059138652698677635}. Best is trial 43 with value: 0.002049162983894348.\n",
      "[I 2024-10-30 00:41:19,976] Trial 48 finished with value: 0.003729778341948986 and parameters: {'num_layers': 1, 'hidden_size': 96, 'lstm_dropout': 0.19478174642589174, 'dense_dropout': 0.10872187182479442, 'learning_rate': 0.0046238033694992456}. Best is trial 43 with value: 0.002049162983894348.\n",
      "[I 2024-10-30 00:41:53,487] Trial 49 finished with value: 0.0033516554394736886 and parameters: {'num_layers': 1, 'hidden_size': 104, 'lstm_dropout': 0.22823908332720563, 'dense_dropout': 0.022856111663145343, 'learning_rate': 0.008532536403415187}. Best is trial 43 with value: 0.002049162983894348.\n",
      "[I 2024-10-30 00:41:53,538] Trial 50 pruned. \n",
      "[I 2024-10-30 00:41:53,622] Trial 51 pruned. \n",
      "[I 2024-10-30 00:42:27,300] Trial 52 finished with value: 0.0025978601770475507 and parameters: {'num_layers': 1, 'hidden_size': 64, 'lstm_dropout': 0.3151143734115517, 'dense_dropout': 0.07596618055113591, 'learning_rate': 0.003872374192182518}. Best is trial 43 with value: 0.002049162983894348.\n",
      "[I 2024-10-30 00:42:27,351] Trial 53 pruned. \n",
      "[I 2024-10-30 00:42:27,949] Trial 54 pruned. \n",
      "[I 2024-10-30 00:43:01,948] Trial 55 finished with value: 0.002061435370706022 and parameters: {'num_layers': 1, 'hidden_size': 120, 'lstm_dropout': 0.17324801110418106, 'dense_dropout': 0.0026551476580056396, 'learning_rate': 0.013556805190816801}. Best is trial 43 with value: 0.002049162983894348.\n",
      "[I 2024-10-30 00:43:35,375] Trial 56 finished with value: 0.0032781417248770595 and parameters: {'num_layers': 1, 'hidden_size': 120, 'lstm_dropout': 0.13807614078647829, 'dense_dropout': 0.024959080111253952, 'learning_rate': 0.014712372011241306}. Best is trial 43 with value: 0.002049162983894348.\n",
      "[I 2024-10-30 00:44:08,718] Trial 57 finished with value: 0.002346160588786006 and parameters: {'num_layers': 1, 'hidden_size': 128, 'lstm_dropout': 0.22225362793162085, 'dense_dropout': 0.054898465505854824, 'learning_rate': 0.011430098497104331}. Best is trial 43 with value: 0.002049162983894348.\n",
      "[I 2024-10-30 00:44:40,754] Trial 58 finished with value: 0.003366055781953037 and parameters: {'num_layers': 1, 'hidden_size': 48, 'lstm_dropout': 0.2291670514341916, 'dense_dropout': 0.001565199425534842, 'learning_rate': 0.011122295493485139}. Best is trial 43 with value: 0.002049162983894348.\n",
      "[I 2024-10-30 00:44:40,803] Trial 59 pruned. \n",
      "[I 2024-10-30 00:44:40,860] Trial 60 pruned. \n",
      "[I 2024-10-30 00:45:13,883] Trial 61 finished with value: 0.0016664667637087405 and parameters: {'num_layers': 1, 'hidden_size': 128, 'lstm_dropout': 0.1751526390038343, 'dense_dropout': 0.07014923951027559, 'learning_rate': 0.018187861352936367}. Best is trial 61 with value: 0.0016664667637087405.\n",
      "[I 2024-10-30 00:45:13,934] Trial 62 pruned. \n",
      "[I 2024-10-30 00:45:45,936] Trial 63 finished with value: 0.005477761384099722 and parameters: {'num_layers': 1, 'hidden_size': 112, 'lstm_dropout': 0.2590664828301673, 'dense_dropout': 0.00013526057655176586, 'learning_rate': 0.010414437245262222}. Best is trial 61 with value: 0.0016664667637087405.\n",
      "[I 2024-10-30 00:45:45,984] Trial 64 pruned. \n",
      "[I 2024-10-30 00:45:46,266] Trial 65 pruned. \n",
      "[I 2024-10-30 00:46:19,085] Trial 66 finished with value: 0.00239804940065369 and parameters: {'num_layers': 1, 'hidden_size': 112, 'lstm_dropout': 0.20536722227767323, 'dense_dropout': 0.10247013457831178, 'learning_rate': 0.006661284891271542}. Best is trial 61 with value: 0.0016664667637087405.\n",
      "[I 2024-10-30 00:46:50,732] Trial 67 finished with value: 0.0031171689042821527 and parameters: {'num_layers': 1, 'hidden_size': 112, 'lstm_dropout': 0.1993053771949044, 'dense_dropout': 0.12127834008965993, 'learning_rate': 0.006103515226408258}. Best is trial 61 with value: 0.0016664667637087405.\n",
      "[I 2024-10-30 00:46:50,780] Trial 68 pruned. \n",
      "[I 2024-10-30 00:46:50,829] Trial 69 pruned. \n",
      "[I 2024-10-30 00:46:50,879] Trial 70 pruned. \n",
      "[I 2024-10-30 00:46:50,934] Trial 71 pruned. \n",
      "[I 2024-10-30 00:47:23,619] Trial 72 finished with value: 0.0026360367191955447 and parameters: {'num_layers': 1, 'hidden_size': 120, 'lstm_dropout': 0.11323144160222653, 'dense_dropout': 0.02221181781384231, 'learning_rate': 0.013441893811792446}. Best is trial 61 with value: 0.0016664667637087405.\n",
      "[I 2024-10-30 00:47:23,669] Trial 73 pruned. \n",
      "[I 2024-10-30 00:47:56,924] Trial 74 finished with value: 0.0026717715081758797 and parameters: {'num_layers': 1, 'hidden_size': 112, 'lstm_dropout': 0.34992471170868317, 'dense_dropout': 0.0964754071585211, 'learning_rate': 0.006851549795644714}. Best is trial 61 with value: 0.0016664667637087405.\n",
      "[I 2024-10-30 00:47:56,971] Trial 75 pruned. \n",
      "[I 2024-10-30 00:47:57,053] Trial 76 pruned. \n",
      "[I 2024-10-30 00:47:57,134] Trial 77 pruned. \n",
      "[I 2024-10-30 00:47:57,184] Trial 78 pruned. \n",
      "[I 2024-10-30 00:47:57,238] Trial 79 pruned. \n",
      "[I 2024-10-30 00:47:57,293] Trial 80 pruned. \n",
      "[I 2024-10-30 00:47:57,378] Trial 81 pruned. \n",
      "[I 2024-10-30 00:47:57,427] Trial 82 pruned. \n",
      "[I 2024-10-30 00:47:57,511] Trial 83 pruned. \n",
      "[I 2024-10-30 00:47:57,584] Trial 84 pruned. \n",
      "[I 2024-10-30 00:47:57,665] Trial 85 pruned. \n",
      "[I 2024-10-30 00:47:57,773] Trial 86 pruned. \n",
      "[I 2024-10-30 00:47:57,864] Trial 87 pruned. \n",
      "[I 2024-10-30 00:48:31,277] Trial 88 finished with value: 0.003991153324022889 and parameters: {'num_layers': 1, 'hidden_size': 128, 'lstm_dropout': 0.28290080696351944, 'dense_dropout': 0.10000982550942399, 'learning_rate': 0.013368695637611902}. Best is trial 61 with value: 0.0016664667637087405.\n",
      "[I 2024-10-30 00:48:31,326] Trial 89 pruned. \n",
      "[I 2024-10-30 00:48:31,375] Trial 90 pruned. \n",
      "[I 2024-10-30 00:49:04,560] Trial 91 finished with value: 0.003625715267844498 and parameters: {'num_layers': 1, 'hidden_size': 112, 'lstm_dropout': 0.34839778764093615, 'dense_dropout': 0.09171502925182459, 'learning_rate': 0.007138845621582418}. Best is trial 61 with value: 0.0016664667637087405.\n",
      "[I 2024-10-30 00:49:37,736] Trial 92 finished with value: 0.0028418301371857524 and parameters: {'num_layers': 1, 'hidden_size': 112, 'lstm_dropout': 0.32993560664973043, 'dense_dropout': 0.10256019225005744, 'learning_rate': 0.006154977749678089}. Best is trial 61 with value: 0.0016664667637087405.\n",
      "[I 2024-10-30 00:49:38,773] Trial 93 pruned. \n",
      "[I 2024-10-30 00:49:38,837] Trial 94 pruned. \n",
      "[I 2024-10-30 00:49:38,894] Trial 95 pruned. \n",
      "[I 2024-10-30 00:49:38,954] Trial 96 pruned. \n",
      "[I 2024-10-30 00:49:39,270] Trial 97 pruned. \n",
      "[I 2024-10-30 00:49:39,344] Trial 98 pruned. \n",
      "[I 2024-10-30 00:49:39,396] Trial 99 pruned. \n",
      "[I 2024-10-30 00:49:39,503] A new study created in memory with name: example-study\n"
     ]
    },
    {
     "name": "stdout",
     "output_type": "stream",
     "text": [
      "Study statistics: \n",
      "  Number of finished trials:  100\n",
      "  Number of pruned trials:  63\n",
      "  Number of complete trials:  37\n",
      "Best trial:\n",
      "  Value:  0.0016664667637087405\n",
      "  Params: \n",
      "    num_layers: 1\n",
      "    hidden_size: 128\n",
      "    lstm_dropout: 0.1751526390038343\n",
      "    dense_dropout: 0.07014923951027559\n",
      "    learning_rate: 0.018187861352936367\n",
      "R2 for sim at Xunhua(1972-2016) 0.9708941843686503\n",
      "Warning: ARIMASimFlow column not found in data for Xunhua station, year 2018\n"
     ]
    },
    {
     "name": "stderr",
     "output_type": "stream",
     "text": [
      "[I 2024-10-30 00:50:11,612] Trial 0 finished with value: 0.00376211223192513 and parameters: {'num_layers': 1, 'hidden_size': 32, 'lstm_dropout': 0.36442384345226525, 'dense_dropout': 0.05713672153974031, 'learning_rate': 6.255224480150893e-05}. Best is trial 0 with value: 0.00376211223192513.\n",
      "[I 2024-10-30 00:50:44,361] Trial 1 finished with value: 0.003265012288466096 and parameters: {'num_layers': 1, 'hidden_size': 56, 'lstm_dropout': 0.10648842672945968, 'dense_dropout': 0.19677539553916812, 'learning_rate': 8.356618131931402e-05}. Best is trial 1 with value: 0.003265012288466096.\n",
      "[I 2024-10-30 00:51:22,623] Trial 2 finished with value: 0.0024285426479764283 and parameters: {'num_layers': 3, 'hidden_size': 104, 'lstm_dropout': 0.4086900580756615, 'dense_dropout': 0.1517723088204047, 'learning_rate': 7.617361486447501e-05}. Best is trial 2 with value: 0.0024285426479764283.\n",
      "[I 2024-10-30 00:51:54,613] Trial 3 finished with value: 0.003245683154091239 and parameters: {'num_layers': 1, 'hidden_size': 64, 'lstm_dropout': 0.11659383902612425, 'dense_dropout': 0.38521648132079184, 'learning_rate': 0.05592146627948844}. Best is trial 2 with value: 0.0024285426479764283.\n",
      "[I 2024-10-30 00:52:28,741] Trial 4 finished with value: 0.0036818967200815678 and parameters: {'num_layers': 2, 'hidden_size': 120, 'lstm_dropout': 0.38452478423215075, 'dense_dropout': 0.30090787271109826, 'learning_rate': 6.457649474441784e-05}. Best is trial 2 with value: 0.0024285426479764283.\n",
      "[I 2024-10-30 00:52:28,784] Trial 5 pruned. \n",
      "[I 2024-10-30 00:52:29,652] Trial 6 pruned. \n",
      "[I 2024-10-30 00:52:29,807] Trial 7 pruned. \n",
      "[I 2024-10-30 00:52:29,966] Trial 8 pruned. \n",
      "[I 2024-10-30 00:52:30,007] Trial 9 pruned. \n",
      "[I 2024-10-30 00:53:09,068] Trial 10 finished with value: 0.0050469813868403435 and parameters: {'num_layers': 3, 'hidden_size': 128, 'lstm_dropout': 0.26100568464001594, 'dense_dropout': 0.00617042050139105, 'learning_rate': 0.00036148883826806}. Best is trial 2 with value: 0.0024285426479764283.\n",
      "[I 2024-10-30 00:53:45,708] Trial 11 finished with value: 0.005344521370716393 and parameters: {'num_layers': 2, 'hidden_size': 88, 'lstm_dropout': 0.21810717316893713, 'dense_dropout': 0.38768172157758135, 'learning_rate': 0.0007043413604481181}. Best is trial 2 with value: 0.0024285426479764283.\n",
      "[I 2024-10-30 00:53:45,809] Trial 12 pruned. \n",
      "[I 2024-10-30 00:53:45,943] Trial 13 pruned. \n",
      "[I 2024-10-30 00:53:54,035] Trial 14 pruned. \n",
      "[I 2024-10-30 00:54:33,871] Trial 15 finished with value: 0.004554569604806602 and parameters: {'num_layers': 3, 'hidden_size': 112, 'lstm_dropout': 0.17630997960584974, 'dense_dropout': 0.3134399217071719, 'learning_rate': 0.00034529668215058177}. Best is trial 2 with value: 0.0024285426479764283.\n",
      "[I 2024-10-30 00:55:07,081] Trial 16 finished with value: 0.002407390857115388 and parameters: {'num_layers': 1, 'hidden_size': 80, 'lstm_dropout': 0.005931933870676087, 'dense_dropout': 0.1648793780611196, 'learning_rate': 0.006962088543385378}. Best is trial 16 with value: 0.002407390857115388.\n",
      "[I 2024-10-30 00:55:43,104] Trial 17 finished with value: 0.0021302663953974843 and parameters: {'num_layers': 2, 'hidden_size': 80, 'lstm_dropout': 0.022172755530335632, 'dense_dropout': 0.1553450352278343, 'learning_rate': 0.005136333331504582}. Best is trial 17 with value: 0.0021302663953974843.\n",
      "[I 2024-10-30 00:56:19,700] Trial 18 finished with value: 0.0020475653000175953 and parameters: {'num_layers': 2, 'hidden_size': 80, 'lstm_dropout': 0.0008015162764362822, 'dense_dropout': 0.09038443724902792, 'learning_rate': 0.005345298251694144}. Best is trial 18 with value: 0.0020475653000175953.\n",
      "[I 2024-10-30 00:56:55,363] Trial 19 finished with value: 0.0028856032295152545 and parameters: {'num_layers': 2, 'hidden_size': 80, 'lstm_dropout': 0.052875508805169724, 'dense_dropout': 0.08243928795054431, 'learning_rate': 0.0036964898768710396}. Best is trial 18 with value: 0.0020475653000175953.\n",
      "[I 2024-10-30 00:57:31,967] Trial 20 finished with value: 0.0027313115424476564 and parameters: {'num_layers': 2, 'hidden_size': 48, 'lstm_dropout': 0.06193578435629184, 'dense_dropout': 0.008908653704014974, 'learning_rate': 0.012632096850084228}. Best is trial 18 with value: 0.0020475653000175953.\n",
      "[I 2024-10-30 00:58:07,309] Trial 21 finished with value: 0.0018621841445565224 and parameters: {'num_layers': 2, 'hidden_size': 80, 'lstm_dropout': 0.009507765172289222, 'dense_dropout': 0.16904890379142246, 'learning_rate': 0.005172283215473444}. Best is trial 21 with value: 0.0018621841445565224.\n",
      "[I 2024-10-30 00:58:43,360] Trial 22 finished with value: 0.002957640099339187 and parameters: {'num_layers': 2, 'hidden_size': 72, 'lstm_dropout': 0.03852301048884213, 'dense_dropout': 0.10706707738509061, 'learning_rate': 0.018956594294928148}. Best is trial 21 with value: 0.0018621841445565224.\n",
      "[I 2024-10-30 00:59:19,192] Trial 23 finished with value: 0.001942561037139967 and parameters: {'num_layers': 2, 'hidden_size': 96, 'lstm_dropout': 0.0029250597485154283, 'dense_dropout': 0.1950668743987859, 'learning_rate': 0.00382453995690638}. Best is trial 21 with value: 0.0018621841445565224.\n",
      "[I 2024-10-30 00:59:56,288] Trial 24 finished with value: 0.002590495627373457 and parameters: {'num_layers': 2, 'hidden_size': 96, 'lstm_dropout': 0.1662132073687386, 'dense_dropout': 0.20371589666715706, 'learning_rate': 0.002363484376051232}. Best is trial 21 with value: 0.0018621841445565224.\n",
      "[I 2024-10-30 00:59:56,339] Trial 25 pruned. \n",
      "[I 2024-10-30 00:59:56,391] Trial 26 pruned. \n",
      "[I 2024-10-30 00:59:56,479] Trial 27 pruned. \n",
      "[I 2024-10-30 01:00:34,991] Trial 28 finished with value: 0.0029103215783834457 and parameters: {'num_layers': 2, 'hidden_size': 72, 'lstm_dropout': 0.4993670599015208, 'dense_dropout': 0.24147922873977973, 'learning_rate': 0.003137296134129836}. Best is trial 21 with value: 0.0018621841445565224.\n",
      "[I 2024-10-30 01:00:35,041] Trial 29 pruned. \n",
      "[I 2024-10-30 01:00:35,129] Trial 30 pruned. \n",
      "[I 2024-10-30 01:00:35,218] Trial 31 pruned. \n",
      "[I 2024-10-30 01:01:12,044] Trial 32 finished with value: 0.002207669778726995 and parameters: {'num_layers': 2, 'hidden_size': 72, 'lstm_dropout': 0.036348732654788565, 'dense_dropout': 0.12328860247605916, 'learning_rate': 0.006821871216084484}. Best is trial 21 with value: 0.0018621841445565224.\n",
      "[I 2024-10-30 01:01:47,726] Trial 33 finished with value: 0.0026943552074953914 and parameters: {'num_layers': 2, 'hidden_size': 104, 'lstm_dropout': 0.06465814628652751, 'dense_dropout': 0.17083687998635363, 'learning_rate': 0.0035468866975348944}. Best is trial 21 with value: 0.0018621841445565224.\n",
      "[I 2024-10-30 01:01:47,777] Trial 34 pruned. \n",
      "[I 2024-10-30 01:01:47,863] Trial 35 pruned. \n",
      "[I 2024-10-30 01:02:19,641] Trial 36 finished with value: 0.0026602045982144773 and parameters: {'num_layers': 1, 'hidden_size': 64, 'lstm_dropout': 0.07752449943912652, 'dense_dropout': 0.18822249067942837, 'learning_rate': 0.010789718951613883}. Best is trial 21 with value: 0.0018621841445565224.\n",
      "[I 2024-10-30 01:02:19,790] Trial 37 pruned. \n",
      "[I 2024-10-30 01:02:19,841] Trial 38 pruned. \n",
      "[I 2024-10-30 01:02:19,933] Trial 39 pruned. \n",
      "[I 2024-10-30 01:02:20,031] Trial 40 pruned. \n",
      "[I 2024-10-30 01:02:56,585] Trial 41 finished with value: 0.001650667458306998 and parameters: {'num_layers': 2, 'hidden_size': 72, 'lstm_dropout': 0.032399367231173176, 'dense_dropout': 0.12860833882048817, 'learning_rate': 0.007965345776222715}. Best is trial 41 with value: 0.001650667458306998.\n",
      "[I 2024-10-30 01:02:56,674] Trial 42 pruned. \n",
      "[I 2024-10-30 01:03:32,464] Trial 43 finished with value: 0.002169335260987282 and parameters: {'num_layers': 2, 'hidden_size': 64, 'lstm_dropout': 0.051576401022952426, 'dense_dropout': 0.15444631335683767, 'learning_rate': 0.004512694369649967}. Best is trial 41 with value: 0.001650667458306998.\n",
      "[I 2024-10-30 01:04:09,691] Trial 44 finished with value: 0.0022353476379066706 and parameters: {'num_layers': 2, 'hidden_size': 48, 'lstm_dropout': 0.11254907923465766, 'dense_dropout': 0.18889708422768522, 'learning_rate': 0.017223145813326714}. Best is trial 41 with value: 0.001650667458306998.\n",
      "[I 2024-10-30 01:04:09,758] Trial 45 pruned. \n",
      "[I 2024-10-30 01:04:45,312] Trial 46 finished with value: 0.003440753440372646 and parameters: {'num_layers': 2, 'hidden_size': 72, 'lstm_dropout': 0.00046345141256493375, 'dense_dropout': 0.09849177941800408, 'learning_rate': 0.0024764550467251596}. Best is trial 41 with value: 0.001650667458306998.\n",
      "[I 2024-10-30 01:05:22,061] Trial 47 finished with value: 0.0019010557443834841 and parameters: {'num_layers': 2, 'hidden_size': 56, 'lstm_dropout': 0.023254156114445396, 'dense_dropout': 0.21874823653037762, 'learning_rate': 0.006995556470056182}. Best is trial 41 with value: 0.001650667458306998.\n",
      "[I 2024-10-30 01:05:59,621] Trial 48 finished with value: 0.0032112644403241575 and parameters: {'num_layers': 2, 'hidden_size': 40, 'lstm_dropout': 0.23500378850736367, 'dense_dropout': 0.2845457495700468, 'learning_rate': 0.009078766268459668}. Best is trial 41 with value: 0.001650667458306998.\n",
      "[I 2024-10-30 01:05:59,699] Trial 49 pruned. \n",
      "[I 2024-10-30 01:05:59,752] Trial 50 pruned. \n",
      "[I 2024-10-30 01:06:36,878] Trial 51 finished with value: 0.0017537906533107162 and parameters: {'num_layers': 2, 'hidden_size': 56, 'lstm_dropout': 0.021596586067969884, 'dense_dropout': 0.16503319841696387, 'learning_rate': 0.007507956195155823}. Best is trial 41 with value: 0.001650667458306998.\n",
      "[I 2024-10-30 01:07:14,780] Trial 52 finished with value: 0.002604028908535838 and parameters: {'num_layers': 2, 'hidden_size': 48, 'lstm_dropout': 0.019573871389274935, 'dense_dropout': 0.21752113273072332, 'learning_rate': 0.007464987487865126}. Best is trial 41 with value: 0.001650667458306998.\n",
      "[I 2024-10-30 01:07:14,832] Trial 53 pruned. \n",
      "[I 2024-10-30 01:07:50,801] Trial 54 finished with value: 0.00261574808973819 and parameters: {'num_layers': 2, 'hidden_size': 40, 'lstm_dropout': 0.06809319133946085, 'dense_dropout': 0.2026528218590031, 'learning_rate': 0.003379508655907063}. Best is trial 41 with value: 0.001650667458306998.\n",
      "[I 2024-10-30 01:07:50,889] Trial 55 pruned. \n",
      "[I 2024-10-30 01:07:50,952] Trial 56 pruned. \n",
      "[I 2024-10-30 01:07:51,042] Trial 57 pruned. \n",
      "[I 2024-10-30 01:07:51,109] Trial 58 pruned. \n",
      "[I 2024-10-30 01:07:51,162] Trial 59 pruned. \n",
      "[I 2024-10-30 01:07:51,215] Trial 60 pruned. \n",
      "[I 2024-10-30 01:08:27,898] Trial 61 finished with value: 0.0021617929451167583 and parameters: {'num_layers': 2, 'hidden_size': 56, 'lstm_dropout': 0.01597885034988599, 'dense_dropout': 0.15590268350436043, 'learning_rate': 0.006021474420746299}. Best is trial 41 with value: 0.001650667458306998.\n",
      "[I 2024-10-30 01:09:03,896] Trial 62 finished with value: 0.001706071081571281 and parameters: {'num_layers': 2, 'hidden_size': 80, 'lstm_dropout': 0.03882124978523227, 'dense_dropout': 0.19815271021441583, 'learning_rate': 0.004078645139243925}. Best is trial 41 with value: 0.001650667458306998.\n",
      "[I 2024-10-30 01:09:03,950] Trial 63 pruned. \n",
      "[I 2024-10-30 01:09:04,017] Trial 64 pruned. \n",
      "[I 2024-10-30 01:09:04,082] Trial 65 pruned. \n",
      "[I 2024-10-30 01:09:04,176] Trial 66 pruned. \n",
      "[I 2024-10-30 01:09:04,230] Trial 67 pruned. \n",
      "[I 2024-10-30 01:09:41,608] Trial 68 finished with value: 0.002588835370261222 and parameters: {'num_layers': 2, 'hidden_size': 80, 'lstm_dropout': 0.030072192992269833, 'dense_dropout': 0.246008908357985, 'learning_rate': 0.002662209105705696}. Best is trial 41 with value: 0.001650667458306998.\n",
      "[I 2024-10-30 01:10:17,591] Trial 69 finished with value: 0.0031358179403468966 and parameters: {'num_layers': 2, 'hidden_size': 64, 'lstm_dropout': 0.059253115887431235, 'dense_dropout': 0.17253362083009674, 'learning_rate': 0.007024674405333952}. Best is trial 41 with value: 0.001650667458306998.\n",
      "[I 2024-10-30 01:10:17,644] Trial 70 pruned. \n",
      "[I 2024-10-30 01:10:17,696] Trial 71 pruned. \n",
      "[I 2024-10-30 01:10:54,382] Trial 72 finished with value: 0.0020181909785605967 and parameters: {'num_layers': 2, 'hidden_size': 80, 'lstm_dropout': 0.0440421526228144, 'dense_dropout': 0.12508789222190345, 'learning_rate': 0.004236252302045976}. Best is trial 41 with value: 0.001650667458306998.\n",
      "[I 2024-10-30 01:11:30,982] Trial 73 finished with value: 0.0031565134413540363 and parameters: {'num_layers': 2, 'hidden_size': 80, 'lstm_dropout': 0.044661901267861695, 'dense_dropout': 0.07257622122577734, 'learning_rate': 0.009938855462719564}. Best is trial 41 with value: 0.001650667458306998.\n",
      "[I 2024-10-30 01:12:08,541] Trial 74 finished with value: 0.0021026169997639954 and parameters: {'num_layers': 2, 'hidden_size': 96, 'lstm_dropout': 0.015367960648656163, 'dense_dropout': 0.1230633172762272, 'learning_rate': 0.002035803265405859}. Best is trial 41 with value: 0.001650667458306998.\n",
      "[I 2024-10-30 01:12:46,362] Trial 75 finished with value: 0.0024694453459233046 and parameters: {'num_layers': 2, 'hidden_size': 88, 'lstm_dropout': 0.03206204626946464, 'dense_dropout': 0.21957593236308579, 'learning_rate': 0.0036759978829914255}. Best is trial 41 with value: 0.001650667458306998.\n",
      "[I 2024-10-30 01:13:22,758] Trial 76 finished with value: 0.0030067330226302147 and parameters: {'num_layers': 2, 'hidden_size': 80, 'lstm_dropout': 0.07533616603276463, 'dense_dropout': 0.1354802371060572, 'learning_rate': 0.002864683523957451}. Best is trial 41 with value: 0.001650667458306998.\n",
      "[I 2024-10-30 01:13:22,810] Trial 77 pruned. \n",
      "[I 2024-10-30 01:13:22,896] Trial 78 pruned. \n",
      "[I 2024-10-30 01:13:22,951] Trial 79 pruned. \n",
      "[I 2024-10-30 01:13:23,007] Trial 80 pruned. \n",
      "[I 2024-10-30 01:13:23,206] Trial 81 pruned. \n",
      "[I 2024-10-30 01:13:23,295] Trial 82 pruned. \n",
      "[I 2024-10-30 01:13:59,174] Trial 83 finished with value: 0.002412846777588129 and parameters: {'num_layers': 2, 'hidden_size': 104, 'lstm_dropout': 0.046730316479384776, 'dense_dropout': 0.14696779950513103, 'learning_rate': 0.006251348130869755}. Best is trial 41 with value: 0.001650667458306998.\n",
      "[I 2024-10-30 01:13:59,287] Trial 84 pruned. \n",
      "[I 2024-10-30 01:13:59,356] Trial 85 pruned. \n",
      "[I 2024-10-30 01:13:59,421] Trial 86 pruned. \n",
      "[I 2024-10-30 01:14:35,394] Trial 87 finished with value: 0.002553506230469793 and parameters: {'num_layers': 2, 'hidden_size': 72, 'lstm_dropout': 0.03398456194079437, 'dense_dropout': 0.16649433017919021, 'learning_rate': 0.011662765930214555}. Best is trial 41 with value: 0.001650667458306998.\n",
      "[I 2024-10-30 01:14:35,449] Trial 88 pruned. \n",
      "[I 2024-10-30 01:14:35,503] Trial 89 pruned. \n",
      "[I 2024-10-30 01:14:35,561] Trial 90 pruned. \n",
      "[I 2024-10-30 01:14:35,614] Trial 91 pruned. \n",
      "[I 2024-10-30 01:14:35,670] Trial 92 pruned. \n",
      "[I 2024-10-30 01:14:35,759] Trial 93 pruned. \n",
      "[I 2024-10-30 01:14:35,813] Trial 94 pruned. \n",
      "[I 2024-10-30 01:14:35,874] Trial 95 pruned. \n",
      "[I 2024-10-30 01:15:11,318] Trial 96 finished with value: 0.0021377685479819775 and parameters: {'num_layers': 2, 'hidden_size': 104, 'lstm_dropout': 0.06185813083418894, 'dense_dropout': 0.21960209086509402, 'learning_rate': 0.00438692267852595}. Best is trial 41 with value: 0.001650667458306998.\n",
      "[I 2024-10-30 01:15:11,369] Trial 97 pruned. \n",
      "[I 2024-10-30 01:15:11,421] Trial 98 pruned. \n",
      "[I 2024-10-30 01:15:47,600] Trial 99 finished with value: 0.0029466217383742332 and parameters: {'num_layers': 2, 'hidden_size': 88, 'lstm_dropout': 0.023830391421245763, 'dense_dropout': 0.2683475346296033, 'learning_rate': 0.007429376019746705}. Best is trial 41 with value: 0.001650667458306998.\n",
      "[I 2024-10-30 01:15:47,718] A new study created in memory with name: example-study\n"
     ]
    },
    {
     "name": "stdout",
     "output_type": "stream",
     "text": [
      "Study statistics: \n",
      "  Number of finished trials:  100\n",
      "  Number of pruned trials:  57\n",
      "  Number of complete trials:  43\n",
      "Best trial:\n",
      "  Value:  0.001650667458306998\n",
      "  Params: \n",
      "    num_layers: 2\n",
      "    hidden_size: 72\n",
      "    lstm_dropout: 0.032399367231173176\n",
      "    dense_dropout: 0.12860833882048817\n",
      "    learning_rate: 0.007965345776222715\n",
      "R2 for sim at Xunhua(1972-2017) 0.9526204865089549\n",
      "Warning: ARIMASimFlow column not found in data for Xunhua station, year 2019\n"
     ]
    },
    {
     "name": "stderr",
     "output_type": "stream",
     "text": [
      "[I 2024-10-30 01:16:29,368] Trial 0 finished with value: 0.003747583949007094 and parameters: {'num_layers': 3, 'hidden_size': 80, 'lstm_dropout': 0.37964189057182895, 'dense_dropout': 0.2442765563514594, 'learning_rate': 0.00021843807279510306}. Best is trial 0 with value: 0.003747583949007094.\n",
      "[I 2024-10-30 01:17:12,465] Trial 1 finished with value: 0.005353954387828708 and parameters: {'num_layers': 3, 'hidden_size': 8, 'lstm_dropout': 0.3809353769489302, 'dense_dropout': 0.04322386628640523, 'learning_rate': 0.0668430382733256}. Best is trial 0 with value: 0.003747583949007094.\n",
      "[I 2024-10-30 01:17:46,750] Trial 2 finished with value: 0.009128424571827054 and parameters: {'num_layers': 1, 'hidden_size': 72, 'lstm_dropout': 0.22838095608471365, 'dense_dropout': 0.48932519515732886, 'learning_rate': 0.0010045778213617932}. Best is trial 0 with value: 0.003747583949007094.\n",
      "[I 2024-10-30 01:18:31,458] Trial 3 finished with value: 0.006089309579692781 and parameters: {'num_layers': 3, 'hidden_size': 32, 'lstm_dropout': 0.08666742642212139, 'dense_dropout': 0.3191990337010186, 'learning_rate': 2.6577271298583845e-05}. Best is trial 0 with value: 0.003747583949007094.\n",
      "[I 2024-10-30 01:19:16,126] Trial 4 finished with value: 0.01597006246447563 and parameters: {'num_layers': 3, 'hidden_size': 8, 'lstm_dropout': 0.39747269056263435, 'dense_dropout': 0.4284250085643891, 'learning_rate': 2.1960113108879525e-05}. Best is trial 0 with value: 0.003747583949007094.\n",
      "[I 2024-10-30 01:19:16,185] Trial 5 pruned. \n",
      "[I 2024-10-30 01:19:54,131] Trial 6 finished with value: 0.004288499476388097 and parameters: {'num_layers': 2, 'hidden_size': 80, 'lstm_dropout': 0.028793352540722517, 'dense_dropout': 0.21944983698341708, 'learning_rate': 0.001359929281216348}. Best is trial 0 with value: 0.003747583949007094.\n",
      "[I 2024-10-30 01:19:54,210] Trial 7 pruned. \n",
      "[I 2024-10-30 01:20:36,288] Trial 8 finished with value: 0.013397302944213152 and parameters: {'num_layers': 3, 'hidden_size': 128, 'lstm_dropout': 0.34589556115887926, 'dense_dropout': 0.11176637835046138, 'learning_rate': 0.029639110129723294}. Best is trial 0 with value: 0.003747583949007094.\n",
      "[I 2024-10-30 01:21:14,196] Trial 9 finished with value: 0.004291575169190764 and parameters: {'num_layers': 2, 'hidden_size': 48, 'lstm_dropout': 0.22184256371852823, 'dense_dropout': 0.10012413830176276, 'learning_rate': 0.011493581337123441}. Best is trial 0 with value: 0.003747583949007094.\n",
      "[I 2024-10-30 01:21:17,155] Trial 10 pruned. \n",
      "[I 2024-10-30 01:21:55,101] Trial 11 finished with value: 0.0043070485116913915 and parameters: {'num_layers': 2, 'hidden_size': 96, 'lstm_dropout': 0.06805924443971734, 'dense_dropout': 0.18850838683578958, 'learning_rate': 0.002515191939031931}. Best is trial 0 with value: 0.003747583949007094.\n",
      "[I 2024-10-30 01:21:56,244] Trial 12 pruned. \n",
      "[I 2024-10-30 01:22:35,204] Trial 13 finished with value: 0.005058812443166971 and parameters: {'num_layers': 2, 'hidden_size': 56, 'lstm_dropout': 0.31112934833556016, 'dense_dropout': 0.27711209484165783, 'learning_rate': 0.003492181426482755}. Best is trial 0 with value: 0.003747583949007094.\n",
      "[I 2024-10-30 01:22:35,329] Trial 14 pruned. \n",
      "[I 2024-10-30 01:22:35,416] Trial 15 pruned. \n",
      "[I 2024-10-30 01:22:35,485] Trial 16 pruned. \n",
      "[I 2024-10-30 01:23:09,865] Trial 17 finished with value: 0.004601070890203118 and parameters: {'num_layers': 1, 'hidden_size': 88, 'lstm_dropout': 0.14417897707728888, 'dense_dropout': 0.02685654495577855, 'learning_rate': 0.0058469865577007755}. Best is trial 0 with value: 0.003747583949007094.\n",
      "[I 2024-10-30 01:23:09,919] Trial 18 pruned. \n",
      "[I 2024-10-30 01:23:10,007] Trial 19 pruned. \n",
      "[I 2024-10-30 01:23:10,076] Trial 20 pruned. \n",
      "[I 2024-10-30 01:23:50,231] Trial 21 finished with value: 0.0029579353285953403 and parameters: {'num_layers': 2, 'hidden_size': 40, 'lstm_dropout': 0.227803549829337, 'dense_dropout': 0.11686710755375179, 'learning_rate': 0.010310990073888419}. Best is trial 21 with value: 0.0029579353285953403.\n",
      "[I 2024-10-30 01:24:29,457] Trial 22 finished with value: 0.0036347955465316772 and parameters: {'num_layers': 2, 'hidden_size': 40, 'lstm_dropout': 0.15554420332595978, 'dense_dropout': 0.08822321146601479, 'learning_rate': 0.016549765733834366}. Best is trial 21 with value: 0.0029579353285953403.\n",
      "[I 2024-10-30 01:25:08,764] Trial 23 finished with value: 0.003964320989325643 and parameters: {'num_layers': 2, 'hidden_size': 32, 'lstm_dropout': 0.1602184515775702, 'dense_dropout': 0.07786846527757307, 'learning_rate': 0.016876002401200376}. Best is trial 21 with value: 0.0029579353285953403.\n",
      "[I 2024-10-30 01:25:09,092] Trial 24 pruned. \n",
      "[I 2024-10-30 01:25:44,131] Trial 25 finished with value: 0.002840370172634721 and parameters: {'num_layers': 1, 'hidden_size': 48, 'lstm_dropout': 0.17884992563890625, 'dense_dropout': 0.12848042850700064, 'learning_rate': 0.030891378825314515}. Best is trial 25 with value: 0.002840370172634721.\n",
      "[I 2024-10-30 01:26:19,250] Trial 26 finished with value: 0.004036914207972586 and parameters: {'num_layers': 1, 'hidden_size': 48, 'lstm_dropout': 0.10511536194082156, 'dense_dropout': 0.1373024688908629, 'learning_rate': 0.037886999311105396}. Best is trial 25 with value: 0.002840370172634721.\n",
      "[I 2024-10-30 01:26:19,299] Trial 27 pruned. \n",
      "[I 2024-10-30 01:26:19,382] Trial 28 pruned. \n",
      "[I 2024-10-30 01:26:19,430] Trial 29 pruned. \n",
      "[I 2024-10-30 01:26:21,808] Trial 30 pruned. \n",
      "[I 2024-10-30 01:26:21,877] Trial 31 pruned. \n",
      "[I 2024-10-30 01:26:21,932] Trial 32 pruned. \n",
      "[I 2024-10-30 01:26:21,995] Trial 33 pruned. \n",
      "[I 2024-10-30 01:26:22,067] Trial 34 pruned. \n",
      "[I 2024-10-30 01:26:22,171] Trial 35 pruned. \n",
      "[I 2024-10-30 01:26:22,269] Trial 36 pruned. \n",
      "[I 2024-10-30 01:26:22,390] Trial 37 pruned. \n",
      "[I 2024-10-30 01:26:22,584] Trial 38 pruned. \n",
      "[I 2024-10-30 01:26:22,665] Trial 39 pruned. \n",
      "[I 2024-10-30 01:26:22,740] Trial 40 pruned. \n",
      "[I 2024-10-30 01:26:22,822] Trial 41 pruned. \n",
      "[I 2024-10-30 01:26:22,897] Trial 42 pruned. \n",
      "[I 2024-10-30 01:26:22,964] Trial 43 pruned. \n",
      "[I 2024-10-30 01:26:23,035] Trial 44 pruned. \n",
      "[I 2024-10-30 01:27:01,983] Trial 45 finished with value: 0.00367589364759624 and parameters: {'num_layers': 2, 'hidden_size': 64, 'lstm_dropout': 0.13061426684307026, 'dense_dropout': 0.24076486622519158, 'learning_rate': 0.0037855485638756165}. Best is trial 25 with value: 0.002840370172634721.\n",
      "[I 2024-10-30 01:27:02,042] Trial 46 pruned. \n",
      "[I 2024-10-30 01:27:40,042] Trial 47 finished with value: 0.005436251405626535 and parameters: {'num_layers': 2, 'hidden_size': 80, 'lstm_dropout': 0.05448464434436193, 'dense_dropout': 0.3110196381038327, 'learning_rate': 0.003943847147892029}. Best is trial 25 with value: 0.002840370172634721.\n",
      "[I 2024-10-30 01:27:40,095] Trial 48 pruned. \n",
      "[I 2024-10-30 01:27:40,145] Trial 49 pruned. \n",
      "[I 2024-10-30 01:27:40,206] Trial 50 pruned. \n",
      "[I 2024-10-30 01:27:40,260] Trial 51 pruned. \n",
      "[I 2024-10-30 01:27:40,348] Trial 52 pruned. \n",
      "[I 2024-10-30 01:28:18,471] Trial 53 finished with value: 0.0027137468568980694 and parameters: {'num_layers': 2, 'hidden_size': 88, 'lstm_dropout': 0.18130728360354695, 'dense_dropout': 0.13452296363045613, 'learning_rate': 0.004754276830086625}. Best is trial 53 with value: 0.0027137468568980694.\n",
      "[I 2024-10-30 01:28:55,732] Trial 54 finished with value: 0.0029400053899735212 and parameters: {'num_layers': 2, 'hidden_size': 88, 'lstm_dropout': 0.1829893276180086, 'dense_dropout': 0.16835429839605537, 'learning_rate': 0.00478869407461607}. Best is trial 53 with value: 0.0027137468568980694.\n",
      "[I 2024-10-30 01:28:55,828] Trial 55 pruned. \n",
      "[I 2024-10-30 01:28:55,888] Trial 56 pruned. \n",
      "[I 2024-10-30 01:28:55,982] Trial 57 pruned. \n",
      "[I 2024-10-30 01:28:56,064] Trial 58 pruned. \n",
      "[I 2024-10-30 01:28:56,169] Trial 59 pruned. \n",
      "[I 2024-10-30 01:29:35,561] Trial 60 finished with value: 0.004523197188973427 and parameters: {'num_layers': 2, 'hidden_size': 88, 'lstm_dropout': 0.08590203232901318, 'dense_dropout': 0.09864829152061008, 'learning_rate': 0.012291638556551588}. Best is trial 53 with value: 0.0027137468568980694.\n",
      "[I 2024-10-30 01:29:35,619] Trial 61 pruned. \n",
      "[I 2024-10-30 01:29:35,676] Trial 62 pruned. \n",
      "[I 2024-10-30 01:29:35,942] Trial 63 pruned. \n",
      "[I 2024-10-30 01:29:36,001] Trial 64 pruned. \n",
      "[I 2024-10-30 01:29:36,068] Trial 65 pruned. \n",
      "[I 2024-10-30 01:29:36,390] Trial 66 pruned. \n",
      "[I 2024-10-30 01:29:36,458] Trial 67 pruned. \n",
      "[I 2024-10-30 01:29:36,507] Trial 68 pruned. \n",
      "[I 2024-10-30 01:29:36,567] Trial 69 pruned. \n",
      "[I 2024-10-30 01:29:36,627] Trial 70 pruned. \n",
      "[I 2024-10-30 01:29:36,680] Trial 71 pruned. \n",
      "[I 2024-10-30 01:29:36,736] Trial 72 pruned. \n",
      "[I 2024-10-30 01:29:36,795] Trial 73 pruned. \n",
      "[I 2024-10-30 01:29:36,850] Trial 74 pruned. \n",
      "[I 2024-10-30 01:29:36,910] Trial 75 pruned. \n",
      "[I 2024-10-30 01:30:13,068] Trial 76 finished with value: 0.004279710003174841 and parameters: {'num_layers': 1, 'hidden_size': 40, 'lstm_dropout': 0.14099412441532136, 'dense_dropout': 0.06658549719261792, 'learning_rate': 0.006462276739970646}. Best is trial 53 with value: 0.0027137468568980694.\n",
      "[I 2024-10-30 01:30:13,155] Trial 77 pruned. \n",
      "[I 2024-10-30 01:30:13,313] Trial 78 pruned. \n",
      "[I 2024-10-30 01:30:13,382] Trial 79 pruned. \n",
      "[I 2024-10-30 01:30:13,440] Trial 80 pruned. \n",
      "[I 2024-10-30 01:30:13,491] Trial 81 pruned. \n",
      "[I 2024-10-30 01:30:13,640] Trial 82 pruned. \n",
      "[I 2024-10-30 01:30:13,706] Trial 83 pruned. \n",
      "[I 2024-10-30 01:30:13,756] Trial 84 pruned. \n",
      "[I 2024-10-30 01:30:13,845] Trial 85 pruned. \n",
      "[I 2024-10-30 01:30:13,938] Trial 86 pruned. \n",
      "[I 2024-10-30 01:30:14,005] Trial 87 pruned. \n",
      "[I 2024-10-30 01:30:14,073] Trial 88 pruned. \n",
      "[I 2024-10-30 01:30:14,142] Trial 89 pruned. \n",
      "[I 2024-10-30 01:30:14,272] Trial 90 pruned. \n",
      "[I 2024-10-30 01:30:50,268] Trial 91 finished with value: 0.003957930486649275 and parameters: {'num_layers': 1, 'hidden_size': 40, 'lstm_dropout': 0.13989582696318398, 'dense_dropout': 0.06943309472073936, 'learning_rate': 0.006277905220778122}. Best is trial 53 with value: 0.0027137468568980694.\n",
      "[I 2024-10-30 01:31:25,760] Trial 92 finished with value: 0.005673120496794581 and parameters: {'num_layers': 1, 'hidden_size': 40, 'lstm_dropout': 0.12230257487252899, 'dense_dropout': 0.056672424721453916, 'learning_rate': 0.005850873964220645}. Best is trial 53 with value: 0.0027137468568980694.\n",
      "[I 2024-10-30 01:31:25,852] Trial 93 pruned. \n",
      "[I 2024-10-30 01:31:29,315] Trial 94 pruned. \n",
      "[I 2024-10-30 01:31:29,372] Trial 95 pruned. \n",
      "[I 2024-10-30 01:31:29,427] Trial 96 pruned. \n",
      "[I 2024-10-30 01:31:29,565] Trial 97 pruned. \n",
      "[I 2024-10-30 01:31:29,664] Trial 98 pruned. \n",
      "[I 2024-10-30 01:31:29,725] Trial 99 pruned. \n"
     ]
    },
    {
     "name": "stdout",
     "output_type": "stream",
     "text": [
      "Study statistics: \n",
      "  Number of finished trials:  100\n",
      "  Number of pruned trials:  76\n",
      "  Number of complete trials:  24\n",
      "Best trial:\n",
      "  Value:  0.0027137468568980694\n",
      "  Params: \n",
      "    num_layers: 2\n",
      "    hidden_size: 88\n",
      "    lstm_dropout: 0.18130728360354695\n",
      "    dense_dropout: 0.13452296363045613\n",
      "    learning_rate: 0.004754276830086625\n",
      "R2 for sim at Xunhua(1972-2018) 0.953830138844613\n",
      "R2 for pred at Xunhua(2015-2019) 0.3561776205338002\n"
     ]
    },
    {
     "data": {
      "application/vnd.plotly.v1+json": {
       "config": {
        "plotlyServerURL": "https://plot.ly"
       },
       "data": [
        {
         "mode": "lines",
         "name": "obs",
         "type": "scatter",
         "x": [
          "2015-01-01T00:00:00",
          "2015-02-01T00:00:00",
          "2015-03-01T00:00:00",
          "2015-04-01T00:00:00",
          "2015-05-01T00:00:00",
          "2015-06-01T00:00:00",
          "2015-07-01T00:00:00",
          "2015-08-01T00:00:00",
          "2015-09-01T00:00:00",
          "2015-10-01T00:00:00",
          "2015-11-01T00:00:00",
          "2015-12-01T00:00:00",
          "2016-01-01T00:00:00",
          "2016-02-01T00:00:00",
          "2016-03-01T00:00:00",
          "2016-04-01T00:00:00",
          "2016-05-01T00:00:00",
          "2016-06-01T00:00:00",
          "2016-07-01T00:00:00",
          "2016-08-01T00:00:00",
          "2016-09-01T00:00:00",
          "2016-10-01T00:00:00",
          "2016-11-01T00:00:00",
          "2016-12-01T00:00:00",
          "2017-01-01T00:00:00",
          "2017-02-01T00:00:00",
          "2017-03-01T00:00:00",
          "2017-04-01T00:00:00",
          "2017-05-01T00:00:00",
          "2017-06-01T00:00:00",
          "2017-07-01T00:00:00",
          "2017-08-01T00:00:00",
          "2017-09-01T00:00:00",
          "2017-10-01T00:00:00",
          "2017-11-01T00:00:00",
          "2017-12-01T00:00:00",
          "2018-01-01T00:00:00",
          "2018-02-01T00:00:00",
          "2018-03-01T00:00:00",
          "2018-04-01T00:00:00",
          "2018-05-01T00:00:00",
          "2018-06-01T00:00:00",
          "2018-07-01T00:00:00",
          "2018-08-01T00:00:00",
          "2018-09-01T00:00:00",
          "2018-10-01T00:00:00",
          "2018-11-01T00:00:00",
          "2018-12-01T00:00:00",
          "2019-01-01T00:00:00",
          "2019-02-01T00:00:00",
          "2019-03-01T00:00:00",
          "2019-04-01T00:00:00",
          "2019-05-01T00:00:00",
          "2019-06-01T00:00:00",
          "2019-07-01T00:00:00",
          "2019-08-01T00:00:00",
          "2019-09-01T00:00:00",
          "2019-10-01T00:00:00",
          "2019-11-01T00:00:00",
          "2019-12-01T00:00:00"
         ],
         "y": [
          233.72097778320315,
          210.4733886718748,
          237.33145141601537,
          260.23986816406244,
          300.58926391601545,
          746.3971557617185,
          1308.9274902343748,
          585.9125366210935,
          622.9486083984374,
          750.492248535156,
          409.0270690917968,
          239.57038879394517,
          159.8075561523434,
          151.5609436035156,
          201.71928405761716,
          298.9651794433592,
          473.18597412109364,
          672.2758178710936,
          734.846923828125,
          610.1930541992185,
          669.5579223632809,
          812.0487060546874,
          456.99038696289057,
          254.48411560058594,
          175.43865966796847,
          184.34480285644517,
          212.40403747558588,
          288.9980468749998,
          421.52920532226545,
          955.1680908203125,
          660.1066284179688,
          610.977355957031,
          1250.3574218749998,
          1628.143310546875,
          740.6163940429685,
          322.51168823242176,
          208.9342193603513,
          200.48898315429676,
          240.0946502685547,
          390.9962463378904,
          799.9525146484374,
          1042.3602294921873,
          2250.375,
          1345.0872802734373,
          2248.215576171875,
          1469.0262451171875,
          769.2869873046875,
          379.00366210937483,
          280.30691528320284,
          271.4028625488281,
          274.57778930664057,
          505.0815124511716,
          761.5518798828124,
          1674.694091796875,
          2222.146484375,
          1581.6751708984375,
          1800.034423828125,
          1441.9842529296875,
          784.3594360351561,
          359.44024658203114
         ]
        },
        {
         "mode": "lines",
         "name": "pred",
         "type": "scatter",
         "x": [
          "2015-01-01T00:00:00",
          "2015-02-01T00:00:00",
          "2015-03-01T00:00:00",
          "2015-04-01T00:00:00",
          "2015-05-01T00:00:00",
          "2015-06-01T00:00:00",
          "2015-07-01T00:00:00",
          "2015-08-01T00:00:00",
          "2015-09-01T00:00:00",
          "2015-10-01T00:00:00",
          "2015-11-01T00:00:00",
          "2015-12-01T00:00:00",
          "2016-01-01T00:00:00",
          "2016-02-01T00:00:00",
          "2016-03-01T00:00:00",
          "2016-04-01T00:00:00",
          "2016-05-01T00:00:00",
          "2016-06-01T00:00:00",
          "2016-07-01T00:00:00",
          "2016-08-01T00:00:00",
          "2016-09-01T00:00:00",
          "2016-10-01T00:00:00",
          "2016-11-01T00:00:00",
          "2016-12-01T00:00:00",
          "2017-01-01T00:00:00",
          "2017-02-01T00:00:00",
          "2017-03-01T00:00:00",
          "2017-04-01T00:00:00",
          "2017-05-01T00:00:00",
          "2017-06-01T00:00:00",
          "2017-07-01T00:00:00",
          "2017-08-01T00:00:00",
          "2017-09-01T00:00:00",
          "2017-10-01T00:00:00",
          "2017-11-01T00:00:00",
          "2017-12-01T00:00:00",
          "2018-01-01T00:00:00",
          "2018-02-01T00:00:00",
          "2018-03-01T00:00:00",
          "2018-04-01T00:00:00",
          "2018-05-01T00:00:00",
          "2018-06-01T00:00:00",
          "2018-07-01T00:00:00",
          "2018-08-01T00:00:00",
          "2018-09-01T00:00:00",
          "2018-10-01T00:00:00",
          "2018-11-01T00:00:00",
          "2018-12-01T00:00:00",
          "2019-01-01T00:00:00",
          "2019-02-01T00:00:00",
          "2019-03-01T00:00:00",
          "2019-04-01T00:00:00",
          "2019-05-01T00:00:00",
          "2019-06-01T00:00:00",
          "2019-07-01T00:00:00",
          "2019-08-01T00:00:00",
          "2019-09-01T00:00:00",
          "2019-10-01T00:00:00",
          "2019-11-01T00:00:00",
          "2019-12-01T00:00:00"
         ],
         "y": [
          164.19248962402344,
          192.312744140625,
          264.57220458984375,
          384.4783020019531,
          633.7667236328125,
          828.9580078125,
          1273.5689697265625,
          1280.073974609375,
          1315.4073486328125,
          1238.84521484375,
          600.938720703125,
          254.76763916015625,
          182.33070373535156,
          162.3138885498047,
          190.01797485351562,
          331.9379577636719,
          443.5084228515625,
          748.0772705078125,
          800.931640625,
          823.7011108398438,
          1221.1949462890625,
          915.1837158203125,
          461.9217529296875,
          272.4682922363281,
          223.9055938720703,
          196.04347229003906,
          221.50868225097656,
          276.0959777832031,
          408.5146484375,
          617.0394287109375,
          870.1602172851562,
          722.8890380859375,
          1173.3702392578125,
          839.51025390625,
          498.2774963378906,
          292.3233337402344,
          195.1499786376953,
          170.12741088867188,
          205.47967529296875,
          278.9597473144531,
          383.2852478027344,
          758.8203125,
          1273.9273681640625,
          797.7814331054688,
          788.2996215820312,
          789.6453247070312,
          424.744384765625,
          223.41983032226562,
          277.1109619140625,
          261.5127258300781,
          272.4942626953125,
          320.9788818359375,
          504.1046142578125,
          676.4338989257812,
          762.8501586914062,
          986.4700317382812,
          777.0538330078125,
          726.4404907226562,
          478.63812255859375,
          276.5807189941406
         ]
        }
       ],
       "layout": {
        "template": {
         "data": {
          "bar": [
           {
            "error_x": {
             "color": "#2a3f5f"
            },
            "error_y": {
             "color": "#2a3f5f"
            },
            "marker": {
             "line": {
              "color": "white",
              "width": 0.5
             },
             "pattern": {
              "fillmode": "overlay",
              "size": 10,
              "solidity": 0.2
             }
            },
            "type": "bar"
           }
          ],
          "barpolar": [
           {
            "marker": {
             "line": {
              "color": "white",
              "width": 0.5
             },
             "pattern": {
              "fillmode": "overlay",
              "size": 10,
              "solidity": 0.2
             }
            },
            "type": "barpolar"
           }
          ],
          "carpet": [
           {
            "aaxis": {
             "endlinecolor": "#2a3f5f",
             "gridcolor": "#C8D4E3",
             "linecolor": "#C8D4E3",
             "minorgridcolor": "#C8D4E3",
             "startlinecolor": "#2a3f5f"
            },
            "baxis": {
             "endlinecolor": "#2a3f5f",
             "gridcolor": "#C8D4E3",
             "linecolor": "#C8D4E3",
             "minorgridcolor": "#C8D4E3",
             "startlinecolor": "#2a3f5f"
            },
            "type": "carpet"
           }
          ],
          "choropleth": [
           {
            "colorbar": {
             "outlinewidth": 0,
             "ticks": ""
            },
            "type": "choropleth"
           }
          ],
          "contour": [
           {
            "colorbar": {
             "outlinewidth": 0,
             "ticks": ""
            },
            "colorscale": [
             [
              0,
              "#0d0887"
             ],
             [
              0.1111111111111111,
              "#46039f"
             ],
             [
              0.2222222222222222,
              "#7201a8"
             ],
             [
              0.3333333333333333,
              "#9c179e"
             ],
             [
              0.4444444444444444,
              "#bd3786"
             ],
             [
              0.5555555555555556,
              "#d8576b"
             ],
             [
              0.6666666666666666,
              "#ed7953"
             ],
             [
              0.7777777777777778,
              "#fb9f3a"
             ],
             [
              0.8888888888888888,
              "#fdca26"
             ],
             [
              1,
              "#f0f921"
             ]
            ],
            "type": "contour"
           }
          ],
          "contourcarpet": [
           {
            "colorbar": {
             "outlinewidth": 0,
             "ticks": ""
            },
            "type": "contourcarpet"
           }
          ],
          "heatmap": [
           {
            "colorbar": {
             "outlinewidth": 0,
             "ticks": ""
            },
            "colorscale": [
             [
              0,
              "#0d0887"
             ],
             [
              0.1111111111111111,
              "#46039f"
             ],
             [
              0.2222222222222222,
              "#7201a8"
             ],
             [
              0.3333333333333333,
              "#9c179e"
             ],
             [
              0.4444444444444444,
              "#bd3786"
             ],
             [
              0.5555555555555556,
              "#d8576b"
             ],
             [
              0.6666666666666666,
              "#ed7953"
             ],
             [
              0.7777777777777778,
              "#fb9f3a"
             ],
             [
              0.8888888888888888,
              "#fdca26"
             ],
             [
              1,
              "#f0f921"
             ]
            ],
            "type": "heatmap"
           }
          ],
          "heatmapgl": [
           {
            "colorbar": {
             "outlinewidth": 0,
             "ticks": ""
            },
            "colorscale": [
             [
              0,
              "#0d0887"
             ],
             [
              0.1111111111111111,
              "#46039f"
             ],
             [
              0.2222222222222222,
              "#7201a8"
             ],
             [
              0.3333333333333333,
              "#9c179e"
             ],
             [
              0.4444444444444444,
              "#bd3786"
             ],
             [
              0.5555555555555556,
              "#d8576b"
             ],
             [
              0.6666666666666666,
              "#ed7953"
             ],
             [
              0.7777777777777778,
              "#fb9f3a"
             ],
             [
              0.8888888888888888,
              "#fdca26"
             ],
             [
              1,
              "#f0f921"
             ]
            ],
            "type": "heatmapgl"
           }
          ],
          "histogram": [
           {
            "marker": {
             "pattern": {
              "fillmode": "overlay",
              "size": 10,
              "solidity": 0.2
             }
            },
            "type": "histogram"
           }
          ],
          "histogram2d": [
           {
            "colorbar": {
             "outlinewidth": 0,
             "ticks": ""
            },
            "colorscale": [
             [
              0,
              "#0d0887"
             ],
             [
              0.1111111111111111,
              "#46039f"
             ],
             [
              0.2222222222222222,
              "#7201a8"
             ],
             [
              0.3333333333333333,
              "#9c179e"
             ],
             [
              0.4444444444444444,
              "#bd3786"
             ],
             [
              0.5555555555555556,
              "#d8576b"
             ],
             [
              0.6666666666666666,
              "#ed7953"
             ],
             [
              0.7777777777777778,
              "#fb9f3a"
             ],
             [
              0.8888888888888888,
              "#fdca26"
             ],
             [
              1,
              "#f0f921"
             ]
            ],
            "type": "histogram2d"
           }
          ],
          "histogram2dcontour": [
           {
            "colorbar": {
             "outlinewidth": 0,
             "ticks": ""
            },
            "colorscale": [
             [
              0,
              "#0d0887"
             ],
             [
              0.1111111111111111,
              "#46039f"
             ],
             [
              0.2222222222222222,
              "#7201a8"
             ],
             [
              0.3333333333333333,
              "#9c179e"
             ],
             [
              0.4444444444444444,
              "#bd3786"
             ],
             [
              0.5555555555555556,
              "#d8576b"
             ],
             [
              0.6666666666666666,
              "#ed7953"
             ],
             [
              0.7777777777777778,
              "#fb9f3a"
             ],
             [
              0.8888888888888888,
              "#fdca26"
             ],
             [
              1,
              "#f0f921"
             ]
            ],
            "type": "histogram2dcontour"
           }
          ],
          "mesh3d": [
           {
            "colorbar": {
             "outlinewidth": 0,
             "ticks": ""
            },
            "type": "mesh3d"
           }
          ],
          "parcoords": [
           {
            "line": {
             "colorbar": {
              "outlinewidth": 0,
              "ticks": ""
             }
            },
            "type": "parcoords"
           }
          ],
          "pie": [
           {
            "automargin": true,
            "type": "pie"
           }
          ],
          "scatter": [
           {
            "fillpattern": {
             "fillmode": "overlay",
             "size": 10,
             "solidity": 0.2
            },
            "type": "scatter"
           }
          ],
          "scatter3d": [
           {
            "line": {
             "colorbar": {
              "outlinewidth": 0,
              "ticks": ""
             }
            },
            "marker": {
             "colorbar": {
              "outlinewidth": 0,
              "ticks": ""
             }
            },
            "type": "scatter3d"
           }
          ],
          "scattercarpet": [
           {
            "marker": {
             "colorbar": {
              "outlinewidth": 0,
              "ticks": ""
             }
            },
            "type": "scattercarpet"
           }
          ],
          "scattergeo": [
           {
            "marker": {
             "colorbar": {
              "outlinewidth": 0,
              "ticks": ""
             }
            },
            "type": "scattergeo"
           }
          ],
          "scattergl": [
           {
            "marker": {
             "colorbar": {
              "outlinewidth": 0,
              "ticks": ""
             }
            },
            "type": "scattergl"
           }
          ],
          "scattermapbox": [
           {
            "marker": {
             "colorbar": {
              "outlinewidth": 0,
              "ticks": ""
             }
            },
            "type": "scattermapbox"
           }
          ],
          "scatterpolar": [
           {
            "marker": {
             "colorbar": {
              "outlinewidth": 0,
              "ticks": ""
             }
            },
            "type": "scatterpolar"
           }
          ],
          "scatterpolargl": [
           {
            "marker": {
             "colorbar": {
              "outlinewidth": 0,
              "ticks": ""
             }
            },
            "type": "scatterpolargl"
           }
          ],
          "scatterternary": [
           {
            "marker": {
             "colorbar": {
              "outlinewidth": 0,
              "ticks": ""
             }
            },
            "type": "scatterternary"
           }
          ],
          "surface": [
           {
            "colorbar": {
             "outlinewidth": 0,
             "ticks": ""
            },
            "colorscale": [
             [
              0,
              "#0d0887"
             ],
             [
              0.1111111111111111,
              "#46039f"
             ],
             [
              0.2222222222222222,
              "#7201a8"
             ],
             [
              0.3333333333333333,
              "#9c179e"
             ],
             [
              0.4444444444444444,
              "#bd3786"
             ],
             [
              0.5555555555555556,
              "#d8576b"
             ],
             [
              0.6666666666666666,
              "#ed7953"
             ],
             [
              0.7777777777777778,
              "#fb9f3a"
             ],
             [
              0.8888888888888888,
              "#fdca26"
             ],
             [
              1,
              "#f0f921"
             ]
            ],
            "type": "surface"
           }
          ],
          "table": [
           {
            "cells": {
             "fill": {
              "color": "#EBF0F8"
             },
             "line": {
              "color": "white"
             }
            },
            "header": {
             "fill": {
              "color": "#C8D4E3"
             },
             "line": {
              "color": "white"
             }
            },
            "type": "table"
           }
          ]
         },
         "layout": {
          "annotationdefaults": {
           "arrowcolor": "#2a3f5f",
           "arrowhead": 0,
           "arrowwidth": 1
          },
          "autotypenumbers": "strict",
          "coloraxis": {
           "colorbar": {
            "outlinewidth": 0,
            "ticks": ""
           }
          },
          "colorscale": {
           "diverging": [
            [
             0,
             "#8e0152"
            ],
            [
             0.1,
             "#c51b7d"
            ],
            [
             0.2,
             "#de77ae"
            ],
            [
             0.3,
             "#f1b6da"
            ],
            [
             0.4,
             "#fde0ef"
            ],
            [
             0.5,
             "#f7f7f7"
            ],
            [
             0.6,
             "#e6f5d0"
            ],
            [
             0.7,
             "#b8e186"
            ],
            [
             0.8,
             "#7fbc41"
            ],
            [
             0.9,
             "#4d9221"
            ],
            [
             1,
             "#276419"
            ]
           ],
           "sequential": [
            [
             0,
             "#0d0887"
            ],
            [
             0.1111111111111111,
             "#46039f"
            ],
            [
             0.2222222222222222,
             "#7201a8"
            ],
            [
             0.3333333333333333,
             "#9c179e"
            ],
            [
             0.4444444444444444,
             "#bd3786"
            ],
            [
             0.5555555555555556,
             "#d8576b"
            ],
            [
             0.6666666666666666,
             "#ed7953"
            ],
            [
             0.7777777777777778,
             "#fb9f3a"
            ],
            [
             0.8888888888888888,
             "#fdca26"
            ],
            [
             1,
             "#f0f921"
            ]
           ],
           "sequentialminus": [
            [
             0,
             "#0d0887"
            ],
            [
             0.1111111111111111,
             "#46039f"
            ],
            [
             0.2222222222222222,
             "#7201a8"
            ],
            [
             0.3333333333333333,
             "#9c179e"
            ],
            [
             0.4444444444444444,
             "#bd3786"
            ],
            [
             0.5555555555555556,
             "#d8576b"
            ],
            [
             0.6666666666666666,
             "#ed7953"
            ],
            [
             0.7777777777777778,
             "#fb9f3a"
            ],
            [
             0.8888888888888888,
             "#fdca26"
            ],
            [
             1,
             "#f0f921"
            ]
           ]
          },
          "colorway": [
           "#636efa",
           "#EF553B",
           "#00cc96",
           "#ab63fa",
           "#FFA15A",
           "#19d3f3",
           "#FF6692",
           "#B6E880",
           "#FF97FF",
           "#FECB52"
          ],
          "font": {
           "color": "#2a3f5f"
          },
          "geo": {
           "bgcolor": "white",
           "lakecolor": "white",
           "landcolor": "white",
           "showlakes": true,
           "showland": true,
           "subunitcolor": "#C8D4E3"
          },
          "hoverlabel": {
           "align": "left"
          },
          "hovermode": "closest",
          "mapbox": {
           "style": "light"
          },
          "paper_bgcolor": "white",
          "plot_bgcolor": "white",
          "polar": {
           "angularaxis": {
            "gridcolor": "#EBF0F8",
            "linecolor": "#EBF0F8",
            "ticks": ""
           },
           "bgcolor": "white",
           "radialaxis": {
            "gridcolor": "#EBF0F8",
            "linecolor": "#EBF0F8",
            "ticks": ""
           }
          },
          "scene": {
           "xaxis": {
            "backgroundcolor": "white",
            "gridcolor": "#DFE8F3",
            "gridwidth": 2,
            "linecolor": "#EBF0F8",
            "showbackground": true,
            "ticks": "",
            "zerolinecolor": "#EBF0F8"
           },
           "yaxis": {
            "backgroundcolor": "white",
            "gridcolor": "#DFE8F3",
            "gridwidth": 2,
            "linecolor": "#EBF0F8",
            "showbackground": true,
            "ticks": "",
            "zerolinecolor": "#EBF0F8"
           },
           "zaxis": {
            "backgroundcolor": "white",
            "gridcolor": "#DFE8F3",
            "gridwidth": 2,
            "linecolor": "#EBF0F8",
            "showbackground": true,
            "ticks": "",
            "zerolinecolor": "#EBF0F8"
           }
          },
          "shapedefaults": {
           "line": {
            "color": "#2a3f5f"
           }
          },
          "ternary": {
           "aaxis": {
            "gridcolor": "#DFE8F3",
            "linecolor": "#A2B1C6",
            "ticks": ""
           },
           "baxis": {
            "gridcolor": "#DFE8F3",
            "linecolor": "#A2B1C6",
            "ticks": ""
           },
           "bgcolor": "white",
           "caxis": {
            "gridcolor": "#DFE8F3",
            "linecolor": "#A2B1C6",
            "ticks": ""
           }
          },
          "title": {
           "x": 0.05
          },
          "xaxis": {
           "automargin": true,
           "gridcolor": "#EBF0F8",
           "linecolor": "#EBF0F8",
           "ticks": "",
           "title": {
            "standoff": 15
           },
           "zerolinecolor": "#EBF0F8",
           "zerolinewidth": 2
          },
          "yaxis": {
           "automargin": true,
           "gridcolor": "#EBF0F8",
           "linecolor": "#EBF0F8",
           "ticks": "",
           "title": {
            "standoff": 15
           },
           "zerolinecolor": "#EBF0F8",
           "zerolinewidth": 2
          }
         }
        }
       }
      }
     },
     "metadata": {},
     "output_type": "display_data"
    }
   ],
   "source": [
    "selected_features = ['P2020(mm)','MAX-TEM(C)','MIN-TEM(C)','flow(m^3/s)']\n",
    "start_year = 1972\n",
    "pred_years = np.arange(2015,2020)\n",
    "RETRAIN = True\n",
    "name = 'InputOutputSamples_metesimyr'\n",
    "batch_size = 32\n",
    "ystar_col = \"pred\"\n",
    "if not os.path.exists(sample_path):\n",
    "    os.makedirs(sample_path)\n",
    "for hydro_station in hydro_stations:\n",
    "    sample_path = f'../samples/SequenceSamples/{hydro_station}/{name}/'\n",
    "    if not os.path.exists(sample_path):\n",
    "        os.makedirs(sample_path)\n",
    "    result_path = f'../result/LSTMRegressorData/{hydro_station}/{name}/'\n",
    "    if not os.path.exists(result_path):\n",
    "        os.makedirs(result_path)\n",
    "    pred_df = pd.DataFrame()\n",
    "    for pred_year in pred_years:\n",
    "        model_path = f'../model/12MonthlyFlowProcessForecast_{hydro_station}/LSTMRegressorModel/{name}/pred{pred_year}/'\n",
    "        if not os.path.exists(model_path):\n",
    "            os.makedirs(model_path)\n",
    "        df = pd.read_csv(\n",
    "            f'../samples/{name}/{hydro_station}_MeteAVGCalvalFeatureDataForML_PRED{pred_year}.csv',\n",
    "            index_col=['date'], parse_dates=['date']\n",
    "        )\n",
    "\n",
    "        df = df[selected_features]\n",
    "\n",
    "        # Check if 'ARIMASimFlow' exists in df columns\n",
    "        if 'ARIMASimFlow' not in df.columns:\n",
    "            print(f\"Warning: ARIMASimFlow column not found in data for {hydro_station} station, year {pred_year}\")\n",
    "        \n",
    "        target = 'flow(m^3/s)'\n",
    "        features = list(df.columns.difference([target]))\n",
    "        features = list(df.columns.copy())\n",
    "        features.remove(target)\n",
    "        cal = df.loc[:f'{pred_year-6}-12-31',:]\n",
    "        test = df.loc[f'{pred_year-6}-01-01':f'{pred_year-1}-12-31',:]\n",
    "        pre = df.loc[f'{pred_year-1}-01-01':f'{pred_year}-12-31',:]\n",
    "        X_scaler = MinMaxScaler(feature_range=(0,1))\n",
    "        Y_scaler = MinMaxScaler(feature_range=(0,1))\n",
    "        X_scaler.fit(cal[features])\n",
    "        Y_scaler.fit(cal[[target]])\n",
    "        cal_X = X_scaler.transform(cal[features])\n",
    "        test_X = X_scaler.transform(test[features])\n",
    "        pre_X = X_scaler.transform(pre[features])\n",
    "        cal_y = Y_scaler.transform(cal[[target]])\n",
    "        test_y = Y_scaler.transform(test[[target]])\n",
    "        pre_y = Y_scaler.transform(pre[[target]])\n",
    "        cal = pd.concat([pd.DataFrame(cal_X,columns=features,index=cal.index),pd.DataFrame(cal_y,columns=[target],index=cal.index)],axis=1)\n",
    "        test = pd.concat([pd.DataFrame(test_X,columns=features,index=test.index),pd.DataFrame(test_y,columns=[target],index=test.index)],axis=1)\n",
    "        pre = pd.concat([pd.DataFrame(pre_X,columns=features,index=pre.index),pd.DataFrame(pre_y,columns=[target],index=pre.index)],axis=1)\n",
    "        cal.to_csv(sample_path+f'cal_{start_year}_{pred_year-6}.csv')\n",
    "        test.to_csv(sample_path+f'test_{pred_year-5}_{pred_year-1}.csv')\n",
    "        pre.to_csv(sample_path+f'pre_{pred_year}.csv')\n",
    "\n",
    "        sequence_length =12\n",
    "        cal_dataset = SimulatedSequenceDataset(\n",
    "            dataframe=cal.copy(),\n",
    "            target=target,\n",
    "            features=features,\n",
    "            sequence_length=sequence_length\n",
    "        )\n",
    "        test_dataset = SimulatedSequenceDataset(\n",
    "            dataframe=test.copy(),\n",
    "            target=target,\n",
    "            features=features,\n",
    "            sequence_length=sequence_length\n",
    "        )\n",
    "\n",
    "        i=0\n",
    "        X, y = cal_dataset[i]\n",
    "        # print(X)\n",
    "        # print(y)\n",
    "\n",
    "        # print(cal_dataset.X.shape, cal_dataset.y.shape)\n",
    "        # print(test_dataset.X.shape, test_dataset.y.shape)\n",
    "\n",
    "        cal_index = cal.index[sequence_length:]\n",
    "        test_index = test.index[sequence_length:]\n",
    "\n",
    "        # print(len(cal_index)==cal_dataset.__len__())\n",
    "        # print(len(test_index)==test_dataset.__len__())\n",
    "\n",
    "       \n",
    "        \n",
    "        if not os.path.exists(model_path+'model.pickle'):\n",
    "            objective = Objective(\n",
    "                    train_dataset=cal_dataset,\n",
    "                    val_dataset=test_dataset,\n",
    "                    num_epoch=1000,# 1000\n",
    "                    batch_size=batch_size,\n",
    "                    shuffle=True,\n",
    "                    model_path='./scheme/LSTMRegressor/',\n",
    "            )\n",
    "            study = optuna.create_study(\n",
    "                    study_name='example-study',\n",
    "                    direction='minimize',\n",
    "                )\n",
    "            study.optimize(objective, n_trials=100) #100\n",
    "\n",
    "            pruned_trials = study.get_trials(deepcopy=False, states=[TrialState.PRUNED])\n",
    "            complete_trials = study.get_trials(deepcopy=False, states=[TrialState.COMPLETE])\n",
    "\n",
    "\n",
    "            print(\"Study statistics: \")\n",
    "            print(\"  Number of finished trials: \", len(study.trials))\n",
    "            print(\"  Number of pruned trials: \", len(pruned_trials))\n",
    "            print(\"  Number of complete trials: \", len(complete_trials))\n",
    "\n",
    "            print(\"Best trial:\")\n",
    "            trial = study.best_trial\n",
    "\n",
    "            save_best_trial(trial, model_path=model_path)\n",
    "\n",
    "            save_model(trial, model_path=model_path)\n",
    "\n",
    "            best_model_state = trial.user_attrs[\"best_model_state\"]\n",
    "            print(\"  Value: \", trial.value)\n",
    "            print(\"  Params: \")\n",
    "            for key, value in trial.params.items():\n",
    "                print(\"    {}: {}\".format(key, value))\n",
    "\n",
    "            best_trial = load_best_trial(model_file=model_path+'best_trial.pickle')\n",
    "            model = load_model(model_file=model_path+'model.pickle').to(DEVICE)\n",
    "            cal_loader = DataLoader(cal_dataset, batch_size=64, shuffle=False)\n",
    "            test_loader = DataLoader(test_dataset, batch_size=64, shuffle=False)\n",
    "\n",
    "            cal_ = cal.loc[cal_index,[target]].copy()\n",
    "            test_ = test.loc[test_index,[target]].copy()\n",
    "\n",
    "            cal_[ystar_col] = predict(cal_loader, model).cpu().numpy()\n",
    "            test_[ystar_col] = predict(test_loader, model).cpu().numpy()\n",
    "\n",
    "            df_out = pd.concat((cal_, test_))[[target, ystar_col]]\n",
    "            for c in df_out.columns:\n",
    "                # df_out[c] = df_out[c] * target_std + target_mean\n",
    "                df_out[c] = Y_scaler.inverse_transform(df_out[[c]])\n",
    "            # print(df_out)\n",
    "            df_out = df_out.rename(columns={target: 'obs'})\n",
    "            print(f'R2 for sim at {hydro_station}({start_year}-{pred_year-1})',r2_score(df_out['obs'],df_out[ystar_col]))\n",
    "            df_out.to_csv(result_path+f'cal_test_sim_{start_year}_{pred_year-1}.csv')\n",
    "        else:\n",
    "            df_out = pd.read_csv(result_path+f'cal_test_sim_{start_year}_{pred_year-1}.csv',index_col=['date'], parse_dates=['date'])\n",
    "            print(f'R2 for sim at {hydro_station}({start_year}-{pred_year-1})',r2_score(df_out['obs'],df_out[ystar_col]))\n",
    "            print(f'model already exists in {model_path}')\n",
    "\n",
    "        # !Perform prediction\n",
    "        pre = pd.read_csv(sample_path+f'pre_{pred_year}.csv',index_col=['date'], parse_dates=['date'])\n",
    "        pre_dataset = SimulatedSequenceDataset(\n",
    "            dataframe=pre.copy(),\n",
    "            target=target,\n",
    "            features=features,\n",
    "            sequence_length=sequence_length\n",
    "        )\n",
    "        pre_loader = DataLoader(pre_dataset, batch_size=batch_size, shuffle=False)\n",
    "        pre_index = pre.index[sequence_length:]\n",
    "        pre_ = pre.loc[pre_index,[target]].copy()\n",
    "        model = load_model(model_file=model_path+'model.pickle').to(DEVICE)\n",
    "        pre_[ystar_col] = predict(pre_loader, model).cpu().numpy()\n",
    "        for c in pre_.columns:\n",
    "            # df_out[c] = df_out[c] * target_std + target_mean\n",
    "            pre_[c] = Y_scaler.inverse_transform(pre_[[c]])\n",
    "        pred_df = pd.concat((pred_df, pre_), axis=0)\n",
    "    pred_df = pred_df.rename(columns={'flow(m^3/s)': 'obs'})\n",
    "    print(f'R2 for pred at {hydro_station}({pred_years[0]}-{pred_years[-1]})',r2_score(pred_df['obs'],pred_df['pred']))\n",
    "    pred_df.to_csv(result_path+f'vif_lstm_pred_{pred_years[0]}_{pred_years[-1]}.csv')\n",
    "    # Visualization of the flow(m^3/s) and VIF_LSTM of pred_df\n",
    "    fig = go.Figure()\n",
    "    fig.add_trace(go.Scatter(x=pred_df.index, y=pred_df['obs'], mode='lines', name='obs'))\n",
    "    fig.add_trace(go.Scatter(x=pred_df.index, y=pred_df['pred'], mode='lines', name='pred'))\n",
    "    fig.show()"
   ]
  }
 ],
 "metadata": {
  "kernelspec": {
   "display_name": "tf210",
   "language": "python",
   "name": "python3"
  },
  "language_info": {
   "codemirror_mode": {
    "name": "ipython",
    "version": 3
   },
   "file_extension": ".py",
   "mimetype": "text/x-python",
   "name": "python",
   "nbconvert_exporter": "python",
   "pygments_lexer": "ipython3",
   "version": "3.12.7"
  }
 },
 "nbformat": 4,
 "nbformat_minor": 2
}
