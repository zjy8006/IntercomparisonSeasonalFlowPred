{
 "cells": [
  {
   "cell_type": "code",
   "execution_count": 1,
   "metadata": {},
   "outputs": [],
   "source": [
    "import pandas as pd\n",
    "import numpy as np\n",
    "hydro_stations = ['Tangnaihai','Guide','Xunhua']\n",
    "\n",
    "hydrostation_abbrs = {'Tangnaihai':'TNH','Guide':'GD','Xunhua':'XH'}\n",
    "hydrostation_channel = {'Tangnaihai':'3','Guide':'14','Xunhua':'9'}\n",
    "# read observed climate data\n",
    "hydrostation_metestations = {\n",
    "    'Tangnaihai': [\n",
    "        '玛多', '达日', '久治', '红原', '若尔盖', '玛曲', '玛沁', '河南', '兴海',\n",
    "    ],\n",
    "    'Guide': [\n",
    "        '玛多', '达日', '久治', '红原', '若尔盖', '玛曲', '玛沁', '河南', '兴海',\n",
    "        '贵南', '共和', '贵德',\n",
    "    ],\n",
    "    'Xunhua': [\n",
    "        '玛多', '达日', '久治', '红原', '若尔盖', '玛曲', '玛沁', '河南', '兴海',\n",
    "        '贵南', '共和', '贵德', '同仁',\n",
    "    ]\n",
    "}\n",
    "\n",
    "hydrostation_path = {\n",
    "    'Tangnaihai': 'D:/WorkSpace/QGIS/QSWATPlus/YellowRiverTNH2024//Scenarios/',\n",
    "    'Guide': 'D:/WorkSpace/QGIS/QSWATPlus/YellowRiverXH20240912//Scenarios/',\n",
    "    'Xunhua': 'D:/WorkSpace/QGIS/QSWATPlus/YellowRiverXH20240912/Scenarios/',\n",
    "}\n"
   ]
  },
  {
   "cell_type": "markdown",
   "metadata": {},
   "source": [
    "Extract water balance data for prediction years from MeteSimYear."
   ]
  },
  {
   "cell_type": "code",
   "execution_count": 4,
   "metadata": {},
   "outputs": [
    {
     "name": "stderr",
     "output_type": "stream",
     "text": [
      "C:\\Users\\ZJY\\AppData\\Local\\Temp\\ipykernel_57820\\3621436843.py:3: FutureWarning: The 'delim_whitespace' keyword in pd.read_csv is deprecated and will be removed in a future version. Use ``sep='\\s+'`` instead\n",
      "  basin_wb_mon = pd.read_csv(f'D:/WorkSpace/QGIS/QSWATPlus/YellowRiverTNH2024/Scenarios/yellowrivertnh_pred{year}/YellowRiverTNH_pred{year}-spt/scenarios/Toolbox/Calibration/basin_wb_mon.txt',delim_whitespace=True, skiprows=3, header=None)\n",
      "C:\\Users\\ZJY\\AppData\\Local\\Temp\\ipykernel_57820\\3621436843.py:3: FutureWarning: The 'delim_whitespace' keyword in pd.read_csv is deprecated and will be removed in a future version. Use ``sep='\\s+'`` instead\n",
      "  basin_wb_mon = pd.read_csv(f'D:/WorkSpace/QGIS/QSWATPlus/YellowRiverTNH2024/Scenarios/yellowrivertnh_pred{year}/YellowRiverTNH_pred{year}-spt/scenarios/Toolbox/Calibration/basin_wb_mon.txt',delim_whitespace=True, skiprows=3, header=None)\n",
      "C:\\Users\\ZJY\\AppData\\Local\\Temp\\ipykernel_57820\\3621436843.py:3: FutureWarning: The 'delim_whitespace' keyword in pd.read_csv is deprecated and will be removed in a future version. Use ``sep='\\s+'`` instead\n",
      "  basin_wb_mon = pd.read_csv(f'D:/WorkSpace/QGIS/QSWATPlus/YellowRiverTNH2024/Scenarios/yellowrivertnh_pred{year}/YellowRiverTNH_pred{year}-spt/scenarios/Toolbox/Calibration/basin_wb_mon.txt',delim_whitespace=True, skiprows=3, header=None)\n",
      "C:\\Users\\ZJY\\AppData\\Local\\Temp\\ipykernel_57820\\3621436843.py:3: FutureWarning: The 'delim_whitespace' keyword in pd.read_csv is deprecated and will be removed in a future version. Use ``sep='\\s+'`` instead\n",
      "  basin_wb_mon = pd.read_csv(f'D:/WorkSpace/QGIS/QSWATPlus/YellowRiverTNH2024/Scenarios/yellowrivertnh_pred{year}/YellowRiverTNH_pred{year}-spt/scenarios/Toolbox/Calibration/basin_wb_mon.txt',delim_whitespace=True, skiprows=3, header=None)\n",
      "C:\\Users\\ZJY\\AppData\\Local\\Temp\\ipykernel_57820\\3621436843.py:3: FutureWarning: The 'delim_whitespace' keyword in pd.read_csv is deprecated and will be removed in a future version. Use ``sep='\\s+'`` instead\n",
      "  basin_wb_mon = pd.read_csv(f'D:/WorkSpace/QGIS/QSWATPlus/YellowRiverTNH2024/Scenarios/yellowrivertnh_pred{year}/YellowRiverTNH_pred{year}-spt/scenarios/Toolbox/Calibration/basin_wb_mon.txt',delim_whitespace=True, skiprows=3, header=None)\n"
     ]
    }
   ],
   "source": [
    "years = np.arange(2015,2020)\n",
    "for year in years:\n",
    "    basin_wb_mon = pd.read_csv(f'D:/WorkSpace/QGIS/QSWATPlus/YellowRiverTNH2024/Scenarios/yellowrivertnh_pred{year}/YellowRiverTNH_pred{year}-spt/scenarios/Toolbox/Calibration/basin_wb_mon.txt',delim_whitespace=True, skiprows=3, header=None)\n",
    "    basin_wb_mon.columns=['jday','mon','day','yr','unit','gis_id','name',\n",
    "                      'precip(mm)','snofall(mm)','snomlt(mm)','surq_gen(mm)','latq(mm)','wateryld(mm)','perc(mm)',\n",
    "                      'et(mm)','ecanopy(mm)','eplant(mm)','esoil(mm)','surq_cont(mm)',\n",
    "                      'cn','sw_init(mm)','sw_final(mm)','sw_ave(mm)','sw_300(mm)',\n",
    "                      'sno_init(mm)','sno_final(mm)','snopack(mm)',\n",
    "                      'pet(mm)','qtile(mm)','irr(mm)','surq_runon(mm)','latq_runon(mm)',\n",
    "                      'overbank(mm)','surq_cha(mm)','surq_res(mm)','surq_ls(mm)',\n",
    "                      'latq_cha(mm)','latq_res(mm)','latq_ls(mm)','gwsoilq(mm)',\n",
    "                      'satex(mm)','satex_chan(mm)','sw_change(mm)','lagsurf(mm)',\n",
    "                      'laglatq(mm)','lagsatex(mm)','wet_evap(mm)','wet_oflo(mm)','wet_stor(mm)']\n",
    "    basin_wb_mon['mon'] = basin_wb_mon['mon'].apply(lambda x: f'{x:02d}')\n",
    "    # 合并年份和月份列，中间加 '-'\n",
    "    basin_wb_mon.insert(0,'date',basin_wb_mon['yr'].astype(str) + '-' + basin_wb_mon['mon']+'-01')\n",
    "    basin_wb_mon.loc[basin_wb_mon['name'] == 'Yellow_River_Chi', 'name'] = 'YellowRiverTNH'\n",
    "    basin_wb_mon = basin_wb_mon.drop(columns=['jday','unit','gis_id'])\n",
    "    basin_wb_mon.to_csv(f'../result/SWATPlusWaterBlanceDataFromMeteSimYr/YellowRiverTNH_BasinWaterBalance_pred{year}.csv',index=False)"
   ]
  },
  {
   "cell_type": "code",
   "execution_count": 5,
   "metadata": {},
   "outputs": [
    {
     "name": "stderr",
     "output_type": "stream",
     "text": [
      "C:\\Users\\ZJY\\AppData\\Local\\Temp\\ipykernel_57820\\2130934999.py:3: FutureWarning: The 'delim_whitespace' keyword in pd.read_csv is deprecated and will be removed in a future version. Use ``sep='\\s+'`` instead\n",
      "  basin_wb_mon = pd.read_csv(f'D:/WorkSpace/QGIS/QSWATPlus/YellowRiverXH20240912/Scenarios/yellowriverxh_pred{year}/YellowRiverXH_pred{year}-spt/scenarios/Toolbox/Calibration/basin_wb_mon.txt',delim_whitespace=True, skiprows=3, header=None)\n",
      "C:\\Users\\ZJY\\AppData\\Local\\Temp\\ipykernel_57820\\2130934999.py:3: FutureWarning: The 'delim_whitespace' keyword in pd.read_csv is deprecated and will be removed in a future version. Use ``sep='\\s+'`` instead\n",
      "  basin_wb_mon = pd.read_csv(f'D:/WorkSpace/QGIS/QSWATPlus/YellowRiverXH20240912/Scenarios/yellowriverxh_pred{year}/YellowRiverXH_pred{year}-spt/scenarios/Toolbox/Calibration/basin_wb_mon.txt',delim_whitespace=True, skiprows=3, header=None)\n",
      "C:\\Users\\ZJY\\AppData\\Local\\Temp\\ipykernel_57820\\2130934999.py:3: FutureWarning: The 'delim_whitespace' keyword in pd.read_csv is deprecated and will be removed in a future version. Use ``sep='\\s+'`` instead\n",
      "  basin_wb_mon = pd.read_csv(f'D:/WorkSpace/QGIS/QSWATPlus/YellowRiverXH20240912/Scenarios/yellowriverxh_pred{year}/YellowRiverXH_pred{year}-spt/scenarios/Toolbox/Calibration/basin_wb_mon.txt',delim_whitespace=True, skiprows=3, header=None)\n",
      "C:\\Users\\ZJY\\AppData\\Local\\Temp\\ipykernel_57820\\2130934999.py:3: FutureWarning: The 'delim_whitespace' keyword in pd.read_csv is deprecated and will be removed in a future version. Use ``sep='\\s+'`` instead\n",
      "  basin_wb_mon = pd.read_csv(f'D:/WorkSpace/QGIS/QSWATPlus/YellowRiverXH20240912/Scenarios/yellowriverxh_pred{year}/YellowRiverXH_pred{year}-spt/scenarios/Toolbox/Calibration/basin_wb_mon.txt',delim_whitespace=True, skiprows=3, header=None)\n",
      "C:\\Users\\ZJY\\AppData\\Local\\Temp\\ipykernel_57820\\2130934999.py:3: FutureWarning: The 'delim_whitespace' keyword in pd.read_csv is deprecated and will be removed in a future version. Use ``sep='\\s+'`` instead\n",
      "  basin_wb_mon = pd.read_csv(f'D:/WorkSpace/QGIS/QSWATPlus/YellowRiverXH20240912/Scenarios/yellowriverxh_pred{year}/YellowRiverXH_pred{year}-spt/scenarios/Toolbox/Calibration/basin_wb_mon.txt',delim_whitespace=True, skiprows=3, header=None)\n"
     ]
    }
   ],
   "source": [
    "years = np.arange(2015,2020) # !已修改\n",
    "for year in years:\n",
    "    basin_wb_mon = pd.read_csv(f'D:/WorkSpace/QGIS/QSWATPlus/YellowRiverXH20240912/Scenarios/yellowriverxh_pred{year}/YellowRiverXH_pred{year}-spt/scenarios/Toolbox/Calibration/basin_wb_mon.txt',delim_whitespace=True, skiprows=3, header=None)\n",
    "    basin_wb_mon.columns=['jday','mon','day','yr','unit','gis_id','name',\n",
    "                      'precip(mm)','snofall(mm)','snomlt(mm)','surq_gen(mm)','latq(mm)','wateryld(mm)','perc(mm)',\n",
    "                      'et(mm)','ecanopy(mm)','eplant(mm)','esoil(mm)','surq_cont(mm)',\n",
    "                      'cn','sw_init(mm)','sw_final(mm)','sw_ave(mm)','sw_300(mm)',\n",
    "                      'sno_init(mm)','sno_final(mm)','snopack(mm)',\n",
    "                      'pet(mm)','qtile(mm)','irr(mm)','surq_runon(mm)','latq_runon(mm)',\n",
    "                      'overbank(mm)','surq_cha(mm)','surq_res(mm)','surq_ls(mm)',\n",
    "                      'latq_cha(mm)','latq_res(mm)','latq_ls(mm)','gwsoilq(mm)',\n",
    "                      'satex(mm)','satex_chan(mm)','sw_change(mm)','lagsurf(mm)',\n",
    "                      'laglatq(mm)','lagsatex(mm)','wet_evap(mm)','wet_oflo(mm)','wet_stor(mm)']\n",
    "    basin_wb_mon['mon'] = basin_wb_mon['mon'].apply(lambda x: f'{x:02d}')\n",
    "    # 合并年份和月份列，中间加 '-'\n",
    "    basin_wb_mon.insert(0,'date',basin_wb_mon['yr'].astype(str) + '-' + basin_wb_mon['mon']+'-01')\n",
    "    basin_wb_mon.loc[basin_wb_mon['name'] == 'Yellow_River_Xun', 'name'] = 'YellowRiverGD'\n",
    "    basin_wb_mon = basin_wb_mon.drop(columns=['jday','unit','gis_id'])\n",
    "    basin_wb_mon.to_csv(f'../result/SWATPlusWaterBlanceDataFromMeteSimYr/YellowRiverGD_BasinWaterBalance_pred{year}.csv',index=False)"
   ]
  },
  {
   "cell_type": "code",
   "execution_count": 6,
   "metadata": {},
   "outputs": [
    {
     "name": "stderr",
     "output_type": "stream",
     "text": [
      "C:\\Users\\ZJY\\AppData\\Local\\Temp\\ipykernel_57820\\2050200473.py:3: FutureWarning: The 'delim_whitespace' keyword in pd.read_csv is deprecated and will be removed in a future version. Use ``sep='\\s+'`` instead\n",
      "  basin_wb_mon = pd.read_csv(f'D:/WorkSpace/QGIS/QSWATPlus/YellowRiverXH20240912/Scenarios/yellowriverxh_pred{year}/YellowRiverXH_pred{year}-spt/scenarios/Toolbox/Calibration/basin_wb_mon.txt',delim_whitespace=True, skiprows=3, header=None)\n",
      "C:\\Users\\ZJY\\AppData\\Local\\Temp\\ipykernel_57820\\2050200473.py:3: FutureWarning: The 'delim_whitespace' keyword in pd.read_csv is deprecated and will be removed in a future version. Use ``sep='\\s+'`` instead\n",
      "  basin_wb_mon = pd.read_csv(f'D:/WorkSpace/QGIS/QSWATPlus/YellowRiverXH20240912/Scenarios/yellowriverxh_pred{year}/YellowRiverXH_pred{year}-spt/scenarios/Toolbox/Calibration/basin_wb_mon.txt',delim_whitespace=True, skiprows=3, header=None)\n",
      "C:\\Users\\ZJY\\AppData\\Local\\Temp\\ipykernel_57820\\2050200473.py:3: FutureWarning: The 'delim_whitespace' keyword in pd.read_csv is deprecated and will be removed in a future version. Use ``sep='\\s+'`` instead\n",
      "  basin_wb_mon = pd.read_csv(f'D:/WorkSpace/QGIS/QSWATPlus/YellowRiverXH20240912/Scenarios/yellowriverxh_pred{year}/YellowRiverXH_pred{year}-spt/scenarios/Toolbox/Calibration/basin_wb_mon.txt',delim_whitespace=True, skiprows=3, header=None)\n",
      "C:\\Users\\ZJY\\AppData\\Local\\Temp\\ipykernel_57820\\2050200473.py:3: FutureWarning: The 'delim_whitespace' keyword in pd.read_csv is deprecated and will be removed in a future version. Use ``sep='\\s+'`` instead\n",
      "  basin_wb_mon = pd.read_csv(f'D:/WorkSpace/QGIS/QSWATPlus/YellowRiverXH20240912/Scenarios/yellowriverxh_pred{year}/YellowRiverXH_pred{year}-spt/scenarios/Toolbox/Calibration/basin_wb_mon.txt',delim_whitespace=True, skiprows=3, header=None)\n",
      "C:\\Users\\ZJY\\AppData\\Local\\Temp\\ipykernel_57820\\2050200473.py:3: FutureWarning: The 'delim_whitespace' keyword in pd.read_csv is deprecated and will be removed in a future version. Use ``sep='\\s+'`` instead\n",
      "  basin_wb_mon = pd.read_csv(f'D:/WorkSpace/QGIS/QSWATPlus/YellowRiverXH20240912/Scenarios/yellowriverxh_pred{year}/YellowRiverXH_pred{year}-spt/scenarios/Toolbox/Calibration/basin_wb_mon.txt',delim_whitespace=True, skiprows=3, header=None)\n"
     ]
    }
   ],
   "source": [
    "years = np.arange(2015,2020) # !已修改 Xunhua\n",
    "for year in years:\n",
    "    basin_wb_mon = pd.read_csv(f'D:/WorkSpace/QGIS/QSWATPlus/YellowRiverXH20240912/Scenarios/yellowriverxh_pred{year}/YellowRiverXH_pred{year}-spt/scenarios/Toolbox/Calibration/basin_wb_mon.txt',delim_whitespace=True, skiprows=3, header=None)\n",
    "    basin_wb_mon.columns=['jday','mon','day','yr','unit','gis_id','name',\n",
    "                      'precip(mm)','snofall(mm)','snomlt(mm)','surq_gen(mm)','latq(mm)','wateryld(mm)','perc(mm)',\n",
    "                      'et(mm)','ecanopy(mm)','eplant(mm)','esoil(mm)','surq_cont(mm)',\n",
    "                      'cn','sw_init(mm)','sw_final(mm)','sw_ave(mm)','sw_300(mm)',\n",
    "                      'sno_init(mm)','sno_final(mm)','snopack(mm)',\n",
    "                      'pet(mm)','qtile(mm)','irr(mm)','surq_runon(mm)','latq_runon(mm)',\n",
    "                      'overbank(mm)','surq_cha(mm)','surq_res(mm)','surq_ls(mm)',\n",
    "                      'latq_cha(mm)','latq_res(mm)','latq_ls(mm)','gwsoilq(mm)',\n",
    "                      'satex(mm)','satex_chan(mm)','sw_change(mm)','lagsurf(mm)',\n",
    "                      'laglatq(mm)','lagsatex(mm)','wet_evap(mm)','wet_oflo(mm)','wet_stor(mm)']\n",
    "    basin_wb_mon['mon'] = basin_wb_mon['mon'].apply(lambda x: f'{x:02d}')\n",
    "    # 合并年份和月份列，中间加 '-'\n",
    "    basin_wb_mon.insert(0,'date',basin_wb_mon['yr'].astype(str) + '-' + basin_wb_mon['mon']+'-01')\n",
    "    basin_wb_mon.loc[basin_wb_mon['name'] == 'Yellow_River_Xun', 'name'] = 'YellowRiverXH'\n",
    "    basin_wb_mon = basin_wb_mon.drop(columns=['jday','unit','gis_id'])\n",
    "    basin_wb_mon.to_csv(f'../result/SWATPlusWaterBlanceDataFromMeteSimYr/YellowRiverXH_BasinWaterBalance_pred{year}.csv',index=False)"
   ]
  },
  {
   "cell_type": "code",
   "execution_count": null,
   "metadata": {},
   "outputs": [],
   "source": [
    "years = np.arange(2015,2020) # !已修改 Xunhua\n",
    "for year in years:\n",
    "    basin_wb_mon = pd.read_csv(f'D:/WorkSpace/QGIS/QSWATPlus/YellowRiverXH20240912/Scenarios/yellowriverxh_pred{year}/YellowRiverXH_pred{year}-spt/scenarios/Toolbox/Calibration/basin_wb_mon.txt',delim_whitespace=True, skiprows=3, header=None)\n",
    "    basin_wb_mon.columns=['jday','mon','day','yr','unit','gis_id','name',\n",
    "                      'precip(mm)','snofall(mm)','snomlt(mm)','surq_gen(mm)','latq(mm)','wateryld(mm)','perc(mm)',\n",
    "                      'et(mm)','ecanopy(mm)','eplant(mm)','esoil(mm)','surq_cont(mm)',\n",
    "                      'cn','sw_init(mm)','sw_final(mm)','sw_ave(mm)','sw_300(mm)',\n",
    "                      'sno_init(mm)','sno_final(mm)','snopack(mm)',\n",
    "                      'pet(mm)','qtile(mm)','irr(mm)','surq_runon(mm)','latq_runon(mm)',\n",
    "                      'overbank(mm)','surq_cha(mm)','surq_res(mm)','surq_ls(mm)',\n",
    "                      'latq_cha(mm)','latq_res(mm)','latq_ls(mm)','gwsoilq(mm)',\n",
    "                      'satex(mm)','satex_chan(mm)','sw_change(mm)','lagsurf(mm)',\n",
    "                      'laglatq(mm)','lagsatex(mm)','wet_evap(mm)','wet_oflo(mm)','wet_stor(mm)']\n",
    "    basin_wb_mon['mon'] = basin_wb_mon['mon'].apply(lambda x: f'{x:02d}')\n",
    "    # 合并年份和月份列，中间加 '-'\n",
    "    basin_wb_mon.insert(0,'date',basin_wb_mon['yr'].astype(str) + '-' + basin_wb_mon['mon']+'-01')\n",
    "    basin_wb_mon.loc[basin_wb_mon['name'] == 'Yellow_River_Xun', 'name'] = 'YellowRiverXH'\n",
    "    basin_wb_mon = basin_wb_mon.drop(columns=['jday','unit','gis_id'])\n",
    "    basin_wb_mon.to_csv(f'../result/SWATPlusWaterBlanceDataFromMeteSimYr/YellowRiverXH_BasinWaterBalance_pred{year}.csv',index=False)"
   ]
  },
  {
   "cell_type": "markdown",
   "metadata": {},
   "source": [
    "Extract water balance data for prediction years from HydroSimYear.\n"
   ]
  },
  {
   "cell_type": "code",
   "execution_count": 14,
   "metadata": {},
   "outputs": [
    {
     "name": "stderr",
     "output_type": "stream",
     "text": [
      "C:\\Users\\ZJY\\AppData\\Local\\Temp\\ipykernel_57820\\2407876036.py:6: FutureWarning: The 'delim_whitespace' keyword in pd.read_csv is deprecated and will be removed in a future version. Use ``sep='\\s+'`` instead\n",
      "  basin_wb_mon = pd.read_csv(hydro_station_path+f'{hydro_station_abbr.lower()}_hydro_mete_pred{year}/{hydro_station_abbr.lower()}_hydro_mete_pred{year}-spt/scenarios/Toolbox/Calibration/basin_wb_mon.txt',delim_whitespace=True, skiprows=3, header=None)\n",
      "C:\\Users\\ZJY\\AppData\\Local\\Temp\\ipykernel_57820\\2407876036.py:6: FutureWarning: The 'delim_whitespace' keyword in pd.read_csv is deprecated and will be removed in a future version. Use ``sep='\\s+'`` instead\n",
      "  basin_wb_mon = pd.read_csv(hydro_station_path+f'{hydro_station_abbr.lower()}_hydro_mete_pred{year}/{hydro_station_abbr.lower()}_hydro_mete_pred{year}-spt/scenarios/Toolbox/Calibration/basin_wb_mon.txt',delim_whitespace=True, skiprows=3, header=None)\n",
      "C:\\Users\\ZJY\\AppData\\Local\\Temp\\ipykernel_57820\\2407876036.py:6: FutureWarning: The 'delim_whitespace' keyword in pd.read_csv is deprecated and will be removed in a future version. Use ``sep='\\s+'`` instead\n",
      "  basin_wb_mon = pd.read_csv(hydro_station_path+f'{hydro_station_abbr.lower()}_hydro_mete_pred{year}/{hydro_station_abbr.lower()}_hydro_mete_pred{year}-spt/scenarios/Toolbox/Calibration/basin_wb_mon.txt',delim_whitespace=True, skiprows=3, header=None)\n",
      "C:\\Users\\ZJY\\AppData\\Local\\Temp\\ipykernel_57820\\2407876036.py:6: FutureWarning: The 'delim_whitespace' keyword in pd.read_csv is deprecated and will be removed in a future version. Use ``sep='\\s+'`` instead\n",
      "  basin_wb_mon = pd.read_csv(hydro_station_path+f'{hydro_station_abbr.lower()}_hydro_mete_pred{year}/{hydro_station_abbr.lower()}_hydro_mete_pred{year}-spt/scenarios/Toolbox/Calibration/basin_wb_mon.txt',delim_whitespace=True, skiprows=3, header=None)\n",
      "C:\\Users\\ZJY\\AppData\\Local\\Temp\\ipykernel_57820\\2407876036.py:6: FutureWarning: The 'delim_whitespace' keyword in pd.read_csv is deprecated and will be removed in a future version. Use ``sep='\\s+'`` instead\n",
      "  basin_wb_mon = pd.read_csv(hydro_station_path+f'{hydro_station_abbr.lower()}_hydro_mete_pred{year}/{hydro_station_abbr.lower()}_hydro_mete_pred{year}-spt/scenarios/Toolbox/Calibration/basin_wb_mon.txt',delim_whitespace=True, skiprows=3, header=None)\n",
      "C:\\Users\\ZJY\\AppData\\Local\\Temp\\ipykernel_57820\\2407876036.py:6: FutureWarning: The 'delim_whitespace' keyword in pd.read_csv is deprecated and will be removed in a future version. Use ``sep='\\s+'`` instead\n",
      "  basin_wb_mon = pd.read_csv(hydro_station_path+f'{hydro_station_abbr.lower()}_hydro_mete_pred{year}/{hydro_station_abbr.lower()}_hydro_mete_pred{year}-spt/scenarios/Toolbox/Calibration/basin_wb_mon.txt',delim_whitespace=True, skiprows=3, header=None)\n",
      "C:\\Users\\ZJY\\AppData\\Local\\Temp\\ipykernel_57820\\2407876036.py:6: FutureWarning: The 'delim_whitespace' keyword in pd.read_csv is deprecated and will be removed in a future version. Use ``sep='\\s+'`` instead\n",
      "  basin_wb_mon = pd.read_csv(hydro_station_path+f'{hydro_station_abbr.lower()}_hydro_mete_pred{year}/{hydro_station_abbr.lower()}_hydro_mete_pred{year}-spt/scenarios/Toolbox/Calibration/basin_wb_mon.txt',delim_whitespace=True, skiprows=3, header=None)\n",
      "C:\\Users\\ZJY\\AppData\\Local\\Temp\\ipykernel_57820\\2407876036.py:6: FutureWarning: The 'delim_whitespace' keyword in pd.read_csv is deprecated and will be removed in a future version. Use ``sep='\\s+'`` instead\n",
      "  basin_wb_mon = pd.read_csv(hydro_station_path+f'{hydro_station_abbr.lower()}_hydro_mete_pred{year}/{hydro_station_abbr.lower()}_hydro_mete_pred{year}-spt/scenarios/Toolbox/Calibration/basin_wb_mon.txt',delim_whitespace=True, skiprows=3, header=None)\n",
      "C:\\Users\\ZJY\\AppData\\Local\\Temp\\ipykernel_57820\\2407876036.py:6: FutureWarning: The 'delim_whitespace' keyword in pd.read_csv is deprecated and will be removed in a future version. Use ``sep='\\s+'`` instead\n",
      "  basin_wb_mon = pd.read_csv(hydro_station_path+f'{hydro_station_abbr.lower()}_hydro_mete_pred{year}/{hydro_station_abbr.lower()}_hydro_mete_pred{year}-spt/scenarios/Toolbox/Calibration/basin_wb_mon.txt',delim_whitespace=True, skiprows=3, header=None)\n",
      "C:\\Users\\ZJY\\AppData\\Local\\Temp\\ipykernel_57820\\2407876036.py:6: FutureWarning: The 'delim_whitespace' keyword in pd.read_csv is deprecated and will be removed in a future version. Use ``sep='\\s+'`` instead\n",
      "  basin_wb_mon = pd.read_csv(hydro_station_path+f'{hydro_station_abbr.lower()}_hydro_mete_pred{year}/{hydro_station_abbr.lower()}_hydro_mete_pred{year}-spt/scenarios/Toolbox/Calibration/basin_wb_mon.txt',delim_whitespace=True, skiprows=3, header=None)\n",
      "C:\\Users\\ZJY\\AppData\\Local\\Temp\\ipykernel_57820\\2407876036.py:6: FutureWarning: The 'delim_whitespace' keyword in pd.read_csv is deprecated and will be removed in a future version. Use ``sep='\\s+'`` instead\n",
      "  basin_wb_mon = pd.read_csv(hydro_station_path+f'{hydro_station_abbr.lower()}_hydro_mete_pred{year}/{hydro_station_abbr.lower()}_hydro_mete_pred{year}-spt/scenarios/Toolbox/Calibration/basin_wb_mon.txt',delim_whitespace=True, skiprows=3, header=None)\n",
      "C:\\Users\\ZJY\\AppData\\Local\\Temp\\ipykernel_57820\\2407876036.py:6: FutureWarning: The 'delim_whitespace' keyword in pd.read_csv is deprecated and will be removed in a future version. Use ``sep='\\s+'`` instead\n",
      "  basin_wb_mon = pd.read_csv(hydro_station_path+f'{hydro_station_abbr.lower()}_hydro_mete_pred{year}/{hydro_station_abbr.lower()}_hydro_mete_pred{year}-spt/scenarios/Toolbox/Calibration/basin_wb_mon.txt',delim_whitespace=True, skiprows=3, header=None)\n",
      "C:\\Users\\ZJY\\AppData\\Local\\Temp\\ipykernel_57820\\2407876036.py:6: FutureWarning: The 'delim_whitespace' keyword in pd.read_csv is deprecated and will be removed in a future version. Use ``sep='\\s+'`` instead\n",
      "  basin_wb_mon = pd.read_csv(hydro_station_path+f'{hydro_station_abbr.lower()}_hydro_mete_pred{year}/{hydro_station_abbr.lower()}_hydro_mete_pred{year}-spt/scenarios/Toolbox/Calibration/basin_wb_mon.txt',delim_whitespace=True, skiprows=3, header=None)\n",
      "C:\\Users\\ZJY\\AppData\\Local\\Temp\\ipykernel_57820\\2407876036.py:6: FutureWarning: The 'delim_whitespace' keyword in pd.read_csv is deprecated and will be removed in a future version. Use ``sep='\\s+'`` instead\n",
      "  basin_wb_mon = pd.read_csv(hydro_station_path+f'{hydro_station_abbr.lower()}_hydro_mete_pred{year}/{hydro_station_abbr.lower()}_hydro_mete_pred{year}-spt/scenarios/Toolbox/Calibration/basin_wb_mon.txt',delim_whitespace=True, skiprows=3, header=None)\n",
      "C:\\Users\\ZJY\\AppData\\Local\\Temp\\ipykernel_57820\\2407876036.py:6: FutureWarning: The 'delim_whitespace' keyword in pd.read_csv is deprecated and will be removed in a future version. Use ``sep='\\s+'`` instead\n",
      "  basin_wb_mon = pd.read_csv(hydro_station_path+f'{hydro_station_abbr.lower()}_hydro_mete_pred{year}/{hydro_station_abbr.lower()}_hydro_mete_pred{year}-spt/scenarios/Toolbox/Calibration/basin_wb_mon.txt',delim_whitespace=True, skiprows=3, header=None)\n"
     ]
    }
   ],
   "source": [
    "years = np.arange(2015,2020)\n",
    "for hydro_station in hydro_stations:\n",
    "    hydro_station_path = hydrostation_path[hydro_station]\n",
    "    hydro_station_abbr = hydrostation_abbrs[hydro_station]\n",
    "    for year in years:\n",
    "        basin_wb_mon = pd.read_csv(hydro_station_path+f'{hydro_station_abbr.lower()}_hydro_mete_pred{year}/{hydro_station_abbr.lower()}_hydro_mete_pred{year}-spt/scenarios/Toolbox/Calibration/basin_wb_mon.txt',delim_whitespace=True, skiprows=3, header=None)\n",
    "        basin_wb_mon.columns=['jday','mon','day','yr','unit','gis_id','name',\n",
    "                      'precip(mm)','snofall(mm)','snomlt(mm)','surq_gen(mm)','latq(mm)','wateryld(mm)','perc(mm)',\n",
    "                      'et(mm)','ecanopy(mm)','eplant(mm)','esoil(mm)','surq_cont(mm)',\n",
    "                      'cn','sw_init(mm)','sw_final(mm)','sw_ave(mm)','sw_300(mm)',\n",
    "                      'sno_init(mm)','sno_final(mm)','snopack(mm)',\n",
    "                      'pet(mm)','qtile(mm)','irr(mm)','surq_runon(mm)','latq_runon(mm)',\n",
    "                      'overbank(mm)','surq_cha(mm)','surq_res(mm)','surq_ls(mm)',\n",
    "                      'latq_cha(mm)','latq_res(mm)','latq_ls(mm)','gwsoilq(mm)',\n",
    "                      'satex(mm)','satex_chan(mm)','sw_change(mm)','lagsurf(mm)',\n",
    "                      'laglatq(mm)','lagsatex(mm)','wet_evap(mm)','wet_oflo(mm)','wet_stor(mm)']\n",
    "        basin_wb_mon['mon'] = basin_wb_mon['mon'].apply(lambda x: f'{x:02d}')\n",
    "        # 合并年份和月份列，中间加 '-'\n",
    "        basin_wb_mon.insert(0,'date',basin_wb_mon['yr'].astype(str) + '-' + basin_wb_mon['mon']+'-01')\n",
    "        basin_wb_mon.loc[basin_wb_mon['name'] == f'Yellow_River_{hydro_station}', 'name'] = f'YellowRiver{hydro_station}'\n",
    "        basin_wb_mon = basin_wb_mon.drop(columns=['jday','unit','gis_id'])\n",
    "        basin_wb_mon.to_csv(f'../result/SWATPlusWaterBlanceDataFromHydroSimYr/YellowRiver{hydro_station_abbr}_BasinWaterBalance_pred{year}.csv',index=False)\n",
    "\n"
   ]
  },
  {
   "cell_type": "code",
   "execution_count": 3,
   "metadata": {},
   "outputs": [
    {
     "name": "stderr",
     "output_type": "stream",
     "text": [
      "C:\\Users\\ZJY\\AppData\\Local\\Temp\\ipykernel_54248\\1821489909.py:8: FutureWarning: The 'delim_whitespace' keyword in pd.read_csv is deprecated and will be removed in a future version. Use ``sep='\\s+'`` instead\n",
      "  basin_wb_mon = pd.read_csv(file,delim_whitespace=True, skiprows=3, header=None)\n",
      "C:\\Users\\ZJY\\AppData\\Local\\Temp\\ipykernel_54248\\1821489909.py:8: FutureWarning: The 'delim_whitespace' keyword in pd.read_csv is deprecated and will be removed in a future version. Use ``sep='\\s+'`` instead\n",
      "  basin_wb_mon = pd.read_csv(file,delim_whitespace=True, skiprows=3, header=None)\n",
      "C:\\Users\\ZJY\\AppData\\Local\\Temp\\ipykernel_54248\\1821489909.py:8: FutureWarning: The 'delim_whitespace' keyword in pd.read_csv is deprecated and will be removed in a future version. Use ``sep='\\s+'`` instead\n",
      "  basin_wb_mon = pd.read_csv(file,delim_whitespace=True, skiprows=3, header=None)\n"
     ]
    }
   ],
   "source": [
    "files = [\n",
    "    'D:/WorkSpace/QGIS/QSWATPlus/YellowRiverTNH2024/Scenarios/sim1972_2019/YellowRiverTNH_Sim1972_2019-spt/scenarios/Toolbox/Calibration/basin_wb_mon.txt',\n",
    "    'D:/WorkSpace/QGIS/QSWATPlus/YellowRiverXH20240912/Scenarios/historcalmeteforguide/HistoricalMeteGuide-spt/scenarios/Toolbox/Calibration/basin_wb_mon.txt',\n",
    "    'D:/WorkSpace/QGIS/QSWATPlus/YellowRiverXH20240912/Scenarios/historicalmeteforxunhua/historicalmeteforxunhua-spt/scenarios/Toolbox/Calibration/basin_wb_mon.txt'\n",
    "]\n",
    "for hydro_station,file in zip(hydro_stations,files):\n",
    "    hydro_station_abbr = hydrostation_abbrs[hydro_station]\n",
    "    basin_wb_mon = pd.read_csv(file,delim_whitespace=True, skiprows=3, header=None)\n",
    "    basin_wb_mon.columns=['jday','mon','day','yr','unit','gis_id','name',\n",
    "                  'precip(mm)','snofall(mm)','snomlt(mm)','surq_gen(mm)','latq(mm)','wateryld(mm)','perc(mm)',\n",
    "                  'et(mm)','ecanopy(mm)','eplant(mm)','esoil(mm)','surq_cont(mm)',\n",
    "                  'cn','sw_init(mm)','sw_final(mm)','sw_ave(mm)','sw_300(mm)',\n",
    "                  'sno_init(mm)','sno_final(mm)','snopack(mm)',\n",
    "                  'pet(mm)','qtile(mm)','irr(mm)','surq_runon(mm)','latq_runon(mm)',\n",
    "                  'overbank(mm)','surq_cha(mm)','surq_res(mm)','surq_ls(mm)',\n",
    "                  'latq_cha(mm)','latq_res(mm)','latq_ls(mm)','gwsoilq(mm)',\n",
    "                  'satex(mm)','satex_chan(mm)','sw_change(mm)','lagsurf(mm)',\n",
    "                  'laglatq(mm)','lagsatex(mm)','wet_evap(mm)','wet_oflo(mm)','wet_stor(mm)']\n",
    "    basin_wb_mon['mon'] = basin_wb_mon['mon'].apply(lambda x: f'{x:02d}')\n",
    "    # 合并年份和月份列，中间加 '-'\n",
    "    basin_wb_mon.insert(0,'date',basin_wb_mon['yr'].astype(str) + '-' + basin_wb_mon['mon']+'-01')\n",
    "    basin_wb_mon.loc[basin_wb_mon['name'] == f'Yellow_River_{hydro_station}', 'name'] = f'YellowRiver{hydro_station}'\n",
    "    basin_wb_mon = basin_wb_mon.drop(columns=['jday','unit','gis_id'])\n",
    "    basin_wb_mon.to_csv(f'../result/SWATPlusCalValSimData//YellowRiver{hydro_station_abbr}_BasinWaterBalance_1972_2019.csv',index=False)"
   ]
  }
 ],
 "metadata": {
  "kernelspec": {
   "display_name": "pyTorch",
   "language": "python",
   "name": "python3"
  },
  "language_info": {
   "codemirror_mode": {
    "name": "ipython",
    "version": 3
   },
   "file_extension": ".py",
   "mimetype": "text/x-python",
   "name": "python",
   "nbconvert_exporter": "python",
   "pygments_lexer": "ipython3",
   "version": "3.12.7"
  }
 },
 "nbformat": 4,
 "nbformat_minor": 2
}
