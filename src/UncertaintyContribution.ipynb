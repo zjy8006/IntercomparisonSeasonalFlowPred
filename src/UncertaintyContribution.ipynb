{
 "cells": [
  {
   "cell_type": "code",
   "execution_count": 2,
   "metadata": {},
   "outputs": [],
   "source": [
    "import pandas as pd\n",
    "import numpy as np\n",
    "import matplotlib.pyplot as plt\n",
    "import seaborn as sns\n",
    "plt.rcParams.update({'font.size': 8, 'lines.linewidth': 1})\n",
    "hydro_stations = [\n",
    "    'Tangnaihai', \n",
    "    'Guide', \n",
    "    'Xunhua']\n",
    "hydrostation_abbrs = {'Tangnaihai':'TNH','Guide':'GD','Xunhua':'XH'}\n",
    "hydrostation_channel = {'Tangnaihai':'3','Guide':'14','Xunhua':'9'}\n"
   ]
  },
  {
   "cell_type": "code",
   "execution_count": 3,
   "metadata": {},
   "outputs": [
    {
     "name": "stdout",
     "output_type": "stream",
     "text": [
      "470247.50666478765 381698.6689592334 356953.3664009 357662.3164008999 456376.7981370111 437901.1256675666\n",
      "473922.7704868828 306478.2803646799 306683.38336745766 311805.89386745763 484959.8283230132 418818.3920563465\n",
      "484124.762247363 335699.3703064499 335965.7171397832 340180.5198147831 492956.37658422755 464311.47193978314\n"
     ]
    }
   ],
   "source": [
    "for hydro_station in hydro_stations:\n",
    "    channel = hydrostation_channel[hydro_station]\n",
    "    obs = pd.read_csv(f'../data/{hydro_station}_natural_monthly_flow.csv',index_col=['date'],parse_dates=['date'])\n",
    "    obs = obs.loc['2015-01-01':'2019-12-31']\n",
    "    \n",
    "    swatplus_sim = pd.read_csv(f'../result/SWATPlusCalValSimData/Channel_{channel}_Monthly_River-Flow_{hydro_station}_Sim1972_2019.csv',index_col=['Date'],parse_dates=['Date'])\n",
    "    swatplus_ssp126 = pd.read_csv(f'../result/SWATPlusPredUsingClimatePatternData/{hydro_station}_SWATPlus_pred_obs_ssp126_2015_2019.csv',index_col=['date'],parse_dates=['date'])\n",
    "    swatplus_ssp245 = pd.read_csv(f'../result/SWATPlusPredUsingClimatePatternData/{hydro_station}_SWATPlus_pred_obs_ssp245_2015_2019.csv',index_col=['date'],parse_dates=['date'])\n",
    "    swatplus_ssp585 = pd.read_csv(f'../result/SWATPlusPredUsingClimatePatternData/{hydro_station}_SWATPlus_pred_obs_ssp585_2015_2019.csv',index_col=['date'],parse_dates=['date'])\n",
    "    \n",
    "    swatplus_hydrosim = pd.read_csv(f'../result/SWATPlusPredUsingHydroSimYearData/{hydro_station}_SWATPlus_pred_obs_2015_2019.csv',index_col=['date'],parse_dates=['date'])\n",
    "    swatplus_metesim = pd.read_csv(f'../result/SWATPlusPredUsingMeteSimYearData/{hydro_station}_SWATPlus_pred_obs_2015_2019.csv',index_col=['date'],parse_dates=['date'])\n",
    "    sim_error = swatplus_sim['Value'].values - obs.values\n",
    "    sim_error_var = np.var(sim_error)\n",
    "    \n",
    "    ssp126_error = swatplus_ssp126['pred'].values - obs.values\n",
    "    ssp126_error_var = np.var(ssp126_error)\n",
    "    \n",
    "    ssp245_error = swatplus_ssp245['pred'].values - obs.values\n",
    "    ssp245_error_var = np.var(ssp245_error)\n",
    "    \n",
    "    ssp585_error = swatplus_ssp585['pred'].values - obs.values\n",
    "    ssp585_error_var = np.var(ssp585_error)\n",
    "\n",
    "    hydrosim_error = swatplus_hydrosim['pred'].values - obs.values\n",
    "    hydrosim_error_var = np.var(hydrosim_error)\n",
    "    \n",
    "    metesim_error = swatplus_metesim['pred'].values - obs.values\n",
    "    metesim_error_var = np.var(metesim_error)\n",
    "\n",
    "    print(sim_error_var,ssp126_error_var,ssp245_error_var,ssp585_error_var,hydrosim_error_var,metesim_error_var)\n",
    "\n",
    "    \n"
   ]
  }
 ],
 "metadata": {
  "kernelspec": {
   "display_name": "pyTorch",
   "language": "python",
   "name": "python3"
  },
  "language_info": {
   "codemirror_mode": {
    "name": "ipython",
    "version": 3
   },
   "file_extension": ".py",
   "mimetype": "text/x-python",
   "name": "python",
   "nbconvert_exporter": "python",
   "pygments_lexer": "ipython3",
   "version": "3.12.7"
  }
 },
 "nbformat": 4,
 "nbformat_minor": 2
}
